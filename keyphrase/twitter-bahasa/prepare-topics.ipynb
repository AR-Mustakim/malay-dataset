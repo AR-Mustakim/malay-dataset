{
 "cells": [
  {
   "cell_type": "code",
   "execution_count": 1,
   "id": "quarterly-uniform",
   "metadata": {},
   "outputs": [],
   "source": [
    "with open('topics', 'r') as fopen:\n",
    "    topic = list(filter(None, fopen.read().split('\\n')))"
   ]
  },
  {
   "cell_type": "code",
   "execution_count": 2,
   "id": "selected-eligibility",
   "metadata": {},
   "outputs": [],
   "source": [
    "topic_dict = {}\n",
    "for i in range(len(topic)):\n",
    "    splitted = topic[i].split(':')\n",
    "    uniques = list(\n",
    "        filter(\n",
    "            None,\n",
    "            (\n",
    "                set(\n",
    "                    [k.strip().lower() for k in splitted[1].split(', ')]\n",
    "                    + [splitted[0].lower()]\n",
    "                )\n",
    "            ),\n",
    "        )\n",
    "    )\n",
    "    topic_dict[splitted[0]] = uniques"
   ]
  },
  {
   "cell_type": "code",
   "execution_count": 3,
   "id": "published-experience",
   "metadata": {},
   "outputs": [
    {
     "data": {
      "text/plain": [
       "949"
      ]
     },
     "execution_count": 3,
     "metadata": {},
     "output_type": "execute_result"
    }
   ],
   "source": [
    "len(topic_dict)"
   ]
  },
  {
   "cell_type": "code",
   "execution_count": 4,
   "id": "auburn-professional",
   "metadata": {},
   "outputs": [],
   "source": [
    "from stopwords import stopwords\n",
    "import re\n",
    "\n",
    "def apply_stopwords_calon(string):\n",
    "    string = re.sub('[^A-Za-z0-9 ]+', ' ', string)\n",
    "    string = re.sub(r'[ ]+', ' ', string).strip()\n",
    "    return ' '.join(\n",
    "        [i for i in string.split() if i not in stopwords and len(i) > 1]\n",
    "    )"
   ]
  },
  {
   "cell_type": "code",
   "execution_count": 5,
   "id": "integrated-trace",
   "metadata": {},
   "outputs": [],
   "source": [
    "import pandas as pd\n",
    "\n",
    "df = pd.read_csv('calon.csv')\n",
    "namacalon = df.NamaCalon.str.title().unique().tolist()\n",
    "namacalon = list(filter(None, namacalon))\n",
    "namacalons = {}\n",
    "for i in range(len(namacalon)):\n",
    "    s = namacalon[i].strip()\n",
    "    if len(s.split()) < 3:\n",
    "        continue\n",
    "    namacalons[s] = [apply_stopwords_calon(namacalon[i].lower()), s]\n",
    "namacalon = list(set(namacalon))"
   ]
  },
  {
   "cell_type": "code",
   "execution_count": 6,
   "id": "chicken-adaptation",
   "metadata": {},
   "outputs": [
    {
     "data": {
      "text/plain": [
       "2059"
      ]
     },
     "execution_count": 6,
     "metadata": {},
     "output_type": "execute_result"
    }
   ],
   "source": [
    "len(namacalons)"
   ]
  },
  {
   "cell_type": "code",
   "execution_count": 7,
   "id": "irish-processor",
   "metadata": {},
   "outputs": [],
   "source": [
    "import json\n",
    "\n",
    "with open('topics.json', 'w') as fopen:\n",
    "    json.dump(topic_dict, fopen)\n",
    "    \n",
    "with open('namacalons.json', 'w') as fopen:\n",
    "    json.dump(namacalons, fopen)"
   ]
  }
 ],
 "metadata": {
  "kernelspec": {
   "display_name": "Python 3",
   "language": "python",
   "name": "python3"
  },
  "language_info": {
   "codemirror_mode": {
    "name": "ipython",
    "version": 3
   },
   "file_extension": ".py",
   "mimetype": "text/x-python",
   "name": "python",
   "nbconvert_exporter": "python",
   "pygments_lexer": "ipython3",
   "version": "3.7.7"
  }
 },
 "nbformat": 4,
 "nbformat_minor": 5
}
