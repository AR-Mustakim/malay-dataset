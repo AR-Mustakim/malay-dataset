{
 "cells": [
  {
   "cell_type": "code",
   "execution_count": null,
   "metadata": {},
   "outputs": [],
   "source": [
    "import sys\n",
    "import warnings\n",
    "\n",
    "if not sys.warnoptions:\n",
    "    warnings.simplefilter('ignore')"
   ]
  },
  {
   "cell_type": "code",
   "execution_count": null,
   "metadata": {},
   "outputs": [],
   "source": [
    "# !wget https://raw.githubusercontent.com/huseinzol05/Malaya-Dataset/master/200k-english-malay/200k-english-malay.json"
   ]
  },
  {
   "cell_type": "code",
   "execution_count": null,
   "metadata": {},
   "outputs": [],
   "source": [
    "import json\n",
    "with open('200k-english-malay.json') as fopen:\n",
    "    english_malay = json.load(fopen)\n",
    "\n",
    "malay = [i[1] for i in english_malay if i[0] != i[1] and len(i[1]) < 15]\n",
    "len(malay)"
   ]
  },
  {
   "cell_type": "code",
   "execution_count": null,
   "metadata": {},
   "outputs": [],
   "source": [
    "malay[:10]"
   ]
  },
  {
   "cell_type": "code",
   "execution_count": null,
   "metadata": {},
   "outputs": [],
   "source": [
    "import requests\n",
    "import imgkit\n",
    "from scipy.misc import imread, imsave\n",
    "from tqdm import tqdm\n",
    "import threading\n",
    "from queue import Queue"
   ]
  },
  {
   "cell_type": "code",
   "execution_count": null,
   "metadata": {},
   "outputs": [],
   "source": [
    "def save_image(word):\n",
    "    payload = {'phonText':word}\n",
    "    r = requests.post('http://www.ejawi.net/result.php',data=payload)\n",
    "    r = r._content.decode().replace('font face=\"ArialJawi\" size=\"5\"', \n",
    "                                    'font face=\"ArialJawi\" size=\"5\" style=\"font-size:100;padding-right:50px\"')\n",
    "    with open('cache/%s.html'%(word),'w') as f:\n",
    "        f.write(r)\n",
    "    imgkit.from_file('cache/%s.html'%(word), 'cache/%s.jpg'%(word), options = {\"xvfb\": \"\",\"quiet\": \"\"})\n",
    "    img = imread('cache/%s.jpg'%(word))\n",
    "    img = img[:, img.shape[1] // 4:]\n",
    "    imsave('1.png',img)\n",
    "    imsave('words/%s.png'%(word), img)\n",
    "    return 'Done'\n",
    "    \n",
    "def run_parallel_in_threads(args_list, target = save_image):\n",
    "    globalparas = []\n",
    "    result = Queue()\n",
    "\n",
    "    def task_wrapper(*args):\n",
    "        result.put(target(*args))\n",
    "\n",
    "    threads = [\n",
    "        threading.Thread(target = task_wrapper, args = args)\n",
    "        for args in args_list\n",
    "    ]\n",
    "    for t in threads:\n",
    "        t.start()\n",
    "    for t in threads:\n",
    "        t.join()\n",
    "    while not result.empty():\n",
    "        globalparas.append(result.get())"
   ]
  },
  {
   "cell_type": "code",
   "execution_count": null,
   "metadata": {},
   "outputs": [],
   "source": [
    "batch_size = 10\n",
    "\n",
    "for no in tqdm(range(0, len(malay), batch_size)):\n",
    "    data = malay[no : no + batch_size]\n",
    "    combined = [\n",
    "        (data[i],) for i in range(len(data))\n",
    "    ]\n",
    "    run_parallel_in_threads(combined)"
   ]
  },
  {
   "cell_type": "code",
   "execution_count": null,
   "metadata": {},
   "outputs": [],
   "source": [
    "!tar -czvf jawi-rumi.tar.gz words"
   ]
  },
  {
   "cell_type": "code",
   "execution_count": null,
   "metadata": {},
   "outputs": [],
   "source": []
  }
 ],
 "metadata": {
  "kernelspec": {
   "display_name": "Python 3",
   "language": "python",
   "name": "python3"
  },
  "language_info": {
   "codemirror_mode": {
    "name": "ipython",
    "version": 3
   },
   "file_extension": ".py",
   "mimetype": "text/x-python",
   "name": "python",
   "nbconvert_exporter": "python",
   "pygments_lexer": "ipython3",
   "version": "3.6.8"
  }
 },
 "nbformat": 4,
 "nbformat_minor": 2
}
