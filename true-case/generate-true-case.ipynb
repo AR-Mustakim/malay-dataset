{
 "cells": [
  {
   "cell_type": "code",
   "execution_count": 37,
   "metadata": {},
   "outputs": [],
   "source": [
    "with open('dumping-news.txt') as fopen:\n",
    "    data = fopen.read().split('\\n')"
   ]
  },
  {
   "cell_type": "code",
   "execution_count": 99,
   "metadata": {},
   "outputs": [],
   "source": [
    "import re\n",
    "import random\n",
    "\n",
    "punctuation = '!()&%{}[];:\\'\",./?\\\\<>'\n",
    "\n",
    "def remove_punc(string):\n",
    "    string = re.sub('[^A-Za-z0-9 ]+', ' ', string)\n",
    "    string = re.sub(r'[ ]+', ' ', string).strip()\n",
    "    return string\n",
    "\n",
    "def remove_punc_random(string, threshold = 0.3):\n",
    "    result = []\n",
    "    for c in string:\n",
    "        if c in punctuation and random.random() >= threshold:\n",
    "            continue\n",
    "            \n",
    "        result.append(c)\n",
    "    return ''.join(result)\n",
    "\n",
    "def add_punc_random(string, threshold = 0.7):\n",
    "    string = string.split()\n",
    "    for i in range(len(string)):\n",
    "        if random.random() >= threshold and string[i][-1] not in punctuation:\n",
    "            string[i] = string[i] + random.choice(punctuation)\n",
    "    return ' '.join(string)\n",
    "\n",
    "def add_space_after_punc(string, threshold = 0.3):\n",
    "    string = string.split()\n",
    "    for i in range(len(string)):\n",
    "        if random.random() >= threshold and string[i][-1] in punctuation:\n",
    "            string[i] = string[i][:-1] + ' ' + string[i][-1]\n",
    "    return ' '.join(string)\n",
    "\n",
    "def replace_random_punc(string):\n",
    "    string = string.split()\n",
    "    for i in range(len(string)):\n",
    "        if string[i][-1] in punctuation:\n",
    "            string[i] = string[i][:-1] + random.choice(punctuation)\n",
    "    return ' '.join(string)\n",
    "\n",
    "def random_upper(string, threshold = 0.5):\n",
    "    string = string.split()\n",
    "    for i in range(len(string)):\n",
    "        if random.random() >= threshold:\n",
    "            string[i] = string[i].upper()\n",
    "    return ' '.join(string)\n",
    "\n",
    "def random_title(string, threshold = 0.5):\n",
    "    string = string.split()\n",
    "    for i in range(len(string)):\n",
    "        if random.random() >= threshold:\n",
    "            string[i] = string[i].title()\n",
    "    return ' '.join(string)\n",
    "\n",
    "def random_char_upper(string, threshold = 0.7):\n",
    "    result = []\n",
    "    for c in string:\n",
    "        if random.random() >= threshold:\n",
    "            c = c.upper()\n",
    "        result.append(c)\n",
    "    return ''.join(result)\n",
    "\n",
    "funcs = [remove_punc, remove_punc_random, add_punc_random, add_space_after_punc, \n",
    "         random_upper, random_title, random_char_upper, replace_random_punc]\n",
    "\n",
    "chain_funcs = [remove_punc_random, add_punc_random, add_space_after_punc, \n",
    "         random_upper, random_title, random_char_upper, replace_random_punc]\n",
    "\n",
    "def package(string, repeat = 2, repeat_chain = 5, threshold = 0.5):\n",
    "    \n",
    "    result = [string]\n",
    "    result.append(string.lower())\n",
    "    result.append(string.upper())\n",
    "    result.append(string.title())\n",
    "    \n",
    "    for _ in range(repeat):\n",
    "    \n",
    "        for func in funcs:\n",
    "            result.append(func(string))\n",
    "\n",
    "        for func in funcs:\n",
    "            result.append(func(string.lower()))\n",
    "\n",
    "        for func in funcs:\n",
    "            result.append(func(string.upper()))\n",
    "\n",
    "        for func in funcs:\n",
    "            result.append(func(string.title()))\n",
    "    \n",
    "    for _ in range(repeat_chain):\n",
    "        s = string[:]\n",
    "        for func in chain_funcs:\n",
    "            if random.random() > threshold:\n",
    "                s = func(s)\n",
    "        result.append(s)\n",
    "        \n",
    "    result = list(set(result))\n",
    "        \n",
    "    return result"
   ]
  },
  {
   "cell_type": "code",
   "execution_count": 104,
   "metadata": {},
   "outputs": [
    {
     "data": {
      "text/plain": [
       "49"
      ]
     },
     "execution_count": 104,
     "metadata": {},
     "output_type": "execute_result"
    }
   ],
   "source": [
    "len(package(data[0]))"
   ]
  },
  {
   "cell_type": "code",
   "execution_count": 55,
   "metadata": {},
   "outputs": [
    {
     "data": {
      "text/plain": [
       "'KUALA LUMPUR - MenteRi Di Jabatan PErdaNa MEnTeri, DaTuk Seri Dr Mujahid YUsof Rawa HAri ini MengaKhiri lAwataN kERja lApaN HarI kE JordAn, TUrki dan BosNiA Herzegovina, lAwAtan yaNg BerTUJUAN menGEratkAn LaGi huBungAn Dua haLa DEngAN KEtIGA-tIga NEgaRa berKeNAan.'"
      ]
     },
     "execution_count": 55,
     "metadata": {},
     "output_type": "execute_result"
    }
   ],
   "source": [
    "random_char_upper(data[9])"
   ]
  },
  {
   "cell_type": "code",
   "execution_count": 40,
   "metadata": {},
   "outputs": [
    {
     "data": {
      "text/plain": [
       "'kuala lumpur - menteri di jabatan perdana menteri, datuk seri dr mujahid yusof rawa hari ini mengakhiri lawatan kerja lapan hari ke jordan, turki dan bosnia herzegovina, lawatan yang bertujuan mengeratkan lagi hubungan dua hala dengan ketiga-tiga negara berkenaan.'"
      ]
     },
     "execution_count": 40,
     "metadata": {},
     "output_type": "execute_result"
    }
   ],
   "source": [
    "data[9].lower()"
   ]
  },
  {
   "cell_type": "code",
   "execution_count": 39,
   "metadata": {},
   "outputs": [
    {
     "data": {
      "text/plain": [
       "'KUALA LUMPUR - Menteri di Jabatan Perdana Menteri , Datuk Seri Dr Mujahid Yusof Rawa hari ini mengakhiri lawatan kerja lapan hari ke Jordan , Turki dan Bosnia Herzegovina , lawatan yang bertujuan mengeratkan lagi hubungan dua hala dengan ketiga-tiga negara berkenaan .'"
      ]
     },
     "execution_count": 39,
     "metadata": {},
     "output_type": "execute_result"
    }
   ],
   "source": [
    "add_space_after_punc(data[9])"
   ]
  },
  {
   "cell_type": "code",
   "execution_count": 30,
   "metadata": {},
   "outputs": [
    {
     "data": {
      "text/plain": [
       "'KUALA LUMPUR - Menteri di Jabatan Perdana Menteri, Datuk Seri Dr Mujahid Yusof Rawa\" hari ini mengakhiri lawatan\" kerja lapan hari ke Jordan, Turki dan Bosnia Herzegovina, lawatan yang; bertujuan mengeratkan lagi hubungan dua hala dengan ketiga-tiga] negara} berkenaan.'"
      ]
     },
     "execution_count": 30,
     "metadata": {},
     "output_type": "execute_result"
    }
   ],
   "source": [
    "add_punc_random(data[9])"
   ]
  },
  {
   "cell_type": "code",
   "execution_count": 22,
   "metadata": {},
   "outputs": [
    {
     "data": {
      "text/plain": [
       "'Beliau mengambil nama gelaran Alexandre Pato Alex sang Itik sempena nama tempat kelahirannya'"
      ]
     },
     "execution_count": 22,
     "metadata": {},
     "output_type": "execute_result"
    }
   ],
   "source": [
    "remove_punc(data[9])"
   ]
  },
  {
   "cell_type": "code",
   "execution_count": 23,
   "metadata": {},
   "outputs": [
    {
     "data": {
      "text/plain": [
       "'Beliau mengambil nama gelaran Alexandre Pato Alex sang Itik\" sempena nama tempat kelahirannya'"
      ]
     },
     "execution_count": 23,
     "metadata": {},
     "output_type": "execute_result"
    }
   ],
   "source": [
    "remove_punc_random(data[9])"
   ]
  },
  {
   "cell_type": "code",
   "execution_count": 105,
   "metadata": {},
   "outputs": [],
   "source": [
    "results, result = [], []\n",
    "for i in data:\n",
    "    if len(i) and i[-1] != '.':\n",
    "        i = i + '.'\n",
    "    if not len(i) and len(result):\n",
    "        results.append(result)\n",
    "        result = []\n",
    "    else:\n",
    "        result.append(i)\n",
    "        \n",
    "if len(result):\n",
    "    results.append(result)"
   ]
  },
  {
   "cell_type": "code",
   "execution_count": 106,
   "metadata": {},
   "outputs": [],
   "source": [
    "def slide(strings, n = 2):\n",
    "    result = []\n",
    "    for i in range(0, len(strings)):\n",
    "        result.append(strings[i: i + n])\n",
    "    return result"
   ]
  },
  {
   "cell_type": "code",
   "execution_count": 107,
   "metadata": {},
   "outputs": [],
   "source": [
    "s = slide(results[0], 3)"
   ]
  },
  {
   "cell_type": "code",
   "execution_count": 110,
   "metadata": {},
   "outputs": [
    {
     "data": {
      "text/plain": [
       "['LAWATAN Putera Mahkota ARAB SAUDI bincang PELABURAN, ekonomi. KUALA LUMPUR: Lawatan PUTERA Mahkota ARAB Saudi, MOHAMMED bin SALMAN KE MALAYSIA PADA Ahad INI terarah KEPADA pertemuan bagi MEMBINCANGKAN isu EKONOMI DAN pelaburan ANTARA kedua-dua NEGARA. MENTERI Luar, DATUK Saifuddin Abdullah, BERKATA tujuan LAWATAN KERABAT diraja ARAB SAUDI ITU akan diperjelaskan OLEH Kementerian HAL EHWAL Ekonomi.',\n",
       " 'lawatan putera mahkota arab saudi bincang pelaburan, ekonomi kuala lumpur: lawatan putera mahkota arab saudi mohammed bin salman ke malaysia pada ahad ini terarah kepada pertemuan bagi membincangkan isu ekonomi dan pelaburan antara kedua-dua negara menteri luar datuk saifuddin abdullah berkata tujuan lawatan kerabat diraja arab saudi itu akan diperjelaskan oleh kementerian hal ehwal ekonomi',\n",
       " 'lawatan! putera< mahkota arab} saudi> bincang pelaburan, ekonomi. kuala lumpur: lawatan putera mahkota, arab saudi, mohammed bin salman ke malaysia pada\" ahad[ ini terarah kepada pertemuan bagi\\\\ membincangkan isu ekonomi dan pelaburan antara. kedua-dua negara. menteri luar, datuk saifuddin abdullah, berkata tujuan> lawatan kerabat diraja\" arab saudi! itu; akan% diperjelaskan oleh kementerian hal] ehwal ekonomi.',\n",
       " \"Lawatan Putera Mahkota Arab Saudi bincang pelaburan; ekonomi; KUALA LUMPUR( Lawatan Putera Mahkota Arab Saudi' Mohammed bin Salman ke Malaysia pada Ahad ini terarah kepada pertemuan bagi membincangkan isu ekonomi dan pelaburan antara kedua-dua negara] Menteri Luar; Datuk Saifuddin Abdullah? berkata tujuan lawatan kerabat diraja Arab Saudi itu akan diperjelaskan oleh Kementerian Hal Ehwal Ekonomi)\",\n",
       " 'Lawatan Putera Mahkota Arab Saudi bincang pelaburan , ekonomi. KUALA LUMPUR: Lawatan Putera Mahkota Arab Saudi, Mohammed bin Salman ke Malaysia pada Ahad ini terarah kepada pertemuan bagi membincangkan isu ekonomi dan pelaburan antara kedua-dua negara. Menteri Luar , Datuk Saifuddin Abdullah, berkata tujuan lawatan kerabat diraja Arab Saudi itu akan diperjelaskan oleh Kementerian Hal Ehwal Ekonomi.',\n",
       " 'lawatan putera mahkota arab saudi bincang pelaburan ekonomi kuala lumpur lawatan putera mahkota arab saudi mohammed bin salman ke malaysia pada ahad ini terarah kepada pertemuan bagi membincangkan isu ekonomi dan pelaburan antara kedua dua negara menteri luar datuk saifuddin abdullah berkata tujuan lawatan kerabat diraja arab saudi itu akan diperjelaskan oleh kementerian hal ehwal ekonomi',\n",
       " 'Lawatan Putera Mahkota Arab Saudi bincang pelaburan& ekonomi( KUALA LUMPUR[ Lawatan Putera Mahkota Arab Saudi] Mohammed bin Salman ke Malaysia pada Ahad ini terarah kepada pertemuan bagi membincangkan isu ekonomi dan pelaburan antara kedua-dua negara& Menteri Luar/ Datuk Saifuddin Abdullah& berkata tujuan lawatan kerabat diraja Arab Saudi itu akan diperjelaskan oleh Kementerian Hal Ehwal Ekonomi%',\n",
       " 'Lawatan Putera Mahkota Arab Saudi Bincang Pelaburan Ekonomi Kuala Lumpur: Lawatan Putera Mahkota Arab Saudi, Mohammed Bin Salman Ke Malaysia Pada Ahad Ini Terarah Kepada Pertemuan Bagi Membincangkan Isu Ekonomi Dan Pelaburan Antara Kedua-Dua Negara Menteri Luar Datuk Saifuddin Abdullah Berkata Tujuan Lawatan Kerabat Diraja Arab Saudi Itu Akan Diperjelaskan Oleh Kementerian Hal Ehwal Ekonomi',\n",
       " 'lawatan putera mahkota arab saudi bincang PELABURAN, EKONOMI. KUALA lumpur: LAWATAN putera MAHKOTA ARAB saudi, mohammed BIN salman KE malaysia pada AHAD ini terarah KEPADA PERTEMUAN BAGI membincangkan isu EKONOMI DAN PELABURAN antara KEDUA-DUA NEGARA. menteri luar, datuk SAIFUDDIN abdullah, BERKATA tujuan LAWATAN KERABAT diraja ARAB SAUDI ITU akan DIPERJELASKAN OLEH KEMENTERIAN hal EHWAL ekonomi.',\n",
       " 'Lawatan Putera Mahkota ARab SAudi BinCang pelabuRaN EKonomi KUALA LUMPUR LaWAtAn PUtera MahKotA ARAB Saudi MoHAmMEd bIN SalmAN KE MAlAySia Pada AhAD iNI TEraraH KePaDa perteMuan BaGi membinCaNgkaN Isu EKonomi Dan pelabuRaN AntaRa kedua-duA nEgaRa ! MenTeri LUar[ DatuK SaifuDDIn AbDUllah BeRKata tujuAN LAwatAn KerabaT DIraJA Arab SAudI itU AKan DipeRjElasKan OlEh KemeNteriaN HAl EhwAL EkOnomi )',\n",
       " 'Lawatan Putera Mahkota Arab Saudi bincang pelaburan ekonomi KUALA LUMPUR Lawatan Putera Mahkota Arab Saudi Mohammed bin Salman ke Malaysia pada Ahad ini terarah kepada pertemuan bagi membincangkan isu ekonomi dan pelaburan antara kedua dua negara Menteri Luar Datuk Saifuddin Abdullah berkata tujuan lawatan kerabat diraja Arab Saudi itu akan diperjelaskan oleh Kementerian Hal Ehwal Ekonomi',\n",
       " \"lawatan putera mahkota arab saudi bincang pelaburan& ekonomi( kuala lumpur' lawatan putera mahkota arab saudi! mohammed bin salman ke malaysia pada ahad ini terarah kepada pertemuan bagi membincangkan isu ekonomi dan pelaburan antara kedua-dua negara) menteri luar[ datuk saifuddin abdullah& berkata tujuan lawatan kerabat diraja arab saudi itu akan diperjelaskan oleh kementerian hal ehwal ekonomi<\",\n",
       " 'LAWATAN PUTERA Mahkota ARAB Saudi BINCANG Pelaburan, EKONOMI. KUALA LUMPUR: Lawatan PUTERA Mahkota Arab SAUDI, Mohammed Bin Salman Ke MALAYSIA Pada AHAD Ini Terarah Kepada PERTEMUAN BAGI MEMBINCANGKAN ISU Ekonomi Dan PELABURAN ANTARA KEDUA-DUA NEGARA. Menteri Luar, DATUK Saifuddin Abdullah, BERKATA TUJUAN LAWATAN KERABAT DIRAJA ARAB Saudi Itu AKAN DIPERJELASKAN Oleh Kementerian Hal EHWAL Ekonomi.',\n",
       " 'LAWATAN PUTERA MAHKOTA ARAB SAUDI BINCANG PELABURAN , EKONOMI . KUALA LUMPUR : LAWATAN PUTERA MAHKOTA ARAB SAUDI, MOHAMMED BIN SALMAN KE MALAYSIA PADA AHAD INI TERARAH KEPADA PERTEMUAN BAGI MEMBINCANGKAN ISU EKONOMI DAN PELABURAN ANTARA KEDUA-DUA NEGARA. MENTERI LUAR , DATUK SAIFUDDIN ABDULLAH , BERKATA TUJUAN LAWATAN KERABAT DIRAJA ARAB SAUDI ITU AKAN DIPERJELASKAN OLEH KEMENTERIAN HAL EHWAL EKONOMI .',\n",
       " 'Lawatan Putera Mahkota Arab Saudi Bincang Pelaburan, Ekonomi. Kuala Lumpur: Lawatan Putera Mahkota Arab Saudi, Mohammed Bin Salman Ke Malaysia Pada Ahad Ini Terarah Kepada Pertemuan Bagi Membincangkan Isu Ekonomi Dan Pelaburan Antara Kedua-Dua Negara. Menteri Luar, Datuk Saifuddin Abdullah, Berkata Tujuan Lawatan Kerabat Diraja Arab Saudi Itu Akan Diperjelaskan Oleh Kementerian Hal Ehwal Ekonomi.',\n",
       " 'lawatan putera mahkota arab saudi bincang pelaburan, ekonomi. kuala lumpur: lawatan putera mahkota arab saudi, mohammed bin salman ke malaysia pada ahad ini terarah kepada pertemuan bagi membincangkan isu ekonomi dan pelaburan antara kedua-dua negara. menteri luar, datuk saifuddin abdullah, berkata tujuan lawatan kerabat diraja arab saudi itu akan diperjelaskan oleh kementerian hal ehwal ekonomi.',\n",
       " 'Lawatan Putera Mahkota Arab Saudi Bincang pelaburan, ekonomi. Kuala LUMPUR: Lawatan Putera Mahkota Arab Saudi, Mohammed Bin Salman Ke Malaysia Pada Ahad ini terarah kepada pertemuan bagi Membincangkan isu Ekonomi Dan Pelaburan antara Kedua-Dua Negara. Menteri Luar, Datuk Saifuddin Abdullah, Berkata Tujuan lawatan kerabat Diraja Arab Saudi itu Akan Diperjelaskan oleh Kementerian Hal Ehwal Ekonomi.',\n",
       " 'LawataN Putera MAhkotA Arab Saudi BINcanG PElAbUraN, EkonoMi. Kuala LumpUr: LaWATAN PuTeRa MaHkoTa ARAb Saudi, MohammeD BiN SaLMan KE MalAYsia PAdA Ahad InI TeRarAh KepaDA PErTemuan BAgi MEmbinCAnGkan ISu EkonOmI Dan PeLaBUran AntArA KEDUa-DUa NegarA. MeNtEri Luar, DatUk SaiFUddin AbDuLLah, BeRkAta TujuAn LawaTaN KERaBat Diraja Arab SaUdi Itu AkAn DIpeRJelAskan Oleh KEmenTERian Hal EhWal Ekonomi.',\n",
       " 'Lawatan Putera Mahkota Arab Saudi bincang pelaburan, Ekonomi. Kuala LUMPUR: Lawatan Putera Mahkota Arab Saudi, Mohammed Bin Salman ke Malaysia pada Ahad ini Terarah kepada pertemuan Bagi Membincangkan isu ekonomi dan Pelaburan antara kedua-dua negara. Menteri Luar, Datuk Saifuddin Abdullah, Berkata Tujuan Lawatan Kerabat diraja Arab Saudi Itu akan diperjelaskan oleh Kementerian Hal Ehwal Ekonomi.',\n",
       " 'Lawatan Putera Mahkota Arab Saudi bincang pelaburan ekonomi. KUALA LUMPUR: Lawatan Putera Mahkota Arab Saudi Mohammed bin Salman ke Malaysia pada Ahad ini terarah kepada pertemuan bagi membincangkan isu ekonomi dan pelaburan antara kedua-dua negara. Menteri Luar, Datuk Saifuddin Abdullah, berkata tujuan lawatan kerabat diraja Arab Saudi itu akan diperjelaskan oleh Kementerian Hal Ehwal Ekonomi',\n",
       " 'LAWATAN PUTERA MAHKOTA ARAB SAUDI BINCANG PELABURAN EKONOMI KUALA LUMPUR LAWATAN PUTERA MAHKOTA ARAB SAUDI MOHAMMED BIN SALMAN KE MALAYSIA PADA AHAD INI TERARAH KEPADA PERTEMUAN BAGI MEMBINCANGKAN ISU EKONOMI DAN PELABURAN ANTARA KEDUA DUA NEGARA MENTERI LUAR DATUK SAIFUDDIN ABDULLAH BERKATA TUJUAN LAWATAN KERABAT DIRAJA ARAB SAUDI ITU AKAN DIPERJELASKAN OLEH KEMENTERIAN HAL EHWAL EKONOMI',\n",
       " 'LAWATAN PUTERA MAHKOTA ARAB SAUDI BINCANG PELABURAN EKONOMI KUALA LUMPUR LAWATAN PUTERA MAHKOTA ARAB SAUDI MOHAMMED BIN SALMAN KE MALAYSIA PADA AHAD INI TERARAH KEPADA PERTEMUAN BAGI MEMBINCANGKAN ISU EKONOMI DAN PELABURAN ANTARA KEDUA-DUA NEGARA MENTERI LUAR DATUK SAIFUDDIN ABDULLAH BERKATA TUJUAN LAWATAN KERABAT DIRAJA ARAB SAUDI ITU AKAN DIPERJELASKAN OLEH KEMENTERIAN HAL EHWAL EKONOMI',\n",
       " 'lawatan putera mahkota arab SAUDI bincang PELABURAN, EKONOMI. kuala LUMPUR: lawatan putera MAHKOTA ARAB SAUDI, mohammed BIN salman KE malaysia pada ahad ini TERARAH kepada PERTEMUAN bagi MEMBINCANGKAN ISU EKONOMI DAN pelaburan ANTARA KEDUA-DUA NEGARA. menteri LUAR, DATUK SAIFUDDIN ABDULLAH, berkata TUJUAN LAWATAN kerabat diraja ARAB saudi ITU AKAN DIPERJELASKAN oleh KEMENTERIAN HAL EHWAL ekonomi.',\n",
       " 'Lawatan Putera Mahkota Arab Saudi bincang pelaburan, ekonomi. KUALA LUMPUR Lawatan Putera Mahkota Arab Saudi Mohammed bin Salman ke Malaysia pada Ahad ini terarah kepada pertemuan bagi membincangkan isu ekonomi dan pelaburan antara kedua-dua negara Menteri Luar Datuk Saifuddin Abdullah berkata tujuan lawatan kerabat diraja Arab Saudi itu akan diperjelaskan oleh Kementerian Hal Ehwal Ekonomi',\n",
       " 'Lawatan Putera Mahkota Arab Saudi, bincang pelaburan, ekonomi. KUALA. LUMPUR: Lawatan> Putera Mahkota Arab Saudi, Mohammed bin> Salman ke Malaysia pada& Ahad ini terarah. kepada: pertemuan bagi membincangkan isu ekonomi dan pelaburan antara kedua-dua negara. Menteri{ Luar, Datuk Saifuddin Abdullah, berkata tujuan/ lawatan} kerabat diraja Arab Saudi itu. akan diperjelaskan; oleh! Kementerian Hal] Ehwal Ekonomi.',\n",
       " 'lAwatAn pUtera MAhKota arab SaUdi biNcaNg pelaBUran, EkoNomI. Kuala lumpUr: LaWaTan putErA mAhkota ARaB sauDi, MOhaMmEd bin sAlMaN Ke MalAYsiA PaDA ahAd INi teraRah kepaDA PerTemuAn BaGI membincangkAN isu EKoNOmi dan pelaBuran AntARa kEdUa-dua Negara. menterI luar, datuK SAIfUDdIN abdullah, berkAtA tujuaN laWatan kerabaT dirAJa ARab sAudi iTu AkAn DiperjELasKan oLeh kemENterIan hal EHwAl eKONOmi.',\n",
       " 'LAWATAN PUTERA MAHKOTA ARAB SAUDI BINCANG; PELABURAN, EKONOMI. KUALA] LUMPUR: LAWATAN) PUTERA MAHKOTA ARAB> SAUDI, MOHAMMED BIN SALMAN: KE MALAYSIA& PADA( AHAD[ INI\\' TERARAH KEPADA PERTEMUAN BAGI& MEMBINCANGKAN. ISU} EKONOMI] DAN PELABURAN ANTARA KEDUA-DUA NEGARA. MENTERI) LUAR, DATUK SAIFUDDIN ABDULLAH, BERKATA TUJUAN LAWATAN KERABAT DIRAJA\\\\ ARAB SAUDI ITU AKAN DIPERJELASKAN\" OLEH< KEMENTERIAN HAL: EHWAL EKONOMI.',\n",
       " 'LAWATAN PUTERA MAHKOTA ARAB SAUDI BINCANG PELABURAN: EKONOMI! KUALA LUMPUR/ LAWATAN PUTERA MAHKOTA ARAB SAUDI) MOHAMMED BIN SALMAN KE MALAYSIA PADA AHAD INI TERARAH KEPADA PERTEMUAN BAGI MEMBINCANGKAN ISU EKONOMI DAN PELABURAN ANTARA KEDUA-DUA NEGARA] MENTERI LUAR& DATUK SAIFUDDIN ABDULLAH. BERKATA TUJUAN LAWATAN KERABAT DIRAJA ARAB SAUDI ITU AKAN DIPERJELASKAN OLEH KEMENTERIAN HAL EHWAL EKONOMI[',\n",
       " 'Lawatan Putera Mahkota Arab Saudi Bincang Pelaburan< Ekonomi\\' Kuala Lumpur; Lawatan Putera Mahkota Arab Saudi\" Mohammed Bin Salman Ke Malaysia Pada Ahad Ini Terarah Kepada Pertemuan Bagi Membincangkan Isu Ekonomi Dan Pelaburan Antara Kedua-Dua Negara\\\\ Menteri Luar( Datuk Saifuddin Abdullah] Berkata Tujuan Lawatan Kerabat Diraja Arab Saudi Itu Akan Diperjelaskan Oleh Kementerian Hal Ehwal Ekonomi%',\n",
       " 'Lawatan Putera MAHKOTA Arab SAUDI Bincang PELABURAN, Ekonomi. KUALA LUMPUR: LAWATAN PUTERA MAHKOTA Arab SAUDI, Mohammed Bin SALMAN KE Malaysia PADA Ahad Ini TERARAH KEPADA Pertemuan Bagi MEMBINCANGKAN Isu EKONOMI DAN PELABURAN ANTARA KEDUA-DUA NEGARA. Menteri LUAR, Datuk Saifuddin Abdullah, BERKATA Tujuan Lawatan Kerabat Diraja Arab SAUDI Itu AKAN DIPERJELASKAN Oleh Kementerian HAL EHWAL EKONOMI.',\n",
       " 'LAWaTan PutErA MAhKotA AraB SaUdi BIncang PelaBuRaN, EKoNomI. KUALA LUMPUR: LawaTan PUtera Mahkota Arab SauDI, MohaMMEd biN SAlman kE MalaysIa pada Ahad ini tERARah kepAda PeRteMuaN BAgi MEMBincaNgKan ISU ekonOmi DAN pElaburaN aNTaRa KedUa-duA neGara. MenterI LUaR, DatUK SaIFUDdin AbduLlaH, beRKata TujUAn Lawatan keraBat diraJa ArAb Saudi Itu AKAN dipErjelaskaN oleh KemEnTeriAn HAl EhwaL EkOnOmI.',\n",
       " 'Lawatan Putera Mahkota Arab Saudi Bincang Pelaburan[ Ekonomi? Kuala Lumpur; Lawatan Putera Mahkota Arab Saudi] Mohammed Bin Salman Ke Malaysia Pada Ahad Ini Terarah Kepada Pertemuan Bagi Membincangkan Isu Ekonomi Dan Pelaburan Antara Kedua-Dua Negara[ Menteri Luar: Datuk Saifuddin Abdullah& Berkata Tujuan Lawatan Kerabat Diraja Arab Saudi Itu Akan Diperjelaskan Oleh Kementerian Hal Ehwal Ekonomi\"',\n",
       " 'Lawatan Putera Mahkota Arab Saudi Bincang Pelaburan Ekonomi Kuala Lumpur Lawatan Putera Mahkota Arab Saudi Mohammed Bin Salman Ke Malaysia Pada Ahad Ini Terarah Kepada Pertemuan Bagi Membincangkan Isu Ekonomi Dan Pelaburan Antara Kedua Dua Negara Menteri Luar Datuk Saifuddin Abdullah Berkata Tujuan Lawatan Kerabat Diraja Arab Saudi Itu Akan Diperjelaskan Oleh Kementerian Hal Ehwal Ekonomi',\n",
       " 'LAWATan PutERa MAhkOTa Arab SaudI BiNcaNg PElaBuran, Ekonomi. KUala Lumpur: LawAtAN PuTera MahkOta ARab SAuDi, MoHammEd Bin SAlmaN Ke MAlaYsiA PadA AhaD InI TerarAH KepAda PeRtEMuAn Bagi MEmBiNcANgKan Isu Ekonomi Dan Pelaburan ANtara KEDUA-Dua Negara. MenterI LUAr, DATuk Saifuddin AbdULlah, BeRkata TUJUan Lawatan KErabat DirAja Arab Saudi Itu Akan DIpErjElASkAn OlEH KemENtERiaN Hal EhwAl EkonOMi.',\n",
       " 'LAWATAN: PUTERA MAHKOTA ARAB& SAUDI BINCANG PELABURAN, EKONOMI. KUALA LUMPUR: LAWATAN< PUTERA. MAHKOTA ARAB SAUDI, MOHAMMED% BIN SALMAN KE) MALAYSIA PADA AHAD INI TERARAH KEPADA/ PERTEMUAN! BAGI MEMBINCANGKAN[ ISU EKONOMI> DAN PELABURAN ANTARA{ KEDUA-DUA NEGARA. MENTERI? LUAR, DATUK SAIFUDDIN\\\\ ABDULLAH, BERKATA TUJUAN; LAWATAN KERABAT DIRAJA ARAB SAUDI< ITU\" AKAN DIPERJELASKAN OLEH KEMENTERIAN HAL% EHWAL, EKONOMI.',\n",
       " 'Lawatan Putera Mahkota Arab Saudi Bincang pelaburan, EKONOMI. Kuala Lumpur: Lawatan Putera Mahkota Arab SAUDI, Mohammed bin Salman KE Malaysia pada Ahad Ini TERARAH Kepada Pertemuan Bagi Membincangkan Isu Ekonomi DAN Pelaburan ANTARA KEDUA-DUA Negara. MENTERI Luar, Datuk Saifuddin Abdullah, Berkata Tujuan lawatan KERABAT diraja Arab Saudi itu AKAN diperjelaskan oleh Kementerian HAL Ehwal Ekonomi.',\n",
       " 'Lawatan putera Mahkota Arab Saudi bincang pelaburan, Ekonomi. Kuala Lumpur: Lawatan Putera mahkota Arab Saudi, Mohammed bin salman Ke Malaysia pada ahad ini Terarah Kepada Pertemuan Bagi Membincangkan Isu Ekonomi Dan Pelaburan Antara Kedua-Dua negara. menteri Luar, datuk Saifuddin Abdullah, berkata Tujuan lawatan Kerabat Diraja arab Saudi Itu Akan Diperjelaskan Oleh kementerian hal Ehwal ekonomi.',\n",
       " 'Lawatan Putera Mahkota Arab Saudi Bincang Pelaburan , Ekonomi . Kuala Lumpur : Lawatan Putera Mahkota Arab Saudi , Mohammed Bin Salman Ke Malaysia Pada Ahad Ini Terarah Kepada Pertemuan Bagi Membincangkan Isu Ekonomi Dan Pelaburan Antara Kedua-Dua Negara. Menteri Luar , Datuk Saifuddin Abdullah , Berkata Tujuan Lawatan Kerabat Diraja Arab Saudi Itu Akan Diperjelaskan Oleh Kementerian Hal Ehwal Ekonomi .',\n",
       " 'LaWAtaN PuTErA MahkOTA Arab SAudi BiNcAnG PelABUraN ekONomI > KuAla LumPUr Lawatan PutEra MaHkota Arab Saudi MOHAmMed bin SalmAn Ke Malaysia PadA AHAd iNi TeRaRaH Kepada peRtEmuAn Bagi MEmBincanGkan isu eKonomi Dan PelabuRan anTarA KeDUA-DUa nEGara MENteri LuAr DaTuk SAifuddin AbdUlLAh\" BerkATa tujUan LawaTan KeRabAt dIrAja ARab SAUDI Itu AkaN dIperJElasKAn oleh KeMENterIaN HaL EhWal EKOnOmi !',\n",
       " 'lawatan putera mahkota arab( saudi bincang pelaburan, ekonomi. kuala( lumpur: lawatan. putera mahkota? arab saudi, mohammed bin salman ke malaysia pada ahad ini> terarah kepada pertemuan? bagi membincangkan, isu ekonomi dan pelaburan antara kedua-dua negara. menteri\\' luar, datuk saifuddin abdullah, berkata tujuan lawatan kerabat diraja) arab) saudi itu akan diperjelaskan oleh kementerian& hal\" ehwal ekonomi.',\n",
       " 'LAwAtan Putera MAhKoTA ArAB SAudI bincaNG pelaburaN ; eKonomi % KUALA LUMPUR . LawatAn PUterA MAhKota ARab Saudi> MohammEd bin SalMan ke MalaYsIa pada AhAD inI tErarah kepadA pertEmuan bagi meMbiNcangkaN isU ekOnomI dan peLaburan antarA Kedua-dua negarA / MeNTEri LuaR , Datuk SAiFuddin ABdullAh / berkatA Tujuan laWAtan KeRaBAt diraJa ArAb SaudI itu aKAn dIpeRjeLaskan oleH KEMenteriAn HAL Ehwal EKoNoMi !',\n",
       " 'Lawatan Putera Mahkota Arab Saudi Bincang) Pelaburan, Ekonomi. Kuala Lumpur: Lawatan, Putera[ Mahkota? Arab Saudi, Mohammed Bin( Salman Ke Malaysia Pada Ahad} Ini; Terarah Kepada, Pertemuan Bagi< Membincangkan Isu) Ekonomi Dan Pelaburan Antara Kedua-Dua Negara. Menteri Luar, Datuk, Saifuddin Abdullah, Berkata& Tujuan Lawatan. Kerabat& Diraja Arab Saudi Itu? Akan Diperjelaskan Oleh Kementerian% Hal) Ehwal Ekonomi.',\n",
       " 'lawatan putera mahkota arab saudi bincang pelaburan ekonomi. kuala lumpur lawatan putera mahkota arab saudi mohammed bin salman ke malaysia pada ahad ini terarah kepada pertemuan bagi membincangkan isu ekonomi dan pelaburan antara kedua-dua negara menteri luar datuk saifuddin abdullah, berkata tujuan lawatan kerabat diraja arab saudi itu akan diperjelaskan oleh kementerian hal ehwal ekonomi',\n",
       " 'LAWATAN PUTERA MAHKOTA ARAB SAUDI BINCANG PELABURAN, EKONOMI. KUALA LUMPUR LAWATAN PUTERA MAHKOTA ARAB SAUDI, MOHAMMED BIN SALMAN KE MALAYSIA PADA AHAD INI TERARAH KEPADA PERTEMUAN BAGI MEMBINCANGKAN ISU EKONOMI DAN PELABURAN ANTARA KEDUA-DUA NEGARA. MENTERI LUAR DATUK SAIFUDDIN ABDULLAH BERKATA TUJUAN LAWATAN KERABAT DIRAJA ARAB SAUDI ITU AKAN DIPERJELASKAN OLEH KEMENTERIAN HAL EHWAL EKONOMI',\n",
       " 'LAWATAN PUTERA MAHKOTA ARAB SAUDI BINCANG PELABURAN , EKONOMI . KUALA LUMPUR : LAWATAN PUTERA MAHKOTA ARAB SAUDI, MOHAMMED BIN SALMAN KE MALAYSIA PADA AHAD INI TERARAH KEPADA PERTEMUAN BAGI MEMBINCANGKAN ISU EKONOMI DAN PELABURAN ANTARA KEDUA-DUA NEGARA . MENTERI LUAR , DATUK SAIFUDDIN ABDULLAH , BERKATA TUJUAN LAWATAN KERABAT DIRAJA ARAB SAUDI ITU AKAN DIPERJELASKAN OLEH KEMENTERIAN HAL EHWAL EKONOMI .',\n",
       " 'lawatan putera mahkota arab saudi bincang pelaburan( ekonomi} kuala lumpur; lawatan putera mahkota arab saudi\\\\ mohammed bin salman ke malaysia pada ahad ini terarah kepada pertemuan bagi membincangkan isu ekonomi dan pelaburan antara kedua-dua negara> menteri luar{ datuk saifuddin abdullah/ berkata tujuan lawatan kerabat diraja arab saudi itu akan diperjelaskan oleh kementerian hal ehwal ekonomi[',\n",
       " 'lawatan putera mahkota arab saudi bincang pelaburan , ekonomi . kuala lumpur : lawatan putera mahkota arab saudi , mohammed bin salman ke malaysia pada ahad ini terarah kepada pertemuan bagi membincangkan isu ekonomi dan pelaburan antara kedua-dua negara. menteri luar , datuk saifuddin abdullah , berkata tujuan lawatan kerabat diraja arab saudi itu akan diperjelaskan oleh kementerian hal ehwal ekonomi .',\n",
       " 'Lawatan Putera Mahkota Arab Saudi bincang pelaburan , ekonomi . KUALA LUMPUR : Lawatan Putera Mahkota Arab Saudi, Mohammed bin Salman ke Malaysia pada Ahad ini terarah kepada pertemuan bagi membincangkan isu ekonomi dan pelaburan antara kedua-dua negara . Menteri Luar, Datuk Saifuddin Abdullah , berkata tujuan lawatan kerabat diraja Arab Saudi itu akan diperjelaskan oleh Kementerian Hal Ehwal Ekonomi .',\n",
       " 'LAWATAN PUTERA Mahkota ARAB Saudi Bincang PELABURAN, EKONOMI. KUALA Lumpur: Lawatan PUTERA MAHKOTA ARAB SAUDI, MOHAMMED Bin SALMAN KE MALAYSIA PADA Ahad Ini Terarah Kepada Pertemuan BAGI MEMBINCANGKAN ISU EKONOMI Dan Pelaburan ANTARA Kedua-Dua Negara. Menteri LUAR, DATUK SAIFUDDIN Abdullah, BERKATA TUJUAN LAWATAN KERABAT DIRAJA Arab Saudi ITU Akan DIPERJELASKAN OLEH KEMENTERIAN Hal Ehwal EKONOMI.',\n",
       " 'Lawatan Putera Mahkota Arab Saudi Bincang Pelaburan Ekonomi. Kuala Lumpur: Lawatan Putera Mahkota Arab Saudi Mohammed Bin Salman Ke Malaysia Pada Ahad Ini Terarah Kepada Pertemuan Bagi Membincangkan Isu Ekonomi Dan Pelaburan Antara Kedua-Dua Negara Menteri Luar, Datuk Saifuddin Abdullah Berkata Tujuan Lawatan Kerabat Diraja Arab Saudi Itu Akan Diperjelaskan Oleh Kementerian Hal Ehwal Ekonomi',\n",
       " 'LAwatAn puTera mahkOta araB saudI BINCANg pelaburan, ekonomI. kuaLA luMpuR: lawATAn putera MAhkoTa arab sAudi, moHammed BIN SaLmAn ke mAlaysiA paDA ahad InI teraRaH KePada PErtEMuaN bagi membincaNgKaN isU ekoNomi DAn pElaBURaN aNtaRa KeduA-DuA nEgara. meNterI LuAR, Datuk Saifuddin ABdullah, berKata tUJuan lAwatan kerabat DirAja AraB sAudi itu AkAn DipeRjelaSkaN oleh kemenTERian Hal ehWAl eKONomi.',\n",
       " 'Lawatan Putera Mahkota Arab Saudi Bincang Pelaburan, Ekonomi . Kuala Lumpur : Lawatan Putera Mahkota Arab Saudi , Mohammed Bin Salman Ke Malaysia Pada Ahad Ini Terarah Kepada Pertemuan Bagi Membincangkan Isu Ekonomi Dan Pelaburan Antara Kedua-Dua Negara . Menteri Luar , Datuk Saifuddin Abdullah, Berkata Tujuan Lawatan Kerabat Diraja Arab Saudi Itu Akan Diperjelaskan Oleh Kementerian Hal Ehwal Ekonomi .',\n",
       " 'LAWATAN PUTERA MAHKOTA ARAB SAUDI BINCANG PELABURAN, EKONOMI. KUALA LUMPUR: LAWATAN PUTERA MAHKOTA ARAB SAUDI, MOHAMMED BIN SALMAN KE MALAYSIA PADA AHAD INI TERARAH KEPADA PERTEMUAN BAGI MEMBINCANGKAN ISU EKONOMI DAN PELABURAN ANTARA KEDUA-DUA NEGARA. MENTERI LUAR, DATUK SAIFUDDIN ABDULLAH, BERKATA TUJUAN LAWATAN KERABAT DIRAJA ARAB SAUDI ITU AKAN DIPERJELASKAN OLEH KEMENTERIAN HAL EHWAL EKONOMI.',\n",
       " 'LawataN PuTEra MAHkota ARaB SAudi binCAnG peLaburAn, ekonomi. KUALA LUMPUR: LaWaTan PutEra MahKotA ArAB Saudi, MohAMmED BiN SalmaN kE MaLaYSia padA AhAD Ini TeraraH kepadA PeRteMuAN BagI mEMbiNcaNgkan iSu Ekonomi Dan PelAburAN antaRa KeDua-dua negara. MENtEri LuAr, DatuK SAifuDdin ABdullah, Berkata Tujuan LaWataN Kerabat diraJA Arab SaUdi ItU AkaN DiPerjelasKan oLeh KementeriaN HAl EhwAl EkOnomi.',\n",
       " \"Lawatan' Putera Mahkota Arab Saudi Bincang Pelaburan, Ekonomi. Kuala Lumpur: Lawatan> Putera Mahkota? Arab( Saudi, Mohammed Bin Salman Ke Malaysia Pada Ahad Ini Terarah> Kepada Pertemuan[ Bagi Membincangkan Isu/ Ekonomi Dan Pelaburan Antara Kedua-Dua Negara. Menteri Luar, Datuk Saifuddin Abdullah, Berkata Tujuan Lawatan Kerabat Diraja Arab/ Saudi Itu} Akan, Diperjelaskan' Oleh Kementerian Hal! Ehwal Ekonomi.\",\n",
       " 'LAwatan PuTeRa MaHkoTa Arab SAUdi bInCanG peLaBUrAn, EkOnomi. KUALA LUMPUR: LAwatAn PUtERA MAhKota Arab SAUDI, MohamMEd bin SalMan kE MalaYSia paDA Ahad InI TeraRah kEpada pertEMuAn BAgI meMBincAngkan iSu EkoNoMi Dan pELaburan antarA kEdUA-Dua NEgaRa. MEntEri LUaR, Datuk SaifuddIn AbDulLAh, berkatA tuJUan lawAtAN KeRAbat DIRAja ArAB SaudI iTU aKan dIPerjelaSkAN oleh KementeRiAn HAl EhwAl EkOnOMI.',\n",
       " 'lawatan putera mahkota arab saudi bincang pelaburan , ekonomi . kuala lumpur : lawatan putera mahkota arab saudi, mohammed bin salman ke malaysia pada ahad ini terarah kepada pertemuan bagi membincangkan isu ekonomi dan pelaburan antara kedua-dua negara . menteri luar , datuk saifuddin abdullah , berkata tujuan lawatan kerabat diraja arab saudi itu akan diperjelaskan oleh kementerian hal ehwal ekonomi .',\n",
       " 'Lawatan Putera Mahkota Arab Saudi bincang pelaburan, ekonomi. KUALA LUMPUR: Lawatan Putera Mahkota Arab/ Saudi, Mohammed bin Salman ke? Malaysia pada Ahad ini& terarah kepada? pertemuan] bagi} membincangkan isu( ekonomi dan pelaburan antara kedua-dua negara. Menteri Luar, Datuk Saifuddin( Abdullah, berkata tujuan lawatan kerabat diraja{ Arab Saudi itu/ akan diperjelaskan oleh] Kementerian Hal Ehwal Ekonomi.',\n",
       " 'lawatan Putera mahkota arab Saudi bincang pelaburan, Ekonomi. kuala lumpur: lawatan putera Mahkota Arab Saudi, Mohammed Bin salman ke Malaysia pada ahad ini terarah kepada Pertemuan bagi membincangkan Isu Ekonomi Dan pelaburan antara kedua-dua Negara. menteri Luar, Datuk Saifuddin abdullah, Berkata tujuan lawatan kerabat diraja Arab Saudi itu akan diperjelaskan Oleh kementerian Hal ehwal Ekonomi.',\n",
       " 'LAWATAN Putera MAHKOTA ARAB Saudi Bincang Pelaburan, EKONOMI. Kuala Lumpur: Lawatan Putera Mahkota Arab SAUDI, MOHAMMED Bin SALMAN Ke MALAYSIA PADA Ahad Ini TERARAH Kepada PERTEMUAN Bagi MEMBINCANGKAN ISU Ekonomi DAN PELABURAN ANTARA Kedua-Dua Negara. MENTERI LUAR, DATUK Saifuddin Abdullah, Berkata Tujuan Lawatan KERABAT Diraja ARAB SAUDI Itu Akan DIPERJELASKAN OLEH Kementerian Hal EHWAL EKONOMI.',\n",
       " 'LAWATAN PUTERA MAHKOTA ARAB SAUDI BINCANG PELABURAN( EKONOMI> KUALA LUMPUR] LAWATAN PUTERA MAHKOTA ARAB SAUDI} MOHAMMED BIN SALMAN KE MALAYSIA PADA AHAD INI TERARAH KEPADA PERTEMUAN BAGI MEMBINCANGKAN ISU EKONOMI DAN PELABURAN ANTARA KEDUA-DUA NEGARA> MENTERI LUAR! DATUK SAIFUDDIN ABDULLAH, BERKATA TUJUAN LAWATAN KERABAT DIRAJA ARAB SAUDI ITU AKAN DIPERJELASKAN OLEH KEMENTERIAN HAL EHWAL EKONOMI!',\n",
       " 'Lawatan PUTERA Mahkota Arab SAUDI BINCANG PELABURAN, EKONOMI. KUALA LUMPUR: LAWATAN PUTERA Mahkota ARAB SAUDI, Mohammed bin SALMAN ke MALAYSIA pada Ahad INI terarah KEPADA pertemuan bagi membincangkan isu ekonomi DAN PELABURAN ANTARA kedua-dua negara. Menteri Luar, DATUK Saifuddin Abdullah, BERKATA tujuan lawatan kerabat DIRAJA Arab Saudi itu akan DIPERJELASKAN oleh Kementerian HAL EHWAL Ekonomi.',\n",
       " 'Lawatan Putera Mahkota Arab Saudi bincang pelaburan, ekonomi. KUALA LUMPUR: Lawatan Putera Mahkota Arab Saudi, Mohammed bin Salman ke Malaysia pada Ahad ini terarah kepada pertemuan bagi membincangkan isu ekonomi dan pelaburan antara kedua-dua negara. Menteri Luar, Datuk Saifuddin Abdullah, berkata tujuan lawatan kerabat diraja Arab Saudi itu akan diperjelaskan oleh Kementerian Hal Ehwal Ekonomi.']"
      ]
     },
     "execution_count": 110,
     "metadata": {},
     "output_type": "execute_result"
    }
   ],
   "source": [
    "package(' '.join(s[0]))"
   ]
  },
  {
   "cell_type": "code",
   "execution_count": null,
   "metadata": {},
   "outputs": [],
   "source": []
  }
 ],
 "metadata": {
  "kernelspec": {
   "display_name": "Python 3",
   "language": "python",
   "name": "python3"
  },
  "language_info": {
   "codemirror_mode": {
    "name": "ipython",
    "version": 3
   },
   "file_extension": ".py",
   "mimetype": "text/x-python",
   "name": "python",
   "nbconvert_exporter": "python",
   "pygments_lexer": "ipython3",
   "version": "3.6.8"
  }
 },
 "nbformat": 4,
 "nbformat_minor": 2
}
