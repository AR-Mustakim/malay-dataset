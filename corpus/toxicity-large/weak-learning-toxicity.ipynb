{
 "cells": [
  {
   "cell_type": "code",
   "execution_count": 1,
   "metadata": {},
   "outputs": [],
   "source": [
    "import malaya"
   ]
  },
  {
   "cell_type": "code",
   "execution_count": 2,
   "metadata": {},
   "outputs": [
    {
     "name": "stdout",
     "output_type": "stream",
     "text": [
      "WARNING:tensorflow:From /home/husein/.local/lib/python3.6/site-packages/malaya/_utils/_utils.py:68: The name tf.gfile.GFile is deprecated. Please use tf.io.gfile.GFile instead.\n",
      "\n",
      "WARNING:tensorflow:From /home/husein/.local/lib/python3.6/site-packages/malaya/_utils/_utils.py:69: The name tf.GraphDef is deprecated. Please use tf.compat.v1.GraphDef instead.\n",
      "\n",
      "WARNING:tensorflow:From /home/husein/.local/lib/python3.6/site-packages/malaya/_utils/_utils.py:64: The name tf.InteractiveSession is deprecated. Please use tf.compat.v1.InteractiveSession instead.\n",
      "\n"
     ]
    }
   ],
   "source": [
    "model = malaya.toxic.transformer(model = 'bert', size = 'base')"
   ]
  },
  {
   "cell_type": "code",
   "execution_count": 3,
   "metadata": {},
   "outputs": [],
   "source": [
    "import json"
   ]
  },
  {
   "cell_type": "code",
   "execution_count": 4,
   "metadata": {},
   "outputs": [
    {
     "data": {
      "text/plain": [
       "dict_keys(['melayu', 'cina', 'india'])"
      ]
     },
     "execution_count": 4,
     "metadata": {},
     "output_type": "execute_result"
    }
   ],
   "source": [
    "with open('kaum.json') as fopen:\n",
    "    kaum = json.load(fopen)\n",
    "    \n",
    "kaum.keys()"
   ]
  },
  {
   "cell_type": "code",
   "execution_count": 6,
   "metadata": {},
   "outputs": [
    {
     "name": "stderr",
     "output_type": "stream",
     "text": [
      "100%|██████████| 8486/8486 [02:39<00:00, 53.07it/s]\n"
     ]
    }
   ],
   "source": [
    "from tqdm import tqdm\n",
    "\n",
    "batch_size = 10\n",
    "results = []\n",
    "for i in tqdm(range(0, len(kaum['melayu']), batch_size)):\n",
    "    index = min(i + batch_size, len(kaum['melayu']))\n",
    "    b = kaum['melayu'][i: index]\n",
    "    results.extend(model.predict_batch(b, get_proba = True))"
   ]
  },
  {
   "cell_type": "code",
   "execution_count": 7,
   "metadata": {},
   "outputs": [
    {
     "data": {
      "text/plain": [
       "84851"
      ]
     },
     "execution_count": 7,
     "metadata": {},
     "output_type": "execute_result"
    }
   ],
   "source": [
    "len(results)"
   ]
  },
  {
   "cell_type": "code",
   "execution_count": 9,
   "metadata": {},
   "outputs": [
    {
     "name": "stderr",
     "output_type": "stream",
     "text": [
      "100%|██████████| 4396/4396 [01:21<00:00, 53.80it/s]\n"
     ]
    }
   ],
   "source": [
    "results_cina = []\n",
    "for i in tqdm(range(0, len(kaum['cina']), batch_size)):\n",
    "    index = min(i + batch_size, len(kaum['cina']))\n",
    "    b = kaum['cina'][i: index]\n",
    "    results_cina.extend(model.predict_batch(b, get_proba = True))"
   ]
  },
  {
   "cell_type": "code",
   "execution_count": 10,
   "metadata": {},
   "outputs": [
    {
     "name": "stderr",
     "output_type": "stream",
     "text": [
      "100%|██████████| 2021/2021 [00:43<00:00, 46.82it/s]\n"
     ]
    }
   ],
   "source": [
    "results_india = []\n",
    "for i in tqdm(range(0, len(kaum['india']), batch_size)):\n",
    "    index = min(i + batch_size, len(kaum['india']))\n",
    "    b = kaum['india'][i: index]\n",
    "    results_india.extend(model.predict_batch(b, get_proba = True))"
   ]
  },
  {
   "cell_type": "code",
   "execution_count": 15,
   "metadata": {},
   "outputs": [
    {
     "name": "stderr",
     "output_type": "stream",
     "text": [
      "100%|██████████| 84851/84851 [00:00<00:00, 254685.13it/s]\n"
     ]
    }
   ],
   "source": [
    "for i in tqdm(range(len(results))):\n",
    "    for k, v in results[i].items():\n",
    "        results[i][k] = float(v)"
   ]
  },
  {
   "cell_type": "code",
   "execution_count": 18,
   "metadata": {},
   "outputs": [
    {
     "name": "stderr",
     "output_type": "stream",
     "text": [
      "100%|██████████| 43956/43956 [00:00<00:00, 290984.43it/s]\n"
     ]
    }
   ],
   "source": [
    "for i in tqdm(range(len(results_cina))):\n",
    "    for k, v in results_cina[i].items():\n",
    "        results_cina[i][k] = float(v)"
   ]
  },
  {
   "cell_type": "code",
   "execution_count": 19,
   "metadata": {},
   "outputs": [
    {
     "name": "stderr",
     "output_type": "stream",
     "text": [
      "100%|██████████| 20208/20208 [00:00<00:00, 277473.67it/s]\n"
     ]
    }
   ],
   "source": [
    "for i in tqdm(range(len(results_india))):\n",
    "    for k, v in results_india[i].items():\n",
    "        results_india[i][k] = float(v)"
   ]
  },
  {
   "cell_type": "code",
   "execution_count": 20,
   "metadata": {},
   "outputs": [],
   "source": [
    "with open('weak-learning-toxicity.json', 'w') as fopen:\n",
    "    json.dump({'melayu': results, 'cina': results_cina, 'india': results_india}, fopen)"
   ]
  }
 ],
 "metadata": {
  "kernelspec": {
   "display_name": "Python 3",
   "language": "python",
   "name": "python3"
  },
  "language_info": {
   "codemirror_mode": {
    "name": "ipython",
    "version": 3
   },
   "file_extension": ".py",
   "mimetype": "text/x-python",
   "name": "python",
   "nbconvert_exporter": "python",
   "pygments_lexer": "ipython3",
   "version": "3.6.8"
  }
 },
 "nbformat": 4,
 "nbformat_minor": 2
}
