{
 "cells": [
  {
   "cell_type": "code",
   "execution_count": 1,
   "metadata": {},
   "outputs": [
    {
     "data": {
      "text/plain": [
       "63234"
      ]
     },
     "execution_count": 1,
     "metadata": {},
     "output_type": "execute_result"
    }
   ],
   "source": [
    "import json\n",
    "\n",
    "with open('joy-twitter-malaysia.json') as fopen:\n",
    "    joy = json.load(fopen)\n",
    "len(joy)"
   ]
  },
  {
   "cell_type": "code",
   "execution_count": 2,
   "metadata": {},
   "outputs": [],
   "source": [
    "negates = ['ngak', 'negatif', 'tak suka', 'masalah', 'heran', 'own opinion', 'gw suka', 'gk suka', 'ngak suka',\n",
    "         'bukan', 'bohong', 'sedih', 'fitnah', 'bertekak', 'tekak', 'kutuk', 'tiru', 'friend zone',\n",
    "          'meluat', 'ga suka', ':(', 'tak berapa suka', 'gak suka', 'suka compare', 'kdg malas',\n",
    "          'gi mampos', 'gi mampus', 'hangat hati', 'x suka', 'xsuka', 'maki', 'to complain', 'janji palsu',\n",
    "          'dosa', 'kena reject', 'tak paham', 'tak faham', 'x faham', 'x paham', 'kepala bapak',\n",
    "          'mencuri', 'marah']"
   ]
  },
  {
   "cell_type": "code",
   "execution_count": null,
   "metadata": {},
   "outputs": [],
   "source": [
    "filtered = [j for j in joy if not any([n in j.lower() for n in negates])]"
   ]
  },
  {
   "cell_type": "code",
   "execution_count": null,
   "metadata": {},
   "outputs": [],
   "source": [
    "len(filtered)"
   ]
  },
  {
   "cell_type": "code",
   "execution_count": null,
   "metadata": {},
   "outputs": [],
   "source": [
    "filtered[-10000:]"
   ]
  },
  {
   "cell_type": "code",
   "execution_count": null,
   "metadata": {},
   "outputs": [],
   "source": [
    "with open('happy-twitter-malaysia.json', 'w') as fopen:\n",
    "    happy = json.dump(filtered, fopen)"
   ]
  },
  {
   "cell_type": "code",
   "execution_count": null,
   "metadata": {},
   "outputs": [],
   "source": []
  }
 ],
 "metadata": {
  "kernelspec": {
   "display_name": "Python 3",
   "language": "python",
   "name": "python3"
  },
  "language_info": {
   "codemirror_mode": {
    "name": "ipython",
    "version": 3
   },
   "file_extension": ".py",
   "mimetype": "text/x-python",
   "name": "python",
   "nbconvert_exporter": "python",
   "pygments_lexer": "ipython3",
   "version": "3.6.8"
  }
 },
 "nbformat": 4,
 "nbformat_minor": 2
}
