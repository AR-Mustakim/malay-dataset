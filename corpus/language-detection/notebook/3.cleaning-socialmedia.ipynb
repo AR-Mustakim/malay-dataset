{
 "cells": [
  {
   "cell_type": "code",
   "execution_count": 6,
   "metadata": {},
   "outputs": [],
   "source": [
    "import json\n",
    "from tqdm import tqdm"
   ]
  },
  {
   "cell_type": "code",
   "execution_count": 2,
   "metadata": {},
   "outputs": [],
   "source": [
    "# !wget https://huseinhouse-storage.s3-ap-southeast-1.amazonaws.com/bert-bahasa/dumping-twitter-6-july-2019.json\n",
    "# !wget https://malaya-dataset.s3-ap-southeast-1.amazonaws.com/dumping/twitter/2020-02-22-twitter-dump-in.json\n",
    "# !wget https://malaya-dataset.s3-ap-southeast-1.amazonaws.com/dumping/twitter/2020-03-08-twitter-dump-in.json\n",
    "# !wget https://huseinhouse-storage.s3-ap-southeast-1.amazonaws.com/bert-bahasa/dumping-instagram-6-july-2019.json"
   ]
  },
  {
   "cell_type": "code",
   "execution_count": 3,
   "metadata": {},
   "outputs": [
    {
     "data": {
      "text/plain": [
       "695571"
      ]
     },
     "execution_count": 3,
     "metadata": {},
     "output_type": "execute_result"
    }
   ],
   "source": [
    "with open('dumping-instagram-6-july-2019.json') as fopen:\n",
    "    instagram = json.load(fopen)\n",
    "    \n",
    "len(instagram)"
   ]
  },
  {
   "cell_type": "code",
   "execution_count": 4,
   "metadata": {},
   "outputs": [
    {
     "data": {
      "text/plain": [
       "6597867"
      ]
     },
     "execution_count": 4,
     "metadata": {},
     "output_type": "execute_result"
    }
   ],
   "source": [
    "with open('dumping-twitter-6-july-2019.json') as fopen:\n",
    "    twitter = json.load(fopen)\n",
    "    \n",
    "len(twitter)"
   ]
  },
  {
   "cell_type": "code",
   "execution_count": 7,
   "metadata": {},
   "outputs": [
    {
     "name": "stdout",
     "output_type": "stream",
     "text": [
      "2020-02-22-twitter-dump-in.json\n"
     ]
    },
    {
     "name": "stderr",
     "output_type": "stream",
     "text": [
      "100%|██████████| 1617795/1617795 [00:01<00:00, 1416202.37it/s]\n"
     ]
    },
    {
     "name": "stdout",
     "output_type": "stream",
     "text": [
      "2020-03-08-twitter-dump-in.json\n"
     ]
    },
    {
     "name": "stderr",
     "output_type": "stream",
     "text": [
      "100%|██████████| 1711555/1711555 [00:01<00:00, 1436409.10it/s]\n"
     ]
    }
   ],
   "source": [
    "files = ['2020-02-22-twitter-dump-in.json', '2020-03-08-twitter-dump-in.json']\n",
    "\n",
    "for file in files:\n",
    "    print(file)\n",
    "\n",
    "    with open(file) as fopen:\n",
    "        temp = json.load(fopen)\n",
    "\n",
    "    for i in tqdm(range(len(temp))):\n",
    "        retweet = temp[i]['retweet_text_full']\n",
    "        t = temp[i]['data_text']\n",
    "        if retweet != 'NULL' and len(retweet) > len(t):\n",
    "            t = retweet\n",
    "        twitter.append(t)"
   ]
  },
  {
   "cell_type": "code",
   "execution_count": 8,
   "metadata": {},
   "outputs": [],
   "source": [
    "import cleaning"
   ]
  },
  {
   "cell_type": "code",
   "execution_count": 9,
   "metadata": {},
   "outputs": [],
   "source": [
    "twitter = twitter + instagram"
   ]
  },
  {
   "cell_type": "code",
   "execution_count": 10,
   "metadata": {},
   "outputs": [],
   "source": [
    "import re\n",
    "\n",
    "def preprocessing(string):\n",
    "    string = re.sub(\n",
    "        'http\\S+|www.\\S+',\n",
    "        '',\n",
    "        ' '.join(\n",
    "            [i for i in string.split() if i.find('#') < 0 and i.find('@') < 0]\n",
    "        ),\n",
    "    )\n",
    "    \n",
    "    chars = ',.()!:\\'\"/;=-'\n",
    "    for c in chars:\n",
    "        string = string.replace(c, f' {c} ')\n",
    "        \n",
    "    string = re.sub(\n",
    "        u'[0-9!@#$%^&*()_\\-+{}|\\~`\\'\";:?/.>,<]',\n",
    "        ' ',\n",
    "        string,\n",
    "        flags = re.UNICODE,\n",
    "    )\n",
    "    string = re.sub(r'[ ]+', ' ', string).strip()\n",
    "    \n",
    "    return string.lower()\n",
    "\n",
    "def loop(strings):\n",
    "    for i in tqdm(range(len(strings))):\n",
    "        strings[i] = preprocessing(strings[i])\n",
    "    return strings"
   ]
  },
  {
   "cell_type": "code",
   "execution_count": 11,
   "metadata": {},
   "outputs": [
    {
     "name": "stderr",
     "output_type": "stream",
     "text": [
      "100%|██████████| 663924/663924 [00:12<00:00, 53451.50it/s]\n",
      "100%|██████████| 663924/663924 [00:12<00:00, 53891.33it/s]\n",
      "100%|██████████| 4/4 [00:00<00:00, 13315.25it/s]23.24it/s]\n",
      "100%|██████████| 663924/663924 [00:12<00:00, 53450.32it/s]\n",
      "100%|██████████| 663924/663924 [00:11<00:00, 55404.36it/s]\n",
      "100%|██████████| 663924/663924 [00:12<00:00, 53677.74it/s]\n",
      "100%|██████████| 663924/663924 [00:12<00:00, 53534.74it/s]\n",
      "100%|██████████| 663924/663924 [00:12<00:00, 53902.01it/s]\n",
      "100%|██████████| 663924/663924 [00:12<00:00, 53520.72it/s]\n",
      "100%|██████████| 663924/663924 [00:12<00:00, 53069.07it/s]\n",
      "100%|██████████| 663924/663924 [00:12<00:00, 53457.96it/s]\n",
      "100%|██████████| 663924/663924 [00:15<00:00, 42972.62it/s]\n",
      "100%|██████████| 663924/663924 [00:15<00:00, 43360.41it/s]\n",
      "100%|██████████| 663924/663924 [00:15<00:00, 43898.19it/s]\n",
      "100%|██████████| 663924/663924 [00:15<00:00, 43837.32it/s]\n",
      "100%|██████████| 663924/663924 [00:17<00:00, 38922.29it/s]\n",
      "100%|██████████| 663924/663924 [00:46<00:00, 14262.37it/s]\n"
     ]
    },
    {
     "name": "stdout",
     "output_type": "stream",
     "text": [
      "CPU times: user 7.6 s, sys: 5.51 s, total: 13.1 s\n",
      "Wall time: 57.3 s\n"
     ]
    }
   ],
   "source": [
    "%%time\n",
    "\n",
    "twitter = cleaning.multiprocessing(twitter, loop)"
   ]
  },
  {
   "cell_type": "code",
   "execution_count": 12,
   "metadata": {},
   "outputs": [
    {
     "name": "stdout",
     "output_type": "stream",
     "text": [
      "CPU times: user 4.48 s, sys: 2.62 s, total: 7.1 s\n",
      "Wall time: 15.6 s\n"
     ]
    }
   ],
   "source": [
    "%%time\n",
    "\n",
    "temp_vocab = list(set(cleaning.multiprocessing(twitter, cleaning.unique_words)))"
   ]
  },
  {
   "cell_type": "code",
   "execution_count": 13,
   "metadata": {},
   "outputs": [
    {
     "name": "stdout",
     "output_type": "stream",
     "text": [
      "0\n",
      "CPU times: user 366 ms, sys: 871 ms, total: 1.24 s\n",
      "Wall time: 2.73 s\n"
     ]
    }
   ],
   "source": [
    "%%time\n",
    "temp_dict = cleaning.multiprocessing(temp_vocab, cleaning.duplicate_dots_marks_exclamations, list_mode = False)\n",
    "print(len(temp_dict))"
   ]
  },
  {
   "cell_type": "code",
   "execution_count": 14,
   "metadata": {},
   "outputs": [
    {
     "name": "stderr",
     "output_type": "stream",
     "text": [
      "100%|██████████| 663924/663924 [00:02<00:00, 244658.17it/s]\n",
      "100%|██████████| 663924/663924 [00:02<00:00, 243256.11it/s]\n",
      "100%|██████████| 663924/663924 [00:02<00:00, 237835.89it/s]\n",
      "100%|██████████| 663924/663924 [00:02<00:00, 247453.32it/s]\n",
      "100%|██████████| 663924/663924 [00:02<00:00, 250469.59it/s]\n",
      "100%|██████████| 663924/663924 [00:02<00:00, 247542.01it/s]\n",
      "100%|██████████| 663924/663924 [00:02<00:00, 249767.03it/s]\n",
      "100%|██████████| 663924/663924 [00:02<00:00, 244465.45it/s]\n",
      "100%|██████████| 4/4 [00:00<00:00, 17349.76it/s]209.04it/s]\n",
      "100%|██████████| 663924/663924 [00:02<00:00, 247068.21it/s]\n",
      "100%|██████████| 663924/663924 [00:02<00:00, 245138.24it/s]\n",
      "100%|██████████| 663924/663924 [00:03<00:00, 191461.26it/s]\n",
      "100%|██████████| 663924/663924 [00:03<00:00, 188760.47it/s]\n",
      "100%|██████████| 663924/663924 [00:03<00:00, 190160.64it/s]\n",
      "100%|██████████| 663924/663924 [00:03<00:00, 193124.65it/s]\n",
      "100%|██████████| 663924/663924 [00:03<00:00, 171759.25it/s]\n",
      "100%|██████████| 663924/663924 [00:10<00:00, 61318.37it/s]\n"
     ]
    },
    {
     "name": "stdout",
     "output_type": "stream",
     "text": [
      "CPU times: user 5.89 s, sys: 4.61 s, total: 10.5 s\n",
      "Wall time: 20.3 s\n"
     ]
    }
   ],
   "source": [
    "%%time\n",
    "\n",
    "twitter = cleaning.multiprocessing_multiple(twitter, temp_dict, cleaning.string_dict_cleaning)"
   ]
  },
  {
   "cell_type": "code",
   "execution_count": 15,
   "metadata": {},
   "outputs": [
    {
     "name": "stdout",
     "output_type": "stream",
     "text": [
      "0\n",
      "CPU times: user 364 ms, sys: 1.08 s, total: 1.45 s\n",
      "Wall time: 1.84 s\n"
     ]
    }
   ],
   "source": [
    "%%time\n",
    "temp_dict = cleaning.multiprocessing(temp_vocab, cleaning.remove_underscore, list_mode = False)\n",
    "print(len(temp_dict))"
   ]
  },
  {
   "cell_type": "code",
   "execution_count": 16,
   "metadata": {},
   "outputs": [
    {
     "name": "stderr",
     "output_type": "stream",
     "text": [
      "100%|██████████| 663924/663924 [00:02<00:00, 244843.15it/s]\n",
      "100%|██████████| 663924/663924 [00:02<00:00, 246154.91it/s]\n",
      "100%|██████████| 663924/663924 [00:02<00:00, 236394.12it/s]\n",
      "100%|██████████| 663924/663924 [00:02<00:00, 250499.06it/s]\n",
      "100%|██████████| 663924/663924 [00:02<00:00, 249597.81it/s]\n",
      "100%|██████████| 663924/663924 [00:02<00:00, 246395.21it/s]\n",
      "100%|██████████| 663924/663924 [00:02<00:00, 252000.30it/s]\n",
      "100%|██████████| 663924/663924 [00:02<00:00, 246546.11it/s]\n",
      "100%|██████████| 663924/663924 [00:02<00:00, 251333.12it/s]\n",
      "100%|██████████| 4/4 [00:00<00:00, 14438.22it/s]769.41it/s]\n",
      "100%|██████████| 663924/663924 [00:02<00:00, 239807.33it/s]\n",
      "100%|██████████| 663924/663924 [00:03<00:00, 187433.02it/s]\n",
      "100%|██████████| 663924/663924 [00:03<00:00, 188400.93it/s]\n",
      "100%|██████████| 663924/663924 [00:03<00:00, 184195.42it/s]\n",
      "100%|██████████| 663924/663924 [00:03<00:00, 193717.39it/s]\n",
      "100%|██████████| 663924/663924 [00:03<00:00, 172110.72it/s]\n",
      "100%|██████████| 663924/663924 [00:10<00:00, 61684.40it/s]\n"
     ]
    },
    {
     "name": "stdout",
     "output_type": "stream",
     "text": [
      "CPU times: user 5.83 s, sys: 5.09 s, total: 10.9 s\n",
      "Wall time: 20.8 s\n"
     ]
    }
   ],
   "source": [
    "%%time\n",
    "\n",
    "twitter = cleaning.multiprocessing_multiple(twitter, temp_dict, cleaning.string_dict_cleaning)"
   ]
  },
  {
   "cell_type": "code",
   "execution_count": 17,
   "metadata": {},
   "outputs": [
    {
     "name": "stdout",
     "output_type": "stream",
     "text": [
      "13\n",
      "CPU times: user 335 ms, sys: 1e+03 ms, total: 1.33 s\n",
      "Wall time: 1.7 s\n"
     ]
    }
   ],
   "source": [
    "%%time\n",
    "temp_dict = cleaning.multiprocessing(temp_vocab, cleaning.isolate_spamchars, list_mode = False)\n",
    "print(len(temp_dict))"
   ]
  },
  {
   "cell_type": "code",
   "execution_count": 18,
   "metadata": {},
   "outputs": [
    {
     "name": "stderr",
     "output_type": "stream",
     "text": [
      "100%|██████████| 663924/663924 [00:02<00:00, 234988.29it/s]\n",
      "100%|██████████| 663924/663924 [00:02<00:00, 235370.51it/s]\n",
      "100%|██████████| 663924/663924 [00:02<00:00, 237450.62it/s]\n",
      "100%|██████████| 663924/663924 [00:02<00:00, 239873.14it/s]\n",
      "100%|██████████| 663924/663924 [00:02<00:00, 237152.79it/s]\n",
      "100%|██████████| 663924/663924 [00:02<00:00, 240951.48it/s]\n",
      "100%|██████████| 663924/663924 [00:02<00:00, 232740.91it/s]\n",
      "100%|██████████| 663924/663924 [00:02<00:00, 240879.34it/s]\n",
      "100%|██████████| 4/4 [00:00<00:00, 13117.45it/s]330.66it/s]\n",
      "100%|██████████| 663924/663924 [00:02<00:00, 235858.95it/s]\n",
      "100%|██████████| 663924/663924 [00:02<00:00, 233947.40it/s]\n",
      "100%|██████████| 663924/663924 [00:03<00:00, 183525.08it/s]\n",
      "100%|██████████| 663924/663924 [00:03<00:00, 180674.68it/s]\n",
      "100%|██████████| 663924/663924 [00:04<00:00, 164232.96it/s]\n",
      "100%|██████████| 663924/663924 [00:05<00:00, 131882.85it/s]\n",
      "100%|██████████| 663924/663924 [00:05<00:00, 125011.03it/s]\n",
      "100%|██████████| 663924/663924 [00:12<00:00, 52293.41it/s]\n"
     ]
    },
    {
     "name": "stdout",
     "output_type": "stream",
     "text": [
      "CPU times: user 5.8 s, sys: 4.91 s, total: 10.7 s\n",
      "Wall time: 22.3 s\n"
     ]
    }
   ],
   "source": [
    "%%time\n",
    "\n",
    "twitter = cleaning.multiprocessing_multiple(twitter, temp_dict, cleaning.string_dict_cleaning)"
   ]
  },
  {
   "cell_type": "code",
   "execution_count": 19,
   "metadata": {},
   "outputs": [
    {
     "name": "stdout",
     "output_type": "stream",
     "text": [
      "0\n",
      "CPU times: user 304 ms, sys: 1.15 s, total: 1.46 s\n",
      "Wall time: 1.64 s\n"
     ]
    }
   ],
   "source": [
    "%%time\n",
    "temp_dict = cleaning.multiprocessing(temp_vocab, cleaning.break_short_words, list_mode = False)\n",
    "print(len(temp_dict))"
   ]
  },
  {
   "cell_type": "code",
   "execution_count": 20,
   "metadata": {},
   "outputs": [
    {
     "name": "stderr",
     "output_type": "stream",
     "text": [
      "100%|██████████| 663924/663924 [00:02<00:00, 244246.76it/s]\n",
      "100%|██████████| 663924/663924 [00:02<00:00, 249952.17it/s]\n",
      "100%|██████████| 663924/663924 [00:02<00:00, 249418.92it/s]\n",
      "100%|██████████| 663924/663924 [00:02<00:00, 247541.39it/s]\n",
      "100%|██████████| 663924/663924 [00:02<00:00, 241823.70it/s]\n",
      "100%|██████████| 663924/663924 [00:02<00:00, 251121.29it/s]\n",
      "100%|██████████| 663924/663924 [00:02<00:00, 251157.58it/s]\n",
      "100%|██████████| 663924/663924 [00:02<00:00, 248606.21it/s]\n",
      "100%|██████████| 663924/663924 [00:02<00:00, 243309.01it/s]\n",
      "100%|██████████| 4/4 [00:00<00:00, 13718.08it/s]675.89it/s]\n",
      "100%|██████████| 663924/663924 [00:02<00:00, 231689.31it/s]\n",
      "100%|██████████| 663924/663924 [00:06<00:00, 108405.03it/s]\n",
      "100%|██████████| 663924/663924 [00:06<00:00, 109726.65it/s]\n",
      "100%|██████████| 663924/663924 [00:06<00:00, 106680.67it/s]\n",
      "100%|██████████| 663924/663924 [00:06<00:00, 108360.72it/s]\n",
      "100%|██████████| 663924/663924 [00:06<00:00, 102519.11it/s]\n",
      "100%|██████████| 663924/663924 [00:13<00:00, 49062.70it/s]\n"
     ]
    },
    {
     "name": "stdout",
     "output_type": "stream",
     "text": [
      "CPU times: user 6.24 s, sys: 4.85 s, total: 11.1 s\n",
      "Wall time: 23.9 s\n"
     ]
    }
   ],
   "source": [
    "%%time\n",
    "\n",
    "twitter = cleaning.multiprocessing_multiple(twitter, temp_dict, cleaning.string_dict_cleaning)"
   ]
  },
  {
   "cell_type": "code",
   "execution_count": 21,
   "metadata": {},
   "outputs": [
    {
     "name": "stdout",
     "output_type": "stream",
     "text": [
      "0\n",
      "CPU times: user 318 ms, sys: 1.06 s, total: 1.38 s\n",
      "Wall time: 1.62 s\n"
     ]
    }
   ],
   "source": [
    "%%time\n",
    "temp_dict = cleaning.multiprocessing(temp_vocab, cleaning.break_long_words, list_mode = False)\n",
    "print(len(temp_dict))"
   ]
  },
  {
   "cell_type": "code",
   "execution_count": 22,
   "metadata": {},
   "outputs": [
    {
     "name": "stderr",
     "output_type": "stream",
     "text": [
      "100%|██████████| 663924/663924 [00:02<00:00, 248080.54it/s]\n",
      "100%|██████████| 663924/663924 [00:02<00:00, 249086.76it/s]\n",
      "100%|██████████| 663924/663924 [00:02<00:00, 240283.90it/s]\n",
      "100%|██████████| 663924/663924 [00:02<00:00, 242768.88it/s]\n",
      "100%|██████████| 663924/663924 [00:02<00:00, 250257.01it/s]\n",
      "100%|██████████| 663924/663924 [00:02<00:00, 247051.94it/s]\n",
      "100%|██████████| 663924/663924 [00:02<00:00, 247647.39it/s]\n",
      "100%|██████████| 663924/663924 [00:02<00:00, 245812.47it/s]\n",
      "100%|██████████| 663924/663924 [00:02<00:00, 247647.70it/s]\n",
      "100%|██████████| 4/4 [00:00<00:00, 2560.23it/s]0700.91it/s]\n",
      "100%|██████████| 663924/663924 [00:02<00:00, 243073.01it/s]\n",
      "100%|██████████| 663924/663924 [00:03<00:00, 191097.84it/s]\n",
      "100%|██████████| 663924/663924 [00:03<00:00, 188339.74it/s]\n",
      "100%|██████████| 663924/663924 [00:03<00:00, 187952.18it/s]\n",
      "100%|██████████| 663924/663924 [00:03<00:00, 192923.53it/s]\n",
      "100%|██████████| 663924/663924 [00:03<00:00, 168279.72it/s]\n",
      "100%|██████████| 663924/663924 [00:10<00:00, 61222.76it/s]\n"
     ]
    },
    {
     "name": "stdout",
     "output_type": "stream",
     "text": [
      "CPU times: user 5.85 s, sys: 4.88 s, total: 10.7 s\n",
      "Wall time: 20.6 s\n"
     ]
    }
   ],
   "source": [
    "%%time\n",
    "\n",
    "twitter = cleaning.multiprocessing_multiple(twitter, temp_dict, cleaning.string_dict_cleaning)"
   ]
  },
  {
   "cell_type": "code",
   "execution_count": 23,
   "metadata": {},
   "outputs": [
    {
     "name": "stdout",
     "output_type": "stream",
     "text": [
      "0\n",
      "CPU times: user 350 ms, sys: 1.19 s, total: 1.54 s\n",
      "Wall time: 1.79 s\n"
     ]
    }
   ],
   "source": [
    "%%time\n",
    "temp_dict = cleaning.multiprocessing(temp_vocab, cleaning.remove_ending_underscore, list_mode = False)\n",
    "print(len(temp_dict))"
   ]
  },
  {
   "cell_type": "code",
   "execution_count": 24,
   "metadata": {},
   "outputs": [
    {
     "name": "stderr",
     "output_type": "stream",
     "text": [
      "100%|██████████| 663924/663924 [00:02<00:00, 242373.51it/s]\n",
      "100%|██████████| 663924/663924 [00:02<00:00, 244272.34it/s]\n",
      "100%|██████████| 663924/663924 [00:02<00:00, 248252.14it/s]\n",
      "100%|██████████| 663924/663924 [00:02<00:00, 248046.73it/s]\n",
      "100%|██████████| 663924/663924 [00:02<00:00, 251126.98it/s]\n",
      "100%|██████████| 663924/663924 [00:02<00:00, 251483.74it/s]\n",
      "100%|██████████| 663924/663924 [00:02<00:00, 246127.04it/s]\n",
      "100%|██████████| 663924/663924 [00:02<00:00, 244577.70it/s]\n",
      "100%|██████████| 663924/663924 [00:02<00:00, 246878.32it/s]\n",
      "100%|██████████| 4/4 [00:00<00:00, 14525.73it/s]170.68it/s]\n",
      "100%|██████████| 663924/663924 [00:02<00:00, 248181.85it/s]\n",
      "100%|██████████| 663924/663924 [00:03<00:00, 193753.97it/s]\n",
      "100%|██████████| 663924/663924 [00:03<00:00, 189835.22it/s]\n",
      "100%|██████████| 663924/663924 [00:03<00:00, 186941.39it/s]\n",
      "100%|██████████| 663924/663924 [00:03<00:00, 193547.51it/s]\n",
      "100%|██████████| 663924/663924 [00:03<00:00, 171797.03it/s]\n",
      "100%|██████████| 663924/663924 [00:10<00:00, 61667.02it/s]\n"
     ]
    },
    {
     "name": "stdout",
     "output_type": "stream",
     "text": [
      "CPU times: user 5.93 s, sys: 4.57 s, total: 10.5 s\n",
      "Wall time: 20.5 s\n"
     ]
    }
   ],
   "source": [
    "%%time\n",
    "\n",
    "twitter = cleaning.multiprocessing_multiple(twitter, temp_dict, cleaning.string_dict_cleaning)"
   ]
  },
  {
   "cell_type": "code",
   "execution_count": 25,
   "metadata": {},
   "outputs": [
    {
     "name": "stdout",
     "output_type": "stream",
     "text": [
      "0\n",
      "CPU times: user 329 ms, sys: 1.1 s, total: 1.43 s\n",
      "Wall time: 1.63 s\n"
     ]
    }
   ],
   "source": [
    "%%time\n",
    "temp_dict = cleaning.multiprocessing(temp_vocab, cleaning.remove_starting_underscore, list_mode = False)\n",
    "print(len(temp_dict))"
   ]
  },
  {
   "cell_type": "code",
   "execution_count": 26,
   "metadata": {},
   "outputs": [
    {
     "name": "stderr",
     "output_type": "stream",
     "text": [
      "100%|██████████| 663924/663924 [00:02<00:00, 246036.95it/s]\n",
      "100%|██████████| 663924/663924 [00:02<00:00, 250173.53it/s]\n",
      "100%|██████████| 663924/663924 [00:02<00:00, 250259.08it/s]\n",
      "100%|██████████| 663924/663924 [00:02<00:00, 249211.48it/s]\n",
      "100%|██████████| 663924/663924 [00:02<00:00, 244434.27it/s]\n",
      "100%|██████████| 663924/663924 [00:02<00:00, 250325.13it/s]\n",
      "100%|██████████| 663924/663924 [00:02<00:00, 247052.67it/s]\n",
      "100%|██████████| 663924/663924 [00:02<00:00, 248710.13it/s]\n",
      "100%|██████████| 663924/663924 [00:02<00:00, 246781.88it/s]\n",
      "100%|██████████| 4/4 [00:00<00:00, 19306.35it/s]579.96it/s]\n",
      "100%|██████████| 663924/663924 [00:02<00:00, 238858.25it/s]\n",
      "100%|██████████| 663924/663924 [00:03<00:00, 192482.05it/s]\n",
      "100%|██████████| 663924/663924 [00:03<00:00, 189743.95it/s]\n",
      "100%|██████████| 663924/663924 [00:03<00:00, 191895.74it/s]\n",
      "100%|██████████| 663924/663924 [00:03<00:00, 188236.23it/s]\n",
      "100%|██████████| 663924/663924 [00:03<00:00, 169663.66it/s]\n",
      "100%|██████████| 663924/663924 [00:10<00:00, 61576.86it/s]\n"
     ]
    },
    {
     "name": "stdout",
     "output_type": "stream",
     "text": [
      "CPU times: user 6.07 s, sys: 4.75 s, total: 10.8 s\n",
      "Wall time: 20.6 s\n"
     ]
    }
   ],
   "source": [
    "%%time\n",
    "\n",
    "twitter = cleaning.multiprocessing_multiple(twitter, temp_dict, cleaning.string_dict_cleaning)"
   ]
  },
  {
   "cell_type": "code",
   "execution_count": 27,
   "metadata": {},
   "outputs": [
    {
     "name": "stdout",
     "output_type": "stream",
     "text": [
      "7786\n",
      "CPU times: user 358 ms, sys: 1.21 s, total: 1.57 s\n",
      "Wall time: 1.79 s\n"
     ]
    }
   ],
   "source": [
    "%%time\n",
    "temp_dict = cleaning.multiprocessing(temp_vocab, cleaning.end_punct, list_mode = False)\n",
    "print(len(temp_dict))"
   ]
  },
  {
   "cell_type": "code",
   "execution_count": 28,
   "metadata": {},
   "outputs": [
    {
     "name": "stderr",
     "output_type": "stream",
     "text": [
      "100%|██████████| 663924/663924 [00:02<00:00, 223530.32it/s]\n",
      "100%|██████████| 663924/663924 [00:02<00:00, 226391.21it/s]\n",
      "100%|██████████| 663924/663924 [00:02<00:00, 224833.55it/s]\n",
      "100%|██████████| 663924/663924 [00:02<00:00, 223539.13it/s]\n",
      "100%|██████████| 663924/663924 [00:02<00:00, 229677.74it/s]\n",
      "100%|██████████| 663924/663924 [00:02<00:00, 223366.71it/s]\n",
      "100%|██████████| 663924/663924 [00:02<00:00, 233456.15it/s]\n",
      "100%|██████████| 4/4 [00:00<00:00, 16008.79it/s]081.19it/s]\n",
      "100%|██████████| 663924/663924 [00:02<00:00, 223120.51it/s]\n",
      "100%|██████████| 663924/663924 [00:02<00:00, 228317.88it/s]\n",
      "100%|██████████| 663924/663924 [00:03<00:00, 212885.37it/s]\n",
      "100%|██████████| 663924/663924 [00:03<00:00, 178886.83it/s]\n",
      "100%|██████████| 663924/663924 [00:03<00:00, 174666.07it/s]\n",
      "100%|██████████| 663924/663924 [00:03<00:00, 178462.25it/s]\n",
      "100%|██████████| 663924/663924 [00:03<00:00, 180602.48it/s]\n",
      "100%|██████████| 663924/663924 [00:04<00:00, 161265.62it/s]\n",
      "100%|██████████| 663924/663924 [00:11<00:00, 57084.48it/s]\n"
     ]
    },
    {
     "name": "stdout",
     "output_type": "stream",
     "text": [
      "CPU times: user 6.04 s, sys: 4.67 s, total: 10.7 s\n",
      "Wall time: 21.6 s\n"
     ]
    }
   ],
   "source": [
    "%%time\n",
    "\n",
    "twitter = cleaning.multiprocessing_multiple(twitter, temp_dict, cleaning.string_dict_cleaning)"
   ]
  },
  {
   "cell_type": "code",
   "execution_count": 29,
   "metadata": {},
   "outputs": [
    {
     "name": "stdout",
     "output_type": "stream",
     "text": [
      "8141\n",
      "CPU times: user 361 ms, sys: 1.12 s, total: 1.48 s\n",
      "Wall time: 1.68 s\n"
     ]
    }
   ],
   "source": [
    "%%time\n",
    "temp_dict = cleaning.multiprocessing(temp_vocab, cleaning.start_punct, list_mode = False)\n",
    "print(len(temp_dict))"
   ]
  },
  {
   "cell_type": "code",
   "execution_count": 30,
   "metadata": {},
   "outputs": [
    {
     "name": "stderr",
     "output_type": "stream",
     "text": [
      "100%|██████████| 663924/663924 [00:02<00:00, 227264.77it/s]\n",
      "100%|██████████| 663924/663924 [00:02<00:00, 228698.97it/s]\n",
      "100%|██████████| 663924/663924 [00:02<00:00, 231499.63it/s]\n",
      "100%|██████████| 663924/663924 [00:02<00:00, 230859.81it/s]\n",
      "100%|██████████| 663924/663924 [00:02<00:00, 222296.55it/s]\n",
      "100%|██████████| 663924/663924 [00:02<00:00, 225925.88it/s]\n",
      "100%|██████████| 663924/663924 [00:02<00:00, 226714.34it/s]\n",
      "100%|██████████| 663924/663924 [00:02<00:00, 230462.97it/s]\n",
      "100%|██████████| 4/4 [00:00<00:00, 1229.91it/s]4537.04it/s]\n",
      "100%|██████████| 663924/663924 [00:05<00:00, 124394.59it/s]\n",
      "100%|██████████| 663924/663924 [00:06<00:00, 103264.98it/s]\n",
      "100%|██████████| 663924/663924 [00:07<00:00, 84352.46it/s] \n",
      "100%|██████████| 663924/663924 [00:07<00:00, 83531.74it/s] \n",
      "100%|██████████| 663924/663924 [00:07<00:00, 84140.36it/s] \n",
      "100%|██████████| 663924/663924 [00:07<00:00, 84618.65it/s] \n",
      "100%|██████████| 663924/663924 [00:08<00:00, 80007.88it/s] \n",
      "100%|██████████| 663924/663924 [00:15<00:00, 42160.41it/s]\n"
     ]
    },
    {
     "name": "stdout",
     "output_type": "stream",
     "text": [
      "CPU times: user 6.69 s, sys: 4.61 s, total: 11.3 s\n",
      "Wall time: 26.4 s\n"
     ]
    }
   ],
   "source": [
    "%%time\n",
    "\n",
    "twitter = cleaning.multiprocessing_multiple(twitter, temp_dict, cleaning.string_dict_cleaning)"
   ]
  },
  {
   "cell_type": "code",
   "execution_count": 31,
   "metadata": {},
   "outputs": [
    {
     "name": "stdout",
     "output_type": "stream",
     "text": [
      "0\n",
      "CPU times: user 299 ms, sys: 1.18 s, total: 1.48 s\n",
      "Wall time: 1.73 s\n"
     ]
    }
   ],
   "source": [
    "%%time\n",
    "temp_dict = cleaning.multiprocessing(temp_vocab, cleaning.join_dashes, list_mode = False)\n",
    "print(len(temp_dict))"
   ]
  },
  {
   "cell_type": "code",
   "execution_count": 32,
   "metadata": {},
   "outputs": [
    {
     "name": "stderr",
     "output_type": "stream",
     "text": [
      "100%|██████████| 663924/663924 [00:02<00:00, 251641.80it/s]\n",
      "100%|██████████| 663924/663924 [00:02<00:00, 238590.94it/s]\n",
      "100%|██████████| 663924/663924 [00:02<00:00, 249617.65it/s]\n",
      "100%|██████████| 663924/663924 [00:02<00:00, 245061.25it/s]\n",
      "100%|██████████| 663924/663924 [00:02<00:00, 246888.08it/s]\n",
      "100%|██████████| 663924/663924 [00:02<00:00, 244094.56it/s]\n",
      "100%|██████████| 663924/663924 [00:02<00:00, 249267.23it/s]\n",
      "100%|██████████| 4/4 [00:00<00:00, 16844.59it/s]067.06it/s]\n",
      "100%|██████████| 663924/663924 [00:02<00:00, 228816.52it/s]\n",
      "100%|██████████| 663924/663924 [00:02<00:00, 243267.94it/s]\n",
      "100%|██████████| 663924/663924 [00:02<00:00, 235518.30it/s]\n",
      "100%|██████████| 663924/663924 [00:03<00:00, 191134.84it/s]\n",
      "100%|██████████| 663924/663924 [00:03<00:00, 188155.18it/s]\n",
      "100%|██████████| 663924/663924 [00:03<00:00, 188343.53it/s]\n",
      "100%|██████████| 663924/663924 [00:03<00:00, 192953.48it/s]\n",
      "100%|██████████| 663924/663924 [00:03<00:00, 170139.27it/s]\n",
      "100%|██████████| 663924/663924 [00:11<00:00, 59864.54it/s]\n"
     ]
    },
    {
     "name": "stdout",
     "output_type": "stream",
     "text": [
      "CPU times: user 5.87 s, sys: 4.38 s, total: 10.2 s\n",
      "Wall time: 20.6 s\n"
     ]
    }
   ],
   "source": [
    "%%time\n",
    "\n",
    "twitter = cleaning.multiprocessing_multiple(twitter, temp_dict, cleaning.string_dict_cleaning)"
   ]
  },
  {
   "cell_type": "code",
   "execution_count": 33,
   "metadata": {},
   "outputs": [],
   "source": [
    "twitter = [s.lower() for s in twitter]"
   ]
  },
  {
   "cell_type": "code",
   "execution_count": 34,
   "metadata": {},
   "outputs": [
    {
     "data": {
      "text/plain": [
       "['ternyata kl lg sdih bisa ngasilin makanan enak',\n",
       " 'abu kampret',\n",
       " 'bapa saya suka pake oppo saya sukanya nokia kaka saya sukanya samsung yg penting punya hape aja',\n",
       " 'ngelamar kasih cincin tp kok mukanya songong ya sedih gue liatnya',\n",
       " 'caption iki nggarai uwong males nikah min ya kali manusia arep punah ngunu neg gak nikah',\n",
       " 'pertanyaannya sederhana jika kami memang dukung prabowo ngapain selama kampanye kemarin capek dukung jokowi sampa',\n",
       " '',\n",
       " 'memiliki sedikit iman lebih berharga dari pada memiliki segudang emas',\n",
       " 'untuk mengamankan suara partai ahmad rofiq selaku sekjen partai perindo meminta kepada seluruh caleg dan struktur',\n",
       " 'dom jakpus sih bebas mau ketemuan or shopee',\n",
       " 'bisa dapet duit ini kaga punya mobil juga kan kaya gemer gemer ini kaga',\n",
       " 'on jadahnyaaa in sorry bad english hihuheheho',\n",
       " 'valentino rossi tidak setuju kompetisi motogp dimulai dari eropa',\n",
       " 'sis tak faham apa yang mungkin ini puncanya tu',\n",
       " 'martabak terang bulan martabak untuk yg asin gurih a k a martabak telor terang bulan untuk yg manis yg gw s',\n",
       " 'dia dah tua put dah nak plus dia tak start regularly kat man utd so mesti ka',\n",
       " 'sejarah susah',\n",
       " 'loop in nama dlm email pon boleh jd issue dah org email aku reply all jelaaa ade mase pulak aku nak tengok satu nama recipients',\n",
       " 'tak sakit pun tapi saja nak bau minyak freshcare sbb bau lavender',\n",
       " 'rosmah',\n",
       " 'bila kau tengah feeling lagu raya',\n",
       " 'kekasih bayangan',\n",
       " 'hidup ni jgn terlalu nk mendongak ke atas nanti jatuh padan muka kau',\n",
       " 'pak kim',\n",
       " 'di rumah ga liat pohon kelapa sama nanas kan apalagi pohon pisang',\n",
       " 'wkwk',\n",
       " 'kanan sja bu',\n",
       " 'tak pon sebelum masuk dapur bagi salam dulu kan molek gitu',\n",
       " 'hilang nyawaku aku tgk',\n",
       " 'masuk ke channel bang evan ke ni',\n",
       " 'yg minat saya pon bole lekk',\n",
       " 'yer lah sbb sombong mmg lah',\n",
       " 'nti aku tengok dulu tiket dari kl pukul berapa ada nahh',\n",
       " 'ni pukul berapa tah nak sampai ukm tetiba jalan tutup pulak kena lalu jalan jauh',\n",
       " 'tkpe hehe asalkan effort ada',\n",
       " 'kenapa kipas number pun sejuk kalau bilik aku sorang ni aku dah tutup',\n",
       " 'google cabut lisensi android huawei bagaimana nasib honor tekno',\n",
       " 'dari semalam tak tidur lagi ek ni kejap lagi jangan leceh nampak tilam bantal confirm nyenyak punya',\n",
       " 'tidur di ubin biar ga jatoh lg',\n",
       " 'guys tolong rt tweet ni sampai owner dia dapat phone ni tertinggal kat belakang teksi pakcik saya model oppo r s',\n",
       " 'jujur kacang ijo',\n",
       " 'sahur tengah malam kaya nya enak ya',\n",
       " 'jenis jenis orang stalking di media sosial pakai akun palsu pakai akun temannya sanak saudaranya handai tau',\n",
       " 'benersi ga buka sm yg minyak aka gorengan amp makan nasi tapi abis pudding setengah lingkaran makannya mi trs ishy',\n",
       " 'hahahahha bahaya bela kucing comel ni sebab nnti hilang kena curi',\n",
       " 'aku ada motor racing aku bawa ronda awek lu bonceng sedar sedar seluat tkde dah punca mat rempit takboleh rap',\n",
       " 'pak prabowo itu vibesnya kebun binatang banget ya peliharaannya kucing sukanya naek kuda kemana mana pake baju safari',\n",
       " 'nak happiness bkn pegih ngn laki lain happiness it s between u and me bedek uh kau ckp takda happiness ss sem',\n",
       " 'makan serabi enak pas lagi panas serabinya terbuat dari kelapa neng tasya aa ikhlas',\n",
       " 'siapapun orangnya meski dia ustadz bersorban dan berjubah putih klo sdh k',\n",
       " 'loh kenapa kan marga oppa juga lee pasti enak yaudah oppa jalan jalan dong biar bisa liat pemandangan',\n",
       " 'ada apa yaa mbak mbak plat ag inii',\n",
       " 'kanan',\n",
       " 'nak mee kari nak sate nak laksa nak bihun sup nakkkkk semuaaaaa',\n",
       " 'jadi lumba lumba',\n",
       " 'still sedihbgt kebayang kan betapa sedih lu gak tau gimana lu di waktu tahun tahun thn dan seteru',\n",
       " 'iyaaa gue di hima periode ditambah malamnya gue rapat atau latihan ukm jadi kalo mau nongkrong bisanya jam keatas',\n",
       " 'bangga manfaat dilan perputaran uang yg mendukung pertumbuhan ekonomi mikro makro mengurangi pengangguran',\n",
       " 'drpd lahir sampai sekarang aku asyik ngantuk je',\n",
       " 'pgn chatime xixi tp jauh',\n",
       " 'dah tak kasi lampu ijo loh tinggal pepet to cuk hwhw',\n",
       " 'kecewa',\n",
       " 'batok kelapa menjadi bara terbakar semua tidak tersisa wahai saudara seiman senegara saya ucapakan selamat puas',\n",
       " 'jy liner jgak ke',\n",
       " 'ada benda mcm kotor mcm air susu atas kereta mcm ada org campak mula ingat mcm taik burung tp lain mcm',\n",
       " 'air koroi',\n",
       " 'ilmu perpustakaan point kuliah ttg manajemen perpustakaan literasi informasi teknologi informasi',\n",
       " 'ajax spurs lah anti menstrim',\n",
       " 'abis telan biji durian kali',\n",
       " 'apaan rambut item',\n",
       " 'senin april kita memperingati hari bumi bumi kita saat ini lagi menjerit kesakitan karena dirusak untuk m',\n",
       " 'gaya hidup sihat delayed',\n",
       " 'lia pulang mereka semuanya pedo kecuali aku jangan mau',\n",
       " 'bangun lambat lepas tu jalan jem gile haihhhh so stressss',\n",
       " 'nice igstory harini dah tak nmpak org repost sudan meal project tu',\n",
       " 'gone apa gitu je laa sendu sorang',\n",
       " 'bukan pola pikir seorang profesor hukum tapi cara berpikir seorang pedagang cendol',\n",
       " 'sobatani sebagai upaya meningkatkan generasi petani kementan membuat terobosan dengan mengubah sekolah tinggi pen',\n",
       " 'beomgyu ngambilin confetti yang nyangkut di rambut jimin dong liat gini aja soft akutuh cha',\n",
       " 'eh hello bosan tu sbb kau xmenghayati hahaha',\n",
       " 'crash on lebuhraya damansara puchong putrajaya amp cyberjaya still delaying traffic m more than usual',\n",
       " 'waduuh kamu dengerinnya sambil minum',\n",
       " 'rasa rasanya kalo lg gapunya duit gini nemu duit recehan yang nyelip dikantong celana atau nemu duit kerincingan',\n",
       " 'anjing lagi having sex gitu kak',\n",
       " 'i m at csf computer exchange cx in cyberjaya selangor darul ehsan w',\n",
       " 'clip percutian yang menarik haruslah dipadankan dengan tempat rare dan istimewa berlatar belakangkan gunung santubong dan berhadapan dengan laut china selatan oh indahnya dunia jom follow instagram kami',\n",
       " 'alhamdulillah hari ni iftar nasi kerabu ayam madu kak yong n laksam buat kali terakhir sebab kak aini last da berju',\n",
       " 'saya udah sering banget ngadepin jalanan macet di jakarta tapi sejauh ini yg paling anjing sih semuanya',\n",
       " 'hi baby baru bangun baby emo',\n",
       " 'twitter please do ur magic ini pertama kali nyah gua ngajak jalan dia karna selama bertahun tahun dia kuliah di j',\n",
       " 'jum cuckoo bersama nabil ahmad',\n",
       " 'nikammy',\n",
       " 'resort datuk jhon gani kuala penyu boleh bawa keluarga santai saja tempatnya pantai nya bersih dan indah tenan',\n",
       " 'uni kenapa sistem masuk sekolah ke tingkat lanjutan terlalu susah skr in',\n",
       " 'krisis perlembagaan kedua bermula balik dgn orang sama dgn',\n",
       " 'bagi saya diusia an kata jahat bukan lagi sesederhana mainan yang dirampas atau buku pr yang dirobek teman j',\n",
       " 'lapor arah demak tersendat dari tambak lorok wib dan sekarang di terminal terboyo masih rendet',\n",
       " 'kph ujung tombak pendukung visi misi gubernur kalbar dengan mengoptimalkan tugas dan fungsi pokok kesatuan peman',\n",
       " 'aku sedih ni tak ada siapa nak hiburkan ke',\n",
       " 'gue baru bangun juga lagi males pergi mana rumah gue kek kapal pecah utg kaga main twitter tmn gue zwoakowka kalo ga udh diciduk']"
      ]
     },
     "execution_count": 34,
     "metadata": {},
     "output_type": "execute_result"
    }
   ],
   "source": [
    "twitter[:100]"
   ]
  },
  {
   "cell_type": "code",
   "execution_count": 35,
   "metadata": {},
   "outputs": [],
   "source": [
    "with open('ms-socialmedia.json', 'w') as fopen:\n",
    "    json.dump(twitter, fopen)"
   ]
  },
  {
   "cell_type": "code",
   "execution_count": 37,
   "metadata": {},
   "outputs": [],
   "source": [
    "# !wget https://malaya-dataset.s3-ap-southeast-1.amazonaws.com/dumping/twitter/2020-02-22-twitter-dump-en.json\n",
    "# !wget https://malaya-dataset.s3-ap-southeast-1.amazonaws.com/dumping/twitter/2020-03-08-twitter-dump-en.json"
   ]
  },
  {
   "cell_type": "code",
   "execution_count": 38,
   "metadata": {},
   "outputs": [
    {
     "name": "stdout",
     "output_type": "stream",
     "text": [
      "2020-02-22-twitter-dump-en.json\n"
     ]
    },
    {
     "name": "stderr",
     "output_type": "stream",
     "text": [
      "100%|██████████| 717858/717858 [00:00<00:00, 1241059.53it/s]\n"
     ]
    },
    {
     "name": "stdout",
     "output_type": "stream",
     "text": [
      "2020-03-08-twitter-dump-en.json\n"
     ]
    },
    {
     "name": "stderr",
     "output_type": "stream",
     "text": [
      "100%|██████████| 716237/716237 [00:00<00:00, 1302148.73it/s]\n"
     ]
    }
   ],
   "source": [
    "files = ['2020-02-22-twitter-dump-en.json', '2020-03-08-twitter-dump-en.json']\n",
    "\n",
    "twitter_en = []\n",
    "\n",
    "for file in files:\n",
    "    print(file)\n",
    "\n",
    "    with open(file) as fopen:\n",
    "        temp = json.load(fopen)\n",
    "\n",
    "    for i in tqdm(range(len(temp))):\n",
    "        retweet = temp[i]['retweet_text_full']\n",
    "        t = temp[i]['data_text']\n",
    "        if retweet != 'NULL' and len(retweet) > len(t):\n",
    "            t = retweet\n",
    "        twitter_en.append(t)"
   ]
  },
  {
   "cell_type": "code",
   "execution_count": 39,
   "metadata": {},
   "outputs": [
    {
     "name": "stderr",
     "output_type": "stream",
     "text": [
      "100%|██████████| 89630/89630 [00:01<00:00, 48108.90it/s]\n",
      "100%|██████████| 89630/89630 [00:01<00:00, 45142.51it/s]\n",
      "100%|██████████| 15/15 [00:00<00:00, 31285.21it/s]4it/s]\n",
      "100%|██████████| 89630/89630 [00:01<00:00, 48542.65it/s]\n",
      "100%|██████████| 89630/89630 [00:02<00:00, 42486.67it/s]\n",
      "100%|██████████| 89630/89630 [00:01<00:00, 47054.10it/s]\n",
      "100%|██████████| 89630/89630 [00:02<00:00, 41807.66it/s]\n",
      "100%|██████████| 89630/89630 [00:02<00:00, 42366.08it/s]\n",
      "100%|██████████| 89630/89630 [00:02<00:00, 43763.66it/s]\n",
      "100%|██████████| 89630/89630 [00:01<00:00, 47402.76it/s]\n",
      "100%|██████████| 89630/89630 [00:01<00:00, 44957.74it/s]\n",
      "100%|██████████| 89630/89630 [00:02<00:00, 44291.99it/s]\n",
      "100%|██████████| 89630/89630 [00:01<00:00, 46594.34it/s]\n",
      "100%|██████████| 89630/89630 [00:02<00:00, 44319.01it/s]\n",
      "100%|██████████| 89630/89630 [00:02<00:00, 44808.78it/s]\n",
      "100%|██████████| 89630/89630 [00:02<00:00, 42477.19it/s]\n",
      "100%|██████████| 89630/89630 [00:02<00:00, 42444.29it/s]\n"
     ]
    },
    {
     "name": "stdout",
     "output_type": "stream",
     "text": [
      "CPU times: user 1.11 s, sys: 1.65 s, total: 2.76 s\n",
      "Wall time: 4.63 s\n"
     ]
    }
   ],
   "source": [
    "%%time\n",
    "\n",
    "twitter_en = cleaning.multiprocessing(twitter_en, loop)"
   ]
  },
  {
   "cell_type": "code",
   "execution_count": 42,
   "metadata": {},
   "outputs": [],
   "source": [
    "twitter_en = [s.lower() for s in twitter_en]\n",
    "twitter_en = list(filter(None, twitter_en))"
   ]
  },
  {
   "cell_type": "code",
   "execution_count": 44,
   "metadata": {},
   "outputs": [],
   "source": [
    "with open('en-socialmedia.json', 'w') as fopen:\n",
    "    json.dump(twitter_en, fopen)"
   ]
  }
 ],
 "metadata": {
  "kernelspec": {
   "display_name": "Python 3",
   "language": "python",
   "name": "python3"
  },
  "language_info": {
   "codemirror_mode": {
    "name": "ipython",
    "version": 3
   },
   "file_extension": ".py",
   "mimetype": "text/x-python",
   "name": "python",
   "nbconvert_exporter": "python",
   "pygments_lexer": "ipython3",
   "version": "3.6.8"
  }
 },
 "nbformat": 4,
 "nbformat_minor": 2
}
