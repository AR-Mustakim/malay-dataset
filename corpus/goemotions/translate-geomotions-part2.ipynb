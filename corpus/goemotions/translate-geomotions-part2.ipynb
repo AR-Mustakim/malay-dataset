{
 "cells": [
  {
   "cell_type": "code",
   "execution_count": 3,
   "metadata": {},
   "outputs": [],
   "source": [
    "import os\n",
    "os.environ['CUDA_VISIBLE_DEVICES'] = ''"
   ]
  },
  {
   "cell_type": "code",
   "execution_count": 4,
   "metadata": {},
   "outputs": [
    {
     "data": {
      "text/plain": [
       "['goemotions_2.csv']"
      ]
     },
     "execution_count": 4,
     "metadata": {},
     "output_type": "execute_result"
    }
   ],
   "source": [
    "from glob import glob\n",
    "goemotions = glob('goemotions_*.csv')\n",
    "goemotions"
   ]
  },
  {
   "cell_type": "code",
   "execution_count": 5,
   "metadata": {},
   "outputs": [],
   "source": [
    "import malaya\n",
    "import pandas as pd"
   ]
  },
  {
   "cell_type": "code",
   "execution_count": 6,
   "metadata": {},
   "outputs": [
    {
     "data": {
      "text/html": [
       "<div>\n",
       "<style scoped>\n",
       "    .dataframe tbody tr th:only-of-type {\n",
       "        vertical-align: middle;\n",
       "    }\n",
       "\n",
       "    .dataframe tbody tr th {\n",
       "        vertical-align: top;\n",
       "    }\n",
       "\n",
       "    .dataframe thead th {\n",
       "        text-align: right;\n",
       "    }\n",
       "</style>\n",
       "<table border=\"1\" class=\"dataframe\">\n",
       "  <thead>\n",
       "    <tr style=\"text-align: right;\">\n",
       "      <th></th>\n",
       "      <th>text</th>\n",
       "      <th>id</th>\n",
       "      <th>author</th>\n",
       "      <th>subreddit</th>\n",
       "      <th>link_id</th>\n",
       "      <th>parent_id</th>\n",
       "      <th>created_utc</th>\n",
       "      <th>rater_id</th>\n",
       "      <th>example_very_unclear</th>\n",
       "      <th>admiration</th>\n",
       "      <th>...</th>\n",
       "      <th>love</th>\n",
       "      <th>nervousness</th>\n",
       "      <th>optimism</th>\n",
       "      <th>pride</th>\n",
       "      <th>realization</th>\n",
       "      <th>relief</th>\n",
       "      <th>remorse</th>\n",
       "      <th>sadness</th>\n",
       "      <th>surprise</th>\n",
       "      <th>neutral</th>\n",
       "    </tr>\n",
       "  </thead>\n",
       "  <tbody>\n",
       "    <tr>\n",
       "      <th>0</th>\n",
       "      <td>We can hope</td>\n",
       "      <td>ee3o3ko</td>\n",
       "      <td>darkenseyreth</td>\n",
       "      <td>EdmontonOilers</td>\n",
       "      <td>t3_ag4r9j</td>\n",
       "      <td>t1_ee3mhad</td>\n",
       "      <td>1.547529e+09</td>\n",
       "      <td>62</td>\n",
       "      <td>False</td>\n",
       "      <td>0</td>\n",
       "      <td>...</td>\n",
       "      <td>0</td>\n",
       "      <td>0</td>\n",
       "      <td>1</td>\n",
       "      <td>0</td>\n",
       "      <td>0</td>\n",
       "      <td>0</td>\n",
       "      <td>0</td>\n",
       "      <td>0</td>\n",
       "      <td>0</td>\n",
       "      <td>0</td>\n",
       "    </tr>\n",
       "    <tr>\n",
       "      <th>1</th>\n",
       "      <td>Shhh don't give them the idea!</td>\n",
       "      <td>eebl3z7</td>\n",
       "      <td>BoinkBoinkEtAliae</td>\n",
       "      <td>MurderedByWords</td>\n",
       "      <td>t3_ah3o76</td>\n",
       "      <td>t1_eeb68lo</td>\n",
       "      <td>1.547777e+09</td>\n",
       "      <td>76</td>\n",
       "      <td>False</td>\n",
       "      <td>0</td>\n",
       "      <td>...</td>\n",
       "      <td>0</td>\n",
       "      <td>0</td>\n",
       "      <td>0</td>\n",
       "      <td>0</td>\n",
       "      <td>0</td>\n",
       "      <td>0</td>\n",
       "      <td>0</td>\n",
       "      <td>0</td>\n",
       "      <td>0</td>\n",
       "      <td>0</td>\n",
       "    </tr>\n",
       "    <tr>\n",
       "      <th>2</th>\n",
       "      <td>Thank you so much, kind stranger. I really nee...</td>\n",
       "      <td>ed4fe9l</td>\n",
       "      <td>savageleaf</td>\n",
       "      <td>raisedbynarcissists</td>\n",
       "      <td>t3_abwh00</td>\n",
       "      <td>t1_ed4etbj</td>\n",
       "      <td>1.546482e+09</td>\n",
       "      <td>24</td>\n",
       "      <td>False</td>\n",
       "      <td>0</td>\n",
       "      <td>...</td>\n",
       "      <td>0</td>\n",
       "      <td>0</td>\n",
       "      <td>0</td>\n",
       "      <td>0</td>\n",
       "      <td>0</td>\n",
       "      <td>0</td>\n",
       "      <td>0</td>\n",
       "      <td>0</td>\n",
       "      <td>0</td>\n",
       "      <td>0</td>\n",
       "    </tr>\n",
       "    <tr>\n",
       "      <th>3</th>\n",
       "      <td>Ion know but it would be better for you to jus...</td>\n",
       "      <td>efavtdu</td>\n",
       "      <td>CADDiLLXC</td>\n",
       "      <td>darknet</td>\n",
       "      <td>t3_al4njw</td>\n",
       "      <td>t3_al4njw</td>\n",
       "      <td>1.548800e+09</td>\n",
       "      <td>62</td>\n",
       "      <td>False</td>\n",
       "      <td>0</td>\n",
       "      <td>...</td>\n",
       "      <td>0</td>\n",
       "      <td>0</td>\n",
       "      <td>0</td>\n",
       "      <td>0</td>\n",
       "      <td>0</td>\n",
       "      <td>0</td>\n",
       "      <td>0</td>\n",
       "      <td>0</td>\n",
       "      <td>0</td>\n",
       "      <td>1</td>\n",
       "    </tr>\n",
       "    <tr>\n",
       "      <th>4</th>\n",
       "      <td>I'm honestly surprised. We should have fallen ...</td>\n",
       "      <td>ee2imz2</td>\n",
       "      <td>CorporalThornberry</td>\n",
       "      <td>CollegeBasketball</td>\n",
       "      <td>t3_afxt6t</td>\n",
       "      <td>t1_ee22nyr</td>\n",
       "      <td>1.547497e+09</td>\n",
       "      <td>55</td>\n",
       "      <td>False</td>\n",
       "      <td>0</td>\n",
       "      <td>...</td>\n",
       "      <td>0</td>\n",
       "      <td>0</td>\n",
       "      <td>0</td>\n",
       "      <td>0</td>\n",
       "      <td>0</td>\n",
       "      <td>0</td>\n",
       "      <td>0</td>\n",
       "      <td>0</td>\n",
       "      <td>0</td>\n",
       "      <td>0</td>\n",
       "    </tr>\n",
       "  </tbody>\n",
       "</table>\n",
       "<p>5 rows × 37 columns</p>\n",
       "</div>"
      ],
      "text/plain": [
       "                                                text       id  \\\n",
       "0                                        We can hope  ee3o3ko   \n",
       "1                     Shhh don't give them the idea!  eebl3z7   \n",
       "2  Thank you so much, kind stranger. I really nee...  ed4fe9l   \n",
       "3  Ion know but it would be better for you to jus...  efavtdu   \n",
       "4  I'm honestly surprised. We should have fallen ...  ee2imz2   \n",
       "\n",
       "               author            subreddit    link_id   parent_id  \\\n",
       "0       darkenseyreth       EdmontonOilers  t3_ag4r9j  t1_ee3mhad   \n",
       "1   BoinkBoinkEtAliae      MurderedByWords  t3_ah3o76  t1_eeb68lo   \n",
       "2          savageleaf  raisedbynarcissists  t3_abwh00  t1_ed4etbj   \n",
       "3           CADDiLLXC              darknet  t3_al4njw   t3_al4njw   \n",
       "4  CorporalThornberry    CollegeBasketball  t3_afxt6t  t1_ee22nyr   \n",
       "\n",
       "    created_utc  rater_id  example_very_unclear  admiration  ...  love  \\\n",
       "0  1.547529e+09        62                 False           0  ...     0   \n",
       "1  1.547777e+09        76                 False           0  ...     0   \n",
       "2  1.546482e+09        24                 False           0  ...     0   \n",
       "3  1.548800e+09        62                 False           0  ...     0   \n",
       "4  1.547497e+09        55                 False           0  ...     0   \n",
       "\n",
       "   nervousness  optimism  pride  realization  relief  remorse  sadness  \\\n",
       "0            0         1      0            0       0        0        0   \n",
       "1            0         0      0            0       0        0        0   \n",
       "2            0         0      0            0       0        0        0   \n",
       "3            0         0      0            0       0        0        0   \n",
       "4            0         0      0            0       0        0        0   \n",
       "\n",
       "   surprise  neutral  \n",
       "0         0        0  \n",
       "1         0        0  \n",
       "2         0        0  \n",
       "3         0        1  \n",
       "4         0        0  \n",
       "\n",
       "[5 rows x 37 columns]"
      ]
     },
     "execution_count": 6,
     "metadata": {},
     "output_type": "execute_result"
    }
   ],
   "source": [
    "df = pd.read_csv(goemotions[0])\n",
    "df.head()"
   ]
  },
  {
   "cell_type": "code",
   "execution_count": 7,
   "metadata": {},
   "outputs": [],
   "source": [
    "transformer = malaya.translation.en_ms.transformer()"
   ]
  },
  {
   "cell_type": "code",
   "execution_count": 8,
   "metadata": {},
   "outputs": [
    {
     "name": "stdout",
     "output_type": "stream",
     "text": [
      "downloading frozen model to /home/husein/Malaya/preprocessing/english-malay/english-malay-200k.json\n"
     ]
    },
    {
     "name": "stderr",
     "output_type": "stream",
     "text": [
      "6.00MB [00:01, 4.05MB/s]                          \n"
     ]
    }
   ],
   "source": [
    "preprocessing = malaya.preprocessing.preprocessing(normalize = [],\n",
    "                                                  annotate = [],\n",
    "                                                  lowercase = [],\n",
    "                                                  expand_english_contractions = True)"
   ]
  },
  {
   "cell_type": "code",
   "execution_count": 9,
   "metadata": {},
   "outputs": [],
   "source": [
    "texts = df['text'].tolist()"
   ]
  },
  {
   "cell_type": "code",
   "execution_count": 10,
   "metadata": {},
   "outputs": [
    {
     "name": "stderr",
     "output_type": "stream",
     "text": [
      " 73%|███████▎  | 51403/70000 [5:37:05<2:10:37,  2.37it/s] IOPub message rate exceeded.\n",
      "The notebook server will temporarily stop sending output\n",
      "to the client in order to avoid crashing it.\n",
      "To change this limit, set the config variable\n",
      "`--NotebookApp.iopub_msg_rate_limit`.\n",
      "\n",
      "Current values:\n",
      "NotebookApp.iopub_msg_rate_limit=1000.0 (msgs/sec)\n",
      "NotebookApp.rate_limit_window=3.0 (secs)\n",
      "\n",
      " 83%|████████▎ | 58172/70000 [6:20:41<51:41,  3.81it/s]  IOPub message rate exceeded.\n",
      "The notebook server will temporarily stop sending output\n",
      "to the client in order to avoid crashing it.\n",
      "To change this limit, set the config variable\n",
      "`--NotebookApp.iopub_msg_rate_limit`.\n",
      "\n",
      "Current values:\n",
      "NotebookApp.iopub_msg_rate_limit=1000.0 (msgs/sec)\n",
      "NotebookApp.rate_limit_window=3.0 (secs)\n",
      "\n",
      " 93%|█████████▎| 64916/70000 [7:03:44<34:55,  2.43it/s]  IOPub message rate exceeded.\n",
      "The notebook server will temporarily stop sending output\n",
      "to the client in order to avoid crashing it.\n",
      "To change this limit, set the config variable\n",
      "`--NotebookApp.iopub_msg_rate_limit`.\n",
      "\n",
      "Current values:\n",
      "NotebookApp.iopub_msg_rate_limit=1000.0 (msgs/sec)\n",
      "NotebookApp.rate_limit_window=3.0 (secs)\n",
      "\n",
      "100%|██████████| 70000/70000 [7:36:09<00:00,  2.56it/s]\n"
     ]
    }
   ],
   "source": [
    "from tqdm import tqdm\n",
    "\n",
    "translate_nmt, translate_replace = [], []\n",
    "\n",
    "for i in tqdm(range(len(texts))):\n",
    "    s = texts[i]\n",
    "    r_nmt = None\n",
    "    r_replace = None\n",
    "    try:\n",
    "        r_nmt = transformer.greedy_decoder([s])[0]\n",
    "    except:\n",
    "        pass\n",
    "    try:\n",
    "        r_replace = ' '.join(preprocessing.process(s))\n",
    "    except:\n",
    "        pass\n",
    "    translate_nmt.append(r_nmt)\n",
    "    translate_replace.append(r_replace)"
   ]
  },
  {
   "cell_type": "code",
   "execution_count": 11,
   "metadata": {},
   "outputs": [],
   "source": [
    "df['translate_nmt'] = translate_nmt\n",
    "df['translate_replace'] = translate_replace"
   ]
  },
  {
   "cell_type": "code",
   "execution_count": 12,
   "metadata": {},
   "outputs": [],
   "source": [
    "df.to_csv('goemotions_2.translated.csv', index = False)"
   ]
  }
 ],
 "metadata": {
  "kernelspec": {
   "display_name": "Python 3",
   "language": "python",
   "name": "python3"
  },
  "language_info": {
   "codemirror_mode": {
    "name": "ipython",
    "version": 3
   },
   "file_extension": ".py",
   "mimetype": "text/x-python",
   "name": "python",
   "nbconvert_exporter": "python",
   "pygments_lexer": "ipython3",
   "version": "3.6.9"
  }
 },
 "nbformat": 4,
 "nbformat_minor": 2
}
