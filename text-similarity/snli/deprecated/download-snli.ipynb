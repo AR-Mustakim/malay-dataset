{
 "cells": [
  {
   "cell_type": "code",
   "execution_count": 1,
   "metadata": {},
   "outputs": [],
   "source": [
    "# !wget https://nlp.stanford.edu/projects/snli/snli_1.0.zip\n",
    "# !unzip snli_1.0.zip"
   ]
  },
  {
   "cell_type": "code",
   "execution_count": 2,
   "metadata": {},
   "outputs": [],
   "source": [
    "import pandas as pd\n",
    "\n",
    "df = pd.read_csv('snli_1.0/snli_1.0_train.txt', sep='\\t')[['gold_label', 'sentence1', 'sentence2']]\n",
    "df['combined'] = df['sentence1'] + ' <> ' + df['sentence2']\n",
    "df = df[['gold_label', 'combined']]\n",
    "train = df.values.tolist()"
   ]
  },
  {
   "cell_type": "code",
   "execution_count": 3,
   "metadata": {},
   "outputs": [],
   "source": [
    "df = pd.read_csv('snli_1.0/snli_1.0_test.txt', sep='\\t')[['gold_label', 'sentence1', 'sentence2']]\n",
    "df['combined'] = df['sentence1'] + ' <> ' + df['sentence2']\n",
    "df = df[['gold_label', 'combined']]\n",
    "train.extend(df.values.tolist())"
   ]
  },
  {
   "cell_type": "code",
   "execution_count": 4,
   "metadata": {},
   "outputs": [],
   "source": [
    "df = pd.read_csv('snli_1.0/snli_1.0_dev.txt', sep='\\t')[['gold_label', 'sentence1', 'sentence2']]\n",
    "df['combined'] = df['sentence1'] + ' <> ' + df['sentence2']\n",
    "df = df[['gold_label', 'combined']]\n",
    "train.extend(df.values.tolist())"
   ]
  },
  {
   "cell_type": "code",
   "execution_count": 5,
   "metadata": {},
   "outputs": [
    {
     "data": {
      "text/plain": [
       "570152"
      ]
     },
     "execution_count": 5,
     "metadata": {},
     "output_type": "execute_result"
    }
   ],
   "source": [
    "len(train)"
   ]
  },
  {
   "cell_type": "code",
   "execution_count": 6,
   "metadata": {},
   "outputs": [],
   "source": [
    "import json\n",
    "\n",
    "with open('snli.json', 'w') as fopen:\n",
    "    json.dump(train, fopen)"
   ]
  },
  {
   "cell_type": "code",
   "execution_count": null,
   "metadata": {},
   "outputs": [],
   "source": []
  }
 ],
 "metadata": {
  "kernelspec": {
   "display_name": "Python 3",
   "language": "python",
   "name": "python3"
  },
  "language_info": {
   "codemirror_mode": {
    "name": "ipython",
    "version": 3
   },
   "file_extension": ".py",
   "mimetype": "text/x-python",
   "name": "python",
   "nbconvert_exporter": "python",
   "pygments_lexer": "ipython3",
   "version": "3.6.8"
  }
 },
 "nbformat": 4,
 "nbformat_minor": 2
}
