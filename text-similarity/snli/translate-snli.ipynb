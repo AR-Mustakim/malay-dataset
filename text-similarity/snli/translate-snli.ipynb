{
 "cells": [
  {
   "cell_type": "code",
   "execution_count": 10,
   "metadata": {},
   "outputs": [],
   "source": [
    "# !wget https://nlp.stanford.edu/projects/snli/snli_1.0.zip\n",
    "# !unzip snli_1.0.zip"
   ]
  },
  {
   "cell_type": "code",
   "execution_count": null,
   "metadata": {},
   "outputs": [],
   "source": [
    "import os\n",
    "\n",
    "os.environ['CUDA_VISIBLE_DEVICES'] = '0'\n",
    "import malaya\n",
    "transformer = malaya.translation.en_ms.transformer()"
   ]
  },
  {
   "cell_type": "code",
   "execution_count": 9,
   "metadata": {},
   "outputs": [],
   "source": [
    "files = ['snli_1.0/snli_1.0_dev.jsonl', 'snli_1.0/snli_1.0_test.jsonl', 'snli_1.0/snli_1.0_train.jsonl']"
   ]
  },
  {
   "cell_type": "code",
   "execution_count": 11,
   "metadata": {},
   "outputs": [
    {
     "data": {
      "text/plain": [
       "('snli_1.0', 'snli_1.0_dev.jsonl')"
      ]
     },
     "execution_count": 11,
     "metadata": {},
     "output_type": "execute_result"
    }
   ],
   "source": [
    "f = 'snli_1.0/snli_1.0_dev.jsonl'\n",
    "os.path.split(f)"
   ]
  },
  {
   "cell_type": "code",
   "execution_count": 13,
   "metadata": {},
   "outputs": [
    {
     "name": "stdout",
     "output_type": "stream",
     "text": [
      "snli_1.0/snli_1.0_dev.jsonl\n",
      "snli_1.0/snli_1.0_test.jsonl\n",
      "snli_1.0/snli_1.0_train.jsonl\n"
     ]
    }
   ],
   "source": [
    "import json\n",
    "\n",
    "for f in files:\n",
    "    print(f)\n",
    "    results = []\n",
    "    filename = os.path.split(f)[1]\n",
    "    with open(f) as fopen:\n",
    "        for line in fopen:\n",
    "            l = json.loads(line)\n",
    "            en = [l['sentence1'], l['sentence2']]\n",
    "            ms = transformer.greedy_decoder(en)\n",
    "            results.append({'gold_label': l['gold_label'], 'captionID': l['captionID'],\n",
    "                           'pairID': l['pairID'], 'en': en, 'ms': ms})\n",
    "    filename = filename.replace('jsonl', 'json')\n",
    "    with open(f'{filename}.translate', 'w') as fopen:\n",
    "        json.dump(results, fopen)"
   ]
  },
  {
   "cell_type": "code",
   "execution_count": null,
   "metadata": {},
   "outputs": [],
   "source": []
  }
 ],
 "metadata": {
  "kernelspec": {
   "display_name": "Python 3",
   "language": "python",
   "name": "python3"
  },
  "language_info": {
   "codemirror_mode": {
    "name": "ipython",
    "version": 3
   },
   "file_extension": ".py",
   "mimetype": "text/x-python",
   "name": "python",
   "nbconvert_exporter": "python",
   "pygments_lexer": "ipython3",
   "version": "3.6.9"
  }
 },
 "nbformat": 4,
 "nbformat_minor": 2
}
