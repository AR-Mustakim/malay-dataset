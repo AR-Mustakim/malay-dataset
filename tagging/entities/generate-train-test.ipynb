{
 "cells": [
  {
   "cell_type": "code",
   "execution_count": 1,
   "metadata": {},
   "outputs": [],
   "source": [
    "import json\n",
    "import numpy as np\n",
    "import pickle\n",
    "from glob import glob"
   ]
  },
  {
   "cell_type": "code",
   "execution_count": 2,
   "metadata": {},
   "outputs": [],
   "source": [
    "import json\n",
    "\n",
    "with open('entities-data-v4.json') as fopen:\n",
    "    ori = json.load(fopen)"
   ]
  },
  {
   "cell_type": "code",
   "execution_count": 3,
   "metadata": {},
   "outputs": [],
   "source": [
    "train_ori = ori['text'][:-int(0.2 * len(ori['text']))]\n",
    "test_ori = ori['text'][-int(0.2 * len(ori['text'])):]"
   ]
  },
  {
   "cell_type": "code",
   "execution_count": 4,
   "metadata": {},
   "outputs": [],
   "source": [
    "train_label = ori['label'][:-int(0.2 * len(ori['text']))]\n",
    "test_label = ori['label'][-int(0.2 * len(ori['text'])):]"
   ]
  },
  {
   "cell_type": "code",
   "execution_count": 5,
   "metadata": {},
   "outputs": [
    {
     "data": {
      "text/plain": [
       "(52586, 52586)"
      ]
     },
     "execution_count": 5,
     "metadata": {},
     "output_type": "execute_result"
    }
   ],
   "source": [
    "len(train_ori), len(train_label)"
   ]
  },
  {
   "cell_type": "code",
   "execution_count": 6,
   "metadata": {},
   "outputs": [
    {
     "data": {
      "text/plain": [
       "['location-augmentation.json',\n",
       " 'law-augmentation.json',\n",
       " 'name-augmentation.json',\n",
       " 'org-augmentation.json',\n",
       " 'event-augmentation.json']"
      ]
     },
     "execution_count": 6,
     "metadata": {},
     "output_type": "execute_result"
    }
   ],
   "source": [
    "augments = glob('*-augmentation.json')\n",
    "augments = [a for a in augments if 'entities-augmentation' not in a]\n",
    "augments"
   ]
  },
  {
   "cell_type": "code",
   "execution_count": 7,
   "metadata": {},
   "outputs": [
    {
     "name": "stdout",
     "output_type": "stream",
     "text": [
      "52586 52586 13146 13146\n",
      "location-augmentation.json 4742529 4742529 1184573 1184573\n",
      "law-augmentation.json 4778142 4778142 1193849 1193849\n",
      "name-augmentation.json 5135500 5135500 1283292 1283292\n",
      "org-augmentation.json 5282968 5282968 1320321 1320321\n",
      "event-augmentation.json 5387355 5387355 1347110 1347110\n"
     ]
    }
   ],
   "source": [
    "import itertools\n",
    "\n",
    "print(len(train_ori), len(train_label), len(test_ori), len(test_label))\n",
    "\n",
    "for f in augments:\n",
    "    with open(f) as fopen:\n",
    "        x = json.load(fopen)\n",
    "    \n",
    "    train_ori.extend(list(itertools.chain(*x['train_X'])))\n",
    "    train_label.extend(list(itertools.chain(*x['train_Y'])))\n",
    "    \n",
    "    test_ori.extend(list(itertools.chain(*x['test_X'])))\n",
    "    test_label.extend(list(itertools.chain(*x['test_Y'])))\n",
    "    \n",
    "    print(f, len(train_ori), len(train_label), len(test_ori), len(test_label))"
   ]
  },
  {
   "cell_type": "code",
   "execution_count": 8,
   "metadata": {},
   "outputs": [
    {
     "data": {
      "text/plain": [
       "(5387355, 1347110)"
      ]
     },
     "execution_count": 8,
     "metadata": {},
     "output_type": "execute_result"
    }
   ],
   "source": [
    "len(train_ori), len(test_ori)"
   ]
  },
  {
   "cell_type": "code",
   "execution_count": 9,
   "metadata": {},
   "outputs": [],
   "source": [
    "train_ori = [s.title() if s[0].isupper() else s for s in train_ori]\n",
    "test_ori = [s.title() if s[0].isupper() else s for s in test_ori]"
   ]
  },
  {
   "cell_type": "code",
   "execution_count": 10,
   "metadata": {},
   "outputs": [],
   "source": [
    "tag2idx = {'PAD': 0,\n",
    " 'X': 1,\n",
    " 'OTHER': 2,\n",
    " 'organization': 3,\n",
    " 'person': 4,\n",
    " 'time': 5,\n",
    " 'location': 6,\n",
    " 'quantity': 7,\n",
    " 'law': 8,\n",
    " 'event': 9}"
   ]
  },
  {
   "cell_type": "code",
   "execution_count": 11,
   "metadata": {},
   "outputs": [],
   "source": [
    "seq_len = 50\n",
    "def iter_seq(x):\n",
    "    return [x[i: i+seq_len] for i in range(0, len(x)-seq_len, 1)]\n",
    "\n",
    "def to_train_seq(*args):\n",
    "    return [iter_seq(x) for x in args]"
   ]
  },
  {
   "cell_type": "code",
   "execution_count": null,
   "metadata": {},
   "outputs": [],
   "source": [
    "train_X_seq, train_Y_seq = to_train_seq(train_ori, train_label)"
   ]
  },
  {
   "cell_type": "code",
   "execution_count": null,
   "metadata": {},
   "outputs": [],
   "source": [
    "len(test_label), len(test_ori)"
   ]
  },
  {
   "cell_type": "code",
   "execution_count": null,
   "metadata": {},
   "outputs": [],
   "source": [
    "test_X_seq, test_Y_seq = to_train_seq(test_ori[:100], test_label[:100])"
   ]
  },
  {
   "cell_type": "code",
   "execution_count": null,
   "metadata": {},
   "outputs": [],
   "source": [
    "with open('session-entities.pkl', 'wb') as fopen:\n",
    "    pickle.dump({'train_X': train_X_seq, 'train_Y': train_Y_seq,\n",
    "                'test_X': test_X_seq, 'test_Y': test_Y_seq}, fopen)"
   ]
  }
 ],
 "metadata": {
  "kernelspec": {
   "display_name": "Python 3",
   "language": "python",
   "name": "python3"
  },
  "language_info": {
   "codemirror_mode": {
    "name": "ipython",
    "version": 3
   },
   "file_extension": ".py",
   "mimetype": "text/x-python",
   "name": "python",
   "nbconvert_exporter": "python",
   "pygments_lexer": "ipython3",
   "version": "3.6.8"
  }
 },
 "nbformat": 4,
 "nbformat_minor": 2
}
