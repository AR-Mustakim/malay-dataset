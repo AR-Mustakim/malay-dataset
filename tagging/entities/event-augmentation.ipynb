{
 "cells": [
  {
   "cell_type": "code",
   "execution_count": 1,
   "metadata": {},
   "outputs": [],
   "source": [
    "import numpy as np\n",
    "from sklearn.model_selection import train_test_split\n",
    "import json"
   ]
  },
  {
   "cell_type": "code",
   "execution_count": 2,
   "metadata": {},
   "outputs": [],
   "source": [
    "# !wget https://raw.githubusercontent.com/huseinzol05/Malaya-Dataset/master/crawl/ticket2u/ticketui.json"
   ]
  },
  {
   "cell_type": "code",
   "execution_count": 3,
   "metadata": {},
   "outputs": [],
   "source": [
    "with open('ticketui.json') as fopen:\n",
    "    ticket2u = json.load(fopen)"
   ]
  },
  {
   "cell_type": "code",
   "execution_count": 4,
   "metadata": {},
   "outputs": [],
   "source": [
    "import re\n",
    "\n",
    "def cjk_detect(texts):\n",
    "    # korean\n",
    "    if re.search(\"[\\uac00-\\ud7a3]\", texts):\n",
    "        return \"ko\"\n",
    "    # japanese\n",
    "    if re.search(\"[\\u3040-\\u30ff]\", texts):\n",
    "        return \"ja\"\n",
    "    # chinese\n",
    "    if re.search(\"[\\u4e00-\\u9FFF]\", texts):\n",
    "        return \"zh\"\n",
    "    return None"
   ]
  },
  {
   "cell_type": "code",
   "execution_count": 5,
   "metadata": {},
   "outputs": [
    {
     "data": {
      "text/plain": [
       "3655"
      ]
     },
     "execution_count": 5,
     "metadata": {},
     "output_type": "execute_result"
    }
   ],
   "source": [
    "names = [row['row']['name'].title() for row in ticket2u if cjk_detect(row['row']['name']) is None]\n",
    "len(names)"
   ]
  },
  {
   "cell_type": "code",
   "execution_count": 6,
   "metadata": {},
   "outputs": [],
   "source": [
    "train_names, test_names = train_test_split(names, test_size = 0.2)"
   ]
  },
  {
   "cell_type": "code",
   "execution_count": 7,
   "metadata": {},
   "outputs": [],
   "source": [
    "events = {\n",
    "    1: ['Krismas', 'PRU14', 'Aidhilfitri', 'Aidhiladha', 'PRU', 'Ramadan'],\n",
    "    2: ['Perayaan Krismas', 'Gawai Dayak', 'Perayaan Deepavali', 'Hari Natal',\n",
    "       'Yom Kippur', 'Bar Mitzvah', 'Hari Wesak', 'Pesta Tanglung',\n",
    "       'Hari Deepavali', 'Hari Thaipusam', 'Hari Thaiponggol',\n",
    "       'Hari Gawai', 'Hari Kaamatan', 'Hari San Pedro',\n",
    "       'Tahun Baru', 'Hari Kebangsaan',\n",
    "       'Hari Malaysia', 'Hari Wilayah', 'Hari Pekerja'],\n",
    "    3: ['Tahun Baru Cina', 'Perayaan Tadau Kaamatan', 'Hari Raya Aidilfitri', 'Hari Raya Aidiladha',\n",
    "       'Hari Awal Muharram', 'Hari Maulidur Rasul', 'Hari Nuzul Quran', 'Hari Ahad Easter',\n",
    "       'Hari Kuih Bulan', 'Perayaan Ching Ming', 'Hari Durga Puja',\n",
    "       'Hari Hol negeri', 'Perayaan Hantu Lapar', 'Hari Kemerdekaan Malaysia'],\n",
    "    4: ['Hari Raya Aidil Adha', 'Hari Raya Aidil Fitri', 'Hari Israk dan Mikraj',\n",
    "       'Hari Chap Goh Mei', 'Hari Tahun Baru Cina', 'Hari Keputeraan Sultan-sultan Negeri'],\n",
    "    6: ['Hari Kelahiran Yang di-Pertua-Yang di-Pertua Negeri'],\n",
    "    8: ['Hari Keputeraan Seri Paduka Baginda Yang di-Pertuan Agong']\n",
    "}"
   ]
  },
  {
   "cell_type": "code",
   "execution_count": 8,
   "metadata": {},
   "outputs": [
    {
     "name": "stdout",
     "output_type": "stream",
     "text": [
      "1 [1, 1, 1, 1, 1, 1]\n",
      "2 [2, 2, 2, 2, 2, 2, 2, 2, 2, 2, 2, 2, 2, 3, 2, 2, 2, 2, 2]\n",
      "3 [3, 3, 3, 3, 3, 3, 3, 3, 3, 3, 3, 3, 3, 3]\n",
      "4 [4, 4, 4, 4, 4, 4]\n",
      "6 [6]\n",
      "8 [8]\n"
     ]
    }
   ],
   "source": [
    "for k, v in events.items():\n",
    "    print(k, [len(i.split()) for i in v])"
   ]
  },
  {
   "cell_type": "code",
   "execution_count": 9,
   "metadata": {},
   "outputs": [],
   "source": [
    "import random\n",
    "\n",
    "def generate_event(length):\n",
    "    if length not in events:\n",
    "        l = None\n",
    "    else:\n",
    "        l = events[length]\n",
    "    return l"
   ]
  },
  {
   "cell_type": "code",
   "execution_count": 10,
   "metadata": {},
   "outputs": [],
   "source": [
    "with open('entities-data-v4.json') as fopen:\n",
    "    entities = json.load(fopen)"
   ]
  },
  {
   "cell_type": "code",
   "execution_count": 11,
   "metadata": {},
   "outputs": [
    {
     "data": {
      "text/plain": [
       "(['OTHER', 'event'], ['ketibaan', 'Syawal'])"
      ]
     },
     "execution_count": 11,
     "metadata": {},
     "output_type": "execute_result"
    }
   ],
   "source": [
    "entities['label'][49573:49575], entities['text'][49573:49575]"
   ]
  },
  {
   "cell_type": "code",
   "execution_count": 12,
   "metadata": {},
   "outputs": [
    {
     "name": "stdout",
     "output_type": "stream",
     "text": [
      "[47536, 47537]\n",
      "[47994, 47995]\n",
      "[48030, 48031, 48032]\n",
      "[48711, 48712]\n",
      "[48786, 48787]\n",
      "[48799, 48800]\n",
      "[48825, 48826, 48827, 48828, 48829, 48830, 48831, 48832]\n",
      "[48866, 48867, 48868, 48869, 48870, 48871, 48872, 48873]\n",
      "[48938, 48939]\n",
      "[48973, 48974, 48975]\n",
      "[49069, 49070, 49071, 49072]\n",
      "[49185, 49186, 49187, 49188]\n",
      "[49247]\n",
      "[49537, 49538]\n",
      "[49552, 49553]\n",
      "[49574]\n",
      "[49637, 49638, 49639]\n",
      "[49669]\n",
      "[49722, 49723]\n",
      "[49746]\n",
      "[50186, 50187]\n",
      "[50190, 50191]\n",
      "[50238, 50239, 50240, 50241, 50242, 50243, 50244, 50245, 50246, 50247, 50248, 50249, 50250, 50251, 50252, 50253]\n",
      "[50273, 50274]\n",
      "[50486, 50487]\n",
      "[50500, 50501]\n",
      "[51213, 51214, 51215]\n",
      "[51426, 51427, 51428]\n",
      "[51430, 51431]\n",
      "[51462, 51463]\n",
      "[51520, 51521]\n",
      "[52712, 52713, 52714]\n",
      "[52791, 52792, 52793, 52794]\n",
      "[53150]\n",
      "[53402]\n",
      "[54363, 54364]\n",
      "[54465, 54466, 54467, 54468]\n",
      "[54470]\n",
      "[54870]\n",
      "[55338, 55339, 55340, 55341, 55342, 55343]\n",
      "[56065]\n",
      "[56342, 56343]\n",
      "[56711]\n",
      "[57077, 57078, 57079, 57080, 57081, 57082, 57083, 57084, 57085]\n",
      "[57578, 57579, 57580, 57581]\n",
      "[58181, 58182, 58183]\n",
      "[58216, 58217, 58218, 58219]\n",
      "[58247, 58248, 58249, 58250]\n",
      "[58274]\n",
      "[58289, 58290]\n",
      "[58388]\n",
      "[58661]\n",
      "[59190, 59191]\n",
      "[59218, 59219, 59220, 59221]\n",
      "[60080, 60081]\n",
      "[60174, 60175]\n",
      "[60293, 60294, 60295, 60296]\n",
      "[60422, 60423, 60424, 60425, 60426, 60427, 60428]\n",
      "[60435, 60436, 60437, 60438, 60439]\n",
      "[60515, 60516]\n",
      "[60520, 60521, 60522, 60523]\n",
      "[60741, 60742]\n",
      "[60750]\n",
      "[60929, 60930, 60931]\n",
      "[63004, 63005, 63006]\n",
      "[63041, 63042]\n",
      "[63245]\n",
      "[63372]\n",
      "[63506, 63507]\n",
      "[63585]\n",
      "[63678, 63679]\n",
      "[63681, 63682]\n",
      "[63686]\n",
      "[63853]\n",
      "[64243, 64244, 64245, 64246, 64247]\n",
      "[64302]\n",
      "[64304]\n",
      "[64375, 64376]\n",
      "[64378, 64379]\n",
      "[64681, 64682, 64683, 64684, 64685, 64686, 64687]\n",
      "[64696]\n",
      "[65050]\n",
      "[65225]\n",
      "[65266, 65267, 65268, 65269]\n",
      "[65342]\n",
      "[65393]\n",
      "[65395]\n",
      "[65423]\n"
     ]
    }
   ],
   "source": [
    "results = []\n",
    "i = 0\n",
    "while i < len(entities['label']):\n",
    "    r = []\n",
    "    if entities['label'][i] == 'event':\n",
    "        while entities['label'][i] == 'event':\n",
    "            r.append(i)\n",
    "            i += 1\n",
    "        print(r)\n",
    "        results.append(r)\n",
    "    i += 1"
   ]
  },
  {
   "cell_type": "code",
   "execution_count": 13,
   "metadata": {
    "scrolled": true
   },
   "outputs": [
    {
     "name": "stdout",
     "output_type": "stream",
     "text": [
      "['dalam', 'Sesi', 'Pertama']\n",
      "['menganjurkan', 'Solat', 'Hajat']\n",
      "['kenyataan', 'Merestui', 'Cadangan', 'Kerajaan']\n",
      "['mendapat', 'Pengampunan', 'Bebas']\n",
      "['sebelum', 'Pilihan', 'Raya']\n",
      "['tangguhkan', 'Pilihan', 'Raya']\n",
      "['pada', 'Istiadat', 'Pembukaan', 'Mesyuarat', 'Pertama', 'Penggal', 'Pertama', 'Parlimen', 'Ke-']\n",
      "['ketika', 'Istiadat', 'Pembukaan', 'Mesyuarat', 'Pertama', 'Penggal', 'Pertama', 'Parlimen', 'Ke-']\n",
      "['ucapan', 'Perasmian', 'Pembukaan']\n",
      "['semasa', 'Sidang', 'Dewan', 'Rakyat']\n",
      "['Paduka', 'Mesyuarat', 'Dewan', 'Rakyat', 'Penggal']\n",
      "['selepas', 'Pilihan', 'Raya', 'Umum', 'Pru']\n",
      "['selepas', 'Pru']\n",
      "['menerusi', 'Perutusan', 'Aidilfitri']\n",
      "['akan', 'Menyambut', 'Aidilfitri']\n",
      "['ketibaan', 'Syawal']\n",
      "['menyambut', 'Hari', 'Lebaran', 'Syawal']\n",
      "['Madrasah', 'Ramadan']\n",
      "['pulang', 'Berhari', 'Raya']\n",
      "['sambutan', 'Aidilfitri']\n",
      "['penuh', 'Khutbah', 'Jumaat']\n",
      "['ini', 'Sidang', 'Jumaat']\n",
      "['bersempena', 'Sambutan', 'Ulang', 'Tahun', 'Hari', 'Keputeraan', 'Rasmi', 'Seri', 'Paduka', 'Baginda', 'Yang', 'Di-Pertuan', 'Agong', 'Kelima', 'Belas', 'Sultan', 'Muhammad']\n",
      "['negara', 'Sidang', 'Jumaat']\n",
      "['dan', 'Hari', 'Akhirat']\n",
      "['kesudahannya', 'Sidang', 'Jumaat']\n",
      "['Dalam', 'sesi', 'sidang', 'media']\n",
      "['melancarkan', 'Ops', 'Selamat', 'ke-13']\n",
      "['sempena', 'perayaan', 'Aidilfitri']\n",
      "['Mengenai', 'Ops', 'Selamat,']\n",
      "['pada', 'Ops', 'Selamat']\n",
      "['pada', 'Majlis', 'Berbuka', 'Puasa']\n",
      "['sebelum', 'Pilihan', 'Raya', 'Umum', 'Ke-14']\n",
      "['menang', 'PRU14.']\n",
      "['akan', 'bertanding']\n",
      "['untuk', 'melarikan', 'diri']\n",
      "['selepas', 'melancarkan', 'Op', 'Selamat', '13']\n",
      "['sempena', 'Aidilfitri']\n",
      "['dalam', 'PRU14.']\n",
      "['menghadiri', 'Perhimpunan', 'Bulanan', 'Ibu', 'Pejabat', 'Kontinjen', '(IPK)']\n",
      "['untuk', 'bersahur.']\n",
      "['menerusi', 'Op', 'Kesan']\n",
      "['pada', 'PRU14,']\n",
      "['pada', 'Majlis', 'Berbuka', 'Puasa', 'Ikatan', 'Setia', 'Kawan', 'Wartawan', 'Malaysia-Indonesia', '(ISWAMI)']\n",
      "['menghadapi', 'Pilihan', 'Raya', 'Umum', 'ke-15']\n",
      "['dalam', 'Sukan', 'Asia', 'Jakarta-Palembang,']\n",
      "['dalam', 'Sukan', 'Komanwel', 'Gold', 'Coast,']\n",
      "['dalam', 'Sukan', 'Asia', 'Incheon', '2014']\n",
      "['di', 'Jakarta-Palembang']\n",
      "['dalam', 'Sukan', 'Asia.']\n",
      "['iklan', 'raya']\n",
      "['kedatangan', 'Aidilfitri']\n",
      "['menyambut', 'Hari', 'Raya']\n",
      "['dalam', 'Pilihan', 'Raya', 'Umum', 'ke-14.']\n",
      "['bertahan', 'Liga', 'Super,']\n",
      "['juara', 'Piala', 'FA,']\n",
      "['pada', 'majlis', 'berbuka', 'puasa', 'Esscom']\n",
      "['di', 'Kejohanan', 'Formula', '4', 'Asia', 'Tenggara', '(F4', 'SEA)']\n",
      "['malam', 'Anugerah', 'Gala', 'F4', 'SEA', 'Meritus']\n",
      "['pembukaan', 'F4', 'SEA']\n",
      "['sokongan', 'F1', 'Malaysia', 'Grand', 'Prix']\n",
      "['sumbangan', 'hari', 'raya,']\n",
      "['ke', 'majlis']\n",
      "['menyambut', 'Hari', 'Raya', 'Aidilfitri']\n",
      "['ini.', '\"Saya', 'anggap', 'kemewahan']\n",
      "['dihubungi', 'program', 'AI']\n",
      "['di', 'premis']\n",
      "['di', 'premis']\n",
      "['menjalankan', 'Op', 'Khas']\n",
      "['kedua-dua', 'bot']\n",
      "['kepada', 'bahaya', 'binatang']\n",
      "['berbisa.', 'Malah,', 'bangsal']\n",
      "['juga', 'didirikan']\n",
      "['kediaman', 'selesa']\n",
      "['bila', 'Pilihan', 'Raya', 'Umum', 'ke-14', '(PRU14)']\n",
      "['daripada', 'persediaan']\n",
      "['menghadapi', 'PRU14,']\n",
      "['selepas', 'pilihan', 'raya.']\n",
      "['\"Satu', 'lagi', 'aspek']\n",
      "['selepas', 'majlis', 'perasmian', 'Karnival', 'Antarabangsa', 'Bio', 'Kelantan', '2018']\n",
      "['semalam.', 'Katanya']\n",
      "['menyambut', 'Aidilfitri']\n",
      "['menyambut', 'Aidilfitri']\n",
      "['menyertai', 'Karnival', 'Karangkraf', 'Meriah', 'Bersama']\n",
      "['Ramadan', 'Al-Mubarak,']\n",
      "['program', 'Ramadan']\n",
      "['dan', 'Raya']\n",
      "['ini.', '\"Ramadan']\n"
     ]
    }
   ],
   "source": [
    "for r in results:\n",
    "    print(entities['text'][r[0] - 1:r[-1] + 1])"
   ]
  },
  {
   "cell_type": "code",
   "execution_count": 22,
   "metadata": {},
   "outputs": [],
   "source": [
    "import math\n",
    "\n",
    "def generate_index(l, name, texts, labels, length):\n",
    "    cp, indices = [], []\n",
    "    b = length - len(l)\n",
    "    left = math.ceil(b / 2)\n",
    "    right = b - left\n",
    "    minus = l[0] - left\n",
    "    if minus < 0:\n",
    "        absolute = np.abs(minus)\n",
    "        right += absolute\n",
    "        left -= absolute\n",
    "\n",
    "    for i in range(l[0] - left, l[0]):\n",
    "        cp.append(texts[i])\n",
    "        indices.append(labels[i])\n",
    "\n",
    "    cp.extend(name)\n",
    "    indices.extend([labels[l[0]] for _ in range(len(name))])\n",
    "    try:\n",
    "        for i in range(l[-1] + 1, l[-1] + right + 1):\n",
    "            cp.append(texts[i])\n",
    "            indices.append(labels[i])\n",
    "    except Exception as e:\n",
    "        print(e)\n",
    "        pass\n",
    "    \n",
    "    return cp, indices"
   ]
  },
  {
   "cell_type": "code",
   "execution_count": 16,
   "metadata": {},
   "outputs": [],
   "source": [
    "train_results, test_results = train_test_split(results, test_size = 0.2)"
   ]
  },
  {
   "cell_type": "code",
   "execution_count": 23,
   "metadata": {},
   "outputs": [],
   "source": [
    "train_X, train_Y = [], []\n",
    "\n",
    "for r in train_results:\n",
    "    ev = generate_event(len(r))\n",
    "    if ev:\n",
    "        for e in ev:\n",
    "            x, y = generate_index(r, e.split(), entities['text'], entities['label'], 25)\n",
    "            if len(x) != len(y):\n",
    "                print('len not same')\n",
    "                continue\n",
    "            train_X.append(x)\n",
    "            train_Y.append(y)"
   ]
  },
  {
   "cell_type": "code",
   "execution_count": 24,
   "metadata": {},
   "outputs": [],
   "source": [
    "for t in train_names:\n",
    "    x, y = generate_index(train_results[random.randint(0, len(train_results) - 1)], \n",
    "                          t.split(), entities['text'], entities['label'], 25)\n",
    "    if len(x) != len(y):\n",
    "        print('len not same')\n",
    "        continue\n",
    "    train_X.append(x)\n",
    "    train_Y.append(y)"
   ]
  },
  {
   "cell_type": "code",
   "execution_count": 27,
   "metadata": {},
   "outputs": [],
   "source": [
    "test_X, test_Y = [], []\n",
    "\n",
    "for r in test_results:\n",
    "    ev = generate_event(len(r))\n",
    "    if ev:\n",
    "        for e in ev:\n",
    "            x, y = generate_index(r, e.split(), entities['text'], entities['label'], 25)\n",
    "            if len(x) != len(y):\n",
    "                print('len not same')\n",
    "                continue\n",
    "            test_X.append(x)\n",
    "            test_Y.append(y)"
   ]
  },
  {
   "cell_type": "code",
   "execution_count": 28,
   "metadata": {},
   "outputs": [],
   "source": [
    "for t in test_names:\n",
    "    x, y = generate_index(test_results[random.randint(0, len(test_results) - 1)], \n",
    "                          t.split(), entities['text'], entities['label'], 25)\n",
    "    if len(x) != len(y):\n",
    "        print('len not same')\n",
    "        continue\n",
    "    test_X.append(x)\n",
    "    test_Y.append(y)"
   ]
  },
  {
   "cell_type": "code",
   "execution_count": 31,
   "metadata": {},
   "outputs": [
    {
     "data": {
      "text/plain": [
       "(3688, 919)"
      ]
     },
     "execution_count": 31,
     "metadata": {},
     "output_type": "execute_result"
    }
   ],
   "source": [
    "len(train_X), len(test_X)"
   ]
  },
  {
   "cell_type": "code",
   "execution_count": 32,
   "metadata": {},
   "outputs": [],
   "source": [
    "with open('event-augmentation.json', 'w') as fopen:\n",
    "    json.dump({'train_X': train_X, 'train_Y': train_Y, 'test_X': test_X, 'test_Y': test_Y}, fopen)"
   ]
  }
 ],
 "metadata": {
  "kernelspec": {
   "display_name": "Python 3",
   "language": "python",
   "name": "python3"
  },
  "language_info": {
   "codemirror_mode": {
    "name": "ipython",
    "version": 3
   },
   "file_extension": ".py",
   "mimetype": "text/x-python",
   "name": "python",
   "nbconvert_exporter": "python",
   "pygments_lexer": "ipython3",
   "version": "3.6.8"
  }
 },
 "nbformat": 4,
 "nbformat_minor": 2
}
