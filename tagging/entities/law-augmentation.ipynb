{
 "cells": [
  {
   "cell_type": "code",
   "execution_count": 1,
   "metadata": {},
   "outputs": [],
   "source": [
    "import numpy as np\n",
    "import json\n",
    "from sklearn.model_selection import train_test_split"
   ]
  },
  {
   "cell_type": "code",
   "execution_count": 2,
   "metadata": {},
   "outputs": [],
   "source": [
    "with open('malaysia-laws.json') as fopen:\n",
    "    laws = json.load(fopen)"
   ]
  },
  {
   "cell_type": "code",
   "execution_count": 3,
   "metadata": {},
   "outputs": [],
   "source": [
    "# https://www.parlimen.gov.my/bills-dewan-rakyat.html?uweb=dr\n",
    "\n",
    "ruu = \"\"\"\n",
    "D.R.43/2019\t2019\tRUU Kumpulan Wang Simpanan Pekerja (Pindaan) 2019\t\n",
    "Lulus\n",
    "D.R.42/2019\t2019\tRUU Perlembagaan (Pindaan) (No. 2) 2019\t\n",
    "Bacaan Kali Pertama\n",
    "D.R.41/2019\t2019\tRUU Petroleum (Cukai Pendapatan) (Pindaan) 2019\t\n",
    "Lulus\n",
    "D.R.40/2019\t2019\tRUU Cukai Pendapatan (Pindaan) 2019\t\n",
    "Lulus\n",
    "D.R.39/2019\t2019\tRUU Pengangkutan Barang Melalui Laut (Pindaan) 2019\t\n",
    "Lulus\n",
    "D.R.38/2019\t2019\tRUU Cukai Aktiviti Perniagaan Labuan (Pindaan) 2019\t\n",
    "Lulus\n",
    "D.R.37/2019\t2019\tRUU Racun (Pindaan) 2019\t\n",
    "Bacaan Kali Pertama\n",
    "D.R.36/2019\t2019\tRUU Lembaga Promosi Kesihatan Malaysia (Pembubaran) 2019\t\n",
    "Lulus\n",
    "D.R.35/2019\t2019\tRUU Hak Cipta (Pindaan) 2019\t\n",
    "Lulus\n",
    "D.R.34/2019\t2019\tRUU Francais (Pindaan) 2019\t\n",
    "Lulus\n",
    "D.R.33/2019\t2019\tRUU Kewangan 2019\t\n",
    "Lulus\n",
    "D.R.32/2019\t2019\tRUU Perbekalan 2020\t\n",
    "Lulus\n",
    "D.R.31/2019\t2019\tRUU Perhubungan Perusahaan (Pindaan) 2019\t\n",
    "Lulus\n",
    "D.R.30/2019\t2019\tRUU Bank Negara Malaysia (Pindaan) 2019\t\n",
    "Lulus\n",
    "D.R.29/2019\t2019\tRUU Mata Wang 2019\t\n",
    "Lulus\n",
    "D.R.28/2019\t2019\tRUU Pusat Pencegahan Jenayah Kewangan Nasional 2019\t\n",
    "Lulus\n",
    "D.R.27/2019\t2019\tRUU Perlindungan Penderma Makanan 2019\t\n",
    "Lulus\n",
    "D.R.26/2019\t2019\tRUU Antiberita Tidak Benar (Pemansuhan) 2019\t\n",
    "Lulus\n",
    "D.R.25/2019\t2019\tRUU Suruhanjaya Bebas Aduan Salah Laku Polis 2019\t\n",
    "Bacaan Kali Kedua dan Ketiga\n",
    "D.R.24/2019\t2019\tRUU Bank Negara Malaysia (Pindaan) 2019\t\n",
    "Ditarik Balik\n",
    "D.R.23/2019\t2019\tRUU Mata Wang 2019\t\n",
    "Ditarik Balik\n",
    "D.R.22/2019\t2019\tRUU Penyemakan Undang-Undang (Pindaan) 2019\t\n",
    "Lulus\n",
    "D.R.21/2019\t2019\tRUU Perlembagaan (Pindaan) 2019\t\n",
    "Lulus\n",
    "D.R.20/2019\t2019\tRUU Standard Minimum Perumahan dan Kemudahan Pekerja (Pindaan) 2019\t\n",
    "Lulus\n",
    "D.R.19/2019\t2019\tRUU Pentadbiran Undang-Undang Islam (Wilayah-Wilayah Persekutuan) (Pindaan) (No.2) 2019\t\n",
    "Lulus\n",
    "D.R.18/2019\t2019\tRUU Profesion Guaman Syarie (Wilayah-Wilayah Persekutuan) 2019\t\n",
    "Lulus\n",
    "D.R.17/2019\t2019\tRUU Syarikat (Pindaan) 2019\t\n",
    "Lulus\n",
    "D.R.16/2019\t2019\tRUU Perikanan (Pindaan) 2019\t\n",
    "Lulus\n",
    "D.R.15/2019\t2019\tRUU Perlindungan Pengguna (Pindaan) 2019\t\n",
    "Lulus\n",
    "D.R.14/2019\t2019\tRUU Perlembagaan (Pindaan) 2019\t\n",
    "Ditarik Balik\n",
    "D.R.13/2019\t2019\tRUU Perhimpunan Aman (Pindaan) 2019\t\n",
    "Lulus\n",
    "D.R.12/2019\t2019\tRUU Pertubuhan Belia dan Pembangunan Belia (Pindaan) 2019\t\n",
    "Lulus\n",
    "D.R.11/2019\t2019\tRUU Perihal Dagangan (Pindaan) 2019\t\n",
    "Lulus\n",
    "D.R.10/2019\t2019\tRUU Cap Dagangan 2019\t\n",
    "Lulus\n",
    "D.R 9/2019\t2019\tRUU Majlis Keselamatan Negara (Pindaan) 2019\t\n",
    "Ditarik Balik\n",
    "D.R 8/2019\t2019\tRUU Levi Pelepasan 2019\t\n",
    "Lulus\n",
    "D.R 7/2019\t2019\tRUU Perlembagaan (Pindaan) 2019\t\n",
    "Bacaan Kali Pertama\n",
    "D.R 6/2019\t2019\tRUU Cukai Perkhidmatan (Pindaan) 2019\t\n",
    "Lulus\n",
    "D.R 5/2019\t2019\tRUU Cukai Jualan (Pindaan) 2019\t\n",
    "Lulus\n",
    "D.R 4/2019\t2019\tRUU Zon Bebas (Pindaan) 2019\t\n",
    "Lulus\n",
    "D.R 3/2019\t2019\tRUU Eksais (Pindaan) 2019\t\n",
    "Lulus\n",
    "D.R 2/2019\t2019\tRUU Kastam (Pindaan) 2019\t\n",
    "Lulus\n",
    "D.R 1/2019\t2019\tRUU Perbekalan Tambahan (2018) 2019\t\n",
    "Lulus\n",
    "\"\"\""
   ]
  },
  {
   "cell_type": "code",
   "execution_count": 4,
   "metadata": {
    "scrolled": true
   },
   "outputs": [],
   "source": [
    "ruu_list = list(filter(None, ruu.split('\\n')))[::2]\n",
    "ruu_list = [r.strip().split('\\t')[-1] for r in ruu_list]"
   ]
  },
  {
   "cell_type": "code",
   "execution_count": 5,
   "metadata": {},
   "outputs": [],
   "source": [
    "ruu_ending = ['(Pindaan)', '(Pindaan) (No. 2)', '(Cukai Pendapatan) (Pindaan)',\n",
    "             '(Pembubaran)', '(Pemansuhan)', '(Wilayah-Wilayah Persekutuan) (Pindaan) (No.2)',\n",
    "             '(Wilayah-Wilayah Persekutuan)', '(2018)']"
   ]
  },
  {
   "cell_type": "code",
   "execution_count": 6,
   "metadata": {
    "scrolled": true
   },
   "outputs": [
    {
     "data": {
      "text/plain": [
       "79"
      ]
     },
     "execution_count": 6,
     "metadata": {},
     "output_type": "execute_result"
    }
   ],
   "source": [
    "ruu_words = []\n",
    "for r in ruu_list:\n",
    "    r = r.split('(')[0].split('RUU ')[-1].replace('2019','').replace('2020','').strip()\n",
    "    ruu_words.extend(r.split())\n",
    "    \n",
    "ruu_words = list(set(ruu_words))\n",
    "len(ruu_words)"
   ]
  },
  {
   "cell_type": "code",
   "execution_count": 7,
   "metadata": {},
   "outputs": [
    {
     "data": {
      "text/plain": [
       "670"
      ]
     },
     "execution_count": 7,
     "metadata": {},
     "output_type": "execute_result"
    }
   ],
   "source": [
    "laws_list = []\n",
    "for i in range(15):\n",
    "    laws_list.extend(laws.get(str(i), []))\n",
    "    \n",
    "laws_list = list(set(laws_list))\n",
    "len(laws_list)"
   ]
  },
  {
   "cell_type": "code",
   "execution_count": 8,
   "metadata": {},
   "outputs": [
    {
     "data": {
      "text/plain": [
       "713"
      ]
     },
     "execution_count": 8,
     "metadata": {},
     "output_type": "execute_result"
    }
   ],
   "source": [
    "laws_list.extend(ruu_list)\n",
    "len(laws_list)"
   ]
  },
  {
   "cell_type": "code",
   "execution_count": 9,
   "metadata": {},
   "outputs": [],
   "source": [
    "train_laws_list, test_laws_list = train_test_split(laws_list, test_size = 0.2)"
   ]
  },
  {
   "cell_type": "code",
   "execution_count": 10,
   "metadata": {},
   "outputs": [],
   "source": [
    "train_laws, test_laws = train_test_split(laws['free'], test_size = 0.2)\n",
    "train_ruu_words, test_ruu_words = train_test_split(ruu_words, test_size = 0.2)"
   ]
  },
  {
   "cell_type": "code",
   "execution_count": 11,
   "metadata": {},
   "outputs": [],
   "source": [
    "import random\n",
    "\n",
    "def generate_akta(length, sample):\n",
    "    l = ' '.join(random.sample(sample, length))\n",
    "    l = 'Akta ' + l + ' ' + random.choice(laws['free_num'])\n",
    "    return l\n",
    "\n",
    "def generate_ruu(length, sample):\n",
    "    l = ' '.join(random.sample(sample, length))\n",
    "    c = random.choice(ruu_ending)\n",
    "    return f'RUU {l} {c} 2019'"
   ]
  },
  {
   "cell_type": "code",
   "execution_count": 12,
   "metadata": {},
   "outputs": [
    {
     "data": {
      "text/plain": [
       "('Akta Pasport Pengangkatan Bersepadu Komputer Sabah 1933',\n",
       " 'RUU Syarikat Perikanan Perlembagaan Pengguna Simpanan (Wilayah-Wilayah Persekutuan) 2019')"
      ]
     },
     "execution_count": 12,
     "metadata": {},
     "output_type": "execute_result"
    }
   ],
   "source": [
    "generate_akta(5, train_laws), generate_ruu(5, test_ruu_words)"
   ]
  },
  {
   "cell_type": "code",
   "execution_count": 13,
   "metadata": {},
   "outputs": [],
   "source": [
    "with open('entities-data-v4.json') as fopen:\n",
    "    entities = json.load(fopen)"
   ]
  },
  {
   "cell_type": "code",
   "execution_count": 14,
   "metadata": {},
   "outputs": [
    {
     "data": {
      "text/plain": [
       "('OTHER', 'saat')"
      ]
     },
     "execution_count": 14,
     "metadata": {},
     "output_type": "execute_result"
    }
   ],
   "source": [
    "entities['label'][46775], entities['text'][46775]"
   ]
  },
  {
   "cell_type": "code",
   "execution_count": 15,
   "metadata": {
    "scrolled": true
   },
   "outputs": [
    {
     "name": "stdout",
     "output_type": "stream",
     "text": [
      "[47488, 47489]\n",
      "[47492, 47493]\n",
      "[47495, 47496, 47497, 47498, 47499]\n",
      "[47746, 47747, 47748, 47749, 47750, 47751, 47752]\n",
      "[47760, 47761]\n",
      "[48194, 48195, 48196, 48197]\n",
      "[48434, 48435, 48436]\n",
      "[48560, 48561]\n",
      "[48592, 48593]\n",
      "[48626, 48627, 48628]\n",
      "[48662, 48663]\n",
      "[48683]\n",
      "[48688, 48689]\n",
      "[49150]\n",
      "[49263]\n",
      "[49265, 49266]\n",
      "[49296, 49297, 49298, 49299]\n",
      "[49359, 49360]\n",
      "[49391]\n",
      "[49464, 49465]\n",
      "[49942, 49943, 49944, 49945, 49946, 49947, 49948, 49949]\n",
      "[50120, 50121, 50122, 50123]\n",
      "[50125, 50126, 50127, 50128]\n",
      "[50158, 50159, 50160]\n",
      "[50348, 50349, 50350, 50351, 50352, 50353]\n",
      "[50391]\n",
      "[50393]\n",
      "[53067, 53068, 53069, 53070]\n",
      "[53771, 53772, 53773, 53774]\n",
      "[53823]\n",
      "[53855]\n",
      "[53895]\n",
      "[53969, 53970, 53971, 53972, 53973, 53974]\n",
      "[53980]\n",
      "[53983, 53984]\n",
      "[53995]\n",
      "[53999]\n",
      "[54022]\n",
      "[54026, 54027, 54028, 54029]\n",
      "[54031, 54032, 54033]\n",
      "[54037]\n",
      "[54059]\n",
      "[54268, 54269, 54270, 54271]\n",
      "[54789, 54790, 54791, 54792, 54793, 54794, 54795]\n",
      "[55259, 55260, 55261, 55262]\n",
      "[56972, 56973, 56974, 56975]\n",
      "[57613, 57614]\n",
      "[57636, 57637]\n",
      "[57690, 57691]\n",
      "[57716, 57717]\n",
      "[57780, 57781, 57782, 57783, 57784]\n",
      "[58731, 58732, 58733, 58734, 58735]\n",
      "[59795, 59796]\n",
      "[59823, 59824]\n",
      "[59852, 59853]\n",
      "[60788, 60789]\n",
      "[61280, 61281, 61282]\n",
      "[61342, 61343, 61344, 61345, 61346, 61347, 61348, 61349, 61350, 61351]\n",
      "[61353, 61354, 61355, 61356]\n",
      "[63634, 63635, 63636, 63637, 63638, 63639, 63640]\n",
      "[65210, 65211, 65212, 65213, 65214, 65215]\n"
     ]
    }
   ],
   "source": [
    "results = []\n",
    "i = 0\n",
    "while i < len(entities['label']):\n",
    "    r = []\n",
    "    if entities['label'][i] == 'law':\n",
    "        while entities['label'][i] == 'law':\n",
    "            r.append(i)\n",
    "            i += 1\n",
    "        print(r)\n",
    "        results.append(r)\n",
    "    i += 1"
   ]
  },
  {
   "cell_type": "code",
   "execution_count": 18,
   "metadata": {},
   "outputs": [],
   "source": [
    "train_results, test_results = train_test_split(results, test_size = 0.2)"
   ]
  },
  {
   "cell_type": "code",
   "execution_count": 19,
   "metadata": {},
   "outputs": [],
   "source": [
    "import math\n",
    "\n",
    "def generate_index(l, name, texts, labels, length):\n",
    "    cp, indices = [], []\n",
    "    b = length - len(l)\n",
    "    left = math.ceil(b / 2)\n",
    "    right = b - left\n",
    "    minus = l[0] - left\n",
    "    if minus < 0:\n",
    "        absolute = np.abs(minus)\n",
    "        right += absolute\n",
    "        left -= absolute\n",
    "\n",
    "    for i in range(l[0] - left, l[0]):\n",
    "        cp.append(texts[i])\n",
    "        indices.append(labels[i])\n",
    "\n",
    "    cp.extend(name)\n",
    "    indices.extend([labels[l[0]] for _ in range(len(name))])\n",
    "    try:\n",
    "        for i in range(l[-1] + 1, l[-1] + right + 1):\n",
    "            cp.append(texts[i])\n",
    "            indices.append(labels[i])\n",
    "    except Exception as e:\n",
    "        print(e)\n",
    "        pass\n",
    "    \n",
    "    return cp, indices"
   ]
  },
  {
   "cell_type": "code",
   "execution_count": 17,
   "metadata": {
    "scrolled": true
   },
   "outputs": [
    {
     "data": {
      "text/plain": [
       "[('katanya', 'OTHER'),\n",
       " ('dalam', 'OTHER'),\n",
       " ('pertemuan', 'OTHER'),\n",
       " ('itu', 'OTHER'),\n",
       " ('katanya', 'OTHER'),\n",
       " ('beliau', 'OTHER'),\n",
       " ('juga', 'OTHER'),\n",
       " ('memberi', 'OTHER'),\n",
       " ('jaminan', 'OTHER'),\n",
       " ('harapan', 'OTHER'),\n",
       " ('kekal', 'OTHER'),\n",
       " ('komited', 'OTHER'),\n",
       " ('mempertahan', 'OTHER'),\n",
       " ('peruntukan', 'OTHER'),\n",
       " ('Akta', 'law'),\n",
       " ('Pelan', 'law'),\n",
       " ('dan', 'law'),\n",
       " ('Dokumen', 'law'),\n",
       " ('Tanah', 'law'),\n",
       " ('dan', 'law'),\n",
       " ('Lombong', 'law'),\n",
       " ('(Salinan', 'law'),\n",
       " ('Fotograf)', 'law'),\n",
       " ('1950', 'law'),\n",
       " ('dalam', 'OTHER'),\n",
       " ('soal', 'OTHER'),\n",
       " ('Hak', 'law'),\n",
       " ('Melayu', 'law'),\n",
       " ('serta', 'OTHER'),\n",
       " ('Kedudukan', 'law'),\n",
       " ('Bahasa', 'law'),\n",
       " ('Melayu', 'law'),\n",
       " ('Dan', 'law'),\n",
       " ('Islam', 'law'),\n",
       " ('katanya', 'OTHER'),\n",
       " ('lagi', 'OTHER'),\n",
       " ('memang', 'OTHER'),\n",
       " ('sukar', 'OTHER')]"
      ]
     },
     "execution_count": 17,
     "metadata": {},
     "output_type": "execute_result"
    }
   ],
   "source": [
    "p = generate_index(results[0], train_laws_list[-1].split(), entities['text'], entities['label'], 30)\n",
    "list(zip(*p))"
   ]
  },
  {
   "cell_type": "code",
   "execution_count": 21,
   "metadata": {},
   "outputs": [],
   "source": [
    "train_X, train_Y = [], []\n",
    "\n",
    "for t in train_laws_list:\n",
    "    x, y = generate_index(train_results[random.randint(0, len(train_results) - 1)], \n",
    "                          t.split(), entities['text'], entities['label'], 30)\n",
    "    if len(x) != len(y):\n",
    "        print('len not same')\n",
    "        continue\n",
    "    train_X.append(x)\n",
    "    train_Y.append(y)"
   ]
  },
  {
   "cell_type": "code",
   "execution_count": 22,
   "metadata": {},
   "outputs": [],
   "source": [
    "for r in train_results:\n",
    "    for _ in range(8):\n",
    "        x, y = generate_index(r, generate_akta(len(r), train_laws).split(), \n",
    "                              entities['text'], entities['label'], 30)\n",
    "        if len(x) != len(y):\n",
    "            print('len not same')\n",
    "            continue\n",
    "        train_X.append(x)\n",
    "        train_Y.append(y)\n",
    "    for _ in range(3):\n",
    "        x, y = generate_index(r, generate_ruu(len(r), train_ruu_words).split(), \n",
    "                              entities['text'], entities['label'], 30)\n",
    "        if len(x) != len(y):\n",
    "            print('len not same')\n",
    "            continue\n",
    "        train_X.append(x)\n",
    "        train_Y.append(y)"
   ]
  },
  {
   "cell_type": "code",
   "execution_count": 24,
   "metadata": {},
   "outputs": [],
   "source": [
    "test_X, test_Y = [], []\n",
    "\n",
    "for t in test_laws_list:\n",
    "    x, y = generate_index(test_results[random.randint(0, len(test_results) - 1)], \n",
    "                          t.split(), entities['text'], entities['label'], 30)\n",
    "    if len(x) != len(y):\n",
    "        print('len not same')\n",
    "        continue\n",
    "    test_X.append(x)\n",
    "    test_Y.append(y)"
   ]
  },
  {
   "cell_type": "code",
   "execution_count": 25,
   "metadata": {},
   "outputs": [],
   "source": [
    "for r in test_results:\n",
    "    for _ in range(8):\n",
    "        x, y = generate_index(r, generate_akta(len(r), test_laws).split(), \n",
    "                              entities['text'], entities['label'], 30)\n",
    "        if len(x) != len(y):\n",
    "            print('len not same')\n",
    "            continue\n",
    "        test_X.append(x)\n",
    "        test_Y.append(y)\n",
    "    for _ in range(3):\n",
    "        x, y = generate_index(r, generate_ruu(len(r), test_ruu_words).split(), \n",
    "                              entities['text'], entities['label'], 30)\n",
    "        if len(x) != len(y):\n",
    "            print('len not same')\n",
    "            continue\n",
    "        test_X.append(x)\n",
    "        test_Y.append(y)"
   ]
  },
  {
   "cell_type": "code",
   "execution_count": 27,
   "metadata": {},
   "outputs": [],
   "source": [
    "with open('law-augmentation.json', 'w') as fopen:\n",
    "    json.dump({'train_X': train_X, 'train_Y': train_Y, 'test_X': test_X, 'test_Y': test_Y}, fopen)"
   ]
  }
 ],
 "metadata": {
  "kernelspec": {
   "display_name": "Python 3",
   "language": "python",
   "name": "python3"
  },
  "language_info": {
   "codemirror_mode": {
    "name": "ipython",
    "version": 3
   },
   "file_extension": ".py",
   "mimetype": "text/x-python",
   "name": "python",
   "nbconvert_exporter": "python",
   "pygments_lexer": "ipython3",
   "version": "3.6.8"
  }
 },
 "nbformat": 4,
 "nbformat_minor": 2
}
