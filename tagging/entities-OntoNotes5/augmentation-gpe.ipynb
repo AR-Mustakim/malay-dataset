{
 "cells": [
  {
   "cell_type": "code",
   "execution_count": 1,
   "metadata": {},
   "outputs": [],
   "source": [
    "# !wget https://f000.backblazeb2.com/file/malay-dataset/tagging/ontonotes5/processed-ontonotes5.json"
   ]
  },
  {
   "cell_type": "code",
   "execution_count": 2,
   "metadata": {},
   "outputs": [],
   "source": [
    "import json\n",
    "from sklearn.model_selection import train_test_split\n",
    "import random"
   ]
  },
  {
   "cell_type": "code",
   "execution_count": 3,
   "metadata": {},
   "outputs": [],
   "source": [
    "with open('processed-ontonotes5.json') as fopen:\n",
    "    data = json.load(fopen)"
   ]
  },
  {
   "cell_type": "code",
   "execution_count": 4,
   "metadata": {},
   "outputs": [],
   "source": [
    "from collections import defaultdict\n",
    "\n",
    "entities = defaultdict(list)\n",
    "for i in data:\n",
    "    entities['text'].append(i[0])\n",
    "    entities['label'].append(i[1])"
   ]
  },
  {
   "cell_type": "code",
   "execution_count": 5,
   "metadata": {},
   "outputs": [],
   "source": [
    "country = [\n",
    "    { \"text\": \"Afghanistan\", \"value\": \"AF\" },\n",
    "    { \"text\": \"Åland Islands\", \"value\": \"AX\" },\n",
    "    { \"text\": \"Albania\", \"value\": \"AL\" },\n",
    "    { \"text\": \"Algeria\", \"value\": \"DZ\" },\n",
    "    { \"text\": \"American Samoa\", \"value\": \"AS\" },\n",
    "    { \"text\": \"Andorra\", \"value\": \"AD\" },\n",
    "    { \"text\": \"Angola\", \"value\": \"AO\" },\n",
    "    { \"text\": \"Anguilla\", \"value\": \"AI\" },\n",
    "    { \"text\": \"Antarctica\", \"value\": \"AQ\" },\n",
    "    { \"text\": \"Antigua and Barbuda\", \"value\": \"AG\" },\n",
    "    { \"text\": \"Argentina\", \"value\": \"AR\" },\n",
    "    { \"text\": \"Armenia\", \"value\": \"AM\" },\n",
    "    { \"text\": \"Aruba\", \"value\": \"AW\" },\n",
    "    { \"text\": \"Australia\", \"value\": \"AU\" },\n",
    "    { \"text\": \"Austria\", \"value\": \"AT\" },\n",
    "    { \"text\": \"Azerbaijan\", \"value\": \"AZ\" },\n",
    "    { \"text\": \"Bahamas\", \"value\": \"BS\" },\n",
    "    { \"text\": \"Bahrain\", \"value\": \"BH\" },\n",
    "    { \"text\": \"Bangladesh\", \"value\": \"BD\" },\n",
    "    { \"text\": \"Barbados\", \"value\": \"BB\" },\n",
    "    { \"text\": \"Belarus\", \"value\": \"BY\" },\n",
    "    { \"text\": \"Belgium\", \"value\": \"BE\" },\n",
    "    { \"text\": \"Belize\", \"value\": \"BZ\" },\n",
    "    { \"text\": \"Benin\", \"value\": \"BJ\" },\n",
    "    { \"text\": \"Bermuda\", \"value\": \"BM\" },\n",
    "    { \"text\": \"Bhutan\", \"value\": \"BT\" },\n",
    "    { \"text\": \"Bolivia\", \"value\": \"BO\" },\n",
    "    { \"text\": \"Bosnia and Herzegovina\", \"value\": \"BA\" },\n",
    "    { \"text\": \"Botswana\", \"value\": \"BW\" },\n",
    "    { \"text\": \"Bouvet Island\", \"value\": \"BV\" },\n",
    "    { \"text\": \"Brazil\", \"value\": \"BR\" },\n",
    "    { \"text\": \"British Indian Ocean Territory\", \"value\": \"IO\" },\n",
    "    { \"text\": \"Brunei Darussalam\", \"value\": \"BN\" },\n",
    "    { \"text\": \"Bulgaria\", \"value\": \"BG\" },\n",
    "    { \"text\": \"Burkina Faso\", \"value\": \"BF\" },\n",
    "    { \"text\": \"Burundi\", \"value\": \"BI\" },\n",
    "    { \"text\": \"Cambodia\", \"value\": \"KH\" },\n",
    "    { \"text\": \"Cameroon\", \"value\": \"CM\" },\n",
    "    { \"text\": \"Canada\", \"value\": \"CA\" },\n",
    "    { \"text\": \"Cape Verde\", \"value\": \"CV\" },\n",
    "    { \"text\": \"Cayman Islands\", \"value\": \"KY\" },\n",
    "    { \"text\": \"Central African Republic\", \"value\": \"CF\" },\n",
    "    { \"text\": \"Chad\", \"value\": \"TD\" },\n",
    "    { \"text\": \"Chile\", \"value\": \"CL\" },\n",
    "    { \"text\": \"China\", \"value\": \"CN\" },\n",
    "    { \"text\": \"Christmas Island\", \"value\": \"CX\" },\n",
    "    { \"text\": \"Cocos (Keeling) Islands\", \"value\": \"CC\" },\n",
    "    { \"text\": \"Colombia\", \"value\": \"CO\" },\n",
    "    { \"text\": \"Comoros\", \"value\": \"KM\" },\n",
    "    { \"text\": \"Congo\", \"value\": \"CG\" },\n",
    "    { \"text\": \"Congo, The Democratic Republic of the\", \"value\": \"CD\" },\n",
    "    { \"text\": \"Cook Islands\", \"value\": \"CK\" },\n",
    "    { \"text\": \"Costa Rica\", \"value\": \"CR\" },\n",
    "    { \"text\": \"Cote D'Ivoire\", \"value\": \"CI\" },\n",
    "    { \"text\": \"Croatia\", \"value\": \"HR\" },\n",
    "    { \"text\": \"Cuba\", \"value\": \"CU\" },\n",
    "    { \"text\": \"Cyprus\", \"value\": \"CY\" },\n",
    "    { \"text\": \"Czech Republic\", \"value\": \"CZ\" },\n",
    "    { \"text\": \"Denmark\", \"value\": \"DK\" },\n",
    "    { \"text\": \"Djibouti\", \"value\": \"DJ\" },\n",
    "    { \"text\": \"Dominica\", \"value\": \"DM\" },\n",
    "    { \"text\": \"Dominican Republic\", \"value\": \"DO\" },\n",
    "    { \"text\": \"Ecuador\", \"value\": \"EC\" },\n",
    "    { \"text\": \"Egypt\", \"value\": \"EG\" },\n",
    "    { \"text\": \"El Salvador\", \"value\": \"SV\" },\n",
    "    { \"text\": \"Equatorial Guinea\", \"value\": \"GQ\" },\n",
    "    { \"text\": \"Eritrea\", \"value\": \"ER\" },\n",
    "    { \"text\": \"Estonia\", \"value\": \"EE\" },\n",
    "    { \"text\": \"Ethiopia\", \"value\": \"ET\" },\n",
    "    { \"text\": \"Falkland Islands (Malvinas)\", \"value\": \"FK\" },\n",
    "    { \"text\": \"Faroe Islands\", \"value\": \"FO\" },\n",
    "    { \"text\": \"Fiji\", \"value\": \"FJ\" },\n",
    "    { \"text\": \"Finland\", \"value\": \"FI\" },\n",
    "    { \"text\": \"France\", \"value\": \"FR\" },\n",
    "    { \"text\": \"French Guiana\", \"value\": \"GF\" },\n",
    "    { \"text\": \"French Polynesia\", \"value\": \"PF\" },\n",
    "    { \"text\": \"French Southern Territories\", \"value\": \"TF\" },\n",
    "    { \"text\": \"Gabon\", \"value\": \"GA\" },\n",
    "    { \"text\": \"Gambia\", \"value\": \"GM\" },\n",
    "    { \"text\": \"Georgia\", \"value\": \"GE\" },\n",
    "    { \"text\": \"Germany\", \"value\": \"DE\" },\n",
    "    { \"text\": \"Ghana\", \"value\": \"GH\" },\n",
    "    { \"text\": \"Gibraltar\", \"value\": \"GI\" },\n",
    "    { \"text\": \"Greece\", \"value\": \"GR\" },\n",
    "    { \"text\": \"Greenland\", \"value\": \"GL\" },\n",
    "    { \"text\": \"Grenada\", \"value\": \"GD\" },\n",
    "    { \"text\": \"Guadeloupe\", \"value\": \"GP\" },\n",
    "    { \"text\": \"Guam\", \"value\": \"GU\" },\n",
    "    { \"text\": \"Guatemala\", \"value\": \"GT\" },\n",
    "    { \"text\": \"Guernsey\", \"value\": \"GG\" },\n",
    "    { \"text\": \"Guinea\", \"value\": \"GN\" },\n",
    "    { \"text\": \"Guinea-Bissau\", \"value\": \"GW\" },\n",
    "    { \"text\": \"Guyana\", \"value\": \"GY\" },\n",
    "    { \"text\": \"Haiti\", \"value\": \"HT\" },\n",
    "    { \"text\": \"Heard Island and Mcdonald Islands\", \"value\": \"HM\" },\n",
    "    { \"text\": \"Holy See (Vatican City State)\", \"value\": \"VA\" },\n",
    "    { \"text\": \"Honduras\", \"value\": \"HN\" },\n",
    "    { \"text\": \"Hong Kong\", \"value\": \"HK\" },\n",
    "    { \"text\": \"Hungary\", \"value\": \"HU\" },\n",
    "    { \"text\": \"Iceland\", \"value\": \"IS\" },\n",
    "    { \"text\": \"India\", \"value\": \"IN\" },\n",
    "    { \"text\": \"Indonesia\", \"value\": \"ID\" },\n",
    "    { \"text\": \"Iran, Islamic Republic Of\", \"value\": \"IR\" },\n",
    "    { \"text\": \"Iraq\", \"value\": \"IQ\" },\n",
    "    { \"text\": \"Ireland\", \"value\": \"IE\" },\n",
    "    { \"text\": \"Isle of Man\", \"value\": \"IM\" },\n",
    "    { \"text\": \"Israel\", \"value\": \"IL\" },\n",
    "    { \"text\": \"Italy\", \"value\": \"IT\" },\n",
    "    { \"text\": \"Jamaica\", \"value\": \"JM\" },\n",
    "    { \"text\": \"Japan\", \"value\": \"JP\" },\n",
    "    { \"text\": \"Jersey\", \"value\": \"JE\" },\n",
    "    { \"text\": \"Jordan\", \"value\": \"JO\" },\n",
    "    { \"text\": \"Kazakhstan\", \"value\": \"KZ\" },\n",
    "    { \"text\": \"Kenya\", \"value\": \"KE\" },\n",
    "    { \"text\": \"Kiribati\", \"value\": \"KI\" },\n",
    "    { \"text\": \"Korea, Democratic People'S Republic of\", \"value\": \"KP\" },\n",
    "    { \"text\": \"Korea, Republic of\", \"value\": \"KR\" },\n",
    "    { \"text\": \"Kuwait\", \"value\": \"KW\" },\n",
    "    { \"text\": \"Kyrgyzstan\", \"value\": \"KG\" },\n",
    "    { \"text\": \"Lao People'S Democratic Republic\", \"value\": \"LA\" },\n",
    "    { \"text\": \"Latvia\", \"value\": \"LV\" },\n",
    "    { \"text\": \"Lebanon\", \"value\": \"LB\" },\n",
    "    { \"text\": \"Lesotho\", \"value\": \"LS\" },\n",
    "    { \"text\": \"Liberia\", \"value\": \"LR\" },\n",
    "    { \"text\": \"Libyan Arab Jamahiriya\", \"value\": \"LY\" },\n",
    "    { \"text\": \"Liechtenstein\", \"value\": \"LI\" },\n",
    "    { \"text\": \"Lithuania\", \"value\": \"LT\" },\n",
    "    { \"text\": \"Luxembourg\", \"value\": \"LU\" },\n",
    "    { \"text\": \"Macao\", \"value\": \"MO\" },\n",
    "    { \"text\": \"Macedonia, The Former Yugoslav Republic of\", \"value\": \"MK\" },\n",
    "    { \"text\": \"Madagascar\", \"value\": \"MG\" },\n",
    "    { \"text\": \"Malawi\", \"value\": \"MW\" },\n",
    "    { \"text\": \"Malaysia\", \"value\": \"MY\" },\n",
    "    { \"text\": \"Maldives\", \"value\": \"MV\" },\n",
    "    { \"text\": \"Mali\", \"value\": \"ML\" },\n",
    "    { \"text\": \"Malta\", \"value\": \"MT\" },\n",
    "    { \"text\": \"Marshall Islands\", \"value\": \"MH\" },\n",
    "    { \"text\": \"Martinique\", \"value\": \"MQ\" },\n",
    "    { \"text\": \"Mauritania\", \"value\": \"MR\" },\n",
    "    { \"text\": \"Mauritius\", \"value\": \"MU\" },\n",
    "    { \"text\": \"Mayotte\", \"value\": \"YT\" },\n",
    "    { \"text\": \"Mexico\", \"value\": \"MX\" },\n",
    "    { \"text\": \"Micronesia, Federated States of\", \"value\": \"FM\" },\n",
    "    { \"text\": \"Moldova, Republic of\", \"value\": \"MD\" },\n",
    "    { \"text\": \"Monaco\", \"value\": \"MC\" },\n",
    "    { \"text\": \"Mongolia\", \"value\": \"MN\" },\n",
    "    { \"text\": \"Montserrat\", \"value\": \"MS\" },\n",
    "    { \"text\": \"Morocco\", \"value\": \"MA\" },\n",
    "    { \"text\": \"Mozambique\", \"value\": \"MZ\" },\n",
    "    { \"text\": \"Myanmar\", \"value\": \"MM\" },\n",
    "    { \"text\": \"Namibia\", \"value\": \"NA\" },\n",
    "    { \"text\": \"Nauru\", \"value\": \"NR\" },\n",
    "    { \"text\": \"Nepal\", \"value\": \"NP\" },\n",
    "    { \"text\": \"Netherlands\", \"value\": \"NL\" },\n",
    "    { \"text\": \"Netherlands Antilles\", \"value\": \"AN\" },\n",
    "    { \"text\": \"New Caledonia\", \"value\": \"NC\" },\n",
    "    { \"text\": \"New Zealand\", \"value\": \"NZ\" },\n",
    "    { \"text\": \"Nicaragua\", \"value\": \"NI\" },\n",
    "    { \"text\": \"Niger\", \"value\": \"NE\" },\n",
    "    { \"text\": \"Nigeria\", \"value\": \"NG\" },\n",
    "    { \"text\": \"Niue\", \"value\": \"NU\" },\n",
    "    { \"text\": \"Norfolk Island\", \"value\": \"NF\" },\n",
    "    { \"text\": \"Northern Mariana Islands\", \"value\": \"MP\" },\n",
    "    { \"text\": \"Norway\", \"value\": \"NO\" },\n",
    "    { \"text\": \"Oman\", \"value\": \"OM\" },\n",
    "    { \"text\": \"Pakistan\", \"value\": \"PK\" },\n",
    "    { \"text\": \"Palau\", \"value\": \"PW\" },\n",
    "    { \"text\": \"Palestinian Territory, Occupied\", \"value\": \"PS\" },\n",
    "    { \"text\": \"Panama\", \"value\": \"PA\" },\n",
    "    { \"text\": \"Papua New Guinea\", \"value\": \"PG\" },\n",
    "    { \"text\": \"Paraguay\", \"value\": \"PY\" },\n",
    "    { \"text\": \"Peru\", \"value\": \"PE\" },\n",
    "    { \"text\": \"Philippines\", \"value\": \"PH\" },\n",
    "    { \"text\": \"Pitcairn\", \"value\": \"PN\" },\n",
    "    { \"text\": \"Poland\", \"value\": \"PL\" },\n",
    "    { \"text\": \"Portugal\", \"value\": \"PT\" },\n",
    "    { \"text\": \"Puerto Rico\", \"value\": \"PR\" },\n",
    "    { \"text\": \"Qatar\", \"value\": \"QA\" },\n",
    "    { \"text\": \"Reunion\", \"value\": \"RE\" },\n",
    "    { \"text\": \"Romania\", \"value\": \"RO\" },\n",
    "    { \"text\": \"Russian Federation\", \"value\": \"RU\" },\n",
    "    { \"text\": \"RWANDA\", \"value\": \"RW\" },\n",
    "    { \"text\": \"Saint Helena\", \"value\": \"SH\" },\n",
    "    { \"text\": \"Saint Kitts and Nevis\", \"value\": \"KN\" },\n",
    "    { \"text\": \"Saint Lucia\", \"value\": \"LC\" },\n",
    "    { \"text\": \"Saint Pierre and Miquelon\", \"value\": \"PM\" },\n",
    "    { \"text\": \"Saint Vincent and the Grenadines\", \"value\": \"VC\" },\n",
    "    { \"text\": \"Samoa\", \"value\": \"WS\" },\n",
    "    { \"text\": \"San Marino\", \"value\": \"SM\" },\n",
    "    { \"text\": \"Sao Tome and Principe\", \"value\": \"ST\" },\n",
    "    { \"text\": \"Saudi Arabia\", \"value\": \"SA\" },\n",
    "    { \"text\": \"Senegal\", \"value\": \"SN\" },\n",
    "    { \"text\": \"Serbia and Montenegro\", \"value\": \"CS\" },\n",
    "    { \"text\": \"Seychelles\", \"value\": \"SC\" },\n",
    "    { \"text\": \"Sierra Leone\", \"value\": \"SL\" },\n",
    "    { \"text\": \"Singapore\", \"value\": \"SG\" },\n",
    "    { \"text\": \"Slovakia\", \"value\": \"SK\" },\n",
    "    { \"text\": \"Slovenia\", \"value\": \"SI\" },\n",
    "    { \"text\": \"Solomon Islands\", \"value\": \"SB\" },\n",
    "    { \"text\": \"Somalia\", \"value\": \"SO\" },\n",
    "    { \"text\": \"South Africa\", \"value\": \"ZA\" },\n",
    "    { \"text\": \"South Georgia and the South Sandwich Islands\", \"value\": \"GS\" },\n",
    "    { \"text\": \"Spain\", \"value\": \"ES\" },\n",
    "    { \"text\": \"Sri Lanka\", \"value\": \"LK\" },\n",
    "    { \"text\": \"Sudan\", \"value\": \"SD\" },\n",
    "    { \"text\": \"Suriname\", \"value\": \"SR\" },\n",
    "    { \"text\": \"Svalbard and Jan Mayen\", \"value\": \"SJ\" },\n",
    "    { \"text\": \"Swaziland\", \"value\": \"SZ\" },\n",
    "    { \"text\": \"Sweden\", \"value\": \"SE\" },\n",
    "    { \"text\": \"Switzerland\", \"value\": \"CH\" },\n",
    "    { \"text\": \"Syrian Arab Republic\", \"value\": \"SY\" },\n",
    "    { \"text\": \"Taiwan, Province of China\", \"value\": \"TW\" },\n",
    "    { \"text\": \"Tajikistan\", \"value\": \"TJ\" },\n",
    "    { \"text\": \"Tanzania, United Republic of\", \"value\": \"TZ\" },\n",
    "    { \"text\": \"Thailand\", \"value\": \"TH\" },\n",
    "    { \"text\": \"Timor-Leste\", \"value\": \"TL\" },\n",
    "    { \"text\": \"Togo\", \"value\": \"TG\" },\n",
    "    { \"text\": \"Tokelau\", \"value\": \"TK\" },\n",
    "    { \"text\": \"Tonga\", \"value\": \"TO\" },\n",
    "    { \"text\": \"Trinidad and Tobago\", \"value\": \"TT\" },\n",
    "    { \"text\": \"Tunisia\", \"value\": \"TN\" },\n",
    "    { \"text\": \"Turkey\", \"value\": \"TR\" },\n",
    "    { \"text\": \"Turkmenistan\", \"value\": \"TM\" },\n",
    "    { \"text\": \"Turks and Caicos Islands\", \"value\": \"TC\" },\n",
    "    { \"text\": \"Tuvalu\", \"value\": \"TV\" },\n",
    "    { \"text\": \"Uganda\", \"value\": \"UG\" },\n",
    "    { \"text\": \"Ukraine\", \"value\": \"UA\" },\n",
    "    { \"text\": \"United Arab Emirates\", \"value\": \"AE\" },\n",
    "    { \"text\": \"United Kingdom\", \"value\": \"GB\" },\n",
    "    { \"text\": \"United States\", \"value\": \"US\" },\n",
    "    { \"text\": \"United States Minor Outlying Islands\", \"value\": \"UM\" },\n",
    "    { \"text\": \"Uruguay\", \"value\": \"UY\" },\n",
    "    { \"text\": \"Uzbekistan\", \"value\": \"UZ\" },\n",
    "    { \"text\": \"Vanuatu\", \"value\": \"VU\" },\n",
    "    { \"text\": \"Venezuela\", \"value\": \"VE\" },\n",
    "    { \"text\": \"Viet Nam\", \"value\": \"VN\" },\n",
    "    { \"text\": \"Virgin Islands, British\", \"value\": \"VG\" },\n",
    "    { \"text\": \"Virgin Islands, U.S.\", \"value\": \"VI\" },\n",
    "    { \"text\": \"Wallis and Futuna\", \"value\": \"WF\" },\n",
    "    { \"text\": \"Western Sahara\", \"value\": \"EH\" },\n",
    "    { \"text\": \"Yemen\", \"value\": \"YE\" },\n",
    "    { \"text\": \"Zambia\", \"value\": \"ZM\" },\n",
    "    { \"text\": \"Zimbabwe\", \"value\": \"ZW\" }\n",
    "]"
   ]
  },
  {
   "cell_type": "code",
   "execution_count": 6,
   "metadata": {},
   "outputs": [],
   "source": [
    "# !wget https://raw.githubusercontent.com/huseinzol05/Malay-Dataset/master/tagging/entities-OntoNotes5/GPE/postalcode.json"
   ]
  },
  {
   "cell_type": "code",
   "execution_count": 7,
   "metadata": {},
   "outputs": [
    {
     "data": {
      "text/plain": [
       "{'code': '01000',\n",
       " 'place': 'Alor Tok Terang',\n",
       " 'city': 'Kangar',\n",
       " 'state': 'Perlis'}"
      ]
     },
     "execution_count": 7,
     "metadata": {},
     "output_type": "execute_result"
    }
   ],
   "source": [
    "with open('postalcode.json') as fopen:\n",
    "    postalcode = json.load(fopen)\n",
    "    \n",
    "postalcode['data'][0]"
   ]
  },
  {
   "cell_type": "code",
   "execution_count": 8,
   "metadata": {},
   "outputs": [
    {
     "data": {
      "text/plain": [
       "702"
      ]
     },
     "execution_count": 8,
     "metadata": {},
     "output_type": "execute_result"
    }
   ],
   "source": [
    "GPE = [c['text'] for c in country]\n",
    "for row in postalcode['data']:\n",
    "    GPE.extend([row['city'], row['state']])\n",
    "    \n",
    "GPE = list(set(GPE))\n",
    "len(GPE)"
   ]
  },
  {
   "cell_type": "code",
   "execution_count": 9,
   "metadata": {},
   "outputs": [],
   "source": [
    "results = []\n",
    "i = 0\n",
    "while i < len(entities['label']):\n",
    "    r = []\n",
    "    if entities['label'][i] == 'GPE':\n",
    "        while entities['label'][i] == 'GPE':\n",
    "            r.append(i)\n",
    "            i += 1\n",
    "        results.append(r)\n",
    "    i += 1"
   ]
  },
  {
   "cell_type": "code",
   "execution_count": 10,
   "metadata": {},
   "outputs": [],
   "source": [
    "import math\n",
    "import numpy as np\n",
    "\n",
    "def generate_index(l, name, texts, labels, length):\n",
    "    cp, indices = [], []\n",
    "    b = length - len(l)\n",
    "    left = math.ceil(b / 2)\n",
    "    right = b - left\n",
    "    minus = l[0] - left\n",
    "    if minus < 0:\n",
    "        absolute = np.abs(minus)\n",
    "        right += absolute\n",
    "        left -= absolute\n",
    "\n",
    "    for i in range(l[0] - left, l[0]):\n",
    "        cp.append(texts[i])\n",
    "        indices.append(labels[i])\n",
    "\n",
    "    cp.extend(name)\n",
    "    indices.extend([labels[l[0]] for _ in range(len(name))])\n",
    "    try:\n",
    "        for i in range(l[-1] + 1, l[-1] + right + 1):\n",
    "            cp.append(texts[i])\n",
    "            indices.append(labels[i])\n",
    "    except Exception as e:\n",
    "        print(e)\n",
    "        pass\n",
    "    \n",
    "    return cp, indices"
   ]
  },
  {
   "cell_type": "code",
   "execution_count": 13,
   "metadata": {},
   "outputs": [
    {
     "data": {
      "text/plain": [
       "24576"
      ]
     },
     "execution_count": 13,
     "metadata": {},
     "output_type": "execute_result"
    }
   ],
   "source": [
    "len(results)"
   ]
  },
  {
   "cell_type": "code",
   "execution_count": 14,
   "metadata": {},
   "outputs": [],
   "source": [
    "train_X, train_Y = [], []\n",
    "repeat = 30\n",
    "\n",
    "for t in GPE:\n",
    "    for i in range(repeat):\n",
    "        x, y = generate_index(results[random.randint(0, len(results) - 1)], \n",
    "                              t.split(), entities['text'], entities['label'], 50)\n",
    "        if len(x) != len(y):\n",
    "            print('len not same')\n",
    "            continue\n",
    "        train_X.append(x)\n",
    "        train_Y.append(y)"
   ]
  },
  {
   "cell_type": "code",
   "execution_count": 15,
   "metadata": {},
   "outputs": [
    {
     "data": {
      "text/plain": [
       "21060"
      ]
     },
     "execution_count": 15,
     "metadata": {},
     "output_type": "execute_result"
    }
   ],
   "source": [
    "len(train_X)"
   ]
  },
  {
   "cell_type": "code",
   "execution_count": 16,
   "metadata": {},
   "outputs": [],
   "source": [
    "with open('augmentation-gpe-ontonotes5.json', 'w') as fopen:\n",
    "    json.dump({'train_X': train_X, 'train_Y': train_Y}, fopen)"
   ]
  }
 ],
 "metadata": {
  "kernelspec": {
   "display_name": "Python 3",
   "language": "python",
   "name": "python3"
  },
  "language_info": {
   "codemirror_mode": {
    "name": "ipython",
    "version": 3
   },
   "file_extension": ".py",
   "mimetype": "text/x-python",
   "name": "python",
   "nbconvert_exporter": "python",
   "pygments_lexer": "ipython3",
   "version": "3.6.9"
  }
 },
 "nbformat": 4,
 "nbformat_minor": 2
}
