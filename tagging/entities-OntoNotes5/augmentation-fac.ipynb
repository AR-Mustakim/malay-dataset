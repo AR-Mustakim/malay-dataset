{
 "cells": [
  {
   "cell_type": "code",
   "execution_count": 1,
   "metadata": {},
   "outputs": [],
   "source": [
    "# !wget https://f000.backblazeb2.com/file/malay-dataset/tagging/ontonotes5/processed-ontonotes5.json"
   ]
  },
  {
   "cell_type": "code",
   "execution_count": 2,
   "metadata": {},
   "outputs": [],
   "source": [
    "import json\n",
    "from sklearn.model_selection import train_test_split\n",
    "import random"
   ]
  },
  {
   "cell_type": "code",
   "execution_count": 3,
   "metadata": {},
   "outputs": [],
   "source": [
    "with open('processed-ontonotes5.json') as fopen:\n",
    "    data = json.load(fopen)"
   ]
  },
  {
   "cell_type": "code",
   "execution_count": 4,
   "metadata": {},
   "outputs": [],
   "source": [
    "from collections import defaultdict\n",
    "\n",
    "entities = defaultdict(list)\n",
    "for i in data:\n",
    "    entities['text'].append(i[0])\n",
    "    entities['label'].append(i[1])"
   ]
  },
  {
   "cell_type": "code",
   "execution_count": 5,
   "metadata": {},
   "outputs": [],
   "source": [
    "# !wget https://raw.githubusercontent.com/huseinzol05/Malay-Dataset/master/tagging/entities-OntoNotes5/FAC/universiti.txt\n",
    "# !wget https://raw.githubusercontent.com/huseinzol05/Malay-Dataset/master/tagging/entities-OntoNotes5/FAC/senarai-balai-bomba.csv\n",
    "# !wget https://raw.githubusercontent.com/huseinzol05/Malay-Dataset/master/tagging/entities-OntoNotes5/FAC/politeknik.txt\n",
    "# !wget https://raw.githubusercontent.com/huseinzol05/Malay-Dataset/master/tagging/entities-OntoNotes5/FAC/lapangan-terbang.txt\n",
    "# !wget https://raw.githubusercontent.com/huseinzol05/Malay-Dataset/master/tagging/entities-OntoNotes5/FAC/klinik-komuniti.txt\n",
    "# !wget https://raw.githubusercontent.com/huseinzol05/Malay-Dataset/master/tagging/entities-OntoNotes5/FAC/klinik-kerajaan.txt\n",
    "# !wget https://raw.githubusercontent.com/huseinzol05/Malay-Dataset/master/tagging/entities-OntoNotes5/FAC/hospital.txt\n",
    "# !wget https://raw.githubusercontent.com/huseinzol05/Malay-Dataset/master/tagging/entities-OntoNotes5/FAC/bangunan-tertinggi-malaysia.txt\n",
    "# !wget https://raw.githubusercontent.com/huseinzol05/Malay-Dataset/master/tagging/entities-OntoNotes5/FAC/bangunan-bersejarah.txt\n",
    "# !wget https://raw.githubusercontent.com/huseinzol05/Malay-Dataset/master/tagging/entities-OntoNotes5/FAC/SENARAI%20SEKOLAH%20WEB%20KPM%20-JAN2020.csv\n",
    "# !wget https://raw.githubusercontent.com/huseinzol05/Malay-Dataset/master/tagging/entities-OntoNotes5/FAC/2019-senarai-balai-polis-pdrm--pada-april-2018.csv"
   ]
  },
  {
   "cell_type": "code",
   "execution_count": 6,
   "metadata": {},
   "outputs": [],
   "source": [
    "import pandas as pd\n",
    "import re\n",
    "\n",
    "df = pd.read_csv('2019-senarai-balai-polis-pdrm--pada-april-2018.csv', encoding = \"ISO-8859-1\").iloc[4:, 2]\n",
    "df = df.dropna().tolist()\n",
    "df = random.sample(df, 100)\n",
    "balai_polis = [re.sub(r'[ ]+', ' ', d.title()).strip() for d in df if 'polis' in d.lower()]"
   ]
  },
  {
   "cell_type": "code",
   "execution_count": 7,
   "metadata": {},
   "outputs": [],
   "source": [
    "df = pd.read_csv('SENARAI SEKOLAH WEB KPM -JAN2020.csv', encoding = \"ISO-8859-1\").iloc[1:, 6]\n",
    "df = df.dropna().tolist()\n",
    "df = random.sample(df, 200)\n",
    "sekolah = [re.sub(r'[ ]+', ' ', d.title()).strip() for d in df if 'sekolah' in d.lower()]"
   ]
  },
  {
   "cell_type": "code",
   "execution_count": 8,
   "metadata": {},
   "outputs": [],
   "source": [
    "with open('bangunan-bersejarah.txt') as fopen:\n",
    "    data = fopen.read().split('\\n')\n",
    "\n",
    "bangunan_bersejarah = []\n",
    "for t in data:\n",
    "    try:\n",
    "        bangunan_bersejarah.append(t.split('. ')[1])\n",
    "    except:\n",
    "        pass"
   ]
  },
  {
   "cell_type": "code",
   "execution_count": 9,
   "metadata": {},
   "outputs": [],
   "source": [
    "with open('bangunan-tertinggi-malaysia.txt') as fopen:\n",
    "    data = fopen.read().split('\\n')\n",
    "    \n",
    "bangunan_tertinggi = []\n",
    "for t in data:\n",
    "    try:\n",
    "        bangunan_tertinggi.append(t.split('\\t')[1])\n",
    "    except:\n",
    "        pass"
   ]
  },
  {
   "cell_type": "code",
   "execution_count": 10,
   "metadata": {},
   "outputs": [],
   "source": [
    "with open('hospital.txt') as fopen:\n",
    "    data = fopen.read().split('\\n')\n",
    "    \n",
    "hospital = []\n",
    "for t in data:\n",
    "    try:\n",
    "        hospital.append(t.split(',')[0].strip())\n",
    "    except:\n",
    "        pass"
   ]
  },
  {
   "cell_type": "code",
   "execution_count": 11,
   "metadata": {},
   "outputs": [],
   "source": [
    "with open('klinik-kerajaan.txt') as fopen:\n",
    "    data = fopen.read().split('\\n')\n",
    "    \n",
    "klinik_kerajaan = []\n",
    "for t in data:\n",
    "    try:\n",
    "        klinik_kerajaan.append(t.split('\\t')[1])\n",
    "    except:\n",
    "        pass\n",
    "    \n",
    "klinik_kerajaan = random.sample(klinik_kerajaan, 100)"
   ]
  },
  {
   "cell_type": "code",
   "execution_count": 12,
   "metadata": {},
   "outputs": [],
   "source": [
    "with open('klinik-komuniti.txt') as fopen:\n",
    "    data = fopen.read().split('\\n')\n",
    "    \n",
    "klinik_komuniti = []\n",
    "for t in data:\n",
    "    try:\n",
    "        klinik_komuniti.append(t.split('\\t')[1])\n",
    "    except:\n",
    "        pass\n",
    "    \n",
    "klinik_komuniti = random.sample(klinik_komuniti, 100)"
   ]
  },
  {
   "cell_type": "code",
   "execution_count": 13,
   "metadata": {},
   "outputs": [],
   "source": [
    "with open('lapangan-terbang.txt') as fopen:\n",
    "    data = fopen.read().split('\\n')\n",
    "    \n",
    "lapangan_terbang = []\n",
    "for t in data:\n",
    "    try:\n",
    "        t = t.split('\\t')[-3]\n",
    "        if 'terbang' in t.lower() or 'pangkalan' in t.lower():\n",
    "            lapangan_terbang.append(t)\n",
    "    except:\n",
    "        pass\n",
    "    \n",
    "# lapangan_terbang = random.sample(lapangan_terbang, 100)"
   ]
  },
  {
   "cell_type": "code",
   "execution_count": 14,
   "metadata": {},
   "outputs": [],
   "source": [
    "with open('politeknik.txt') as fopen:\n",
    "    data = fopen.read().split('\\n')\n",
    "    \n",
    "politeknik = []\n",
    "for t in data:\n",
    "    try:\n",
    "        politeknik.append(t.split(',')[0].strip())\n",
    "    except:\n",
    "        pass"
   ]
  },
  {
   "cell_type": "code",
   "execution_count": 15,
   "metadata": {},
   "outputs": [],
   "source": [
    "df = pd.read_csv('senarai-balai-bomba.csv').iloc[1:, 3]\n",
    "df = df.dropna().tolist()\n",
    "df = random.sample(df, 30)\n",
    "balai = [re.sub(r'[ ]+', ' ', d).strip() for d in df if 'bbp' in d.lower()]\n",
    "balai_bomba = balai[:]\n",
    "for b in balai:\n",
    "    b = ' '.join(b.split()[1:])\n",
    "    balai_bomba.append('Balai Bomba ' + b)"
   ]
  },
  {
   "cell_type": "code",
   "execution_count": 16,
   "metadata": {},
   "outputs": [],
   "source": [
    "with open('universiti.txt') as fopen:\n",
    "    data = fopen.read().split('\\n')[2:]\n",
    "    \n",
    "data = [d.split(',')[0].strip() for d in data]\n",
    "universiti = data[:]\n",
    "for d in data:\n",
    "    try:\n",
    "        d = d.split('(', 1)[1].split(')')[0]\n",
    "        universiti.append(d)\n",
    "    except:\n",
    "        pass\n",
    "    \n",
    "universiti = list(filter(None, universiti))"
   ]
  },
  {
   "cell_type": "code",
   "execution_count": 17,
   "metadata": {},
   "outputs": [],
   "source": [
    "facilities = balai_polis + sekolah + bangunan_bersejarah + hospital + klinik_kerajaan + klinik_komuniti \\\n",
    "+ lapangan_terbang + politeknik + balai_bomba + universiti"
   ]
  },
  {
   "cell_type": "code",
   "execution_count": 18,
   "metadata": {},
   "outputs": [],
   "source": [
    "results = []\n",
    "i = 0\n",
    "while i < len(entities['label']):\n",
    "    r = []\n",
    "    if entities['label'][i] == 'FAC':\n",
    "        while entities['label'][i] == 'FAC':\n",
    "            r.append(i)\n",
    "            i += 1\n",
    "        results.append(r)\n",
    "    i += 1"
   ]
  },
  {
   "cell_type": "code",
   "execution_count": 19,
   "metadata": {},
   "outputs": [],
   "source": [
    "import math\n",
    "\n",
    "def generate_index(l, name, texts, labels, length):\n",
    "    cp, indices = [], []\n",
    "    b = length - len(l)\n",
    "    left = math.ceil(b / 2)\n",
    "    right = b - left\n",
    "    minus = l[0] - left\n",
    "    if minus < 0:\n",
    "        absolute = np.abs(minus)\n",
    "        right += absolute\n",
    "        left -= absolute\n",
    "\n",
    "    for i in range(l[0] - left, l[0]):\n",
    "        cp.append(texts[i])\n",
    "        indices.append(labels[i])\n",
    "\n",
    "    cp.extend(name)\n",
    "    indices.extend([labels[l[0]] for _ in range(len(name))])\n",
    "    try:\n",
    "        for i in range(l[-1] + 1, l[-1] + right + 1):\n",
    "            cp.append(texts[i])\n",
    "            indices.append(labels[i])\n",
    "    except Exception as e:\n",
    "        print(e)\n",
    "        pass\n",
    "    \n",
    "    return cp, indices"
   ]
  },
  {
   "cell_type": "code",
   "execution_count": 20,
   "metadata": {},
   "outputs": [
    {
     "data": {
      "text/plain": [
       "1265"
      ]
     },
     "execution_count": 20,
     "metadata": {},
     "output_type": "execute_result"
    }
   ],
   "source": [
    "len(results)"
   ]
  },
  {
   "cell_type": "code",
   "execution_count": 21,
   "metadata": {},
   "outputs": [],
   "source": [
    "train_results, test_results = train_test_split(results, test_size = 0.2)"
   ]
  },
  {
   "cell_type": "code",
   "execution_count": 22,
   "metadata": {},
   "outputs": [
    {
     "data": {
      "text/plain": [
       "(1136, 284)"
      ]
     },
     "execution_count": 22,
     "metadata": {},
     "output_type": "execute_result"
    }
   ],
   "source": [
    "train_facilities, test_facilities = train_test_split(facilities, test_size = 0.2)\n",
    "len(train_facilities), len(test_facilities)"
   ]
  },
  {
   "cell_type": "code",
   "execution_count": 23,
   "metadata": {},
   "outputs": [],
   "source": [
    "train_X, train_Y = [], []\n",
    "repeat = 15\n",
    "\n",
    "for t in train_facilities:\n",
    "    for i in range(repeat):\n",
    "        x, y = generate_index(train_results[random.randint(0, len(train_results) - 1)], \n",
    "                              t.split(), entities['text'], entities['label'], 50)\n",
    "        if len(x) != len(y):\n",
    "            print('len not same')\n",
    "            continue\n",
    "        train_X.append(x)\n",
    "        train_Y.append(y)"
   ]
  },
  {
   "cell_type": "code",
   "execution_count": 24,
   "metadata": {},
   "outputs": [
    {
     "data": {
      "text/plain": [
       "17040"
      ]
     },
     "execution_count": 24,
     "metadata": {},
     "output_type": "execute_result"
    }
   ],
   "source": [
    "len(train_X)"
   ]
  },
  {
   "cell_type": "code",
   "execution_count": 25,
   "metadata": {},
   "outputs": [],
   "source": [
    "test_X, test_Y = [], []\n",
    "repeat = 15\n",
    "\n",
    "for t in test_facilities:\n",
    "    for i in range(repeat):\n",
    "        x, y = generate_index(test_results[random.randint(0, len(test_results) - 1)], \n",
    "                              t.split(), entities['text'], entities['label'], 50)\n",
    "        if len(x) != len(y):\n",
    "            print('len not same')\n",
    "            continue\n",
    "        test_X.append(x)\n",
    "        test_Y.append(y)"
   ]
  },
  {
   "cell_type": "code",
   "execution_count": 26,
   "metadata": {},
   "outputs": [
    {
     "data": {
      "text/plain": [
       "(17040, 4260)"
      ]
     },
     "execution_count": 26,
     "metadata": {},
     "output_type": "execute_result"
    }
   ],
   "source": [
    "len(train_X), len(test_X)"
   ]
  },
  {
   "cell_type": "code",
   "execution_count": 27,
   "metadata": {},
   "outputs": [],
   "source": [
    "with open('augmentation-fac-ontonotes5.json', 'w') as fopen:\n",
    "    json.dump({'train_X': train_X, 'train_Y': train_Y,\n",
    "              'test_X': test_X, 'test_Y': test_Y}, fopen)"
   ]
  }
 ],
 "metadata": {
  "kernelspec": {
   "display_name": "Python 3",
   "language": "python",
   "name": "python3"
  },
  "language_info": {
   "codemirror_mode": {
    "name": "ipython",
    "version": 3
   },
   "file_extension": ".py",
   "mimetype": "text/x-python",
   "name": "python",
   "nbconvert_exporter": "python",
   "pygments_lexer": "ipython3",
   "version": "3.6.9"
  }
 },
 "nbformat": 4,
 "nbformat_minor": 2
}
