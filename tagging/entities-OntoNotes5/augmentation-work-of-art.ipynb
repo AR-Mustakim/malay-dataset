{
 "cells": [
  {
   "cell_type": "code",
   "execution_count": 1,
   "metadata": {},
   "outputs": [],
   "source": [
    "# !wget https://f000.backblazeb2.com/file/malay-dataset/tagging/ontonotes5/processed-ontonotes5.json"
   ]
  },
  {
   "cell_type": "code",
   "execution_count": 2,
   "metadata": {},
   "outputs": [],
   "source": [
    "import json\n",
    "from sklearn.model_selection import train_test_split\n",
    "import random"
   ]
  },
  {
   "cell_type": "code",
   "execution_count": 3,
   "metadata": {},
   "outputs": [],
   "source": [
    "with open('processed-ontonotes5.json') as fopen:\n",
    "    data = json.load(fopen)"
   ]
  },
  {
   "cell_type": "code",
   "execution_count": 4,
   "metadata": {},
   "outputs": [],
   "source": [
    "from collections import defaultdict\n",
    "\n",
    "entities = defaultdict(list)\n",
    "for i in data:\n",
    "    entities['text'].append(i[0])\n",
    "    entities['label'].append(i[1])"
   ]
  },
  {
   "cell_type": "code",
   "execution_count": 5,
   "metadata": {},
   "outputs": [],
   "source": [
    "# !wget https://raw.githubusercontent.com/huseinzol05/Malay-Dataset/master/tagging/entities-OntoNotes5/WORK_OF_ART/classic-song.txt\n",
    "# !wget https://raw.githubusercontent.com/huseinzol05/Malay-Dataset/master/tagging/entities-OntoNotes5/WORK_OF_ART/filem-malaysia.txt\n",
    "# !wget https://raw.githubusercontent.com/huseinzol05/Malay-Dataset/master/tagging/entities-OntoNotes5/WORK_OF_ART/filem-pramlee.txt\n",
    "# !wget https://raw.githubusercontent.com/huseinzol05/Malay-Dataset/master/tagging/entities-OntoNotes5/WORK_OF_ART/lagu-lirikterbaikz.blogspot.txt\n",
    "# !wget https://raw.githubusercontent.com/huseinzol05/Malay-Dataset/master/tagging/entities-OntoNotes5/WORK_OF_ART/lagu-pramlee.txt\n",
    "# !wget https://raw.githubusercontent.com/huseinzol05/Malay-Dataset/master/tagging/entities-OntoNotes5/WORK_OF_ART/novel.txt"
   ]
  },
  {
   "cell_type": "code",
   "execution_count": 6,
   "metadata": {},
   "outputs": [],
   "source": [
    "with open('classic-song.txt') as fopen:\n",
    "    data = fopen.read().split('\\n')\n",
    "    \n",
    "classic_song = [i.split('\\t')[1].strip() for i in data if len(i)]"
   ]
  },
  {
   "cell_type": "code",
   "execution_count": 7,
   "metadata": {},
   "outputs": [],
   "source": [
    "with open('filem-malaysia.txt') as fopen:\n",
    "    data = fopen.read().split('\\n')\n",
    "    \n",
    "filem_malaysia = [i.split('\\t')[0].strip() for i in data if len(i)][:43]\n",
    "filem_malaysia.extend([i.split('\\t')[1].strip() for i in data if len(i)][43:])"
   ]
  },
  {
   "cell_type": "code",
   "execution_count": 8,
   "metadata": {},
   "outputs": [],
   "source": [
    "with open('filem-pramlee.txt') as fopen:\n",
    "    data = fopen.read().split('\\n')\n",
    "    \n",
    "filem_pramlee = [i.split('\\t')[0].strip() for i in data if len(i)]"
   ]
  },
  {
   "cell_type": "code",
   "execution_count": 9,
   "metadata": {},
   "outputs": [],
   "source": [
    "with open('lagu-lirikterbaikz.blogspot.txt') as fopen:\n",
    "    lagu = fopen.read().split('\\n')"
   ]
  },
  {
   "cell_type": "code",
   "execution_count": 10,
   "metadata": {},
   "outputs": [],
   "source": [
    "with open('novel.txt') as fopen:\n",
    "    data = fopen.read().split('\\n')[1:-1]\n",
    "    \n",
    "buku = []\n",
    "for i in range(1, len(data), 8):\n",
    "    buku.append(data[i].split('\\t')[0].strip())"
   ]
  },
  {
   "cell_type": "code",
   "execution_count": 11,
   "metadata": {},
   "outputs": [
    {
     "data": {
      "text/plain": [
       "1457"
      ]
     },
     "execution_count": 11,
     "metadata": {},
     "output_type": "execute_result"
    }
   ],
   "source": [
    "results = []\n",
    "i = 0\n",
    "while i < len(entities['label']):\n",
    "    r = []\n",
    "    if entities['label'][i] == 'WORK_OF_ART':\n",
    "        while entities['label'][i] == 'WORK_OF_ART':\n",
    "            r.append(i)\n",
    "            i += 1\n",
    "        results.append(r)\n",
    "    i += 1\n",
    "    \n",
    "len(results)"
   ]
  },
  {
   "cell_type": "code",
   "execution_count": 12,
   "metadata": {},
   "outputs": [],
   "source": [
    "art = classic_song + filem_malaysia + filem_pramlee + lagu + buku"
   ]
  },
  {
   "cell_type": "code",
   "execution_count": 13,
   "metadata": {},
   "outputs": [],
   "source": [
    "import math\n",
    "import numpy as np\n",
    "\n",
    "def generate_index(l, name, texts, labels, length):\n",
    "    cp, indices = [], []\n",
    "    b = length - len(l)\n",
    "    left = math.ceil(b / 2)\n",
    "    right = b - left\n",
    "    minus = l[0] - left\n",
    "    if minus < 0:\n",
    "        absolute = np.abs(minus)\n",
    "        right += absolute\n",
    "        left -= absolute\n",
    "\n",
    "    for i in range(l[0] - left, l[0]):\n",
    "        cp.append(texts[i])\n",
    "        indices.append(labels[i])\n",
    "\n",
    "    cp.extend(name)\n",
    "    indices.extend([labels[l[0]] for _ in range(len(name))])\n",
    "    try:\n",
    "        for i in range(l[-1] + 1, l[-1] + right + 1):\n",
    "            cp.append(texts[i])\n",
    "            indices.append(labels[i])\n",
    "    except Exception as e:\n",
    "        print(e)\n",
    "        pass\n",
    "    \n",
    "    return cp, indices"
   ]
  },
  {
   "cell_type": "code",
   "execution_count": 14,
   "metadata": {},
   "outputs": [],
   "source": [
    "train_results, test_results = train_test_split(results, test_size = 0.2)\n",
    "train_art, test_art = train_test_split(art, test_size = 0.2)"
   ]
  },
  {
   "cell_type": "code",
   "execution_count": 15,
   "metadata": {},
   "outputs": [
    {
     "data": {
      "text/plain": [
       "4020"
      ]
     },
     "execution_count": 15,
     "metadata": {},
     "output_type": "execute_result"
    }
   ],
   "source": [
    "train_X, train_Y = [], []\n",
    "\n",
    "repeat = 15\n",
    "for t in train_art:\n",
    "    for i in range(repeat):\n",
    "        x, y = generate_index(train_results[random.randint(0, len(train_results) - 1)], \n",
    "                              t.split(), entities['text'], entities['label'], 50)\n",
    "        if len(x) != len(y):\n",
    "            print('len not same')\n",
    "            continue\n",
    "        train_X.append(x)\n",
    "        train_Y.append(y)\n",
    "            \n",
    "len(train_X)"
   ]
  },
  {
   "cell_type": "code",
   "execution_count": 16,
   "metadata": {},
   "outputs": [
    {
     "data": {
      "text/plain": [
       "1020"
      ]
     },
     "execution_count": 16,
     "metadata": {},
     "output_type": "execute_result"
    }
   ],
   "source": [
    "test_X, test_Y = [], []\n",
    "\n",
    "repeat = 15\n",
    "for t in test_art:\n",
    "    for i in range(repeat):\n",
    "        x, y = generate_index(test_results[random.randint(0, len(test_results) - 1)], \n",
    "                              t.split(), entities['text'], entities['label'], 50)\n",
    "        if len(x) != len(y):\n",
    "            print('len not same')\n",
    "            continue\n",
    "        test_X.append(x)\n",
    "        test_Y.append(y)\n",
    "            \n",
    "len(test_X)"
   ]
  },
  {
   "cell_type": "code",
   "execution_count": 17,
   "metadata": {},
   "outputs": [
    {
     "data": {
      "text/plain": [
       "(4020, 1020)"
      ]
     },
     "execution_count": 17,
     "metadata": {},
     "output_type": "execute_result"
    }
   ],
   "source": [
    "len(train_X), len(test_X)"
   ]
  },
  {
   "cell_type": "code",
   "execution_count": 18,
   "metadata": {},
   "outputs": [],
   "source": [
    "with open('augmentation-work-of-art-ontonotes5.json', 'w') as fopen:\n",
    "    json.dump({'train_X': train_X, 'train_Y': train_Y,\n",
    "              'test_X': test_X, 'test_Y': test_Y}, fopen)"
   ]
  }
 ],
 "metadata": {
  "kernelspec": {
   "display_name": "Python 3",
   "language": "python",
   "name": "python3"
  },
  "language_info": {
   "codemirror_mode": {
    "name": "ipython",
    "version": 3
   },
   "file_extension": ".py",
   "mimetype": "text/x-python",
   "name": "python",
   "nbconvert_exporter": "python",
   "pygments_lexer": "ipython3",
   "version": "3.6.9"
  }
 },
 "nbformat": 4,
 "nbformat_minor": 2
}
