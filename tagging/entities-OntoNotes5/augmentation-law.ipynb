{
 "cells": [
  {
   "cell_type": "code",
   "execution_count": 1,
   "metadata": {},
   "outputs": [],
   "source": [
    "# !wget https://f000.backblazeb2.com/file/malay-dataset/tagging/ontonotes5/processed-ontonotes5.json"
   ]
  },
  {
   "cell_type": "code",
   "execution_count": 2,
   "metadata": {},
   "outputs": [],
   "source": [
    "import json\n",
    "from sklearn.model_selection import train_test_split\n",
    "import random"
   ]
  },
  {
   "cell_type": "code",
   "execution_count": 3,
   "metadata": {},
   "outputs": [],
   "source": [
    "with open('processed-ontonotes5.json') as fopen:\n",
    "    data = json.load(fopen)"
   ]
  },
  {
   "cell_type": "code",
   "execution_count": 4,
   "metadata": {},
   "outputs": [],
   "source": [
    "from collections import defaultdict\n",
    "\n",
    "entities = defaultdict(list)\n",
    "for i in data:\n",
    "    entities['text'].append(i[0])\n",
    "    entities['label'].append(i[1])"
   ]
  },
  {
   "cell_type": "code",
   "execution_count": 5,
   "metadata": {},
   "outputs": [],
   "source": [
    "# !wget https://raw.githubusercontent.com/huseinzol05/Malay-Dataset/master/tagging/entities-OntoNotes5/LAW/malaysia-laws.json\n",
    "# !wget https://raw.githubusercontent.com/huseinzol05/Malay-Dataset/master/tagging/entities-OntoNotes5/LAW/akta-undang-undang-keluarga-islam.txt"
   ]
  },
  {
   "cell_type": "code",
   "execution_count": 6,
   "metadata": {},
   "outputs": [],
   "source": [
    "with open('malaysia-laws.json') as fopen:\n",
    "    laws = json.load(fopen)"
   ]
  },
  {
   "cell_type": "code",
   "execution_count": 7,
   "metadata": {},
   "outputs": [],
   "source": [
    "# https://www.parlimen.gov.my/bills-dewan-rakyat.html?uweb=dr\n",
    "\n",
    "ruu = \"\"\"\n",
    "D.R.43/2019\t2019\tRUU Kumpulan Wang Simpanan Pekerja (Pindaan) 2019\t\n",
    "Lulus\n",
    "D.R.42/2019\t2019\tRUU Perlembagaan (Pindaan) (No. 2) 2019\t\n",
    "Bacaan Kali Pertama\n",
    "D.R.41/2019\t2019\tRUU Petroleum (Cukai Pendapatan) (Pindaan) 2019\t\n",
    "Lulus\n",
    "D.R.40/2019\t2019\tRUU Cukai Pendapatan (Pindaan) 2019\t\n",
    "Lulus\n",
    "D.R.39/2019\t2019\tRUU Pengangkutan Barang Melalui Laut (Pindaan) 2019\t\n",
    "Lulus\n",
    "D.R.38/2019\t2019\tRUU Cukai Aktiviti Perniagaan Labuan (Pindaan) 2019\t\n",
    "Lulus\n",
    "D.R.37/2019\t2019\tRUU Racun (Pindaan) 2019\t\n",
    "Bacaan Kali Pertama\n",
    "D.R.36/2019\t2019\tRUU Lembaga Promosi Kesihatan Malaysia (Pembubaran) 2019\t\n",
    "Lulus\n",
    "D.R.35/2019\t2019\tRUU Hak Cipta (Pindaan) 2019\t\n",
    "Lulus\n",
    "D.R.34/2019\t2019\tRUU Francais (Pindaan) 2019\t\n",
    "Lulus\n",
    "D.R.33/2019\t2019\tRUU Kewangan 2019\t\n",
    "Lulus\n",
    "D.R.32/2019\t2019\tRUU Perbekalan 2020\t\n",
    "Lulus\n",
    "D.R.31/2019\t2019\tRUU Perhubungan Perusahaan (Pindaan) 2019\t\n",
    "Lulus\n",
    "D.R.30/2019\t2019\tRUU Bank Negara Malaysia (Pindaan) 2019\t\n",
    "Lulus\n",
    "D.R.29/2019\t2019\tRUU Mata Wang 2019\t\n",
    "Lulus\n",
    "D.R.28/2019\t2019\tRUU Pusat Pencegahan Jenayah Kewangan Nasional 2019\t\n",
    "Lulus\n",
    "D.R.27/2019\t2019\tRUU Perlindungan Penderma Makanan 2019\t\n",
    "Lulus\n",
    "D.R.26/2019\t2019\tRUU Antiberita Tidak Benar (Pemansuhan) 2019\t\n",
    "Lulus\n",
    "D.R.25/2019\t2019\tRUU Suruhanjaya Bebas Aduan Salah Laku Polis 2019\t\n",
    "Bacaan Kali Kedua dan Ketiga\n",
    "D.R.24/2019\t2019\tRUU Bank Negara Malaysia (Pindaan) 2019\t\n",
    "Ditarik Balik\n",
    "D.R.23/2019\t2019\tRUU Mata Wang 2019\t\n",
    "Ditarik Balik\n",
    "D.R.22/2019\t2019\tRUU Penyemakan Undang-Undang (Pindaan) 2019\t\n",
    "Lulus\n",
    "D.R.21/2019\t2019\tRUU Perlembagaan (Pindaan) 2019\t\n",
    "Lulus\n",
    "D.R.20/2019\t2019\tRUU Standard Minimum Perumahan dan Kemudahan Pekerja (Pindaan) 2019\t\n",
    "Lulus\n",
    "D.R.19/2019\t2019\tRUU Pentadbiran Undang-Undang Islam (Wilayah-Wilayah Persekutuan) (Pindaan) (No.2) 2019\t\n",
    "Lulus\n",
    "D.R.18/2019\t2019\tRUU Profesion Guaman Syarie (Wilayah-Wilayah Persekutuan) 2019\t\n",
    "Lulus\n",
    "D.R.17/2019\t2019\tRUU Syarikat (Pindaan) 2019\t\n",
    "Lulus\n",
    "D.R.16/2019\t2019\tRUU Perikanan (Pindaan) 2019\t\n",
    "Lulus\n",
    "D.R.15/2019\t2019\tRUU Perlindungan Pengguna (Pindaan) 2019\t\n",
    "Lulus\n",
    "D.R.14/2019\t2019\tRUU Perlembagaan (Pindaan) 2019\t\n",
    "Ditarik Balik\n",
    "D.R.13/2019\t2019\tRUU Perhimpunan Aman (Pindaan) 2019\t\n",
    "Lulus\n",
    "D.R.12/2019\t2019\tRUU Pertubuhan Belia dan Pembangunan Belia (Pindaan) 2019\t\n",
    "Lulus\n",
    "D.R.11/2019\t2019\tRUU Perihal Dagangan (Pindaan) 2019\t\n",
    "Lulus\n",
    "D.R.10/2019\t2019\tRUU Cap Dagangan 2019\t\n",
    "Lulus\n",
    "D.R 9/2019\t2019\tRUU Majlis Keselamatan Negara (Pindaan) 2019\t\n",
    "Ditarik Balik\n",
    "D.R 8/2019\t2019\tRUU Levi Pelepasan 2019\t\n",
    "Lulus\n",
    "D.R 7/2019\t2019\tRUU Perlembagaan (Pindaan) 2019\t\n",
    "Bacaan Kali Pertama\n",
    "D.R 6/2019\t2019\tRUU Cukai Perkhidmatan (Pindaan) 2019\t\n",
    "Lulus\n",
    "D.R 5/2019\t2019\tRUU Cukai Jualan (Pindaan) 2019\t\n",
    "Lulus\n",
    "D.R 4/2019\t2019\tRUU Zon Bebas (Pindaan) 2019\t\n",
    "Lulus\n",
    "D.R 3/2019\t2019\tRUU Eksais (Pindaan) 2019\t\n",
    "Lulus\n",
    "D.R 2/2019\t2019\tRUU Kastam (Pindaan) 2019\t\n",
    "Lulus\n",
    "D.R 1/2019\t2019\tRUU Perbekalan Tambahan (2018) 2019\t\n",
    "Lulus\n",
    "\"\"\""
   ]
  },
  {
   "cell_type": "code",
   "execution_count": 8,
   "metadata": {},
   "outputs": [],
   "source": [
    "ruu_list = list(filter(None, ruu.split('\\n')))[::2]\n",
    "ruu_list = [r.strip().split('\\t')[-1] for r in ruu_list]"
   ]
  },
  {
   "cell_type": "code",
   "execution_count": 9,
   "metadata": {},
   "outputs": [],
   "source": [
    "ruu_ending = ['(Pindaan)', '(Pindaan) (No. 2)', '(Cukai Pendapatan) (Pindaan)',\n",
    "             '(Pembubaran)', '(Pemansuhan)', '(Wilayah-Wilayah Persekutuan) (Pindaan) (No.2)',\n",
    "             '(Wilayah-Wilayah Persekutuan)', '(2018)']"
   ]
  },
  {
   "cell_type": "code",
   "execution_count": 10,
   "metadata": {},
   "outputs": [
    {
     "data": {
      "text/plain": [
       "79"
      ]
     },
     "execution_count": 10,
     "metadata": {},
     "output_type": "execute_result"
    }
   ],
   "source": [
    "ruu_words = []\n",
    "for r in ruu_list:\n",
    "    r = r.split('(')[0].split('RUU ')[-1].replace('2019','').replace('2020','').strip()\n",
    "    ruu_words.extend(r.split())\n",
    "    \n",
    "ruu_words = list(set(ruu_words))\n",
    "len(ruu_words)"
   ]
  },
  {
   "cell_type": "code",
   "execution_count": 11,
   "metadata": {},
   "outputs": [
    {
     "data": {
      "text/plain": [
       "670"
      ]
     },
     "execution_count": 11,
     "metadata": {},
     "output_type": "execute_result"
    }
   ],
   "source": [
    "laws_list = []\n",
    "for i in range(15):\n",
    "    laws_list.extend(laws.get(str(i), []))\n",
    "    \n",
    "laws_list = list(set(laws_list))\n",
    "len(laws_list)"
   ]
  },
  {
   "cell_type": "code",
   "execution_count": 12,
   "metadata": {},
   "outputs": [
    {
     "data": {
      "text/plain": [
       "713"
      ]
     },
     "execution_count": 12,
     "metadata": {},
     "output_type": "execute_result"
    }
   ],
   "source": [
    "laws_list.extend(ruu_list)\n",
    "len(laws_list)"
   ]
  },
  {
   "cell_type": "code",
   "execution_count": 13,
   "metadata": {},
   "outputs": [],
   "source": [
    "with open('akta-undang-undang-keluarga-islam.txt') as fopen:\n",
    "    akta = fopen.read().split('\\n')\n",
    "    \n",
    "akta = [i for i in akta if len(i) > 1 and 'BAHAGIAN' not in i and 'Seksyen' in i]\n",
    "laws_list.extend(akta)"
   ]
  },
  {
   "cell_type": "code",
   "execution_count": 14,
   "metadata": {},
   "outputs": [],
   "source": [
    "train_laws_list, test_laws_list = train_test_split(laws_list, test_size = 0.2)\n",
    "train_laws, test_laws = train_test_split(laws['free'], test_size = 0.2)\n",
    "train_ruu_words, test_ruu_words = train_test_split(ruu_words, test_size = 0.2)"
   ]
  },
  {
   "cell_type": "code",
   "execution_count": 15,
   "metadata": {},
   "outputs": [
    {
     "data": {
      "text/plain": [
       "('Akta Pengambilan Wakil Jentera Penagih Lancungan 1965',\n",
       " 'RUU Mata Perkhidmatan dan Belia Levi (Cukai Pendapatan) (Pindaan) 2019')"
      ]
     },
     "execution_count": 15,
     "metadata": {},
     "output_type": "execute_result"
    }
   ],
   "source": [
    "import random\n",
    "\n",
    "def generate_akta(length, sample):\n",
    "    l = ' '.join(random.sample(sample, length))\n",
    "    l = 'Akta ' + l + ' ' + random.choice(laws['free_num'])\n",
    "    return l\n",
    "\n",
    "def generate_ruu(length, sample):\n",
    "    l = ' '.join(random.sample(sample, length))\n",
    "    c = random.choice(ruu_ending)\n",
    "    return f'RUU {l} {c} 2019'\n",
    "\n",
    "generate_akta(5, train_laws), generate_ruu(5, test_ruu_words)"
   ]
  },
  {
   "cell_type": "code",
   "execution_count": 18,
   "metadata": {},
   "outputs": [
    {
     "data": {
      "text/plain": [
       "370"
      ]
     },
     "execution_count": 18,
     "metadata": {},
     "output_type": "execute_result"
    }
   ],
   "source": [
    "results = []\n",
    "i = 0\n",
    "while i < len(entities['label']):\n",
    "    r = []\n",
    "    if entities['label'][i] == 'LAW':\n",
    "        while entities['label'][i] == 'LAW':\n",
    "            r.append(i)\n",
    "            i += 1\n",
    "        results.append(r)\n",
    "    i += 1\n",
    "    \n",
    "len(results)"
   ]
  },
  {
   "cell_type": "code",
   "execution_count": 19,
   "metadata": {},
   "outputs": [],
   "source": [
    "import math\n",
    "\n",
    "def generate_index(l, name, texts, labels, length):\n",
    "    cp, indices = [], []\n",
    "    b = length - len(l)\n",
    "    left = math.ceil(b / 2)\n",
    "    right = b - left\n",
    "    minus = l[0] - left\n",
    "    if minus < 0:\n",
    "        absolute = np.abs(minus)\n",
    "        right += absolute\n",
    "        left -= absolute\n",
    "\n",
    "    for i in range(l[0] - left, l[0]):\n",
    "        cp.append(texts[i])\n",
    "        indices.append(labels[i])\n",
    "\n",
    "    cp.extend(name)\n",
    "    indices.extend([labels[l[0]] for _ in range(len(name))])\n",
    "    try:\n",
    "        for i in range(l[-1] + 1, l[-1] + right + 1):\n",
    "            cp.append(texts[i])\n",
    "            indices.append(labels[i])\n",
    "    except Exception as e:\n",
    "        print(e)\n",
    "        pass\n",
    "    \n",
    "    return cp, indices"
   ]
  },
  {
   "cell_type": "code",
   "execution_count": 20,
   "metadata": {},
   "outputs": [],
   "source": [
    "train_results, test_results = train_test_split(results, test_size = 0.2)"
   ]
  },
  {
   "cell_type": "code",
   "execution_count": 23,
   "metadata": {},
   "outputs": [
    {
     "data": {
      "text/plain": [
       "10200"
      ]
     },
     "execution_count": 23,
     "metadata": {},
     "output_type": "execute_result"
    }
   ],
   "source": [
    "train_X, train_Y = [], []\n",
    "repeat = 15\n",
    "\n",
    "for t in train_laws_list:\n",
    "    for i in range(repeat):\n",
    "        x, y = generate_index(train_results[random.randint(0, len(train_results) - 1)], \n",
    "                              t.split(), entities['text'], entities['label'], 50)\n",
    "        if len(x) != len(y):\n",
    "            print('len not same')\n",
    "            continue\n",
    "        train_X.append(x)\n",
    "        train_Y.append(y)\n",
    "        \n",
    "len(train_X)"
   ]
  },
  {
   "cell_type": "code",
   "execution_count": 24,
   "metadata": {},
   "outputs": [
    {
     "data": {
      "text/plain": [
       "12584"
      ]
     },
     "execution_count": 24,
     "metadata": {},
     "output_type": "execute_result"
    }
   ],
   "source": [
    "for r in train_results:\n",
    "    for _ in range(10):\n",
    "        if random.random() > 0.6:\n",
    "            x, y = generate_index(r, generate_akta(len(r), train_laws).split(), \n",
    "                                  entities['text'], entities['label'], 50)\n",
    "            if len(x) != len(y):\n",
    "                print('len not same')\n",
    "                continue\n",
    "            train_X.append(x)\n",
    "            train_Y.append(y)\n",
    "    for _ in range(10):\n",
    "        if random.random() > 0.6:\n",
    "            x, y = generate_index(r, generate_ruu(len(r), train_ruu_words).split(), \n",
    "                                  entities['text'], entities['label'], 50)\n",
    "            if len(x) != len(y):\n",
    "                print('len not same')\n",
    "                continue\n",
    "            train_X.append(x)\n",
    "            train_Y.append(y)\n",
    "            \n",
    "len(train_X)"
   ]
  },
  {
   "cell_type": "code",
   "execution_count": 26,
   "metadata": {},
   "outputs": [],
   "source": [
    "test_X, test_Y = [], []\n",
    "repeat = 15\n",
    "\n",
    "for t in test_laws_list:\n",
    "    for i in range(repeat):\n",
    "        x, y = generate_index(test_results[random.randint(0, len(test_results) - 1)], \n",
    "                              t.split(), entities['text'], entities['label'], 50)\n",
    "        if len(x) != len(y):\n",
    "            print('len not same')\n",
    "            continue\n",
    "        test_X.append(x)\n",
    "        test_Y.append(y)"
   ]
  },
  {
   "cell_type": "code",
   "execution_count": 27,
   "metadata": {},
   "outputs": [
    {
     "data": {
      "text/plain": [
       "3161"
      ]
     },
     "execution_count": 27,
     "metadata": {},
     "output_type": "execute_result"
    }
   ],
   "source": [
    "for r in test_results:\n",
    "    for _ in range(10):\n",
    "        if random.random() > 0.6:\n",
    "            x, y = generate_index(r, generate_akta(len(r), test_laws).split(), \n",
    "                                  entities['text'], entities['label'], 50)\n",
    "            if len(x) != len(y):\n",
    "                print('len not same')\n",
    "                continue\n",
    "            test_X.append(x)\n",
    "            test_Y.append(y)\n",
    "    for _ in range(10):\n",
    "        if random.random() > 0.6:\n",
    "            x, y = generate_index(r, generate_ruu(len(r), test_ruu_words).split(), \n",
    "                                  entities['text'], entities['label'], 50)\n",
    "            if len(x) != len(y):\n",
    "                print('len not same')\n",
    "                continue\n",
    "            test_X.append(x)\n",
    "            test_Y.append(y)\n",
    "            \n",
    "len(test_X)"
   ]
  },
  {
   "cell_type": "code",
   "execution_count": 28,
   "metadata": {},
   "outputs": [
    {
     "data": {
      "text/plain": [
       "(12584, 3161)"
      ]
     },
     "execution_count": 28,
     "metadata": {},
     "output_type": "execute_result"
    }
   ],
   "source": [
    "len(train_X), len(test_X)"
   ]
  },
  {
   "cell_type": "code",
   "execution_count": 29,
   "metadata": {},
   "outputs": [],
   "source": [
    "with open('augmentation-law-ontonotes5.json', 'w') as fopen:\n",
    "    json.dump({'train_X': train_X, 'train_Y': train_Y,\n",
    "              'test_X': test_X, 'test_Y': test_Y}, fopen)"
   ]
  }
 ],
 "metadata": {
  "kernelspec": {
   "display_name": "Python 3",
   "language": "python",
   "name": "python3"
  },
  "language_info": {
   "codemirror_mode": {
    "name": "ipython",
    "version": 3
   },
   "file_extension": ".py",
   "mimetype": "text/x-python",
   "name": "python",
   "nbconvert_exporter": "python",
   "pygments_lexer": "ipython3",
   "version": "3.6.9"
  }
 },
 "nbformat": 4,
 "nbformat_minor": 2
}
