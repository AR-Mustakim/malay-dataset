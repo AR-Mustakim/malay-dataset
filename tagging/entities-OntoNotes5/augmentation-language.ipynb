{
 "cells": [
  {
   "cell_type": "code",
   "execution_count": 1,
   "metadata": {},
   "outputs": [],
   "source": [
    "# !wget https://f000.backblazeb2.com/file/malay-dataset/tagging/ontonotes5/processed-ontonotes5.json"
   ]
  },
  {
   "cell_type": "code",
   "execution_count": 2,
   "metadata": {},
   "outputs": [],
   "source": [
    "import json\n",
    "from sklearn.model_selection import train_test_split\n",
    "import random"
   ]
  },
  {
   "cell_type": "code",
   "execution_count": 3,
   "metadata": {},
   "outputs": [],
   "source": [
    "with open('processed-ontonotes5.json') as fopen:\n",
    "    data = json.load(fopen)"
   ]
  },
  {
   "cell_type": "code",
   "execution_count": 4,
   "metadata": {},
   "outputs": [],
   "source": [
    "from collections import defaultdict\n",
    "\n",
    "entities = defaultdict(list)\n",
    "for i in data:\n",
    "    entities['text'].append(i[0])\n",
    "    entities['label'].append(i[1])"
   ]
  },
  {
   "cell_type": "code",
   "execution_count": 5,
   "metadata": {},
   "outputs": [],
   "source": [
    "# !wget https://raw.githubusercontent.com/huseinzol05/Malay-Dataset/master/tagging/entities-OntoNotes5/LANGUAGE/bahasa.txt"
   ]
  },
  {
   "cell_type": "code",
   "execution_count": 6,
   "metadata": {},
   "outputs": [
    {
     "data": {
      "text/plain": [
       "343"
      ]
     },
     "execution_count": 6,
     "metadata": {},
     "output_type": "execute_result"
    }
   ],
   "source": [
    "with open('bahasa.txt') as fopen:\n",
    "    data = fopen.read().split('\\n')\n",
    "    \n",
    "language = [d.split('(')[0].strip() for d in data if len(d) > 2 and 'Isi kandungan' not in d]\n",
    "len(language)"
   ]
  },
  {
   "cell_type": "code",
   "execution_count": 7,
   "metadata": {},
   "outputs": [
    {
     "data": {
      "text/plain": [
       "377"
      ]
     },
     "execution_count": 7,
     "metadata": {},
     "output_type": "execute_result"
    }
   ],
   "source": [
    "results = []\n",
    "i = 0\n",
    "while i < len(entities['label']):\n",
    "    r = []\n",
    "    if entities['label'][i] == 'LANGUAGE':\n",
    "        while entities['label'][i] == 'LANGUAGE':\n",
    "            r.append(i)\n",
    "            i += 1\n",
    "        results.append(r)\n",
    "    i += 1\n",
    "    \n",
    "len(results)"
   ]
  },
  {
   "cell_type": "code",
   "execution_count": 8,
   "metadata": {},
   "outputs": [],
   "source": [
    "import math\n",
    "import numpy as np\n",
    "\n",
    "def generate_index(l, name, texts, labels, length):\n",
    "    cp, indices = [], []\n",
    "    b = length - len(l)\n",
    "    left = math.ceil(b / 2)\n",
    "    right = b - left\n",
    "    minus = l[0] - left\n",
    "    if minus < 0:\n",
    "        absolute = np.abs(minus)\n",
    "        right += absolute\n",
    "        left -= absolute\n",
    "\n",
    "    for i in range(l[0] - left, l[0]):\n",
    "        cp.append(texts[i])\n",
    "        indices.append(labels[i])\n",
    "\n",
    "    cp.extend(name)\n",
    "    indices.extend([labels[l[0]] for _ in range(len(name))])\n",
    "    try:\n",
    "        for i in range(l[-1] + 1, l[-1] + right + 1):\n",
    "            cp.append(texts[i])\n",
    "            indices.append(labels[i])\n",
    "    except Exception as e:\n",
    "        print(e)\n",
    "        pass\n",
    "    \n",
    "    return cp, indices"
   ]
  },
  {
   "cell_type": "code",
   "execution_count": 9,
   "metadata": {},
   "outputs": [
    {
     "data": {
      "text/plain": [
       "377"
      ]
     },
     "execution_count": 9,
     "metadata": {},
     "output_type": "execute_result"
    }
   ],
   "source": [
    "len(results)"
   ]
  },
  {
   "cell_type": "code",
   "execution_count": 12,
   "metadata": {},
   "outputs": [],
   "source": [
    "train_X, train_Y = [], []\n",
    "repeat = 20\n",
    "\n",
    "for t in language:\n",
    "    for i in range(repeat):\n",
    "        x, y = generate_index(results[random.randint(0, len(results) - 1)], \n",
    "                              t.split(), entities['text'], entities['label'], 50)\n",
    "        if len(x) != len(y):\n",
    "            print('len not same')\n",
    "            continue\n",
    "        train_X.append(x)\n",
    "        train_Y.append(y)"
   ]
  },
  {
   "cell_type": "code",
   "execution_count": 13,
   "metadata": {},
   "outputs": [
    {
     "data": {
      "text/plain": [
       "6860"
      ]
     },
     "execution_count": 13,
     "metadata": {},
     "output_type": "execute_result"
    }
   ],
   "source": [
    "len(train_X)"
   ]
  },
  {
   "cell_type": "code",
   "execution_count": 14,
   "metadata": {},
   "outputs": [],
   "source": [
    "with open('augmentation-language-ontonotes5.json', 'w') as fopen:\n",
    "    json.dump({'train_X': train_X, 'train_Y': train_Y}, fopen)"
   ]
  }
 ],
 "metadata": {
  "kernelspec": {
   "display_name": "Python 3",
   "language": "python",
   "name": "python3"
  },
  "language_info": {
   "codemirror_mode": {
    "name": "ipython",
    "version": 3
   },
   "file_extension": ".py",
   "mimetype": "text/x-python",
   "name": "python",
   "nbconvert_exporter": "python",
   "pygments_lexer": "ipython3",
   "version": "3.6.9"
  }
 },
 "nbformat": 4,
 "nbformat_minor": 2
}
