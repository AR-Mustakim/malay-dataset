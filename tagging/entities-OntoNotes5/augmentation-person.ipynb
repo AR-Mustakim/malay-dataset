{
 "cells": [
  {
   "cell_type": "code",
   "execution_count": 1,
   "metadata": {},
   "outputs": [],
   "source": [
    "# !wget https://f000.backblazeb2.com/file/malay-dataset/tagging/ontonotes5/processed-ontonotes5.json"
   ]
  },
  {
   "cell_type": "code",
   "execution_count": 2,
   "metadata": {},
   "outputs": [],
   "source": [
    "import json\n",
    "from sklearn.model_selection import train_test_split\n",
    "import random"
   ]
  },
  {
   "cell_type": "code",
   "execution_count": 3,
   "metadata": {},
   "outputs": [],
   "source": [
    "with open('processed-ontonotes5.json') as fopen:\n",
    "    data = json.load(fopen)"
   ]
  },
  {
   "cell_type": "code",
   "execution_count": 4,
   "metadata": {},
   "outputs": [],
   "source": [
    "from collections import defaultdict\n",
    "\n",
    "entities = defaultdict(list)\n",
    "for i in data:\n",
    "    entities['text'].append(i[0])\n",
    "    entities['label'].append(i[1])"
   ]
  },
  {
   "cell_type": "code",
   "execution_count": 5,
   "metadata": {},
   "outputs": [],
   "source": [
    "# !wget https://raw.githubusercontent.com/huseinzol05/Malay-Dataset/master/tagging/entities-OntoNotes5/PERSON/kabinet/mbkm.txt\n",
    "# !wget https://raw.githubusercontent.com/huseinzol05/Malay-Dataset/master/tagging/entities-OntoNotes5/PERSON/kabinet/menteri.txt\n",
    "# !wget https://raw.githubusercontent.com/huseinzol05/Malay-Dataset/master/tagging/entities-OntoNotes5/PERSON/kabinet/setiausaha-politik.txt\n",
    "# !wget https://raw.githubusercontent.com/huseinzol05/Malay-Dataset/master/tagging/entities-OntoNotes5/PERSON/kabinet/timbalan-menteri.txt\n",
    "# !wget https://raw.githubusercontent.com/huseinzol05/Malay-Dataset/master/tagging/entities/popit-persons.json\n",
    "# !wget https://raw.githubusercontent.com/huseinzol05/Malay-Dataset/master/tagging/entities-OntoNotes5/PERSON/arab-boy.json\n",
    "# !wget https://raw.githubusercontent.com/huseinzol05/Malay-Dataset/master/tagging/entities-OntoNotes5/PERSON/arab-girl.json\n",
    "# !wget https://raw.githubusercontent.com/huseinzol05/Malay-Dataset/master/tagging/entities-OntoNotes5/PERSON/calon-wakil-rakyat.csv\n",
    "# !wget https://raw.githubusercontent.com/huseinzol05/Malay-Dataset/master/tagging/entities-OntoNotes5/PERSON/chinese-boy.json\n",
    "# !wget https://raw.githubusercontent.com/huseinzol05/Malay-Dataset/master/tagging/entities-OntoNotes5/PERSON/chinese-girl.json\n",
    "# !wget https://raw.githubusercontent.com/huseinzol05/Malay-Dataset/master/tagging/entities-OntoNotes5/PERSON/indian-boy.json\n",
    "# !wget https://raw.githubusercontent.com/huseinzol05/Malay-Dataset/master/tagging/entities-OntoNotes5/PERSON/indian-girl.json"
   ]
  },
  {
   "cell_type": "code",
   "execution_count": 6,
   "metadata": {},
   "outputs": [],
   "source": [
    "with open('mbkm.txt') as fopen:\n",
    "    data = fopen.read().split('\\n')\n",
    "    \n",
    "mbkm = []\n",
    "for d in data:\n",
    "    if not ('BIN ' in d or 'BINTI ' in d):\n",
    "        continue\n",
    "    if ') ' in d:\n",
    "        d = ' '.join(d.split(') ')[1:])\n",
    "    d = d.title()\n",
    "    mbkm.append(d)"
   ]
  },
  {
   "cell_type": "code",
   "execution_count": 7,
   "metadata": {},
   "outputs": [],
   "source": [
    "with open('menteri.txt') as fopen:\n",
    "    data = fopen.read().split('\\n')\n",
    "    \n",
    "menteri = []\n",
    "for d in data:\n",
    "    if not ('BIN ' in d or 'BINTI ' in d):\n",
    "        continue\n",
    "    if ') ' in d:\n",
    "        d = ' '.join(d.split(') ')[1:])\n",
    "    d = d.title()\n",
    "    menteri.append(d)"
   ]
  },
  {
   "cell_type": "code",
   "execution_count": 8,
   "metadata": {},
   "outputs": [],
   "source": [
    "with open('setiausaha-politik.txt') as fopen:\n",
    "    data = fopen.read().split('\\n')\n",
    "    \n",
    "setiausaha_politik = []\n",
    "for d in data:\n",
    "    if not ('BIN ' in d or 'BINTI ' in d):\n",
    "        continue\n",
    "    if ')\\t' in d:\n",
    "        d = ' '.join(d.split(')\\t')[1:])\n",
    "    d = d.title()\n",
    "    setiausaha_politik.append(d)"
   ]
  },
  {
   "cell_type": "code",
   "execution_count": 9,
   "metadata": {},
   "outputs": [],
   "source": [
    "with open('timbalan-menteri.txt') as fopen:\n",
    "    data = fopen.read().split('\\n')\n",
    "    \n",
    "timbalan_menteri = []\n",
    "for d in data:\n",
    "    if not ('BIN ' in d or 'BINTI ' in d):\n",
    "        continue\n",
    "    if ') ' in d:\n",
    "        d = ' '.join(d.split(') ')[1:])\n",
    "    d = d.title()\n",
    "    timbalan_menteri.append(d)"
   ]
  },
  {
   "cell_type": "code",
   "execution_count": 10,
   "metadata": {},
   "outputs": [],
   "source": [
    "with open('popit-persons.json') as fopen:\n",
    "    popit = json.load(fopen)"
   ]
  },
  {
   "cell_type": "code",
   "execution_count": 11,
   "metadata": {},
   "outputs": [],
   "source": [
    "import pandas as pd\n",
    "\n",
    "df = pd.read_csv('calon-wakil-rakyat.csv').iloc[:,5].tolist()\n",
    "df = [i.title() for i in df]"
   ]
  },
  {
   "cell_type": "code",
   "execution_count": 12,
   "metadata": {},
   "outputs": [],
   "source": [
    "menteri = mbkm + menteri + setiausaha_politik + timbalan_menteri + popit + df"
   ]
  },
  {
   "cell_type": "code",
   "execution_count": 13,
   "metadata": {},
   "outputs": [],
   "source": [
    "with open('arab-boy.json') as fopen:\n",
    "    arab_boy = json.load(fopen)\n",
    "arab_boy = [i[1] for i in arab_boy]\n",
    "arab_boy = list(set(' '.join(arab_boy).split()))\n",
    "\n",
    "with open('arab-girl.json') as fopen:\n",
    "    arab_girl = json.load(fopen)\n",
    "arab_girl = [i[1] for i in arab_girl]\n",
    "arab_girl = list(set(' '.join(arab_girl).split()))\n",
    "\n",
    "with open('chinese-boy.json') as fopen:\n",
    "    chinese_boy = json.load(fopen)\n",
    "chinese_boy = [i[1] for i in chinese_boy]\n",
    "chinese_boy = list(set(' '.join(chinese_boy).split()))\n",
    "\n",
    "with open('chinese-girl.json') as fopen:\n",
    "    chinese_girl = json.load(fopen)\n",
    "chinese_girl = [i[1] for i in chinese_girl]\n",
    "chinese_girl = list(set(' '.join(chinese_girl).split()))\n",
    "\n",
    "with open('indian-boy.json') as fopen:\n",
    "    indian_boy = json.load(fopen) \n",
    "indian_boy = list(set(indian_boy))\n",
    "\n",
    "with open('indian-girl.json') as fopen:\n",
    "    indian_girl = json.load(fopen) \n",
    "indian_girl = list(set(indian_girl))\n",
    "\n",
    "chinese = list(set(chinese_boy + chinese_girl))\n",
    "arabic = list(set(arab_boy + arab_girl))\n",
    "indian = list(set(indian_boy + indian_girl))"
   ]
  },
  {
   "cell_type": "code",
   "execution_count": 14,
   "metadata": {},
   "outputs": [],
   "source": [
    "# !wget https://raw.githubusercontent.com/rossgoodwin/american-names/master/surnames.json"
   ]
  },
  {
   "cell_type": "code",
   "execution_count": 15,
   "metadata": {},
   "outputs": [],
   "source": [
    "with open('surnames.json') as fopen:\n",
    "    american = json.load(fopen)"
   ]
  },
  {
   "cell_type": "code",
   "execution_count": 16,
   "metadata": {},
   "outputs": [],
   "source": [
    "mapping = {0: arabic, 1: chinese, 2: indian, 3: american}\n",
    "mixed_mapping = {0: [american, chinese], 1: [indian, arabic], 2: [chinese, arabic]}"
   ]
  },
  {
   "cell_type": "code",
   "execution_count": 17,
   "metadata": {},
   "outputs": [],
   "source": [
    "import random\n",
    "\n",
    "def generate_name(length):\n",
    "    r = random.randint(0,4)\n",
    "    if r == 4:\n",
    "        r = mixed_mapping[random.randint(0, 2)]\n",
    "        l, r = random.choice(r[0]), random.choice(r[1])\n",
    "        name = f'{l} {r}'\n",
    "    else:\n",
    "        s = mapping[r]\n",
    "        name = ' '.join(random.sample(s, length))\n",
    "        while length == 1 and len(name) < 5:\n",
    "            name = ' '.join(random.sample(arabic, length))\n",
    "    return name"
   ]
  },
  {
   "cell_type": "code",
   "execution_count": 18,
   "metadata": {},
   "outputs": [
    {
     "data": {
      "text/plain": [
       "24520"
      ]
     },
     "execution_count": 18,
     "metadata": {},
     "output_type": "execute_result"
    }
   ],
   "source": [
    "results = []\n",
    "i = 0\n",
    "while i < len(entities['label']):\n",
    "    r = []\n",
    "    if entities['label'][i] == 'PERSON':\n",
    "        while entities['label'][i] == 'PERSON':\n",
    "            r.append(i)\n",
    "            i += 1\n",
    "        results.append(r)\n",
    "    i += 1\n",
    "    \n",
    "len(results)"
   ]
  },
  {
   "cell_type": "code",
   "execution_count": 19,
   "metadata": {},
   "outputs": [],
   "source": [
    "import math\n",
    "import numpy as np\n",
    "\n",
    "def generate_index(l, name, texts, labels, length):\n",
    "    cp, indices = [], []\n",
    "    b = length - len(l)\n",
    "    left = math.ceil(b / 2)\n",
    "    right = b - left\n",
    "    minus = l[0] - left\n",
    "    if minus < 0:\n",
    "        absolute = np.abs(minus)\n",
    "        right += absolute\n",
    "        left -= absolute\n",
    "\n",
    "    for i in range(l[0] - left, l[0]):\n",
    "        cp.append(texts[i])\n",
    "        indices.append(labels[i])\n",
    "\n",
    "    cp.extend(name)\n",
    "    indices.extend([labels[l[0]] for _ in range(len(name))])\n",
    "    try:\n",
    "        for i in range(l[-1] + 1, l[-1] + right + 1):\n",
    "            cp.append(texts[i])\n",
    "            indices.append(labels[i])\n",
    "    except Exception as e:\n",
    "        print(e)\n",
    "        pass\n",
    "    \n",
    "    return cp, indices"
   ]
  },
  {
   "cell_type": "code",
   "execution_count": 20,
   "metadata": {},
   "outputs": [],
   "source": [
    "train_results, test_results = train_test_split(results, test_size = 0.2)"
   ]
  },
  {
   "cell_type": "code",
   "execution_count": 31,
   "metadata": {},
   "outputs": [
    {
     "data": {
      "text/plain": [
       "28128"
      ]
     },
     "execution_count": 31,
     "metadata": {},
     "output_type": "execute_result"
    }
   ],
   "source": [
    "train_X, train_Y = [], []\n",
    "\n",
    "repeat = 4\n",
    "for t in menteri:\n",
    "    for i in range(repeat):\n",
    "        x, y = generate_index(train_results[random.randint(0, len(train_results) - 1)], \n",
    "                              t.split(), entities['text'], entities['label'], 50)\n",
    "        if len(x) != len(y):\n",
    "            print('len not same')\n",
    "            continue\n",
    "        train_X.append(x)\n",
    "        train_Y.append(y)\n",
    "            \n",
    "len(train_X)"
   ]
  },
  {
   "cell_type": "code",
   "execution_count": 32,
   "metadata": {},
   "outputs": [
    {
     "data": {
      "text/plain": [
       "37883"
      ]
     },
     "execution_count": 32,
     "metadata": {},
     "output_type": "execute_result"
    }
   ],
   "source": [
    "for r in train_results:\n",
    "    if random.random() > 0.5:\n",
    "        for _ in range(1):\n",
    "            n = generate_name(len(r)).split()\n",
    "            x, y = generate_index(r, n, entities['text'], entities['label'], 50)\n",
    "            if len(x) != len(y):\n",
    "                print('len not same')\n",
    "                continue\n",
    "            train_X.append(x)\n",
    "            train_Y.append(y)\n",
    "        \n",
    "len(train_X)"
   ]
  },
  {
   "cell_type": "code",
   "execution_count": 33,
   "metadata": {},
   "outputs": [
    {
     "data": {
      "text/plain": [
       "2530"
      ]
     },
     "execution_count": 33,
     "metadata": {},
     "output_type": "execute_result"
    }
   ],
   "source": [
    "test_X, test_Y = [], []\n",
    "\n",
    "for r in test_results:\n",
    "    if random.random() > 0.5:\n",
    "        for _ in range(1):\n",
    "            n = generate_name(len(r)).split()\n",
    "            x, y = generate_index(r, n, entities['text'], entities['label'], 50)\n",
    "            if len(x) != len(y):\n",
    "                print('len not same')\n",
    "                continue\n",
    "            test_X.append(x)\n",
    "            test_Y.append(y)\n",
    "        \n",
    "len(test_X)"
   ]
  },
  {
   "cell_type": "code",
   "execution_count": 34,
   "metadata": {},
   "outputs": [
    {
     "data": {
      "text/plain": [
       "(37883, 2530)"
      ]
     },
     "execution_count": 34,
     "metadata": {},
     "output_type": "execute_result"
    }
   ],
   "source": [
    "len(train_X), len(test_X)"
   ]
  },
  {
   "cell_type": "code",
   "execution_count": null,
   "metadata": {},
   "outputs": [],
   "source": [
    "with open('augmentation-person-ontonotes5.json', 'w') as fopen:\n",
    "    json.dump({'train_X': train_X, 'train_Y': train_Y,\n",
    "              'test_X': test_X, 'test_Y': test_Y}, fopen)"
   ]
  }
 ],
 "metadata": {
  "kernelspec": {
   "display_name": "Python 3",
   "language": "python",
   "name": "python3"
  },
  "language_info": {
   "codemirror_mode": {
    "name": "ipython",
    "version": 3
   },
   "file_extension": ".py",
   "mimetype": "text/x-python",
   "name": "python",
   "nbconvert_exporter": "python",
   "pygments_lexer": "ipython3",
   "version": "3.6.9"
  }
 },
 "nbformat": 4,
 "nbformat_minor": 2
}
