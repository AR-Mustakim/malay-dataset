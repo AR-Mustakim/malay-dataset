{
 "cells": [
  {
   "cell_type": "code",
   "execution_count": null,
   "metadata": {},
   "outputs": [],
   "source": [
    "# !wget https://f000.backblazeb2.com/file/malay-dataset/tagging/ontonotes5/processed-ontonotes5.json"
   ]
  },
  {
   "cell_type": "code",
   "execution_count": 2,
   "metadata": {},
   "outputs": [],
   "source": [
    "import json\n",
    "from sklearn.model_selection import train_test_split\n",
    "import random"
   ]
  },
  {
   "cell_type": "code",
   "execution_count": 3,
   "metadata": {},
   "outputs": [],
   "source": [
    "with open('processed-ontonotes5.json') as fopen:\n",
    "    data = json.load(fopen)"
   ]
  },
  {
   "cell_type": "code",
   "execution_count": 4,
   "metadata": {},
   "outputs": [],
   "source": [
    "from collections import defaultdict\n",
    "\n",
    "entities = defaultdict(list)\n",
    "for i in data:\n",
    "    entities['text'].append(i[0])\n",
    "    entities['label'].append(i[1])"
   ]
  },
  {
   "cell_type": "code",
   "execution_count": 5,
   "metadata": {},
   "outputs": [],
   "source": [
    "# !wget https://raw.githubusercontent.com/huseinzol05/Malay-Dataset/master/tagging/entities-OntoNotes5/ORG/magiceventstartup.20180920.csv\n",
    "# !wget https://raw.githubusercontent.com/huseinzol05/Malay-Dataset/master/tagging/entities-OntoNotes5/ORG/magiceventstartup.20191216.csv\n",
    "# !wget https://raw.githubusercontent.com/huseinzol05/Malay-Dataset/master/tagging/entities-OntoNotes5/ORG/jabatan.txt\n",
    "# !wget https://raw.githubusercontent.com/huseinzol05/Malay-Dataset/master/tagging/entities-OntoNotes5/ORG/maklumat-syarikat-jualan-langsung.csv\n",
    "# !wget https://raw.githubusercontent.com/huseinzol05/Malay-Dataset/master/tagging/entities-OntoNotes5/ORG/penganjur-acara.csv\n",
    "# !wget https://raw.githubusercontent.com/huseinzol05/Malay-Dataset/master/tagging/entities-OntoNotes5/ORG/persatuan.txt\n",
    "# !wget https://raw.githubusercontent.com/huseinzol05/Malay-Dataset/master/tagging/entities-OntoNotes5/ORG/senarai-anak-syarikat-kplb.csv"
   ]
  },
  {
   "cell_type": "code",
   "execution_count": 6,
   "metadata": {},
   "outputs": [],
   "source": [
    "import pandas as pd\n",
    "\n",
    "df = pd.read_csv('penganjur-acara.csv')['Nama Syarikat'].dropna()\n",
    "local_companies = df.tolist()"
   ]
  },
  {
   "cell_type": "code",
   "execution_count": 7,
   "metadata": {},
   "outputs": [],
   "source": [
    "df = pd.read_csv('senarai-anak-syarikat-kplb.csv')['NAMA SYARIKAT'].dropna()\n",
    "local_companies.extend(df.tolist())"
   ]
  },
  {
   "cell_type": "code",
   "execution_count": 8,
   "metadata": {},
   "outputs": [],
   "source": [
    "df = pd.read_csv('magiceventstartup.20191216.csv')['Startup Name'].dropna()\n",
    "local_companies.extend(df.tolist())"
   ]
  },
  {
   "cell_type": "code",
   "execution_count": 9,
   "metadata": {},
   "outputs": [],
   "source": [
    "df = pd.read_csv('magiceventstartup.20180920.csv')['Startup Name'].dropna()\n",
    "local_companies.extend(df.tolist())"
   ]
  },
  {
   "cell_type": "code",
   "execution_count": 10,
   "metadata": {},
   "outputs": [
    {
     "data": {
      "text/plain": [
       "4633"
      ]
     },
     "execution_count": 10,
     "metadata": {},
     "output_type": "execute_result"
    }
   ],
   "source": [
    "df = pd.read_csv('maklumat-syarikat-jualan-langsung.csv')['NAMA SYARIKAT'].dropna()\n",
    "local_companies.extend(df.tolist())\n",
    "\n",
    "len(local_companies)"
   ]
  },
  {
   "cell_type": "code",
   "execution_count": 11,
   "metadata": {},
   "outputs": [
    {
     "data": {
      "text/plain": [
       "3147"
      ]
     },
     "execution_count": 11,
     "metadata": {},
     "output_type": "execute_result"
    }
   ],
   "source": [
    "import re\n",
    "\n",
    "local_companies = [re.sub(r'[ ]+', ' ', l.replace('.', ' ')).strip().title() for l in local_companies]\n",
    "local_companies = list(set(local_companies))\n",
    "len(local_companies)"
   ]
  },
  {
   "cell_type": "code",
   "execution_count": 12,
   "metadata": {},
   "outputs": [],
   "source": [
    "org = local_companies"
   ]
  },
  {
   "cell_type": "code",
   "execution_count": 13,
   "metadata": {},
   "outputs": [
    {
     "data": {
      "text/plain": [
       "426"
      ]
     },
     "execution_count": 13,
     "metadata": {},
     "output_type": "execute_result"
    }
   ],
   "source": [
    "with open('jabatan.txt') as fopen:\n",
    "    data = fopen.read().split('\\n')\n",
    "    \n",
    "jabatan = [i.strip() for i in data if len(i) > 2]\n",
    "len(jabatan)"
   ]
  },
  {
   "cell_type": "code",
   "execution_count": 14,
   "metadata": {},
   "outputs": [
    {
     "data": {
      "text/plain": [
       "224"
      ]
     },
     "execution_count": 14,
     "metadata": {},
     "output_type": "execute_result"
    }
   ],
   "source": [
    "with open('persatuan.txt') as fopen:\n",
    "    data = fopen.read().split('\\n')\n",
    "    \n",
    "persatuan = [i.strip() for i in data if len(i) > 2]\n",
    "len(persatuan)"
   ]
  },
  {
   "cell_type": "code",
   "execution_count": 17,
   "metadata": {},
   "outputs": [],
   "source": [
    "big_it_companies = \"\"\"\n",
    "Apple\n",
    "Microsoft\n",
    "Google\n",
    "Tencent\n",
    "Facebook\n",
    "IBM\n",
    "SAP\n",
    "Instagram\n",
    "Accenture\n",
    "Intel\n",
    "Adobe\n",
    "Samsung\n",
    "Salesforce\n",
    "LinkedIn\n",
    "Huawei\n",
    "Oracle\n",
    "Cisco\n",
    "Dell\n",
    "Xiaomi\n",
    "Baidu\n",
    "AWS\n",
    "GCP\n",
    "Sony\n",
    "\"\"\"\n",
    "big_it_companies = list(filter(None, big_it_companies.split('\\n')))"
   ]
  },
  {
   "cell_type": "code",
   "execution_count": 18,
   "metadata": {},
   "outputs": [
    {
     "data": {
      "text/plain": [
       "24612"
      ]
     },
     "execution_count": 18,
     "metadata": {},
     "output_type": "execute_result"
    }
   ],
   "source": [
    "results = []\n",
    "i = 0\n",
    "while i < len(entities['label']):\n",
    "    r = []\n",
    "    if entities['label'][i] == 'ORG':\n",
    "        while entities['label'][i] == 'ORG':\n",
    "            r.append(i)\n",
    "            i += 1\n",
    "        results.append(r)\n",
    "    i += 1\n",
    "    \n",
    "len(results)"
   ]
  },
  {
   "cell_type": "code",
   "execution_count": 39,
   "metadata": {},
   "outputs": [],
   "source": [
    "import math\n",
    "import numpy as np\n",
    "\n",
    "def generate_index(l, name, texts, labels, length):\n",
    "    cp, indices = [], []\n",
    "    b = length - len(l)\n",
    "    left = math.ceil(b / 2)\n",
    "    right = b - left\n",
    "    minus = l[0] - left\n",
    "    if minus < 0:\n",
    "        absolute = np.abs(minus)\n",
    "        right += absolute\n",
    "        left -= absolute\n",
    "\n",
    "    for i in range(l[0] - left, l[0]):\n",
    "        cp.append(texts[i])\n",
    "        indices.append(labels[i])\n",
    "\n",
    "    cp.extend(name)\n",
    "    indices.extend([labels[l[0]] for _ in range(len(name))])\n",
    "    try:\n",
    "        for i in range(l[-1] + 1, l[-1] + right + 1):\n",
    "            cp.append(texts[i])\n",
    "            indices.append(labels[i])\n",
    "    except Exception as e:\n",
    "        print(e)\n",
    "        pass\n",
    "    \n",
    "    return cp, indices"
   ]
  },
  {
   "cell_type": "code",
   "execution_count": 20,
   "metadata": {},
   "outputs": [],
   "source": [
    "train_results, test_results = train_test_split(results, test_size = 0.2)\n",
    "train_org, test_org = train_test_split(org, test_size = 0.2)"
   ]
  },
  {
   "cell_type": "code",
   "execution_count": 33,
   "metadata": {
    "scrolled": true
   },
   "outputs": [
    {
     "data": {
      "text/plain": [
       "25170"
      ]
     },
     "execution_count": 33,
     "metadata": {},
     "output_type": "execute_result"
    }
   ],
   "source": [
    "train_X, train_Y = [], []\n",
    "\n",
    "repeat = 10\n",
    "for t in train_org:\n",
    "    for i in range(repeat):\n",
    "        x, y = generate_index(train_results[random.randint(0, len(train_results) - 1)], \n",
    "                              t.split(), entities['text'], entities['label'], 50)\n",
    "        if len(x) != len(y):\n",
    "            print('len not same')\n",
    "            continue\n",
    "        train_X.append(x)\n",
    "        train_Y.append(y)\n",
    "            \n",
    "len(train_X)"
   ]
  },
  {
   "cell_type": "code",
   "execution_count": 34,
   "metadata": {},
   "outputs": [
    {
     "data": {
      "text/plain": [
       "25400"
      ]
     },
     "execution_count": 34,
     "metadata": {},
     "output_type": "execute_result"
    }
   ],
   "source": [
    "for t in big_it_companies:\n",
    "    for i in range(repeat):\n",
    "        x, y = generate_index(train_results[random.randint(0, len(train_results) - 1)], \n",
    "                              t.split(), entities['text'], entities['label'], 50)\n",
    "        if len(x) != len(y):\n",
    "            print('len not same')\n",
    "            continue\n",
    "        train_X.append(x)\n",
    "        train_Y.append(y)\n",
    "        \n",
    "len(train_X)"
   ]
  },
  {
   "cell_type": "code",
   "execution_count": 35,
   "metadata": {},
   "outputs": [
    {
     "data": {
      "text/plain": [
       "31790"
      ]
     },
     "execution_count": 35,
     "metadata": {},
     "output_type": "execute_result"
    }
   ],
   "source": [
    "repeat = 15\n",
    "for t in jabatan:\n",
    "    for i in range(repeat):\n",
    "        x, y = generate_index(train_results[random.randint(0, len(train_results) - 1)], \n",
    "                              t.split(), entities['text'], entities['label'], 50)\n",
    "        if len(x) != len(y):\n",
    "            print('len not same')\n",
    "            continue\n",
    "        train_X.append(x)\n",
    "        train_Y.append(y)\n",
    "            \n",
    "len(train_X)"
   ]
  },
  {
   "cell_type": "code",
   "execution_count": 36,
   "metadata": {},
   "outputs": [
    {
     "data": {
      "text/plain": [
       "35150"
      ]
     },
     "execution_count": 36,
     "metadata": {},
     "output_type": "execute_result"
    }
   ],
   "source": [
    "repeat = 15\n",
    "for t in persatuan:\n",
    "    for i in range(repeat):\n",
    "        x, y = generate_index(train_results[random.randint(0, len(train_results) - 1)], \n",
    "                              t.split(), entities['text'], entities['label'], 50)\n",
    "        if len(x) != len(y):\n",
    "            print('len not same')\n",
    "            continue\n",
    "        train_X.append(x)\n",
    "        train_Y.append(y)\n",
    "            \n",
    "len(train_X)"
   ]
  },
  {
   "cell_type": "code",
   "execution_count": 40,
   "metadata": {},
   "outputs": [
    {
     "data": {
      "text/plain": [
       "6300"
      ]
     },
     "execution_count": 40,
     "metadata": {},
     "output_type": "execute_result"
    }
   ],
   "source": [
    "test_X, test_Y = [], []\n",
    "repeat = 10\n",
    "\n",
    "for t in test_org:\n",
    "    for i in range(repeat):\n",
    "        x, y = generate_index(test_results[random.randint(0, len(test_results) - 1)], \n",
    "                              t.split(), entities['text'], entities['label'], 50)\n",
    "        if len(x) != len(y):\n",
    "            print('len not same')\n",
    "            continue\n",
    "        test_X.append(x)\n",
    "        test_Y.append(y)\n",
    "            \n",
    "len(test_X)"
   ]
  },
  {
   "cell_type": "code",
   "execution_count": 41,
   "metadata": {},
   "outputs": [
    {
     "data": {
      "text/plain": [
       "(35150, 6300)"
      ]
     },
     "execution_count": 41,
     "metadata": {},
     "output_type": "execute_result"
    }
   ],
   "source": [
    "len(train_X), len(test_X)"
   ]
  },
  {
   "cell_type": "code",
   "execution_count": null,
   "metadata": {},
   "outputs": [],
   "source": [
    "with open('augmentation-org-ontonotes5.json', 'w') as fopen:\n",
    "    json.dump({'train_X': train_X, 'train_Y': train_Y,\n",
    "              'test_X': test_X, 'test_Y': test_Y}, fopen)"
   ]
  }
 ],
 "metadata": {
  "kernelspec": {
   "display_name": "Python 3",
   "language": "python",
   "name": "python3"
  },
  "language_info": {
   "codemirror_mode": {
    "name": "ipython",
    "version": 3
   },
   "file_extension": ".py",
   "mimetype": "text/x-python",
   "name": "python",
   "nbconvert_exporter": "python",
   "pygments_lexer": "ipython3",
   "version": "3.6.9"
  }
 },
 "nbformat": 4,
 "nbformat_minor": 2
}
