{
 "cells": [
  {
   "cell_type": "code",
   "execution_count": 1,
   "metadata": {},
   "outputs": [],
   "source": [
    "import requests\n",
    "from bs4 import BeautifulSoup"
   ]
  },
  {
   "cell_type": "code",
   "execution_count": 2,
   "metadata": {},
   "outputs": [],
   "source": [
    "r = requests.get('https://pts.com.my/katalog')"
   ]
  },
  {
   "cell_type": "code",
   "execution_count": 3,
   "metadata": {},
   "outputs": [],
   "source": [
    "all_books = {}"
   ]
  },
  {
   "cell_type": "code",
   "execution_count": 4,
   "metadata": {},
   "outputs": [],
   "source": [
    "bs = BeautifulSoup(r._content)\n",
    "books = [i.parent for i in bs.find_all('div', {'class': 'buy'})]\n",
    "for book in books:\n",
    "    try:\n",
    "        title = book.h3.text\n",
    "        writer = book.p.text\n",
    "        if len(title) > 3 and len(writer) > 3:\n",
    "            all_books[title] = writer\n",
    "    except:\n",
    "        pass"
   ]
  },
  {
   "cell_type": "code",
   "execution_count": 5,
   "metadata": {},
   "outputs": [
    {
     "name": "stdout",
     "output_type": "stream",
     "text": [
      "https://pts.com.my/katalog/P40\n",
      "https://pts.com.my/katalog/P80\n",
      "https://pts.com.my/katalog/P120\n",
      "https://pts.com.my/katalog/P160\n",
      "https://pts.com.my/katalog/P200\n",
      "https://pts.com.my/katalog/P240\n",
      "https://pts.com.my/katalog/P280\n",
      "https://pts.com.my/katalog/P320\n",
      "https://pts.com.my/katalog/P360\n",
      "https://pts.com.my/katalog/P400\n",
      "https://pts.com.my/katalog/P440\n",
      "https://pts.com.my/katalog/P480\n",
      "https://pts.com.my/katalog/P520\n",
      "https://pts.com.my/katalog/P560\n",
      "https://pts.com.my/katalog/P600\n",
      "https://pts.com.my/katalog/P640\n",
      "https://pts.com.my/katalog/P680\n",
      "https://pts.com.my/katalog/P720\n",
      "https://pts.com.my/katalog/P760\n"
     ]
    }
   ],
   "source": [
    "for i in range(1, 20, 1):\n",
    "    url = f'https://pts.com.my/katalog/P{i * 40}'\n",
    "    print(url)\n",
    "    r = requests.get(url)\n",
    "    bs = BeautifulSoup(r._content)\n",
    "    books = [i.parent for i in bs.find_all('div', {'class': 'buy'})]\n",
    "    for book in books:\n",
    "        try:\n",
    "            title = book.h3.text\n",
    "            writer = book.p.text\n",
    "            if len(title) > 3 and len(writer) > 3:\n",
    "                all_books[title] = writer\n",
    "        except:\n",
    "            pass"
   ]
  },
  {
   "cell_type": "code",
   "execution_count": 6,
   "metadata": {},
   "outputs": [
    {
     "data": {
      "text/plain": [
       "686"
      ]
     },
     "execution_count": 6,
     "metadata": {},
     "output_type": "execute_result"
    }
   ],
   "source": [
    "len(all_books)"
   ]
  },
  {
   "cell_type": "code",
   "execution_count": 8,
   "metadata": {},
   "outputs": [],
   "source": [
    "import json\n",
    "\n",
    "with open('pts.com.my-katalog.json', 'w') as fopen:\n",
    "    json.dump(all_books, fopen)"
   ]
  }
 ],
 "metadata": {
  "kernelspec": {
   "display_name": "Python 3",
   "language": "python",
   "name": "python3"
  },
  "language_info": {
   "codemirror_mode": {
    "name": "ipython",
    "version": 3
   },
   "file_extension": ".py",
   "mimetype": "text/x-python",
   "name": "python",
   "nbconvert_exporter": "python",
   "pygments_lexer": "ipython3",
   "version": "3.7.7"
  }
 },
 "nbformat": 4,
 "nbformat_minor": 4
}
