{
 "cells": [
  {
   "cell_type": "code",
   "execution_count": 1,
   "metadata": {},
   "outputs": [],
   "source": [
    "# !wget https://raw.githubusercontent.com/huseinzol05/Malaya-Dataset/master/entities/entities-data-v3.json\n",
    "# !wget https://raw.githubusercontent.com/huseinzol05/Malaya-Dataset/master/entities/entities-augmentation.json"
   ]
  },
  {
   "cell_type": "code",
   "execution_count": 2,
   "metadata": {},
   "outputs": [],
   "source": [
    "import json\n",
    "\n",
    "with open('entities-data-v3.json') as fopen:\n",
    "    ori = json.load(fopen)"
   ]
  },
  {
   "cell_type": "code",
   "execution_count": 3,
   "metadata": {},
   "outputs": [
    {
     "data": {
      "text/plain": [
       "(2923, 58447)"
      ]
     },
     "execution_count": 3,
     "metadata": {},
     "output_type": "execute_result"
    }
   ],
   "source": [
    "len(ori['text'])"
   ]
  },
  {
   "cell_type": "code",
   "execution_count": 4,
   "metadata": {},
   "outputs": [
    {
     "name": "stderr",
     "output_type": "stream",
     "text": [
      "WARNING: Logging before flag parsing goes to stderr.\n",
      "W0730 15:15:41.557207 140072063063872 deprecation_wrapper.py:119] From /usr/local/lib/python3.6/dist-packages/malaya/word2vec.py:257: The name tf.placeholder is deprecated. Please use tf.compat.v1.placeholder instead.\n",
      "\n",
      "W0730 15:15:41.585768 140072063063872 deprecation_wrapper.py:119] From /usr/local/lib/python3.6/dist-packages/malaya/word2vec.py:268: The name tf.InteractiveSession is deprecated. Please use tf.compat.v1.InteractiveSession instead.\n",
      "\n"
     ]
    }
   ],
   "source": [
    "import malaya\n",
    "\n",
    "embedded_wiki = malaya.word2vec.load_wiki()\n",
    "word_vector_wiki = malaya.word2vec.word2vec(embedded_wiki['nce_weights'],\n",
    "                                            embedded_wiki['dictionary'])"
   ]
  },
  {
   "cell_type": "code",
   "execution_count": 11,
   "metadata": {},
   "outputs": [],
   "source": [
    "from unidecode import unidecode\n",
    "import re\n",
    "import inspect\n",
    "import random\n",
    "\n",
    "rejected = ['spacetoontv','estalak','perlawananby','itzpapalotl',\n",
    "           'intrabenua', 'normalina','eshkhal','mariang','ingvaeonik','strahl',\n",
    "           'yeolmae','sheat','deglet','muzheiko','hassanandani']\n",
    "\n",
    "def _check_digit(string):\n",
    "    return any(i.isdigit() for i in string)\n",
    "\n",
    "def simple_textcleaning(string, lowering = True):\n",
    "    \"\"\"\n",
    "    use by topic modelling\n",
    "    only accept A-Z, a-z\n",
    "    \"\"\"\n",
    "    string = unidecode(string)\n",
    "    string = re.sub('[^A-Za-z0-9\\-\\\\/ ]+', ' ', string)\n",
    "    return re.sub(r'[ ]+', ' ', string.lower() if lowering else string).strip()\n",
    "\n",
    "def make_upper(p, o):\n",
    "    p_split = p.split()\n",
    "    o_split = o.split()\n",
    "    return ' '.join([s.title() if o_split[no][0].isupper() else s for no, s in enumerate(p_split)])\n",
    "\n",
    "def w2v_augmentation(\n",
    "    string,\n",
    "    w2v,\n",
    "    threshold = 0.5,\n",
    "    soft = False,\n",
    "    random_select = True,\n",
    "    augment_counts = 1,\n",
    "    top_n = 5,\n",
    "    cleaning_function = simple_textcleaning,\n",
    "):\n",
    "    \"\"\"\n",
    "    augmenting a string using word2vec\n",
    "\n",
    "    Parameters\n",
    "    ----------\n",
    "    string: str\n",
    "    w2v: object\n",
    "        word2vec interface object.\n",
    "    threshold: float, optional (default=0.5)\n",
    "        random selection for a word.\n",
    "    soft: bool, optional (default=False)\n",
    "        if True, a word not in the dictionary will be replaced with nearest fuzzywuzzy ratio.\n",
    "        if False, it will throw an exception if a word not in the dictionary.\n",
    "    random_select: bool, (default=True)\n",
    "        if True, a word randomly selected in the pool.\n",
    "        if False, based on the index\n",
    "    augment_counts: int, (default=1)\n",
    "        augmentation count for a string.\n",
    "    top_n: int, (default=5)\n",
    "        number of nearest neighbors returned.\n",
    "    cleaning_function: function, (default=simple_textcleaning)\n",
    "\n",
    "\n",
    "    Returns\n",
    "    -------\n",
    "    result: list\n",
    "    \"\"\"\n",
    "    if not isinstance(string, str):\n",
    "        raise ValueError('string must be a string')\n",
    "    if not isinstance(threshold, float):\n",
    "        raise ValueError('threshold must be a float')\n",
    "    if not (threshold > 0 and threshold < 1):\n",
    "        raise ValueError('threshold must be bigger than 0 and less than 1')\n",
    "    if not isinstance(soft, bool):\n",
    "        raise ValueError('soft must be a boolean')\n",
    "    if not hasattr(w2v, 'batch_n_closest'):\n",
    "        raise ValueError('word2vec must has `batch_n_closest` method')\n",
    "    if not hasattr(w2v, '_dictionary'):\n",
    "        raise ValueError('word2vec must has `_dictionary` attribute')\n",
    "    if not isinstance(random_select, bool):\n",
    "        raise ValueError('random_select must be a boolean')\n",
    "    if not isinstance(top_n, int):\n",
    "        raise ValueError('top_n must be an integer')\n",
    "    if not isinstance(augment_counts, int):\n",
    "        raise ValueError('augment_counts must be an integer')\n",
    "    if not random_select:\n",
    "        if augment_counts > top_n:\n",
    "            raise ValueError(\n",
    "                'if random_select is False, augment_counts need to be less than or equal to top_n'\n",
    "            )\n",
    "    original_string = string\n",
    "    if cleaning_function:\n",
    "        string = cleaning_function(string)\n",
    "    string = string.split()\n",
    "    selected = []\n",
    "    while not len(selected):\n",
    "        if soft:\n",
    "            selected = [\n",
    "                (no, w)\n",
    "                for no, w in enumerate(string)\n",
    "                if random.random() > threshold and not _check_digit(w)\n",
    "            ]\n",
    "        else:\n",
    "            selected = [\n",
    "                (no, w)\n",
    "                for no, w in enumerate(string)\n",
    "                if random.random() > threshold and not _check_digit(w) and w in w2v._dictionary\n",
    "            ]\n",
    "    indices, words = [i[0] for i in selected], [i[1] for i in selected]\n",
    "    batch_parameters = list(\n",
    "        inspect.signature(w2v.batch_n_closest).parameters.keys()\n",
    "    )\n",
    "    if 'soft' in batch_parameters:\n",
    "        results = w2v.batch_n_closest(words, num_closest = top_n, soft = soft)\n",
    "    else:\n",
    "        results = w2v.batch_n_closest(words, num_closest = top_n)\n",
    "    augmented = []\n",
    "    for i in range(augment_counts):\n",
    "        string_ = string[:]\n",
    "        for no in range(len(results)):\n",
    "            if random_select:\n",
    "                index = random.randint(0, len(results[no]) - 1)\n",
    "            else:\n",
    "                index = i\n",
    "            string_[indices[no]] = results[no][index]\n",
    "        if all([r not in string_] for r in rejected):\n",
    "            augmented.append(make_upper(' '.join(string_), original_string))\n",
    "    return augmented"
   ]
  },
  {
   "cell_type": "code",
   "execution_count": 12,
   "metadata": {},
   "outputs": [
    {
     "name": "stderr",
     "output_type": "stream",
     "text": [
      "100%|██████████| 2923/2923 [1:02:45<00:00,  1.24s/it]\n"
     ]
    }
   ],
   "source": [
    "from tqdm import tqdm\n",
    "\n",
    "batch_size = 20\n",
    "X, Y = [], []\n",
    "\n",
    "for i in tqdm(range(0, len(ori['text']), batch_size)):\n",
    "    index = min(i + batch_size, len(ori['text']))\n",
    "    s = ' '.join(ori['text'][i: index])\n",
    "    aug = w2v_augmentation(s, \n",
    "                           word_vector_wiki,\n",
    "                           soft=False,\n",
    "                           augment_counts=3, random_select = False)\n",
    "    X.append(aug)\n",
    "    Y.append(ori['label'][i: index])"
   ]
  },
  {
   "cell_type": "code",
   "execution_count": 21,
   "metadata": {},
   "outputs": [
    {
     "data": {
      "text/plain": [
       "20"
      ]
     },
     "execution_count": 21,
     "metadata": {},
     "output_type": "execute_result"
    }
   ],
   "source": [
    "len(X[-5][0].split())"
   ]
  },
  {
   "cell_type": "code",
   "execution_count": 23,
   "metadata": {},
   "outputs": [
    {
     "data": {
      "text/plain": [
       "20"
      ]
     },
     "execution_count": 23,
     "metadata": {},
     "output_type": "execute_result"
    }
   ],
   "source": [
    "len(Y[-5])"
   ]
  },
  {
   "cell_type": "code",
   "execution_count": null,
   "metadata": {},
   "outputs": [],
   "source": []
  }
 ],
 "metadata": {
  "kernelspec": {
   "display_name": "Python 3",
   "language": "python",
   "name": "python3"
  },
  "language_info": {
   "codemirror_mode": {
    "name": "ipython",
    "version": 3
   },
   "file_extension": ".py",
   "mimetype": "text/x-python",
   "name": "python",
   "nbconvert_exporter": "python",
   "pygments_lexer": "ipython3",
   "version": "3.6.8"
  }
 },
 "nbformat": 4,
 "nbformat_minor": 2
}
