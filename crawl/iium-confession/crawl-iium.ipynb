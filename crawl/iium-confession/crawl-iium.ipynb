{
 "cells": [
  {
   "cell_type": "code",
   "execution_count": 1,
   "metadata": {},
   "outputs": [],
   "source": [
    "import pandas as pd"
   ]
  },
  {
   "cell_type": "code",
   "execution_count": 2,
   "metadata": {},
   "outputs": [
    {
     "data": {
      "text/plain": [
       "(20512, 1)"
      ]
     },
     "execution_count": 2,
     "metadata": {},
     "output_type": "execute_result"
    }
   ],
   "source": [
    "iium = pd.read_csv('iium.csv')\n",
    "iium.shape"
   ]
  },
  {
   "cell_type": "code",
   "execution_count": 3,
   "metadata": {},
   "outputs": [],
   "source": [
    "from bs4 import BeautifulSoup"
   ]
  },
  {
   "cell_type": "code",
   "execution_count": 4,
   "metadata": {},
   "outputs": [
    {
     "name": "stderr",
     "output_type": "stream",
     "text": [
      "100%|██████████| 20512/20512 [00:20<00:00, 993.82it/s] \n"
     ]
    }
   ],
   "source": [
    "from tqdm import tqdm\n",
    "\n",
    "links = []\n",
    "for i in tqdm(range(len(iium))):\n",
    "    soup = BeautifulSoup(iium.iloc[i].values[0])\n",
    "    links.append(soup.a['href'])"
   ]
  },
  {
   "cell_type": "code",
   "execution_count": 5,
   "metadata": {},
   "outputs": [],
   "source": [
    "# !pip3 install newspaper3k"
   ]
  },
  {
   "cell_type": "code",
   "execution_count": 6,
   "metadata": {},
   "outputs": [],
   "source": [
    "from newspaper import Article"
   ]
  },
  {
   "cell_type": "code",
   "execution_count": 10,
   "metadata": {},
   "outputs": [],
   "source": [
    "def get_text(url):\n",
    "    try:\n",
    "        article = Article(url, language='id')\n",
    "        article.config.request_timeout = 120\n",
    "        article.download()\n",
    "        article.parse()\n",
    "        article.title\n",
    "        return {'title': article.title, 'text': article.text}\n",
    "    except Exception as e:\n",
    "        return {'error': str(e), 'url': url}\n",
    "\n",
    "def loop(strings):\n",
    "    results = []\n",
    "    for i in tqdm(range(len(strings))):\n",
    "        results.append(get_text(strings[i]))\n",
    "    return results"
   ]
  },
  {
   "cell_type": "code",
   "execution_count": 11,
   "metadata": {},
   "outputs": [],
   "source": [
    "import multiprocess"
   ]
  },
  {
   "cell_type": "code",
   "execution_count": 12,
   "metadata": {},
   "outputs": [
    {
     "name": "stderr",
     "output_type": "stream",
     "text": [
      "100%|██████████| 788/788 [6:14:31<00:00, 28.52s/it]   \n",
      "100%|██████████| 788/788 [6:16:50<00:00, 28.69s/it]\n",
      "100%|██████████| 788/788 [6:19:23<00:00, 28.89s/it]\n",
      "100%|██████████| 788/788 [6:20:16<00:00, 28.96s/it]\n",
      "100%|██████████| 788/788 [6:21:54<00:00, 29.08s/it]\n",
      "100%|██████████| 24/24 [08:28<00:00, 21.17s/it]/it]\n",
      "100%|██████████| 788/788 [6:23:25<00:00, 29.19s/it]\n",
      "100%|██████████| 788/788 [6:23:49<00:00, 29.23s/it]\n",
      "100%|██████████| 788/788 [6:24:17<00:00, 29.26s/it]\n",
      "100%|██████████| 788/788 [6:24:24<00:00, 29.27s/it]\n",
      "100%|██████████| 788/788 [6:24:45<00:00, 29.30s/it]\n",
      "100%|██████████| 788/788 [6:25:00<00:00, 29.31s/it]\n",
      "100%|██████████| 788/788 [6:25:13<00:00, 29.33s/it]\n",
      "100%|██████████| 788/788 [6:25:19<00:00, 29.34s/it]\n",
      "100%|██████████| 788/788 [6:25:22<00:00, 29.34s/it]\n",
      "100%|██████████| 788/788 [6:25:35<00:00, 29.36s/it]\n",
      "100%|██████████| 788/788 [6:25:50<00:00, 29.38s/it]\n",
      "100%|██████████| 788/788 [6:25:51<00:00, 29.38s/it]\n",
      "100%|██████████| 788/788 [6:25:55<00:00, 29.38s/it]\n",
      "100%|██████████| 788/788 [6:25:57<00:00, 29.39s/it]\n",
      "100%|██████████| 788/788 [6:26:04<00:00, 29.40s/it]\n",
      "100%|██████████| 788/788 [6:26:05<00:00, 29.40s/it]\n",
      "100%|██████████| 788/788 [6:26:06<00:00, 29.40s/it]\n",
      "100%|██████████| 788/788 [6:26:29<00:00, 29.43s/it]\n",
      "100%|██████████| 788/788 [6:26:29<00:00, 29.43s/it]\n",
      "100%|██████████| 788/788 [6:26:34<00:00, 29.44s/it]\n",
      "100%|██████████| 788/788 [6:26:40<00:00, 29.44s/it]\n"
     ]
    },
    {
     "name": "stdout",
     "output_type": "stream",
     "text": [
      "CPU times: user 1min 6s, sys: 1min 3s, total: 2min 10s\n",
      "Wall time: 6h 26min 40s\n"
     ]
    }
   ],
   "source": [
    "%%time\n",
    "\n",
    "results = multiprocess.multiprocessing(links, loop, cores = 26)"
   ]
  },
  {
   "cell_type": "code",
   "execution_count": 13,
   "metadata": {},
   "outputs": [],
   "source": [
    "import json\n",
    "\n",
    "with open('iium.json', 'w') as fopen:\n",
    "    json.dump(results, fopen)"
   ]
  },
  {
   "cell_type": "code",
   "execution_count": 15,
   "metadata": {},
   "outputs": [
    {
     "data": {
      "text/plain": [
       "0.1294851794071763"
      ]
     },
     "execution_count": 15,
     "metadata": {},
     "output_type": "execute_result"
    }
   ],
   "source": [
    "len([i for i in results if 'error' in i]) / len(results)"
   ]
  }
 ],
 "metadata": {
  "kernelspec": {
   "display_name": "Python 3",
   "language": "python",
   "name": "python3"
  },
  "language_info": {
   "codemirror_mode": {
    "name": "ipython",
    "version": 3
   },
   "file_extension": ".py",
   "mimetype": "text/x-python",
   "name": "python",
   "nbconvert_exporter": "python",
   "pygments_lexer": "ipython3",
   "version": "3.6.8"
  }
 },
 "nbformat": 4,
 "nbformat_minor": 2
}
