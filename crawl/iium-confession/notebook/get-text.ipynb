{
 "cells": [
  {
   "cell_type": "code",
   "execution_count": 1,
   "metadata": {},
   "outputs": [],
   "source": [
    "import pandas as pd"
   ]
  },
  {
   "cell_type": "code",
   "execution_count": 2,
   "metadata": {},
   "outputs": [
    {
     "data": {
      "text/html": [
       "<div>\n",
       "<style scoped>\n",
       "    .dataframe tbody tr th:only-of-type {\n",
       "        vertical-align: middle;\n",
       "    }\n",
       "\n",
       "    .dataframe tbody tr th {\n",
       "        vertical-align: top;\n",
       "    }\n",
       "\n",
       "    .dataframe thead th {\n",
       "        text-align: right;\n",
       "    }\n",
       "</style>\n",
       "<table border=\"1\" class=\"dataframe\">\n",
       "  <thead>\n",
       "    <tr style=\"text-align: right;\">\n",
       "      <th></th>\n",
       "      <th>title</th>\n",
       "    </tr>\n",
       "  </thead>\n",
       "  <tbody>\n",
       "    <tr>\n",
       "      <th>0</th>\n",
       "      <td>&lt;article id=\"post-159133\" class=\"entry-card po...</td>\n",
       "    </tr>\n",
       "    <tr>\n",
       "      <th>1</th>\n",
       "      <td>&lt;article id=\"post-159127\" class=\"entry-card po...</td>\n",
       "    </tr>\n",
       "    <tr>\n",
       "      <th>2</th>\n",
       "      <td>&lt;article id=\"post-159123\" class=\"entry-card po...</td>\n",
       "    </tr>\n",
       "    <tr>\n",
       "      <th>3</th>\n",
       "      <td>&lt;article id=\"post-159120\" class=\"entry-card po...</td>\n",
       "    </tr>\n",
       "    <tr>\n",
       "      <th>4</th>\n",
       "      <td>&lt;article id=\"post-159116\" class=\"entry-card po...</td>\n",
       "    </tr>\n",
       "  </tbody>\n",
       "</table>\n",
       "</div>"
      ],
      "text/plain": [
       "                                               title\n",
       "0  <article id=\"post-159133\" class=\"entry-card po...\n",
       "1  <article id=\"post-159127\" class=\"entry-card po...\n",
       "2  <article id=\"post-159123\" class=\"entry-card po...\n",
       "3  <article id=\"post-159120\" class=\"entry-card po...\n",
       "4  <article id=\"post-159116\" class=\"entry-card po..."
      ]
     },
     "execution_count": 2,
     "metadata": {},
     "output_type": "execute_result"
    }
   ],
   "source": [
    "df = pd.read_csv('iium.csv')\n",
    "df.head()"
   ]
  },
  {
   "cell_type": "code",
   "execution_count": 3,
   "metadata": {},
   "outputs": [
    {
     "data": {
      "text/plain": [
       "(20512, 1)"
      ]
     },
     "execution_count": 3,
     "metadata": {},
     "output_type": "execute_result"
    }
   ],
   "source": [
    "df.shape"
   ]
  },
  {
   "cell_type": "code",
   "execution_count": 4,
   "metadata": {},
   "outputs": [
    {
     "data": {
      "text/plain": [
       "'<article id=\"post-159133\" class=\"entry-card post-159133 post type-post status-publish format-standard has-post-thumbnail hentry category-confession\">\\n<a class=\"ct-image-container boundless-image ct-lazy\" href=\"https://iiumc.com/nikmat-disebalik-ujian/\"><img width=\"1200\" height=\"800\" class=\"attachment-medium_large size-medium_large\" alt=\"Nikmat Disebalik Ujian\" sizes=\"(max-width: 1200px) 100vw, 1200px\" data-lazy=\"https://iiumc.com/wp-content/uploads/2020/02/nikmat-disebalik-ujian.jpg\" data-lazy-set=\"https://iiumc.com/wp-content/uploads/2020/02/nikmat-disebalik-ujian.jpg 1200w, https://iiumc.com/wp-content/uploads/2020/02/nikmat-disebalik-ujian-300x200.jpg 300w, https://iiumc.com/wp-content/uploads/2020/02/nikmat-disebalik-ujian-1024x683.jpg 1024w\" data-object-fit=\"~\" itemprop=\"image\"><noscript><img width=\"1200\" height=\"800\" src=\"https://iiumc.com/wp-content/uploads/2020/02/nikmat-disebalik-ujian.jpg\" class=\"attachment-medium_large size-medium_large\" alt=\"Nikmat Disebalik Ujian\" srcset=\"https://iiumc.com/wp-content/uploads/2020/02/nikmat-disebalik-ujian.jpg 1200w, https://iiumc.com/wp-content/uploads/2020/02/nikmat-disebalik-ujian-300x200.jpg 300w, https://iiumc.com/wp-content/uploads/2020/02/nikmat-disebalik-ujian-1024x683.jpg 1024w\" sizes=\"(max-width: 1200px) 100vw, 1200px\"></noscript><div class=\"ct-ratio\" style=\"padding-bottom: 75%\"></div></a>\\n<h1 class=\"entry-title\">\\n<a href=\"https://iiumc.com/nikmat-disebalik-ujian/\">\\nNikmat Disebalik Ujian </a>\\n</h1>\\n<ul class=\"entry-meta\" data-type=\"simple\">\\n<li class=\"ct-meta-author\" itemprop=\"name\">\\n<span class=\"ct-meta-element\" itemprop=\"author\">\\n<a href=\"https://iiumc.com/author/anonymous/\" title=\"Posts by Anonymous\" rel=\"author\">Anonymous</a> </span>\\n</li>\\n<li class=\"ct-meta-date\" itemprop=\"datePublished\">\\n <span class=\"ct-meta-element\" data-default-format=\"d/m/Y\" data-date=\"2020-02-12T19:42:46+08:00\">\\n12 Feb 2020 </span>\\n</li>\\n</ul>\\n<div class=\"entry-excerpt\">\\nSemua orang marah aku termasuk keluarga aku, dan suami. Dorang marah sebab dorang sayangkan aku. Masih aku ingat macam mana menggelabahnya\\t</div>\\n</article>'"
      ]
     },
     "execution_count": 4,
     "metadata": {},
     "output_type": "execute_result"
    }
   ],
   "source": [
    "df.iloc[0].values[0]"
   ]
  },
  {
   "cell_type": "code",
   "execution_count": 5,
   "metadata": {},
   "outputs": [],
   "source": [
    "from bs4 import BeautifulSoup"
   ]
  },
  {
   "cell_type": "code",
   "execution_count": 6,
   "metadata": {},
   "outputs": [],
   "source": [
    "soup = BeautifulSoup(df.iloc[0].values[0])"
   ]
  },
  {
   "cell_type": "code",
   "execution_count": 7,
   "metadata": {},
   "outputs": [
    {
     "data": {
      "text/plain": [
       "'https://iiumc.com/nikmat-disebalik-ujian/'"
      ]
     },
     "execution_count": 7,
     "metadata": {},
     "output_type": "execute_result"
    }
   ],
   "source": [
    "soup.a['href']"
   ]
  },
  {
   "cell_type": "code",
   "execution_count": 8,
   "metadata": {},
   "outputs": [],
   "source": [
    "from newspaper import Article"
   ]
  },
  {
   "cell_type": "code",
   "execution_count": 15,
   "metadata": {},
   "outputs": [],
   "source": [
    "article = Article(soup.a['href'], language='id')\n",
    "article.download()"
   ]
  },
  {
   "cell_type": "code",
   "execution_count": 16,
   "metadata": {},
   "outputs": [],
   "source": [
    "article.parse()"
   ]
  },
  {
   "cell_type": "code",
   "execution_count": 17,
   "metadata": {},
   "outputs": [
    {
     "data": {
      "text/plain": [
       "'Nikmat Disebalik Ujian'"
      ]
     },
     "execution_count": 17,
     "metadata": {},
     "output_type": "execute_result"
    }
   ],
   "source": [
    "article.title"
   ]
  },
  {
   "cell_type": "code",
   "execution_count": 18,
   "metadata": {},
   "outputs": [
    {
     "data": {
      "text/plain": [
       "'Assalammualaikum..\\n\\nAku, wanita yang telah 5 tahun berkahwin dan masih belum mempunyai zuriat. Siapa kahwin tak nak anak kan?? Begitu jugak aku dan suami. Aku kesian kat suami aku yang sangat ingin zuriat. Tapi dia tak pernah bersuara hal zuriat sebab tak nak aku tertekan.\\n\\nAku tahu semuanya berpunca daripada aku. Aku tak mampu memberikan zuriat pada suami sebab penyakit yang aku deritai iaitu SLE. Terasa tidak sempurna diri ini, bukan saja mempunyai penyakit yang tiada ubat penyembuh,terpaksa bergantung pada ubat dan lebih menyedihkan aku masih tak mampu memberikan zuriat pada suami aku.\\n\\nSLE adalah penyakit kronik “autoimmune” di mana antibodi seseorang bertindakbalas dengan tisu badan seseorang pesakit itu sendiri. Ini menjejaskan beberapa bahagian sistem tubuh seperti kulit, sendi, buah pinggang, paru-paru, sistem saraf, atau organ-organ lain di dalam badan.\\n\\nUntuk kes aku, autoimmune aku serang darah, hati dan kulit aku. Darah aku sentiasa berkurang, dan penah hb aku lebih rendah dari 5. Tahun pertama kena penyakit ni, setiap 2 minggu atau sebulan aku mesti masuk warded dan setiap kali warded mesti kena masuk 2 pain darah.\\n\\nAku kena penyakit ni ketika aku baru berusia 23tahun, baru mula berkerja selepas menamatkan pengajian. Waktu tu aku belum berkahwin. Aku kerap keluar masuk hospital dan sebab tu jugak aku dibuang kerja. Aku pun paham la, company mane boleh tahan kalau staff asyik mc je. MC plak bukan sekejap.\\n\\nKereta aku tertunggak lebih 3 bulan dan hampir kena tarik. Badan aku pun mengembang sebab ubat-ubatan yang aku terpaksa aku makan esp steroid. Badan aku naik dari 45kg to 65kg. Time tu aku stress giler, aku baru nak mula hidup, aku dah di uji dengan ujian yang berat camni. Aku mula mempersoalkan apa salah aku sampai kena uji camni. Kenapa aku yang diberi penyakit ni, kena tak orang lain. Mula2 sakit dulu, aku pikir Sakit ni satu musibah untuk aku. Dunia ni dah berakhir dan aku pikir nak mati je.\\n\\nAku pernah ditahan di zone merah di bahagian kecemasan. Dipasangkan oksigen, X-tray & ECG semua dibuat diatas katil, aku dah macam orang yang tak bernyawa pasrah atas semua tindakan nurse dan doktor. Melihat nurse membuka pakaian aku utk jalani semua prosedur yg dijalankan sebab aku tak mampu menggerakkan tubuh badan aku sendiri. Betapa lemahnya aku ketika tu.\\n\\nAlhamdulillah, nyawa aku masih panjang keadaan aku kembali stabil dan dipindahkan ke wad. Lepas beberapa hari aku dalam wad, anggota badan aku mula naik ruam. Seluruh badan aku merah dengan bebiji air memenuhi tubuh aku.Aku jadi rendah diri, malu nak jumpe dengan orang. Aku tak bagi kawan2 dan saudara mara melawat aku.\\n\\nTapi Bf (suami aku sekarang) tetap datang melawat aku. Aku menangis, aku tunjukkan pada dia keadaan diri aku. Aku selak baju aku hingga menampakkan paha, lengan dan juga belakang aku. Semua dipenuhi ruam. Time tu aku dah tak pikir lagi pasal aurat. Lantak, biar die tengok sendir keadaan aku. Aku dah tak lagi cam dulu.. Kulit aku menggerutu dah macam katak puru.\\n\\nAku cakap kat dia, “saya berpenyakit. Doktor cakap penyakit ni tak ade ubat penyembut. Ubat yang diberikan hanya untuk mengurangkan tindakan balas autoimmune dan saya perlu bergantung pada ubat-ubatan selamanya. Awak dah tengok sendiri keadaan saya, andai awak nak tinggalkan saya, saya redha dan saya terima.” Apa jawapan yang aku dapat dari dia. “Gila! saya akan tetap sayang dan saya takkan tinggalkan awak” Allahu Akbar terkedu aku, terharu. Aku pikirkan dia akan tinggalkan aku. Tak ade manusia yang sanggup terima orang yang sakit.\\n\\nLepas beberapa ketika, aku kena transfer ke hospital untuk dapatkan rawatan daripada pakar SLE. Alhamdulillah lepas refer to pakar, aku tak perlu lagi warded dan tak payah masuk darah la. Tapi aku masih kena follow up setiap bulan. Nampak menyusahkan kena jumpa doktor setiap bulan tapi aku bersyukur sebab aku semakin sihat dan paling penting aku tak payah tido kat ward lagi.\\n\\nBila keadaan semakin ok, aku mula bekerja balik, Alhamdulillah ade company yang sudi terima pesakit macam aku. Lepas dah bekerja, Bf aku ajak kahwin. Kahwin?? Biar betul? boleh ke aku?? aku tak percaya dengan kemampuan diri aku. Ye sekarang aku nampak sihat tapi bila2 masa aku boleh sakit balik. Aku bagitaw doktor dan doktor mintak jumpa bf aku.\\n\\nBF aku pergi jumpa doktor. Doktor explaint semua keadaan aku, risiko yang mungkin akan terjadi dan ciri2 kalau autoimmune mula menyerang. Yang paling doktor tekankan adalah zuriat. Jangan melakkan harapan yang tinggi untuk mempunyai zuriat. Pesakit SLE mempunyai risiko lebih tinggi utk mengalami keguguran dan kehamilan boleh membahayakan diri pesakit. Pesakit hanya dibenarkan hamil setelah kedaan pesakit benar2 stabil. Alhamdulillah BF boleh terima semua tu.\\n\\nAkhirnya kami berkahwin,dari awal perkahwinan aku kena amek perancang kehamilan iaitu cucuk depo setiap 3 bulan. family member suami tahun keadaan aku. Sekarang dah 5 tahun perkahwinan, pernah 2 kali warded tapi Alhamdulillah suami menjaga aku dengan baik. Kami Masih seperti dulu masih belum mempunyai zuriat. Masih berdua dan sentiasa dalam fasa honeymoon. Sehingga ke hari ni, sakit aku tak penah stabil, sentiasa turun dan naik dan masih tak dibenarkan hamil.\\n\\nAku pernah ingkar arahan doktor, Tahun ke4 perkahwinan aku stop ambik pencegah kehamilan dan aku tak bagitaw suami aku dan aku berjaya hamil. Mula2 dapat tahu aku hamil, kami terkejut, gembira, takut semua ada tapi bila doktor bgtaw risiko yang bakal terjadi pada baby, suami mula risau. Baby berisiko untuk mengalami sumbang disebabkan ibu makan steroid. Banyak darah yang doktor amek untuk check untuk pastikan dan berharap antibodi negatif (Anti-Ro dan Anti-La) yang boleh menggangu jantung bayi yang boleh menghentikan jantung baby.\\n\\nTapi berita gembira kehamilan tu hanya bertahan seminggu dan aku mengalami keguguran. Antara sebab berlakunya keguguran adalah disebabkan darah aku membeku dan tak sampai ke janin (disebabkan penyakit aku). Teruk aku kena marah dengan doktor. Bukan doktor sengaja tak bagi tapi dalam keadaan hamil, lebih mudah autoimmune menyerang buah pinggan aku. Sebab tu doktor kena mengawal dan memastikan semuanya selamat sebelum membenarkan pesakit hamil. Sedih, memang la aku sedih tapi aku tak pernah menyesal, sekurang2nya kami pernah diberi peluang untuk merasai kehamilan walaupun sekejap.\\n\\nSemua orang marah aku termasuk keluarga aku, dan suami. Dorang marah sebab dorang sayangkan aku. Masih aku ingat macam mana menggelabahnya semua aku bila menangis sebab sakit perut dan darah berketul-ketul keluar. Terus kami ke hopital dan doktor check aku dah total miscarriage. Sedih, menangis suami. “Saya boleh terima kehilangan baby tapi saya takut kehilangan awak.” Ya Allah Nikmat apa lagi yang aku dustai. Seorang suami sanggup ketepikan keinginan dia untuk memiliki zuriat kerana sayangnya pada isteri. Lepas keguguran, Suami aku upah orang utk urut, tungku dan sauna cam orang berpantang cumanye takde baby.\\n\\nAlhamdulillah suami aku angat membantu aku. Setiap Pagi aku bangun sediakan breakfast je, yang lain semua suami aku buat. Mungkin disebabkan aku sakit, aku dapat kelebihan tu. Suami aku terima aku seadanya. Badan aku penuh dengan parut, selulit disebabkan steroid. Aku tengok diri sendiri pun aku jijik. Muka aku jadi gelap dan moonface. Tapi suami aku x penah pertikaikan semua tu.\\n\\nDisebabkan ujian sakit ni, MIL aku tak pernah bertanyakan aku soal zuriat, tak pernah bagi aku tekanan dan sangat2 membantu aku. Masa aku keguguran, MIL boleh cakap. “Jangan dipikirkan pasal anak. Tak salah kalau kita tak ada anak, jaga kesihatan diri. Jangan korbankan diri sendiri untuk memenuhi kehendak/puaskan hati orang. Mulut orang takkan berhenti bercakap, abaikan. InsyaAllah anak mak redha dan dia terima kamu seadanya dan mak pun tak kisah. Yang penting kamu sihat dan bahagia.”\\n\\nAllah tu Maha Pengasih, bila Aku redha dan terima dengan ujian Dia, Dia bukakan pintu2 rahmah untuk aku. Allah kurniakan aku seorang suami yang sangat2 memahami dan yang paling penting terima aku seadanya dalam sakit dan sihat.\\n\\nAllah kurniakan keluarga dan mertua yang penyayang. Terima aku dan tak pernah persoalkan hal zuriat. Mereka sangat menjaga. Mertua aku sanggup carikan ubat2 tradisional utk merawat sakit aku especially yang melibatkan kulit aku. Kulit aku berbekas dan penuh dengan parut. Macam2 daun/herba dia cari dan sapukan kat badan aku.\\n\\nOrang2 disekeliling aku, jiran2 dan sedara mara ada bertanyakan aku soal zuriat tapi mereka bertanya dan mereka sendiri yang menjawab “Mungkin ko tak dapat lg anak sebab ko sakit”. Alhamdulillah disebabkan Penyakit itu jugak aku tak terus disoal dan ditekan.\\n\\nAku diberikan rezeki, peluang pekerjaan. Alhamdullillah.. Apa lagi yang aku mahukan. Allah bagi aku ujian hanya sedikit tapi rahmah dan nikmat lebih besar Dia berikan pada aku. Aku sentiasa berdoa, “Ya Allah sesungguhnya terima dan redha dengan ujian-Mu. Kau berikanlah aku kekuatan dan kesabaran dalam menghadapi ujian ini. Kau adalah sebaik-baik perancang dan perancangan Kau adalah yang terbaik buat kami hamba yang naif lagi tidak mengetahui ini. Aku bersyukur ke atas segala nikmat yang Kau berikan kepada Aku.”\\n\\n– Lupus Warrior (Bukan nama sebenar)\\n\\nHantar confession anda di sini -> https://iiumc.com/submit'"
      ]
     },
     "execution_count": 18,
     "metadata": {},
     "output_type": "execute_result"
    }
   ],
   "source": [
    "article.text"
   ]
  },
  {
   "cell_type": "code",
   "execution_count": null,
   "metadata": {},
   "outputs": [],
   "source": []
  }
 ],
 "metadata": {
  "kernelspec": {
   "display_name": "Python 3",
   "language": "python",
   "name": "python3"
  },
  "language_info": {
   "codemirror_mode": {
    "name": "ipython",
    "version": 3
   },
   "file_extension": ".py",
   "mimetype": "text/x-python",
   "name": "python",
   "nbconvert_exporter": "python",
   "pygments_lexer": "ipython3",
   "version": "3.7.5"
  }
 },
 "nbformat": 4,
 "nbformat_minor": 2
}
