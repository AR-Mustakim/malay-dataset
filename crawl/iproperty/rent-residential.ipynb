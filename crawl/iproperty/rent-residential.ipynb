{
 "cells": [
  {
   "cell_type": "code",
   "execution_count": 1,
   "metadata": {},
   "outputs": [],
   "source": [
    "import requests\n",
    "from bs4 import BeautifulSoup\n",
    "import re\n",
    "import json\n",
    "import time"
   ]
  },
  {
   "cell_type": "code",
   "execution_count": 2,
   "metadata": {},
   "outputs": [
    {
     "data": {
      "text/plain": [
       "['selangor',\n",
       " 'johor',\n",
       " 'kuala-lumpur',\n",
       " 'negeri-sembilan',\n",
       " 'penang',\n",
       " 'pahang',\n",
       " 'kelantan',\n",
       " 'kedah',\n",
       " 'perak',\n",
       " 'labuan',\n",
       " 'melaka',\n",
       " 'terengganu',\n",
       " 'perlis',\n",
       " 'putrajaya',\n",
       " 'sabah',\n",
       " 'sarawak']"
      ]
     },
     "execution_count": 2,
     "metadata": {},
     "output_type": "execute_result"
    }
   ],
   "source": [
    "with open('negeri.json') as fopen:\n",
    "    negeris = json.load(fopen)\n",
    "\n",
    "max_page = 100\n",
    "processed = ['']\n",
    "negeris = [r['slugId'] for r in negeris['data']['places']['popular']['items'] if r['slugId'] not in processed]\n",
    "negeris"
   ]
  },
  {
   "cell_type": "code",
   "execution_count": 3,
   "metadata": {},
   "outputs": [],
   "source": [
    "headers = \"\"\"\n",
    "accept: text/html,application/xhtml+xml,application/xml;q=0.9,image/webp,image/apng,*/*;q=0.8,application/signed-exchange;v=b3;q=0.9\n",
    "accept-encoding: gzip, deflate, br\n",
    "accept-language: en-MY,en;q=0.9,en-US;q=0.8,ms;q=0.7\n",
    "cache-control: max-age=0\n",
    "cookie: KP_UID=35430865-8c0a-d297-d836-4abd6c36ca88; feature-RWD-6082=false; _gcl_au=1.1.1750258107.1591344254; _ga=GA1.3.1576862493.1591344255; _gid=GA1.3.820041376.1591344255; gdpr_notification=yes; scarab.visitor=%226DBDAEC813BAD72D%22; ASP.NET_SessionId=o2dtvxcqrim4y0fxg4byty0j; anonymoususerid=47733004-62ab-4c77-bf4d-804f23e527d9; scarab.mayAdd=%5B%7B%22i%22%3A%228775647%22%7D%5D; scarab.profile=%228775647%7C1591344450%22; KP_UIDz=3u1wq3j%2BxrKi5q0goXvjoA%3D%3D%3A%3AZJJj906tLlDktNPhXOkOKF2RVcWoavII5OaFeNm%2Fd4J0%2FURLl2EdOM6xzlOazuNcm8LbGdyXVxBw5xsVq3%2BWVeX6mriRnDkTaIoAS%2BLYefSpqE%2BSWVx4qCmmRyOLQbmvb9u0O134eI%2BoRo5IFSpZSAPJ1GA3tmnQJKYn3%2BGQvtCdxDAiwQL9FJcrHX5wZ6riv8icKx3HOcdJXCAtsni9whlOQ9BlIFl6uYO%2BJ3yS6I74lbbWgGpEWaVlKPaXXBQ7MCPEdGCi6zAiwW4Aa4Ud6sk0U1VYC4qtGwxHny5prjsPgmgnzH8bIbM97w%2FXA1zFtVxOLN0XuNmhZQDV7xKhLbFwasTW5Z4Xht6UZRwxMkX5z7x5A3EfT2SnWrEhOVUKQkb7dlpCMig3HmtZ1%2BBLmz4wJMolVSdWIog23R1g6DOtVRKsi0eM%2BJJo%2FADZuB4uKIuXX4NhtSQvYpfmkBqaGl29kNiwkNoPVX6sCpwP4D3DgfwrUFY0Yas%2FQydtg5bUOWccWuYnHh2v4T9EpoZlK6Bbv%2BC3IotlB9ztlL%2F091D%2F5%2FPh5soWv0ojRXmUi0vb\n",
    "sec-fetch-dest: document\n",
    "sec-fetch-mode: navigate\n",
    "sec-fetch-site: same-origin\n",
    "sec-fetch-user: ?1\n",
    "upgrade-insecure-requests: 1\n",
    "user-agent: Mozilla/5.0 (Macintosh; Intel Mac OS X 10_15_2) AppleWebKit/537.36 (KHTML, like Gecko) Chrome/81.0.4044.138 Safari/537.36\n",
    "\"\"\""
   ]
  },
  {
   "cell_type": "code",
   "execution_count": 4,
   "metadata": {
    "scrolled": true
   },
   "outputs": [
    {
     "data": {
      "text/plain": [
       "{'accept': 'text/html,application/xhtml+xml,application/xml;q=0.9,image/webp,image/apng,*/*;q=0.8,application/signed-exchange;v=b3;q=0.9',\n",
       " 'accept-encoding': 'gzip, deflate, br',\n",
       " 'accept-language': 'en-MY,en;q=0.9,en-US;q=0.8,ms;q=0.7',\n",
       " 'cache-control': 'max-age=0',\n",
       " 'cookie': 'KP_UID=35430865-8c0a-d297-d836-4abd6c36ca88; feature-RWD-6082=false; _gcl_au=1.1.1750258107.1591344254; _ga=GA1.3.1576862493.1591344255; _gid=GA1.3.820041376.1591344255; gdpr_notification=yes; scarab.visitor=%226DBDAEC813BAD72D%22; ASP.NET_SessionId=o2dtvxcqrim4y0fxg4byty0j; anonymoususerid=47733004-62ab-4c77-bf4d-804f23e527d9; scarab.mayAdd=%5B%7B%22i%22%3A%228775647%22%7D%5D; scarab.profile=%228775647%7C1591344450%22; KP_UIDz=3u1wq3j%2BxrKi5q0goXvjoA%3D%3D%3A%3AZJJj906tLlDktNPhXOkOKF2RVcWoavII5OaFeNm%2Fd4J0%2FURLl2EdOM6xzlOazuNcm8LbGdyXVxBw5xsVq3%2BWVeX6mriRnDkTaIoAS%2BLYefSpqE%2BSWVx4qCmmRyOLQbmvb9u0O134eI%2BoRo5IFSpZSAPJ1GA3tmnQJKYn3%2BGQvtCdxDAiwQL9FJcrHX5wZ6riv8icKx3HOcdJXCAtsni9whlOQ9BlIFl6uYO%2BJ3yS6I74lbbWgGpEWaVlKPaXXBQ7MCPEdGCi6zAiwW4Aa4Ud6sk0U1VYC4qtGwxHny5prjsPgmgnzH8bIbM97w%2FXA1zFtVxOLN0XuNmhZQDV7xKhLbFwasTW5Z4Xht6UZRwxMkX5z7x5A3EfT2SnWrEhOVUKQkb7dlpCMig3HmtZ1%2BBLmz4wJMolVSdWIog23R1g6DOtVRKsi0eM%2BJJo%2FADZuB4uKIuXX4NhtSQvYpfmkBqaGl29kNiwkNoPVX6sCpwP4D3DgfwrUFY0Yas%2FQydtg5bUOWccWuYnHh2v4T9EpoZlK6Bbv%2BC3IotlB9ztlL%2F091D%2F5%2FPh5soWv0ojRXmUi0vb',\n",
       " 'sec-fetch-dest': 'document',\n",
       " 'sec-fetch-mode': 'navigate',\n",
       " 'sec-fetch-site': 'same-origin',\n",
       " 'sec-fetch-user': '?1',\n",
       " 'upgrade-insecure-requests': '1',\n",
       " 'user-agent': 'Mozilla/5.0 (Macintosh; Intel Mac OS X 10_15_2) AppleWebKit/537.36 (KHTML, like Gecko) Chrome/81.0.4044.138 Safari/537.36'}"
      ]
     },
     "execution_count": 4,
     "metadata": {},
     "output_type": "execute_result"
    }
   ],
   "source": [
    "combined = {}\n",
    "\n",
    "for row in headers.split('\\n')[1:-1]:\n",
    "    splitted = row.split(':')\n",
    "    key = splitted[0]\n",
    "    val = ''.join(splitted[1:])\n",
    "    combined[key] = val.strip()\n",
    "    \n",
    "combined"
   ]
  },
  {
   "cell_type": "code",
   "execution_count": 5,
   "metadata": {},
   "outputs": [
    {
     "name": "stderr",
     "output_type": "stream",
     "text": [
      "\r",
      "  0%|          | 0/100 [00:00<?, ?it/s]"
     ]
    },
    {
     "name": "stdout",
     "output_type": "stream",
     "text": [
      "selangor\n"
     ]
    },
    {
     "name": "stderr",
     "output_type": "stream",
     "text": [
      "100%|██████████| 100/100 [03:36<00:00,  2.17s/it]\n",
      "  0%|          | 0/100 [00:00<?, ?it/s]"
     ]
    },
    {
     "name": "stdout",
     "output_type": "stream",
     "text": [
      "johor\n"
     ]
    },
    {
     "name": "stderr",
     "output_type": "stream",
     "text": [
      "100%|██████████| 100/100 [04:05<00:00,  2.45s/it]\n",
      "  0%|          | 0/100 [00:00<?, ?it/s]"
     ]
    },
    {
     "name": "stdout",
     "output_type": "stream",
     "text": [
      "kuala-lumpur\n"
     ]
    },
    {
     "name": "stderr",
     "output_type": "stream",
     "text": [
      "100%|██████████| 100/100 [03:46<00:00,  2.26s/it]\n",
      "  0%|          | 0/100 [00:00<?, ?it/s]"
     ]
    },
    {
     "name": "stdout",
     "output_type": "stream",
     "text": [
      "negeri-sembilan\n"
     ]
    },
    {
     "name": "stderr",
     "output_type": "stream",
     "text": [
      "100%|██████████| 100/100 [03:01<00:00,  1.82s/it]\n",
      "  0%|          | 0/100 [00:00<?, ?it/s]"
     ]
    },
    {
     "name": "stdout",
     "output_type": "stream",
     "text": [
      "penang\n"
     ]
    },
    {
     "name": "stderr",
     "output_type": "stream",
     "text": [
      "100%|██████████| 100/100 [03:18<00:00,  1.98s/it]\n",
      "  0%|          | 0/100 [00:00<?, ?it/s]"
     ]
    },
    {
     "name": "stdout",
     "output_type": "stream",
     "text": [
      "pahang\n"
     ]
    },
    {
     "name": "stderr",
     "output_type": "stream",
     "text": [
      "100%|██████████| 100/100 [02:57<00:00,  1.77s/it]\n",
      "  0%|          | 0/100 [00:00<?, ?it/s]"
     ]
    },
    {
     "name": "stdout",
     "output_type": "stream",
     "text": [
      "kelantan\n"
     ]
    },
    {
     "name": "stderr",
     "output_type": "stream",
     "text": [
      "100%|██████████| 100/100 [02:51<00:00,  1.72s/it]\n",
      "  0%|          | 0/100 [00:00<?, ?it/s]"
     ]
    },
    {
     "name": "stdout",
     "output_type": "stream",
     "text": [
      "kedah\n"
     ]
    },
    {
     "name": "stderr",
     "output_type": "stream",
     "text": [
      "100%|██████████| 100/100 [02:51<00:00,  1.72s/it]\n",
      "  0%|          | 0/100 [00:00<?, ?it/s]"
     ]
    },
    {
     "name": "stdout",
     "output_type": "stream",
     "text": [
      "perak\n"
     ]
    },
    {
     "name": "stderr",
     "output_type": "stream",
     "text": [
      "100%|██████████| 100/100 [03:04<00:00,  1.84s/it]\n",
      "  0%|          | 0/100 [00:00<?, ?it/s]"
     ]
    },
    {
     "name": "stdout",
     "output_type": "stream",
     "text": [
      "labuan\n"
     ]
    },
    {
     "name": "stderr",
     "output_type": "stream",
     "text": [
      "100%|██████████| 100/100 [02:50<00:00,  1.71s/it]\n",
      "  0%|          | 0/100 [00:00<?, ?it/s]"
     ]
    },
    {
     "name": "stdout",
     "output_type": "stream",
     "text": [
      "melaka\n"
     ]
    },
    {
     "name": "stderr",
     "output_type": "stream",
     "text": [
      "100%|██████████| 100/100 [03:18<00:00,  1.98s/it]\n",
      "  0%|          | 0/100 [00:00<?, ?it/s]"
     ]
    },
    {
     "name": "stdout",
     "output_type": "stream",
     "text": [
      "terengganu\n"
     ]
    },
    {
     "name": "stderr",
     "output_type": "stream",
     "text": [
      "100%|██████████| 100/100 [02:49<00:00,  1.70s/it]\n",
      "  0%|          | 0/100 [00:00<?, ?it/s]"
     ]
    },
    {
     "name": "stdout",
     "output_type": "stream",
     "text": [
      "perlis\n"
     ]
    },
    {
     "name": "stderr",
     "output_type": "stream",
     "text": [
      "100%|██████████| 100/100 [02:50<00:00,  1.70s/it]\n",
      "  0%|          | 0/100 [00:00<?, ?it/s]"
     ]
    },
    {
     "name": "stdout",
     "output_type": "stream",
     "text": [
      "putrajaya\n"
     ]
    },
    {
     "name": "stderr",
     "output_type": "stream",
     "text": [
      "100%|██████████| 100/100 [02:55<00:00,  1.76s/it]\n",
      "  0%|          | 0/100 [00:00<?, ?it/s]"
     ]
    },
    {
     "name": "stdout",
     "output_type": "stream",
     "text": [
      "sabah\n"
     ]
    },
    {
     "name": "stderr",
     "output_type": "stream",
     "text": [
      "100%|██████████| 100/100 [02:57<00:00,  1.78s/it]\n",
      "  0%|          | 0/100 [00:00<?, ?it/s]"
     ]
    },
    {
     "name": "stdout",
     "output_type": "stream",
     "text": [
      "sarawak\n"
     ]
    },
    {
     "name": "stderr",
     "output_type": "stream",
     "text": [
      "100%|██████████| 100/100 [02:52<00:00,  1.73s/it]\n"
     ]
    }
   ],
   "source": [
    "from tqdm import tqdm\n",
    "\n",
    "for negeri in negeris:\n",
    "    print(negeri)\n",
    "    \n",
    "    for i in tqdm(range(max_page)):\n",
    "        try:\n",
    "            url = f'https://www.iproperty.com.my/rent/{negeri}/all-residential/?l1&page={i + 1}'\n",
    "            r = requests.get(url,headers = combined)\n",
    "            bs = BeautifulSoup(r.content)\n",
    "            scripts = bs.findAll('script')\n",
    "            r = [script.get_text() for script in scripts if 'window.__INITIAL_STATE__' in script.get_text()][0]\n",
    "            r = re.sub(r'[ ]+', ' ', r).strip()\n",
    "            r = r.strip().replace('window.__INITIAL_STATE__ = ', '').replace(';\\n window.__RENDER_APP_ERROR__ = false;\\n window.__SERVICE_ENV__ = \"production\";\\n window.__PUBLIC_PATH__= \"https://assets-cdn.iproperty.com.my/assets/\";', '')\n",
    "            with open(f'{negeri}-page-{i + 1}.json', 'w') as fopen:\n",
    "                json.dump(json.loads(r), fopen)\n",
    "            time.sleep(1)\n",
    "        except Exception as e:\n",
    "            print(i)\n",
    "            print(e)"
   ]
  },
  {
   "cell_type": "code",
   "execution_count": null,
   "metadata": {},
   "outputs": [],
   "source": []
  }
 ],
 "metadata": {
  "kernelspec": {
   "display_name": "Python 3",
   "language": "python",
   "name": "python3"
  },
  "language_info": {
   "codemirror_mode": {
    "name": "ipython",
    "version": 3
   },
   "file_extension": ".py",
   "mimetype": "text/x-python",
   "name": "python",
   "nbconvert_exporter": "python",
   "pygments_lexer": "ipython3",
   "version": "3.7.5"
  }
 },
 "nbformat": 4,
 "nbformat_minor": 2
}
