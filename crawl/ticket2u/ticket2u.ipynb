{
 "cells": [
  {
   "cell_type": "code",
   "execution_count": 1,
   "metadata": {},
   "outputs": [],
   "source": [
    "import requests\n",
    "from tqdm import tqdm\n",
    "\n",
    "# https://curl.trillworks.com/\n",
    "\n",
    "headers = {\n",
    "    'authority': 'www.ticket2u.com.my',\n",
    "    'accept': 'application/json, text/javascript, */*; q=0.01',\n",
    "    'sec-fetch-dest': 'empty',\n",
    "    'x-requested-with': 'XMLHttpRequest',\n",
    "    'user-agent': 'Mozilla/5.0 (Linux; Android 6.0; Nexus 5 Build/MRA58N) AppleWebKit/537.36 (KHTML, like Gecko) Chrome/80.0.3987.149 Mobile Safari/537.36',\n",
    "    'content-type': 'application/x-www-form-urlencoded; charset=UTF-8',\n",
    "    'origin': 'https://www.ticket2u.com.my',\n",
    "    'sec-fetch-site': 'same-origin',\n",
    "    'sec-fetch-mode': 'cors',\n",
    "    'referer': 'https://www.ticket2u.com.my/event/list/?most=views&ex=1&currentpage=2',\n",
    "    'accept-language': 'en-MY,en;q=0.9,en-US;q=0.8,ms;q=0.7',\n",
    "    'cookie': '__cfduid=d177b4a65606756508942d4b30a26c7761586009694; ASP.NET_SessionId=i50pia15zlbt0d2bx1oeqk4x; ARRAffinity=962880a44b3c948dcdf487dfb529377adbd3199c49fc6e34b01e1a66c48ac6b9; _ga=GA1.3.1083977511.1586009700; _gid=GA1.3.429410572.1586009700; freshworks-s360-vid=fb39aa08-3f9e-43cf-8595-79ce9db835a1; _gat_UA-46018390-3=1',\n",
    "}"
   ]
  },
  {
   "cell_type": "code",
   "execution_count": 2,
   "metadata": {},
   "outputs": [
    {
     "name": "stderr",
     "output_type": "stream",
     "text": [
      "100%|██████████| 238/238 [01:02<00:00,  3.78it/s]\n"
     ]
    }
   ],
   "source": [
    "results = []\n",
    "\n",
    "for i in tqdm(range(1, 239, 1)):\n",
    "    data = '{\"method\":\"eventlisting\",\"data\":{\"most\":\"views\",\"ex\":\"1\",\"currentpage\":%d,\"stateid\":\"\"}}'%(i)\n",
    "    try:\n",
    "        response = requests.post('https://www.ticket2u.com.my/api/api2.ashx', headers=headers, data=data)\n",
    "        results.extend(response.json()['data'])\n",
    "    except Exception as e:\n",
    "        print(e, i)"
   ]
  },
  {
   "cell_type": "code",
   "execution_count": 5,
   "metadata": {},
   "outputs": [],
   "source": [
    "import json\n",
    "\n",
    "with open('ticketui.json', 'w') as fopen:\n",
    "    json.dump(results, fopen)"
   ]
  }
 ],
 "metadata": {
  "kernelspec": {
   "display_name": "Python 3",
   "language": "python",
   "name": "python3"
  },
  "language_info": {
   "codemirror_mode": {
    "name": "ipython",
    "version": 3
   },
   "file_extension": ".py",
   "mimetype": "text/x-python",
   "name": "python",
   "nbconvert_exporter": "python",
   "pygments_lexer": "ipython3",
   "version": "3.7.5"
  }
 },
 "nbformat": 4,
 "nbformat_minor": 2
}
