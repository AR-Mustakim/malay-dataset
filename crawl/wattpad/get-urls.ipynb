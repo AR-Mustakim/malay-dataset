{
 "cells": [
  {
   "cell_type": "code",
   "execution_count": 1,
   "metadata": {},
   "outputs": [],
   "source": [
    "# !pip3 install FanFicFare"
   ]
  },
  {
   "cell_type": "code",
   "execution_count": 2,
   "metadata": {},
   "outputs": [],
   "source": [
    "# !fanficfare https://www.wattpad.com/story/195721984-tuan-xavier-18%2B --format=txt"
   ]
  },
  {
   "cell_type": "code",
   "execution_count": 3,
   "metadata": {},
   "outputs": [],
   "source": [
    "from bs4 import BeautifulSoup"
   ]
  },
  {
   "cell_type": "code",
   "execution_count": 4,
   "metadata": {},
   "outputs": [
    {
     "data": {
      "text/plain": [
       "['remaja Stories - Wattpad.htm',\n",
       " 'malaysia Stories - Wattpad.htm',\n",
       " 'puisi Stories - Wattpad.htm',\n",
       " 'kata Stories - Wattpad.htm',\n",
       " 'cerita Stories - Wattpad.htm',\n",
       " 'melayu Stories - Wattpad.htm',\n",
       " 'MALAY Stories - Wattpad.htm',\n",
       " 'seram Stories - Wattpad.htm',\n",
       " 'hantu Stories - Wattpad.htm',\n",
       " 'sajak Stories - Wattpad.htm',\n",
       " 'cinta Stories - Wattpad.htm']"
      ]
     },
     "execution_count": 4,
     "metadata": {},
     "output_type": "execute_result"
    }
   ],
   "source": [
    "from glob import glob\n",
    "\n",
    "htmls = glob('*.htm')\n",
    "htmls"
   ]
  },
  {
   "cell_type": "code",
   "execution_count": 5,
   "metadata": {},
   "outputs": [
    {
     "name": "stdout",
     "output_type": "stream",
     "text": [
      "remaja Stories - Wattpad.htm\n",
      "malaysia Stories - Wattpad.htm\n",
      "puisi Stories - Wattpad.htm\n",
      "kata Stories - Wattpad.htm\n",
      "cerita Stories - Wattpad.htm\n",
      "melayu Stories - Wattpad.htm\n",
      "MALAY Stories - Wattpad.htm\n",
      "seram Stories - Wattpad.htm\n",
      "hantu Stories - Wattpad.htm\n",
      "sajak Stories - Wattpad.htm\n",
      "cinta Stories - Wattpad.htm\n"
     ]
    }
   ],
   "source": [
    "urls = []\n",
    "\n",
    "for html in htmls:\n",
    "    print(html)\n",
    "\n",
    "    with open(html) as fopen:\n",
    "        soup = BeautifulSoup(fopen.read(), 'html.parser')\n",
    "    \n",
    "    stories = set([a['href'] for a in soup.find_all('a', href=True) if '/story' in a['href']])\n",
    "    urls.extend(list(stories))"
   ]
  },
  {
   "cell_type": "code",
   "execution_count": 7,
   "metadata": {},
   "outputs": [
    {
     "data": {
      "text/plain": [
       "7947"
      ]
     },
     "execution_count": 7,
     "metadata": {},
     "output_type": "execute_result"
    }
   ],
   "source": [
    "len(set(urls))"
   ]
  },
  {
   "cell_type": "code",
   "execution_count": 8,
   "metadata": {},
   "outputs": [],
   "source": [
    "import json\n",
    "\n",
    "with open('urls.json', 'w') as fopen:\n",
    "    json.dump(list(set(urls)), fopen)"
   ]
  }
 ],
 "metadata": {
  "kernelspec": {
   "display_name": "Python 3",
   "language": "python",
   "name": "python3"
  },
  "language_info": {
   "codemirror_mode": {
    "name": "ipython",
    "version": 3
   },
   "file_extension": ".py",
   "mimetype": "text/x-python",
   "name": "python",
   "nbconvert_exporter": "python",
   "pygments_lexer": "ipython3",
   "version": "3.6.8"
  }
 },
 "nbformat": 4,
 "nbformat_minor": 2
}
