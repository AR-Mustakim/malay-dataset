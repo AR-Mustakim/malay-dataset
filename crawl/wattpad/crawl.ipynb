{
 "cells": [
  {
   "cell_type": "code",
   "execution_count": 1,
   "metadata": {},
   "outputs": [],
   "source": [
    "import subprocess\n",
    "import json\n",
    "import multiprocess"
   ]
  },
  {
   "cell_type": "code",
   "execution_count": 2,
   "metadata": {
    "scrolled": true
   },
   "outputs": [
    {
     "data": {
      "text/plain": [
       "['https://www.wattpad.com/story/176901805-my-ayden-hazreey',\n",
       " 'https://www.wattpad.com/story/159365607-namaku-arwa']"
      ]
     },
     "execution_count": 2,
     "metadata": {},
     "output_type": "execute_result"
    }
   ],
   "source": [
    "with open('urls.json') as fopen:\n",
    "    urls = json.load(fopen)\n",
    "    \n",
    "urls[:2]"
   ]
  },
  {
   "cell_type": "code",
   "execution_count": 3,
   "metadata": {},
   "outputs": [
    {
     "data": {
      "text/plain": [
       "'https://www.wattpad.com/story/212507121-ketulusan-hatiku'"
      ]
     },
     "execution_count": 3,
     "metadata": {},
     "output_type": "execute_result"
    }
   ],
   "source": [
    "urls[-1]"
   ]
  },
  {
   "cell_type": "code",
   "execution_count": 4,
   "metadata": {},
   "outputs": [],
   "source": [
    "# !fanficfare https://www.wattpad.com/story/212507121-ketulusan-hatiku --format=txt"
   ]
  },
  {
   "cell_type": "code",
   "execution_count": 5,
   "metadata": {},
   "outputs": [],
   "source": [
    "def get_text(url):\n",
    "    try:\n",
    "        o = subprocess.check_output(\n",
    "            [\n",
    "                'fanficfare',\n",
    "                url,\n",
    "                '--format=txt'\n",
    "            ],\n",
    "            stderr = subprocess.STDOUT,\n",
    "            cwd = '/home/husein/crawl/'\n",
    "        )\n",
    "        return o\n",
    "    except subprocess.CalledProcessError as e:\n",
    "        print(e)\n",
    "        return False\n",
    "    \n",
    "# get_text(urls[-1])"
   ]
  },
  {
   "cell_type": "code",
   "execution_count": 6,
   "metadata": {},
   "outputs": [],
   "source": [
    "from tqdm import tqdm\n",
    "\n",
    "def loop(strings):\n",
    "    results = []\n",
    "    for i in tqdm(range(len(strings))):\n",
    "        results.append(get_text(strings[i]))\n",
    "    return results"
   ]
  },
  {
   "cell_type": "code",
   "execution_count": 7,
   "metadata": {},
   "outputs": [
    {
     "name": "stderr",
     "output_type": "stream",
     "text": [
      "  0%|          | 1/305 [01:01<5:09:19, 61.05s/it]"
     ]
    },
    {
     "name": "stdout",
     "output_type": "stream",
     "text": [
      "Command '['fanficfare', 'https://www.wattpad.com/story/200611804-sajak-literasi', '--format=txt']' returned non-zero exit status 1.\n",
      "Command '['fanficfare', 'https://www.wattpad.com/story/87674089-those-one-sided-memories', '--format=txt']' returned non-zero exit status 1.\n"
     ]
    },
    {
     "name": "stderr",
     "output_type": "stream",
     "text": [
      "  1%|▏         | 4/305 [01:21<1:57:03, 23.33s/it]"
     ]
    },
    {
     "name": "stdout",
     "output_type": "stream",
     "text": [
      "Command '['fanficfare', 'https://www.wattpad.com/story/92460675-puns-melayu', '--format=txt']' returned non-zero exit status 1.\n"
     ]
    },
    {
     "name": "stderr",
     "output_type": "stream",
     "text": [
      "\r",
      "  2%|▏         | 7/305 [01:21<1:27:28, 17.61s/it]"
     ]
    },
    {
     "name": "stdout",
     "output_type": "stream",
     "text": [
      "Command '['fanficfare', 'https://www.wattpad.com/story/149490073-sajak-kata', '--format=txt']' returned non-zero exit status 1.\n"
     ]
    },
    {
     "name": "stderr",
     "output_type": "stream",
     "text": [
      "  2%|▏         | 7/305 [01:21<1:04:49, 13.05s/it]"
     ]
    },
    {
     "name": "stdout",
     "output_type": "stream",
     "text": [
      "Command '['fanficfare', 'https://www.wattpad.com/story/164743203-aksara-patah', '--format=txt']' returned non-zero exit status 1.\n"
     ]
    },
    {
     "name": "stderr",
     "output_type": "stream",
     "text": [
      "  2%|▏         | 6/305 [01:21<1:27:35, 17.58s/it]"
     ]
    },
    {
     "name": "stdout",
     "output_type": "stream",
     "text": [
      "Command '['fanficfare', 'https://www.wattpad.com/story/33712826-travel-drabbles', '--format=txt']' returned non-zero exit status 1.\n"
     ]
    },
    {
     "name": "stderr",
     "output_type": "stream",
     "text": [
      "\r",
      "  1%|▏         | 4/305 [01:22<1:58:00, 23.52s/it]"
     ]
    },
    {
     "name": "stdout",
     "output_type": "stream",
     "text": [
      "Command '['fanficfare', 'https://www.wattpad.com/story/124196353-fakta-bila-ada-crush-%F0%9F%92%96', '--format=txt']' returned non-zero exit status 1.\n"
     ]
    },
    {
     "name": "stderr",
     "output_type": "stream",
     "text": [
      "\r",
      "  2%|▏         | 5/305 [01:22<1:49:14, 21.85s/it]"
     ]
    },
    {
     "name": "stdout",
     "output_type": "stream",
     "text": [
      "Command '['fanficfare', 'https://www.wattpad.com/story/185355582-cinta-sebening-syahadat', '--format=txt']' returned non-zero exit status 1.\n"
     ]
    },
    {
     "name": "stderr",
     "output_type": "stream",
     "text": [
      "\r",
      "  2%|▏         | 5/305 [01:22<1:36:29, 19.30s/it]"
     ]
    },
    {
     "name": "stdout",
     "output_type": "stream",
     "text": [
      "Command '['fanficfare', 'https://www.wattpad.com/story/129102675-al-fatihah-untuk-umi', '--format=txt']' returned non-zero exit status 1.\n"
     ]
    },
    {
     "name": "stderr",
     "output_type": "stream",
     "text": [
      "\r",
      "  3%|▎         | 9/305 [01:22<1:09:28, 14.08s/it]"
     ]
    },
    {
     "name": "stdout",
     "output_type": "stream",
     "text": [
      "Command '['fanficfare', 'https://www.wattpad.com/story/54163270-monster-tinggi-menyeramkan', '--format=txt']' returned non-zero exit status 1.\n"
     ]
    },
    {
     "name": "stderr",
     "output_type": "stream",
     "text": [
      "\r",
      "  3%|▎         | 8/305 [01:22<1:13:10, 14.78s/it]"
     ]
    },
    {
     "name": "stdout",
     "output_type": "stream",
     "text": [
      "Command '['fanficfare', 'https://www.wattpad.com/story/209212759-aku', '--format=txt']' returned non-zero exit status 1.\n"
     ]
    },
    {
     "name": "stderr",
     "output_type": "stream",
     "text": [
      "\r",
      "  1%|          | 3/305 [01:22<1:47:30, 21.36s/it]"
     ]
    },
    {
     "name": "stdout",
     "output_type": "stream",
     "text": [
      "Command '['fanficfare', 'https://www.wattpad.com/story/47946468-unfaithful', '--format=txt']' returned non-zero exit status 1.\n"
     ]
    },
    {
     "name": "stderr",
     "output_type": "stream",
     "text": [
      "  2%|▏         | 6/305 [01:22<1:19:01, 15.86s/it]"
     ]
    },
    {
     "name": "stdout",
     "output_type": "stream",
     "text": [
      "Command '['fanficfare', 'https://www.wattpad.com/story/92992784-sad-wind-completed', '--format=txt']' returned non-zero exit status 1.\n"
     ]
    },
    {
     "name": "stderr",
     "output_type": "stream",
     "text": [
      "\r",
      "  3%|▎         | 9/305 [01:22<1:14:55, 15.19s/it]"
     ]
    },
    {
     "name": "stdout",
     "output_type": "stream",
     "text": [
      "Command '['fanficfare', 'https://www.wattpad.com/story/167808445-cinnamon-tea-delight', '--format=txt']' returned non-zero exit status 1.\n"
     ]
    },
    {
     "name": "stderr",
     "output_type": "stream",
     "text": [
      "\r",
      "  2%|▏         | 5/305 [01:23<1:47:20, 21.47s/it]"
     ]
    },
    {
     "name": "stdout",
     "output_type": "stream",
     "text": [
      "Command '['fanficfare', 'https://www.wattpad.com/story/203263318-complete-dead-smokers-club-part-3-sudah-pernah', '--format=txt']' returned non-zero exit status 1.\n"
     ]
    },
    {
     "name": "stderr",
     "output_type": "stream",
     "text": [
      "  6%|▌         | 18/305 [06:17<1:58:45, 24.83s/it]"
     ]
    },
    {
     "name": "stdout",
     "output_type": "stream",
     "text": [
      "Command '['fanficfare', 'https://www.wattpad.com/story/205964701-tanda-tanya', '--format=txt']' returned non-zero exit status 1.\n"
     ]
    },
    {
     "name": "stderr",
     "output_type": "stream",
     "text": [
      "  5%|▍         | 14/305 [06:38<1:33:05, 19.19s/it]"
     ]
    },
    {
     "name": "stdout",
     "output_type": "stream",
     "text": [
      "Command '['fanficfare', 'https://www.wattpad.com/story/139383851-rasa-dan-karsa', '--format=txt']' returned non-zero exit status 1.\n"
     ]
    },
    {
     "name": "stderr",
     "output_type": "stream",
     "text": [
      "\r",
      "  2%|▏         | 7/305 [06:38<5:10:09, 62.45s/it]"
     ]
    },
    {
     "name": "stdout",
     "output_type": "stream",
     "text": [
      "Command '['fanficfare', 'https://www.wattpad.com/story/210151822-2020', '--format=txt']' returned non-zero exit status 1.\n"
     ]
    },
    {
     "name": "stderr",
     "output_type": "stream",
     "text": [
      "\r",
      "  6%|▌         | 17/305 [06:38<1:33:42, 19.52s/it]"
     ]
    },
    {
     "name": "stdout",
     "output_type": "stream",
     "text": [
      "Command '['fanficfare', 'https://www.wattpad.com/story/98668577-monolog', '--format=txt']' returned non-zero exit status 1.\n"
     ]
    },
    {
     "name": "stderr",
     "output_type": "stream",
     "text": [
      "\r",
      "  2%|▏         | 7/305 [06:39<5:29:48, 66.41s/it]"
     ]
    },
    {
     "name": "stdout",
     "output_type": "stream",
     "text": [
      "Command '['fanficfare', 'https://www.wattpad.com/story/108842190-untitled', '--format=txt']' returned non-zero exit status 1.\n"
     ]
    },
    {
     "name": "stderr",
     "output_type": "stream",
     "text": [
      "\r",
      "  4%|▎         | 11/305 [06:39<2:12:03, 26.95s/it]"
     ]
    },
    {
     "name": "stdout",
     "output_type": "stream",
     "text": [
      "Command '['fanficfare', 'https://www.wattpad.com/story/86295579-jawaban-dari-pertanyaan-yang-tak-terjawab', '--format=txt']' returned non-zero exit status 1.\n"
     ]
    },
    {
     "name": "stderr",
     "output_type": "stream",
     "text": [
      "\r",
      "  6%|▌         | 18/305 [06:39<1:54:12, 23.88s/it]"
     ]
    },
    {
     "name": "stdout",
     "output_type": "stream",
     "text": [
      "Command '['fanficfare', 'https://www.wattpad.com/story/63624488-twenty-20', '--format=txt']' returned non-zero exit status 1.\n"
     ]
    },
    {
     "name": "stderr",
     "output_type": "stream",
     "text": [
      "\r",
      "  5%|▍         | 14/305 [06:39<2:41:20, 33.27s/it]"
     ]
    },
    {
     "name": "stdout",
     "output_type": "stream",
     "text": [
      "Command '['fanficfare', 'https://www.wattpad.com/story/171483819-in-blackness-of-space', '--format=txt']' returned non-zero exit status 1.\n"
     ]
    },
    {
     "name": "stderr",
     "output_type": "stream",
     "text": [
      "\r",
      "  4%|▍         | 13/305 [06:39<2:21:03, 28.98s/it]"
     ]
    },
    {
     "name": "stdout",
     "output_type": "stream",
     "text": [
      "Command '['fanficfare', 'https://www.wattpad.com/story/89826577-aku', '--format=txt']' returned non-zero exit status 1.\n"
     ]
    },
    {
     "name": "stderr",
     "output_type": "stream",
     "text": [
      "\r",
      "  5%|▍         | 15/305 [06:39<3:03:50, 38.04s/it]"
     ]
    },
    {
     "name": "stdout",
     "output_type": "stream",
     "text": [
      "Command '['fanficfare', 'https://www.wattpad.com/story/88702535-sort-of-feelings', '--format=txt']' returned non-zero exit status 1.\n"
     ]
    },
    {
     "name": "stderr",
     "output_type": "stream",
     "text": [
      "\r",
      "  6%|▌         | 17/305 [06:40<2:31:54, 31.65s/it]"
     ]
    },
    {
     "name": "stdout",
     "output_type": "stream",
     "text": [
      "Command '['fanficfare', 'https://www.wattpad.com/story/205904254-hi-kawan-5', '--format=txt']' returned non-zero exit status 1.\n",
      "Command '['fanficfare', 'https://www.wattpad.com/story/138889903-rabbit-danik-no-1-2-completed', '--format=txt']' returned non-zero exit status 1.\n"
     ]
    },
    {
     "name": "stderr",
     "output_type": "stream",
     "text": [
      "  5%|▍         | 14/305 [06:40<2:39:51, 32.96s/it]"
     ]
    },
    {
     "name": "stdout",
     "output_type": "stream",
     "text": [
      "Command '['fanficfare', 'https://www.wattpad.com/story/185873862-countryhumans-oneshots-smut', '--format=txt']' returned non-zero exit status 1.\n"
     ]
    },
    {
     "name": "stderr",
     "output_type": "stream",
     "text": [
      "\r",
      "  6%|▌         | 17/305 [06:40<1:24:04, 17.52s/it]"
     ]
    },
    {
     "name": "stdout",
     "output_type": "stream",
     "text": [
      "Command '['fanficfare', 'https://www.wattpad.com/story/66110990-hati', '--format=txt']' returned non-zero exit status 1.\n"
     ]
    },
    {
     "name": "stderr",
     "output_type": "stream",
     "text": [
      "\r",
      "  5%|▍         | 14/305 [06:40<1:23:29, 17.21s/it]"
     ]
    },
    {
     "name": "stdout",
     "output_type": "stream",
     "text": [
      "Command '['fanficfare', 'https://www.wattpad.com/story/195913667-hartini', '--format=txt']' returned non-zero exit status 1.\n"
     ]
    },
    {
     "name": "stderr",
     "output_type": "stream",
     "text": [
      "\r",
      "  6%|▌         | 18/305 [06:40<1:48:31, 22.69s/it]"
     ]
    },
    {
     "name": "stdout",
     "output_type": "stream",
     "text": [
      "Command '['fanficfare', 'https://www.wattpad.com/story/122925683-my-crush-mr-nerd', '--format=txt']' returned non-zero exit status 1.\n"
     ]
    },
    {
     "name": "stderr",
     "output_type": "stream",
     "text": [
      "\r",
      "  4%|▍         | 13/305 [06:40<4:03:22, 50.01s/it]"
     ]
    },
    {
     "name": "stdout",
     "output_type": "stream",
     "text": [
      "Command '['fanficfare', 'https://www.wattpad.com/story/109556917-biarlah-wanita-membuka-halaman-sendiri', '--format=txt']' returned non-zero exit status 1.\n"
     ]
    },
    {
     "name": "stderr",
     "output_type": "stream",
     "text": [
      "  5%|▌         | 16/305 [06:41<1:40:40, 20.90s/it]"
     ]
    },
    {
     "name": "stdout",
     "output_type": "stream",
     "text": [
      "Command '['fanficfare', 'https://www.wattpad.com/story/184497168-bumi-9-warna-1-mata', '--format=txt']' returned non-zero exit status 1.\n"
     ]
    },
    {
     "name": "stderr",
     "output_type": "stream",
     "text": [
      "\r",
      "  5%|▍         | 14/305 [06:41<1:53:49, 23.47s/it]"
     ]
    },
    {
     "name": "stdout",
     "output_type": "stream",
     "text": [
      "Command '['fanficfare', 'https://www.wattpad.com/story/137691361-learning-chinese-as-a-beginner', '--format=txt']' returned non-zero exit status 1.\n"
     ]
    },
    {
     "name": "stderr",
     "output_type": "stream",
     "text": [
      "  7%|▋         | 21/305 [11:32<2:56:27, 37.28s/it]"
     ]
    },
    {
     "name": "stdout",
     "output_type": "stream",
     "text": [
      "Command '['fanficfare', 'https://www.wattpad.com/story/153846436-yang-misteri', '--format=txt']' returned non-zero exit status 1.\n"
     ]
    },
    {
     "name": "stderr",
     "output_type": "stream",
     "text": [
      "\r",
      "  9%|▉         | 28/305 [11:53<2:03:54, 26.84s/it]"
     ]
    },
    {
     "name": "stdout",
     "output_type": "stream",
     "text": [
      "Command '['fanficfare', 'https://www.wattpad.com/story/201486748-tuan-puan-sebuah-antologi', '--format=txt']' returned non-zero exit status 1.\n"
     ]
    },
    {
     "name": "stderr",
     "output_type": "stream",
     "text": [
      "  8%|▊         | 24/305 [11:53<1:47:33, 22.97s/it]"
     ]
    },
    {
     "name": "stdout",
     "output_type": "stream",
     "text": [
      "Command '['fanficfare', 'https://www.wattpad.com/story/105806435-words-untold', '--format=txt']' returned non-zero exit status 1.\n"
     ]
    },
    {
     "name": "stderr",
     "output_type": "stream",
     "text": [
      "\r",
      "  9%|▉         | 27/305 [11:53<2:43:10, 35.22s/it]"
     ]
    },
    {
     "name": "stdout",
     "output_type": "stream",
     "text": [
      "Command '['fanficfare', 'https://www.wattpad.com/story/115106353-my-life-of-depression', '--format=txt']' returned non-zero exit status 1.\n"
     ]
    },
    {
     "name": "stderr",
     "output_type": "stream",
     "text": [
      "\r",
      " 10%|▉         | 29/305 [11:53<1:25:14, 18.53s/it]"
     ]
    },
    {
     "name": "stdout",
     "output_type": "stream",
     "text": [
      "Command '['fanficfare', 'https://www.wattpad.com/story/20315685-lil-mouse-love-story', '--format=txt']' returned non-zero exit status 1.\n"
     ]
    },
    {
     "name": "stderr",
     "output_type": "stream",
     "text": [
      "\r",
      "  7%|▋         | 20/305 [11:54<4:26:57, 56.20s/it]"
     ]
    },
    {
     "name": "stdout",
     "output_type": "stream",
     "text": [
      "Command '['fanficfare', 'https://www.wattpad.com/story/153024921-bicara-aksara', '--format=txt']' returned non-zero exit status 1.\n"
     ]
    },
    {
     "name": "stderr",
     "output_type": "stream",
     "text": [
      "\r",
      "  6%|▌         | 18/305 [11:54<3:38:12, 45.62s/it]"
     ]
    },
    {
     "name": "stdout",
     "output_type": "stream",
     "text": [
      "Command '['fanficfare', 'https://www.wattpad.com/story/194425358-butterfly-%C3%97-pjm', '--format=txt']' returned non-zero exit status 1.\n"
     ]
    },
    {
     "name": "stderr",
     "output_type": "stream",
     "text": [
      "\r",
      "  7%|▋         | 20/305 [11:54<2:52:06, 36.23s/it]"
     ]
    },
    {
     "name": "stdout",
     "output_type": "stream",
     "text": [
      "Command '['fanficfare', 'https://www.wattpad.com/story/125034666-diki-story', '--format=txt']' returned non-zero exit status 1.\n"
     ]
    },
    {
     "name": "stderr",
     "output_type": "stream",
     "text": [
      "\r",
      "  8%|▊         | 24/305 [11:54<2:01:18, 25.90s/it]"
     ]
    },
    {
     "name": "stdout",
     "output_type": "stream",
     "text": [
      "Command '['fanficfare', 'https://www.wattpad.com/story/207353020-the-asean-family-country-humans-randomness', '--format=txt']' returned non-zero exit status 1.\n"
     ]
    },
    {
     "name": "stderr",
     "output_type": "stream",
     "text": [
      "\r",
      "  9%|▉         | 28/305 [11:54<1:47:26, 23.27s/it]"
     ]
    },
    {
     "name": "stdout",
     "output_type": "stream",
     "text": [
      "Command '['fanficfare', 'https://www.wattpad.com/story/142024934-goresan-pena', '--format=txt']' returned non-zero exit status 1.\n"
     ]
    },
    {
     "name": "stderr",
     "output_type": "stream",
     "text": [
      "\r",
      " 10%|▉         | 29/305 [11:54<1:13:20, 15.94s/it]"
     ]
    },
    {
     "name": "stdout",
     "output_type": "stream",
     "text": [
      "Command '['fanficfare', 'https://www.wattpad.com/story/205293374-the-introvert-life-c', '--format=txt']' returned non-zero exit status 1.\n"
     ]
    },
    {
     "name": "stderr",
     "output_type": "stream",
     "text": [
      "\r",
      " 10%|█         | 31/305 [11:54<2:49:14, 37.06s/it]"
     ]
    },
    {
     "name": "stdout",
     "output_type": "stream",
     "text": [
      "Command '['fanficfare', 'https://www.wattpad.com/story/212950922-jojo-menikah-sendiri', '--format=txt']' returned non-zero exit status 1.\n"
     ]
    },
    {
     "name": "stderr",
     "output_type": "stream",
     "text": [
      "\r",
      "  8%|▊         | 25/305 [11:54<1:37:07, 20.81s/it]"
     ]
    },
    {
     "name": "stdout",
     "output_type": "stream",
     "text": [
      "Command '['fanficfare', 'https://www.wattpad.com/story/138592976-new-rohis-on-the-way', '--format=txt']' returned non-zero exit status 1.\n"
     ]
    },
    {
     "name": "stderr",
     "output_type": "stream",
     "text": [
      "\r",
      "  7%|▋         | 22/305 [11:54<4:16:39, 54.42s/it]"
     ]
    },
    {
     "name": "stdout",
     "output_type": "stream",
     "text": [
      "Command '['fanficfare', 'https://www.wattpad.com/story/143504405-dilarang-masuk', '--format=txt']' returned non-zero exit status 1.\n"
     ]
    },
    {
     "name": "stderr",
     "output_type": "stream",
     "text": [
      "\r",
      "  6%|▌         | 19/305 [11:54<3:05:09, 38.84s/it]"
     ]
    },
    {
     "name": "stdout",
     "output_type": "stream",
     "text": [
      "Command '['fanficfare', 'https://www.wattpad.com/story/195470013-my-precious-iris', '--format=txt']' returned non-zero exit status 1.\n"
     ]
    },
    {
     "name": "stderr",
     "output_type": "stream",
     "text": [
      "\r",
      "  8%|▊         | 24/305 [11:55<3:35:52, 46.10s/it]"
     ]
    },
    {
     "name": "stdout",
     "output_type": "stream",
     "text": [
      "Command '['fanficfare', 'https://www.wattpad.com/story/141999578-horror-stories', '--format=txt']' returned non-zero exit status 1.\n"
     ]
    },
    {
     "name": "stderr",
     "output_type": "stream",
     "text": [
      "\r",
      "  6%|▌         | 19/305 [11:55<4:26:10, 55.84s/it]"
     ]
    },
    {
     "name": "stdout",
     "output_type": "stream",
     "text": [
      "Command '['fanficfare', 'https://www.wattpad.com/story/181217901-phile-ch-3', '--format=txt']' returned non-zero exit status 1.\n"
     ]
    },
    {
     "name": "stderr",
     "output_type": "stream",
     "text": [
      "\r",
      "  5%|▍         | 15/305 [11:55<3:17:27, 40.85s/it]"
     ]
    },
    {
     "name": "stdout",
     "output_type": "stream",
     "text": [
      "Command '['fanficfare', 'https://www.wattpad.com/story/144158375-maafkan-aku', '--format=txt']' returned non-zero exit status 1.\n"
     ]
    },
    {
     "name": "stderr",
     "output_type": "stream",
     "text": [
      "\r",
      "  4%|▍         | 13/305 [11:55<4:54:30, 60.52s/it]"
     ]
    },
    {
     "name": "stdout",
     "output_type": "stream",
     "text": [
      "Command '['fanficfare', 'https://www.wattpad.com/story/92773838-kisah-cinta-kita', '--format=txt']' returned non-zero exit status 1.\n"
     ]
    },
    {
     "name": "stderr",
     "output_type": "stream",
     "text": [
      "\r",
      " 10%|█         | 31/305 [11:55<2:20:01, 30.66s/it]"
     ]
    },
    {
     "name": "stdout",
     "output_type": "stream",
     "text": [
      "Command '['fanficfare', 'https://www.wattpad.com/story/207894599-you-are-not-my-lover', '--format=txt']' returned non-zero exit status 1.\n"
     ]
    },
    {
     "name": "stderr",
     "output_type": "stream",
     "text": [
      "  8%|▊         | 24/305 [17:04<4:23:17, 56.22s/it]"
     ]
    },
    {
     "name": "stdout",
     "output_type": "stream",
     "text": [
      "Command '['fanficfare', 'https://www.wattpad.com/story/150239809-alia', '--format=txt']' returned non-zero exit status 1.\n"
     ]
    },
    {
     "name": "stderr",
     "output_type": "stream",
     "text": [
      " 11%|█         | 33/305 [17:25<1:19:59, 17.64s/it]"
     ]
    },
    {
     "name": "stdout",
     "output_type": "stream",
     "text": [
      "Command '['fanficfare', 'https://www.wattpad.com/story/212787278-remahan-rasa', '--format=txt']' returned non-zero exit status 1.\n"
     ]
    },
    {
     "name": "stderr",
     "output_type": "stream",
     "text": [
      "\r",
      "  9%|▉         | 28/305 [17:26<2:55:43, 38.06s/it]"
     ]
    },
    {
     "name": "stdout",
     "output_type": "stream",
     "text": [
      "Command '['fanficfare', 'https://www.wattpad.com/story/209028992-take-me-to-heaven', '--format=txt']' returned non-zero exit status 1.\n"
     ]
    },
    {
     "name": "stderr",
     "output_type": "stream",
     "text": [
      "\r",
      " 12%|█▏        | 38/305 [17:26<2:24:06, 32.39s/it]"
     ]
    },
    {
     "name": "stdout",
     "output_type": "stream",
     "text": [
      "Command '['fanficfare', 'https://www.wattpad.com/story/167981966-rahsia-bantal-basah', '--format=txt']' returned non-zero exit status 1.\n"
     ]
    },
    {
     "name": "stderr",
     "output_type": "stream",
     "text": [
      " 10%|▉         | 30/305 [17:26<3:43:14, 48.71s/it]"
     ]
    },
    {
     "name": "stdout",
     "output_type": "stream",
     "text": [
      "Command '['fanficfare', 'https://www.wattpad.com/story/197376499-andai-ku-tahu', '--format=txt']' returned non-zero exit status 1.\n"
     ]
    },
    {
     "name": "stderr",
     "output_type": "stream",
     "text": [
      "\r",
      " 10%|▉         | 29/305 [17:26<1:58:28, 25.75s/it]"
     ]
    },
    {
     "name": "stdout",
     "output_type": "stream",
     "text": [
      "Command '['fanficfare', 'https://www.wattpad.com/story/186098142-kaku', '--format=txt']' returned non-zero exit status 1.\n"
     ]
    },
    {
     "name": "stderr",
     "output_type": "stream",
     "text": [
      "\r",
      " 12%|█▏        | 36/305 [17:27<2:32:17, 33.97s/it]"
     ]
    },
    {
     "name": "stdout",
     "output_type": "stream",
     "text": [
      "Command '['fanficfare', 'https://www.wattpad.com/story/173633920-hoping-to-have-you-in-my-life-%F0%9F%99%82', '--format=txt']' returned non-zero exit status 1.\n"
     ]
    },
    {
     "name": "stderr",
     "output_type": "stream",
     "text": [
      "\r",
      "  9%|▊         | 26/305 [17:27<1:49:56, 23.64s/it]"
     ]
    },
    {
     "name": "stdout",
     "output_type": "stream",
     "text": [
      "Command '['fanficfare', 'https://www.wattpad.com/story/46679701-vanilla', '--format=txt']' returned non-zero exit status 1.\n"
     ]
    },
    {
     "name": "stderr",
     "output_type": "stream",
     "text": [
      "  9%|▉         | 27/305 [17:27<2:54:08, 37.58s/it]"
     ]
    },
    {
     "name": "stdout",
     "output_type": "stream",
     "text": [
      "Command '['fanficfare', 'https://www.wattpad.com/story/186811871-epidermic', '--format=txt']' returned non-zero exit status 1.\n"
     ]
    },
    {
     "name": "stderr",
     "output_type": "stream",
     "text": [
      "\r",
      " 12%|█▏        | 36/305 [17:27<1:29:41, 20.01s/it]"
     ]
    },
    {
     "name": "stdout",
     "output_type": "stream",
     "text": [
      "Command '['fanficfare', 'https://www.wattpad.com/story/204117993-berkata', '--format=txt']' returned non-zero exit status 1.\n"
     ]
    },
    {
     "name": "stderr",
     "output_type": "stream",
     "text": [
      "\r",
      " 10%|█         | 32/305 [17:27<3:50:54, 50.75s/it]"
     ]
    },
    {
     "name": "stdout",
     "output_type": "stream",
     "text": [
      "Command '['fanficfare', 'https://www.wattpad.com/story/78628202-tempest-completed', '--format=txt']' returned non-zero exit status 1.\n"
     ]
    },
    {
     "name": "stderr",
     "output_type": "stream",
     "text": [
      "\r",
      "  9%|▉         | 27/305 [17:27<2:56:58, 38.20s/it]"
     ]
    },
    {
     "name": "stdout",
     "output_type": "stream",
     "text": [
      "Command '['fanficfare', 'https://www.wattpad.com/story/136454154-aku-dan-kata', '--format=txt']' returned non-zero exit status 1.\n"
     ]
    },
    {
     "name": "stderr",
     "output_type": "stream",
     "text": [
      "\r",
      " 10%|▉         | 29/305 [17:27<2:38:37, 34.48s/it]"
     ]
    },
    {
     "name": "stdout",
     "output_type": "stream",
     "text": [
      "Command '['fanficfare', 'https://www.wattpad.com/story/80513257-puisi-hati-bicara-rindu-%E2%9D%A4', '--format=txt']' returned non-zero exit status 1.\n"
     ]
    },
    {
     "name": "stderr",
     "output_type": "stream",
     "text": [
      "\r",
      " 11%|█▏        | 35/305 [17:27<4:28:16, 59.62s/it]"
     ]
    },
    {
     "name": "stdout",
     "output_type": "stream",
     "text": [
      "Command '['fanficfare', 'https://www.wattpad.com/story/186339457-kutipan-rasa', '--format=txt']' returned non-zero exit status 1.\n"
     ]
    },
    {
     "name": "stderr",
     "output_type": "stream",
     "text": [
      "\r",
      " 10%|█         | 32/305 [17:27<4:36:20, 60.74s/it]"
     ]
    },
    {
     "name": "stdout",
     "output_type": "stream",
     "text": [
      "Command '['fanficfare', 'https://www.wattpad.com/story/212513363-apology', '--format=txt']' returned non-zero exit status 1.\n"
     ]
    },
    {
     "name": "stderr",
     "output_type": "stream",
     "text": [
      "\r",
      " 10%|█         | 32/305 [17:27<3:25:13, 45.11s/it]"
     ]
    },
    {
     "name": "stdout",
     "output_type": "stream",
     "text": [
      "Command '['fanficfare', 'https://www.wattpad.com/story/182522699-hati-semesta', '--format=txt']' returned non-zero exit status 1.\n"
     ]
    },
    {
     "name": "stderr",
     "output_type": "stream",
     "text": [
      "\r",
      " 13%|█▎        | 41/305 [17:27<1:58:25, 26.92s/it]"
     ]
    },
    {
     "name": "stdout",
     "output_type": "stream",
     "text": [
      "Command '['fanficfare', 'https://www.wattpad.com/story/124077882-tentang-perempuan-perempuan', '--format=txt']' returned non-zero exit status 1.\n"
     ]
    },
    {
     "name": "stderr",
     "output_type": "stream",
     "text": [
      "\r",
      " 13%|█▎        | 39/305 [17:27<3:03:57, 41.49s/it]"
     ]
    },
    {
     "name": "stdout",
     "output_type": "stream",
     "text": [
      "Command '['fanficfare', 'https://www.wattpad.com/story/141944022-99curhat-menjadi-perempuan-itu', '--format=txt']' returned non-zero exit status 1.\n"
     ]
    },
    {
     "name": "stderr",
     "output_type": "stream",
     "text": [
      " 13%|█▎        | 39/305 [22:36<3:16:22, 44.30s/it]"
     ]
    },
    {
     "name": "stdout",
     "output_type": "stream",
     "text": [
      "Command '['fanficfare', 'https://www.wattpad.com/story/132826820-kita', '--format=txt']' returned non-zero exit status 1.\n"
     ]
    },
    {
     "name": "stderr",
     "output_type": "stream",
     "text": [
      "\r",
      " 16%|█▋        | 50/305 [22:57<2:23:12, 33.70s/it]"
     ]
    },
    {
     "name": "stdout",
     "output_type": "stream",
     "text": [
      "Command '['fanficfare', 'https://www.wattpad.com/story/128412268-music-classmates-malay-version', '--format=txt']' returned non-zero exit status 1.\n"
     ]
    },
    {
     "name": "stderr",
     "output_type": "stream",
     "text": [
      "\r",
      " 15%|█▍        | 45/305 [22:57<1:23:54, 19.36s/it]"
     ]
    },
    {
     "name": "stdout",
     "output_type": "stream",
     "text": [
      "Command '['fanficfare', 'https://www.wattpad.com/story/190688178-perfect', '--format=txt']' returned non-zero exit status 1.\n"
     ]
    },
    {
     "name": "stderr",
     "output_type": "stream",
     "text": [
      "\r",
      " 15%|█▌        | 47/305 [22:57<2:03:53, 28.81s/it]"
     ]
    },
    {
     "name": "stdout",
     "output_type": "stream",
     "text": [
      "Command '['fanficfare', 'https://www.wattpad.com/story/133268923-song-jihyo-oneshot', '--format=txt']' returned non-zero exit status 1.\n"
     ]
    },
    {
     "name": "stderr",
     "output_type": "stream",
     "text": [
      " 14%|█▍        | 43/305 [22:57<1:21:51, 18.74s/it]"
     ]
    },
    {
     "name": "stdout",
     "output_type": "stream",
     "text": [
      "Command '['fanficfare', 'https://www.wattpad.com/story/78629662-latibule', '--format=txt']' returned non-zero exit status 1.\n"
     ]
    },
    {
     "name": "stderr",
     "output_type": "stream",
     "text": [
      "\r",
      " 12%|█▏        | 38/305 [22:57<1:22:41, 18.58s/it]"
     ]
    },
    {
     "name": "stdout",
     "output_type": "stream",
     "text": [
      "Command '['fanficfare', 'https://www.wattpad.com/story/35275681-janji', '--format=txt']' returned non-zero exit status 1.\n"
     ]
    },
    {
     "name": "stderr",
     "output_type": "stream",
     "text": [
      "\r",
      " 12%|█▏        | 38/305 [22:57<4:36:29, 62.13s/it]"
     ]
    },
    {
     "name": "stdout",
     "output_type": "stream",
     "text": [
      "Command '['fanficfare', 'https://www.wattpad.com/story/56052499-number-7', '--format=txt']' returned non-zero exit status 1.\n"
     ]
    },
    {
     "name": "stderr",
     "output_type": "stream",
     "text": [
      "\r",
      " 15%|█▍        | 45/305 [22:58<2:23:23, 33.09s/it]"
     ]
    },
    {
     "name": "stdout",
     "output_type": "stream",
     "text": [
      "Command '['fanficfare', 'https://www.wattpad.com/story/133087329-suaka-rasa', '--format=txt']' returned non-zero exit status 1.\n"
     ]
    },
    {
     "name": "stderr",
     "output_type": "stream",
     "text": [
      "\r",
      " 15%|█▌        | 47/305 [22:58<1:35:01, 22.10s/it]"
     ]
    },
    {
     "name": "stdout",
     "output_type": "stream",
     "text": [
      "Command '['fanficfare', 'https://www.wattpad.com/story/172555249-i-law-you', '--format=txt']' returned non-zero exit status 1.\n"
     ]
    },
    {
     "name": "stderr",
     "output_type": "stream",
     "text": [
      "\r",
      " 12%|█▏        | 37/305 [22:58<1:55:19, 25.82s/it]"
     ]
    },
    {
     "name": "stdout",
     "output_type": "stream",
     "text": [
      "Command '['fanficfare', 'https://www.wattpad.com/story/161762941-langit-biru', '--format=txt']' returned non-zero exit status 1.\n"
     ]
    },
    {
     "name": "stderr",
     "output_type": "stream",
     "text": [
      "\r",
      " 12%|█▏        | 37/305 [22:58<3:38:48, 48.99s/it]"
     ]
    },
    {
     "name": "stdout",
     "output_type": "stream",
     "text": [
      "Command '['fanficfare', 'https://www.wattpad.com/story/138696586-sajak-penunggu-cinta', '--format=txt']' returned non-zero exit status 1.\n"
     ]
    },
    {
     "name": "stderr",
     "output_type": "stream",
     "text": [
      "\r",
      " 12%|█▏        | 37/305 [22:58<2:47:59, 37.61s/it]"
     ]
    },
    {
     "name": "stdout",
     "output_type": "stream",
     "text": [
      "Command '['fanficfare', 'https://www.wattpad.com/story/179774539-adakah-aku', '--format=txt']' returned non-zero exit status 1.\n"
     ]
    },
    {
     "name": "stderr",
     "output_type": "stream",
     "text": [
      "\r",
      " 15%|█▌        | 47/305 [22:58<2:18:24, 32.19s/it]"
     ]
    },
    {
     "name": "stdout",
     "output_type": "stream",
     "text": [
      "Command '['fanficfare', 'https://www.wattpad.com/story/169697293-kata-mereka', '--format=txt']' returned non-zero exit status 1.\n"
     ]
    },
    {
     "name": "stderr",
     "output_type": "stream",
     "text": [
      "\r",
      " 11%|█▏        | 35/305 [22:58<3:37:40, 48.37s/it]"
     ]
    },
    {
     "name": "stdout",
     "output_type": "stream",
     "text": [
      "Command '['fanficfare', 'https://www.wattpad.com/story/201044801-slow-up-the-calmness', '--format=txt']' returned non-zero exit status 1.\n"
     ]
    },
    {
     "name": "stderr",
     "output_type": "stream",
     "text": [
      "\r",
      " 11%|█▏        | 35/305 [22:58<1:55:51, 25.74s/it]"
     ]
    },
    {
     "name": "stdout",
     "output_type": "stream",
     "text": [
      "Command '['fanficfare', 'https://www.wattpad.com/story/190186062-~i-sayang-you~-indomalay', '--format=txt']' returned non-zero exit status 1.\n"
     ]
    },
    {
     "name": "stderr",
     "output_type": "stream",
     "text": [
      "\r",
      " 10%|▉         | 30/305 [22:59<2:20:20, 30.62s/it]"
     ]
    },
    {
     "name": "stdout",
     "output_type": "stream",
     "text": [
      "Command '['fanficfare', 'https://www.wattpad.com/story/137193329-al-kisah', '--format=txt']' returned non-zero exit status 1.\n"
     ]
    },
    {
     "name": "stderr",
     "output_type": "stream",
     "text": [
      "\r",
      " 13%|█▎        | 40/305 [22:59<3:08:29, 42.68s/it]"
     ]
    },
    {
     "name": "stdout",
     "output_type": "stream",
     "text": [
      "Command '['fanficfare', 'https://www.wattpad.com/story/166388184-sepucuk-harapan', '--format=txt']' returned non-zero exit status 1.\n"
     ]
    },
    {
     "name": "stderr",
     "output_type": "stream",
     "text": [
      "\r",
      " 15%|█▍        | 45/305 [22:59<3:34:34, 49.52s/it]"
     ]
    },
    {
     "name": "stdout",
     "output_type": "stream",
     "text": [
      "Command '['fanficfare', 'https://www.wattpad.com/story/46661089-bts-imagines-malay-ver', '--format=txt']' returned non-zero exit status 1.\n"
     ]
    },
    {
     "name": "stderr",
     "output_type": "stream",
     "text": [
      "\r",
      " 13%|█▎        | 41/305 [22:59<4:58:23, 67.82s/it]"
     ]
    },
    {
     "name": "stdout",
     "output_type": "stream",
     "text": [
      "Command '['fanficfare', 'https://www.wattpad.com/story/208509897-a-journy-for-freedom', '--format=txt']' returned non-zero exit status 1.\n"
     ]
    },
    {
     "name": "stderr",
     "output_type": "stream",
     "text": [
      "\r",
      " 11%|█         | 33/305 [22:59<4:40:20, 61.84s/it]"
     ]
    },
    {
     "name": "stdout",
     "output_type": "stream",
     "text": [
      "Command '['fanficfare', 'https://www.wattpad.com/story/123260328-the-hidden', '--format=txt']' returned non-zero exit status 1.\n",
      "Command '['fanficfare', 'https://www.wattpad.com/story/162975702-basa-basi-seorang-pujangga', '--format=txt']' returned non-zero exit status 1.\n"
     ]
    },
    {
     "name": "stderr",
     "output_type": "stream",
     "text": [
      " 15%|█▍        | 45/305 [22:59<1:20:25, 18.56s/it]"
     ]
    },
    {
     "name": "stdout",
     "output_type": "stream",
     "text": [
      "Command '['fanficfare', 'https://www.wattpad.com/story/137617668-surat-untuk-kamu', '--format=txt']' returned non-zero exit status 1.\n"
     ]
    },
    {
     "name": "stderr",
     "output_type": "stream",
     "text": [
      " 15%|█▌        | 47/305 [27:44<58:55, 13.70s/it]  "
     ]
    },
    {
     "name": "stdout",
     "output_type": "stream",
     "text": [
      "Command '['fanficfare', 'https://www.wattpad.com/story/150909662-salahkah-aku-mencintainya', '--format=txt']' returned non-zero exit status 1.\n"
     ]
    },
    {
     "name": "stderr",
     "output_type": "stream",
     "text": [
      " 16%|█▌        | 49/305 [28:07<1:21:55, 19.20s/it]"
     ]
    },
    {
     "name": "stdout",
     "output_type": "stream",
     "text": [
      "Command '['fanficfare', 'https://www.wattpad.com/story/111275507-iam-not-jomblo', '--format=txt']' returned non-zero exit status 1.\n"
     ]
    },
    {
     "name": "stderr",
     "output_type": "stream",
     "text": [
      "\r",
      " 14%|█▍        | 43/305 [28:07<2:29:44, 34.29s/it]"
     ]
    },
    {
     "name": "stdout",
     "output_type": "stream",
     "text": [
      "Command '['fanficfare', 'https://www.wattpad.com/story/46257317-puisi-hati', '--format=txt']' returned non-zero exit status 1.\n"
     ]
    },
    {
     "name": "stderr",
     "output_type": "stream",
     "text": [
      "\r",
      " 17%|█▋        | 52/305 [28:07<4:44:27, 67.46s/it]"
     ]
    },
    {
     "name": "stdout",
     "output_type": "stream",
     "text": [
      "Command '['fanficfare', 'https://www.wattpad.com/story/146386374-cinta-2-hati', '--format=txt']' returned non-zero exit status 1.\n"
     ]
    },
    {
     "name": "stderr",
     "output_type": "stream",
     "text": [
      " 18%|█▊        | 56/305 [28:07<1:43:20, 24.90s/it]"
     ]
    },
    {
     "name": "stdout",
     "output_type": "stream",
     "text": [
      "Command '['fanficfare', 'https://www.wattpad.com/story/193645355-strike-back-proud-goddess-english-version', '--format=txt']' returned non-zero exit status 1.\n"
     ]
    },
    {
     "name": "stderr",
     "output_type": "stream",
     "text": [
      "\r",
      " 15%|█▌        | 47/305 [28:07<3:15:18, 45.42s/it]"
     ]
    },
    {
     "name": "stdout",
     "output_type": "stream",
     "text": [
      "Command '['fanficfare', 'https://www.wattpad.com/story/199275278-flower', '--format=txt']' returned non-zero exit status 1.\n"
     ]
    },
    {
     "name": "stderr",
     "output_type": "stream",
     "text": [
      "\r",
      " 12%|█▏        | 37/305 [28:07<2:56:14, 39.46s/it]"
     ]
    },
    {
     "name": "stdout",
     "output_type": "stream",
     "text": [
      "Command '['fanficfare', 'https://www.wattpad.com/story/160747163-boboiboy-season-1', '--format=txt']' returned non-zero exit status 1.\n"
     ]
    },
    {
     "name": "stderr",
     "output_type": "stream",
     "text": [
      "\r",
      " 14%|█▍        | 43/305 [28:07<1:45:43, 24.21s/it]"
     ]
    },
    {
     "name": "stdout",
     "output_type": "stream",
     "text": [
      "Command '['fanficfare', 'https://www.wattpad.com/story/122809804-mr-ree', '--format=txt']' returned non-zero exit status 1.\n"
     ]
    },
    {
     "name": "stderr",
     "output_type": "stream",
     "text": [
      "\r",
      " 20%|██        | 61/305 [28:07<1:26:46, 21.34s/it]"
     ]
    },
    {
     "name": "stdout",
     "output_type": "stream",
     "text": [
      "Command '['fanficfare', 'https://www.wattpad.com/story/88384928-kutipan-kata', '--format=txt']' returned non-zero exit status 1.\n"
     ]
    },
    {
     "name": "stderr",
     "output_type": "stream",
     "text": [
      "\r",
      " 16%|█▌        | 49/305 [28:07<3:40:55, 51.78s/it]"
     ]
    },
    {
     "name": "stdout",
     "output_type": "stream",
     "text": [
      "Command '['fanficfare', 'https://www.wattpad.com/story/196680964-kuala', '--format=txt']' returned non-zero exit status 1.\n"
     ]
    },
    {
     "name": "stderr",
     "output_type": "stream",
     "text": [
      "\r",
      " 18%|█▊        | 55/305 [28:08<2:30:15, 36.06s/it]"
     ]
    },
    {
     "name": "stdout",
     "output_type": "stream",
     "text": [
      "Command '['fanficfare', 'https://www.wattpad.com/story/149289688-contoh-makalah', '--format=txt']' returned non-zero exit status 1.\n"
     ]
    },
    {
     "name": "stderr",
     "output_type": "stream",
     "text": [
      "\r",
      " 17%|█▋        | 52/305 [28:08<2:46:15, 39.43s/it]"
     ]
    },
    {
     "name": "stdout",
     "output_type": "stream",
     "text": [
      "Command '['fanficfare', 'https://www.wattpad.com/story/91489219-kumpulan-puisi-remaja', '--format=txt']' returned non-zero exit status 1.\n"
     ]
    },
    {
     "name": "stderr",
     "output_type": "stream",
     "text": [
      " 18%|█▊        | 54/305 [28:08<1:41:38, 24.30s/it]"
     ]
    },
    {
     "name": "stdout",
     "output_type": "stream",
     "text": [
      "Command '['fanficfare', 'https://www.wattpad.com/story/45746782-creativity-poster-malay-cover-maker', '--format=txt']' returned non-zero exit status 1.\n"
     ]
    },
    {
     "name": "stderr",
     "output_type": "stream",
     "text": [
      "\r",
      " 15%|█▌        | 47/305 [28:08<1:51:13, 25.86s/it]"
     ]
    },
    {
     "name": "stdout",
     "output_type": "stream",
     "text": [
      "Command '['fanficfare', 'https://www.wattpad.com/story/213347875-cinta-itu-rumit', '--format=txt']' returned non-zero exit status 1.\n"
     ]
    },
    {
     "name": "stderr",
     "output_type": "stream",
     "text": [
      " 17%|█▋        | 53/305 [28:09<1:27:56, 20.94s/it]"
     ]
    },
    {
     "name": "stdout",
     "output_type": "stream",
     "text": [
      "Command '['fanficfare', 'https://www.wattpad.com/story/213550376-my-mr-nanny', '--format=txt']' returned non-zero exit status 1.\n"
     ]
    },
    {
     "name": "stderr",
     "output_type": "stream",
     "text": [
      "\r",
      " 15%|█▌        | 46/305 [28:09<2:27:52, 34.26s/it]"
     ]
    },
    {
     "name": "stdout",
     "output_type": "stream",
     "text": [
      "Command '['fanficfare', 'https://www.wattpad.com/story/11533531-top-secret-%E2%9C%94', '--format=txt']' returned non-zero exit status 1.\n"
     ]
    },
    {
     "name": "stderr",
     "output_type": "stream",
     "text": [
      "\r",
      " 14%|█▍        | 43/305 [28:09<4:08:43, 56.96s/it]"
     ]
    },
    {
     "name": "stdout",
     "output_type": "stream",
     "text": [
      "Command '['fanficfare', 'https://www.wattpad.com/story/112329451-lentera-angkasa', '--format=txt']' returned non-zero exit status 1.\n"
     ]
    },
    {
     "name": "stderr",
     "output_type": "stream",
     "text": [
      "\r",
      " 16%|█▌        | 49/305 [28:10<2:00:48, 28.31s/it]"
     ]
    },
    {
     "name": "stdout",
     "output_type": "stream",
     "text": [
      "Command '['fanficfare', 'https://www.wattpad.com/story/212703918-petty-bad-girl', '--format=txt']' returned non-zero exit status 1.\n"
     ]
    },
    {
     "name": "stderr",
     "output_type": "stream",
     "text": [
      " 16%|█▋        | 50/305 [32:47<2:20:22, 33.03s/it]"
     ]
    },
    {
     "name": "stdout",
     "output_type": "stream",
     "text": [
      "Command '['fanficfare', 'https://www.wattpad.com/story/179878804-c-ceo-kim%27s-in-love-%EA%B9%80%EB%82%A8%EC%A4%80%E2%9C%94', '--format=txt']' returned non-zero exit status 1.\n"
     ]
    },
    {
     "name": "stderr",
     "output_type": "stream",
     "text": [
      "\r",
      " 19%|█▉        | 59/305 [33:09<4:20:42, 63.59s/it]"
     ]
    },
    {
     "name": "stdout",
     "output_type": "stream",
     "text": [
      "Command '['fanficfare', 'https://www.wattpad.com/story/161535463-love-without-relationship', '--format=txt']' returned non-zero exit status 1.\n"
     ]
    },
    {
     "name": "stderr",
     "output_type": "stream",
     "text": [
      "\r",
      " 20%|██        | 62/305 [33:09<1:35:36, 23.61s/it]"
     ]
    },
    {
     "name": "stdout",
     "output_type": "stream",
     "text": [
      "Command '['fanficfare', 'https://www.wattpad.com/story/52450240-random', '--format=txt']' returned non-zero exit status 1.\n"
     ]
    },
    {
     "name": "stderr",
     "output_type": "stream",
     "text": [
      "\r",
      " 17%|█▋        | 51/305 [33:09<2:18:37, 32.75s/it]"
     ]
    },
    {
     "name": "stdout",
     "output_type": "stream",
     "text": [
      "Command '['fanficfare', 'https://www.wattpad.com/story/164719464-shakti-completed', '--format=txt']' returned non-zero exit status 1.\n"
     ]
    },
    {
     "name": "stderr",
     "output_type": "stream",
     "text": [
      "\r",
      " 18%|█▊        | 55/305 [33:09<2:33:32, 36.85s/it]"
     ]
    },
    {
     "name": "stdout",
     "output_type": "stream",
     "text": [
      "Command '['fanficfare', 'https://www.wattpad.com/story/162514489-my-perfect-husband-end', '--format=txt']' returned non-zero exit status 1.\n"
     ]
    },
    {
     "name": "stderr",
     "output_type": "stream",
     "text": [
      "\r",
      " 20%|█▉        | 60/305 [33:09<2:32:59, 37.47s/it]"
     ]
    },
    {
     "name": "stdout",
     "output_type": "stream",
     "text": [
      "Command '['fanficfare', 'https://www.wattpad.com/story/186537412-takdir', '--format=txt']' returned non-zero exit status 1.\n"
     ]
    },
    {
     "name": "stderr",
     "output_type": "stream",
     "text": [
      "\r",
      " 20%|█▉        | 60/305 [33:09<1:08:30, 16.78s/it]"
     ]
    },
    {
     "name": "stdout",
     "output_type": "stream",
     "text": [
      "Command '['fanficfare', 'https://www.wattpad.com/story/145688494-sebongkah-kata', '--format=txt']' returned non-zero exit status 1.\n"
     ]
    },
    {
     "name": "stderr",
     "output_type": "stream",
     "text": [
      "\r",
      " 17%|█▋        | 52/305 [33:09<1:56:36, 27.65s/it]"
     ]
    },
    {
     "name": "stdout",
     "output_type": "stream",
     "text": [
      "Command '['fanficfare', 'https://www.wattpad.com/story/121931780-minah-brutal-kena-stalk', '--format=txt']' returned non-zero exit status 1.\n"
     ]
    },
    {
     "name": "stderr",
     "output_type": "stream",
     "text": [
      "\r",
      " 14%|█▍        | 43/305 [33:10<3:35:52, 49.44s/it]"
     ]
    },
    {
     "name": "stdout",
     "output_type": "stream",
     "text": [
      "Command '['fanficfare', 'https://www.wattpad.com/story/188719838-goresan-tinta-di-ujung-senja', '--format=txt']' returned non-zero exit status 1.\n"
     ]
    },
    {
     "name": "stderr",
     "output_type": "stream",
     "text": [
      "\r",
      " 19%|█▉        | 59/305 [33:10<3:18:32, 48.42s/it]"
     ]
    },
    {
     "name": "stdout",
     "output_type": "stream",
     "text": [
      "Command '['fanficfare', 'https://www.wattpad.com/story/192930108-bad-girl-vs-cool-boy', '--format=txt']' returned non-zero exit status 1.\n"
     ]
    },
    {
     "name": "stderr",
     "output_type": "stream",
     "text": [
      "\r",
      " 19%|█▉        | 58/305 [33:10<2:03:32, 30.01s/it]"
     ]
    },
    {
     "name": "stdout",
     "output_type": "stream",
     "text": [
      "Command '['fanficfare', 'https://www.wattpad.com/story/159877111-kata-hati-kerna-ada-masa-mulut-tak-mampu-luahkan', '--format=txt']' returned non-zero exit status 1.\n"
     ]
    },
    {
     "name": "stderr",
     "output_type": "stream",
     "text": [
      "\r",
      " 19%|█▊        | 57/305 [33:10<1:59:34, 28.93s/it]"
     ]
    },
    {
     "name": "stdout",
     "output_type": "stream",
     "text": [
      "Command '['fanficfare', 'https://www.wattpad.com/story/126838233-just-for-you', '--format=txt']' returned non-zero exit status 1.\n"
     ]
    },
    {
     "name": "stderr",
     "output_type": "stream",
     "text": [
      " 17%|█▋        | 52/305 [33:10<4:29:22, 63.88s/it]"
     ]
    },
    {
     "name": "stdout",
     "output_type": "stream",
     "text": [
      "Command '['fanficfare', 'https://www.wattpad.com/story/174353075-%EF%BD%91%EF%BD%95%EF%BD%8F%EF%BD%94%EF%BD%85%EF%BD%93%E2%9D%A4', '--format=txt']' returned non-zero exit status 1.\n"
     ]
    },
    {
     "name": "stderr",
     "output_type": "stream",
     "text": [
      "\r",
      " 18%|█▊        | 55/305 [33:10<2:03:26, 29.63s/it]"
     ]
    },
    {
     "name": "stdout",
     "output_type": "stream",
     "text": [
      "Command '['fanficfare', 'https://www.wattpad.com/story/168674211-psycho-of-love', '--format=txt']' returned non-zero exit status 1.\n"
     ]
    },
    {
     "name": "stderr",
     "output_type": "stream",
     "text": [
      "\r",
      " 19%|█▉        | 58/305 [33:10<1:18:15, 19.01s/it]"
     ]
    },
    {
     "name": "stdout",
     "output_type": "stream",
     "text": [
      "Command '['fanficfare', 'https://www.wattpad.com/story/145048853-hambakata', '--format=txt']' returned non-zero exit status 1.\n"
     ]
    },
    {
     "name": "stderr",
     "output_type": "stream",
     "text": [
      " 23%|██▎       | 69/305 [33:10<1:04:06, 16.30s/it]"
     ]
    },
    {
     "name": "stdout",
     "output_type": "stream",
     "text": [
      "Command '['fanficfare', 'https://www.wattpad.com/story/53766499-randomness-with-the-gwapings-philippines', '--format=txt']' returned non-zero exit status 1.\n"
     ]
    },
    {
     "name": "stderr",
     "output_type": "stream",
     "text": [
      "\r",
      " 18%|█▊        | 54/305 [33:10<3:06:36, 44.61s/it]"
     ]
    },
    {
     "name": "stdout",
     "output_type": "stream",
     "text": [
      "Command '['fanficfare', 'https://www.wattpad.com/story/158212585-friendly-dingin-itu-suamiku', '--format=txt']' returned non-zero exit status 1.\n"
     ]
    },
    {
     "name": "stderr",
     "output_type": "stream",
     "text": [
      "\r",
      " 20%|█▉        | 60/305 [33:10<1:45:43, 25.89s/it]"
     ]
    },
    {
     "name": "stdout",
     "output_type": "stream",
     "text": [
      "Command '['fanficfare', 'https://www.wattpad.com/story/193360572-real-dream', '--format=txt']' returned non-zero exit status 1.\n"
     ]
    },
    {
     "name": "stderr",
     "output_type": "stream",
     "text": [
      "\r",
      " 20%|██        | 62/305 [33:10<2:04:03, 30.63s/it]"
     ]
    },
    {
     "name": "stdout",
     "output_type": "stream",
     "text": [
      "Command '['fanficfare', 'https://www.wattpad.com/story/105137493-dendam-vs-cinta-%E2%9C%94', '--format=txt']' returned non-zero exit status 1.\n"
     ]
    },
    {
     "name": "stderr",
     "output_type": "stream",
     "text": [
      "\r",
      " 20%|█▉        | 60/305 [33:11<2:35:55, 38.19s/it]"
     ]
    },
    {
     "name": "stdout",
     "output_type": "stream",
     "text": [
      "Command '['fanficfare', 'https://www.wattpad.com/story/159007873-cinta-ayyana', '--format=txt']' returned non-zero exit status 1.\n"
     ]
    },
    {
     "name": "stderr",
     "output_type": "stream",
     "text": [
      "\r",
      " 20%|██        | 62/305 [33:11<3:16:05, 48.42s/it]"
     ]
    },
    {
     "name": "stdout",
     "output_type": "stream",
     "text": [
      "Command '['fanficfare', 'https://www.wattpad.com/story/81641969-spectre-summon-the-grim-reaper', '--format=txt']' returned non-zero exit status 1.\n"
     ]
    },
    {
     "name": "stderr",
     "output_type": "stream",
     "text": [
      "\r",
      " 21%|██        | 64/305 [33:11<1:48:42, 27.06s/it]"
     ]
    },
    {
     "name": "stdout",
     "output_type": "stream",
     "text": [
      "Command '['fanficfare', 'https://www.wattpad.com/story/143614466-kelabu', '--format=txt']' returned non-zero exit status 1.\n"
     ]
    },
    {
     "name": "stderr",
     "output_type": "stream",
     "text": [
      "\r",
      " 18%|█▊        | 54/305 [33:11<4:46:56, 68.59s/it]"
     ]
    },
    {
     "name": "stdout",
     "output_type": "stream",
     "text": [
      "Command '['fanficfare', 'https://www.wattpad.com/story/177823295-little-musings', '--format=txt']' returned non-zero exit status 1.\n"
     ]
    },
    {
     "name": "stderr",
     "output_type": "stream",
     "text": [
      " 20%|█▉        | 60/305 [38:09<1:23:34, 20.47s/it]"
     ]
    },
    {
     "name": "stdout",
     "output_type": "stream",
     "text": [
      "Command '['fanficfare', 'https://www.wattpad.com/story/93532119-pain-killer', '--format=txt']' returned non-zero exit status 1.\n"
     ]
    },
    {
     "name": "stderr",
     "output_type": "stream",
     "text": [
      "\r",
      " 23%|██▎       | 70/305 [38:29<1:37:53, 25.00s/it]"
     ]
    },
    {
     "name": "stdout",
     "output_type": "stream",
     "text": [
      "Command '['fanficfare', 'https://www.wattpad.com/story/152858203-seuntai-kata-rasa-diaryessi', '--format=txt']' returned non-zero exit status 1.\n"
     ]
    },
    {
     "name": "stderr",
     "output_type": "stream",
     "text": [
      "\r",
      " 23%|██▎       | 70/305 [38:29<3:41:46, 56.62s/it]"
     ]
    },
    {
     "name": "stdout",
     "output_type": "stream",
     "text": [
      "Command '['fanficfare', 'https://www.wattpad.com/story/53464626-the-meaning-of-love', '--format=txt']' returned non-zero exit status 1.\n"
     ]
    },
    {
     "name": "stderr",
     "output_type": "stream",
     "text": [
      "\r",
      " 23%|██▎       | 69/305 [38:30<2:47:20, 42.55s/it]"
     ]
    },
    {
     "name": "stdout",
     "output_type": "stream",
     "text": [
      "Command '['fanficfare', 'https://www.wattpad.com/story/95318640-second-chance', '--format=txt']' returned non-zero exit status 1.\n"
     ]
    },
    {
     "name": "stderr",
     "output_type": "stream",
     "text": [
      "\r",
      " 21%|██        | 64/305 [38:30<1:57:15, 29.19s/it]"
     ]
    },
    {
     "name": "stdout",
     "output_type": "stream",
     "text": [
      "Command '['fanficfare', 'https://www.wattpad.com/story/191014692-quotes-gril', '--format=txt']' returned non-zero exit status 1.\n"
     ]
    },
    {
     "name": "stderr",
     "output_type": "stream",
     "text": [
      "\r",
      " 16%|█▋        | 50/305 [38:30<3:24:13, 48.05s/it]"
     ]
    },
    {
     "name": "stdout",
     "output_type": "stream",
     "text": [
      "Command '['fanficfare', 'https://www.wattpad.com/story/180441292-quotes-of-the-day', '--format=txt']' returned non-zero exit status 1.\n"
     ]
    },
    {
     "name": "stderr",
     "output_type": "stream",
     "text": [
      "\r",
      " 22%|██▏       | 67/305 [38:30<2:33:38, 38.73s/it]"
     ]
    },
    {
     "name": "stdout",
     "output_type": "stream",
     "text": [
      "Command '['fanficfare', 'https://www.wattpad.com/story/119394347-indonesia-ku-sayang-kumpulan-puisi', '--format=txt']' returned non-zero exit status 1.\n"
     ]
    },
    {
     "name": "stderr",
     "output_type": "stream",
     "text": [
      "\r",
      " 22%|██▏       | 67/305 [38:30<1:20:04, 20.19s/it]"
     ]
    },
    {
     "name": "stdout",
     "output_type": "stream",
     "text": [
      "Command '['fanficfare', 'https://www.wattpad.com/story/199423547-teman-masa-kecil-ceo-villainess', '--format=txt']' returned non-zero exit status 1.\n",
      "Command '['fanficfare', 'https://www.wattpad.com/story/90483488-wife-to-007', '--format=txt']' returned non-zero exit status 1.\n"
     ]
    },
    {
     "name": "stderr",
     "output_type": "stream",
     "text": [
      " 23%|██▎       | 71/305 [38:30<1:35:17, 24.43s/it]"
     ]
    },
    {
     "name": "stdout",
     "output_type": "stream",
     "text": [
      "Command '['fanficfare', 'https://www.wattpad.com/story/177310493-c-mafia-%C2%B0jjk%C2%B0', '--format=txt']' returned non-zero exit status 1.\n"
     ]
    },
    {
     "name": "stderr",
     "output_type": "stream",
     "text": [
      " 24%|██▍       | 74/305 [38:30<57:29, 14.93s/it]t]"
     ]
    },
    {
     "name": "stdout",
     "output_type": "stream",
     "text": [
      "Command '['fanficfare', 'https://www.wattpad.com/story/192065620-dendam-budak-baik', '--format=txt']' returned non-zero exit status 1.\n"
     ]
    },
    {
     "name": "stderr",
     "output_type": "stream",
     "text": [
      "\r",
      " 24%|██▍       | 73/305 [38:30<1:27:11, 22.55s/it]"
     ]
    },
    {
     "name": "stdout",
     "output_type": "stream",
     "text": [
      "Command '['fanficfare', 'https://www.wattpad.com/story/165299225-kutipan-kata-ini', '--format=txt']' returned non-zero exit status 1.\n"
     ]
    },
    {
     "name": "stderr",
     "output_type": "stream",
     "text": [
      "\r",
      " 21%|██▏       | 65/305 [38:30<2:57:28, 44.37s/it]"
     ]
    },
    {
     "name": "stdout",
     "output_type": "stream",
     "text": [
      "Command '['fanficfare', 'https://www.wattpad.com/story/127078344-buku-perak', '--format=txt']' returned non-zero exit status 1.\n"
     ]
    },
    {
     "name": "stderr",
     "output_type": "stream",
     "text": [
      "\r",
      " 19%|█▉        | 59/305 [38:30<2:43:18, 39.83s/it]"
     ]
    },
    {
     "name": "stdout",
     "output_type": "stream",
     "text": [
      "Command '['fanficfare', 'https://www.wattpad.com/story/212317947-pernikahan-kita', '--format=txt']' returned non-zero exit status 1.\n"
     ]
    },
    {
     "name": "stderr",
     "output_type": "stream",
     "text": [
      "\r",
      " 26%|██▌       | 80/305 [38:30<1:27:01, 23.21s/it]"
     ]
    },
    {
     "name": "stdout",
     "output_type": "stream",
     "text": [
      "Command '['fanficfare', 'https://www.wattpad.com/story/202102686-ruang-sajak', '--format=txt']' returned non-zero exit status 1.\n"
     ]
    },
    {
     "name": "stderr",
     "output_type": "stream",
     "text": [
      " 22%|██▏       | 67/305 [38:31<1:28:40, 22.36s/it]"
     ]
    },
    {
     "name": "stdout",
     "output_type": "stream",
     "text": [
      "Command '['fanficfare', 'https://www.wattpad.com/story/172071127-quotes', '--format=txt']' returned non-zero exit status 1.\n"
     ]
    },
    {
     "name": "stderr",
     "output_type": "stream",
     "text": [
      " 28%|██▊       | 85/305 [38:31<55:40, 15.18s/it]t]"
     ]
    },
    {
     "name": "stdout",
     "output_type": "stream",
     "text": [
      "Command '['fanficfare', 'https://www.wattpad.com/story/181244597-secangkir-rasa-dariku', '--format=txt']' returned non-zero exit status 1.\n"
     ]
    },
    {
     "name": "stderr",
     "output_type": "stream",
     "text": [
      " 20%|██        | 62/305 [38:31<1:28:50, 21.93s/it]"
     ]
    },
    {
     "name": "stdout",
     "output_type": "stream",
     "text": [
      "Command '['fanficfare', 'https://www.wattpad.com/story/127497012-candy-floss-love', '--format=txt']' returned non-zero exit status 1.\n"
     ]
    },
    {
     "name": "stderr",
     "output_type": "stream",
     "text": [
      "\r",
      " 21%|██▏       | 65/305 [38:32<3:05:50, 46.46s/it]"
     ]
    },
    {
     "name": "stdout",
     "output_type": "stream",
     "text": [
      "Command '['fanficfare', 'https://www.wattpad.com/story/144840272-mahadewi-dalam-puisi', '--format=txt']' returned non-zero exit status 1.\n"
     ]
    },
    {
     "name": "stderr",
     "output_type": "stream",
     "text": [
      " 25%|██▌       | 77/305 [43:16<2:56:35, 46.47s/it]"
     ]
    },
    {
     "name": "stdout",
     "output_type": "stream",
     "text": [
      "Command '['fanficfare', 'https://www.wattpad.com/story/131958835-hanya-sajak', '--format=txt']' returned non-zero exit status 1.\n"
     ]
    },
    {
     "name": "stderr",
     "output_type": "stream",
     "text": [
      "\r",
      " 23%|██▎       | 71/305 [43:36<1:38:27, 25.25s/it]"
     ]
    },
    {
     "name": "stdout",
     "output_type": "stream",
     "text": [
      "Command '['fanficfare', 'https://www.wattpad.com/story/123449734-syaakur-pejuang-dua-dunia', '--format=txt']' returned non-zero exit status 1.\n"
     ]
    },
    {
     "name": "stderr",
     "output_type": "stream",
     "text": [
      "\r",
      " 26%|██▌       | 78/305 [43:36<2:14:09, 35.46s/it]"
     ]
    },
    {
     "name": "stdout",
     "output_type": "stream",
     "text": [
      "Command '['fanficfare', 'https://www.wattpad.com/story/92503704-coretan-suka-hati', '--format=txt']' returned non-zero exit status 1.\n"
     ]
    },
    {
     "name": "stderr",
     "output_type": "stream",
     "text": [
      "\r",
      " 26%|██▌       | 80/305 [43:36<3:08:41, 50.32s/it]"
     ]
    },
    {
     "name": "stdout",
     "output_type": "stream",
     "text": [
      "Command '['fanficfare', 'https://www.wattpad.com/story/50570565-dari-kaki-5-ke-buku-5', '--format=txt']' returned non-zero exit status 1.\n"
     ]
    },
    {
     "name": "stderr",
     "output_type": "stream",
     "text": [
      "\r",
      " 23%|██▎       | 71/305 [43:36<3:32:05, 54.38s/it]"
     ]
    },
    {
     "name": "stdout",
     "output_type": "stream",
     "text": [
      "Command '['fanficfare', 'https://www.wattpad.com/story/209290199-30-rekomendasi-cerita-wattpad', '--format=txt']' returned non-zero exit status 1.\n"
     ]
    },
    {
     "name": "stderr",
     "output_type": "stream",
     "text": [
      "\r",
      " 23%|██▎       | 69/305 [43:37<1:37:44, 24.85s/it]"
     ]
    },
    {
     "name": "stdout",
     "output_type": "stream",
     "text": [
      "Command '['fanficfare', 'https://www.wattpad.com/story/120554595-sumpah-wardina', '--format=txt']' returned non-zero exit status 1.\n"
     ]
    },
    {
     "name": "stderr",
     "output_type": "stream",
     "text": [
      "\r",
      " 23%|██▎       | 70/305 [43:37<3:53:11, 59.54s/it]"
     ]
    },
    {
     "name": "stdout",
     "output_type": "stream",
     "text": [
      "Command '['fanficfare', 'https://www.wattpad.com/story/72009243-relationship-quotes', '--format=txt']' returned non-zero exit status 1.\n"
     ]
    },
    {
     "name": "stderr",
     "output_type": "stream",
     "text": [
      " 28%|██▊       | 85/305 [43:37<1:00:51, 16.60s/it]"
     ]
    },
    {
     "name": "stdout",
     "output_type": "stream",
     "text": [
      "Command '['fanficfare', 'https://www.wattpad.com/story/211624133-takdir-cinta', '--format=txt']' returned non-zero exit status 1.\n"
     ]
    },
    {
     "name": "stderr",
     "output_type": "stream",
     "text": [
      "\r",
      " 26%|██▌       | 79/305 [43:37<1:14:58, 19.91s/it]"
     ]
    },
    {
     "name": "stdout",
     "output_type": "stream",
     "text": [
      "Command '['fanficfare', 'https://www.wattpad.com/story/148210829-about-a-word', '--format=txt']' returned non-zero exit status 1.\n"
     ]
    },
    {
     "name": "stderr",
     "output_type": "stream",
     "text": [
      "\r",
      " 27%|██▋       | 81/305 [43:37<1:20:29, 21.56s/it]"
     ]
    },
    {
     "name": "stdout",
     "output_type": "stream",
     "text": [
      "Command '['fanficfare', 'https://www.wattpad.com/story/163999515-s-a-j-a-k', '--format=txt']' returned non-zero exit status 1.\n"
     ]
    },
    {
     "name": "stderr",
     "output_type": "stream",
     "text": [
      "\r",
      " 26%|██▌       | 79/305 [43:37<1:36:41, 25.67s/it]"
     ]
    },
    {
     "name": "stdout",
     "output_type": "stream",
     "text": [
      "Command '['fanficfare', 'https://www.wattpad.com/story/55101222-truly-you%27re-my-bride', '--format=txt']' returned non-zero exit status 1.\n"
     ]
    },
    {
     "name": "stderr",
     "output_type": "stream",
     "text": [
      "\r",
      " 25%|██▍       | 75/305 [43:37<1:02:42, 16.36s/it]"
     ]
    },
    {
     "name": "stdout",
     "output_type": "stream",
     "text": [
      "Command '['fanficfare', 'https://www.wattpad.com/story/147923922-my-heart-quotes-jejak-hati', '--format=txt']' returned non-zero exit status 1.\n"
     ]
    },
    {
     "name": "stderr",
     "output_type": "stream",
     "text": [
      "\r",
      " 22%|██▏       | 67/305 [43:38<4:25:50, 67.02s/it]"
     ]
    },
    {
     "name": "stdout",
     "output_type": "stream",
     "text": [
      "Command '['fanficfare', 'https://www.wattpad.com/story/168387959-nanti-akan-kusampaikan', '--format=txt']' returned non-zero exit status 1.\n"
     ]
    },
    {
     "name": "stderr",
     "output_type": "stream",
     "text": [
      "\r",
      " 26%|██▌       | 80/305 [43:38<1:37:52, 26.10s/it]"
     ]
    },
    {
     "name": "stdout",
     "output_type": "stream",
     "text": [
      "Command '['fanficfare', 'https://www.wattpad.com/story/180053896-galih-ratna', '--format=txt']' returned non-zero exit status 1.\n"
     ]
    },
    {
     "name": "stderr",
     "output_type": "stream",
     "text": [
      "\r",
      " 19%|█▉        | 58/305 [43:38<2:20:01, 34.01s/it]"
     ]
    },
    {
     "name": "stdout",
     "output_type": "stream",
     "text": [
      "Command '['fanficfare', 'https://www.wattpad.com/story/153368370-speaking-mind', '--format=txt']' returned non-zero exit status 1.\n"
     ]
    },
    {
     "name": "stderr",
     "output_type": "stream",
     "text": [
      "\r",
      " 23%|██▎       | 71/305 [43:38<1:43:28, 26.53s/it]"
     ]
    },
    {
     "name": "stdout",
     "output_type": "stream",
     "text": [
      "Command '['fanficfare', 'https://www.wattpad.com/story/133439528-fangirl-problem-kpopers', '--format=txt']' returned non-zero exit status 1.\n"
     ]
    },
    {
     "name": "stderr",
     "output_type": "stream",
     "text": [
      "\r",
      " 26%|██▌       | 78/305 [43:38<2:46:18, 43.96s/it]"
     ]
    },
    {
     "name": "stdout",
     "output_type": "stream",
     "text": [
      "Command '['fanficfare', 'https://www.wattpad.com/story/169932049-cerita-seram-semasa-kecil-completed', '--format=txt']' returned non-zero exit status 1.\n"
     ]
    },
    {
     "name": "stderr",
     "output_type": "stream",
     "text": [
      "\r",
      " 23%|██▎       | 71/305 [43:38<2:12:08, 33.88s/it]"
     ]
    },
    {
     "name": "stdout",
     "output_type": "stream",
     "text": [
      "Command '['fanficfare', 'https://www.wattpad.com/story/89474410-peka', '--format=txt']' returned non-zero exit status 1.\n"
     ]
    },
    {
     "name": "stderr",
     "output_type": "stream",
     "text": [
      "\r",
      " 23%|██▎       | 71/305 [43:38<3:26:41, 53.00s/it]"
     ]
    },
    {
     "name": "stdout",
     "output_type": "stream",
     "text": [
      "Command '['fanficfare', 'https://www.wattpad.com/story/89069295-1-menit-20-detik', '--format=txt']' returned non-zero exit status 1.\n"
     ]
    },
    {
     "name": "stderr",
     "output_type": "stream",
     "text": [
      "\r",
      " 23%|██▎       | 69/305 [43:38<4:22:47, 66.81s/it]"
     ]
    },
    {
     "name": "stdout",
     "output_type": "stream",
     "text": [
      "Command '['fanficfare', 'https://www.wattpad.com/story/179447804-menceritakan-mu', '--format=txt']' returned non-zero exit status 1.\n"
     ]
    },
    {
     "name": "stderr",
     "output_type": "stream",
     "text": [
      "\r",
      " 29%|██▉       | 89/305 [43:38<1:41:36, 28.22s/it]"
     ]
    },
    {
     "name": "stdout",
     "output_type": "stream",
     "text": [
      "Command '['fanficfare', 'https://www.wattpad.com/story/212784717-eccedentesiast', '--format=txt']' returned non-zero exit status 1.\n"
     ]
    },
    {
     "name": "stderr",
     "output_type": "stream",
     "text": [
      " 29%|██▉       | 88/305 [48:45<1:51:13, 30.75s/it]]"
     ]
    },
    {
     "name": "stdout",
     "output_type": "stream",
     "text": [
      "Command '['fanficfare', 'https://www.wattpad.com/story/129746361-ask-or-dare-asean-10', '--format=txt']' returned non-zero exit status 1.\n"
     ]
    },
    {
     "name": "stderr",
     "output_type": "stream",
     "text": [
      "\r",
      " 25%|██▌       | 77/305 [48:45<3:35:49, 56.79s/it]"
     ]
    },
    {
     "name": "stdout",
     "output_type": "stream",
     "text": [
      "Command '['fanficfare', 'https://www.wattpad.com/story/138144295-dia-permaisuri-hatiku', '--format=txt']' returned non-zero exit status 1.\n"
     ]
    },
    {
     "name": "stderr",
     "output_type": "stream",
     "text": [
      "\r",
      " 27%|██▋       | 81/305 [48:45<3:13:49, 51.92s/it]"
     ]
    },
    {
     "name": "stdout",
     "output_type": "stream",
     "text": [
      "Command '['fanficfare', 'https://www.wattpad.com/story/96118862-bercakap-dalam-cermin', '--format=txt']' returned non-zero exit status 1.\n"
     ]
    },
    {
     "name": "stderr",
     "output_type": "stream",
     "text": [
      " 25%|██▌       | 77/305 [48:45<3:04:00, 48.42s/it]"
     ]
    },
    {
     "name": "stdout",
     "output_type": "stream",
     "text": [
      "Command '['fanficfare', 'https://www.wattpad.com/story/113834051-perlukah-sesebuah-move-on', '--format=txt']' returned non-zero exit status 1.\n"
     ]
    },
    {
     "name": "stderr",
     "output_type": "stream",
     "text": [
      "\r",
      " 25%|██▌       | 77/305 [48:45<3:24:33, 53.83s/it]"
     ]
    },
    {
     "name": "stdout",
     "output_type": "stream",
     "text": [
      "Command '['fanficfare', 'https://www.wattpad.com/story/186938135-beyond-the-ordinary-bahasa-indonesia', '--format=txt']' returned non-zero exit status 1.\n"
     ]
    },
    {
     "name": "stderr",
     "output_type": "stream",
     "text": [
      "\r",
      " 25%|██▌       | 77/305 [48:45<2:20:41, 37.03s/it]"
     ]
    },
    {
     "name": "stdout",
     "output_type": "stream",
     "text": [
      "Command '['fanficfare', 'https://www.wattpad.com/story/178579539-menggurita-kata', '--format=txt']' returned non-zero exit status 1.\n"
     ]
    },
    {
     "name": "stderr",
     "output_type": "stream",
     "text": [
      "\r",
      " 27%|██▋       | 81/305 [48:45<2:51:01, 45.81s/it]"
     ]
    },
    {
     "name": "stdout",
     "output_type": "stream",
     "text": [
      "Command '['fanficfare', 'https://www.wattpad.com/story/118287332-secret', '--format=txt']' returned non-zero exit status 1.\n"
     ]
    },
    {
     "name": "stderr",
     "output_type": "stream",
     "text": [
      "\r",
      " 25%|██▌       | 77/305 [48:46<2:26:19, 38.51s/it]"
     ]
    },
    {
     "name": "stdout",
     "output_type": "stream",
     "text": [
      "Command '['fanficfare', 'https://www.wattpad.com/story/51396307-memori', '--format=txt']' returned non-zero exit status 1.\n"
     ]
    },
    {
     "name": "stderr",
     "output_type": "stream",
     "text": [
      "\r",
      " 28%|██▊       | 84/305 [48:46<3:04:48, 50.18s/it]"
     ]
    },
    {
     "name": "stdout",
     "output_type": "stream",
     "text": [
      "Command '['fanficfare', 'https://www.wattpad.com/story/206627892-the-words', '--format=txt']' returned non-zero exit status 1.\n"
     ]
    },
    {
     "name": "stderr",
     "output_type": "stream",
     "text": [
      "\r",
      " 27%|██▋       | 81/305 [48:46<1:32:08, 24.68s/it]"
     ]
    },
    {
     "name": "stdout",
     "output_type": "stream",
     "text": [
      "Command '['fanficfare', 'https://www.wattpad.com/story/168428381-og-tikah%27s-talk', '--format=txt']' returned non-zero exit status 1.\n"
     ]
    },
    {
     "name": "stderr",
     "output_type": "stream",
     "text": [
      "\r",
      " 22%|██▏       | 67/305 [48:46<1:49:49, 27.69s/it]"
     ]
    },
    {
     "name": "stdout",
     "output_type": "stream",
     "text": [
      "Command '['fanficfare', 'https://www.wattpad.com/story/70959793-nesia%27s-journal', '--format=txt']' returned non-zero exit status 1.\n"
     ]
    },
    {
     "name": "stderr",
     "output_type": "stream",
     "text": [
      " 29%|██▊       | 87/305 [48:46<1:45:44, 29.10s/it]"
     ]
    },
    {
     "name": "stdout",
     "output_type": "stream",
     "text": [
      "Command '['fanficfare', 'https://www.wattpad.com/story/203655482-putri-part-1', '--format=txt']' returned non-zero exit status 1.\n"
     ]
    },
    {
     "name": "stderr",
     "output_type": "stream",
     "text": [
      " 26%|██▌       | 79/305 [48:47<1:11:24, 18.96s/it]]"
     ]
    },
    {
     "name": "stdout",
     "output_type": "stream",
     "text": [
      "Command '['fanficfare', 'https://www.wattpad.com/story/209039655-stok-cerpen', '--format=txt']' returned non-zero exit status 1.\n"
     ]
    },
    {
     "name": "stderr",
     "output_type": "stream",
     "text": [
      "\r",
      " 32%|███▏      | 98/305 [48:47<1:36:05, 27.85s/it]"
     ]
    },
    {
     "name": "stdout",
     "output_type": "stream",
     "text": [
      "Command '['fanficfare', 'https://www.wattpad.com/story/34033583-stories-from-home', '--format=txt']' returned non-zero exit status 1.\n"
     ]
    },
    {
     "name": "stderr",
     "output_type": "stream",
     "text": [
      "\r",
      " 26%|██▌       | 78/305 [48:47<2:21:05, 37.29s/it]"
     ]
    },
    {
     "name": "stdout",
     "output_type": "stream",
     "text": [
      "Command '['fanficfare', 'https://www.wattpad.com/story/182548561-photobook-mira-filzah', '--format=txt']' returned non-zero exit status 1.\n"
     ]
    },
    {
     "name": "stderr",
     "output_type": "stream",
     "text": [
      "\r",
      " 29%|██▉       | 88/305 [48:47<2:20:55, 38.96s/it]"
     ]
    },
    {
     "name": "stdout",
     "output_type": "stream",
     "text": [
      "Command '['fanficfare', 'https://www.wattpad.com/story/191599185-a-piece-of-cake', '--format=txt']' returned non-zero exit status 1.\n"
     ]
    },
    {
     "name": "stderr",
     "output_type": "stream",
     "text": [
      "\r",
      " 28%|██▊       | 85/305 [48:47<2:46:37, 45.44s/it]"
     ]
    },
    {
     "name": "stdout",
     "output_type": "stream",
     "text": [
      "Command '['fanficfare', 'https://www.wattpad.com/story/114498689-teroris-i-love-you', '--format=txt']' returned non-zero exit status 1.\n"
     ]
    },
    {
     "name": "stderr",
     "output_type": "stream",
     "text": [
      "\r",
      " 29%|██▊       | 87/305 [48:47<2:39:44, 43.96s/it]"
     ]
    },
    {
     "name": "stdout",
     "output_type": "stream",
     "text": [
      "Command '['fanficfare', 'https://www.wattpad.com/story/170409563-buntu-menggila', '--format=txt']' returned non-zero exit status 1.\n"
     ]
    },
    {
     "name": "stderr",
     "output_type": "stream",
     "text": [
      " 32%|███▏      | 97/305 [53:53<1:30:49, 26.20s/it]]"
     ]
    },
    {
     "name": "stdout",
     "output_type": "stream",
     "text": [
      "Command '['fanficfare', 'https://www.wattpad.com/story/189778229-isteri-atas-kertas', '--format=txt']' returned non-zero exit status 1.\n"
     ]
    },
    {
     "name": "stderr",
     "output_type": "stream",
     "text": [
      "\r",
      " 30%|███       | 92/305 [53:53<2:07:04, 35.80s/it]"
     ]
    },
    {
     "name": "stdout",
     "output_type": "stream",
     "text": [
      "Command '['fanficfare', 'https://www.wattpad.com/story/203639060-renjana', '--format=txt']' returned non-zero exit status 1.\n"
     ]
    },
    {
     "name": "stderr",
     "output_type": "stream",
     "text": [
      " 34%|███▍      | 103/305 [53:54<1:18:09, 23.22s/it]"
     ]
    },
    {
     "name": "stdout",
     "output_type": "stream",
     "text": [
      "Command '['fanficfare', 'https://www.wattpad.com/story/71224081-randomness-with-male-indonesia', '--format=txt']' returned non-zero exit status 1.\n"
     ]
    },
    {
     "name": "stderr",
     "output_type": "stream",
     "text": [
      "\r",
      " 30%|██▉       | 91/305 [53:54<1:16:55, 21.57s/it]"
     ]
    },
    {
     "name": "stdout",
     "output_type": "stream",
     "text": [
      "Command '['fanficfare', 'https://www.wattpad.com/story/149961634-rumah-darah', '--format=txt']' returned non-zero exit status 1.\n"
     ]
    },
    {
     "name": "stderr",
     "output_type": "stream",
     "text": [
      "\r",
      " 32%|███▏      | 97/305 [53:54<1:33:47, 27.05s/it]"
     ]
    },
    {
     "name": "stdout",
     "output_type": "stream",
     "text": [
      "Command '['fanficfare', 'https://www.wattpad.com/story/213416082-%F0%9D%95%9E%F0%9D%95%AA-%F0%9D%95%93%F0%9D%95%92%F0%9D%95%93%F0%9D%95%AA-%F0%9D%95%99%F0%9D%95%92%F0%9D%95%A1%F0%9D%95%A1%F0%9D%95%AA-%F0%9D%95%93%F0%9D%95%9A%F0%9D%95%A3%F0%9D%95%A5%F0%9D%95%99%F0%9D%95%95%F0%9D%95%92%F0%9D%95%AA%E2%99%9B%EF%B8%8F%F0%9F%8F%B9', '--format=txt']' returned non-zero exit status 1.\n"
     ]
    },
    {
     "name": "stderr",
     "output_type": "stream",
     "text": [
      "\r",
      " 28%|██▊       | 86/305 [53:54<1:41:09, 27.71s/it]"
     ]
    },
    {
     "name": "stdout",
     "output_type": "stream",
     "text": [
      "Command '['fanficfare', 'https://www.wattpad.com/story/182354407-kata-hati', '--format=txt']' returned non-zero exit status 1.\n"
     ]
    },
    {
     "name": "stderr",
     "output_type": "stream",
     "text": [
      "\r",
      " 30%|██▉       | 90/305 [53:54<4:06:34, 68.81s/it]"
     ]
    },
    {
     "name": "stdout",
     "output_type": "stream",
     "text": [
      "Command '['fanficfare', 'https://www.wattpad.com/story/173183602-tuan-silahkan-pergi-untuk-tak-kembali', '--format=txt']' returned non-zero exit status 1.\n"
     ]
    },
    {
     "name": "stderr",
     "output_type": "stream",
     "text": [
      "\r",
      " 28%|██▊       | 84/305 [53:54<2:42:43, 44.18s/it]"
     ]
    },
    {
     "name": "stdout",
     "output_type": "stream",
     "text": [
      "Command '['fanficfare', 'https://www.wattpad.com/story/93110063-our-sweet-dreams', '--format=txt']' returned non-zero exit status 1.\n"
     ]
    },
    {
     "name": "stderr",
     "output_type": "stream",
     "text": [
      "\r",
      " 30%|███       | 92/305 [53:54<1:53:40, 32.02s/it]"
     ]
    },
    {
     "name": "stdout",
     "output_type": "stream",
     "text": [
      "Command '['fanficfare', 'https://www.wattpad.com/story/130685075-o-g-suami-dari-syurga-j-j-k', '--format=txt']' returned non-zero exit status 1.\n"
     ]
    },
    {
     "name": "stderr",
     "output_type": "stream",
     "text": [
      "\r",
      " 29%|██▉       | 89/305 [53:55<2:18:01, 38.34s/it]"
     ]
    },
    {
     "name": "stdout",
     "output_type": "stream",
     "text": [
      "Command '['fanficfare', 'https://www.wattpad.com/story/109585673-our-love', '--format=txt']' returned non-zero exit status 1.\n"
     ]
    },
    {
     "name": "stderr",
     "output_type": "stream",
     "text": [
      " 29%|██▉       | 89/305 [53:55<1:00:27, 16.80s/it]"
     ]
    },
    {
     "name": "stdout",
     "output_type": "stream",
     "text": [
      "Command '['fanficfare', 'https://www.wattpad.com/story/124276399-deeper-black-poetry-random-thoughts', '--format=txt']' returned non-zero exit status 1.\n"
     ]
    },
    {
     "name": "stderr",
     "output_type": "stream",
     "text": [
      "\r",
      " 30%|███       | 93/305 [53:55<3:14:14, 54.97s/it]"
     ]
    },
    {
     "name": "stdout",
     "output_type": "stream",
     "text": [
      "Command '['fanficfare', 'https://www.wattpad.com/story/96892424-galeri-kata-kata', '--format=txt']' returned non-zero exit status 1.\n"
     ]
    },
    {
     "name": "stderr",
     "output_type": "stream",
     "text": [
      " 28%|██▊       | 86/305 [53:55<1:44:20, 28.59s/it]"
     ]
    },
    {
     "name": "stdout",
     "output_type": "stream",
     "text": [
      "Command '['fanficfare', 'https://www.wattpad.com/story/145448699-notes-of-life-for-better-or-worse', '--format=txt']' returned non-zero exit status 1.\n"
     ]
    },
    {
     "name": "stderr",
     "output_type": "stream",
     "text": [
      "\r",
      " 28%|██▊       | 86/305 [53:55<3:48:26, 62.59s/it]"
     ]
    },
    {
     "name": "stdout",
     "output_type": "stream",
     "text": [
      "Command '['fanficfare', 'https://www.wattpad.com/story/213089432-ayden-azalea', '--format=txt']' returned non-zero exit status 1.\n"
     ]
    },
    {
     "name": "stderr",
     "output_type": "stream",
     "text": [
      "\r",
      " 36%|███▌      | 109/305 [53:55<1:49:10, 33.42s/it]"
     ]
    },
    {
     "name": "stdout",
     "output_type": "stream",
     "text": [
      "Command '['fanficfare', 'https://www.wattpad.com/story/183553132-ayah', '--format=txt']' returned non-zero exit status 1.\n"
     ]
    },
    {
     "name": "stderr",
     "output_type": "stream",
     "text": [
      "\r",
      " 25%|██▍       | 76/305 [53:55<1:43:07, 27.02s/it]"
     ]
    },
    {
     "name": "stdout",
     "output_type": "stream",
     "text": [
      "Command '['fanficfare', 'https://www.wattpad.com/story/138478701-catatan-novia', '--format=txt']' returned non-zero exit status 1.\n"
     ]
    },
    {
     "name": "stderr",
     "output_type": "stream",
     "text": [
      "\r",
      " 31%|███       | 95/305 [53:56<2:04:07, 35.46s/it]"
     ]
    },
    {
     "name": "stdout",
     "output_type": "stream",
     "text": [
      "Command '['fanficfare', 'https://www.wattpad.com/story/139188286-loose', '--format=txt']' returned non-zero exit status 1.\n"
     ]
    },
    {
     "name": "stderr",
     "output_type": "stream",
     "text": [
      " 31%|███▏      | 96/305 [59:04<1:10:33, 20.26s/it]]"
     ]
    },
    {
     "name": "stdout",
     "output_type": "stream",
     "text": [
      "Command '['fanficfare', 'https://www.wattpad.com/story/171570417-sepi', '--format=txt']' returned non-zero exit status 1.\n",
      "Command '['fanficfare', 'https://www.wattpad.com/story/84788389-memo', '--format=txt']' returned non-zero exit status 1.\n"
     ]
    },
    {
     "name": "stderr",
     "output_type": "stream",
     "text": [
      " 35%|███▌      | 107/305 [59:26<1:26:42, 26.27s/it]"
     ]
    },
    {
     "name": "stdout",
     "output_type": "stream",
     "text": [
      "Command '['fanficfare', 'https://www.wattpad.com/story/88752025-kisah-aijou-ku-di-jepun', '--format=txt']' returned non-zero exit status 1.\n"
     ]
    },
    {
     "name": "stderr",
     "output_type": "stream",
     "text": [
      "\r",
      " 35%|███▍      | 106/305 [59:26<1:01:45, 18.62s/it]"
     ]
    },
    {
     "name": "stdout",
     "output_type": "stream",
     "text": [
      "Command '['fanficfare', 'https://www.wattpad.com/story/132491568-makian-halus-untuk-dunia', '--format=txt']' returned non-zero exit status 1.\n"
     ]
    },
    {
     "name": "stderr",
     "output_type": "stream",
     "text": [
      "\r",
      " 33%|███▎      | 102/305 [59:27<1:08:44, 20.32s/it]"
     ]
    },
    {
     "name": "stdout",
     "output_type": "stream",
     "text": [
      "Command '['fanficfare', 'https://www.wattpad.com/story/194669722-surat-untuk-smolbean%F0%9F%92%95', '--format=txt']' returned non-zero exit status 1.\n"
     ]
    },
    {
     "name": "stderr",
     "output_type": "stream",
     "text": [
      " 31%|███       | 95/305 [59:27<1:37:49, 27.95s/it]"
     ]
    },
    {
     "name": "stdout",
     "output_type": "stream",
     "text": [
      "Command '['fanficfare', 'https://www.wattpad.com/story/133792146-friend-to-jannah', '--format=txt']' returned non-zero exit status 1.\n"
     ]
    },
    {
     "name": "stderr",
     "output_type": "stream",
     "text": [
      "\r",
      " 34%|███▍      | 104/305 [59:27<2:53:56, 51.92s/it]"
     ]
    },
    {
     "name": "stdout",
     "output_type": "stream",
     "text": [
      "Command '['fanficfare', 'https://www.wattpad.com/story/183167654-dunia-anindita', '--format=txt']' returned non-zero exit status 1.\n"
     ]
    },
    {
     "name": "stderr",
     "output_type": "stream",
     "text": [
      "\r",
      " 35%|███▍      | 106/305 [59:27<1:20:11, 24.18s/it]"
     ]
    },
    {
     "name": "stdout",
     "output_type": "stream",
     "text": [
      "Command '['fanficfare', 'https://www.wattpad.com/story/175087678-love-the-other-words', '--format=txt']' returned non-zero exit status 1.\n",
      "Command '['fanficfare', 'https://www.wattpad.com/story/141612822-alternate-universe', '--format=txt']' returned non-zero exit status 1.\n",
      "Command '['fanficfare', 'https://www.wattpad.com/story/161037701-music-book', '--format=txt']' returned non-zero exit status 1.\n"
     ]
    },
    {
     "name": "stderr",
     "output_type": "stream",
     "text": [
      " 38%|███▊      | 116/305 [59:27<2:33:21, 48.68s/it]"
     ]
    },
    {
     "name": "stdout",
     "output_type": "stream",
     "text": [
      "Command '['fanficfare', 'https://www.wattpad.com/story/117885868-sunshine', '--format=txt']' returned non-zero exit status 1.\n"
     ]
    },
    {
     "name": "stderr",
     "output_type": "stream",
     "text": [
      "\r",
      " 32%|███▏      | 98/305 [59:27<2:50:10, 49.33s/it]"
     ]
    },
    {
     "name": "stdout",
     "output_type": "stream",
     "text": [
      "Command '['fanficfare', 'https://www.wattpad.com/story/130946358-dia-dia-kekasih-halalku-hiatus', '--format=txt']' returned non-zero exit status 1.\n"
     ]
    },
    {
     "name": "stderr",
     "output_type": "stream",
     "text": [
      "\r",
      " 36%|███▌      | 109/305 [59:28<3:18:13, 60.68s/it]"
     ]
    },
    {
     "name": "stdout",
     "output_type": "stream",
     "text": [
      "Command '['fanficfare', 'https://www.wattpad.com/story/133732258-sebuah-rasa', '--format=txt']' returned non-zero exit status 1.\n"
     ]
    },
    {
     "name": "stderr",
     "output_type": "stream",
     "text": [
      "\r",
      " 32%|███▏      | 97/305 [59:28<2:21:15, 40.75s/it]"
     ]
    },
    {
     "name": "stdout",
     "output_type": "stream",
     "text": [
      "Command '['fanficfare', 'https://www.wattpad.com/story/177445444-ending-scene-pjm', '--format=txt']' returned non-zero exit status 1.\n"
     ]
    },
    {
     "name": "stderr",
     "output_type": "stream",
     "text": [
      "\r",
      " 30%|███       | 92/305 [59:28<3:50:04, 64.81s/it]"
     ]
    },
    {
     "name": "stdout",
     "output_type": "stream",
     "text": [
      "Command '['fanficfare', 'https://www.wattpad.com/story/150532928-quotes-of-games', '--format=txt']' returned non-zero exit status 1.\n"
     ]
    },
    {
     "name": "stderr",
     "output_type": "stream",
     "text": [
      "\r",
      " 37%|███▋      | 114/305 [59:28<1:47:16, 33.70s/it]"
     ]
    },
    {
     "name": "stdout",
     "output_type": "stream",
     "text": [
      "Command '['fanficfare', 'https://www.wattpad.com/story/85346018-feel', '--format=txt']' returned non-zero exit status 1.\n"
     ]
    },
    {
     "name": "stderr",
     "output_type": "stream",
     "text": [
      "\r",
      " 33%|███▎      | 102/305 [59:28<1:05:18, 19.30s/it]"
     ]
    },
    {
     "name": "stdout",
     "output_type": "stream",
     "text": [
      "Command '['fanficfare', 'https://www.wattpad.com/story/70281114-sajak-yang-membelenggu', '--format=txt']' returned non-zero exit status 1.\n"
     ]
    },
    {
     "name": "stderr",
     "output_type": "stream",
     "text": [
      "\r",
      " 33%|███▎      | 101/305 [59:28<1:53:02, 33.25s/it]"
     ]
    },
    {
     "name": "stdout",
     "output_type": "stream",
     "text": [
      "Command '['fanficfare', 'https://www.wattpad.com/story/132404362-hanya-rangkaian-kata', '--format=txt']' returned non-zero exit status 1.\n"
     ]
    },
    {
     "name": "stderr",
     "output_type": "stream",
     "text": [
      "\r",
      " 29%|██▊       | 87/305 [59:28<1:29:37, 24.67s/it]"
     ]
    },
    {
     "name": "stdout",
     "output_type": "stream",
     "text": [
      "Command '['fanficfare', 'https://www.wattpad.com/story/161263639-ashes-of-my-heart', '--format=txt']' returned non-zero exit status 1.\n"
     ]
    },
    {
     "name": "stderr",
     "output_type": "stream",
     "text": [
      "\r",
      " 32%|███▏      | 98/305 [59:28<1:35:45, 27.76s/it]"
     ]
    },
    {
     "name": "stdout",
     "output_type": "stream",
     "text": [
      "Command '['fanficfare', 'https://www.wattpad.com/story/174964413-kehilangan-%E2%9C%94', '--format=txt']' returned non-zero exit status 1.\n"
     ]
    },
    {
     "name": "stderr",
     "output_type": "stream",
     "text": [
      "\r",
      " 31%|███       | 95/305 [59:28<3:29:37, 59.90s/it]"
     ]
    },
    {
     "name": "stdout",
     "output_type": "stream",
     "text": [
      "Command '['fanficfare', 'https://www.wattpad.com/story/161428840-married-with-innocent-man', '--format=txt']' returned non-zero exit status 1.\n"
     ]
    },
    {
     "name": "stderr",
     "output_type": "stream",
     "text": [
      " 34%|███▍      | 104/305 [1:04:22<1:36:40, 28.86s/it]"
     ]
    },
    {
     "name": "stdout",
     "output_type": "stream",
     "text": [
      "Command '['fanficfare', 'https://www.wattpad.com/story/189541543-alika', '--format=txt']' returned non-zero exit status 1.\n"
     ]
    },
    {
     "name": "stderr",
     "output_type": "stream",
     "text": [
      "\r",
      " 36%|███▌      | 109/305 [1:04:44<1:56:23, 35.63s/it]"
     ]
    },
    {
     "name": "stdout",
     "output_type": "stream",
     "text": [
      "Command '['fanficfare', 'https://www.wattpad.com/story/202289895-comrades-forever', '--format=txt']' returned non-zero exit status 1.\n"
     ]
    },
    {
     "name": "stderr",
     "output_type": "stream",
     "text": [
      "\r",
      " 35%|███▌      | 107/305 [1:04:44<1:50:59, 33.63s/it]"
     ]
    },
    {
     "name": "stdout",
     "output_type": "stream",
     "text": [
      "Command '['fanficfare', 'https://www.wattpad.com/story/166514629-rainy-night', '--format=txt']' returned non-zero exit status 1.\n"
     ]
    },
    {
     "name": "stderr",
     "output_type": "stream",
     "text": [
      "\r",
      " 34%|███▍      | 105/305 [1:04:44<1:35:25, 28.63s/it]"
     ]
    },
    {
     "name": "stdout",
     "output_type": "stream",
     "text": [
      "Command '['fanficfare', 'https://www.wattpad.com/story/19772744-cunning-love', '--format=txt']' returned non-zero exit status 1.\n"
     ]
    },
    {
     "name": "stderr",
     "output_type": "stream",
     "text": [
      " 39%|███▊      | 118/305 [1:04:45<59:55, 19.23s/it]t]"
     ]
    },
    {
     "name": "stdout",
     "output_type": "stream",
     "text": [
      "Command '['fanficfare', 'https://www.wattpad.com/story/177225045-melankolia-senja-complete', '--format=txt']' returned non-zero exit status 1.\n"
     ]
    },
    {
     "name": "stderr",
     "output_type": "stream",
     "text": [
      "\r",
      " 37%|███▋      | 113/305 [1:04:45<2:09:49, 40.57s/it]"
     ]
    },
    {
     "name": "stdout",
     "output_type": "stream",
     "text": [
      "Command '['fanficfare', 'https://www.wattpad.com/story/116503872-renjana', '--format=txt']' returned non-zero exit status 1.\n"
     ]
    },
    {
     "name": "stderr",
     "output_type": "stream",
     "text": [
      "\r",
      " 36%|███▌      | 110/305 [1:04:45<1:59:01, 36.62s/it]"
     ]
    },
    {
     "name": "stdout",
     "output_type": "stream",
     "text": [
      "Command '['fanficfare', 'https://www.wattpad.com/story/97302940-cool-%E2%80%A2-pcy', '--format=txt']' returned non-zero exit status 1.\n"
     ]
    },
    {
     "name": "stderr",
     "output_type": "stream",
     "text": [
      "\r",
      " 37%|███▋      | 112/305 [1:04:45<1:51:40, 34.72s/it]"
     ]
    },
    {
     "name": "stdout",
     "output_type": "stream",
     "text": [
      "Command '['fanficfare', 'https://www.wattpad.com/story/108411550-pecahan-kaca', '--format=txt']' returned non-zero exit status 1.\n"
     ]
    },
    {
     "name": "stderr",
     "output_type": "stream",
     "text": [
      "\r",
      " 34%|███▍      | 105/305 [1:04:45<1:17:12, 23.16s/it]"
     ]
    },
    {
     "name": "stdout",
     "output_type": "stream",
     "text": [
      "Command '['fanficfare', 'https://www.wattpad.com/story/184151708-hampa', '--format=txt']' returned non-zero exit status 1.\n"
     ]
    },
    {
     "name": "stderr",
     "output_type": "stream",
     "text": [
      "\r",
      " 40%|████      | 122/305 [1:04:45<1:45:51, 34.71s/it]"
     ]
    },
    {
     "name": "stdout",
     "output_type": "stream",
     "text": [
      "Command '['fanficfare', 'https://www.wattpad.com/story/58178204-lemonade', '--format=txt']' returned non-zero exit status 1.\n"
     ]
    },
    {
     "name": "stderr",
     "output_type": "stream",
     "text": [
      "\r",
      " 37%|███▋      | 113/305 [1:04:45<2:28:15, 46.33s/it]"
     ]
    },
    {
     "name": "stdout",
     "output_type": "stream",
     "text": [
      "Command '['fanficfare', 'https://www.wattpad.com/story/173016435-amplop-dan-prangko', '--format=txt']' returned non-zero exit status 1.\n"
     ]
    },
    {
     "name": "stderr",
     "output_type": "stream",
     "text": [
      "\r",
      " 34%|███▍      | 103/305 [1:04:45<1:29:49, 26.68s/it]"
     ]
    },
    {
     "name": "stdout",
     "output_type": "stream",
     "text": [
      "Command '['fanficfare', 'https://www.wattpad.com/story/165566661-tak-bertuan', '--format=txt']' returned non-zero exit status 1.\n"
     ]
    },
    {
     "name": "stderr",
     "output_type": "stream",
     "text": [
      "\r",
      " 38%|███▊      | 115/305 [1:04:45<1:27:37, 27.67s/it]"
     ]
    },
    {
     "name": "stdout",
     "output_type": "stream",
     "text": [
      "Command '['fanficfare', 'https://www.wattpad.com/story/68181832-about-friend', '--format=txt']' returned non-zero exit status 1.\n"
     ]
    },
    {
     "name": "stderr",
     "output_type": "stream",
     "text": [
      "\r",
      " 34%|███▍      | 103/305 [1:04:45<2:47:30, 49.76s/it]"
     ]
    },
    {
     "name": "stdout",
     "output_type": "stream",
     "text": [
      "Command '['fanficfare', 'https://www.wattpad.com/story/77783853-malaysia%27s-randomness', '--format=txt']' returned non-zero exit status 1.\n"
     ]
    },
    {
     "name": "stderr",
     "output_type": "stream",
     "text": [
      " 35%|███▌      | 107/305 [1:04:46<1:14:36, 22.61s/it]"
     ]
    },
    {
     "name": "stdout",
     "output_type": "stream",
     "text": [
      "Command '['fanficfare', 'https://www.wattpad.com/story/138990706-in-the-name-of-friendship-a-bilingual-novel-~', '--format=txt']' returned non-zero exit status 1.\n"
     ]
    },
    {
     "name": "stderr",
     "output_type": "stream",
     "text": [
      "\r",
      " 32%|███▏      | 99/305 [1:04:46<2:49:23, 49.34s/it]"
     ]
    },
    {
     "name": "stdout",
     "output_type": "stream",
     "text": [
      "Command '['fanficfare', 'https://www.wattpad.com/story/157687406-hanya-sebatas-kata', '--format=txt']' returned non-zero exit status 1.\n"
     ]
    },
    {
     "name": "stderr",
     "output_type": "stream",
     "text": [
      "\r",
      " 35%|███▍      | 106/305 [1:04:46<2:07:04, 38.31s/it]"
     ]
    },
    {
     "name": "stdout",
     "output_type": "stream",
     "text": [
      "Command '['fanficfare', 'https://www.wattpad.com/story/150665179-safia', '--format=txt']' returned non-zero exit status 1.\n"
     ]
    },
    {
     "name": "stderr",
     "output_type": "stream",
     "text": [
      "\r",
      " 40%|████      | 122/305 [1:04:46<53:42, 17.61s/it]"
     ]
    },
    {
     "name": "stdout",
     "output_type": "stream",
     "text": [
      "Command '['fanficfare', 'https://www.wattpad.com/story/166378912-kita-dalam-aksara', '--format=txt']' returned non-zero exit status 1.\n"
     ]
    },
    {
     "name": "stderr",
     "output_type": "stream",
     "text": [
      "\r",
      " 33%|███▎      | 101/305 [1:04:46<2:02:18, 35.97s/it]"
     ]
    },
    {
     "name": "stdout",
     "output_type": "stream",
     "text": [
      "Command '['fanficfare', 'https://www.wattpad.com/story/117970859-be-my-only-farieysha', '--format=txt']' returned non-zero exit status 1.\n"
     ]
    },
    {
     "name": "stderr",
     "output_type": "stream",
     "text": [
      "\r",
      " 35%|███▌      | 107/305 [1:04:46<1:03:04, 19.11s/it]"
     ]
    },
    {
     "name": "stdout",
     "output_type": "stream",
     "text": [
      "Command '['fanficfare', 'https://www.wattpad.com/story/96548074-hanya-sekadar-kata', '--format=txt']' returned non-zero exit status 1.\n"
     ]
    },
    {
     "name": "stderr",
     "output_type": "stream",
     "text": [
      " 36%|███▋      | 111/305 [1:09:33<1:24:13, 26.05s/it]"
     ]
    },
    {
     "name": "stdout",
     "output_type": "stream",
     "text": [
      "Command '['fanficfare', 'https://www.wattpad.com/story/170023865-candu-kata', '--format=txt']' returned non-zero exit status 1.\n"
     ]
    },
    {
     "name": "stderr",
     "output_type": "stream",
     "text": [
      "\r",
      " 45%|████▍     | 136/305 [1:09:54<1:54:48, 40.76s/it]"
     ]
    },
    {
     "name": "stdout",
     "output_type": "stream",
     "text": [
      "Command '['fanficfare', 'https://www.wattpad.com/story/95322770-lelaki-terakhir', '--format=txt']' returned non-zero exit status 1.\n"
     ]
    },
    {
     "name": "stderr",
     "output_type": "stream",
     "text": [
      "\r",
      " 37%|███▋      | 114/305 [1:09:54<2:50:07, 53.44s/it]"
     ]
    },
    {
     "name": "stdout",
     "output_type": "stream",
     "text": [
      "Command '['fanficfare', 'https://www.wattpad.com/story/136342409-claxxone', '--format=txt']' returned non-zero exit status 1.\n"
     ]
    },
    {
     "name": "stderr",
     "output_type": "stream",
     "text": [
      "\r",
      " 36%|███▌      | 109/305 [1:09:54<1:58:54, 36.40s/it]"
     ]
    },
    {
     "name": "stdout",
     "output_type": "stream",
     "text": [
      "Command '['fanficfare', 'https://www.wattpad.com/story/188244984-quotes-remaja', '--format=txt']' returned non-zero exit status 1.\n"
     ]
    },
    {
     "name": "stderr",
     "output_type": "stream",
     "text": [
      "\r",
      " 35%|███▌      | 107/305 [1:09:54<2:06:00, 38.19s/it]"
     ]
    },
    {
     "name": "stdout",
     "output_type": "stream",
     "text": [
      "Command '['fanficfare', 'https://www.wattpad.com/story/91656107-short-ghost-stories', '--format=txt']' returned non-zero exit status 1.\n"
     ]
    },
    {
     "name": "stderr",
     "output_type": "stream",
     "text": [
      "\r",
      " 36%|███▋      | 111/305 [1:09:54<3:20:11, 61.91s/it]"
     ]
    },
    {
     "name": "stdout",
     "output_type": "stream",
     "text": [
      "Command '['fanficfare', 'https://www.wattpad.com/story/188409575-love-in-disappointment-end', '--format=txt']' returned non-zero exit status 1.\n"
     ]
    },
    {
     "name": "stderr",
     "output_type": "stream",
     "text": [
      "\r",
      " 38%|███▊      | 116/305 [1:09:54<2:52:47, 54.86s/it]"
     ]
    },
    {
     "name": "stdout",
     "output_type": "stream",
     "text": [
      "Command '['fanficfare', 'https://www.wattpad.com/story/163607956-bersandarlah-kata-kata', '--format=txt']' returned non-zero exit status 1.\n"
     ]
    },
    {
     "name": "stderr",
     "output_type": "stream",
     "text": [
      "\r",
      " 36%|███▌      | 110/305 [1:09:54<3:17:46, 60.85s/it]"
     ]
    },
    {
     "name": "stdout",
     "output_type": "stream",
     "text": [
      "Command '['fanficfare', 'https://www.wattpad.com/story/213305317-kumpulan-puisi', '--format=txt']' returned non-zero exit status 1.\n"
     ]
    },
    {
     "name": "stderr",
     "output_type": "stream",
     "text": [
      "\r",
      " 38%|███▊      | 117/305 [1:09:54<1:05:18, 20.85s/it]"
     ]
    },
    {
     "name": "stdout",
     "output_type": "stream",
     "text": [
      "Command '['fanficfare', 'https://www.wattpad.com/story/122789964-luefiy-ong-seongwoo-wanna-one-malay', '--format=txt']' returned non-zero exit status 1.\n"
     ]
    },
    {
     "name": "stderr",
     "output_type": "stream",
     "text": [
      "\r",
      " 41%|████      | 125/305 [1:09:55<2:00:11, 40.06s/it]"
     ]
    },
    {
     "name": "stdout",
     "output_type": "stream",
     "text": [
      "Command '['fanficfare', 'https://www.wattpad.com/story/185811068-and-then-i-met-you-on-going', '--format=txt']' returned non-zero exit status 1.\n"
     ]
    },
    {
     "name": "stderr",
     "output_type": "stream",
     "text": [
      "\r",
      " 39%|███▊      | 118/305 [1:09:55<2:00:03, 38.52s/it]"
     ]
    },
    {
     "name": "stdout",
     "output_type": "stream",
     "text": [
      "Command '['fanficfare', 'https://www.wattpad.com/story/162426508-abandoned-heart', '--format=txt']' returned non-zero exit status 1.\n"
     ]
    },
    {
     "name": "stderr",
     "output_type": "stream",
     "text": [
      "\r",
      " 38%|███▊      | 115/305 [1:09:55<1:36:23, 30.44s/it]"
     ]
    },
    {
     "name": "stdout",
     "output_type": "stream",
     "text": [
      "Command '['fanficfare', 'https://www.wattpad.com/story/61225243-bts-imagines', '--format=txt']' returned non-zero exit status 1.\n"
     ]
    },
    {
     "name": "stderr",
     "output_type": "stream",
     "text": [
      "\r",
      " 41%|████      | 125/305 [1:09:55<59:21, 19.79s/it]"
     ]
    },
    {
     "name": "stdout",
     "output_type": "stream",
     "text": [
      "Command '['fanficfare', 'https://www.wattpad.com/story/97493323-man-from-the-sky', '--format=txt']' returned non-zero exit status 1.\n"
     ]
    },
    {
     "name": "stderr",
     "output_type": "stream",
     "text": [
      " 43%|████▎     | 130/305 [1:09:55<1:25:18, 29.25s/it]"
     ]
    },
    {
     "name": "stdout",
     "output_type": "stream",
     "text": [
      "Command '['fanficfare', 'https://www.wattpad.com/story/190777540-aksara-tak-bermakna', '--format=txt']' returned non-zero exit status 1.\n"
     ]
    },
    {
     "name": "stderr",
     "output_type": "stream",
     "text": [
      "\r",
      " 37%|███▋      | 112/305 [1:09:55<2:11:01, 40.73s/it]"
     ]
    },
    {
     "name": "stdout",
     "output_type": "stream",
     "text": [
      "Command '['fanficfare', 'https://www.wattpad.com/story/150882280-untaian-puisi-ku', '--format=txt']' returned non-zero exit status 1.\n"
     ]
    },
    {
     "name": "stderr",
     "output_type": "stream",
     "text": [
      "\r",
      " 37%|███▋      | 114/305 [1:09:55<2:25:02, 45.56s/it]"
     ]
    },
    {
     "name": "stdout",
     "output_type": "stream",
     "text": [
      "Command '['fanficfare', 'https://www.wattpad.com/story/97377663-air-mata-pengakuan-complete', '--format=txt']' returned non-zero exit status 1.\n"
     ]
    },
    {
     "name": "stderr",
     "output_type": "stream",
     "text": [
      "\r",
      " 38%|███▊      | 117/305 [1:09:56<1:17:34, 24.76s/it]"
     ]
    },
    {
     "name": "stdout",
     "output_type": "stream",
     "text": [
      "Command '['fanficfare', 'https://www.wattpad.com/story/193323585-lingkar-satu', '--format=txt']' returned non-zero exit status 1.\n"
     ]
    },
    {
     "name": "stderr",
     "output_type": "stream",
     "text": [
      " 41%|████      | 124/305 [1:14:42<1:16:10, 25.25s/it]"
     ]
    },
    {
     "name": "stdout",
     "output_type": "stream",
     "text": [
      "Command '['fanficfare', 'https://www.wattpad.com/story/47210825-serendipity', '--format=txt']' returned non-zero exit status 1.\n"
     ]
    },
    {
     "name": "stderr",
     "output_type": "stream",
     "text": [
      "\r",
      " 38%|███▊      | 117/305 [1:15:02<3:07:25, 59.82s/it]"
     ]
    },
    {
     "name": "stdout",
     "output_type": "stream",
     "text": [
      "Command '['fanficfare', 'https://www.wattpad.com/story/98345035-covers-compilation-random', '--format=txt']' returned non-zero exit status 1.\n"
     ]
    },
    {
     "name": "stderr",
     "output_type": "stream",
     "text": [
      "\r",
      " 43%|████▎     | 130/305 [1:15:03<3:19:58, 68.56s/it]"
     ]
    },
    {
     "name": "stdout",
     "output_type": "stream",
     "text": [
      "Command '['fanficfare', 'https://www.wattpad.com/story/164084271-magical-association-of-shamans-mas', '--format=txt']' returned non-zero exit status 1.\n"
     ]
    },
    {
     "name": "stderr",
     "output_type": "stream",
     "text": [
      "\r",
      " 38%|███▊      | 117/305 [1:15:03<1:57:54, 37.63s/it]"
     ]
    },
    {
     "name": "stdout",
     "output_type": "stream",
     "text": [
      "Command '['fanficfare', 'https://www.wattpad.com/story/188708860-melangkah-dalam-cinta-berbahaya', '--format=txt']' returned non-zero exit status 1.\n"
     ]
    },
    {
     "name": "stderr",
     "output_type": "stream",
     "text": [
      "\r",
      " 38%|███▊      | 115/305 [1:15:03<2:44:34, 51.97s/it]"
     ]
    },
    {
     "name": "stdout",
     "output_type": "stream",
     "text": [
      "Command '['fanficfare', 'https://www.wattpad.com/story/210499003-our-story', '--format=txt']' returned non-zero exit status 1.\n"
     ]
    },
    {
     "name": "stderr",
     "output_type": "stream",
     "text": [
      "\r",
      " 44%|████▍     | 135/305 [1:15:03<1:04:17, 22.69s/it]"
     ]
    },
    {
     "name": "stdout",
     "output_type": "stream",
     "text": [
      "Command '['fanficfare', 'https://www.wattpad.com/story/131144740-iris-nur%27s', '--format=txt']' returned non-zero exit status 1.\n"
     ]
    },
    {
     "name": "stderr",
     "output_type": "stream",
     "text": [
      "\r",
      " 43%|████▎     | 130/305 [1:15:03<53:11, 18.24s/it]"
     ]
    },
    {
     "name": "stdout",
     "output_type": "stream",
     "text": [
      "Command '['fanficfare', 'https://www.wattpad.com/story/155039991-aku', '--format=txt']' returned non-zero exit status 1.\n"
     ]
    },
    {
     "name": "stderr",
     "output_type": "stream",
     "text": [
      "\r",
      " 43%|████▎     | 132/305 [1:15:03<1:55:39, 40.11s/it]"
     ]
    },
    {
     "name": "stdout",
     "output_type": "stream",
     "text": [
      "Command '['fanficfare', 'https://www.wattpad.com/story/199219656-red-blue%27s', '--format=txt']' returned non-zero exit status 1.\n"
     ]
    },
    {
     "name": "stderr",
     "output_type": "stream",
     "text": [
      "\r",
      " 41%|████      | 125/305 [1:15:03<2:06:27, 42.15s/it]"
     ]
    },
    {
     "name": "stdout",
     "output_type": "stream",
     "text": [
      "Command '['fanficfare', 'https://www.wattpad.com/story/191241381-between-kata-or-hati', '--format=txt']' returned non-zero exit status 1.\n"
     ]
    },
    {
     "name": "stderr",
     "output_type": "stream",
     "text": [
      "\r",
      " 46%|████▌     | 139/305 [1:15:04<2:09:47, 46.91s/it]"
     ]
    },
    {
     "name": "stdout",
     "output_type": "stream",
     "text": [
      "Command '['fanficfare', 'https://www.wattpad.com/story/118638698-secret-for-you', '--format=txt']' returned non-zero exit status 1.\n"
     ]
    },
    {
     "name": "stderr",
     "output_type": "stream",
     "text": [
      "\r",
      " 44%|████▍     | 134/305 [1:15:04<52:50, 18.54s/it]"
     ]
    },
    {
     "name": "stdout",
     "output_type": "stream",
     "text": [
      "Command '['fanficfare', 'https://www.wattpad.com/story/154095637-katakukatakan', '--format=txt']' returned non-zero exit status 1.\n"
     ]
    },
    {
     "name": "stderr",
     "output_type": "stream",
     "text": [
      "\r",
      " 41%|████      | 124/305 [1:15:04<54:03, 17.92s/it]"
     ]
    },
    {
     "name": "stdout",
     "output_type": "stream",
     "text": [
      "Command '['fanficfare', 'https://www.wattpad.com/story/203956388-rahara', '--format=txt']' returned non-zero exit status 1.\n"
     ]
    },
    {
     "name": "stderr",
     "output_type": "stream",
     "text": [
      "\r",
      " 41%|████▏     | 126/305 [1:15:04<1:24:12, 28.23s/it]"
     ]
    },
    {
     "name": "stdout",
     "output_type": "stream",
     "text": [
      "Command '['fanficfare', 'https://www.wattpad.com/story/167387254-teruntuk-seseorang', '--format=txt']' returned non-zero exit status 1.\n"
     ]
    },
    {
     "name": "stderr",
     "output_type": "stream",
     "text": [
      "\r",
      " 40%|████      | 122/305 [1:15:04<1:57:00, 38.36s/it]"
     ]
    },
    {
     "name": "stdout",
     "output_type": "stream",
     "text": [
      "Command '['fanficfare', 'https://www.wattpad.com/story/167958837-h-ex-crush-ft-jjk', '--format=txt']' returned non-zero exit status 1.\n",
      "Command '['fanficfare', 'https://www.wattpad.com/story/162955835-tintaku-pudar', '--format=txt']' returned non-zero exit status 1.\n"
     ]
    },
    {
     "name": "stderr",
     "output_type": "stream",
     "text": [
      " 40%|████      | 123/305 [1:15:04<2:08:15, 42.28s/it]"
     ]
    },
    {
     "name": "stdout",
     "output_type": "stream",
     "text": [
      "Command '['fanficfare', 'https://www.wattpad.com/story/167655573-hujan-dalam-rindu', '--format=txt']' returned non-zero exit status 1.\n"
     ]
    },
    {
     "name": "stderr",
     "output_type": "stream",
     "text": [
      "\r",
      " 38%|███▊      | 117/305 [1:15:04<3:02:41, 58.31s/it]"
     ]
    },
    {
     "name": "stdout",
     "output_type": "stream",
     "text": [
      "Command '['fanficfare', 'https://www.wattpad.com/story/50128358-projek-sampah', '--format=txt']' returned non-zero exit status 1.\n"
     ]
    },
    {
     "name": "stderr",
     "output_type": "stream",
     "text": [
      "\r",
      " 42%|████▏     | 127/305 [1:15:04<2:16:04, 45.87s/it]"
     ]
    },
    {
     "name": "stdout",
     "output_type": "stream",
     "text": [
      "Command '['fanficfare', 'https://www.wattpad.com/story/207807511-sayang-aku-tak-in-updating', '--format=txt']' returned non-zero exit status 1.\n"
     ]
    },
    {
     "name": "stderr",
     "output_type": "stream",
     "text": [
      "\r",
      " 41%|████▏     | 126/305 [1:15:04<1:59:18, 39.99s/it]"
     ]
    },
    {
     "name": "stdout",
     "output_type": "stream",
     "text": [
      "Command '['fanficfare', 'https://www.wattpad.com/story/137267364-pertemuan', '--format=txt']' returned non-zero exit status 1.\n"
     ]
    },
    {
     "name": "stderr",
     "output_type": "stream",
     "text": [
      "\r",
      " 40%|███▉      | 121/305 [1:15:04<2:20:51, 45.93s/it]"
     ]
    },
    {
     "name": "stdout",
     "output_type": "stream",
     "text": [
      "Command '['fanficfare', 'https://www.wattpad.com/story/167659005-dalam-lipatan-origami-kumpulan-cerita-singkat-oleh', '--format=txt']' returned non-zero exit status 1.\n"
     ]
    },
    {
     "name": "stderr",
     "output_type": "stream",
     "text": [
      "\r",
      " 40%|████      | 123/305 [1:15:04<1:40:50, 33.24s/it]"
     ]
    },
    {
     "name": "stdout",
     "output_type": "stream",
     "text": [
      "Command '['fanficfare', 'https://www.wattpad.com/story/209498747-oneshoot-wattpadesurd', '--format=txt']' returned non-zero exit status 1.\n"
     ]
    },
    {
     "name": "stderr",
     "output_type": "stream",
     "text": [
      "\r",
      " 45%|████▍     | 137/305 [1:15:05<1:44:46, 37.42s/it]"
     ]
    },
    {
     "name": "stdout",
     "output_type": "stream",
     "text": [
      "Command '['fanficfare', 'https://www.wattpad.com/story/184859713-ukiran-jiwa-dari-puncak-ingin-ke-angkasa', '--format=txt']' returned non-zero exit status 1.\n"
     ]
    },
    {
     "name": "stderr",
     "output_type": "stream",
     "text": [
      "\r",
      " 38%|███▊      | 115/305 [1:15:05<2:00:29, 38.05s/it]"
     ]
    },
    {
     "name": "stdout",
     "output_type": "stream",
     "text": [
      "Command '['fanficfare', 'https://www.wattpad.com/story/203042326-cinta-tanpa-diduga', '--format=txt']' returned non-zero exit status 1.\n"
     ]
    },
    {
     "name": "stderr",
     "output_type": "stream",
     "text": [
      " 41%|████▏     | 126/305 [1:20:03<1:12:36, 24.34s/it]"
     ]
    },
    {
     "name": "stdout",
     "output_type": "stream",
     "text": [
      "Command '['fanficfare', 'https://www.wattpad.com/story/202089926-bilur', '--format=txt']' returned non-zero exit status 1.\n"
     ]
    },
    {
     "name": "stderr",
     "output_type": "stream",
     "text": [
      "\r",
      " 43%|████▎     | 132/305 [1:20:23<2:04:52, 43.31s/it]"
     ]
    },
    {
     "name": "stdout",
     "output_type": "stream",
     "text": [
      "Command '['fanficfare', 'https://www.wattpad.com/story/150792828-ketua-kelas-itu-playboy', '--format=txt']' returned non-zero exit status 1.\n"
     ]
    },
    {
     "name": "stderr",
     "output_type": "stream",
     "text": [
      "\r",
      " 45%|████▌     | 138/305 [1:20:23<1:40:39, 36.16s/it]"
     ]
    },
    {
     "name": "stdout",
     "output_type": "stream",
     "text": [
      "Command '['fanficfare', 'https://www.wattpad.com/story/53946007-coretan-si-minda-kosong', '--format=txt']' returned non-zero exit status 1.\n"
     ]
    },
    {
     "name": "stderr",
     "output_type": "stream",
     "text": [
      "\r",
      " 44%|████▍     | 135/305 [1:20:23<1:02:26, 22.04s/it]"
     ]
    },
    {
     "name": "stdout",
     "output_type": "stream",
     "text": [
      "Command '['fanficfare', 'https://www.wattpad.com/story/58904507-midnight', '--format=txt']' returned non-zero exit status 1.\n"
     ]
    },
    {
     "name": "stderr",
     "output_type": "stream",
     "text": [
      "\r",
      " 45%|████▌     | 138/305 [1:20:23<59:31, 21.39s/it]"
     ]
    },
    {
     "name": "stdout",
     "output_type": "stream",
     "text": [
      "Command '['fanficfare', 'https://www.wattpad.com/story/150750919-chocolate', '--format=txt']' returned non-zero exit status 1.\n"
     ]
    },
    {
     "name": "stderr",
     "output_type": "stream",
     "text": [
      "\r",
      " 40%|████      | 123/305 [1:20:24<2:02:51, 40.50s/it]"
     ]
    },
    {
     "name": "stdout",
     "output_type": "stream",
     "text": [
      "Command '['fanficfare', 'https://www.wattpad.com/story/205211733-strong', '--format=txt']' returned non-zero exit status 1.\n"
     ]
    },
    {
     "name": "stderr",
     "output_type": "stream",
     "text": [
      "\r",
      " 44%|████▍     | 135/305 [1:20:24<1:35:07, 33.57s/it]"
     ]
    },
    {
     "name": "stdout",
     "output_type": "stream",
     "text": [
      "Command '['fanficfare', 'https://www.wattpad.com/story/180190257-kata-in', '--format=txt']' returned non-zero exit status 1.\n"
     ]
    },
    {
     "name": "stderr",
     "output_type": "stream",
     "text": [
      "\r",
      " 41%|████      | 124/305 [1:20:24<2:02:23, 40.57s/it]"
     ]
    },
    {
     "name": "stdout",
     "output_type": "stream",
     "text": [
      "Command '['fanficfare', 'https://www.wattpad.com/story/161964020-kata', '--format=txt']' returned non-zero exit status 1.\n"
     ]
    },
    {
     "name": "stderr",
     "output_type": "stream",
     "text": [
      "\r",
      " 42%|████▏     | 129/305 [1:20:24<2:48:02, 57.29s/it]"
     ]
    },
    {
     "name": "stdout",
     "output_type": "stream",
     "text": [
      "Command '['fanficfare', 'https://www.wattpad.com/story/151266934-kostan-membawa-cinta', '--format=txt']' returned non-zero exit status 1.\n"
     ]
    },
    {
     "name": "stderr",
     "output_type": "stream",
     "text": [
      "\r",
      " 46%|████▌     | 141/305 [1:20:24<1:23:49, 30.67s/it]"
     ]
    },
    {
     "name": "stdout",
     "output_type": "stream",
     "text": [
      "Command '['fanficfare', 'https://www.wattpad.com/story/169218459-sisi-manusiawi-si-protagonis', '--format=txt']' returned non-zero exit status 1.\n"
     ]
    },
    {
     "name": "stderr",
     "output_type": "stream",
     "text": [
      "\r",
      " 41%|████      | 125/305 [1:20:24<1:26:24, 28.80s/it]"
     ]
    },
    {
     "name": "stdout",
     "output_type": "stream",
     "text": [
      "Command '['fanficfare', 'https://www.wattpad.com/story/142535679-nota-hati', '--format=txt']' returned non-zero exit status 1.\n"
     ]
    },
    {
     "name": "stderr",
     "output_type": "stream",
     "text": [
      "\r",
      " 42%|████▏     | 128/305 [1:20:24<2:21:50, 48.08s/it]"
     ]
    },
    {
     "name": "stdout",
     "output_type": "stream",
     "text": [
      "Command '['fanficfare', 'https://www.wattpad.com/story/182290463-planet-biru', '--format=txt']' returned non-zero exit status 1.\n"
     ]
    },
    {
     "name": "stderr",
     "output_type": "stream",
     "text": [
      " 49%|████▉     | 149/305 [1:20:24<48:09, 18.52s/it]t]"
     ]
    },
    {
     "name": "stdout",
     "output_type": "stream",
     "text": [
      "Command '['fanficfare', 'https://www.wattpad.com/story/170186754-slow-update-jin-xiao-yi-tian-bl', '--format=txt']' returned non-zero exit status 1.\n"
     ]
    },
    {
     "name": "stderr",
     "output_type": "stream",
     "text": [
      "\r",
      " 45%|████▍     | 137/305 [1:20:24<2:14:52, 48.17s/it]"
     ]
    },
    {
     "name": "stdout",
     "output_type": "stream",
     "text": [
      "Command '['fanficfare', 'https://www.wattpad.com/story/134340538-aib-asmara', '--format=txt']' returned non-zero exit status 1.\n"
     ]
    },
    {
     "name": "stderr",
     "output_type": "stream",
     "text": [
      "\r",
      " 44%|████▍     | 135/305 [1:20:24<53:34, 18.91s/it]"
     ]
    },
    {
     "name": "stdout",
     "output_type": "stream",
     "text": [
      "Command '['fanficfare', 'https://www.wattpad.com/story/134605581-i-love-poem-i-love-him', '--format=txt']' returned non-zero exit status 1.\n"
     ]
    },
    {
     "name": "stderr",
     "output_type": "stream",
     "text": [
      "\r",
      " 41%|████      | 124/305 [1:20:24<2:25:46, 48.32s/it]"
     ]
    },
    {
     "name": "stdout",
     "output_type": "stream",
     "text": [
      "Command '['fanficfare', 'https://www.wattpad.com/story/122455507-nafas-air-mata', '--format=txt']' returned non-zero exit status 1.\n"
     ]
    },
    {
     "name": "stderr",
     "output_type": "stream",
     "text": [
      "\r",
      " 49%|████▊     | 148/305 [1:20:25<1:26:15, 32.96s/it]"
     ]
    },
    {
     "name": "stdout",
     "output_type": "stream",
     "text": [
      "Command '['fanficfare', 'https://www.wattpad.com/story/142527520-reabsorb', '--format=txt']' returned non-zero exit status 1.\n"
     ]
    },
    {
     "name": "stderr",
     "output_type": "stream",
     "text": [
      "\r",
      " 43%|████▎     | 131/305 [1:20:25<1:30:28, 31.20s/it]"
     ]
    },
    {
     "name": "stdout",
     "output_type": "stream",
     "text": [
      "Command '['fanficfare', 'https://www.wattpad.com/story/191397216-pelangi-di-matamu', '--format=txt']' returned non-zero exit status 1.\n"
     ]
    },
    {
     "name": "stderr",
     "output_type": "stream",
     "text": [
      "\r",
      " 50%|█████     | 153/305 [1:20:25<57:28, 22.69s/it]"
     ]
    },
    {
     "name": "stdout",
     "output_type": "stream",
     "text": [
      "Command '['fanficfare', 'https://www.wattpad.com/story/137374521-something-audacious', '--format=txt']' returned non-zero exit status 1.\n"
     ]
    },
    {
     "name": "stderr",
     "output_type": "stream",
     "text": [
      "\r",
      " 43%|████▎     | 132/305 [1:20:25<2:45:29, 57.39s/it]"
     ]
    },
    {
     "name": "stdout",
     "output_type": "stream",
     "text": [
      "Command '['fanficfare', 'https://www.wattpad.com/story/109362404-pelawat', '--format=txt']' returned non-zero exit status 1.\n"
     ]
    },
    {
     "name": "stderr",
     "output_type": "stream",
     "text": [
      "\r",
      " 43%|████▎     | 132/305 [1:20:25<1:35:47, 33.22s/it]"
     ]
    },
    {
     "name": "stdout",
     "output_type": "stream",
     "text": [
      "Command '['fanficfare', 'https://www.wattpad.com/story/138859317-menuju-cintamu', '--format=txt']' returned non-zero exit status 1.\n"
     ]
    },
    {
     "name": "stderr",
     "output_type": "stream",
     "text": [
      "\r",
      " 42%|████▏     | 128/305 [1:20:25<59:45, 20.26s/it]"
     ]
    },
    {
     "name": "stdout",
     "output_type": "stream",
     "text": [
      "Command '['fanficfare', 'https://www.wattpad.com/story/70080384-malaysia-read-magazine', '--format=txt']' returned non-zero exit status 1.\n"
     ]
    },
    {
     "name": "stderr",
     "output_type": "stream",
     "text": [
      "\r",
      " 48%|████▊     | 145/305 [1:20:25<1:13:30, 27.57s/it]"
     ]
    },
    {
     "name": "stdout",
     "output_type": "stream",
     "text": [
      "Command '['fanficfare', 'https://www.wattpad.com/story/210700767-love-story-of-olivia', '--format=txt']' returned non-zero exit status 1.\n"
     ]
    },
    {
     "name": "stderr",
     "output_type": "stream",
     "text": [
      " 45%|████▌     | 138/305 [1:25:34<2:36:54, 56.38s/it]"
     ]
    },
    {
     "name": "stdout",
     "output_type": "stream",
     "text": [
      "Command '['fanficfare', 'https://www.wattpad.com/story/173951881-w-r-i-t-e-m-y-t-h-o-u-g-h-t-s', '--format=txt']' returned non-zero exit status 1.\n"
     ]
    },
    {
     "name": "stderr",
     "output_type": "stream",
     "text": [
      "\r",
      " 47%|████▋     | 144/305 [1:25:55<51:30, 19.19s/it]"
     ]
    },
    {
     "name": "stdout",
     "output_type": "stream",
     "text": [
      "Command '['fanficfare', 'https://www.wattpad.com/story/163809827-thank-you-miss-xunji-slow-upd%2B', '--format=txt']' returned non-zero exit status 1.\n"
     ]
    },
    {
     "name": "stderr",
     "output_type": "stream",
     "text": [
      "\r",
      " 47%|████▋     | 142/305 [1:25:55<1:18:51, 29.03s/it]"
     ]
    },
    {
     "name": "stdout",
     "output_type": "stream",
     "text": [
      "Command '['fanficfare', 'https://www.wattpad.com/story/30859303-10-hours-in-seoul', '--format=txt']' returned non-zero exit status 1.\n"
     ]
    },
    {
     "name": "stderr",
     "output_type": "stream",
     "text": [
      "\r",
      " 51%|█████     | 155/305 [1:25:55<2:28:08, 59.26s/it]"
     ]
    },
    {
     "name": "stdout",
     "output_type": "stream",
     "text": [
      "Command '['fanficfare', 'https://www.wattpad.com/story/88293157-carita-calin', '--format=txt']' returned non-zero exit status 1.\n"
     ]
    },
    {
     "name": "stderr",
     "output_type": "stream",
     "text": [
      "\r",
      " 47%|████▋     | 143/305 [1:25:56<1:51:01, 41.12s/it]"
     ]
    },
    {
     "name": "stdout",
     "output_type": "stream",
     "text": [
      "Command '['fanficfare', 'https://www.wattpad.com/story/170499154-life-quotes', '--format=txt']' returned non-zero exit status 1.\n"
     ]
    },
    {
     "name": "stderr",
     "output_type": "stream",
     "text": [
      "\r",
      " 44%|████▍     | 135/305 [1:25:56<2:24:52, 51.13s/it]"
     ]
    },
    {
     "name": "stdout",
     "output_type": "stream",
     "text": [
      "Command '['fanficfare', 'https://www.wattpad.com/story/104752585-my-weird-thoughts', '--format=txt']' returned non-zero exit status 1.\n"
     ]
    },
    {
     "name": "stderr",
     "output_type": "stream",
     "text": [
      "\r",
      " 51%|█████     | 155/305 [1:25:56<1:07:26, 26.98s/it]"
     ]
    },
    {
     "name": "stdout",
     "output_type": "stream",
     "text": [
      "Command '['fanficfare', 'https://www.wattpad.com/story/187666109-ode-yang-terapkir', '--format=txt']' returned non-zero exit status 1.\n"
     ]
    },
    {
     "name": "stderr",
     "output_type": "stream",
     "text": [
      "\r",
      " 49%|████▉     | 149/305 [1:25:56<1:47:03, 41.18s/it]"
     ]
    },
    {
     "name": "stdout",
     "output_type": "stream",
     "text": [
      "Command '['fanficfare', 'https://www.wattpad.com/story/211465488-barith-can%27t-unlove-you', '--format=txt']' returned non-zero exit status 1.\n"
     ]
    },
    {
     "name": "stderr",
     "output_type": "stream",
     "text": [
      "\r",
      " 44%|████▎     | 133/305 [1:25:56<1:50:44, 38.63s/it]"
     ]
    },
    {
     "name": "stdout",
     "output_type": "stream",
     "text": [
      "Command '['fanficfare', 'https://www.wattpad.com/story/200959600-the-memories-remain', '--format=txt']' returned non-zero exit status 1.\n"
     ]
    },
    {
     "name": "stderr",
     "output_type": "stream",
     "text": [
      "\r",
      " 42%|████▏     | 129/305 [1:25:57<3:02:47, 62.32s/it]"
     ]
    },
    {
     "name": "stdout",
     "output_type": "stream",
     "text": [
      "Command '['fanficfare', 'https://www.wattpad.com/story/159645395-s-c-a-t-t-e-r-e-d-t-h-o-u-g-h-t-s', '--format=txt']' returned non-zero exit status 1.\n"
     ]
    },
    {
     "name": "stderr",
     "output_type": "stream",
     "text": [
      " 45%|████▍     | 136/305 [1:25:57<1:11:33, 25.41s/it]"
     ]
    },
    {
     "name": "stdout",
     "output_type": "stream",
     "text": [
      "Command '['fanficfare', 'https://www.wattpad.com/story/186115869-novel-canting-by-fissilmi-hamida', '--format=txt']' returned non-zero exit status 1.\n"
     ]
    },
    {
     "name": "stderr",
     "output_type": "stream",
     "text": [
      "\r",
      " 44%|████▎     | 133/305 [1:25:57<1:29:41, 31.29s/it]"
     ]
    },
    {
     "name": "stdout",
     "output_type": "stream",
     "text": [
      "Command '['fanficfare', 'https://www.wattpad.com/story/189079943-laksamana-the-rise-and-fall-of-the-kingdom-of-a', '--format=txt']' returned non-zero exit status 1.\n"
     ]
    },
    {
     "name": "stderr",
     "output_type": "stream",
     "text": [
      "\r",
      " 48%|████▊     | 145/305 [1:25:57<1:43:20, 38.75s/it]"
     ]
    },
    {
     "name": "stdout",
     "output_type": "stream",
     "text": [
      "Command '['fanficfare', 'https://www.wattpad.com/story/142836470-fan-makciks-bawang', '--format=txt']' returned non-zero exit status 1.\n"
     ]
    },
    {
     "name": "stderr",
     "output_type": "stream",
     "text": [
      "\r",
      " 48%|████▊     | 145/305 [1:25:57<2:06:04, 47.28s/it]"
     ]
    },
    {
     "name": "stdout",
     "output_type": "stream",
     "text": [
      "Command '['fanficfare', 'https://www.wattpad.com/story/79436752-puisi-kopi', '--format=txt']' returned non-zero exit status 1.\n"
     ]
    },
    {
     "name": "stderr",
     "output_type": "stream",
     "text": [
      "\r",
      " 48%|████▊     | 145/305 [1:25:57<2:02:54, 46.09s/it]"
     ]
    },
    {
     "name": "stdout",
     "output_type": "stream",
     "text": [
      "Command '['fanficfare', 'https://www.wattpad.com/story/86029372-c-playing-with-fire', '--format=txt']' returned non-zero exit status 1.\n"
     ]
    },
    {
     "name": "stderr",
     "output_type": "stream",
     "text": [
      "\r",
      " 52%|█████▏    | 158/305 [1:25:57<1:08:21, 27.90s/it]"
     ]
    },
    {
     "name": "stdout",
     "output_type": "stream",
     "text": [
      "Command '['fanficfare', 'https://www.wattpad.com/story/193326031-rekomendasi-cerita-wattpad', '--format=txt']' returned non-zero exit status 1.\n"
     ]
    },
    {
     "name": "stderr",
     "output_type": "stream",
     "text": [
      "\r",
      " 45%|████▍     | 136/305 [1:25:57<1:05:46, 23.35s/it]"
     ]
    },
    {
     "name": "stdout",
     "output_type": "stream",
     "text": [
      "Command '['fanficfare', 'https://www.wattpad.com/story/141628559-love-poison', '--format=txt']' returned non-zero exit status 1.\n"
     ]
    },
    {
     "name": "stderr",
     "output_type": "stream",
     "text": [
      "\r",
      " 45%|████▌     | 138/305 [1:25:57<1:13:46, 26.50s/it]"
     ]
    },
    {
     "name": "stdout",
     "output_type": "stream",
     "text": [
      "Command '['fanficfare', 'https://www.wattpad.com/story/109582267-puisi-hidup', '--format=txt']' returned non-zero exit status 1.\n"
     ]
    },
    {
     "name": "stderr",
     "output_type": "stream",
     "text": [
      "\r",
      " 45%|████▍     | 137/305 [1:25:57<1:04:38, 23.09s/it]"
     ]
    },
    {
     "name": "stdout",
     "output_type": "stream",
     "text": [
      "Command '['fanficfare', 'https://www.wattpad.com/story/184831056-bad-boy-love-min-yoongi-suga%E2%9C%94%EF%B8%8F', '--format=txt']' returned non-zero exit status 1.\n"
     ]
    },
    {
     "name": "stderr",
     "output_type": "stream",
     "text": [
      " 50%|█████     | 153/305 [1:30:43<1:08:25, 27.01s/it]"
     ]
    },
    {
     "name": "stdout",
     "output_type": "stream",
     "text": [
      "Command '['fanficfare', 'https://www.wattpad.com/story/116703796-the-intellects', '--format=txt']' returned non-zero exit status 1.\n"
     ]
    },
    {
     "name": "stderr",
     "output_type": "stream",
     "text": [
      "\r",
      " 51%|█████     | 156/305 [1:31:03<1:04:47, 26.09s/it]"
     ]
    },
    {
     "name": "stdout",
     "output_type": "stream",
     "text": [
      "Command '['fanficfare', 'https://www.wattpad.com/story/143265380-inner-voice', '--format=txt']' returned non-zero exit status 1.\n"
     ]
    },
    {
     "name": "stderr",
     "output_type": "stream",
     "text": [
      "\r",
      " 56%|█████▌    | 170/305 [1:31:04<1:29:43, 39.88s/it]"
     ]
    },
    {
     "name": "stdout",
     "output_type": "stream",
     "text": [
      "Command '['fanficfare', 'https://www.wattpad.com/story/108266420-the-breaker%C2%B0%E2%80%A2%E2%9C%BF%E2%80%A2%C2%B0-%D2%9Dsj', '--format=txt']' returned non-zero exit status 1.\n"
     ]
    },
    {
     "name": "stderr",
     "output_type": "stream",
     "text": [
      "\r",
      " 48%|████▊     | 145/305 [1:31:04<1:24:47, 31.80s/it]"
     ]
    },
    {
     "name": "stdout",
     "output_type": "stream",
     "text": [
      "Command '['fanficfare', 'https://www.wattpad.com/story/201600103-waritanya-kembang', '--format=txt']' returned non-zero exit status 1.\n"
     ]
    },
    {
     "name": "stderr",
     "output_type": "stream",
     "text": [
      "\r",
      " 45%|████▍     | 137/305 [1:31:04<1:39:17, 35.46s/it]"
     ]
    },
    {
     "name": "stdout",
     "output_type": "stream",
     "text": [
      "Command '['fanficfare', 'https://www.wattpad.com/story/125629632-%E2%8F%A9unreal-human%2Bbts%E2%8F%AA', '--format=txt']' returned non-zero exit status 1.\n"
     ]
    },
    {
     "name": "stderr",
     "output_type": "stream",
     "text": [
      "\r",
      " 49%|████▊     | 148/305 [1:31:04<1:15:26, 28.83s/it]"
     ]
    },
    {
     "name": "stdout",
     "output_type": "stream",
     "text": [
      "Command '['fanficfare', 'https://www.wattpad.com/story/91770624-ayat-pendek', '--format=txt']' returned non-zero exit status 1.\n"
     ]
    },
    {
     "name": "stderr",
     "output_type": "stream",
     "text": [
      " 51%|█████     | 156/305 [1:31:04<42:44, 17.21s/it]t]"
     ]
    },
    {
     "name": "stdout",
     "output_type": "stream",
     "text": [
      "Command '['fanficfare', 'https://www.wattpad.com/story/186870029-selintas-sajak', '--format=txt']' returned non-zero exit status 1.\n"
     ]
    },
    {
     "name": "stderr",
     "output_type": "stream",
     "text": [
      "\r",
      " 46%|████▌     | 140/305 [1:31:04<3:13:53, 70.51s/it]"
     ]
    },
    {
     "name": "stdout",
     "output_type": "stream",
     "text": [
      "Command '['fanficfare', 'https://www.wattpad.com/story/181213880-my-pain-my-hapiness', '--format=txt']' returned non-zero exit status 1.\n"
     ]
    },
    {
     "name": "stderr",
     "output_type": "stream",
     "text": [
      "\r",
      " 49%|████▉     | 149/305 [1:31:05<1:53:30, 43.66s/it]"
     ]
    },
    {
     "name": "stdout",
     "output_type": "stream",
     "text": [
      "Command '['fanficfare', 'https://www.wattpad.com/story/22447599-pengalih-joanne-scoot-berhenti', '--format=txt']' returned non-zero exit status 1.\n"
     ]
    },
    {
     "name": "stderr",
     "output_type": "stream",
     "text": [
      "\r",
      " 49%|████▊     | 148/305 [1:31:05<2:16:21, 52.11s/it]"
     ]
    },
    {
     "name": "stdout",
     "output_type": "stream",
     "text": [
      "Command '['fanficfare', 'https://www.wattpad.com/story/146955755-school-of-ghost-and-the-second-life-of-an-ginger', '--format=txt']' returned non-zero exit status 1.\n"
     ]
    },
    {
     "name": "stderr",
     "output_type": "stream",
     "text": [
      "\r",
      " 55%|█████▍    | 167/305 [1:31:05<1:05:00, 28.27s/it]"
     ]
    },
    {
     "name": "stdout",
     "output_type": "stream",
     "text": [
      "Command '['fanficfare', 'https://www.wattpad.com/story/172125981-the-words', '--format=txt']' returned non-zero exit status 1.\n"
     ]
    },
    {
     "name": "stderr",
     "output_type": "stream",
     "text": [
      " 53%|█████▎    | 163/305 [1:31:05<1:07:28, 28.51s/it]"
     ]
    },
    {
     "name": "stdout",
     "output_type": "stream",
     "text": [
      "Command '['fanficfare', 'https://www.wattpad.com/story/128644166-jendela', '--format=txt']' returned non-zero exit status 1.\n"
     ]
    },
    {
     "name": "stderr",
     "output_type": "stream",
     "text": [
      "\r",
      " 46%|████▌     | 139/305 [1:31:05<2:21:13, 51.05s/it]"
     ]
    },
    {
     "name": "stdout",
     "output_type": "stream",
     "text": [
      "Command '['fanficfare', 'https://www.wattpad.com/story/162444205-ketika-takdir-menentukan-completed', '--format=txt']' returned non-zero exit status 1.\n"
     ]
    },
    {
     "name": "stderr",
     "output_type": "stream",
     "text": [
      "\r",
      " 45%|████▌     | 138/305 [1:31:05<3:08:25, 67.70s/it]"
     ]
    },
    {
     "name": "stdout",
     "output_type": "stream",
     "text": [
      "Command '['fanficfare', 'https://www.wattpad.com/story/79143168-roses-thorns-poetry-%E2%9C%93', '--format=txt']' returned non-zero exit status 1.\n"
     ]
    },
    {
     "name": "stderr",
     "output_type": "stream",
     "text": [
      "\r",
      " 47%|████▋     | 142/305 [1:31:05<2:06:07, 46.42s/it]"
     ]
    },
    {
     "name": "stdout",
     "output_type": "stream",
     "text": [
      "Command '['fanficfare', 'https://www.wattpad.com/story/103463461-cuak', '--format=txt']' returned non-zero exit status 1.\n",
      "Command '['fanficfare', 'https://www.wattpad.com/story/152313109-life-of-mecy', '--format=txt']' returned non-zero exit status 1.\n"
     ]
    },
    {
     "name": "stderr",
     "output_type": "stream",
     "text": [
      " 50%|█████     | 153/305 [1:31:05<1:35:37, 37.75s/it]"
     ]
    },
    {
     "name": "stdout",
     "output_type": "stream",
     "text": [
      "Command '['fanficfare', 'https://www.wattpad.com/story/187931841-c-jikachu%2Bpjm', '--format=txt']' returned non-zero exit status 1.\n"
     ]
    },
    {
     "name": "stderr",
     "output_type": "stream",
     "text": [
      "\r",
      " 48%|████▊     | 146/305 [1:31:05<1:17:07, 29.10s/it]"
     ]
    },
    {
     "name": "stdout",
     "output_type": "stream",
     "text": [
      "Command '['fanficfare', 'https://www.wattpad.com/story/203692972-stay-close-with-you', '--format=txt']' returned non-zero exit status 1.\n"
     ]
    },
    {
     "name": "stderr",
     "output_type": "stream",
     "text": [
      "\r",
      " 50%|█████     | 154/305 [1:31:05<1:06:30, 26.43s/it]"
     ]
    },
    {
     "name": "stdout",
     "output_type": "stream",
     "text": [
      "Command '['fanficfare', 'https://www.wattpad.com/story/77335391-destiny-proses-terbit', '--format=txt']' returned non-zero exit status 1.\n"
     ]
    },
    {
     "name": "stderr",
     "output_type": "stream",
     "text": [
      "\r",
      " 46%|████▌     | 141/305 [1:31:05<3:00:37, 66.08s/it]"
     ]
    },
    {
     "name": "stdout",
     "output_type": "stream",
     "text": [
      "Command '['fanficfare', 'https://www.wattpad.com/story/159434562-rasa-berkata', '--format=txt']' returned non-zero exit status 1.\n"
     ]
    },
    {
     "name": "stderr",
     "output_type": "stream",
     "text": [
      "\r",
      " 48%|████▊     | 145/305 [1:31:05<1:47:56, 40.48s/it]"
     ]
    },
    {
     "name": "stdout",
     "output_type": "stream",
     "text": [
      "Command '['fanficfare', 'https://www.wattpad.com/story/13092402-existed', '--format=txt']' returned non-zero exit status 1.\n"
     ]
    },
    {
     "name": "stderr",
     "output_type": "stream",
     "text": [
      " 55%|█████▌    | 169/305 [1:35:40<1:42:04, 45.03s/it]"
     ]
    },
    {
     "name": "stdout",
     "output_type": "stream",
     "text": [
      "Command '['fanficfare', 'https://www.wattpad.com/story/182481562-caratland-prince-malay-fanfic', '--format=txt']' returned non-zero exit status 1.\n"
     ]
    },
    {
     "name": "stderr",
     "output_type": "stream",
     "text": [
      "\r",
      " 50%|████▉     | 151/305 [1:36:01<2:40:58, 62.72s/it]"
     ]
    },
    {
     "name": "stdout",
     "output_type": "stream",
     "text": [
      "Command '['fanficfare', 'https://www.wattpad.com/story/167869734-bait-bait-prosa-yang-diam-diam-didendangkan', '--format=txt']' returned non-zero exit status 1.\n"
     ]
    },
    {
     "name": "stderr",
     "output_type": "stream",
     "text": [
      "\r",
      " 54%|█████▍    | 165/305 [1:36:01<59:48, 25.64s/it]"
     ]
    },
    {
     "name": "stdout",
     "output_type": "stream",
     "text": [
      "Command '['fanficfare', 'https://www.wattpad.com/story/83579754-c-bento', '--format=txt']' returned non-zero exit status 1.\n"
     ]
    },
    {
     "name": "stderr",
     "output_type": "stream",
     "text": [
      "\r",
      " 57%|█████▋    | 174/305 [1:36:01<50:18, 23.04s/it]"
     ]
    },
    {
     "name": "stdout",
     "output_type": "stream",
     "text": [
      "Command '['fanficfare', 'https://www.wattpad.com/story/190601249-jodoh-tak-terduga', '--format=txt']' returned non-zero exit status 1.\n"
     ]
    },
    {
     "name": "stderr",
     "output_type": "stream",
     "text": [
      "\r",
      " 53%|█████▎    | 161/305 [1:36:01<1:40:23, 41.83s/it]"
     ]
    },
    {
     "name": "stdout",
     "output_type": "stream",
     "text": [
      "Command '['fanficfare', 'https://www.wattpad.com/story/85351788-midnight%27s', '--format=txt']' returned non-zero exit status 1.\n"
     ]
    },
    {
     "name": "stderr",
     "output_type": "stream",
     "text": [
      "\r",
      " 49%|████▊     | 148/305 [1:36:02<2:19:00, 53.12s/it]"
     ]
    },
    {
     "name": "stdout",
     "output_type": "stream",
     "text": [
      "Command '['fanficfare', 'https://www.wattpad.com/story/169695174-setelah-cahaya-terbenam-kumpulan-puisi', '--format=txt']' returned non-zero exit status 1.\n"
     ]
    },
    {
     "name": "stderr",
     "output_type": "stream",
     "text": [
      " 53%|█████▎    | 163/305 [1:36:02<52:32, 22.20s/it]t]"
     ]
    },
    {
     "name": "stdout",
     "output_type": "stream",
     "text": [
      "Command '['fanficfare', 'https://www.wattpad.com/story/130173556-ungkapan-hati', '--format=txt']' returned non-zero exit status 1.\n"
     ]
    },
    {
     "name": "stderr",
     "output_type": "stream",
     "text": [
      "\r",
      " 50%|█████     | 153/305 [1:36:02<2:40:53, 63.51s/it]"
     ]
    },
    {
     "name": "stdout",
     "output_type": "stream",
     "text": [
      "Command '['fanficfare', 'https://www.wattpad.com/story/213380988-pancarona-sajak', '--format=txt']' returned non-zero exit status 1.\n"
     ]
    },
    {
     "name": "stderr",
     "output_type": "stream",
     "text": [
      "\r",
      " 55%|█████▌    | 168/305 [1:36:02<40:15, 17.63s/it]"
     ]
    },
    {
     "name": "stdout",
     "output_type": "stream",
     "text": [
      "Command '['fanficfare', 'https://www.wattpad.com/story/128137625-kurikulum-kami-pahit-dikulum', '--format=txt']' returned non-zero exit status 1.\n"
     ]
    },
    {
     "name": "stderr",
     "output_type": "stream",
     "text": [
      "\r",
      " 50%|█████     | 153/305 [1:36:02<2:50:31, 67.31s/it]"
     ]
    },
    {
     "name": "stdout",
     "output_type": "stream",
     "text": [
      "Command '['fanficfare', 'https://www.wattpad.com/story/141143838-seven-days', '--format=txt']' returned non-zero exit status 1.\n"
     ]
    },
    {
     "name": "stderr",
     "output_type": "stream",
     "text": [
      " 58%|█████▊    | 177/305 [1:36:02<1:19:29, 37.26s/it]"
     ]
    },
    {
     "name": "stdout",
     "output_type": "stream",
     "text": [
      "Command '['fanficfare', 'https://www.wattpad.com/story/194328927-bukan-yang-sempurna', '--format=txt']' returned non-zero exit status 1.\n"
     ]
    },
    {
     "name": "stderr",
     "output_type": "stream",
     "text": [
      " 53%|█████▎    | 163/305 [1:36:02<39:50, 16.83s/it]t]"
     ]
    },
    {
     "name": "stdout",
     "output_type": "stream",
     "text": [
      "Command '['fanficfare', 'https://www.wattpad.com/story/209110470-leen%27s-quotes', '--format=txt']' returned non-zero exit status 1.\n"
     ]
    },
    {
     "name": "stderr",
     "output_type": "stream",
     "text": [
      "\r",
      " 50%|█████     | 154/305 [1:36:02<2:45:51, 65.90s/it]"
     ]
    },
    {
     "name": "stdout",
     "output_type": "stream",
     "text": [
      "Command '['fanficfare', 'https://www.wattpad.com/story/73251344-random-poems-and-songs', '--format=txt']' returned non-zero exit status 1.\n"
     ]
    },
    {
     "name": "stderr",
     "output_type": "stream",
     "text": [
      "\r",
      " 50%|█████     | 153/305 [1:36:02<1:25:28, 33.74s/it]"
     ]
    },
    {
     "name": "stdout",
     "output_type": "stream",
     "text": [
      "Command '['fanficfare', 'https://www.wattpad.com/story/161765203-mengantar-menuju-mataku', '--format=txt']' returned non-zero exit status 1.\n"
     ]
    },
    {
     "name": "stderr",
     "output_type": "stream",
     "text": [
      "\r",
      " 48%|████▊     | 147/305 [1:36:02<2:23:22, 54.45s/it]"
     ]
    },
    {
     "name": "stdout",
     "output_type": "stream",
     "text": [
      "Command '['fanficfare', 'https://www.wattpad.com/story/135787916-keping-keping-kata-oleh-fatan-laras', '--format=txt']' returned non-zero exit status 1.\n"
     ]
    },
    {
     "name": "stderr",
     "output_type": "stream",
     "text": [
      " 59%|█████▊    | 179/305 [1:36:03<39:29, 18.80s/it]t]"
     ]
    },
    {
     "name": "stdout",
     "output_type": "stream",
     "text": [
      "Command '['fanficfare', 'https://www.wattpad.com/story/195172449-calon-mantu-mama', '--format=txt']' returned non-zero exit status 1.\n"
     ]
    },
    {
     "name": "stderr",
     "output_type": "stream",
     "text": [
      " 55%|█████▌    | 168/305 [1:36:03<1:04:52, 28.42s/it]"
     ]
    },
    {
     "name": "stdout",
     "output_type": "stream",
     "text": [
      "Command '['fanficfare', 'https://www.wattpad.com/story/179359024-poetries', '--format=txt']' returned non-zero exit status 1.\n"
     ]
    },
    {
     "name": "stderr",
     "output_type": "stream",
     "text": [
      " 56%|█████▋    | 172/305 [1:40:50<46:36, 21.02s/it]  "
     ]
    },
    {
     "name": "stdout",
     "output_type": "stream",
     "text": [
      "Command '['fanficfare', 'https://www.wattpad.com/story/193489483-masih-dari-aku', '--format=txt']' returned non-zero exit status 1.\n"
     ]
    },
    {
     "name": "stderr",
     "output_type": "stream",
     "text": [
      "\r",
      " 52%|█████▏    | 158/305 [1:41:10<1:12:33, 29.62s/it]"
     ]
    },
    {
     "name": "stdout",
     "output_type": "stream",
     "text": [
      "Command '['fanficfare', 'https://www.wattpad.com/story/180817848-amatir-motivasi', '--format=txt']' returned non-zero exit status 1.\n"
     ]
    },
    {
     "name": "stderr",
     "output_type": "stream",
     "text": [
      "\r",
      " 55%|█████▌    | 169/305 [1:41:10<1:17:36, 34.24s/it]"
     ]
    },
    {
     "name": "stdout",
     "output_type": "stream",
     "text": [
      "Command '['fanficfare', 'https://www.wattpad.com/story/204123630-the-crimson-fairy-book-andrew-lang', '--format=txt']' returned non-zero exit status 1.\n"
     ]
    },
    {
     "name": "stderr",
     "output_type": "stream",
     "text": [
      "\r",
      " 52%|█████▏    | 159/305 [1:41:10<2:56:48, 72.66s/it]"
     ]
    },
    {
     "name": "stdout",
     "output_type": "stream",
     "text": [
      "Command '['fanficfare', 'https://www.wattpad.com/story/150091226-rasa-dalam-kata', '--format=txt']' returned non-zero exit status 1.\n"
     ]
    },
    {
     "name": "stderr",
     "output_type": "stream",
     "text": [
      "\r",
      " 57%|█████▋    | 174/305 [1:41:10<43:50, 20.08s/it]"
     ]
    },
    {
     "name": "stdout",
     "output_type": "stream",
     "text": [
      "Command '['fanficfare', 'https://www.wattpad.com/story/102768724-i-want-more-juseyo', '--format=txt']' returned non-zero exit status 1.\n"
     ]
    },
    {
     "name": "stderr",
     "output_type": "stream",
     "text": [
      "\r",
      " 52%|█████▏    | 160/305 [1:41:10<1:26:30, 35.80s/it]"
     ]
    },
    {
     "name": "stdout",
     "output_type": "stream",
     "text": [
      "Command '['fanficfare', 'https://www.wattpad.com/story/128828479-brothers-wanna-one', '--format=txt']' returned non-zero exit status 1.\n"
     ]
    },
    {
     "name": "stderr",
     "output_type": "stream",
     "text": [
      "\r",
      " 52%|█████▏    | 160/305 [1:41:10<1:33:10, 38.56s/it]"
     ]
    },
    {
     "name": "stdout",
     "output_type": "stream",
     "text": [
      "Command '['fanficfare', 'https://www.wattpad.com/story/200155080-my-arabian-husband', '--format=txt']' returned non-zero exit status 1.\n"
     ]
    },
    {
     "name": "stderr",
     "output_type": "stream",
     "text": [
      "\r",
      " 61%|██████    | 186/305 [1:41:10<1:02:06, 31.32s/it]"
     ]
    },
    {
     "name": "stdout",
     "output_type": "stream",
     "text": [
      "Command '['fanficfare', 'https://www.wattpad.com/story/115020239-sinestesia-kisah', '--format=txt']' returned non-zero exit status 1.\n"
     ]
    },
    {
     "name": "stderr",
     "output_type": "stream",
     "text": [
      "\r",
      " 55%|█████▍    | 167/305 [1:41:10<47:12, 20.53s/it]"
     ]
    },
    {
     "name": "stdout",
     "output_type": "stream",
     "text": [
      "Command '['fanficfare', 'https://www.wattpad.com/story/56248888-baculcipan-mempersembahkan-paranoia', '--format=txt']' returned non-zero exit status 1.\n"
     ]
    },
    {
     "name": "stderr",
     "output_type": "stream",
     "text": [
      "\r",
      " 51%|█████▏    | 157/305 [1:41:11<48:07, 19.51s/it]"
     ]
    },
    {
     "name": "stdout",
     "output_type": "stream",
     "text": [
      "Command '['fanficfare', 'https://www.wattpad.com/story/138478458-prenjak', '--format=txt']' returned non-zero exit status 1.\n"
     ]
    },
    {
     "name": "stderr",
     "output_type": "stream",
     "text": [
      "\r",
      " 50%|█████     | 154/305 [1:41:11<1:57:00, 46.49s/it]"
     ]
    },
    {
     "name": "stdout",
     "output_type": "stream",
     "text": [
      "Command '['fanficfare', 'https://www.wattpad.com/story/204670327-mae-hiatus', '--format=txt']' returned non-zero exit status 1.\n"
     ]
    },
    {
     "name": "stderr",
     "output_type": "stream",
     "text": [
      "\r",
      " 58%|█████▊    | 177/305 [1:41:11<1:18:51, 36.97s/it]"
     ]
    },
    {
     "name": "stdout",
     "output_type": "stream",
     "text": [
      "Command '['fanficfare', 'https://www.wattpad.com/story/91854316-shelter-anime-i-promise-after-story-indo-verision', '--format=txt']' returned non-zero exit status 1.\n"
     ]
    },
    {
     "name": "stderr",
     "output_type": "stream",
     "text": [
      "\r",
      " 52%|█████▏    | 159/305 [1:41:11<59:13, 24.34s/it]"
     ]
    },
    {
     "name": "stdout",
     "output_type": "stream",
     "text": [
      "Command '['fanficfare', 'https://www.wattpad.com/story/95215885-tidur-tanpa-malam', '--format=txt']' returned non-zero exit status 1.\n"
     ]
    },
    {
     "name": "stderr",
     "output_type": "stream",
     "text": [
      "\r",
      " 51%|█████▏    | 157/305 [1:41:11<1:14:43, 30.29s/it]"
     ]
    },
    {
     "name": "stdout",
     "output_type": "stream",
     "text": [
      "Command '['fanficfare', 'https://www.wattpad.com/story/27116103-of-roses-briefcase', '--format=txt']' returned non-zero exit status 1.\n"
     ]
    },
    {
     "name": "stderr",
     "output_type": "stream",
     "text": [
      "\r",
      " 50%|████▉     | 151/305 [1:41:12<1:56:00, 45.20s/it]"
     ]
    },
    {
     "name": "stdout",
     "output_type": "stream",
     "text": [
      "Command '['fanficfare', 'https://www.wattpad.com/story/131881111-tenggelam-dalam-puisi', '--format=txt']' returned non-zero exit status 1.\n"
     ]
    },
    {
     "name": "stderr",
     "output_type": "stream",
     "text": [
      "\r",
      " 57%|█████▋    | 173/305 [1:41:12<1:18:42, 35.77s/it]"
     ]
    },
    {
     "name": "stdout",
     "output_type": "stream",
     "text": [
      "Command '['fanficfare', 'https://www.wattpad.com/story/129548853-usrah-time', '--format=txt']' returned non-zero exit status 1.\n"
     ]
    },
    {
     "name": "stderr",
     "output_type": "stream",
     "text": [
      "\r",
      " 57%|█████▋    | 173/305 [1:41:12<2:23:25, 65.19s/it]"
     ]
    },
    {
     "name": "stdout",
     "output_type": "stream",
     "text": [
      "Command '['fanficfare', 'https://www.wattpad.com/story/128632782-antologi-cerpen-aneh', '--format=txt']' returned non-zero exit status 1.\n"
     ]
    },
    {
     "name": "stderr",
     "output_type": "stream",
     "text": [
      "\r",
      " 55%|█████▍    | 167/305 [1:41:12<1:45:05, 45.69s/it]"
     ]
    },
    {
     "name": "stdout",
     "output_type": "stream",
     "text": [
      "Command '['fanficfare', 'https://www.wattpad.com/story/136795606-sang-pemakan-hati-memar', '--format=txt']' returned non-zero exit status 1.\n"
     ]
    },
    {
     "name": "stderr",
     "output_type": "stream",
     "text": [
      "\r",
      " 54%|█████▍    | 165/305 [1:41:12<46:17, 19.84s/it]"
     ]
    },
    {
     "name": "stdout",
     "output_type": "stream",
     "text": [
      "Command '['fanficfare', 'https://www.wattpad.com/story/207971680-the-secret', '--format=txt']' returned non-zero exit status 1.\n"
     ]
    },
    {
     "name": "stderr",
     "output_type": "stream",
     "text": [
      " 52%|█████▏    | 159/305 [1:46:17<1:26:35, 35.59s/it]"
     ]
    },
    {
     "name": "stdout",
     "output_type": "stream",
     "text": [
      "Command '['fanficfare', 'https://www.wattpad.com/story/204829060-code-name-cobra', '--format=txt']' returned non-zero exit status 1.\n"
     ]
    },
    {
     "name": "stderr",
     "output_type": "stream",
     "text": [
      "\r",
      " 58%|█████▊    | 178/305 [1:46:38<45:58, 21.72s/it]"
     ]
    },
    {
     "name": "stdout",
     "output_type": "stream",
     "text": [
      "Command '['fanficfare', 'https://www.wattpad.com/story/94850486-plain-text', '--format=txt']' returned non-zero exit status 1.\n"
     ]
    },
    {
     "name": "stderr",
     "output_type": "stream",
     "text": [
      "\r",
      " 57%|█████▋    | 174/305 [1:46:39<1:49:16, 50.05s/it]"
     ]
    },
    {
     "name": "stdout",
     "output_type": "stream",
     "text": [
      "Command '['fanficfare', 'https://www.wattpad.com/story/95409168-ruang-monolog', '--format=txt']' returned non-zero exit status 1.\n"
     ]
    },
    {
     "name": "stderr",
     "output_type": "stream",
     "text": [
      "\r",
      " 60%|██████    | 183/305 [1:46:39<57:05, 28.08s/it]"
     ]
    },
    {
     "name": "stdout",
     "output_type": "stream",
     "text": [
      "Command '['fanficfare', 'https://www.wattpad.com/story/112518141-sepakbola-tentang-cinta', '--format=txt']' returned non-zero exit status 1.\n"
     ]
    },
    {
     "name": "stderr",
     "output_type": "stream",
     "text": [
      "\r",
      " 54%|█████▍    | 166/305 [1:46:39<1:19:59, 34.53s/it]"
     ]
    },
    {
     "name": "stdout",
     "output_type": "stream",
     "text": [
      "Command '['fanficfare', 'https://www.wattpad.com/story/149949286-c-book-2-11-pelajar-hots-wanna-one', '--format=txt']' returned non-zero exit status 1.\n"
     ]
    },
    {
     "name": "stderr",
     "output_type": "stream",
     "text": [
      "\r",
      " 56%|█████▌    | 170/305 [1:46:39<53:14, 23.66s/it]"
     ]
    },
    {
     "name": "stdout",
     "output_type": "stream",
     "text": [
      "Command '['fanficfare', 'https://www.wattpad.com/story/160646353-lamunan-senja', '--format=txt']' returned non-zero exit status 1.\n"
     ]
    },
    {
     "name": "stderr",
     "output_type": "stream",
     "text": [
      "\r",
      " 61%|██████    | 186/305 [1:46:39<56:36, 28.54s/it]"
     ]
    },
    {
     "name": "stdout",
     "output_type": "stream",
     "text": [
      "Command '['fanficfare', 'https://www.wattpad.com/story/166761331-one-shot-creepy-pasta', '--format=txt']' returned non-zero exit status 1.\n"
     ]
    },
    {
     "name": "stderr",
     "output_type": "stream",
     "text": [
      "\r",
      " 56%|█████▋    | 172/305 [1:46:39<1:54:28, 51.64s/it]"
     ]
    },
    {
     "name": "stdout",
     "output_type": "stream",
     "text": [
      "Command '['fanficfare', 'https://www.wattpad.com/story/84174818-twisted-mind', '--format=txt']' returned non-zero exit status 1.\n"
     ]
    },
    {
     "name": "stderr",
     "output_type": "stream",
     "text": [
      " 60%|██████    | 183/305 [1:46:39<1:02:52, 30.92s/it]"
     ]
    },
    {
     "name": "stdout",
     "output_type": "stream",
     "text": [
      "Command '['fanficfare', 'https://www.wattpad.com/story/125416197-c-aku-budak-hostel', '--format=txt']' returned non-zero exit status 1.\n"
     ]
    },
    {
     "name": "stderr",
     "output_type": "stream",
     "text": [
      "\r",
      " 55%|█████▌    | 169/305 [1:46:40<1:34:04, 41.50s/it]"
     ]
    },
    {
     "name": "stdout",
     "output_type": "stream",
     "text": [
      "Command '['fanficfare', 'https://www.wattpad.com/story/200444288-tentang-seseorang', '--format=txt']' returned non-zero exit status 1.\n"
     ]
    },
    {
     "name": "stderr",
     "output_type": "stream",
     "text": [
      " 54%|█████▍    | 164/305 [1:46:40<1:58:41, 50.51s/it]"
     ]
    },
    {
     "name": "stdout",
     "output_type": "stream",
     "text": [
      "Command '['fanficfare', 'https://www.wattpad.com/story/130088050-random', '--format=txt']' returned non-zero exit status 1.\n"
     ]
    },
    {
     "name": "stderr",
     "output_type": "stream",
     "text": [
      "\r",
      " 57%|█████▋    | 173/305 [1:46:40<1:24:58, 38.62s/it]"
     ]
    },
    {
     "name": "stdout",
     "output_type": "stream",
     "text": [
      "Command '['fanficfare', 'https://www.wattpad.com/story/148429323-kata-%E2%9C%94', '--format=txt']' returned non-zero exit status 1.\n"
     ]
    },
    {
     "name": "stderr",
     "output_type": "stream",
     "text": [
      "\r",
      " 55%|█████▌    | 168/305 [1:46:40<1:32:38, 40.57s/it]"
     ]
    },
    {
     "name": "stdout",
     "output_type": "stream",
     "text": [
      "Command '['fanficfare', 'https://www.wattpad.com/story/203948558-juara-di-hatimu', '--format=txt']' returned non-zero exit status 1.\n"
     ]
    },
    {
     "name": "stderr",
     "output_type": "stream",
     "text": [
      "\r",
      " 54%|█████▍    | 164/305 [1:46:40<1:49:05, 46.42s/it]"
     ]
    },
    {
     "name": "stdout",
     "output_type": "stream",
     "text": [
      "Command '['fanficfare', 'https://www.wattpad.com/story/196048963-just-quotes', '--format=txt']' returned non-zero exit status 1.\n"
     ]
    },
    {
     "name": "stderr",
     "output_type": "stream",
     "text": [
      "\r",
      " 59%|█████▊    | 179/305 [1:46:40<1:44:17, 49.66s/it]"
     ]
    },
    {
     "name": "stdout",
     "output_type": "stream",
     "text": [
      "Command '['fanficfare', 'https://www.wattpad.com/story/199634149-first-love-is-true-love', '--format=txt']' returned non-zero exit status 1.\n"
     ]
    },
    {
     "name": "stderr",
     "output_type": "stream",
     "text": [
      "\r",
      " 61%|██████    | 186/305 [1:46:40<1:11:12, 35.90s/it]"
     ]
    },
    {
     "name": "stdout",
     "output_type": "stream",
     "text": [
      "Command '['fanficfare', 'https://www.wattpad.com/story/173046147-januari-oktapnk%27s-dialy-poetry', '--format=txt']' returned non-zero exit status 1.\n"
     ]
    },
    {
     "name": "stderr",
     "output_type": "stream",
     "text": [
      " 60%|██████    | 184/305 [1:46:40<46:47, 23.20s/it]"
     ]
    },
    {
     "name": "stdout",
     "output_type": "stream",
     "text": [
      "Command '['fanficfare', 'https://www.wattpad.com/story/78762689-quotes-of-love', '--format=txt']' returned non-zero exit status 1.\n"
     ]
    },
    {
     "name": "stderr",
     "output_type": "stream",
     "text": [
      "\r",
      " 60%|█████▉    | 182/305 [1:46:41<1:21:54, 39.96s/it]"
     ]
    },
    {
     "name": "stdout",
     "output_type": "stream",
     "text": [
      "Command '['fanficfare', 'https://www.wattpad.com/story/91503640-benarkan-aku-ketuk-pintu-hatimu-complete', '--format=txt']' returned non-zero exit status 1.\n"
     ]
    },
    {
     "name": "stderr",
     "output_type": "stream",
     "text": [
      "\r",
      " 53%|█████▎    | 163/305 [1:46:41<1:18:02, 32.97s/it]"
     ]
    },
    {
     "name": "stdout",
     "output_type": "stream",
     "text": [
      "Command '['fanficfare', 'https://www.wattpad.com/story/65949142-gugusan-rasa-buku-satu', '--format=txt']' returned non-zero exit status 1.\n"
     ]
    },
    {
     "name": "stderr",
     "output_type": "stream",
     "text": [
      "\r",
      " 54%|█████▍    | 165/305 [1:46:41<2:33:02, 65.59s/it]"
     ]
    },
    {
     "name": "stdout",
     "output_type": "stream",
     "text": [
      "Command '['fanficfare', 'https://www.wattpad.com/story/201303722-cerita-cerita-seram', '--format=txt']' returned non-zero exit status 1.\n"
     ]
    },
    {
     "name": "stderr",
     "output_type": "stream",
     "text": [
      "\r",
      " 58%|█████▊    | 176/305 [1:46:41<1:46:26, 49.51s/it]"
     ]
    },
    {
     "name": "stdout",
     "output_type": "stream",
     "text": [
      "Command '['fanficfare', 'https://www.wattpad.com/story/119283370-what-makes-u-different-tahap-revisi', '--format=txt']' returned non-zero exit status 1.\n"
     ]
    },
    {
     "name": "stderr",
     "output_type": "stream",
     "text": [
      " 58%|█████▊    | 176/305 [1:51:28<1:05:53, 30.65s/it]"
     ]
    },
    {
     "name": "stdout",
     "output_type": "stream",
     "text": [
      "Command '['fanficfare', 'https://www.wattpad.com/story/185130202-lintas-waktu-segera-terbit', '--format=txt']' returned non-zero exit status 1.\n"
     ]
    },
    {
     "name": "stderr",
     "output_type": "stream",
     "text": [
      "\r",
      " 68%|██████▊   | 208/305 [1:51:49<36:44, 22.73s/it]"
     ]
    },
    {
     "name": "stdout",
     "output_type": "stream",
     "text": [
      "Command '['fanficfare', 'https://www.wattpad.com/story/166704714-waris', '--format=txt']' returned non-zero exit status 1.\n"
     ]
    },
    {
     "name": "stderr",
     "output_type": "stream",
     "text": [
      "\r",
      " 63%|██████▎   | 192/305 [1:51:49<47:04, 25.00s/it]"
     ]
    },
    {
     "name": "stdout",
     "output_type": "stream",
     "text": [
      "Command '['fanficfare', 'https://www.wattpad.com/story/143040868-f-e-e-l-i-n-g-s', '--format=txt']' returned non-zero exit status 1.\n"
     ]
    },
    {
     "name": "stderr",
     "output_type": "stream",
     "text": [
      " 62%|██████▏   | 188/305 [1:51:49<48:35, 24.92s/it]t]"
     ]
    },
    {
     "name": "stdout",
     "output_type": "stream",
     "text": [
      "Command '['fanficfare', 'https://www.wattpad.com/story/90388505-polusi-aksara', '--format=txt']' returned non-zero exit status 1.\n"
     ]
    },
    {
     "name": "stderr",
     "output_type": "stream",
     "text": [
      "\r",
      " 63%|██████▎   | 192/305 [1:51:49<1:43:09, 54.77s/it]"
     ]
    },
    {
     "name": "stdout",
     "output_type": "stream",
     "text": [
      "Command '['fanficfare', 'https://www.wattpad.com/story/132957380-cintai-aku-sepenuhnya', '--format=txt']' returned non-zero exit status 1.\n"
     ]
    },
    {
     "name": "stderr",
     "output_type": "stream",
     "text": [
      "\r",
      " 57%|█████▋    | 175/305 [1:51:49<1:04:51, 29.93s/it]"
     ]
    },
    {
     "name": "stdout",
     "output_type": "stream",
     "text": [
      "Command '['fanficfare', 'https://www.wattpad.com/story/130969800-deretan-aksara', '--format=txt']' returned non-zero exit status 1.\n"
     ]
    },
    {
     "name": "stderr",
     "output_type": "stream",
     "text": [
      "\r",
      " 65%|██████▌   | 199/305 [1:51:49<1:27:22, 49.46s/it]"
     ]
    },
    {
     "name": "stdout",
     "output_type": "stream",
     "text": [
      "Command '['fanficfare', 'https://www.wattpad.com/story/197824054-merayakan-kekalahan', '--format=txt']' returned non-zero exit status 1.\n"
     ]
    },
    {
     "name": "stderr",
     "output_type": "stream",
     "text": [
      "\r",
      " 58%|█████▊    | 176/305 [1:51:50<1:55:50, 53.88s/it]"
     ]
    },
    {
     "name": "stdout",
     "output_type": "stream",
     "text": [
      "Command '['fanficfare', 'https://www.wattpad.com/story/204737455-menulis-bisik-rindu', '--format=txt']' returned non-zero exit status 1.\n"
     ]
    },
    {
     "name": "stderr",
     "output_type": "stream",
     "text": [
      " 63%|██████▎   | 193/305 [1:51:50<48:38, 26.06s/it]"
     ]
    },
    {
     "name": "stdout",
     "output_type": "stream",
     "text": [
      "Command '['fanficfare', 'https://www.wattpad.com/story/147191092-teruntuk-hidup-cinta-dan-rindu', '--format=txt']' returned non-zero exit status 1.\n"
     ]
    },
    {
     "name": "stderr",
     "output_type": "stream",
     "text": [
      "\r",
      " 60%|██████    | 184/305 [1:51:50<42:37, 21.14s/it]"
     ]
    },
    {
     "name": "stdout",
     "output_type": "stream",
     "text": [
      "Command '['fanficfare', 'https://www.wattpad.com/story/161315400-ibu', '--format=txt']' returned non-zero exit status 1.\n"
     ]
    },
    {
     "name": "stderr",
     "output_type": "stream",
     "text": [
      "\r",
      " 57%|█████▋    | 173/305 [1:51:50<1:41:48, 46.27s/it]"
     ]
    },
    {
     "name": "stdout",
     "output_type": "stream",
     "text": [
      "Command '['fanficfare', 'https://www.wattpad.com/story/111557696-ab-imo-pectore', '--format=txt']' returned non-zero exit status 1.\n"
     ]
    },
    {
     "name": "stderr",
     "output_type": "stream",
     "text": [
      " 60%|█████▉    | 182/305 [1:51:50<53:23, 26.04s/it]t]"
     ]
    },
    {
     "name": "stdout",
     "output_type": "stream",
     "text": [
      "Command '['fanficfare', 'https://www.wattpad.com/story/53448982-biru', '--format=txt']' returned non-zero exit status 1.\n"
     ]
    },
    {
     "name": "stderr",
     "output_type": "stream",
     "text": [
      "\r",
      " 59%|█████▉    | 181/305 [1:51:50<1:37:11, 47.03s/it]"
     ]
    },
    {
     "name": "stdout",
     "output_type": "stream",
     "text": [
      "Command '['fanficfare', 'https://www.wattpad.com/story/98504870-exorcism-of-lucinda-flaveau-english', '--format=txt']' returned non-zero exit status 1.\n"
     ]
    },
    {
     "name": "stderr",
     "output_type": "stream",
     "text": [
      "\r",
      " 64%|██████▎   | 194/305 [1:51:51<1:01:29, 33.24s/it]"
     ]
    },
    {
     "name": "stdout",
     "output_type": "stream",
     "text": [
      "Command '['fanficfare', 'https://www.wattpad.com/story/188748410-home-sweet-home', '--format=txt']' returned non-zero exit status 1.\n"
     ]
    },
    {
     "name": "stderr",
     "output_type": "stream",
     "text": [
      "\r",
      " 56%|█████▋    | 172/305 [1:51:51<1:12:08, 32.54s/it]"
     ]
    },
    {
     "name": "stdout",
     "output_type": "stream",
     "text": [
      "Command '['fanficfare', 'https://www.wattpad.com/story/167740425-hanya-coretan-biasa', '--format=txt']' returned non-zero exit status 1.\n"
     ]
    },
    {
     "name": "stderr",
     "output_type": "stream",
     "text": [
      "\r",
      " 57%|█████▋    | 174/305 [1:51:51<48:10, 22.07s/it]"
     ]
    },
    {
     "name": "stdout",
     "output_type": "stream",
     "text": [
      "Command '['fanficfare', 'https://www.wattpad.com/story/195825615-bercerita', '--format=txt']' returned non-zero exit status 1.\n"
     ]
    },
    {
     "name": "stderr",
     "output_type": "stream",
     "text": [
      "\r",
      " 58%|█████▊    | 176/305 [1:51:51<1:35:14, 44.30s/it]"
     ]
    },
    {
     "name": "stdout",
     "output_type": "stream",
     "text": [
      "Command '['fanficfare', 'https://www.wattpad.com/story/70639568-oyakawa', '--format=txt']' returned non-zero exit status 1.\n"
     ]
    },
    {
     "name": "stderr",
     "output_type": "stream",
     "text": [
      "\r",
      " 66%|██████▌   | 200/305 [1:51:51<1:48:01, 61.73s/it]"
     ]
    },
    {
     "name": "stdout",
     "output_type": "stream",
     "text": [
      "Command '['fanficfare', 'https://www.wattpad.com/story/89221876-what-life-teach-us', '--format=txt']' returned non-zero exit status 1.\n"
     ]
    },
    {
     "name": "stderr",
     "output_type": "stream",
     "text": [
      "\r",
      " 59%|█████▉    | 181/305 [1:51:51<2:26:29, 70.88s/it]"
     ]
    },
    {
     "name": "stdout",
     "output_type": "stream",
     "text": [
      "Command '['fanficfare', 'https://www.wattpad.com/story/198997715-golden', '--format=txt']' returned non-zero exit status 1.\n"
     ]
    },
    {
     "name": "stderr",
     "output_type": "stream",
     "text": [
      " 66%|██████▌   | 200/305 [1:57:00<26:28, 15.13s/it]t]"
     ]
    },
    {
     "name": "stdout",
     "output_type": "stream",
     "text": [
      "Command '['fanficfare', 'https://www.wattpad.com/story/200690886-lucky-souls', '--format=txt']' returned non-zero exit status 1.\n"
     ]
    },
    {
     "name": "stderr",
     "output_type": "stream",
     "text": [
      "\r",
      " 62%|██████▏   | 189/305 [1:57:20<36:22, 18.81s/it]"
     ]
    },
    {
     "name": "stdout",
     "output_type": "stream",
     "text": [
      "Command '['fanficfare', 'https://www.wattpad.com/story/169793807-aksara-dalam-hati', '--format=txt']' returned non-zero exit status 1.\n"
     ]
    },
    {
     "name": "stderr",
     "output_type": "stream",
     "text": [
      " 60%|█████▉    | 182/305 [1:57:20<59:32, 29.04s/it]  "
     ]
    },
    {
     "name": "stdout",
     "output_type": "stream",
     "text": [
      "Command '['fanficfare', 'https://www.wattpad.com/story/199618991-mrs-boss', '--format=txt']' returned non-zero exit status 1.\n"
     ]
    },
    {
     "name": "stderr",
     "output_type": "stream",
     "text": [
      "\r",
      " 61%|██████▏   | 187/305 [1:57:21<50:08, 25.50s/it]"
     ]
    },
    {
     "name": "stdout",
     "output_type": "stream",
     "text": [
      "Command '['fanficfare', 'https://www.wattpad.com/story/187799127-unison-an-anthology', '--format=txt']' returned non-zero exit status 1.\n",
      "Command '['fanficfare', 'https://www.wattpad.com/story/207463794-agen-mochi-jjk%E2%9C%93', '--format=txt']' returned non-zero exit status 1.\n"
     ]
    },
    {
     "name": "stderr",
     "output_type": "stream",
     "text": [
      " 69%|██████▊   | 209/305 [1:57:21<28:51, 18.03s/it]t]"
     ]
    },
    {
     "name": "stdout",
     "output_type": "stream",
     "text": [
      "Command '['fanficfare', 'https://www.wattpad.com/story/83899303-story-of-my-life', '--format=txt']' returned non-zero exit status 1.\n"
     ]
    },
    {
     "name": "stderr",
     "output_type": "stream",
     "text": [
      "\r",
      " 60%|██████    | 184/305 [1:57:21<56:00, 27.77s/it]"
     ]
    },
    {
     "name": "stdout",
     "output_type": "stream",
     "text": [
      "Command '['fanficfare', 'https://www.wattpad.com/story/134516740-bungkusan-sepi', '--format=txt']' returned non-zero exit status 1.\n"
     ]
    },
    {
     "name": "stderr",
     "output_type": "stream",
     "text": [
      "\r",
      " 66%|██████▌   | 200/305 [1:57:21<1:26:13, 49.27s/it]"
     ]
    },
    {
     "name": "stdout",
     "output_type": "stream",
     "text": [
      "Command '['fanficfare', 'https://www.wattpad.com/story/192165263-kelopak-sakura-di-jabal-rahmah', '--format=txt']' returned non-zero exit status 1.\n"
     ]
    },
    {
     "name": "stderr",
     "output_type": "stream",
     "text": [
      "\r",
      " 66%|██████▌   | 201/305 [1:57:21<1:01:31, 35.49s/it]"
     ]
    },
    {
     "name": "stdout",
     "output_type": "stream",
     "text": [
      "Command '['fanficfare', 'https://www.wattpad.com/story/180902415-antalogi-puisi', '--format=txt']' returned non-zero exit status 1.\n"
     ]
    },
    {
     "name": "stderr",
     "output_type": "stream",
     "text": [
      "\r",
      " 60%|██████    | 184/305 [1:57:21<1:14:32, 36.96s/it]"
     ]
    },
    {
     "name": "stdout",
     "output_type": "stream",
     "text": [
      "Command '['fanficfare', 'https://www.wattpad.com/story/126846435-a-hundred-days-to-dato%27-akrams-birthday', '--format=txt']' returned non-zero exit status 1.\n"
     ]
    },
    {
     "name": "stderr",
     "output_type": "stream",
     "text": [
      " 69%|██████▊   | 209/305 [1:57:21<38:41, 24.18s/it]t]"
     ]
    },
    {
     "name": "stdout",
     "output_type": "stream",
     "text": [
      "Command '['fanficfare', 'https://www.wattpad.com/story/145888173-first-love-choi-youngjae-fanfic-slow-update', '--format=txt']' returned non-zero exit status 1.\n"
     ]
    },
    {
     "name": "stderr",
     "output_type": "stream",
     "text": [
      "\r",
      " 69%|██████▉   | 211/305 [1:57:22<36:22, 23.21s/it]"
     ]
    },
    {
     "name": "stdout",
     "output_type": "stream",
     "text": [
      "Command '['fanficfare', 'https://www.wattpad.com/story/145356849-the-perfect-husband-knj', '--format=txt']' returned non-zero exit status 1.\n"
     ]
    },
    {
     "name": "stderr",
     "output_type": "stream",
     "text": [
      "\r",
      " 62%|██████▏   | 190/305 [1:57:22<1:07:29, 35.21s/it]"
     ]
    },
    {
     "name": "stdout",
     "output_type": "stream",
     "text": [
      "Command '['fanficfare', 'https://www.wattpad.com/story/198229723-darahmu-milikku', '--format=txt']' returned non-zero exit status 1.\n"
     ]
    },
    {
     "name": "stderr",
     "output_type": "stream",
     "text": [
      "\r",
      " 66%|██████▌   | 201/305 [1:57:22<52:12, 30.12s/it]"
     ]
    },
    {
     "name": "stdout",
     "output_type": "stream",
     "text": [
      "Command '['fanficfare', 'https://www.wattpad.com/story/213482441-fairytale', '--format=txt']' returned non-zero exit status 1.\n"
     ]
    },
    {
     "name": "stderr",
     "output_type": "stream",
     "text": [
      "\r",
      " 60%|██████    | 184/305 [1:57:22<35:09, 17.43s/it]"
     ]
    },
    {
     "name": "stdout",
     "output_type": "stream",
     "text": [
      "Command '['fanficfare', 'https://www.wattpad.com/story/126809206-cerita-waktu', '--format=txt']' returned non-zero exit status 1.\n"
     ]
    },
    {
     "name": "stderr",
     "output_type": "stream",
     "text": [
      "\r",
      " 60%|██████    | 184/305 [1:57:22<58:32, 29.03s/it]"
     ]
    },
    {
     "name": "stdout",
     "output_type": "stream",
     "text": [
      "Command '['fanficfare', 'https://www.wattpad.com/story/131402786-bts-quiz', '--format=txt']' returned non-zero exit status 1.\n"
     ]
    },
    {
     "name": "stderr",
     "output_type": "stream",
     "text": [
      " 60%|█████▉    | 182/305 [1:57:22<2:18:28, 67.55s/it]"
     ]
    },
    {
     "name": "stdout",
     "output_type": "stream",
     "text": [
      "Command '['fanficfare', 'https://www.wattpad.com/story/136477740-secangkir-kopisusu-berpuisi', '--format=txt']' returned non-zero exit status 1.\n"
     ]
    },
    {
     "name": "stderr",
     "output_type": "stream",
     "text": [
      "\r",
      " 58%|█████▊    | 178/305 [1:57:22<1:01:56, 29.26s/it]"
     ]
    },
    {
     "name": "stdout",
     "output_type": "stream",
     "text": [
      "Command '['fanficfare', 'https://www.wattpad.com/story/202239233-sargamore', '--format=txt']' returned non-zero exit status 1.\n"
     ]
    },
    {
     "name": "stderr",
     "output_type": "stream",
     "text": [
      "\r",
      " 70%|███████   | 215/305 [1:57:23<1:11:32, 47.70s/it]"
     ]
    },
    {
     "name": "stdout",
     "output_type": "stream",
     "text": [
      "Command '['fanficfare', 'https://www.wattpad.com/story/72893790-word', '--format=txt']' returned non-zero exit status 1.\n"
     ]
    },
    {
     "name": "stderr",
     "output_type": "stream",
     "text": [
      "\r",
      " 63%|██████▎   | 191/305 [1:57:23<56:59, 30.00s/it]"
     ]
    },
    {
     "name": "stdout",
     "output_type": "stream",
     "text": [
      "Command '['fanficfare', 'https://www.wattpad.com/story/138105085-lambat', '--format=txt']' returned non-zero exit status 1.\n"
     ]
    },
    {
     "name": "stderr",
     "output_type": "stream",
     "text": [
      " 63%|██████▎   | 191/305 [2:02:07<55:45, 29.35s/it]  "
     ]
    },
    {
     "name": "stdout",
     "output_type": "stream",
     "text": [
      "Command '['fanficfare', 'https://www.wattpad.com/story/96848751-mahardikans-sudah-terbit-gramedia-pustaka-utama', '--format=txt']' returned non-zero exit status 1.\n"
     ]
    },
    {
     "name": "stderr",
     "output_type": "stream",
     "text": [
      "\r",
      " 63%|██████▎   | 191/305 [2:02:29<1:15:14, 39.60s/it]"
     ]
    },
    {
     "name": "stdout",
     "output_type": "stream",
     "text": [
      "Command '['fanficfare', 'https://www.wattpad.com/story/170829989-erinka', '--format=txt']' returned non-zero exit status 1.\n"
     ]
    },
    {
     "name": "stderr",
     "output_type": "stream",
     "text": [
      "\r",
      " 64%|██████▎   | 194/305 [2:02:29<1:07:12, 36.33s/it]"
     ]
    },
    {
     "name": "stdout",
     "output_type": "stream",
     "text": [
      "Command '['fanficfare', 'https://www.wattpad.com/story/127137445-dia-tu-saya-punya-%E2%9D%A4', '--format=txt']' returned non-zero exit status 1.\n"
     ]
    },
    {
     "name": "stderr",
     "output_type": "stream",
     "text": [
      " 66%|██████▌   | 200/305 [2:02:30<28:46, 16.45s/it]t]"
     ]
    },
    {
     "name": "stdout",
     "output_type": "stream",
     "text": [
      "Command '['fanficfare', 'https://www.wattpad.com/story/62614076-exo%27s-maid', '--format=txt']' returned non-zero exit status 1.\n"
     ]
    },
    {
     "name": "stderr",
     "output_type": "stream",
     "text": [
      "\r",
      " 68%|██████▊   | 207/305 [2:02:30<1:27:09, 53.36s/it]"
     ]
    },
    {
     "name": "stdout",
     "output_type": "stream",
     "text": [
      "Command '['fanficfare', 'https://www.wattpad.com/story/173771307-draf', '--format=txt']' returned non-zero exit status 1.\n"
     ]
    },
    {
     "name": "stderr",
     "output_type": "stream",
     "text": [
      " 69%|██████▉   | 211/305 [2:02:30<35:39, 22.77s/it]t]"
     ]
    },
    {
     "name": "stdout",
     "output_type": "stream",
     "text": [
      "Command '['fanficfare', 'https://www.wattpad.com/story/124559104-memoar', '--format=txt']' returned non-zero exit status 1.\n"
     ]
    },
    {
     "name": "stderr",
     "output_type": "stream",
     "text": [
      "\r",
      " 61%|██████    | 186/305 [2:02:30<1:11:42, 36.16s/it]"
     ]
    },
    {
     "name": "stdout",
     "output_type": "stream",
     "text": [
      "Command '['fanficfare', 'https://www.wattpad.com/story/185769054-my-boyfriend-is-ghost', '--format=txt']' returned non-zero exit status 1.\n"
     ]
    },
    {
     "name": "stderr",
     "output_type": "stream",
     "text": [
      "\r",
      " 73%|███████▎  | 224/305 [2:02:30<39:21, 29.16s/it]"
     ]
    },
    {
     "name": "stdout",
     "output_type": "stream",
     "text": [
      "Command '['fanficfare', 'https://www.wattpad.com/story/165686013-inside-tamat', '--format=txt']' returned non-zero exit status 1.\n"
     ]
    },
    {
     "name": "stderr",
     "output_type": "stream",
     "text": [
      "\r",
      " 63%|██████▎   | 192/305 [2:02:30<1:04:26, 34.21s/it]"
     ]
    },
    {
     "name": "stdout",
     "output_type": "stream",
     "text": [
      "Command '['fanficfare', 'https://www.wattpad.com/story/853372-kasih-nadiah-nadiah%27s-love', '--format=txt']' returned non-zero exit status 1.\n"
     ]
    },
    {
     "name": "stderr",
     "output_type": "stream",
     "text": [
      "\r",
      " 63%|██████▎   | 191/305 [2:02:30<49:38, 26.13s/it]"
     ]
    },
    {
     "name": "stdout",
     "output_type": "stream",
     "text": [
      "Command '['fanficfare', 'https://www.wattpad.com/story/209649351-life-is-a-game-countryhumans-x-reader', '--format=txt']' returned non-zero exit status 1.\n"
     ]
    },
    {
     "name": "stderr",
     "output_type": "stream",
     "text": [
      "\r",
      " 63%|██████▎   | 193/305 [2:02:30<41:12, 22.07s/it]"
     ]
    },
    {
     "name": "stdout",
     "output_type": "stream",
     "text": [
      "Command '['fanficfare', 'https://www.wattpad.com/story/80415836-monolog-si-gadis-kota', '--format=txt']' returned non-zero exit status 1.\n"
     ]
    },
    {
     "name": "stderr",
     "output_type": "stream",
     "text": [
      " 70%|███████   | 214/305 [2:02:31<26:01, 17.16s/it]t]"
     ]
    },
    {
     "name": "stdout",
     "output_type": "stream",
     "text": [
      "Command '['fanficfare', 'https://www.wattpad.com/story/167291221-ica-vs-oca', '--format=txt']' returned non-zero exit status 1.\n"
     ]
    },
    {
     "name": "stderr",
     "output_type": "stream",
     "text": [
      "\r",
      " 68%|██████▊   | 206/305 [2:02:31<53:30, 32.43s/it]"
     ]
    },
    {
     "name": "stdout",
     "output_type": "stream",
     "text": [
      "Command '['fanficfare', 'https://www.wattpad.com/story/181881394-cerita-kita', '--format=txt']' returned non-zero exit status 1.\n"
     ]
    },
    {
     "name": "stderr",
     "output_type": "stream",
     "text": [
      "\r",
      " 67%|██████▋   | 204/305 [2:02:31<28:40, 17.03s/it]"
     ]
    },
    {
     "name": "stdout",
     "output_type": "stream",
     "text": [
      "Command '['fanficfare', 'https://www.wattpad.com/story/179989055-hilang', '--format=txt']' returned non-zero exit status 1.\n"
     ]
    },
    {
     "name": "stderr",
     "output_type": "stream",
     "text": [
      "\r",
      " 71%|███████▏  | 218/305 [2:02:31<1:04:03, 44.18s/it]"
     ]
    },
    {
     "name": "stdout",
     "output_type": "stream",
     "text": [
      "Command '['fanficfare', 'https://www.wattpad.com/story/207350575-bunga-yang-mekar', '--format=txt']' returned non-zero exit status 1.\n"
     ]
    },
    {
     "name": "stderr",
     "output_type": "stream",
     "text": [
      "\r",
      " 65%|██████▌   | 199/305 [2:02:31<47:14, 26.74s/it]"
     ]
    },
    {
     "name": "stdout",
     "output_type": "stream",
     "text": [
      "Command '['fanficfare', 'https://www.wattpad.com/story/198946996-sajak-dalam-bisu', '--format=txt']' returned non-zero exit status 1.\n"
     ]
    },
    {
     "name": "stderr",
     "output_type": "stream",
     "text": [
      " 66%|██████▌   | 200/305 [2:02:31<43:25, 24.82s/it]"
     ]
    },
    {
     "name": "stdout",
     "output_type": "stream",
     "text": [
      "Command '['fanficfare', 'https://www.wattpad.com/story/186829976-pengantin-perawan-telah-terbit', '--format=txt']' returned non-zero exit status 1.\n"
     ]
    },
    {
     "name": "stderr",
     "output_type": "stream",
     "text": [
      "\r",
      " 68%|██████▊   | 208/305 [2:02:31<1:04:08, 39.67s/it]"
     ]
    },
    {
     "name": "stdout",
     "output_type": "stream",
     "text": [
      "Command '['fanficfare', 'https://www.wattpad.com/story/190763842-behind-you-i-wanna-be-your-guardian', '--format=txt']' returned non-zero exit status 1.\n"
     ]
    },
    {
     "name": "stderr",
     "output_type": "stream",
     "text": [
      "\r",
      " 69%|██████▊   | 209/305 [2:02:31<50:44, 31.71s/it]"
     ]
    },
    {
     "name": "stdout",
     "output_type": "stream",
     "text": [
      "Command '['fanficfare', 'https://www.wattpad.com/story/111790979-encik-singa-pujaan-hatiku', '--format=txt']' returned non-zero exit status 1.\n"
     ]
    },
    {
     "name": "stderr",
     "output_type": "stream",
     "text": [
      " 64%|██████▍   | 196/305 [2:07:23<31:47, 17.50s/it]t]"
     ]
    },
    {
     "name": "stdout",
     "output_type": "stream",
     "text": [
      "Command '['fanficfare', 'https://www.wattpad.com/story/100947014-i-luv-%2B-hate-u-on-hold', '--format=txt']' returned non-zero exit status 1.\n"
     ]
    },
    {
     "name": "stderr",
     "output_type": "stream",
     "text": [
      "\r",
      " 71%|███████▏  | 218/305 [2:07:45<40:33, 27.97s/it]"
     ]
    },
    {
     "name": "stdout",
     "output_type": "stream",
     "text": [
      "Command '['fanficfare', 'https://www.wattpad.com/story/212779000-isi-hati', '--format=txt']' returned non-zero exit status 1.\n"
     ]
    },
    {
     "name": "stderr",
     "output_type": "stream",
     "text": [
      "\r",
      " 66%|██████▌   | 202/305 [2:07:45<43:46, 25.50s/it]"
     ]
    },
    {
     "name": "stdout",
     "output_type": "stream",
     "text": [
      "Command '['fanficfare', 'https://www.wattpad.com/story/157735758-forever-and-a-day-lee-know', '--format=txt']' returned non-zero exit status 1.\n"
     ]
    },
    {
     "name": "stderr",
     "output_type": "stream",
     "text": [
      " 76%|███████▌  | 231/305 [2:07:45<21:22, 17.34s/it]"
     ]
    },
    {
     "name": "stdout",
     "output_type": "stream",
     "text": [
      "Command '['fanficfare', 'https://www.wattpad.com/story/207994029-kakel-byun-baekhyun', '--format=txt']' returned non-zero exit status 1.\n"
     ]
    },
    {
     "name": "stderr",
     "output_type": "stream",
     "text": [
      "\r",
      " 68%|██████▊   | 208/305 [2:07:45<38:17, 23.69s/it]"
     ]
    },
    {
     "name": "stdout",
     "output_type": "stream",
     "text": [
      "Command '['fanficfare', 'https://www.wattpad.com/story/122441066-cyanic-poetry-random-thoughts', '--format=txt']' returned non-zero exit status 1.\n"
     ]
    },
    {
     "name": "stderr",
     "output_type": "stream",
     "text": [
      "\r",
      " 67%|██████▋   | 204/305 [2:07:45<26:26, 15.70s/it]"
     ]
    },
    {
     "name": "stdout",
     "output_type": "stream",
     "text": [
      "Command '['fanficfare', 'https://www.wattpad.com/story/86733299-gomen-ne-summer-beginner', '--format=txt']' returned non-zero exit status 1.\n"
     ]
    },
    {
     "name": "stderr",
     "output_type": "stream",
     "text": [
      "\r",
      " 73%|███████▎  | 222/305 [2:07:45<1:06:18, 47.93s/it]"
     ]
    },
    {
     "name": "stdout",
     "output_type": "stream",
     "text": [
      "Command '['fanficfare', 'https://www.wattpad.com/story/121335258-%D0%BC%CF%85%CE%B1%E2%84%93%CE%B1%C6%92-%E2%95%AE%CF%81j%D0%BC', '--format=txt']' returned non-zero exit status 1.\n"
     ]
    },
    {
     "name": "stderr",
     "output_type": "stream",
     "text": [
      "\r",
      " 73%|███████▎  | 224/305 [2:07:46<1:14:13, 54.98s/it]"
     ]
    },
    {
     "name": "stdout",
     "output_type": "stream",
     "text": [
      "Command '['fanficfare', 'https://www.wattpad.com/story/169102309-game-for-a-bad-boy', '--format=txt']' returned non-zero exit status 1.\n"
     ]
    },
    {
     "name": "stderr",
     "output_type": "stream",
     "text": [
      " 68%|██████▊   | 206/305 [2:07:46<26:51, 16.28s/it]t]"
     ]
    },
    {
     "name": "stdout",
     "output_type": "stream",
     "text": [
      "Command '['fanficfare', 'https://www.wattpad.com/story/159124828-this-feeling', '--format=txt']' returned non-zero exit status 1.\n"
     ]
    },
    {
     "name": "stderr",
     "output_type": "stream",
     "text": [
      "\r",
      " 69%|██████▊   | 209/305 [2:07:46<51:57, 32.47s/it]"
     ]
    },
    {
     "name": "stdout",
     "output_type": "stream",
     "text": [
      "Command '['fanficfare', 'https://www.wattpad.com/story/173986172-my-sweet-tengku', '--format=txt']' returned non-zero exit status 1.\n"
     ]
    },
    {
     "name": "stderr",
     "output_type": "stream",
     "text": [
      "\r",
      " 67%|██████▋   | 205/305 [2:07:46<1:32:23, 55.43s/it]"
     ]
    },
    {
     "name": "stdout",
     "output_type": "stream",
     "text": [
      "Command '['fanficfare', 'https://www.wattpad.com/story/103908893-kau-dan-lelehan-gelato', '--format=txt']' returned non-zero exit status 1.\n"
     ]
    },
    {
     "name": "stderr",
     "output_type": "stream",
     "text": [
      "\r",
      " 71%|███████   | 216/305 [2:07:46<49:43, 33.53s/it]"
     ]
    },
    {
     "name": "stdout",
     "output_type": "stream",
     "text": [
      "Command '['fanficfare', 'https://www.wattpad.com/story/142640206-ketua-kelas-galak', '--format=txt']' returned non-zero exit status 1.\n"
     ]
    },
    {
     "name": "stderr",
     "output_type": "stream",
     "text": [
      "\r",
      " 72%|███████▏  | 221/305 [2:07:46<24:24, 17.43s/it]"
     ]
    },
    {
     "name": "stdout",
     "output_type": "stream",
     "text": [
      "Command '['fanficfare', 'https://www.wattpad.com/story/79366305-contengan-adik', '--format=txt']' returned non-zero exit status 1.\n"
     ]
    },
    {
     "name": "stderr",
     "output_type": "stream",
     "text": [
      "\r",
      " 65%|██████▍   | 198/305 [2:07:46<1:24:00, 47.11s/it]"
     ]
    },
    {
     "name": "stdout",
     "output_type": "stream",
     "text": [
      "Command '['fanficfare', 'https://www.wattpad.com/story/91029417-replay', '--format=txt']' returned non-zero exit status 1.\n"
     ]
    },
    {
     "name": "stderr",
     "output_type": "stream",
     "text": [
      "\r",
      " 66%|██████▌   | 202/305 [2:07:46<52:06, 30.36s/it]"
     ]
    },
    {
     "name": "stdout",
     "output_type": "stream",
     "text": [
      "Command '['fanficfare', 'https://www.wattpad.com/story/118316657-my-love-made-in-korea', '--format=txt']' returned non-zero exit status 1.\n"
     ]
    },
    {
     "name": "stderr",
     "output_type": "stream",
     "text": [
      "\r",
      " 76%|███████▋  | 233/305 [2:07:47<32:25, 27.03s/it]"
     ]
    },
    {
     "name": "stdout",
     "output_type": "stream",
     "text": [
      "Command '['fanficfare', 'https://www.wattpad.com/story/122904075-%F0%9F%96%A4%F0%9F%8E%B6', '--format=txt']' returned non-zero exit status 1.\n"
     ]
    },
    {
     "name": "stderr",
     "output_type": "stream",
     "text": [
      "\r",
      " 65%|██████▌   | 199/305 [2:07:47<1:07:26, 38.18s/it]"
     ]
    },
    {
     "name": "stdout",
     "output_type": "stream",
     "text": [
      "Command '['fanficfare', 'https://www.wattpad.com/story/100231026-warna-hati', '--format=txt']' returned non-zero exit status 1.\n"
     ]
    },
    {
     "name": "stderr",
     "output_type": "stream",
     "text": [
      "\r",
      " 71%|███████   | 216/305 [2:07:47<40:01, 26.99s/it]"
     ]
    },
    {
     "name": "stdout",
     "output_type": "stream",
     "text": [
      "Command '['fanficfare', 'https://www.wattpad.com/story/198880250-his-favorite-color-was-black-and-white', '--format=txt']' returned non-zero exit status 1.\n"
     ]
    },
    {
     "name": "stderr",
     "output_type": "stream",
     "text": [
      "\r",
      " 69%|██████▉   | 210/305 [2:07:47<1:26:03, 54.36s/it]"
     ]
    },
    {
     "name": "stdout",
     "output_type": "stream",
     "text": [
      "Command '['fanficfare', 'https://www.wattpad.com/story/168323433-ratusan-purnama%E2%9C%85', '--format=txt']' returned non-zero exit status 1.\n"
     ]
    },
    {
     "name": "stderr",
     "output_type": "stream",
     "text": [
      "\r",
      " 66%|██████▌   | 202/305 [2:07:47<1:25:43, 49.94s/it]"
     ]
    },
    {
     "name": "stdout",
     "output_type": "stream",
     "text": [
      "Command '['fanficfare', 'https://www.wattpad.com/story/206081565-back-to-star', '--format=txt']' returned non-zero exit status 1.\n"
     ]
    },
    {
     "name": "stderr",
     "output_type": "stream",
     "text": [
      "\r",
      " 70%|███████   | 214/305 [2:07:47<1:09:18, 45.70s/it]"
     ]
    },
    {
     "name": "stdout",
     "output_type": "stream",
     "text": [
      "Command '['fanficfare', 'https://www.wattpad.com/story/206334907-cara-cepat-menjadi-penulis-hebat-tips-menulis', '--format=txt']' returned non-zero exit status 1.\n"
     ]
    },
    {
     "name": "stderr",
     "output_type": "stream",
     "text": [
      "\r",
      " 66%|██████▌   | 201/305 [2:07:47<1:05:14, 37.64s/it]"
     ]
    },
    {
     "name": "stdout",
     "output_type": "stream",
     "text": [
      "Command '['fanficfare', 'https://www.wattpad.com/story/175751231-you-belong-with-me', '--format=txt']' returned non-zero exit status 1.\n"
     ]
    },
    {
     "name": "stderr",
     "output_type": "stream",
     "text": [
      " 74%|███████▍  | 225/305 [2:12:56<35:25, 26.57s/it]t]"
     ]
    },
    {
     "name": "stdout",
     "output_type": "stream",
     "text": [
      "Command '['fanficfare', 'https://www.wattpad.com/story/201055916-resah-dalam-kata', '--format=txt']' returned non-zero exit status 1.\n"
     ]
    },
    {
     "name": "stderr",
     "output_type": "stream",
     "text": [
      "\r",
      " 70%|██████▉   | 213/305 [2:13:16<1:14:38, 48.68s/it]"
     ]
    },
    {
     "name": "stdout",
     "output_type": "stream",
     "text": [
      "Command '['fanficfare', 'https://www.wattpad.com/story/109766854-hanya-kau-untukku', '--format=txt']' returned non-zero exit status 1.\n"
     ]
    },
    {
     "name": "stderr",
     "output_type": "stream",
     "text": [
      "\r",
      " 69%|██████▉   | 210/305 [2:13:16<1:33:29, 59.05s/it]"
     ]
    },
    {
     "name": "stdout",
     "output_type": "stream",
     "text": [
      "Command '['fanficfare', 'https://www.wattpad.com/story/126718695-te-amo%F0%9F%92%98', '--format=txt']' returned non-zero exit status 1.\n"
     ]
    },
    {
     "name": "stderr",
     "output_type": "stream",
     "text": [
      "\r",
      " 77%|███████▋  | 234/305 [2:13:17<26:31, 22.41s/it]"
     ]
    },
    {
     "name": "stdout",
     "output_type": "stream",
     "text": [
      "Command '['fanficfare', 'https://www.wattpad.com/story/177594269-kata', '--format=txt']' returned non-zero exit status 1.\n"
     ]
    },
    {
     "name": "stderr",
     "output_type": "stream",
     "text": [
      "\r",
      " 67%|██████▋   | 205/305 [2:13:17<1:42:01, 61.21s/it]"
     ]
    },
    {
     "name": "stdout",
     "output_type": "stream",
     "text": [
      "Command '['fanficfare', 'https://www.wattpad.com/story/163058739-aku-dan-sebuah-perpisahan', '--format=txt']' returned non-zero exit status 1.\n"
     ]
    },
    {
     "name": "stderr",
     "output_type": "stream",
     "text": [
      "\r",
      " 72%|███████▏  | 221/305 [2:13:17<27:59, 19.99s/it]"
     ]
    },
    {
     "name": "stdout",
     "output_type": "stream",
     "text": [
      "Command '['fanficfare', 'https://www.wattpad.com/story/206504664-she%27s-violita-completed', '--format=txt']' returned non-zero exit status 1.\n"
     ]
    },
    {
     "name": "stderr",
     "output_type": "stream",
     "text": [
      "\r",
      " 69%|██████▉   | 211/305 [2:13:17<53:16, 34.01s/it]"
     ]
    },
    {
     "name": "stdout",
     "output_type": "stream",
     "text": [
      "Command '['fanficfare', 'https://www.wattpad.com/story/172000618-kata-rasa-kata-kita', '--format=txt']' returned non-zero exit status 1.\n"
     ]
    },
    {
     "name": "stderr",
     "output_type": "stream",
     "text": [
      "\r",
      " 70%|██████▉   | 212/305 [2:13:17<1:20:03, 51.65s/it]"
     ]
    },
    {
     "name": "stdout",
     "output_type": "stream",
     "text": [
      "Command '['fanficfare', 'https://www.wattpad.com/story/161804770-inks', '--format=txt']' returned non-zero exit status 1.\n"
     ]
    },
    {
     "name": "stderr",
     "output_type": "stream",
     "text": [
      "\r",
      " 79%|███████▊  | 240/305 [2:13:17<48:54, 45.14s/it]"
     ]
    },
    {
     "name": "stdout",
     "output_type": "stream",
     "text": [
      "Command '['fanficfare', 'https://www.wattpad.com/story/128155870-psychiatrist-in-love-on-hold', '--format=txt']' returned non-zero exit status 1.\n"
     ]
    },
    {
     "name": "stderr",
     "output_type": "stream",
     "text": [
      "\r",
      " 76%|███████▋  | 233/305 [2:13:18<48:28, 40.40s/it]"
     ]
    },
    {
     "name": "stdout",
     "output_type": "stream",
     "text": [
      "Command '['fanficfare', 'https://www.wattpad.com/story/170731586-black-cloud', '--format=txt']' returned non-zero exit status 1.\n"
     ]
    },
    {
     "name": "stderr",
     "output_type": "stream",
     "text": [
      "\r",
      " 70%|██████▉   | 212/305 [2:13:18<45:22, 29.27s/it]"
     ]
    },
    {
     "name": "stdout",
     "output_type": "stream",
     "text": [
      "Command '['fanficfare', 'https://www.wattpad.com/story/107303849-dear-mantan-terulang-kembali', '--format=txt']' returned non-zero exit status 1.\n"
     ]
    },
    {
     "name": "stderr",
     "output_type": "stream",
     "text": [
      "\r",
      " 75%|███████▍  | 228/305 [2:13:18<1:02:08, 48.42s/it]"
     ]
    },
    {
     "name": "stdout",
     "output_type": "stream",
     "text": [
      "Command '['fanficfare', 'https://www.wattpad.com/story/112064054-dangerous-p-jihoon', '--format=txt']' returned non-zero exit status 1.\n"
     ]
    },
    {
     "name": "stderr",
     "output_type": "stream",
     "text": [
      "\r",
      " 70%|██████▉   | 212/305 [2:13:18<1:31:43, 59.17s/it]"
     ]
    },
    {
     "name": "stdout",
     "output_type": "stream",
     "text": [
      "Command '['fanficfare', 'https://www.wattpad.com/story/156429120-my-3-am', '--format=txt']' returned non-zero exit status 1.\n"
     ]
    },
    {
     "name": "stderr",
     "output_type": "stream",
     "text": [
      "\r",
      " 71%|███████   | 216/305 [2:13:18<56:01, 37.76s/it]"
     ]
    },
    {
     "name": "stdout",
     "output_type": "stream",
     "text": [
      "Command '['fanficfare', 'https://www.wattpad.com/story/120334467-sincerity-complete', '--format=txt']' returned non-zero exit status 1.\n"
     ]
    },
    {
     "name": "stderr",
     "output_type": "stream",
     "text": [
      "\r",
      " 72%|███████▏  | 219/305 [2:13:18<47:08, 32.89s/it]"
     ]
    },
    {
     "name": "stdout",
     "output_type": "stream",
     "text": [
      "Command '['fanficfare', 'https://www.wattpad.com/story/184764307-the-story-of-kayla%27s-life', '--format=txt']' returned non-zero exit status 1.\n"
     ]
    },
    {
     "name": "stderr",
     "output_type": "stream",
     "text": [
      "\r",
      " 68%|██████▊   | 206/305 [2:13:18<1:09:03, 41.85s/it]"
     ]
    },
    {
     "name": "stdout",
     "output_type": "stream",
     "text": [
      "Command '['fanficfare', 'https://www.wattpad.com/story/86038943-crush-completed-%F0%9F%A6%84', '--format=txt']' returned non-zero exit status 1.\n"
     ]
    },
    {
     "name": "stderr",
     "output_type": "stream",
     "text": [
      "\r",
      " 67%|██████▋   | 205/305 [2:13:19<50:02, 30.02s/it]"
     ]
    },
    {
     "name": "stdout",
     "output_type": "stream",
     "text": [
      "Command '['fanficfare', 'https://www.wattpad.com/story/132941566-biru-dan-api-quotes', '--format=txt']' returned non-zero exit status 1.\n"
     ]
    },
    {
     "name": "stderr",
     "output_type": "stream",
     "text": [
      "\r",
      " 72%|███████▏  | 221/305 [2:13:19<1:06:06, 47.22s/it]"
     ]
    },
    {
     "name": "stdout",
     "output_type": "stream",
     "text": [
      "Command '['fanficfare', 'https://www.wattpad.com/story/143830386-sweetest-daddy', '--format=txt']' returned non-zero exit status 1.\n"
     ]
    },
    {
     "name": "stderr",
     "output_type": "stream",
     "text": [
      "\r",
      " 74%|███████▍  | 226/305 [2:13:19<49:37, 37.69s/it]"
     ]
    },
    {
     "name": "stdout",
     "output_type": "stream",
     "text": [
      "Command '['fanficfare', 'https://www.wattpad.com/story/113768673-you', '--format=txt']' returned non-zero exit status 1.\n"
     ]
    },
    {
     "name": "stderr",
     "output_type": "stream",
     "text": [
      "\r",
      " 77%|███████▋  | 234/305 [2:13:19<35:03, 29.62s/it]"
     ]
    },
    {
     "name": "stdout",
     "output_type": "stream",
     "text": [
      "Command '['fanficfare', 'https://www.wattpad.com/story/106099204-paper-love-%EC%A2%85%EC%9D%B4-%EC%82%AC%EB%9E%91', '--format=txt']' returned non-zero exit status 1.\n"
     ]
    },
    {
     "name": "stderr",
     "output_type": "stream",
     "text": [
      "\r",
      " 76%|███████▌  | 232/305 [2:13:19<37:05, 30.48s/it]"
     ]
    },
    {
     "name": "stdout",
     "output_type": "stream",
     "text": [
      "Command '['fanficfare', 'https://www.wattpad.com/story/183389585-the-way-i-love-you-rian-ardianto', '--format=txt']' returned non-zero exit status 1.\n"
     ]
    },
    {
     "name": "stderr",
     "output_type": "stream",
     "text": [
      " 77%|███████▋  | 234/305 [2:18:06<21:10, 17.90s/it]t]"
     ]
    },
    {
     "name": "stdout",
     "output_type": "stream",
     "text": [
      "Command '['fanficfare', 'https://www.wattpad.com/story/168714886-perempuan-penyulam-sabar', '--format=txt']' returned non-zero exit status 1.\n"
     ]
    },
    {
     "name": "stderr",
     "output_type": "stream",
     "text": [
      "\r",
      " 70%|██████▉   | 212/305 [2:18:27<1:11:16, 45.99s/it]"
     ]
    },
    {
     "name": "stdout",
     "output_type": "stream",
     "text": [
      "Command '['fanficfare', 'https://www.wattpad.com/story/184455851-ask-country-house', '--format=txt']' returned non-zero exit status 1.\n"
     ]
    },
    {
     "name": "stderr",
     "output_type": "stream",
     "text": [
      "\r",
      " 72%|███████▏  | 219/305 [2:18:27<1:04:48, 45.22s/it]"
     ]
    },
    {
     "name": "stdout",
     "output_type": "stream",
     "text": [
      "Command '['fanficfare', 'https://www.wattpad.com/story/207286778-pl4yh0use', '--format=txt']' returned non-zero exit status 1.\n"
     ]
    },
    {
     "name": "stderr",
     "output_type": "stream",
     "text": [
      "\r",
      " 77%|███████▋  | 236/305 [2:18:27<25:48, 22.45s/it]"
     ]
    },
    {
     "name": "stdout",
     "output_type": "stream",
     "text": [
      "Command '['fanficfare', 'https://www.wattpad.com/story/142621096-setelah-kepergianmu', '--format=txt']' returned non-zero exit status 1.\n"
     ]
    },
    {
     "name": "stderr",
     "output_type": "stream",
     "text": [
      "\r",
      " 78%|███████▊  | 239/305 [2:18:27<1:00:56, 55.41s/it]"
     ]
    },
    {
     "name": "stdout",
     "output_type": "stream",
     "text": [
      "Command '['fanficfare', 'https://www.wattpad.com/story/161689395-thank-you-so-much', '--format=txt']' returned non-zero exit status 1.\n"
     ]
    },
    {
     "name": "stderr",
     "output_type": "stream",
     "text": [
      " 76%|███████▋  | 233/305 [2:18:28<19:19, 16.10s/it]"
     ]
    },
    {
     "name": "stdout",
     "output_type": "stream",
     "text": [
      "Command '['fanficfare', 'https://www.wattpad.com/story/134781511-cerita-nanggi', '--format=txt']' returned non-zero exit status 1.\n"
     ]
    },
    {
     "name": "stderr",
     "output_type": "stream",
     "text": [
      " 72%|███████▏  | 219/305 [2:18:28<55:03, 38.42s/it]  "
     ]
    },
    {
     "name": "stdout",
     "output_type": "stream",
     "text": [
      "Command '['fanficfare', 'https://www.wattpad.com/story/171838232-kisah-tentang-kita', '--format=txt']' returned non-zero exit status 1.\n"
     ]
    },
    {
     "name": "stderr",
     "output_type": "stream",
     "text": [
      "\r",
      " 70%|███████   | 214/305 [2:18:28<40:47, 26.89s/it]"
     ]
    },
    {
     "name": "stdout",
     "output_type": "stream",
     "text": [
      "Command '['fanficfare', 'https://www.wattpad.com/story/144834685-si-hantu-cantik', '--format=txt']' returned non-zero exit status 1.\n"
     ]
    },
    {
     "name": "stderr",
     "output_type": "stream",
     "text": [
      "\r",
      " 75%|███████▌  | 229/305 [2:18:28<43:03, 34.00s/it]"
     ]
    },
    {
     "name": "stdout",
     "output_type": "stream",
     "text": [
      "Command '['fanficfare', 'https://www.wattpad.com/story/137225438-acong-story-dini-hari', '--format=txt']' returned non-zero exit status 1.\n"
     ]
    },
    {
     "name": "stderr",
     "output_type": "stream",
     "text": [
      "\r",
      " 81%|████████  | 246/305 [2:18:28<37:50, 38.49s/it]"
     ]
    },
    {
     "name": "stdout",
     "output_type": "stream",
     "text": [
      "Command '['fanficfare', 'https://www.wattpad.com/story/96584256-flashlight', '--format=txt']' returned non-zero exit status 1.\n"
     ]
    },
    {
     "name": "stderr",
     "output_type": "stream",
     "text": [
      "\r",
      " 79%|███████▊  | 240/305 [2:18:28<57:36, 53.18s/it]"
     ]
    },
    {
     "name": "stdout",
     "output_type": "stream",
     "text": [
      "Command '['fanficfare', 'https://www.wattpad.com/story/182672067-dear-samena', '--format=txt']' returned non-zero exit status 1.\n"
     ]
    },
    {
     "name": "stderr",
     "output_type": "stream",
     "text": [
      "\r",
      " 71%|███████▏  | 218/305 [2:18:29<53:07, 36.64s/it]"
     ]
    },
    {
     "name": "stdout",
     "output_type": "stream",
     "text": [
      "Command '['fanficfare', 'https://www.wattpad.com/story/156279309-slow-update-cikgu-praktikal', '--format=txt']' returned non-zero exit status 1.\n"
     ]
    },
    {
     "name": "stderr",
     "output_type": "stream",
     "text": [
      "\r",
      " 82%|████████▏ | 251/305 [2:18:29<21:28, 23.87s/it]"
     ]
    },
    {
     "name": "stdout",
     "output_type": "stream",
     "text": [
      "Command '['fanficfare', 'https://www.wattpad.com/story/151223145-mairiez-she%27s-with-me', '--format=txt']' returned non-zero exit status 1.\n"
     ]
    },
    {
     "name": "stderr",
     "output_type": "stream",
     "text": [
      "\r",
      " 79%|███████▉  | 241/305 [2:18:29<44:22, 41.60s/it]"
     ]
    },
    {
     "name": "stdout",
     "output_type": "stream",
     "text": [
      "Command '['fanficfare', 'https://www.wattpad.com/story/96039242-tinta-cinta', '--format=txt']' returned non-zero exit status 1.\n"
     ]
    },
    {
     "name": "stderr",
     "output_type": "stream",
     "text": [
      "\r",
      " 72%|███████▏  | 221/305 [2:18:29<50:11, 35.85s/it]"
     ]
    },
    {
     "name": "stdout",
     "output_type": "stream",
     "text": [
      "Command '['fanficfare', 'https://www.wattpad.com/story/203553091-because-of-your-twin', '--format=txt']' returned non-zero exit status 1.\n"
     ]
    },
    {
     "name": "stderr",
     "output_type": "stream",
     "text": [
      "\r",
      " 71%|███████▏  | 218/305 [2:18:29<35:48, 24.70s/it]"
     ]
    },
    {
     "name": "stdout",
     "output_type": "stream",
     "text": [
      "Command '['fanficfare', 'https://www.wattpad.com/story/173201980-buku-amal', '--format=txt']' returned non-zero exit status 1.\n"
     ]
    },
    {
     "name": "stderr",
     "output_type": "stream",
     "text": [
      " 80%|███████▉  | 243/305 [2:18:29<21:32, 20.85s/it]t]"
     ]
    },
    {
     "name": "stdout",
     "output_type": "stream",
     "text": [
      "Command '['fanficfare', 'https://www.wattpad.com/story/56498791-kumpulan-kata-kata-bagian-1', '--format=txt']' returned non-zero exit status 1.\n"
     ]
    },
    {
     "name": "stderr",
     "output_type": "stream",
     "text": [
      "\r",
      " 72%|███████▏  | 220/305 [2:18:29<1:06:32, 46.97s/it]"
     ]
    },
    {
     "name": "stdout",
     "output_type": "stream",
     "text": [
      "Command '['fanficfare', 'https://www.wattpad.com/story/1344939-death%27s-messenger-kakashi-love-story', '--format=txt']' returned non-zero exit status 1.\n"
     ]
    },
    {
     "name": "stderr",
     "output_type": "stream",
     "text": [
      "\r",
      " 72%|███████▏  | 221/305 [2:18:30<47:33, 33.96s/it]"
     ]
    },
    {
     "name": "stdout",
     "output_type": "stream",
     "text": [
      "Command '['fanficfare', 'https://www.wattpad.com/story/204572644-rava', '--format=txt']' returned non-zero exit status 1.\n"
     ]
    },
    {
     "name": "stderr",
     "output_type": "stream",
     "text": [
      "\r",
      " 73%|███████▎  | 224/305 [2:18:30<23:47, 17.62s/it]"
     ]
    },
    {
     "name": "stdout",
     "output_type": "stream",
     "text": [
      "Command '['fanficfare', 'https://www.wattpad.com/story/134195267-tacenda-puisi-%E2%9C%94', '--format=txt']' returned non-zero exit status 1.\n"
     ]
    },
    {
     "name": "stderr",
     "output_type": "stream",
     "text": [
      " 78%|███████▊  | 239/305 [2:23:15<18:57, 17.23s/it]  "
     ]
    },
    {
     "name": "stdout",
     "output_type": "stream",
     "text": [
      "Command '['fanficfare', 'https://www.wattpad.com/story/190779853-milodea', '--format=txt']' returned non-zero exit status 1.\n"
     ]
    },
    {
     "name": "stderr",
     "output_type": "stream",
     "text": [
      "\r",
      " 73%|███████▎  | 223/305 [2:23:35<27:17, 19.97s/it]"
     ]
    },
    {
     "name": "stdout",
     "output_type": "stream",
     "text": [
      "Command '['fanficfare', 'https://www.wattpad.com/story/204632599-sudah-tertulis', '--format=txt']' returned non-zero exit status 1.\n"
     ]
    },
    {
     "name": "stderr",
     "output_type": "stream",
     "text": [
      "\r",
      " 74%|███████▍  | 226/305 [2:23:36<54:34, 41.45s/it]"
     ]
    },
    {
     "name": "stdout",
     "output_type": "stream",
     "text": [
      "Command '['fanficfare', 'https://www.wattpad.com/story/131784086-naratif-cinta', '--format=txt']' returned non-zero exit status 1.\n"
     ]
    },
    {
     "name": "stderr",
     "output_type": "stream",
     "text": [
      "\r",
      " 74%|███████▍  | 227/305 [2:23:36<1:09:49, 53.71s/it]"
     ]
    },
    {
     "name": "stdout",
     "output_type": "stream",
     "text": [
      "Command '['fanficfare', 'https://www.wattpad.com/story/127414628-quotes', '--format=txt']' returned non-zero exit status 1.\n"
     ]
    },
    {
     "name": "stderr",
     "output_type": "stream",
     "text": [
      " 82%|████████▏ | 250/305 [2:23:36<19:24, 21.18s/it]"
     ]
    },
    {
     "name": "stdout",
     "output_type": "stream",
     "text": [
      "Command '['fanficfare', 'https://www.wattpad.com/story/200154611-tq-kapten-qash-irdina', '--format=txt']' returned non-zero exit status 1.\n"
     ]
    },
    {
     "name": "stderr",
     "output_type": "stream",
     "text": [
      "\r",
      " 75%|███████▍  | 228/305 [2:23:36<29:58, 23.36s/it]"
     ]
    },
    {
     "name": "stdout",
     "output_type": "stream",
     "text": [
      "Command '['fanficfare', 'https://www.wattpad.com/story/176459665-her-fragile-constellations-pt-ii', '--format=txt']' returned non-zero exit status 1.\n"
     ]
    },
    {
     "name": "stderr",
     "output_type": "stream",
     "text": [
      "\r",
      " 86%|████████▌ | 261/305 [2:23:36<19:50, 27.07s/it]"
     ]
    },
    {
     "name": "stdout",
     "output_type": "stream",
     "text": [
      "Command '['fanficfare', 'https://www.wattpad.com/story/181777132-my-diary', '--format=txt']' returned non-zero exit status 1.\n"
     ]
    },
    {
     "name": "stderr",
     "output_type": "stream",
     "text": [
      "\r",
      " 79%|███████▊  | 240/305 [2:23:36<1:03:44, 58.84s/it]"
     ]
    },
    {
     "name": "stdout",
     "output_type": "stream",
     "text": [
      "Command '['fanficfare', 'https://www.wattpad.com/story/147188841-hujan-tak-lagi-di-bulan-juni', '--format=txt']' returned non-zero exit status 1.\n"
     ]
    },
    {
     "name": "stderr",
     "output_type": "stream",
     "text": [
      "\r",
      " 79%|███████▉  | 242/305 [2:23:36<55:24, 52.78s/it]"
     ]
    },
    {
     "name": "stdout",
     "output_type": "stream",
     "text": [
      "Command '['fanficfare', 'https://www.wattpad.com/story/160316016-sabahan-words-%E2%9C%A8', '--format=txt']' returned non-zero exit status 1.\n"
     ]
    },
    {
     "name": "stderr",
     "output_type": "stream",
     "text": [
      "\r",
      " 74%|███████▍  | 226/305 [2:23:36<1:13:00, 55.44s/it]"
     ]
    },
    {
     "name": "stdout",
     "output_type": "stream",
     "text": [
      "Command '['fanficfare', 'https://www.wattpad.com/story/162545729-takdir-cinta-amirah', '--format=txt']' returned non-zero exit status 1.\n"
     ]
    },
    {
     "name": "stderr",
     "output_type": "stream",
     "text": [
      "\r",
      " 73%|███████▎  | 224/305 [2:23:37<1:13:28, 54.43s/it]"
     ]
    },
    {
     "name": "stdout",
     "output_type": "stream",
     "text": [
      "Command '['fanficfare', 'https://www.wattpad.com/story/160668422-puisi-hati', '--format=txt']' returned non-zero exit status 1.\n"
     ]
    },
    {
     "name": "stderr",
     "output_type": "stream",
     "text": [
      "\r",
      " 81%|████████  | 246/305 [2:23:37<26:17, 26.73s/it]"
     ]
    },
    {
     "name": "stdout",
     "output_type": "stream",
     "text": [
      "Command '['fanficfare', 'https://www.wattpad.com/story/170163041-my-prosa', '--format=txt']' returned non-zero exit status 1.\n",
      "Command '['fanficfare', 'https://www.wattpad.com/story/98186601-i-met-her-astro-applyfic', '--format=txt']' returned non-zero exit status 1.\n"
     ]
    },
    {
     "name": "stderr",
     "output_type": "stream",
     "text": [
      " 72%|███████▏  | 220/305 [2:23:37<1:13:28, 51.87s/it]"
     ]
    },
    {
     "name": "stdout",
     "output_type": "stream",
     "text": [
      "Command '['fanficfare', 'https://www.wattpad.com/story/161598552-diary-akhwat', '--format=txt']' returned non-zero exit status 1.\n"
     ]
    },
    {
     "name": "stderr",
     "output_type": "stream",
     "text": [
      "\r",
      " 75%|███████▌  | 229/305 [2:23:37<1:26:16, 68.11s/it]"
     ]
    },
    {
     "name": "stdout",
     "output_type": "stream",
     "text": [
      "Command '['fanficfare', 'https://www.wattpad.com/story/149765574-1-kimy-yokiza', '--format=txt']' returned non-zero exit status 1.\n"
     ]
    },
    {
     "name": "stderr",
     "output_type": "stream",
     "text": [
      "\r",
      " 84%|████████▎ | 255/305 [2:23:37<22:19, 26.80s/it]"
     ]
    },
    {
     "name": "stdout",
     "output_type": "stream",
     "text": [
      "Command '['fanficfare', 'https://www.wattpad.com/story/213504375-lost-when-it-rains-jaehyun-x-eunseo', '--format=txt']' returned non-zero exit status 1.\n"
     ]
    },
    {
     "name": "stderr",
     "output_type": "stream",
     "text": [
      "\r",
      " 83%|████████▎ | 252/305 [2:23:37<21:56, 24.84s/it]"
     ]
    },
    {
     "name": "stdout",
     "output_type": "stream",
     "text": [
      "Command '['fanficfare', 'https://www.wattpad.com/story/120473493-classmate', '--format=txt']' returned non-zero exit status 1.\n",
      "Command '['fanficfare', 'https://www.wattpad.com/story/90479969-miqvars', '--format=txt']' returned non-zero exit status 1.\n"
     ]
    },
    {
     "name": "stderr",
     "output_type": "stream",
     "text": [
      " 73%|███████▎  | 224/305 [2:23:37<1:34:32, 70.03s/it]"
     ]
    },
    {
     "name": "stdout",
     "output_type": "stream",
     "text": [
      "Command '['fanficfare', 'https://www.wattpad.com/story/168258326-calon-isteri-ceo-sengal', '--format=txt']' returned non-zero exit status 1.\n"
     ]
    },
    {
     "name": "stderr",
     "output_type": "stream",
     "text": [
      "\r",
      " 77%|███████▋  | 236/305 [2:23:38<27:03, 23.53s/it]"
     ]
    },
    {
     "name": "stdout",
     "output_type": "stream",
     "text": [
      "Command '['fanficfare', 'https://www.wattpad.com/story/128073877-the-sengklek-squad', '--format=txt']' returned non-zero exit status 1.\n"
     ]
    },
    {
     "name": "stderr",
     "output_type": "stream",
     "text": [
      "\r",
      " 77%|███████▋  | 235/305 [2:23:38<26:01, 22.31s/it]"
     ]
    },
    {
     "name": "stdout",
     "output_type": "stream",
     "text": [
      "Command '['fanficfare', 'https://www.wattpad.com/story/89702668-langgar-jjk-bts', '--format=txt']' returned non-zero exit status 1.\n"
     ]
    },
    {
     "name": "stderr",
     "output_type": "stream",
     "text": [
      "\r",
      " 75%|███████▌  | 229/305 [2:23:38<27:33, 21.75s/it]"
     ]
    },
    {
     "name": "stdout",
     "output_type": "stream",
     "text": [
      "Command '['fanficfare', 'https://www.wattpad.com/story/139832587-puisiku', '--format=txt']' returned non-zero exit status 1.\n"
     ]
    },
    {
     "name": "stderr",
     "output_type": "stream",
     "text": [
      " 85%|████████▍ | 258/305 [2:28:44<12:11, 15.56s/it]  "
     ]
    },
    {
     "name": "stdout",
     "output_type": "stream",
     "text": [
      "Command '['fanficfare', 'https://www.wattpad.com/story/203494472-renata', '--format=txt']' returned non-zero exit status 1.\n",
      "Command '['fanficfare', 'https://www.wattpad.com/story/207304404-wafieya-elayniey-my-wife-%F0%9F%98%8D', '--format=txt']' returned non-zero exit status 1.\n"
     ]
    },
    {
     "name": "stderr",
     "output_type": "stream",
     "text": [
      " 86%|████████▌ | 263/305 [2:28:44<24:58, 35.68s/it]"
     ]
    },
    {
     "name": "stdout",
     "output_type": "stream",
     "text": [
      "Command '['fanficfare', 'https://www.wattpad.com/story/182796592-kekasih-hati-selamanya', '--format=txt']' returned non-zero exit status 1.\n"
     ]
    },
    {
     "name": "stderr",
     "output_type": "stream",
     "text": [
      "\r",
      " 82%|████████▏ | 249/305 [2:28:44<39:36, 42.44s/it]"
     ]
    },
    {
     "name": "stdout",
     "output_type": "stream",
     "text": [
      "Command '['fanficfare', 'https://www.wattpad.com/story/108882581-handsome-bad-boy', '--format=txt']' returned non-zero exit status 1.\n"
     ]
    },
    {
     "name": "stderr",
     "output_type": "stream",
     "text": [
      "\r",
      " 80%|███████▉  | 243/305 [2:28:44<38:15, 37.03s/it]"
     ]
    },
    {
     "name": "stdout",
     "output_type": "stream",
     "text": [
      "Command '['fanficfare', 'https://www.wattpad.com/story/208156215-oh-my-husband-2-on-going', '--format=txt']' returned non-zero exit status 1.\n"
     ]
    },
    {
     "name": "stderr",
     "output_type": "stream",
     "text": [
      "\r",
      " 77%|███████▋  | 235/305 [2:28:44<34:20, 29.44s/it]"
     ]
    },
    {
     "name": "stdout",
     "output_type": "stream",
     "text": [
      "Command '['fanficfare', 'https://www.wattpad.com/story/99241704-h-e-a-r-t', '--format=txt']' returned non-zero exit status 1.\n"
     ]
    },
    {
     "name": "stderr",
     "output_type": "stream",
     "text": [
      "\r",
      " 84%|████████▍ | 256/305 [2:28:44<29:59, 36.72s/it]"
     ]
    },
    {
     "name": "stdout",
     "output_type": "stream",
     "text": [
      "Command '['fanficfare', 'https://www.wattpad.com/story/210498148-31-days-writing-challenge-short-stories-ver-on', '--format=txt']' returned non-zero exit status 1.\n"
     ]
    },
    {
     "name": "stderr",
     "output_type": "stream",
     "text": [
      "\r",
      " 88%|████████▊ | 267/305 [2:28:44<33:59, 53.67s/it]"
     ]
    },
    {
     "name": "stdout",
     "output_type": "stream",
     "text": [
      "Command '['fanficfare', 'https://www.wattpad.com/story/175262554-lubang-merah-jambu', '--format=txt']' returned non-zero exit status 1.\n"
     ]
    },
    {
     "name": "stderr",
     "output_type": "stream",
     "text": [
      "\r",
      " 77%|███████▋  | 235/305 [2:28:45<58:05, 49.79s/it]"
     ]
    },
    {
     "name": "stdout",
     "output_type": "stream",
     "text": [
      "Command '['fanficfare', 'https://www.wattpad.com/story/150650310-universe-child-poetry', '--format=txt']' returned non-zero exit status 1.\n"
     ]
    },
    {
     "name": "stderr",
     "output_type": "stream",
     "text": [
      "\r",
      " 80%|████████  | 245/305 [2:28:45<1:11:40, 71.68s/it]"
     ]
    },
    {
     "name": "stdout",
     "output_type": "stream",
     "text": [
      "Command '['fanficfare', 'https://www.wattpad.com/story/195349099-countryhumans-one-shots', '--format=txt']' returned non-zero exit status 1.\n"
     ]
    },
    {
     "name": "stderr",
     "output_type": "stream",
     "text": [
      "\r",
      " 85%|████████▍ | 258/305 [2:28:45<39:43, 50.72s/it]"
     ]
    },
    {
     "name": "stdout",
     "output_type": "stream",
     "text": [
      "Command '['fanficfare', 'https://www.wattpad.com/story/198263299-a-mistake-a-countryhumans-chat-fic', '--format=txt']' returned non-zero exit status 1.\n"
     ]
    },
    {
     "name": "stderr",
     "output_type": "stream",
     "text": [
      "\r",
      " 75%|███████▍  | 228/305 [2:28:45<48:38, 37.90s/it]"
     ]
    },
    {
     "name": "stdout",
     "output_type": "stream",
     "text": [
      "Command '['fanficfare', 'https://www.wattpad.com/story/183188789-immortality-of-pain', '--format=txt']' returned non-zero exit status 1.\n"
     ]
    },
    {
     "name": "stderr",
     "output_type": "stream",
     "text": [
      "\r",
      " 75%|███████▌  | 229/305 [2:28:45<1:29:43, 70.83s/it]"
     ]
    },
    {
     "name": "stdout",
     "output_type": "stream",
     "text": [
      "Command '['fanficfare', 'https://www.wattpad.com/story/194664810-the-best-positive', '--format=txt']' returned non-zero exit status 1.\n"
     ]
    },
    {
     "name": "stderr",
     "output_type": "stream",
     "text": [
      "\r",
      " 76%|███████▋  | 233/305 [2:28:45<55:33, 46.30s/it]"
     ]
    },
    {
     "name": "stdout",
     "output_type": "stream",
     "text": [
      "Command '['fanficfare', 'https://www.wattpad.com/story/164233670-quotes', '--format=txt']' returned non-zero exit status 1.\n"
     ]
    },
    {
     "name": "stderr",
     "output_type": "stream",
     "text": [
      "\r",
      " 76%|███████▋  | 233/305 [2:28:45<1:19:14, 66.04s/it]"
     ]
    },
    {
     "name": "stdout",
     "output_type": "stream",
     "text": [
      "Command '['fanficfare', 'https://www.wattpad.com/story/209887218-kisah-disebalik-perpustakaan-complete', '--format=txt']' returned non-zero exit status 1.\n"
     ]
    },
    {
     "name": "stderr",
     "output_type": "stream",
     "text": [
      "\r",
      " 77%|███████▋  | 234/305 [2:28:45<1:26:42, 73.28s/it]"
     ]
    },
    {
     "name": "stdout",
     "output_type": "stream",
     "text": [
      "Command '['fanficfare', 'https://www.wattpad.com/story/55000175-shorties', '--format=txt']' returned non-zero exit status 1.\n"
     ]
    },
    {
     "name": "stderr",
     "output_type": "stream",
     "text": [
      "\r",
      " 85%|████████▍ | 258/305 [2:28:45<41:31, 53.01s/it]"
     ]
    },
    {
     "name": "stdout",
     "output_type": "stream",
     "text": [
      "Command '['fanficfare', 'https://www.wattpad.com/story/112388099-eyes-contact-jefri-nichol', '--format=txt']' returned non-zero exit status 1.\n"
     ]
    },
    {
     "name": "stderr",
     "output_type": "stream",
     "text": [
      "\r",
      " 78%|███████▊  | 237/305 [2:28:45<43:41, 38.56s/it]"
     ]
    },
    {
     "name": "stdout",
     "output_type": "stream",
     "text": [
      "Command '['fanficfare', 'https://www.wattpad.com/story/160851634-spring-day-%2B-bts-complete', '--format=txt']' returned non-zero exit status 1.\n"
     ]
    },
    {
     "name": "stderr",
     "output_type": "stream",
     "text": [
      "\r",
      " 81%|████████  | 247/305 [2:28:45<48:09, 49.82s/it]"
     ]
    },
    {
     "name": "stdout",
     "output_type": "stream",
     "text": [
      "Command '['fanficfare', 'https://www.wattpad.com/story/127499512-ruang-kata-kata', '--format=txt']' returned non-zero exit status 1.\n"
     ]
    },
    {
     "name": "stderr",
     "output_type": "stream",
     "text": [
      "\r",
      " 80%|████████  | 245/305 [2:28:46<59:07, 59.13s/it]"
     ]
    },
    {
     "name": "stdout",
     "output_type": "stream",
     "text": [
      "Command '['fanficfare', 'https://www.wattpad.com/story/131582457-adik-stop', '--format=txt']' returned non-zero exit status 1.\n"
     ]
    },
    {
     "name": "stderr",
     "output_type": "stream",
     "text": [
      "\r",
      " 78%|███████▊  | 237/305 [2:28:46<30:11, 26.64s/it]"
     ]
    },
    {
     "name": "stdout",
     "output_type": "stream",
     "text": [
      "Command '['fanficfare', 'https://www.wattpad.com/story/77602306-kumpulan-sajak', '--format=txt']' returned non-zero exit status 1.\n"
     ]
    },
    {
     "name": "stderr",
     "output_type": "stream",
     "text": [
      "\r",
      " 83%|████████▎ | 252/305 [2:28:46<44:05, 49.92s/it]"
     ]
    },
    {
     "name": "stdout",
     "output_type": "stream",
     "text": [
      "Command '['fanficfare', 'https://www.wattpad.com/story/198548561-tinta-pena', '--format=txt']' returned non-zero exit status 1.\n"
     ]
    },
    {
     "name": "stderr",
     "output_type": "stream",
     "text": [
      "\r",
      " 80%|████████  | 244/305 [2:28:46<28:28, 28.01s/it]"
     ]
    },
    {
     "name": "stdout",
     "output_type": "stream",
     "text": [
      "Command '['fanficfare', 'https://www.wattpad.com/story/41061293-lara', '--format=txt']' returned non-zero exit status 1.\n"
     ]
    },
    {
     "name": "stderr",
     "output_type": "stream",
     "text": [
      " 83%|████████▎ | 253/305 [2:33:30<14:23, 16.60s/it]  "
     ]
    },
    {
     "name": "stdout",
     "output_type": "stream",
     "text": [
      "Command '['fanficfare', 'https://www.wattpad.com/story/103169458-hai-senior', '--format=txt']' returned non-zero exit status 1.\n"
     ]
    },
    {
     "name": "stderr",
     "output_type": "stream",
     "text": [
      "\r",
      " 87%|████████▋ | 264/305 [2:33:53<30:16, 44.32s/it]"
     ]
    },
    {
     "name": "stdout",
     "output_type": "stream",
     "text": [
      "Command '['fanficfare', 'https://www.wattpad.com/story/182865723-cafe-latte', '--format=txt']' returned non-zero exit status 1.\n"
     ]
    },
    {
     "name": "stderr",
     "output_type": "stream",
     "text": [
      "\r",
      " 88%|████████▊ | 267/305 [2:33:53<19:21, 30.55s/it]"
     ]
    },
    {
     "name": "stdout",
     "output_type": "stream",
     "text": [
      "Command '['fanficfare', 'https://www.wattpad.com/story/147075937-my-bff-story-c', '--format=txt']' returned non-zero exit status 1.\n"
     ]
    },
    {
     "name": "stderr",
     "output_type": "stream",
     "text": [
      "\r",
      " 83%|████████▎ | 252/305 [2:33:53<40:51, 46.26s/it]"
     ]
    },
    {
     "name": "stdout",
     "output_type": "stream",
     "text": [
      "Command '['fanficfare', 'https://www.wattpad.com/story/204083005-hevin-hell', '--format=txt']' returned non-zero exit status 1.\n"
     ]
    },
    {
     "name": "stderr",
     "output_type": "stream",
     "text": [
      "\r",
      " 78%|███████▊  | 239/305 [2:33:53<36:14, 32.95s/it]"
     ]
    },
    {
     "name": "stdout",
     "output_type": "stream",
     "text": [
      "Command '['fanficfare', 'https://www.wattpad.com/story/159897714-kamu-ku', '--format=txt']' returned non-zero exit status 1.\n"
     ]
    },
    {
     "name": "stderr",
     "output_type": "stream",
     "text": [
      "\r",
      " 80%|████████  | 244/305 [2:33:53<39:29, 38.85s/it]"
     ]
    },
    {
     "name": "stdout",
     "output_type": "stream",
     "text": [
      "Command '['fanficfare', 'https://www.wattpad.com/story/82346439-pena-bengkok', '--format=txt']' returned non-zero exit status 1.\n"
     ]
    },
    {
     "name": "stderr",
     "output_type": "stream",
     "text": [
      "\r",
      " 87%|████████▋ | 264/305 [2:33:53<37:21, 54.66s/it]"
     ]
    },
    {
     "name": "stdout",
     "output_type": "stream",
     "text": [
      "Command '['fanficfare', 'https://www.wattpad.com/story/187146701-areshakeel', '--format=txt']' returned non-zero exit status 1.\n"
     ]
    },
    {
     "name": "stderr",
     "output_type": "stream",
     "text": [
      "\r",
      " 83%|████████▎ | 253/305 [2:33:53<31:40, 36.54s/it]"
     ]
    },
    {
     "name": "stdout",
     "output_type": "stream",
     "text": [
      "Command '['fanficfare', 'https://www.wattpad.com/story/85363714-tanya-sama-hati', '--format=txt']' returned non-zero exit status 1.\n",
      "Command '['fanficfare', 'https://www.wattpad.com/story/155347914-aksara-biru', '--format=txt']' returned non-zero exit status 1.\n"
     ]
    },
    {
     "name": "stderr",
     "output_type": "stream",
     "text": [
      " 83%|████████▎ | 254/305 [2:33:53<34:48, 40.94s/it]t]"
     ]
    },
    {
     "name": "stdout",
     "output_type": "stream",
     "text": [
      "Command '['fanficfare', 'https://www.wattpad.com/story/122147383-bahagialah', '--format=txt']' returned non-zero exit status 1.\n"
     ]
    },
    {
     "name": "stderr",
     "output_type": "stream",
     "text": [
      "\r",
      " 80%|███████▉  | 243/305 [2:33:53<28:44, 27.81s/it]"
     ]
    },
    {
     "name": "stdout",
     "output_type": "stream",
     "text": [
      "Command '['fanficfare', 'https://www.wattpad.com/story/208391426-the-dark-ceo-completed', '--format=txt']' returned non-zero exit status 1.\n"
     ]
    },
    {
     "name": "stderr",
     "output_type": "stream",
     "text": [
      "\r",
      " 90%|████████▉ | 273/305 [2:33:54<13:42, 25.71s/it]"
     ]
    },
    {
     "name": "stdout",
     "output_type": "stream",
     "text": [
      "Command '['fanficfare', 'https://www.wattpad.com/story/115695308-c-the-best-crush-ever-p-j-m', '--format=txt']' returned non-zero exit status 1.\n"
     ]
    },
    {
     "name": "stderr",
     "output_type": "stream",
     "text": [
      "\r",
      " 79%|███████▉  | 242/305 [2:33:54<45:00, 42.87s/it]"
     ]
    },
    {
     "name": "stdout",
     "output_type": "stream",
     "text": [
      "Command '['fanficfare', 'https://www.wattpad.com/story/208256064-stacy%27s-curses', '--format=txt']' returned non-zero exit status 1.\n"
     ]
    },
    {
     "name": "stderr",
     "output_type": "stream",
     "text": [
      "\r",
      " 79%|███████▉  | 242/305 [2:33:54<46:44, 44.52s/it]"
     ]
    },
    {
     "name": "stdout",
     "output_type": "stream",
     "text": [
      "Command '['fanficfare', 'https://www.wattpad.com/story/210596296-depression%C2%B0jjk%E2%9C%94', '--format=txt']' returned non-zero exit status 1.\n"
     ]
    },
    {
     "name": "stderr",
     "output_type": "stream",
     "text": [
      "\r",
      " 85%|████████▍ | 259/305 [2:33:54<34:52, 45.49s/it]"
     ]
    },
    {
     "name": "stdout",
     "output_type": "stream",
     "text": [
      "Command '['fanficfare', 'https://www.wattpad.com/story/201002802-life%27s-like-that', '--format=txt']' returned non-zero exit status 1.\n"
     ]
    },
    {
     "name": "stderr",
     "output_type": "stream",
     "text": [
      "\r",
      " 87%|████████▋ | 264/305 [2:33:54<23:32, 34.46s/it]"
     ]
    },
    {
     "name": "stdout",
     "output_type": "stream",
     "text": [
      "Command '['fanficfare', 'https://www.wattpad.com/story/163817305-fact-about-gunnarsen-family-english-indonesia', '--format=txt']' returned non-zero exit status 1.\n"
     ]
    },
    {
     "name": "stderr",
     "output_type": "stream",
     "text": [
      "\r",
      " 85%|████████▌ | 260/305 [2:33:54<16:55, 22.58s/it]"
     ]
    },
    {
     "name": "stdout",
     "output_type": "stream",
     "text": [
      "Command '['fanficfare', 'https://www.wattpad.com/story/130249613-mencintaimu-dalam-diamku', '--format=txt']' returned non-zero exit status 1.\n"
     ]
    },
    {
     "name": "stderr",
     "output_type": "stream",
     "text": [
      "\r",
      " 82%|████████▏ | 251/305 [2:33:54<35:41, 39.66s/it]"
     ]
    },
    {
     "name": "stdout",
     "output_type": "stream",
     "text": [
      "Command '['fanficfare', 'https://www.wattpad.com/story/184286217-mingyu-1997', '--format=txt']' returned non-zero exit status 1.\n"
     ]
    },
    {
     "name": "stderr",
     "output_type": "stream",
     "text": [
      "\r",
      " 78%|███████▊  | 239/305 [2:33:54<25:10, 22.88s/it]"
     ]
    },
    {
     "name": "stdout",
     "output_type": "stream",
     "text": [
      "Command '['fanficfare', 'https://www.wattpad.com/story/168852294-diari-dalam-hati-book2', '--format=txt']' returned non-zero exit status 1.\n"
     ]
    },
    {
     "name": "stderr",
     "output_type": "stream",
     "text": [
      "\r",
      " 81%|████████  | 246/305 [2:33:54<25:52, 26.32s/it]"
     ]
    },
    {
     "name": "stdout",
     "output_type": "stream",
     "text": [
      "Command '['fanficfare', 'https://www.wattpad.com/story/160951920-cinta-si-dia-slow-update', '--format=txt']' returned non-zero exit status 1.\n"
     ]
    },
    {
     "name": "stderr",
     "output_type": "stream",
     "text": [
      " 88%|████████▊ | 267/305 [2:33:55<16:29, 26.04s/it]t]"
     ]
    },
    {
     "name": "stdout",
     "output_type": "stream",
     "text": [
      "Command '['fanficfare', 'https://www.wattpad.com/story/98344379-love-is-not-a-game-malay-complete', '--format=txt']' returned non-zero exit status 1.\n"
     ]
    },
    {
     "name": "stderr",
     "output_type": "stream",
     "text": [
      "\r",
      " 80%|████████  | 244/305 [2:33:55<23:51, 23.47s/it]"
     ]
    },
    {
     "name": "stdout",
     "output_type": "stream",
     "text": [
      "Command '['fanficfare', 'https://www.wattpad.com/story/166930384-vesuviana-sebuah-penantian-di-teluk-napoli-on', '--format=txt']' returned non-zero exit status 1.\n"
     ]
    },
    {
     "name": "stderr",
     "output_type": "stream",
     "text": [
      "\r",
      " 80%|███████▉  | 243/305 [2:33:55<27:29, 26.61s/it]"
     ]
    },
    {
     "name": "stdout",
     "output_type": "stream",
     "text": [
      "Command '['fanficfare', 'https://www.wattpad.com/story/171675357-alegori', '--format=txt']' returned non-zero exit status 1.\n"
     ]
    },
    {
     "name": "stderr",
     "output_type": "stream",
     "text": [
      " 83%|████████▎ | 252/305 [2:38:54<44:48, 50.73s/it]  "
     ]
    },
    {
     "name": "stdout",
     "output_type": "stream",
     "text": [
      "Command '['fanficfare', 'https://www.wattpad.com/story/149383886-serial-aspi-si-peach-puff', '--format=txt']' returned non-zero exit status 1.\n"
     ]
    },
    {
     "name": "stderr",
     "output_type": "stream",
     "text": [
      "\r",
      " 90%|████████▉ | 274/305 [2:39:14<22:49, 44.18s/it]"
     ]
    },
    {
     "name": "stdout",
     "output_type": "stream",
     "text": [
      "Command '['fanficfare', 'https://www.wattpad.com/story/181700854-the-perfect-love', '--format=txt']' returned non-zero exit status 1.\n"
     ]
    },
    {
     "name": "stderr",
     "output_type": "stream",
     "text": [
      "\r",
      " 90%|█████████ | 275/305 [2:39:14<16:53, 33.79s/it]"
     ]
    },
    {
     "name": "stdout",
     "output_type": "stream",
     "text": [
      "Command '['fanficfare', 'https://www.wattpad.com/story/164085786-silly-feeling', '--format=txt']' returned non-zero exit status 1.\n"
     ]
    },
    {
     "name": "stderr",
     "output_type": "stream",
     "text": [
      "\r",
      " 81%|████████  | 246/305 [2:39:14<44:24, 45.16s/it]"
     ]
    },
    {
     "name": "stdout",
     "output_type": "stream",
     "text": [
      "Command '['fanficfare', 'https://www.wattpad.com/story/159127291-diary-budak-noob', '--format=txt']' returned non-zero exit status 1.\n"
     ]
    },
    {
     "name": "stderr",
     "output_type": "stream",
     "text": [
      "\r",
      " 90%|████████▉ | 274/305 [2:39:14<14:36, 28.28s/it]"
     ]
    },
    {
     "name": "stdout",
     "output_type": "stream",
     "text": [
      "Command '['fanficfare', 'https://www.wattpad.com/story/194616788-kasih-yang-terlerai-slow-update', '--format=txt']' returned non-zero exit status 1.\n"
     ]
    },
    {
     "name": "stderr",
     "output_type": "stream",
     "text": [
      "\r",
      " 86%|████████▌ | 262/305 [2:39:14<22:00, 30.72s/it]"
     ]
    },
    {
     "name": "stdout",
     "output_type": "stream",
     "text": [
      "Command '['fanficfare', 'https://www.wattpad.com/story/155841369-just-a-words', '--format=txt']' returned non-zero exit status 1.\n"
     ]
    },
    {
     "name": "stderr",
     "output_type": "stream",
     "text": [
      "\r",
      " 90%|█████████ | 275/305 [2:39:14<11:02, 22.08s/it]"
     ]
    },
    {
     "name": "stdout",
     "output_type": "stream",
     "text": [
      "Command '['fanficfare', 'https://www.wattpad.com/story/85034192-words', '--format=txt']' returned non-zero exit status 1.\n"
     ]
    },
    {
     "name": "stderr",
     "output_type": "stream",
     "text": [
      "\r",
      " 87%|████████▋ | 266/305 [2:39:14<36:45, 56.56s/it]"
     ]
    },
    {
     "name": "stdout",
     "output_type": "stream",
     "text": [
      "Command '['fanficfare', 'https://www.wattpad.com/story/195048659-akukah-yang-salah', '--format=txt']' returned non-zero exit status 1.\n"
     ]
    },
    {
     "name": "stderr",
     "output_type": "stream",
     "text": [
      "\r",
      " 79%|███████▉  | 241/305 [2:39:14<49:34, 46.47s/it]"
     ]
    },
    {
     "name": "stdout",
     "output_type": "stream",
     "text": [
      "Command '['fanficfare', 'https://www.wattpad.com/story/208145523-home', '--format=txt']' returned non-zero exit status 1.\n"
     ]
    },
    {
     "name": "stderr",
     "output_type": "stream",
     "text": [
      "\r",
      " 82%|████████▏ | 250/305 [2:39:14<25:24, 27.72s/it]"
     ]
    },
    {
     "name": "stdout",
     "output_type": "stream",
     "text": [
      "Command '['fanficfare', 'https://www.wattpad.com/story/56313178-another-six-words', '--format=txt']' returned non-zero exit status 1.\n"
     ]
    },
    {
     "name": "stderr",
     "output_type": "stream",
     "text": [
      "\r",
      " 85%|████████▍ | 258/305 [2:39:15<46:48, 59.75s/it]"
     ]
    },
    {
     "name": "stdout",
     "output_type": "stream",
     "text": [
      "Command '['fanficfare', 'https://www.wattpad.com/story/111315759-pelangi-yang-hilang', '--format=txt']' returned non-zero exit status 1.\n"
     ]
    },
    {
     "name": "stderr",
     "output_type": "stream",
     "text": [
      "\r",
      " 83%|████████▎ | 252/305 [2:39:15<26:41, 30.22s/it]"
     ]
    },
    {
     "name": "stdout",
     "output_type": "stream",
     "text": [
      "Command '['fanficfare', 'https://www.wattpad.com/story/143831339-akak-kastam', '--format=txt']' returned non-zero exit status 1.\n"
     ]
    },
    {
     "name": "stderr",
     "output_type": "stream",
     "text": [
      "\r",
      " 84%|████████▍ | 257/305 [2:39:15<18:32, 23.18s/it]"
     ]
    },
    {
     "name": "stdout",
     "output_type": "stream",
     "text": [
      "Command '['fanficfare', 'https://www.wattpad.com/story/169777351-nadya', '--format=txt']' returned non-zero exit status 1.\n"
     ]
    },
    {
     "name": "stderr",
     "output_type": "stream",
     "text": [
      "\r",
      " 86%|████████▌ | 261/305 [2:39:15<18:15, 24.89s/it]"
     ]
    },
    {
     "name": "stdout",
     "output_type": "stream",
     "text": [
      "Command '['fanficfare', 'https://www.wattpad.com/story/91839228-my-kind-of-24-half-journey-done', '--format=txt']' returned non-zero exit status 1.\n"
     ]
    },
    {
     "name": "stderr",
     "output_type": "stream",
     "text": [
      "\r",
      " 81%|████████  | 247/305 [2:39:15<33:55, 35.09s/it]"
     ]
    },
    {
     "name": "stdout",
     "output_type": "stream",
     "text": [
      "Command '['fanficfare', 'https://www.wattpad.com/story/202251778-kata-kata-bijak', '--format=txt']' returned non-zero exit status 1.\n"
     ]
    },
    {
     "name": "stderr",
     "output_type": "stream",
     "text": [
      "\r",
      " 82%|████████▏ | 249/305 [2:39:15<45:04, 48.29s/it]"
     ]
    },
    {
     "name": "stdout",
     "output_type": "stream",
     "text": [
      "Command '['fanficfare', 'https://www.wattpad.com/story/165307479-yang-sebenarnya-aku-tetap-sayang-ebook', '--format=txt']' returned non-zero exit status 1.\n"
     ]
    },
    {
     "name": "stderr",
     "output_type": "stream",
     "text": [
      "\r",
      " 89%|████████▊ | 270/305 [2:39:16<15:19, 26.27s/it]"
     ]
    },
    {
     "name": "stdout",
     "output_type": "stream",
     "text": [
      "Command '['fanficfare', 'https://www.wattpad.com/story/123206865-sky-state-of-flower-mind', '--format=txt']' returned non-zero exit status 1.\n"
     ]
    },
    {
     "name": "stderr",
     "output_type": "stream",
     "text": [
      "\r",
      " 93%|█████████▎| 283/305 [2:39:16<17:13, 46.99s/it]"
     ]
    },
    {
     "name": "stdout",
     "output_type": "stream",
     "text": [
      "Command '['fanficfare', 'https://www.wattpad.com/story/124258385-intention', '--format=txt']' returned non-zero exit status 1.\n"
     ]
    },
    {
     "name": "stderr",
     "output_type": "stream",
     "text": [
      "\r",
      " 83%|████████▎ | 253/305 [2:39:16<27:35, 31.85s/it]"
     ]
    },
    {
     "name": "stdout",
     "output_type": "stream",
     "text": [
      "Command '['fanficfare', 'https://www.wattpad.com/story/164660915-my-protector', '--format=txt']' returned non-zero exit status 1.\n"
     ]
    },
    {
     "name": "stderr",
     "output_type": "stream",
     "text": [
      " 83%|████████▎ | 253/305 [2:39:40<42:40, 49.24s/it]"
     ]
    },
    {
     "name": "stdout",
     "output_type": "stream",
     "text": [
      "Command '['fanficfare', 'https://www.wattpad.com/story/161498020-cerita-pendek-komedi', '--format=txt']' returned non-zero exit status 1.\n"
     ]
    },
    {
     "name": "stderr",
     "output_type": "stream",
     "text": [
      " 85%|████████▌ | 260/305 [2:44:24<24:01, 32.03s/it]"
     ]
    },
    {
     "name": "stdout",
     "output_type": "stream",
     "text": [
      "Command '['fanficfare', 'https://www.wattpad.com/story/103604626-diari-dalam-hati-%F0%9F%93%96%F0%9F%92%95-completed', '--format=txt']' returned non-zero exit status 1.\n"
     ]
    },
    {
     "name": "stderr",
     "output_type": "stream",
     "text": [
      "\r",
      " 83%|████████▎ | 253/305 [2:44:45<15:52, 18.33s/it]"
     ]
    },
    {
     "name": "stdout",
     "output_type": "stream",
     "text": [
      "Command '['fanficfare', 'https://www.wattpad.com/story/33290-vampitch', '--format=txt']' returned non-zero exit status 1.\n"
     ]
    },
    {
     "name": "stderr",
     "output_type": "stream",
     "text": [
      "\r",
      " 93%|█████████▎| 283/305 [2:44:45<13:48, 37.68s/it]"
     ]
    },
    {
     "name": "stdout",
     "output_type": "stream",
     "text": [
      "Command '['fanficfare', 'https://www.wattpad.com/story/206862911-quotes', '--format=txt']' returned non-zero exit status 1.\n"
     ]
    },
    {
     "name": "stderr",
     "output_type": "stream",
     "text": [
      " 93%|█████████▎| 284/305 [2:44:45<09:25, 26.92s/it]"
     ]
    },
    {
     "name": "stdout",
     "output_type": "stream",
     "text": [
      "Command '['fanficfare', 'https://www.wattpad.com/story/193748639-sebelum-luka', '--format=txt']' returned non-zero exit status 1.\n"
     ]
    },
    {
     "name": "stderr",
     "output_type": "stream",
     "text": [
      "\r",
      " 91%|█████████▏| 279/305 [2:44:46<13:38, 31.50s/it]"
     ]
    },
    {
     "name": "stdout",
     "output_type": "stream",
     "text": [
      "Command '['fanficfare', 'https://www.wattpad.com/story/200364535-first-love', '--format=txt']' returned non-zero exit status 1.\n"
     ]
    },
    {
     "name": "stderr",
     "output_type": "stream",
     "text": [
      "\r",
      " 85%|████████▍ | 259/305 [2:44:46<24:18, 31.71s/it]"
     ]
    },
    {
     "name": "stdout",
     "output_type": "stream",
     "text": [
      "Command '['fanficfare', 'https://www.wattpad.com/story/197426405-she-became-sweet-and-cuddly-dia-menjadi-manis-dan', '--format=txt']' returned non-zero exit status 1.\n"
     ]
    },
    {
     "name": "stderr",
     "output_type": "stream",
     "text": [
      "\r",
      " 88%|████████▊ | 268/305 [2:44:46<16:59, 27.54s/it]"
     ]
    },
    {
     "name": "stdout",
     "output_type": "stream",
     "text": [
      "Command '['fanficfare', 'https://www.wattpad.com/story/92417606-complete-beautiful-flying-kiss-new-way-to-get', '--format=txt']' returned non-zero exit status 1.\n"
     ]
    },
    {
     "name": "stderr",
     "output_type": "stream",
     "text": [
      "\r",
      " 89%|████████▉ | 272/305 [2:44:46<35:06, 63.83s/it]"
     ]
    },
    {
     "name": "stdout",
     "output_type": "stream",
     "text": [
      "Command '['fanficfare', 'https://www.wattpad.com/story/203363361-kaku-mayat', '--format=txt']' returned non-zero exit status 1.\n"
     ]
    },
    {
     "name": "stderr",
     "output_type": "stream",
     "text": [
      " 86%|████████▌ | 263/305 [2:44:46<16:48, 24.02s/it]"
     ]
    },
    {
     "name": "stdout",
     "output_type": "stream",
     "text": [
      "Command '['fanficfare', 'https://www.wattpad.com/story/126461532-my-love-cupcakes', '--format=txt']' returned non-zero exit status 1.\n"
     ]
    },
    {
     "name": "stderr",
     "output_type": "stream",
     "text": [
      "\r",
      " 90%|████████▉ | 274/305 [2:44:46<09:45, 18.89s/it]"
     ]
    },
    {
     "name": "stdout",
     "output_type": "stream",
     "text": [
      "Command '['fanficfare', 'https://www.wattpad.com/story/161425038-avicenna-royal-%E2%93%9E%E2%93%96', '--format=txt']' returned non-zero exit status 1.\n"
     ]
    },
    {
     "name": "stderr",
     "output_type": "stream",
     "text": [
      "\r",
      " 87%|████████▋ | 266/305 [2:44:46<20:51, 32.08s/it]"
     ]
    },
    {
     "name": "stdout",
     "output_type": "stream",
     "text": [
      "Command '['fanficfare', 'https://www.wattpad.com/story/145476424-quote-of-garis-waktu', '--format=txt']' returned non-zero exit status 1.\n"
     ]
    },
    {
     "name": "stderr",
     "output_type": "stream",
     "text": [
      "\r",
      " 89%|████████▉ | 272/305 [2:44:46<14:14, 25.89s/it]"
     ]
    },
    {
     "name": "stdout",
     "output_type": "stream",
     "text": [
      "Command '['fanficfare', 'https://www.wattpad.com/story/159343910-tanpa-makna', '--format=txt']' returned non-zero exit status 1.\n"
     ]
    },
    {
     "name": "stderr",
     "output_type": "stream",
     "text": [
      "\r",
      " 86%|████████▌ | 263/305 [2:44:47<27:01, 38.60s/it]"
     ]
    },
    {
     "name": "stdout",
     "output_type": "stream",
     "text": [
      "Command '['fanficfare', 'https://www.wattpad.com/story/170867841-lots-of-love', '--format=txt']' returned non-zero exit status 1.\n"
     ]
    },
    {
     "name": "stderr",
     "output_type": "stream",
     "text": [
      "\r",
      " 86%|████████▌ | 261/305 [2:44:47<16:40, 22.73s/it]"
     ]
    },
    {
     "name": "stdout",
     "output_type": "stream",
     "text": [
      "Command '['fanficfare', 'https://www.wattpad.com/story/174812733-nerdy-girl-meets-solo-prefect', '--format=txt']' returned non-zero exit status 1.\n"
     ]
    },
    {
     "name": "stderr",
     "output_type": "stream",
     "text": [
      "\r",
      " 90%|█████████ | 276/305 [2:44:47<32:36, 67.47s/it]"
     ]
    },
    {
     "name": "stdout",
     "output_type": "stream",
     "text": [
      "Command '['fanficfare', 'https://www.wattpad.com/story/79258518-guide-to-hetalia-asean-fanfic-brunei-darussalam', '--format=txt']' returned non-zero exit status 1.\n"
     ]
    },
    {
     "name": "stderr",
     "output_type": "stream",
     "text": [
      "\r",
      " 93%|█████████▎| 285/305 [2:44:47<08:48, 26.43s/it]"
     ]
    },
    {
     "name": "stdout",
     "output_type": "stream",
     "text": [
      "Command '['fanficfare', 'https://www.wattpad.com/story/95946878-50-sajak-untukmu', '--format=txt']' returned non-zero exit status 1.\n"
     ]
    },
    {
     "name": "stderr",
     "output_type": "stream",
     "text": [
      "\r",
      " 84%|████████▍ | 257/305 [2:44:47<20:05, 25.12s/it]"
     ]
    },
    {
     "name": "stdout",
     "output_type": "stream",
     "text": [
      "Command '['fanficfare', 'https://www.wattpad.com/story/184208219-you-matter-completed-%E2%88%9A', '--format=txt']' returned non-zero exit status 1.\n"
     ]
    },
    {
     "name": "stderr",
     "output_type": "stream",
     "text": [
      "\r",
      " 93%|█████████▎| 284/305 [2:44:47<10:23, 29.68s/it]"
     ]
    },
    {
     "name": "stdout",
     "output_type": "stream",
     "text": [
      "Command '['fanficfare', 'https://www.wattpad.com/story/12583444-ranting-kering', '--format=txt']' returned non-zero exit status 1.\n"
     ]
    },
    {
     "name": "stderr",
     "output_type": "stream",
     "text": [
      "\r",
      " 90%|████████▉ | 273/305 [2:44:47<18:07, 34.00s/it]"
     ]
    },
    {
     "name": "stdout",
     "output_type": "stream",
     "text": [
      "Command '['fanficfare', 'https://www.wattpad.com/story/171066717-kejam', '--format=txt']' returned non-zero exit status 1.\n"
     ]
    },
    {
     "name": "stderr",
     "output_type": "stream",
     "text": [
      "\r",
      " 83%|████████▎ | 254/305 [2:44:48<33:31, 39.44s/it]"
     ]
    },
    {
     "name": "stdout",
     "output_type": "stream",
     "text": [
      "Command '['fanficfare', 'https://www.wattpad.com/story/132946367-indraka-dan-farhana', '--format=txt']' returned non-zero exit status 1.\n"
     ]
    },
    {
     "name": "stderr",
     "output_type": "stream",
     "text": [
      "\r",
      " 85%|████████▍ | 258/305 [2:44:48<48:04, 61.38s/it]"
     ]
    },
    {
     "name": "stdout",
     "output_type": "stream",
     "text": [
      "Command '['fanficfare', 'https://www.wattpad.com/story/171396406-a-new-year-poetry-random-thoughts', '--format=txt']' returned non-zero exit status 1.\n"
     ]
    },
    {
     "name": "stderr",
     "output_type": "stream",
     "text": [
      "100%|██████████| 305/305 [2:49:37<00:00, 33.37s/it]\n",
      "100%|██████████| 305/305 [2:49:47<00:00, 33.40s/it]\n",
      " 86%|████████▌ | 263/305 [2:49:55<15:58, 22.81s/it]"
     ]
    },
    {
     "name": "stdout",
     "output_type": "stream",
     "text": [
      "Command '['fanficfare', 'https://www.wattpad.com/story/163723070-alexa-nder-completed', '--format=txt']' returned non-zero exit status 1.\n"
     ]
    },
    {
     "name": "stderr",
     "output_type": "stream",
     "text": [
      " 18%|█▊        | 3/17 [00:39<02:46, 11.93s/it]s/it]"
     ]
    },
    {
     "name": "stdout",
     "output_type": "stream",
     "text": [
      "Command '['fanficfare', 'https://www.wattpad.com/story/119717245-sing-a-song', '--format=txt']' returned non-zero exit status 1.\n"
     ]
    },
    {
     "name": "stderr",
     "output_type": "stream",
     "text": [
      "\r",
      " 89%|████████▉ | 271/305 [2:50:16<10:46, 19.03s/it]"
     ]
    },
    {
     "name": "stdout",
     "output_type": "stream",
     "text": [
      "Command '['fanficfare', 'https://www.wattpad.com/story/131744991-the-girl', '--format=txt']' returned non-zero exit status 1.\n"
     ]
    },
    {
     "name": "stderr",
     "output_type": "stream",
     "text": [
      " 92%|█████████▏| 281/305 [2:50:16<09:34, 23.95s/it]"
     ]
    },
    {
     "name": "stdout",
     "output_type": "stream",
     "text": [
      "Command '['fanficfare', 'https://www.wattpad.com/story/184595208-solusi-wa-0813-2152-9993-biosaipress-seram-bagian', '--format=txt']' returned non-zero exit status 1.\n"
     ]
    },
    {
     "name": "stderr",
     "output_type": "stream",
     "text": [
      "\r",
      " 88%|████████▊ | 269/305 [2:50:17<21:51, 36.44s/it]"
     ]
    },
    {
     "name": "stdout",
     "output_type": "stream",
     "text": [
      "Command '['fanficfare', 'https://www.wattpad.com/story/151987490-hajat', '--format=txt']' returned non-zero exit status 1.\n"
     ]
    },
    {
     "name": "stderr",
     "output_type": "stream",
     "text": [
      "\r",
      " 97%|█████████▋| 296/305 [2:50:17<03:24, 22.68s/it]"
     ]
    },
    {
     "name": "stdout",
     "output_type": "stream",
     "text": [
      "Command '['fanficfare', 'https://www.wattpad.com/story/96060290-unlogic', '--format=txt']' returned non-zero exit status 1.\n"
     ]
    },
    {
     "name": "stderr",
     "output_type": "stream",
     "text": [
      "\r",
      " 88%|████████▊ | 268/305 [2:50:17<18:30, 30.01s/it]"
     ]
    },
    {
     "name": "stdout",
     "output_type": "stream",
     "text": [
      "Command '['fanficfare', 'https://www.wattpad.com/story/165098297-sangbadutpenyendiri', '--format=txt']' returned non-zero exit status 1.\n"
     ]
    },
    {
     "name": "stderr",
     "output_type": "stream",
     "text": [
      "\r",
      " 92%|█████████▏| 281/305 [2:50:17<16:21, 40.89s/it]"
     ]
    },
    {
     "name": "stdout",
     "output_type": "stream",
     "text": [
      "Command '['fanficfare', 'https://www.wattpad.com/story/103678537-ruang', '--format=txt']' returned non-zero exit status 1.\n"
     ]
    },
    {
     "name": "stderr",
     "output_type": "stream",
     "text": [
      " 87%|████████▋ | 266/305 [2:50:17<11:22, 17.49s/it]"
     ]
    },
    {
     "name": "stdout",
     "output_type": "stream",
     "text": [
      "Command '['fanficfare', 'https://www.wattpad.com/story/122446681-crush-chie', '--format=txt']' returned non-zero exit status 1.\n"
     ]
    },
    {
     "name": "stderr",
     "output_type": "stream",
     "text": [
      "\r",
      " 86%|████████▌ | 261/305 [2:50:17<47:35, 64.89s/it]"
     ]
    },
    {
     "name": "stdout",
     "output_type": "stream",
     "text": [
      "Command '['fanficfare', 'https://www.wattpad.com/story/196470446-sajak-cinta', '--format=txt']' returned non-zero exit status 1.\n"
     ]
    },
    {
     "name": "stderr",
     "output_type": "stream",
     "text": [
      " 90%|████████▉ | 273/305 [2:50:18<12:33, 23.54s/it]"
     ]
    },
    {
     "name": "stdout",
     "output_type": "stream",
     "text": [
      "Command '['fanficfare', 'https://www.wattpad.com/story/155628610-special-someones-editing-in-progress', '--format=txt']' returned non-zero exit status 1.\n"
     ]
    },
    {
     "name": "stderr",
     "output_type": "stream",
     "text": [
      "\r",
      " 95%|█████████▍| 289/305 [2:50:18<16:30, 61.92s/it]"
     ]
    },
    {
     "name": "stdout",
     "output_type": "stream",
     "text": [
      "Command '['fanficfare', 'https://www.wattpad.com/story/202612933-pertama-kalinya', '--format=txt']' returned non-zero exit status 1.\n"
     ]
    },
    {
     "name": "stderr",
     "output_type": "stream",
     "text": [
      "\r",
      " 90%|████████▉ | 274/305 [2:50:18<31:22, 60.74s/it]"
     ]
    },
    {
     "name": "stdout",
     "output_type": "stream",
     "text": [
      "Command '['fanficfare', 'https://www.wattpad.com/story/194989437-bukan-kisah-patah-hati', '--format=txt']' returned non-zero exit status 1.\n"
     ]
    },
    {
     "name": "stderr",
     "output_type": "stream",
     "text": [
      "\r",
      " 92%|█████████▏| 282/305 [2:50:18<25:01, 65.30s/it]"
     ]
    },
    {
     "name": "stdout",
     "output_type": "stream",
     "text": [
      "Command '['fanficfare', 'https://www.wattpad.com/story/207031973-sepotong-cerita-untuk-kisah-yang-telah-usai', '--format=txt']' returned non-zero exit status 1.\n"
     ]
    },
    {
     "name": "stderr",
     "output_type": "stream",
     "text": [
      "\r",
      " 93%|█████████▎| 283/305 [2:50:18<08:14, 22.48s/it]"
     ]
    },
    {
     "name": "stdout",
     "output_type": "stream",
     "text": [
      "Command '['fanficfare', 'https://www.wattpad.com/story/199101717-satria', '--format=txt']' returned non-zero exit status 1.\n"
     ]
    },
    {
     "name": "stderr",
     "output_type": "stream",
     "text": [
      "\r",
      " 87%|████████▋ | 265/305 [2:50:18<34:36, 51.92s/it]"
     ]
    },
    {
     "name": "stdout",
     "output_type": "stream",
     "text": [
      "Command '['fanficfare', 'https://www.wattpad.com/story/173553752-untuk-sebuah-rasa-yang-tak-dapat-di-eja', '--format=txt']' returned non-zero exit status 1.\n"
     ]
    },
    {
     "name": "stderr",
     "output_type": "stream",
     "text": [
      "100%|██████████| 305/305 [2:55:01<00:00, 34.43s/it]\n",
      " 93%|█████████▎| 283/305 [2:55:08<06:08, 16.73s/it]"
     ]
    },
    {
     "name": "stdout",
     "output_type": "stream",
     "text": [
      "Command '['fanficfare', 'https://www.wattpad.com/story/163590689-words', '--format=txt']' returned non-zero exit status 1.\n"
     ]
    },
    {
     "name": "stderr",
     "output_type": "stream",
     "text": [
      "\r",
      " 90%|█████████ | 275/305 [2:55:32<25:58, 51.94s/it]"
     ]
    },
    {
     "name": "stdout",
     "output_type": "stream",
     "text": [
      "Command '['fanficfare', 'https://www.wattpad.com/story/203649201-dendam', '--format=txt']' returned non-zero exit status 1.\n"
     ]
    },
    {
     "name": "stderr",
     "output_type": "stream",
     "text": [
      "\r",
      " 98%|█████████▊| 299/305 [2:55:32<04:32, 45.40s/it]"
     ]
    },
    {
     "name": "stdout",
     "output_type": "stream",
     "text": [
      "Command '['fanficfare', 'https://www.wattpad.com/story/193231837-payah', '--format=txt']' returned non-zero exit status 1.\n"
     ]
    },
    {
     "name": "stderr",
     "output_type": "stream",
     "text": [
      "\r",
      " 99%|█████████▉| 302/305 [2:55:32<02:46, 55.34s/it]"
     ]
    },
    {
     "name": "stdout",
     "output_type": "stream",
     "text": [
      "Command '['fanficfare', 'https://www.wattpad.com/story/189678514-the-royal%27s', '--format=txt']' returned non-zero exit status 1.\n"
     ]
    },
    {
     "name": "stderr",
     "output_type": "stream",
     "text": [
      "\r",
      " 97%|█████████▋| 296/305 [2:55:32<03:31, 23.50s/it]"
     ]
    },
    {
     "name": "stdout",
     "output_type": "stream",
     "text": [
      "Command '['fanficfare', 'https://www.wattpad.com/story/104273751-monologues', '--format=txt']' returned non-zero exit status 1.\n"
     ]
    },
    {
     "name": "stderr",
     "output_type": "stream",
     "text": [
      "\r",
      " 94%|█████████▍| 286/305 [2:55:32<15:07, 47.75s/it]"
     ]
    },
    {
     "name": "stdout",
     "output_type": "stream",
     "text": [
      "Command '['fanficfare', 'https://www.wattpad.com/story/139061829-heart-of-a-lover-love-poetry-%F0%9F%92%96', '--format=txt']' returned non-zero exit status 1.\n"
     ]
    },
    {
     "name": "stderr",
     "output_type": "stream",
     "text": [
      " 89%|████████▊ | 270/305 [2:55:33<26:34, 45.55s/it]"
     ]
    },
    {
     "name": "stdout",
     "output_type": "stream",
     "text": [
      "Command '['fanficfare', 'https://www.wattpad.com/story/88724860-my-romeo', '--format=txt']' returned non-zero exit status 1.\n"
     ]
    },
    {
     "name": "stderr",
     "output_type": "stream",
     "text": [
      "\r",
      " 97%|█████████▋| 297/305 [2:55:33<04:56, 37.01s/it]"
     ]
    },
    {
     "name": "stdout",
     "output_type": "stream",
     "text": [
      "Command '['fanficfare', 'https://www.wattpad.com/story/117283236-puisi-malam', '--format=txt']' returned non-zero exit status 1.\n"
     ]
    },
    {
     "name": "stderr",
     "output_type": "stream",
     "text": [
      "\r",
      " 95%|█████████▌| 290/305 [2:55:33<07:03, 28.23s/it]"
     ]
    },
    {
     "name": "stdout",
     "output_type": "stream",
     "text": [
      "Command '['fanficfare', 'https://www.wattpad.com/story/76137090-la-vie', '--format=txt']' returned non-zero exit status 1.\n"
     ]
    },
    {
     "name": "stderr",
     "output_type": "stream",
     "text": [
      " 93%|█████████▎| 284/305 [2:55:33<06:45, 19.32s/it]"
     ]
    },
    {
     "name": "stdout",
     "output_type": "stream",
     "text": [
      "Command '['fanficfare', 'https://www.wattpad.com/story/143056959-antologi-puisi-rindu', '--format=txt']' returned non-zero exit status 1.\n"
     ]
    },
    {
     "name": "stderr",
     "output_type": "stream",
     "text": [
      "\r",
      " 90%|█████████ | 276/305 [2:55:33<12:21, 25.55s/it]"
     ]
    },
    {
     "name": "stdout",
     "output_type": "stream",
     "text": [
      "Command '['fanficfare', 'https://www.wattpad.com/story/210690404-ada-di-sana', '--format=txt']' returned non-zero exit status 1.\n"
     ]
    },
    {
     "name": "stderr",
     "output_type": "stream",
     "text": [
      "\r",
      " 93%|█████████▎| 284/305 [2:55:33<12:03, 34.44s/it]"
     ]
    },
    {
     "name": "stdout",
     "output_type": "stream",
     "text": [
      "Command '['fanficfare', 'https://www.wattpad.com/story/162780927-mampu-s-tanpamu-completed', '--format=txt']' returned non-zero exit status 1.\n",
      "Command '['fanficfare', 'https://www.wattpad.com/story/142314823-the-dream', '--format=txt']' returned non-zero exit status 1.\n"
     ]
    },
    {
     "name": "stderr",
     "output_type": "stream",
     "text": [
      " 90%|█████████ | 276/305 [2:55:33<17:07, 35.42s/it]"
     ]
    },
    {
     "name": "stdout",
     "output_type": "stream",
     "text": [
      "Command '['fanficfare', 'https://www.wattpad.com/story/150299093-just-a-bruneian', '--format=txt']' returned non-zero exit status 1.\n"
     ]
    },
    {
     "name": "stderr",
     "output_type": "stream",
     "text": [
      "\r",
      " 91%|█████████ | 277/305 [2:55:33<10:14, 21.93s/it]"
     ]
    },
    {
     "name": "stdout",
     "output_type": "stream",
     "text": [
      "Command '['fanficfare', 'https://www.wattpad.com/story/188080861-sarangkala', '--format=txt']' returned non-zero exit status 1.\n"
     ]
    },
    {
     "name": "stderr",
     "output_type": "stream",
     "text": [
      "\r",
      " 92%|█████████▏| 282/305 [2:55:33<15:09, 39.56s/it]"
     ]
    },
    {
     "name": "stdout",
     "output_type": "stream",
     "text": [
      "Command '['fanficfare', 'https://www.wattpad.com/story/125711377-honest', '--format=txt']' returned non-zero exit status 1.\n"
     ]
    },
    {
     "name": "stderr",
     "output_type": "stream",
     "text": [
      "\r",
      " 93%|█████████▎| 283/305 [2:55:33<09:28, 25.84s/it]"
     ]
    },
    {
     "name": "stdout",
     "output_type": "stream",
     "text": [
      "Command '['fanficfare', 'https://www.wattpad.com/story/171524946-2018', '--format=txt']' returned non-zero exit status 1.\n"
     ]
    },
    {
     "name": "stderr",
     "output_type": "stream",
     "text": [
      "\r",
      " 89%|████████▊ | 270/305 [2:55:33<18:24, 31.56s/it]"
     ]
    },
    {
     "name": "stdout",
     "output_type": "stream",
     "text": [
      "Command '['fanficfare', 'https://www.wattpad.com/story/19590260-298-passengers-lives-taken', '--format=txt']' returned non-zero exit status 1.\n"
     ]
    },
    {
     "name": "stderr",
     "output_type": "stream",
     "text": [
      "\r",
      " 96%|█████████▌| 292/305 [2:55:34<05:15, 24.31s/it]"
     ]
    },
    {
     "name": "stdout",
     "output_type": "stream",
     "text": [
      "Command '['fanficfare', 'https://www.wattpad.com/story/193756202-quotes', '--format=txt']' returned non-zero exit status 1.\n"
     ]
    },
    {
     "name": "stderr",
     "output_type": "stream",
     "text": [
      "\r",
      " 92%|█████████▏| 281/305 [2:55:34<08:52, 22.21s/it]"
     ]
    },
    {
     "name": "stdout",
     "output_type": "stream",
     "text": [
      "Command '['fanficfare', 'https://www.wattpad.com/story/205356766-bukan-hanya-sekadar-cinta', '--format=txt']' returned non-zero exit status 1.\n"
     ]
    },
    {
     "name": "stderr",
     "output_type": "stream",
     "text": [
      "\r",
      " 92%|█████████▏| 280/305 [2:55:34<13:06, 31.45s/it]"
     ]
    },
    {
     "name": "stdout",
     "output_type": "stream",
     "text": [
      "Command '['fanficfare', 'https://www.wattpad.com/story/204546229-og-l-u-s-t-jjk', '--format=txt']' returned non-zero exit status 1.\n"
     ]
    },
    {
     "name": "stderr",
     "output_type": "stream",
     "text": [
      "100%|██████████| 305/305 [2:57:50<00:00, 34.98s/it]\n",
      "100%|██████████| 305/305 [2:59:22<00:00, 35.29s/it]\n",
      "100%|██████████| 305/305 [2:59:47<00:00, 35.37s/it]\n",
      "100%|██████████| 17/17 [10:20<00:00, 36.51s/it]/it]\n",
      "100%|██████████| 305/305 [3:00:03<00:00, 35.42s/it]\n",
      " 93%|█████████▎| 285/305 [3:01:01<08:25, 25.28s/it]"
     ]
    },
    {
     "name": "stdout",
     "output_type": "stream",
     "text": [
      "Command '['fanficfare', 'https://www.wattpad.com/story/173489557-quotess', '--format=txt']' returned non-zero exit status 1.\n"
     ]
    },
    {
     "name": "stderr",
     "output_type": "stream",
     "text": [
      "\r",
      " 95%|█████████▍| 289/305 [3:01:22<14:48, 55.55s/it]"
     ]
    },
    {
     "name": "stdout",
     "output_type": "stream",
     "text": [
      "Command '['fanficfare', 'https://www.wattpad.com/story/137765748-for-you-my-inspiration', '--format=txt']' returned non-zero exit status 1.\n"
     ]
    },
    {
     "name": "stderr",
     "output_type": "stream",
     "text": [
      "\r",
      " 96%|█████████▋| 294/305 [3:01:22<04:08, 22.58s/it]"
     ]
    },
    {
     "name": "stdout",
     "output_type": "stream",
     "text": [
      "Command '['fanficfare', 'https://www.wattpad.com/story/162092729-air-mata-anne', '--format=txt']' returned non-zero exit status 1.\n"
     ]
    },
    {
     "name": "stderr",
     "output_type": "stream",
     "text": [
      " 99%|█████████▉| 303/305 [3:01:22<00:43, 21.69s/it]"
     ]
    },
    {
     "name": "stdout",
     "output_type": "stream",
     "text": [
      "Command '['fanficfare', 'https://www.wattpad.com/story/121838196-jelata-penikmat-kata', '--format=txt']' returned non-zero exit status 1.\n"
     ]
    },
    {
     "name": "stderr",
     "output_type": "stream",
     "text": [
      "\r",
      " 90%|█████████ | 276/305 [3:01:22<32:01, 66.24s/it]"
     ]
    },
    {
     "name": "stdout",
     "output_type": "stream",
     "text": [
      "Command '['fanficfare', 'https://www.wattpad.com/story/181002984-starlenta-andromeda', '--format=txt']' returned non-zero exit status 1.\n"
     ]
    },
    {
     "name": "stderr",
     "output_type": "stream",
     "text": [
      "\r",
      " 95%|█████████▍| 289/305 [3:01:22<08:49, 33.08s/it]"
     ]
    },
    {
     "name": "stdout",
     "output_type": "stream",
     "text": [
      "Command '['fanficfare', 'https://www.wattpad.com/story/34993565-complete-the-bullies-malay-fic', '--format=txt']' returned non-zero exit status 1.\n"
     ]
    },
    {
     "name": "stderr",
     "output_type": "stream",
     "text": [
      "\r",
      " 94%|█████████▍| 288/305 [3:01:22<14:29, 51.17s/it]"
     ]
    },
    {
     "name": "stdout",
     "output_type": "stream",
     "text": [
      "Command '['fanficfare', 'https://www.wattpad.com/story/189669892-sebaris-makna', '--format=txt']' returned non-zero exit status 1.\n"
     ]
    },
    {
     "name": "stderr",
     "output_type": "stream",
     "text": [
      "\r",
      " 97%|█████████▋| 297/305 [3:01:22<04:13, 31.74s/it]"
     ]
    },
    {
     "name": "stdout",
     "output_type": "stream",
     "text": [
      "Command '['fanficfare', 'https://www.wattpad.com/story/151552563-ex-bf-crush%E2%9D%A4%EF%B8%8F-slow-update', '--format=txt']' returned non-zero exit status 1.\n"
     ]
    },
    {
     "name": "stderr",
     "output_type": "stream",
     "text": [
      "\r",
      " 93%|█████████▎| 283/305 [3:01:23<24:02, 65.55s/it]"
     ]
    },
    {
     "name": "stdout",
     "output_type": "stream",
     "text": [
      "Command '['fanficfare', 'https://www.wattpad.com/story/84270207-tulisan', '--format=txt']' returned non-zero exit status 1.\n"
     ]
    },
    {
     "name": "stderr",
     "output_type": "stream",
     "text": [
      "\r",
      " 96%|█████████▌| 293/305 [3:01:23<06:57, 34.80s/it]"
     ]
    },
    {
     "name": "stdout",
     "output_type": "stream",
     "text": [
      "Command '['fanficfare', 'https://www.wattpad.com/story/130553501-nirmala', '--format=txt']' returned non-zero exit status 1.\n"
     ]
    },
    {
     "name": "stderr",
     "output_type": "stream",
     "text": [
      "\r",
      " 93%|█████████▎| 285/305 [3:01:23<09:15, 27.77s/it]"
     ]
    },
    {
     "name": "stdout",
     "output_type": "stream",
     "text": [
      "Command '['fanficfare', 'https://www.wattpad.com/story/176110537-cemara-tunggu-completed', '--format=txt']' returned non-zero exit status 1.\n"
     ]
    },
    {
     "name": "stderr",
     "output_type": "stream",
     "text": [
      "\r",
      " 94%|█████████▍| 287/305 [3:01:24<07:00, 23.37s/it]"
     ]
    },
    {
     "name": "stdout",
     "output_type": "stream",
     "text": [
      "Command '['fanficfare', 'https://www.wattpad.com/story/199081526-ruang-aksara', '--format=txt']' returned non-zero exit status 1.\n"
     ]
    },
    {
     "name": "stderr",
     "output_type": "stream",
     "text": [
      "\r",
      " 97%|█████████▋| 295/305 [3:01:24<04:22, 26.28s/it]"
     ]
    },
    {
     "name": "stdout",
     "output_type": "stream",
     "text": [
      "Command '['fanficfare', 'https://www.wattpad.com/story/129222682-it-isn%27t-love-poetry-%E2%9C%93', '--format=txt']' returned non-zero exit status 1.\n"
     ]
    },
    {
     "name": "stderr",
     "output_type": "stream",
     "text": [
      "\r",
      " 98%|█████████▊| 298/305 [3:01:24<04:49, 41.41s/it]"
     ]
    },
    {
     "name": "stdout",
     "output_type": "stream",
     "text": [
      "Command '['fanficfare', 'https://www.wattpad.com/story/192593862-history-aph-indonesia-x-hetalia', '--format=txt']' returned non-zero exit status 1.\n"
     ]
    },
    {
     "name": "stderr",
     "output_type": "stream",
     "text": [
      "\r",
      "100%|█████████▉| 304/305 [3:01:24<00:56, 56.10s/it]"
     ]
    },
    {
     "name": "stdout",
     "output_type": "stream",
     "text": [
      "Command '['fanficfare', 'https://www.wattpad.com/story/138239345-kata-kata', '--format=txt']' returned non-zero exit status 1.\n"
     ]
    },
    {
     "name": "stderr",
     "output_type": "stream",
     "text": [
      "\r",
      " 93%|█████████▎| 284/305 [3:01:24<14:58, 42.79s/it]"
     ]
    },
    {
     "name": "stdout",
     "output_type": "stream",
     "text": [
      "Command '['fanficfare', 'https://www.wattpad.com/story/158171833-tetangga-idaman-hingga-jannah', '--format=txt']' returned non-zero exit status 1.\n"
     ]
    },
    {
     "name": "stderr",
     "output_type": "stream",
     "text": [
      "100%|██████████| 305/305 [3:02:10<00:00, 35.84s/it]\n",
      "100%|██████████| 305/305 [3:02:54<00:00, 35.98s/it]\n",
      "100%|██████████| 305/305 [3:05:00<00:00, 36.40s/it]\n",
      "100%|██████████| 305/305 [3:05:05<00:00, 36.41s/it]\n",
      "100%|██████████| 305/305 [3:05:08<00:00, 36.42s/it]\n",
      "100%|██████████| 305/305 [3:05:32<00:00, 36.50s/it]\n",
      " 99%|█████████▉| 302/305 [3:06:35<00:36, 12.15s/it]"
     ]
    },
    {
     "name": "stdout",
     "output_type": "stream",
     "text": [
      "Command '['fanficfare', 'https://www.wattpad.com/story/79867534-kata-kata-panjang-untuk-kekasihku', '--format=txt']' returned non-zero exit status 1.\n"
     ]
    },
    {
     "name": "stderr",
     "output_type": "stream",
     "text": [
      "\r",
      " 95%|█████████▌| 290/305 [3:06:58<18:32, 74.17s/it]"
     ]
    },
    {
     "name": "stdout",
     "output_type": "stream",
     "text": [
      "Command '['fanficfare', 'https://www.wattpad.com/story/212167026-you-can-read-this-at-night', '--format=txt']' returned non-zero exit status 1.\n"
     ]
    },
    {
     "name": "stderr",
     "output_type": "stream",
     "text": [
      "100%|██████████| 305/305 [3:06:59<00:00, 36.79s/it]\n"
     ]
    },
    {
     "name": "stdout",
     "output_type": "stream",
     "text": [
      "Command '['fanficfare', 'https://www.wattpad.com/story/193157540-rahasia', '--format=txt']' returned non-zero exit status 1.\n"
     ]
    },
    {
     "name": "stderr",
     "output_type": "stream",
     "text": [
      "\r",
      "100%|█████████▉| 304/305 [3:07:00<00:44, 44.59s/it]"
     ]
    },
    {
     "name": "stdout",
     "output_type": "stream",
     "text": [
      "Command '['fanficfare', 'https://www.wattpad.com/story/203498824-today-i%27m-fall-in-love', '--format=txt']' returned non-zero exit status 1.\n"
     ]
    },
    {
     "name": "stderr",
     "output_type": "stream",
     "text": [
      "100%|██████████| 305/305 [3:07:00<00:00, 36.79s/it]\n"
     ]
    },
    {
     "name": "stdout",
     "output_type": "stream",
     "text": [
      "Command '['fanficfare', 'https://www.wattpad.com/story/78008211-%F0%9F%8C%BF-thoughts-%F0%9F%8C%BF', '--format=txt']' returned non-zero exit status 1.\n"
     ]
    },
    {
     "name": "stderr",
     "output_type": "stream",
     "text": [
      "100%|██████████| 305/305 [3:07:00<00:00, 36.79s/it]\n"
     ]
    },
    {
     "name": "stdout",
     "output_type": "stream",
     "text": [
      "Command '['fanficfare', 'https://www.wattpad.com/story/206942637-noah-on-hold', '--format=txt']' returned non-zero exit status 1.\n"
     ]
    },
    {
     "name": "stderr",
     "output_type": "stream",
     "text": [
      "\r",
      " 96%|█████████▋| 294/305 [3:07:00<08:43, 47.59s/it]"
     ]
    },
    {
     "name": "stdout",
     "output_type": "stream",
     "text": [
      "Command '['fanficfare', 'https://www.wattpad.com/story/132230280-coretan-coretan-kecil', '--format=txt']' returned non-zero exit status 1.\n"
     ]
    },
    {
     "name": "stderr",
     "output_type": "stream",
     "text": [
      "\r",
      " 97%|█████████▋| 297/305 [3:07:00<06:06, 45.76s/it]"
     ]
    },
    {
     "name": "stdout",
     "output_type": "stream",
     "text": [
      "Command '['fanficfare', 'https://www.wattpad.com/story/201396511-cerita-julia-dan-korea-selatan', '--format=txt']' returned non-zero exit status 1.\n"
     ]
    },
    {
     "name": "stderr",
     "output_type": "stream",
     "text": [
      "100%|██████████| 305/305 [3:07:46<00:00, 36.94s/it]\n",
      "100%|██████████| 305/305 [3:08:32<00:00, 37.09s/it]\n",
      "100%|██████████| 305/305 [3:10:46<00:00, 37.53s/it]\n",
      "100%|██████████| 305/305 [3:11:26<00:00, 37.66s/it]\n",
      "100%|██████████| 305/305 [3:11:41<00:00, 37.71s/it]\n",
      "100%|██████████| 305/305 [3:11:42<00:00, 37.71s/it]\n",
      "100%|██████████| 305/305 [3:11:44<00:00, 37.72s/it]\n",
      "100%|██████████| 305/305 [3:12:44<00:00, 37.92s/it]\n",
      "100%|██████████| 305/305 [3:14:01<00:00, 38.17s/it]\n",
      "100%|██████████| 305/305 [3:16:25<00:00, 38.64s/it]\n"
     ]
    },
    {
     "name": "stdout",
     "output_type": "stream",
     "text": [
      "CPU times: user 18 s, sys: 11.3 s, total: 29.3 s\n",
      "Wall time: 3h 16min 25s\n"
     ]
    }
   ],
   "source": [
    "%%time\n",
    "\n",
    "results = multiprocess.multiprocessing(urls, loop, cores = 26)"
   ]
  },
  {
   "cell_type": "code",
   "execution_count": null,
   "metadata": {},
   "outputs": [],
   "source": []
  }
 ],
 "metadata": {
  "kernelspec": {
   "display_name": "Python 3",
   "language": "python",
   "name": "python3"
  },
  "language_info": {
   "codemirror_mode": {
    "name": "ipython",
    "version": 3
   },
   "file_extension": ".py",
   "mimetype": "text/x-python",
   "name": "python",
   "nbconvert_exporter": "python",
   "pygments_lexer": "ipython3",
   "version": "3.6.8"
  }
 },
 "nbformat": 4,
 "nbformat_minor": 2
}
