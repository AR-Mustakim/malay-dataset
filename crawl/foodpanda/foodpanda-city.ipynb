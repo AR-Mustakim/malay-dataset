{
 "cells": [
  {
   "cell_type": "code",
   "execution_count": 1,
   "metadata": {},
   "outputs": [
    {
     "name": "stderr",
     "output_type": "stream",
     "text": [
      "Error occurred during loading data. Trying to use cache server https://fake-useragent.herokuapp.com/browsers/0.1.11\n",
      "Traceback (most recent call last):\n",
      "  File \"/usr/local/Cellar/python/3.7.5/Frameworks/Python.framework/Versions/3.7/lib/python3.7/urllib/request.py\", line 1317, in do_open\n",
      "    encode_chunked=req.has_header('Transfer-encoding'))\n",
      "  File \"/usr/local/Cellar/python/3.7.5/Frameworks/Python.framework/Versions/3.7/lib/python3.7/http/client.py\", line 1252, in request\n",
      "    self._send_request(method, url, body, headers, encode_chunked)\n",
      "  File \"/usr/local/Cellar/python/3.7.5/Frameworks/Python.framework/Versions/3.7/lib/python3.7/http/client.py\", line 1298, in _send_request\n",
      "    self.endheaders(body, encode_chunked=encode_chunked)\n",
      "  File \"/usr/local/Cellar/python/3.7.5/Frameworks/Python.framework/Versions/3.7/lib/python3.7/http/client.py\", line 1247, in endheaders\n",
      "    self._send_output(message_body, encode_chunked=encode_chunked)\n",
      "  File \"/usr/local/Cellar/python/3.7.5/Frameworks/Python.framework/Versions/3.7/lib/python3.7/http/client.py\", line 1026, in _send_output\n",
      "    self.send(msg)\n",
      "  File \"/usr/local/Cellar/python/3.7.5/Frameworks/Python.framework/Versions/3.7/lib/python3.7/http/client.py\", line 966, in send\n",
      "    self.connect()\n",
      "  File \"/usr/local/Cellar/python/3.7.5/Frameworks/Python.framework/Versions/3.7/lib/python3.7/http/client.py\", line 938, in connect\n",
      "    (self.host,self.port), self.timeout, self.source_address)\n",
      "  File \"/usr/local/Cellar/python/3.7.5/Frameworks/Python.framework/Versions/3.7/lib/python3.7/socket.py\", line 727, in create_connection\n",
      "    raise err\n",
      "  File \"/usr/local/Cellar/python/3.7.5/Frameworks/Python.framework/Versions/3.7/lib/python3.7/socket.py\", line 716, in create_connection\n",
      "    sock.connect(sa)\n",
      "socket.timeout: timed out\n",
      "\n",
      "During handling of the above exception, another exception occurred:\n",
      "\n",
      "Traceback (most recent call last):\n",
      "  File \"/usr/local/lib/python3.7/site-packages/fake_useragent/utils.py\", line 67, in get\n",
      "    context=context,\n",
      "  File \"/usr/local/Cellar/python/3.7.5/Frameworks/Python.framework/Versions/3.7/lib/python3.7/urllib/request.py\", line 222, in urlopen\n",
      "    return opener.open(url, data, timeout)\n",
      "  File \"/usr/local/Cellar/python/3.7.5/Frameworks/Python.framework/Versions/3.7/lib/python3.7/urllib/request.py\", line 525, in open\n",
      "    response = self._open(req, data)\n",
      "  File \"/usr/local/Cellar/python/3.7.5/Frameworks/Python.framework/Versions/3.7/lib/python3.7/urllib/request.py\", line 543, in _open\n",
      "    '_open', req)\n",
      "  File \"/usr/local/Cellar/python/3.7.5/Frameworks/Python.framework/Versions/3.7/lib/python3.7/urllib/request.py\", line 503, in _call_chain\n",
      "    result = func(*args)\n",
      "  File \"/usr/local/Cellar/python/3.7.5/Frameworks/Python.framework/Versions/3.7/lib/python3.7/urllib/request.py\", line 1345, in http_open\n",
      "    return self.do_open(http.client.HTTPConnection, req)\n",
      "  File \"/usr/local/Cellar/python/3.7.5/Frameworks/Python.framework/Versions/3.7/lib/python3.7/urllib/request.py\", line 1319, in do_open\n",
      "    raise URLError(err)\n",
      "urllib.error.URLError: <urlopen error timed out>\n",
      "\n",
      "During handling of the above exception, another exception occurred:\n",
      "\n",
      "Traceback (most recent call last):\n",
      "  File \"/usr/local/lib/python3.7/site-packages/fake_useragent/utils.py\", line 166, in load\n",
      "    verify_ssl=verify_ssl,\n",
      "  File \"/usr/local/lib/python3.7/site-packages/fake_useragent/utils.py\", line 122, in get_browser_versions\n",
      "    verify_ssl=verify_ssl,\n",
      "  File \"/usr/local/lib/python3.7/site-packages/fake_useragent/utils.py\", line 84, in get\n",
      "    raise FakeUserAgentError('Maximum amount of retries reached')\n",
      "fake_useragent.errors.FakeUserAgentError: Maximum amount of retries reached\n"
     ]
    }
   ],
   "source": [
    "from bs4 import BeautifulSoup\n",
    "from fake_useragent import UserAgent\n",
    "import requests\n",
    "\n",
    "ua = UserAgent()"
   ]
  },
  {
   "cell_type": "code",
   "execution_count": 3,
   "metadata": {},
   "outputs": [],
   "source": [
    "headers = {'User-Agent': ua.chrome}\n",
    "headers = {\"User-Agent\": \"Mozilla/5.0 (Macintosh; Intel Mac OS X 10.14; rv:66.0) Gecko/20100101 Firefox/66.0\", \n",
    "           \"Accept\": \"text/html,application/xhtml+xml,application/xml;q=0.9,*/*;q=0.8\", \n",
    "           \"Accept-Language\": \"en-US,en;q=0.5\", \n",
    "           \"Accept-Encoding\": \"gzip, deflate\", \"DNT\": \"1\", \"Connection\": \"close\", \"Upgrade-Insecure-Requests\": \"1\"}\n",
    "cookies = {'JSESSIONID': 'fbadab78eef79d2d'}"
   ]
  },
  {
   "cell_type": "code",
   "execution_count": 4,
   "metadata": {},
   "outputs": [],
   "source": [
    "response = requests.get('https://www.foodpanda.my', headers = headers, cookies = cookies, timeout = 60)"
   ]
  },
  {
   "cell_type": "code",
   "execution_count": 5,
   "metadata": {},
   "outputs": [],
   "source": [
    "soup = BeautifulSoup(response.content, 'html.parser')"
   ]
  },
  {
   "cell_type": "code",
   "execution_count": 6,
   "metadata": {},
   "outputs": [
    {
     "data": {
      "text/plain": [
       "<a class=\"city-tile\" data-gtm-cta=\"findRestaurant_kuala-lumpur\" href=\"/city/kuala-lumpur\">\n",
       "<figure>\n",
       "<picture><div class=\"city-picture b-lazy\" data-src=\"https://images.deliveryhero.io/image/fd-my/city-tile/city-tile-Kuala-Lumpur.jpg?width=720\"></div></picture>\n",
       "<figcaption class=\"city-info\">\n",
       "<span class=\"city-name\">\n",
       "                    Kuala Lumpur\n",
       "                </span>\n",
       "<span class=\"city-letter\">K</span>\n",
       "<span class=\"city-cta button city__called-action js-ripple\">\n",
       "<svg class=\"svg-stroke-container\" height=\"18\" viewbox=\"0 0 20 18\" width=\"20\" xmlns=\"http://www.w3.org/2000/svg\"> <g fill=\"none\" fill-rule=\"evenodd\" stroke=\"#FFFFFF\" stroke-linecap=\"round\" stroke-width=\"2\" transform=\"translate(1 1)\"> <path d=\"M0,8 L17.5,8\"></path> <polyline points=\"4.338 13.628 15.628 13.628 15.628 2.338\" stroke-linejoin=\"round\" transform=\"rotate(-45 9.983 7.983)\"></polyline> </g> </svg>\n",
       "</span>\n",
       "</figcaption>\n",
       "</figure>\n",
       "</a>"
      ]
     },
     "execution_count": 6,
     "metadata": {},
     "output_type": "execute_result"
    }
   ],
   "source": [
    "cities = soup.find_all(\"a\", class_=\"city-tile\")\n",
    "cities[0]"
   ]
  },
  {
   "cell_type": "code",
   "execution_count": 7,
   "metadata": {},
   "outputs": [],
   "source": [
    "import re\n",
    "\n",
    "def cleaning(string):\n",
    "    string = re.sub('[^A-Za-z\\-0-9() ]+', ' ', string)\n",
    "    string = re.sub(r'[ ]+', ' ', string).strip()\n",
    "    return string"
   ]
  },
  {
   "cell_type": "code",
   "execution_count": 8,
   "metadata": {},
   "outputs": [
    {
     "data": {
      "text/plain": [
       "'Kuala Lumpur'"
      ]
     },
     "execution_count": 8,
     "metadata": {},
     "output_type": "execute_result"
    }
   ],
   "source": [
    "cleaning(cities[0].find_all(class_='city-name')[0].contents[0])"
   ]
  },
  {
   "cell_type": "code",
   "execution_count": 9,
   "metadata": {},
   "outputs": [],
   "source": [
    "links = {}\n",
    "for c in cities:\n",
    "    city = cleaning(c.find_all(class_='city-name')[0].contents[0])\n",
    "    links[city] = c.get('href')"
   ]
  },
  {
   "cell_type": "code",
   "execution_count": 10,
   "metadata": {},
   "outputs": [
    {
     "data": {
      "text/plain": [
       "{'Kuala Lumpur': '/city/kuala-lumpur',\n",
       " 'Penang': '/city/bayan-baru',\n",
       " 'Petaling Jaya': '/city/petaling-jaya',\n",
       " 'Subang': '/city/puchong',\n",
       " 'Shah Alam': '/city/shah-alam',\n",
       " 'Cyberjaya': '/city/cyberjaya',\n",
       " 'Johor Bahru': '/city/johor-bahru',\n",
       " 'Melaka': '/city/melaka',\n",
       " 'Kuching': '/city/kuching',\n",
       " 'Miri': '/city/miri',\n",
       " 'Kuantan': '/city/kuantan',\n",
       " 'Bangi': '/city/bangi',\n",
       " 'Ipoh': '/city/ipoh',\n",
       " 'Terengganu': '/city/terengganu',\n",
       " 'Kajang': '/city/kajang',\n",
       " 'Kelantan': '/city/kelantan',\n",
       " 'Putrajaya': '/city/putrajaya',\n",
       " 'Kota-Kinabalu': '/city/kota-kinabalu',\n",
       " 'Klang': '/city/klang',\n",
       " 'Negeri Sembilan': '/city/negeri-sembilan',\n",
       " 'Sungai Petani': '/city/sungai-petani',\n",
       " 'Alor Setar': '/city/alor-setar',\n",
       " 'Kulim': '/city/kulim',\n",
       " 'Rawang': '/city/rawang',\n",
       " 'Taiping': '/city/taiping',\n",
       " 'Sitiawan': '/city/sitiawan',\n",
       " 'Kluang': '/city/kluang',\n",
       " 'Kulai': '/city/kulai',\n",
       " 'Sibu': '/city/sibu',\n",
       " 'Sepang': '/city/sepang',\n",
       " 'Kangar': '/city/kangar',\n",
       " 'Temerloh': '/city/temerloh',\n",
       " 'Bintulu': '/city/bintulu',\n",
       " 'Petra Jaya': '/city/petra-jaya',\n",
       " 'Sandakan': '/city/sandakan',\n",
       " 'Pontian': '/city/pontian',\n",
       " 'Segamat': '/city/segamat',\n",
       " 'Nibong Tebal': '/city/nibong-tebal',\n",
       " 'Kampar': '/city/kampar',\n",
       " 'Ulu Tiram': '/city/ulu-tiram',\n",
       " 'Kepala Batas': '/city/kepala-batas',\n",
       " 'Jitra': '/city/jitra',\n",
       " 'Port Dickson': '/city/port-dickson',\n",
       " 'Teluk Intan': '/city/teluk-intan',\n",
       " 'Arau': '/city/arau',\n",
       " 'Jerantut': '/city/jerantut',\n",
       " 'Bahau': '/city/bahau',\n",
       " 'Mersing': '/city/mersing',\n",
       " 'Kota Tinggi': '/city/kota-tinggi',\n",
       " 'Rompin': '/city/rompin',\n",
       " 'Kerian': '/city/kerian',\n",
       " 'Kuala Pilah': '/city/kuala-pilah',\n",
       " 'Kuala Kangsar': '/city/kuala-kangsar',\n",
       " 'Muallim': '/city/muallim',\n",
       " 'Samarahan': '/city/samarahan',\n",
       " 'Tangkak': '/city/tangkak',\n",
       " 'Seri Iskandar': '/city/seri-iskandar'}"
      ]
     },
     "execution_count": 10,
     "metadata": {},
     "output_type": "execute_result"
    }
   ],
   "source": [
    "links"
   ]
  },
  {
   "cell_type": "code",
   "execution_count": 11,
   "metadata": {},
   "outputs": [],
   "source": [
    "import json\n",
    "\n",
    "with open('foodpanda-city.json', 'w') as fopen:\n",
    "    json.dump(links, fopen)"
   ]
  },
  {
   "cell_type": "code",
   "execution_count": null,
   "metadata": {},
   "outputs": [],
   "source": []
  }
 ],
 "metadata": {
  "kernelspec": {
   "display_name": "Python 3",
   "language": "python",
   "name": "python3"
  },
  "language_info": {
   "codemirror_mode": {
    "name": "ipython",
    "version": 3
   },
   "file_extension": ".py",
   "mimetype": "text/x-python",
   "name": "python",
   "nbconvert_exporter": "python",
   "pygments_lexer": "ipython3",
   "version": "3.7.5"
  }
 },
 "nbformat": 4,
 "nbformat_minor": 2
}
