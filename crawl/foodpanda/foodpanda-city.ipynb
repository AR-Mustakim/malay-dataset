{
 "cells": [
  {
   "cell_type": "code",
   "execution_count": 7,
   "metadata": {},
   "outputs": [],
   "source": [
    "from bs4 import BeautifulSoup\n",
    "from fake_useragent import UserAgent\n",
    "import requests\n",
    "\n",
    "ua = UserAgent()"
   ]
  },
  {
   "cell_type": "code",
   "execution_count": 14,
   "metadata": {},
   "outputs": [],
   "source": [
    "headers = {'User-Agent': ua.chrome}\n",
    "headers = {\"User-Agent\": \"Mozilla/5.0 (Macintosh; Intel Mac OS X 10.14; rv:66.0) Gecko/20100101 Firefox/66.0\", \n",
    "           \"Accept\": \"text/html,application/xhtml+xml,application/xml;q=0.9,*/*;q=0.8\", \n",
    "           \"Accept-Language\": \"en-US,en;q=0.5\", \n",
    "           \"Accept-Encoding\": \"gzip, deflate\", \"DNT\": \"1\", \"Connection\": \"close\", \"Upgrade-Insecure-Requests\": \"1\"}\n",
    "cookies = {'JSESSIONID': 'fbadab78eef79d2d'}"
   ]
  },
  {
   "cell_type": "code",
   "execution_count": 15,
   "metadata": {},
   "outputs": [],
   "source": [
    "response = requests.get('https://www.foodpanda.my', headers = headers, cookies = cookies, timeout = 60)"
   ]
  },
  {
   "cell_type": "code",
   "execution_count": 17,
   "metadata": {},
   "outputs": [],
   "source": [
    "soup = BeautifulSoup(response.content, 'html.parser')"
   ]
  },
  {
   "cell_type": "code",
   "execution_count": 25,
   "metadata": {},
   "outputs": [
    {
     "data": {
      "text/plain": [
       "<a class=\"city-tile\" data-gtm-cta=\"findRestaurant_kuala-lumpur\" href=\"/city/kuala-lumpur\">\n",
       "<figure>\n",
       "<picture><div class=\"city-picture b-lazy\" data-src=\"https://asia-public.foodpanda.com/marketing/production/my/images/nl/city-images/Kuala-Lumpur1.jpg?v=1459522618\"></div></picture>\n",
       "<figcaption class=\"city-info\">\n",
       "<span class=\"city-name\">\n",
       "                    Kuala Lumpur\n",
       "                </span>\n",
       "<span class=\"city-letter\">K</span>\n",
       "<span class=\"city-cta button city__called-action js-ripple\">\n",
       "<svg class=\"svg-stroke-container\" height=\"18\" viewbox=\"0 0 20 18\" width=\"20\" xmlns=\"http://www.w3.org/2000/svg\">\n",
       "<g fill=\"none\" fill-rule=\"evenodd\" stroke=\"#FFFFFF\" stroke-linecap=\"round\" stroke-width=\"2\" transform=\"translate(1 1)\">\n",
       "<path d=\"M0,8 L17.5,8\"></path>\n",
       "<polyline points=\"4.338 13.628 15.628 13.628 15.628 2.338\" stroke-linejoin=\"round\" transform=\"rotate(-45 9.983 7.983)\"></polyline>\n",
       "</g>\n",
       "</svg>\n",
       "</span>\n",
       "</figcaption>\n",
       "</figure>\n",
       "</a>"
      ]
     },
     "execution_count": 25,
     "metadata": {},
     "output_type": "execute_result"
    }
   ],
   "source": [
    "cities = soup.find_all(\"a\", class_=\"city-tile\")\n",
    "cities[0]"
   ]
  },
  {
   "cell_type": "code",
   "execution_count": 38,
   "metadata": {},
   "outputs": [],
   "source": [
    "import re\n",
    "\n",
    "def cleaning(string):\n",
    "    string = re.sub('[^A-Za-z\\-0-9() ]+', ' ', string)\n",
    "    string = re.sub(r'[ ]+', ' ', string).strip()\n",
    "    return string"
   ]
  },
  {
   "cell_type": "code",
   "execution_count": 44,
   "metadata": {},
   "outputs": [
    {
     "data": {
      "text/plain": [
       "'Kuala Lumpur'"
      ]
     },
     "execution_count": 44,
     "metadata": {},
     "output_type": "execute_result"
    }
   ],
   "source": [
    "cleaning(cities[0].find_all(class_='city-name')[0].contents[0])"
   ]
  },
  {
   "cell_type": "code",
   "execution_count": 45,
   "metadata": {},
   "outputs": [],
   "source": [
    "links = {}\n",
    "for c in cities:\n",
    "    city = cleaning(c.find_all(class_='city-name')[0].contents[0])\n",
    "    links[city] = c.get('href')"
   ]
  },
  {
   "cell_type": "code",
   "execution_count": 46,
   "metadata": {},
   "outputs": [
    {
     "data": {
      "text/plain": [
       "{'Kuala Lumpur': '/city/kuala-lumpur',\n",
       " 'Penang': '/city/bayan-baru',\n",
       " 'Petaling Jaya': '/city/petaling-jaya',\n",
       " 'Subang': '/city/puchong',\n",
       " 'Shah Alam': '/city/shah-alam',\n",
       " 'Cyberjaya': '/city/cyberjaya',\n",
       " 'Johor Bahru': '/city/johor-bahru',\n",
       " 'Melaka': '/city/melaka',\n",
       " 'Kuching': '/city/kuching',\n",
       " 'Miri': '/city/miri',\n",
       " 'Kuantan': '/city/kuantan',\n",
       " 'Bangi': '/city/bangi',\n",
       " 'Ipoh': '/city/ipoh',\n",
       " 'Terengganu': '/city/terengganu',\n",
       " 'Kajang': '/city/kajang',\n",
       " 'Kelantan': '/city/kelantan',\n",
       " 'Putrajaya': '/city/putrajaya',\n",
       " 'Kota-Kinabalu': '/city/kota-kinabalu',\n",
       " 'Klang': '/city/klang',\n",
       " 'Negeri Sembilan': '/city/negeri-sembilan',\n",
       " 'Sungai Petani': '/city/sungai-petani',\n",
       " 'Alor Setar': '/city/alor-setar',\n",
       " 'Kulim': '/city/kulim',\n",
       " 'Rawang': '/city/rawang',\n",
       " 'Taiping': '/city/taiping',\n",
       " 'Sitiawan': '/city/sitiawan',\n",
       " 'Kluang': '/city/kluang',\n",
       " 'Kulai': '/city/kulai',\n",
       " 'Sibu': '/city/sibu',\n",
       " 'Sepang': '/city/sepang',\n",
       " 'Kangar': '/city/kangar',\n",
       " 'Temerloh': '/city/temerloh',\n",
       " 'Bintulu': '/city/bintulu',\n",
       " 'Petra Jaya': '/city/petra-jaya',\n",
       " 'Sandakan': '/city/sandakan',\n",
       " 'Pontian': '/city/pontian',\n",
       " 'Segamat': '/city/segamat',\n",
       " 'Nibong Tebal': '/city/nibong-tebal',\n",
       " 'Kampar': '/city/kampar',\n",
       " 'Ulu Tiram': '/city/ulu-tiram'}"
      ]
     },
     "execution_count": 46,
     "metadata": {},
     "output_type": "execute_result"
    }
   ],
   "source": [
    "links"
   ]
  },
  {
   "cell_type": "code",
   "execution_count": 47,
   "metadata": {},
   "outputs": [],
   "source": [
    "import json\n",
    "\n",
    "with open('foodpanda-city.json', 'w') as fopen:\n",
    "    json.dump(links, fopen)"
   ]
  },
  {
   "cell_type": "code",
   "execution_count": null,
   "metadata": {},
   "outputs": [],
   "source": []
  }
 ],
 "metadata": {
  "kernelspec": {
   "display_name": "Python 3",
   "language": "python",
   "name": "python3"
  },
  "language_info": {
   "codemirror_mode": {
    "name": "ipython",
    "version": 3
   },
   "file_extension": ".py",
   "mimetype": "text/x-python",
   "name": "python",
   "nbconvert_exporter": "python",
   "pygments_lexer": "ipython3",
   "version": "3.6.8"
  }
 },
 "nbformat": 4,
 "nbformat_minor": 2
}
