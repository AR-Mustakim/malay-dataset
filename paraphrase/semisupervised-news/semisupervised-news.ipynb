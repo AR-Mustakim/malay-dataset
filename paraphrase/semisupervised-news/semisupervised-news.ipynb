{
 "cells": [
  {
   "cell_type": "code",
   "execution_count": 1,
   "metadata": {},
   "outputs": [],
   "source": [
    "import os\n",
    "\n",
    "os.environ['CUDA_VISIBLE_DEVICES'] = '1'"
   ]
  },
  {
   "cell_type": "code",
   "execution_count": 2,
   "metadata": {},
   "outputs": [],
   "source": [
    "import os\n",
    "import cleaning\n",
    "import numpy as np"
   ]
  },
  {
   "cell_type": "code",
   "execution_count": 3,
   "metadata": {},
   "outputs": [],
   "source": [
    "import malaya"
   ]
  },
  {
   "cell_type": "code",
   "execution_count": 4,
   "metadata": {},
   "outputs": [
    {
     "data": {
      "text/plain": [
       "['../pure-text/dumping-instagram.txt',\n",
       " '../pure-text/dumping-parliament.txt',\n",
       " '../pure-text/dumping-twitter.txt',\n",
       " '../pure-text/dumping-iium.txt',\n",
       " '../pure-text/dumping-wiki.txt',\n",
       " '../pure-text/dumping-news.txt',\n",
       " '../pure-text/dumping-watpadd.txt',\n",
       " '../pure-text/dumping-pdf.txt',\n",
       " '../pure-text/dumping-common-crawl.txt']"
      ]
     },
     "execution_count": 4,
     "metadata": {},
     "output_type": "execute_result"
    }
   ],
   "source": [
    "from glob import glob\n",
    "\n",
    "files = glob('../pure-text/dumping-*.txt')\n",
    "files"
   ]
  },
  {
   "cell_type": "code",
   "execution_count": 5,
   "metadata": {
    "scrolled": true
   },
   "outputs": [
    {
     "data": {
      "text/plain": [
       "['Lawatan Putera Mahkota Arab Saudi bincang pelaburan, ekonomi',\n",
       " 'KUALA LUMPUR: Lawatan Putera Mahkota Arab Saudi, Mohammed bin Salman ke Malaysia pada Ahad ini terarah kepada pertemuan bagi membincangkan isu ekonomi dan pelaburan antara kedua-dua negara.',\n",
       " 'Menteri Luar, Datuk Saifuddin Abdullah, berkata tujuan lawatan kerabat diraja Arab Saudi itu akan diperjelaskan oleh Kementerian Hal Ehwal Ekonomi.',\n",
       " '\"Saya rasa elok perkara itu (lawatan Putera Mahkota Arab Saudi) dijelaskan sendiri oleh (Menteri Hal Ehwal Ekonomi) Datuk Seri Mohamed Azmin (Ali).',\n",
       " '\"Selain saya (keluarkan kenyataan mengenai lawatan itu), kamu (pemberita) juga boleh ajukan soalan kepada Datuk Seri Mohamed Azmin.',\n",
       " '\"Ia banyak berkisar ekonomi dan perniagaan,\" katanya kepada pemberita selepas hadir di majlis meja bulat bersama belia di Institut Diplomasi dan Hubungan Luar Negeri, di sini, hari ini.',\n",
       " 'Lawatan Putera Mahkota Arab Saudi ke Malaysia akan berlangsung selama dua hari berakhir Isnin ini.',\n",
       " '',\n",
       " 'Isu halal dominasi lawatan Mujahid ke Jordan, Turki dan Bosnia',\n",
       " 'KUALA LUMPUR - Menteri di Jabatan Perdana Menteri, Datuk Seri Dr Mujahid Yusof Rawa hari ini mengakhiri lawatan kerja lapan hari ke Jordan, Turki dan Bosnia Herzegovina, lawatan yang bertujuan mengeratkan lagi hubungan dua hala dengan ketiga-tiga negara berkenaan.']"
      ]
     },
     "execution_count": 5,
     "metadata": {},
     "output_type": "execute_result"
    }
   ],
   "source": [
    "with open('../pure-text/dumping-news.txt') as fopen:\n",
    "    data = fopen.read().split('\\n')\n",
    "    \n",
    "data[:10]"
   ]
  },
  {
   "cell_type": "code",
   "execution_count": 6,
   "metadata": {},
   "outputs": [],
   "source": [
    "results, result = [], []\n",
    "for i in data:\n",
    "    if not len(i) and len(result):\n",
    "        results.append(' '.join(result))\n",
    "        result = []\n",
    "    else:\n",
    "        result.append(i)"
   ]
  },
  {
   "cell_type": "code",
   "execution_count": 7,
   "metadata": {},
   "outputs": [
    {
     "name": "stderr",
     "output_type": "stream",
     "text": [
      "100%|██████████| 105469/105469 [01:38<00:00, 1073.27it/s]\n"
     ]
    }
   ],
   "source": [
    "from tqdm import tqdm\n",
    "\n",
    "selected = []\n",
    "for r in tqdm(results):\n",
    "    if r[:30].isupper():\n",
    "        continue\n",
    "    if len(r) < 200:\n",
    "        continue\n",
    "    if 'ISBN' in r or 'cipta terpelihara' in r or 'rights reserved' in r:\n",
    "        continue\n",
    "    selected.extend(malaya.text.function.split_into_sentences(r, minimum_length = 20))"
   ]
  },
  {
   "cell_type": "code",
   "execution_count": 8,
   "metadata": {},
   "outputs": [
    {
     "data": {
      "text/plain": [
       "['Lawatan Putera Mahkota Arab Saudi bincang pelaburan, ekonomi KUALA LUMPUR: Lawatan Putera Mahkota Arab Saudi, Mohammed bin Salman ke Malaysia pada Ahad ini terarah kepada pertemuan bagi membincangkan isu ekonomi dan pelaburan antara kedua-dua negara.',\n",
       " 'Menteri Luar, Datuk Saifuddin Abdullah, berkata tujuan lawatan kerabat diraja Arab Saudi itu akan diperjelaskan oleh Kementerian Hal Ehwal Ekonomi.',\n",
       " '\"Saya rasa elok perkara itu (lawatan Putera Mahkota Arab Saudi) dijelaskan sendiri oleh (Menteri Hal Ehwal Ekonomi) Datuk Seri Mohamed Azmin (Ali).',\n",
       " '\"Selain saya (keluarkan kenyataan mengenai lawatan itu), kamu (pemberita) juga boleh ajukan soalan kepada Datuk Seri Mohamed Azmin.',\n",
       " '\"Ia banyak berkisar ekonomi dan perniagaan,\" katanya kepada pemberita selepas hadir di majlis meja bulat bersama belia di Institut Diplomasi dan Hubungan Luar Negeri, di sini, hari ini.',\n",
       " 'Lawatan Putera Mahkota Arab Saudi ke Malaysia akan berlangsung selama dua hari berakhir Isnin ini.',\n",
       " 'Isu halal dominasi lawatan Mujahid ke Jordan, Turki dan Bosnia KUALA LUMPUR - Menteri di Jabatan Perdana Menteri, Datuk Seri Dr Mujahid Yusof Rawa hari ini mengakhiri lawatan kerja lapan hari ke Jordan, Turki dan Bosnia Herzegovina, lawatan yang bertujuan mengeratkan lagi hubungan dua hala dengan ketiga-tiga negara berkenaan.',\n",
       " 'Pejabat Menteri di Jabatan Perdana Menteri dalam satu kenyataan hari ini berkata, dalam lawatan bermula 12 April lalu itu, Mujahid turut bertukar-tukar pandangan terutamanya tentang isu halal dengan rakan sejawatan di ketiga-tiga negara tersebut.',\n",
       " \"Ketika lawatan dua hari di Jordan, beliau mengadakan kunjungan hormat ke atas Dr Abdel Naser Mousa Abul Bassal, Menteri Waqaf, Hal Ehwal Islam dan Tempat Suci di Jordan dan kedua-duanya bertukar-tukar pandangan mengenai gagasan yang dibawa negara masing-masing iaitu 'Rahmatan Lil A'lamin' serta 'Amman Message'.\",\n",
       " '\"Selain itu, menteri turut mengadakan sesi Town Hall dan menyampaikan syarahan umum bertajuk \\'Al-Manhaj (Pendekatan) Islam di Malaysia\\' di Universiti Mu\\'tah,\" menurut kenyataan itu.',\n",
       " 'Di Turki pula, Mujahid mengunjungi Kementerian Perdagangan Turki dan mengadakan pertemuan bersama Timbalan Menteri Perdagangan dan Pengarah Agensi Halal Turki (HAK).',\n",
       " 'Sepanjang pertemuan tersebut, pelbagai isu berkaitan halal dibincangkan terutamanya bagaimana kerjasama berkaitan industri halal dapat dijayakan, khususnya melibatkan negara Islam.',\n",
       " 'Ketika di Turki, Mujahid turut mengadakan kunjungan hormat ke Jabatan Hal Ehwal Islam - sebuah agensi yang menguruskan hal ehwal Islam yang diletakkan di bawah pejabat presiden Turki.',\n",
       " 'Pertemuan itu diadakan bagi bertukar-tukar pandangan berkaitan pengurusan hal ehwal Islam di kedua-dua buah negara.',\n",
       " 'Dalam lawatan dua hari di Turki, menteri turut melawat Standards And Metrology Institute For Islamic Countries (SMIIC) di Pusat Dagangan Dunia, Istanbul, sebuah institut di bawah Pertubuhan Kerjasama Islam (OIC) yang bertanggungjawab menyelaras serta mempromosikan sijil halal di seluruh negara anggota OIC.',\n",
       " '\"Untuk makluman, Malaysia merupakan anggota lembaga SMIIC.',\n",
       " 'Kehadiran menteri disambut oleh Setiausaha Agung SMIIC, Ihsan Ovut.',\n",
       " 'Memandangkan Malaysia menerajui standard sijil halal dunia, pelbagai perkara dibincangkan dan perkongsian diadakan antara pihak SMIIC dan Menteri terutamanya tentang teknologi dan sijil halal Malaysia di negara-negara OIC,\" jelas kenyataan itu.',\n",
       " 'Mujahid dan anggota delegasi kemudiannya mengadakan lawatan ke Bosnia Herzegovina bagi memenuhi jemputan ke acara Forum Perniagaan Sarajevo (SBF) 2019, di mana Mujahid diberi penghormatan menjadi anggota panel bagi sesi pertama bersama-sama Naib Presiden Turki Fuar Oktay, Menteri Luar Negeri Bosnia Herzegovina Igor Crnadok, Menteri Buruh dan Kebajikan Sosial Montenegro, Kemal Purisic, Menteri dari Maghribi Lah en Daoudi, dan bersama Presiden Dewan Kesatuan dan Bursa Komoditi Turki Mustafa Rifal Hisarciklioglu.',\n",
       " \"Beliau juga diberi penghormatan untuk menyampaikan syarahan umum di Universiti Sarajevo dan beliau bercakap mengenai 'Islam as Deen Rahmatan Lil Alamin via Maqasid Syariah: The Malaysian Model'.\",\n",
       " '\"Dengan lawatan kerja ini, pelbagai perkara dapat dikongsi antara Malaysia dan negara yang dilawati.',\n",
       " 'Malah, diharapkan hubungan erat Malaysia dan Bosnia akan membantu rakyat di negara ini meneroka pasaran di rantau Eropah Tenggara,\" jelas kenyataan itu.',\n",
       " 'Malaysia-Colombia setuju tingkat hubungan dua hala - Anifah MENTERI Luar Datuk Seri Anifah Aman.',\n",
       " '- Foto Asyraf Hamzah KUALA LUMPUR: Malaysia dan Colombia bersetuju meningkatkan hubungan dua hala dan memperluaskan kerjasama dalam pelbagai bidang termasuk perdagangan dan pelaburan, pertanian, pendidikan dan pelancongan antara kedua-dua negara.',\n",
       " 'Wisma Putra dalam satu kenyataan hari ini berkata persetujuan itu dicapai susulan lawatan rasmi tiga hari Menteri Luar Datuk Seri Anifah Aman ke Bogota, Colombia bermula Isnin.',\n",
       " 'Anifah turut melakukan kunjungan hormat ke atas rakan sejawatnya Maria Angela Holguin Cuellar pada Selasa.',\n",
       " '\"Kedua-dua menteri bersetuju perlunya penglibatan yang lebih besar daripada sektor swasta untuk menerokai peluang perniagaan di kedua-dua negara.',\n",
       " 'Rentetan itu, Malaysia sedang mengkaji semula keperluan visa yang dikenakan ke atas warga Colombia untuk memudahkan aktiviti pelancongan dan perniagaan yang dijalankan oleh syarikat-syarikat Colombia di Malaysia,\" menurut kenyataan itu.',\n",
       " 'Menyifatkan Colombia sebagai rakan dagang yang penting di Amerika Latin, Anifah turut bersetuju dengan rakan sejawatnya itu mengenai keperluan penerokaan bidang kerjasama baharu yang lebih bermanfaat bagi kedua-dua negara, lebih-lebih lagi Colombia merupakan anggota penting Pertubuhan Pacific Alliance (blok perdagangan yang terdiri daripada Chile, Colombia, Mexico dan Peru).',\n",
       " '\"Kedua-dua menteri bersetuju perlunya pemba yang lebih besar daripada sektor swasta untuk menerokai peluang perniagaan di kedua-dua negara.',\n",
       " 'Selain itu, kedua-dua menteri mengambil peluang membincangkan pelbagai isu antarabangsa dan serantau yang berkepentingan kepada kedua-dua negara, menurut kenyataan itu.',\n",
       " 'Mereka juga bersetuju supaya lebih banyak pertukaran lawatan di peringkat tertinggi dapat dilaksanakan di antara Malaysia dan Colombia.',\n",
       " 'Colombia kini menawarkan kursus Bahasa Sepanyol untuk pegawai Malaysia manakala Malaysia pula menawarkan kursus dalam Program Kerjasama Teknikal Malaysia dan latihan di Institut Diplomasi dan Hubungan Luar Negeri untuk pegawai serta diplomat Colombia.',\n",
       " 'Semasa pertemuan itu, Anifah turut menyampaikan penghargaan negara atas sokongan Colombia terhadap pemilihan Malaysia selaku anggota tidak tetap Majlis Keselamatan Pertubuhan Bangsa-bangsa Bersatu (UNSC) bagi penggal 2015-2016.',\n",
       " 'Anifah juga turut memaklumkan kepada rakan sejawatnya perkembangan terkini mengenai peranan Malaysia sebagai Pengerusi ASEAN, khususnya hal ehwal berkaitan Mesyuarat Menteri-Menteri Luar ASEAN dan Pasca Persidangan Menteri-menteri Luar yang telah berlangsung pada 4-6 Ogos lepas, di Kuala Lumpur.',\n",
       " 'Semasa pertemuan itu, Holguin menegaskan pendirian Colombia bahawa Malaysia merupakan rakan yang amat penting di rantau Asia Tenggara, apatah lagi dengan peranan Malaysia selaku pengerusi ASEAN pada tahun ini.',\n",
       " 'Holguin turut menyampaikan hasrat negaranya untuk menjalin kerjasama kerja yang lebih rapat dengan Malaysia, terutamanya dalam industri minyak sawit.',\n",
       " 'Beliau berharap Colombia dapat mengikut model pembangunan minyak sawit Malaysia yang telah menunjukkan kejayaan melalui pertukaran pengetahuan dan kepakaran di antara kedua-dua negara.',\n",
       " 'Menteri Pertanian Colombia, Aurelio Iragorri Valencia yang turut hadir semasa pertemuan itu berpendapat Colombia perlu lebih berdaya saing dalam industri minyak sawit, yang pada masa ini masih rendah produktivitinya walaupun negara itu mempunyai lebih 500 juta hektar kawasan kelapa sawit.',\n",
       " 'Iragorri turut menyatakan hasrat melaksanakan misi teknikal ke Malaysia pada 2016 bagi mendalami kepelbagaian aktiviti hiliran industri berkenaan.',\n",
       " 'Nasib projek HSR diketahui bulan ini?',\n",
       " ': Perbincangan antara Malaysia dan Singapura dalam usaha memuktamadkan projek Kereta Api Berkelajuan Tinggi (HSR) Kuala Lumpur-Singapura bakal berlangsung bulan ini.',\n",
       " 'Menteri Hal Ehwal Ekonomi, Datuk Seri Mohamed Azmin Ali berkata beliau telah mengemukakan kepada kerajaan Singapura permohonan rasmi bagi mengadakan perbincangan\".',\n",
       " 'Tarikh perbincangan ditetapkan Singapura tetapi saya sudah balas surat untuk sahkan tarikh dan mesyuarat rasmi diadakan pada bulan ini,\" katanya kepada media di lobi Parlimen di sini hari ini.',\n",
       " 'Mohamed Azmin bagaimanapun tidak memberi sebarang indikasi sama ada akan terdapat beberapa siri perbincangan atau ia akan terus dimuktamadkan pasca mesyuarat itu.',\n",
       " 'Beliau pada masa sama menafikan lawatannya ke Singapura minggu lalu adalah untuk berbincang dengan kerajaan republik berkenaan mengenai projek HSR\".',\n",
       " 'Saya ke Singapura melawat Menteri Dalam Negeri Tan Sri Muhyiddin Yassin yang sedang mendapatkan rawatan susulan selepas pembedahan di hospital di sana\".',\n",
       " 'Saya ambil peluang bertemu pegawai kanan rasmi dalam projek HSR dan ia berlangsung dengan positif,\" katanya.',\n",
       " 'Singapura sebelum ini menyambut baik cadangan Malaysia memulakan perbincangan projek HSR selepas menerima surat daripada Mohamed Azmin bertarikh 23 Julai lalu.',\n",
       " 'Surat itu antara lain menyatakan, kerajaan Malaysia sedang mengkaji butiran projek HSR dan akan memulakan perbincangan dengan Singapura tidak lama lagi.',\n",
       " 'Kerajaan Singapura menggunakan saluran diplomatik sejak 1 Jun lalu bagi memohon supaya kerajaan Malaysia memberi jawapan bertulis menjelaskan kedudukannya mengenai projek HSR.',\n",
       " 'Singapura ingin mengetahui status dan pendirian Malaysia dalam isu berkenaan.',\n",
       " 'Perdana Menteri Tun Dr Mahathir Mohamad sebelum ini dilaporkan berkata, projek itu mungkin ditangguhkan kerana negara tidak mempunyai dana untuk membayar pampasan yang besar kepada Singapura.',\n",
       " 'Apa kata orang muda tentang hak baru mereka untuk mengundi?',\n",
       " 'Looks like Javascript is disabled in your browser.',\n",
       " 'Malaysiakini requires Javascript to run normally.',\n",
       " 'Click here to enable Javascript in your browser.',\n",
       " 'Realisasi hak asasi tanpa korban agama, budaya Mangsa perang patut mendapat perlindungan dalam Sempena Hari Hak Asasi Manusia hari ini; Sejak 1950, Perhimpunan Agung Pertubuhan Bangsa-Bangsa Bersatu (PBB) menetapkan 10 Disember (hari ini) sebagai Hari Hak Asasi Manusia, demi meningkatkan perhatian negara anggotanya terhadap Perisytiharan Sejagat Hak Asasi Manusia 1948 (UDHR 1948) sebagai standard umum keberhasilan pencapaian dan komitmen hak asasi manusia untuk semua bangsa.',\n",
       " \"Pada tahun ini, tema 'Hak Asasi Manusia 365' dipilih dengan iltizam memperkukuh gagasan bahawa 'setiap hari adalah Hari Hak Asasi Manusia'.\",\n",
       " 'Tema ini berhasrat meraikan proposisi asas UDHR 1948 bahawa setiap manusia di seluruh pelusuk dunia, pada setiap saat berhak atas pelbagai macam hak asasi manusia, bahawa hak asasi manusia adalah milik bersama setiap individu dan mengikat setiap manusia bersama sebagai masyarakat sejagat dengan cita-cita dan nilai bersama.',\n",
       " 'Di Malaysia khususnya, pelbagai pertubuhan masyarakat sivil (CSO) dan pertubuhan bukan kerajaan (NGO) akan meraikan hari itu sebagai memperbaharui komitmen mereka untuk melaksanakan citra hak asasi manusia yang dianggap sejagat.',\n",
       " 'Keghairahan mereka sepanjang dua dekad lalu jelas terzahir dengan munculnya pelbagai gerakan hak asasi manusia sama ada bersifat jalanan atau di forum antarabangsa yang menobatkan tokoh hak asasi manusia mereka sanjungi dan diharapkan dapat memperbetulkan kompas hak asasi manusia di Malaysia.',\n",
       " 'Gerakan hak asasi manusia Justeru, timbul pelbagai gerakan mutakhir ini yang bergerak atas idea dan semangat berkenaan seperti Joint Action Group for Gender Equality (JAG) (yang ditubuhkan seawal tahun 1985), Interfaith Commission (IFC), Gabungan NGO Malaysia di dalam Proses UPR (COMANGO), BERSIH dan Negaraku.',\n",
       " \"Hasrat dan ketaksuban mereka hanya satu, iaitu supaya Malaysia lebih mematuhi prinsip sejagat hak asasi manusia yang pada hakikatnya mempunyai sejarah dan acuan liberal sekular Barat, berhujahkan bahawa mematuhi lebih banyak konvensyen dan instrumen hak asasi manusia antarabangsa adalah 'bukti kepatuhan standard' hak asasi manusia sesebuah negara.\",\n",
       " 'Ini semua dilakukan dengan sokongan dan lobi berterusan NGO antarabangsa seperti Human Rights Watch, Amnesty International, Forum ASIA, International Gay and Lesbian Human Rights Commission (IGLHRC), International Commission of Jurists dan pelbagai NGO lain.',\n",
       " 'Sama ada gerakan itu memahami realiti sejarah, agama dan budaya Malaysia tidak menjadi ukuran penting.',\n",
       " 'Sebaliknya, bagi NGO tempatan yang berkompromi dengan mereka, NGO antarabangsa itu penetap standard terbaik untuk Malaysia.',\n",
       " 'Tetapi benarkah wujud hanya satu acuan dan standard pencapaian hak asasi manusia yang dijunjung NGO itu?',\n",
       " 'Persoalan ini timbul kembali dengan rancak khususnya pada majlis bersama CSO dan NGO mengenai Pelan Tindakan Hak Asasi Manusia Kebangsaan (NHRAP) yang dianjurkan Bahagian Hal Ehwal Undang-undang, Jabatan Perdana Menteri di Bangi, 13 November lalu.',\n",
       " 'Pada 2012, kerajaan memulakan proses perbincangan dan perbahasan ke arah mewujudkan NHRAP dengan Datuk Seri Mohamed Nazri Aziz, Menteri di Jabatan Perdana Menteri (JPM) ketika itu, ketika merasmikan Seminar on the Development of National Human Rights Plan of Action for Malaysia juga dianjurkan Bahagian Hal Ehwal Undang-Undang, JPM di Institut Diplomasi dan Hubungan Luar Negeri (IDFR) pada 24 dan 25 Mei 2012, menggariskan empat inti pati penting dalam merangka NHRAP, iaitu: 1.',\n",
       " 'Pemerkasaan hak asasi manusia menuntut komitmen serius daripada semua pihak berkenaa;.',\n",
       " 'Mengambil kira komitmen dibuat Kerajaan Malaysia pada Sesi Semakan Berkala Sejaga; 3.',\n",
       " 'Mengenal pasti dan mengutamakan insiatif utama sedia wujud pihak kerajaan;.',\n",
       " 'Semua hasil NHRAP hendaklah mematuhi Artikel 3 Perlembagaan Persekutuan yang menetapkan Islam adalah agama bagi Persekutuan. Perkara asas ini ditegaskan sekali lagi baru-baru ini oleh Menteri di JPM, Nancy Shukri, yang mahukan fokus NHRAP pada hak sivil dan berpolitik, hak ekonomi, sosial dan kebudayaan, golongan rentan, hak Orang Asli, Bumiputera Sabah dan Sarawak serta kewajipan antarabangsa - semuanya dipersiapkan menurut acuan dan realiti Malaysia.',\n",
       " 'Kempen yang dijalankan Human Right Fokus lebih spesifik itu akan membantu negara menangani pelbagai isu hak asasi terutama memba kes fahaman songsang seperti liberalisme dan sekularisme yang semakin menular di negara ini.',\n",
       " 'Penegasan perkara di atas adalah mesej jelas bahawa Malaysia tidak perlu terikat secara mutlak dengan semua nilai di dalam UDHR 1948.',\n",
       " 'Sikap konsisten kerajaan ini sebenarnya tidak bercanggah dengan kedudukan sedia ada, berdasarkan beberapa kes utama yang pernah diputuskan mahkamah tertinggi iaitu Merdeka University Berhad dan Kerajaan Malaysia pada tahun 1981.',\n",
       " 'Dalam kes itu, di Mahkamah Tinggi, antara hujah peguam Michael Biloff, bahawa penolakan petisyen plaintif bercanggah peruntukan Perkara 26 UDHR, ditolak Hakim Eusoffe Abdoolcader yang menegaskan \"It (UDHR) is merely a statement of principles devoid of any obligatory character and is not part of our municipal law\".',\n",
       " 'Dalam kes Mohamed Ezam Mohd Noor dan Ketua Polis Negara pada tahun 2002, Majistret Siti Norma CJ menjelaskan: \"bahawa memandangkan prinsip-prinsip UDHR 1948 adalah bersifat \\'Pengisytiharan\\' semata-mata, maka prinsip itu tidak mempunyai kuasa undang-undang atau mengikat negara anggota\".',\n",
       " 'Dalam kes terkini, penghakiman Hakim Mohamad Ariff dalam kes antara SIS Forum dan Datuk Seri Syed Hamid Syed Jaafar Albar pada tahun 2010, mengulangi penegasan institusi kehakiman di negara ini apabila beliau menyatakan: \"......in relation to the applicability of international norms.......',\n",
       " 'the position adopted by the Malaysian courts has been not to directly accept norms of international law unless they are incorporated as part of our municipal law: See Merdeka University Berhad dan Kerajaan Malaysia pada 1981 sebagai contoh.',\n",
       " 'I do not believe this position has changed even with the passing of section 4(4) of the Human Rights Commission Act 1999............\" Perbaharui iltizam Malaysia Maka 10 Disember ini sepatutnya bukan semata-mata mengulangi prinsip hak asasi manusia berkerangka fahaman liberal sekular Barat, tetapi mesti menjadi titik tolak memperbaharui iltizam Malaysia dalam mengikuti prinsip sejagat hak asasi manusia selagi tidak bercanggah dengan kandungan Perlembagaan Persekutuan. Usaha strategik dan artikulatif yang dikemudi pihak kerajaan perlu diperkukuh berdasarkan Perlembagaan Persekutuan, Rukun Negara dan latarbelakang sejarah, budaya dan agama.',\n",
       " 'Malah Perkara 5 Perisytiharan dan Pelan Tindakan Vienna 1993 (VDPA 1993) tidak mengetepikan terus hal-hal berkenaan.',\n",
       " \"Rujukan terhadap Perkara 3(1) Perlembagaan Persekutuan adalah cerminan sumbangan Islam terhadap pemeliharaan hak asasi manusia, menurut pendekatan Maqasid al-Syari'ah.\",\n",
       " 'Hak asasi bukanlah hak mutlak manusia kerana manusia bukanlah pemilik ke atas dirinya.',\n",
       " 'Manusia dimiliki oleh Allah SWT maka diharamkan membunuh diri, walaupun nyawanya, duduk di dalam dirinya, dia tidak bebas untuk melakukan aksi yang bercanggah aturan fitrah.',\n",
       " 'Nyawa dan dirinya bukan milik mutlaknya, tetapi milik Allah selaku amanah.',\n",
       " 'Konsep ini ditolak pemikiran Barat yang melihat hak asasi manusia sebagai bersifat anthroposentris, iaitu manusia menjadi ukuran segala-galanya dengan autonomi manusiawi, demokrasi, kebebasan sosial dan ekonomi dikuasai manusia tanpa panduan nilai agama dan budaya.',\n",
       " 'Manusia tak miliki kebebasan mutlak Sebaliknya, Islam meletakkan manusia tidak boleh memiliki kebebasan mutlak, tetapi mesti dipandu syarak.',\n",
       " 'Oleh yang demikian berdasarkan perspektif ini, NHRAP perlu digubal berpandukan pemeliharaan lima hak yang wajib, iaitu agama, nyawa, akal, keturunan, termasuk nama baik, dan harta.',\n",
       " 'Pemba pemegang berkepentingan dalam kalangan pertubuhan masyarakat, termasuk NGO juga perlu dilakukan secara agresif dan menyeluruh serta berterusan menerusi perbincangan berkala demi melahirkan sebuah NHRAP yang tidak tinggal sebagai dokumen idealis semata-mata, tetapi benar-benar lahir dari hasrat hati setiap masyarakat Malaysia yang benar-benar memahami, menghayati dan menyanjung tinggi hak asasi manusia yang murni.',\n",
       " \"Hasrat dan aspirasi tema 'Hak Asasi Manusia 365 akan dapat direalisasikan dengan baik tanpa mengorbankan agama dan budaya atas nama kebebasan mutlak.\",\n",
       " 'Lantas mengingati tarikh 10 Disember setiap tahun akan menjadi lebih bermakna dan menjadi platform merekayasa acuan hak asasi manusia model Malaysia.',\n",
       " \"'Apa salahnya kariah taja imam pergi Makkah' [METROTV] Menjadi individu nombor satu menjaga Jabatan Agama Islam Wilayah Persekutuan (JAWI) satu beban yang besar perlu digalas Mohd Ajib Ismail, 51, bagi memastikan institusi agama di Kuala Lumpur dapat mengembangkan syiar Islam secara menyeluruh.\",\n",
       " 'Isu semasa merangkumi pentadbiran, pengurusan dan penguatkuasaan adalah antara perkara yang perlu diperhalusi dengan baik sesuai dengan status jabatan itu yang selama ini begitu proaktif menyantuni masyarakat Islam dan bukan Islam.',\n",
       " 'Kafe Ahad minggu ini berkongsi iltizam Mohd Ajib yang menjadi Pengarah JAWI berkuat kuasa 20 April lalu seperti yang dikongsikan beliau bersama wartawan YUSMIZAL DOLAH ALING.',\n",
       " 'FOTO Mahzir Mat Isa Apa fokus ustaz sebagai Pengarah JAWI, satu jawatan yang begitu besar tanggungjawab, apatah lagi menjaga hal ehwal Islam?',\n",
       " 'Saya berterima kasih kepada pimpinan Jabatan Kemajuan Islam Malaysia (JAKIM) kerana memilih saya sebagai Pengarah JAWI.',\n",
       " 'Saya akan fokuskan kepada beberapa perkara penting yang pertama adalah pengukuhan atau pemerkasaan daripada sudut pentadbiran.',\n",
       " 'Yang kedua daripada sudut kita ingin menyampaikan perkhidmatan yang lebih berkesan.']"
      ]
     },
     "execution_count": 8,
     "metadata": {},
     "output_type": "execute_result"
    }
   ],
   "source": [
    "selected[:100]"
   ]
  },
  {
   "cell_type": "code",
   "execution_count": 9,
   "metadata": {},
   "outputs": [
    {
     "name": "stdout",
     "output_type": "stream",
     "text": [
      "WARNING:tensorflow:From <ipython-input-9-8ef9d47c3eaf>:6: load (from tensorflow.python.saved_model.loader_impl) is deprecated and will be removed in a future version.\n",
      "Instructions for updating:\n",
      "This function will only be available through the v1 compatibility library as tf.compat.v1.saved_model.loader.load or tf.compat.v1.saved_model.load. There will be a new function for importing SavedModels in Tensorflow 2.0.\n",
      "INFO:tensorflow:Restoring parameters from ../t5/output/1598704247/variables/variables\n"
     ]
    }
   ],
   "source": [
    "import tensorflow_text  \n",
    "import tensorflow as tf\n",
    "\n",
    "tf.compat.v1.reset_default_graph()\n",
    "sess = tf.InteractiveSession()\n",
    "meta_graph_def = tf.compat.v1.saved_model.load(sess, [\"serve\"], '../t5/output/1598704247')\n",
    "signature_def = meta_graph_def.signature_def[\"serving_default\"]\n",
    "pred = lambda x: sess.run(\n",
    "    fetches=signature_def.outputs[\"outputs\"].name, \n",
    "    feed_dict={signature_def.inputs[\"input\"].name: x}\n",
    ")"
   ]
  },
  {
   "cell_type": "code",
   "execution_count": 10,
   "metadata": {},
   "outputs": [
    {
     "name": "stderr",
     "output_type": "stream",
     "text": [
      "  9%|▉         | 7306/82124 [7:17:52<75:52:33,  3.65s/it] IOPub message rate exceeded.\n",
      "The notebook server will temporarily stop sending output\n",
      "to the client in order to avoid crashing it.\n",
      "To change this limit, set the config variable\n",
      "`--NotebookApp.iopub_msg_rate_limit`.\n",
      "\n",
      "Current values:\n",
      "NotebookApp.iopub_msg_rate_limit=1000.0 (msgs/sec)\n",
      "NotebookApp.rate_limit_window=3.0 (secs)\n",
      "\n",
      " 45%|████▌     | 37245/82124 [36:36:02<40:52:21,  3.28s/it] IOPub message rate exceeded.\n",
      "The notebook server will temporarily stop sending output\n",
      "to the client in order to avoid crashing it.\n",
      "To change this limit, set the config variable\n",
      "`--NotebookApp.iopub_msg_rate_limit`.\n",
      "\n",
      "Current values:\n",
      "NotebookApp.iopub_msg_rate_limit=1000.0 (msgs/sec)\n",
      "NotebookApp.rate_limit_window=3.0 (secs)\n",
      "\n",
      " 62%|██████▏   | 51245/82124 [50:22:43<30:21:25,  3.54s/it] \n"
     ]
    },
    {
     "ename": "KeyboardInterrupt",
     "evalue": "",
     "output_type": "error",
     "traceback": [
      "\u001b[0;31m---------------------------------------------------------------------------\u001b[0m",
      "\u001b[0;31mKeyboardInterrupt\u001b[0m                         Traceback (most recent call last)",
      "\u001b[0;32m<ipython-input-10-5f5c9e43f0ae>\u001b[0m in \u001b[0;36m<module>\u001b[0;34m\u001b[0m\n\u001b[1;32m     13\u001b[0m     \u001b[0mbatch\u001b[0m \u001b[0;34m=\u001b[0m \u001b[0mselected\u001b[0m\u001b[0;34m[\u001b[0m\u001b[0mi\u001b[0m\u001b[0;34m:\u001b[0m \u001b[0mi\u001b[0m \u001b[0;34m+\u001b[0m \u001b[0mbatch_size\u001b[0m\u001b[0;34m]\u001b[0m\u001b[0;34m\u001b[0m\u001b[0;34m\u001b[0m\u001b[0m\n\u001b[1;32m     14\u001b[0m     \u001b[0mbatch_x\u001b[0m \u001b[0;34m=\u001b[0m \u001b[0;34m[\u001b[0m\u001b[0;34mf'parafrasa: {s}'\u001b[0m \u001b[0;32mfor\u001b[0m \u001b[0ms\u001b[0m \u001b[0;32min\u001b[0m \u001b[0mbatch\u001b[0m\u001b[0;34m]\u001b[0m\u001b[0;34m\u001b[0m\u001b[0;34m\u001b[0m\u001b[0m\n\u001b[0;32m---> 15\u001b[0;31m     \u001b[0mr\u001b[0m \u001b[0;34m=\u001b[0m \u001b[0mpred\u001b[0m\u001b[0;34m(\u001b[0m\u001b[0mbatch_x\u001b[0m\u001b[0;34m)\u001b[0m\u001b[0;34m\u001b[0m\u001b[0;34m\u001b[0m\u001b[0m\n\u001b[0m\u001b[1;32m     16\u001b[0m \u001b[0;34m\u001b[0m\u001b[0m\n\u001b[1;32m     17\u001b[0m     \u001b[0;32mfor\u001b[0m \u001b[0mk\u001b[0m \u001b[0;32min\u001b[0m \u001b[0mrange\u001b[0m\u001b[0;34m(\u001b[0m\u001b[0mbatch_size\u001b[0m\u001b[0;34m)\u001b[0m\u001b[0;34m:\u001b[0m\u001b[0;34m\u001b[0m\u001b[0;34m\u001b[0m\u001b[0m\n",
      "\u001b[0;32m<ipython-input-9-8ef9d47c3eaf>\u001b[0m in \u001b[0;36m<lambda>\u001b[0;34m(x)\u001b[0m\n\u001b[1;32m      8\u001b[0m pred = lambda x: sess.run(\n\u001b[1;32m      9\u001b[0m     \u001b[0mfetches\u001b[0m\u001b[0;34m=\u001b[0m\u001b[0msignature_def\u001b[0m\u001b[0;34m.\u001b[0m\u001b[0moutputs\u001b[0m\u001b[0;34m[\u001b[0m\u001b[0;34m\"outputs\"\u001b[0m\u001b[0;34m]\u001b[0m\u001b[0;34m.\u001b[0m\u001b[0mname\u001b[0m\u001b[0;34m,\u001b[0m\u001b[0;34m\u001b[0m\u001b[0;34m\u001b[0m\u001b[0m\n\u001b[0;32m---> 10\u001b[0;31m     \u001b[0mfeed_dict\u001b[0m\u001b[0;34m=\u001b[0m\u001b[0;34m{\u001b[0m\u001b[0msignature_def\u001b[0m\u001b[0;34m.\u001b[0m\u001b[0minputs\u001b[0m\u001b[0;34m[\u001b[0m\u001b[0;34m\"input\"\u001b[0m\u001b[0;34m]\u001b[0m\u001b[0;34m.\u001b[0m\u001b[0mname\u001b[0m\u001b[0;34m:\u001b[0m \u001b[0mx\u001b[0m\u001b[0;34m}\u001b[0m\u001b[0;34m\u001b[0m\u001b[0;34m\u001b[0m\u001b[0m\n\u001b[0m\u001b[1;32m     11\u001b[0m )\n",
      "\u001b[0;32m~/.local/lib/python3.6/site-packages/tensorflow_core/python/client/session.py\u001b[0m in \u001b[0;36mrun\u001b[0;34m(self, fetches, feed_dict, options, run_metadata)\u001b[0m\n\u001b[1;32m    954\u001b[0m     \u001b[0;32mtry\u001b[0m\u001b[0;34m:\u001b[0m\u001b[0;34m\u001b[0m\u001b[0;34m\u001b[0m\u001b[0m\n\u001b[1;32m    955\u001b[0m       result = self._run(None, fetches, feed_dict, options_ptr,\n\u001b[0;32m--> 956\u001b[0;31m                          run_metadata_ptr)\n\u001b[0m\u001b[1;32m    957\u001b[0m       \u001b[0;32mif\u001b[0m \u001b[0mrun_metadata\u001b[0m\u001b[0;34m:\u001b[0m\u001b[0;34m\u001b[0m\u001b[0;34m\u001b[0m\u001b[0m\n\u001b[1;32m    958\u001b[0m         \u001b[0mproto_data\u001b[0m \u001b[0;34m=\u001b[0m \u001b[0mtf_session\u001b[0m\u001b[0;34m.\u001b[0m\u001b[0mTF_GetBuffer\u001b[0m\u001b[0;34m(\u001b[0m\u001b[0mrun_metadata_ptr\u001b[0m\u001b[0;34m)\u001b[0m\u001b[0;34m\u001b[0m\u001b[0;34m\u001b[0m\u001b[0m\n",
      "\u001b[0;32m~/.local/lib/python3.6/site-packages/tensorflow_core/python/client/session.py\u001b[0m in \u001b[0;36m_run\u001b[0;34m(self, handle, fetches, feed_dict, options, run_metadata)\u001b[0m\n\u001b[1;32m   1178\u001b[0m     \u001b[0;32mif\u001b[0m \u001b[0mfinal_fetches\u001b[0m \u001b[0;32mor\u001b[0m \u001b[0mfinal_targets\u001b[0m \u001b[0;32mor\u001b[0m \u001b[0;34m(\u001b[0m\u001b[0mhandle\u001b[0m \u001b[0;32mand\u001b[0m \u001b[0mfeed_dict_tensor\u001b[0m\u001b[0;34m)\u001b[0m\u001b[0;34m:\u001b[0m\u001b[0;34m\u001b[0m\u001b[0;34m\u001b[0m\u001b[0m\n\u001b[1;32m   1179\u001b[0m       results = self._do_run(handle, final_targets, final_fetches,\n\u001b[0;32m-> 1180\u001b[0;31m                              feed_dict_tensor, options, run_metadata)\n\u001b[0m\u001b[1;32m   1181\u001b[0m     \u001b[0;32melse\u001b[0m\u001b[0;34m:\u001b[0m\u001b[0;34m\u001b[0m\u001b[0;34m\u001b[0m\u001b[0m\n\u001b[1;32m   1182\u001b[0m       \u001b[0mresults\u001b[0m \u001b[0;34m=\u001b[0m \u001b[0;34m[\u001b[0m\u001b[0;34m]\u001b[0m\u001b[0;34m\u001b[0m\u001b[0;34m\u001b[0m\u001b[0m\n",
      "\u001b[0;32m~/.local/lib/python3.6/site-packages/tensorflow_core/python/client/session.py\u001b[0m in \u001b[0;36m_do_run\u001b[0;34m(self, handle, target_list, fetch_list, feed_dict, options, run_metadata)\u001b[0m\n\u001b[1;32m   1357\u001b[0m     \u001b[0;32mif\u001b[0m \u001b[0mhandle\u001b[0m \u001b[0;32mis\u001b[0m \u001b[0;32mNone\u001b[0m\u001b[0;34m:\u001b[0m\u001b[0;34m\u001b[0m\u001b[0;34m\u001b[0m\u001b[0m\n\u001b[1;32m   1358\u001b[0m       return self._do_call(_run_fn, feeds, fetches, targets, options,\n\u001b[0;32m-> 1359\u001b[0;31m                            run_metadata)\n\u001b[0m\u001b[1;32m   1360\u001b[0m     \u001b[0;32melse\u001b[0m\u001b[0;34m:\u001b[0m\u001b[0;34m\u001b[0m\u001b[0;34m\u001b[0m\u001b[0m\n\u001b[1;32m   1361\u001b[0m       \u001b[0;32mreturn\u001b[0m \u001b[0mself\u001b[0m\u001b[0;34m.\u001b[0m\u001b[0m_do_call\u001b[0m\u001b[0;34m(\u001b[0m\u001b[0m_prun_fn\u001b[0m\u001b[0;34m,\u001b[0m \u001b[0mhandle\u001b[0m\u001b[0;34m,\u001b[0m \u001b[0mfeeds\u001b[0m\u001b[0;34m,\u001b[0m \u001b[0mfetches\u001b[0m\u001b[0;34m)\u001b[0m\u001b[0;34m\u001b[0m\u001b[0;34m\u001b[0m\u001b[0m\n",
      "\u001b[0;32m~/.local/lib/python3.6/site-packages/tensorflow_core/python/client/session.py\u001b[0m in \u001b[0;36m_do_call\u001b[0;34m(self, fn, *args)\u001b[0m\n\u001b[1;32m   1363\u001b[0m   \u001b[0;32mdef\u001b[0m \u001b[0m_do_call\u001b[0m\u001b[0;34m(\u001b[0m\u001b[0mself\u001b[0m\u001b[0;34m,\u001b[0m \u001b[0mfn\u001b[0m\u001b[0;34m,\u001b[0m \u001b[0;34m*\u001b[0m\u001b[0margs\u001b[0m\u001b[0;34m)\u001b[0m\u001b[0;34m:\u001b[0m\u001b[0;34m\u001b[0m\u001b[0;34m\u001b[0m\u001b[0m\n\u001b[1;32m   1364\u001b[0m     \u001b[0;32mtry\u001b[0m\u001b[0;34m:\u001b[0m\u001b[0;34m\u001b[0m\u001b[0;34m\u001b[0m\u001b[0m\n\u001b[0;32m-> 1365\u001b[0;31m       \u001b[0;32mreturn\u001b[0m \u001b[0mfn\u001b[0m\u001b[0;34m(\u001b[0m\u001b[0;34m*\u001b[0m\u001b[0margs\u001b[0m\u001b[0;34m)\u001b[0m\u001b[0;34m\u001b[0m\u001b[0;34m\u001b[0m\u001b[0m\n\u001b[0m\u001b[1;32m   1366\u001b[0m     \u001b[0;32mexcept\u001b[0m \u001b[0merrors\u001b[0m\u001b[0;34m.\u001b[0m\u001b[0mOpError\u001b[0m \u001b[0;32mas\u001b[0m \u001b[0me\u001b[0m\u001b[0;34m:\u001b[0m\u001b[0;34m\u001b[0m\u001b[0;34m\u001b[0m\u001b[0m\n\u001b[1;32m   1367\u001b[0m       \u001b[0mmessage\u001b[0m \u001b[0;34m=\u001b[0m \u001b[0mcompat\u001b[0m\u001b[0;34m.\u001b[0m\u001b[0mas_text\u001b[0m\u001b[0;34m(\u001b[0m\u001b[0me\u001b[0m\u001b[0;34m.\u001b[0m\u001b[0mmessage\u001b[0m\u001b[0;34m)\u001b[0m\u001b[0;34m\u001b[0m\u001b[0;34m\u001b[0m\u001b[0m\n",
      "\u001b[0;32m~/.local/lib/python3.6/site-packages/tensorflow_core/python/client/session.py\u001b[0m in \u001b[0;36m_run_fn\u001b[0;34m(feed_dict, fetch_list, target_list, options, run_metadata)\u001b[0m\n\u001b[1;32m   1348\u001b[0m       \u001b[0mself\u001b[0m\u001b[0;34m.\u001b[0m\u001b[0m_extend_graph\u001b[0m\u001b[0;34m(\u001b[0m\u001b[0;34m)\u001b[0m\u001b[0;34m\u001b[0m\u001b[0;34m\u001b[0m\u001b[0m\n\u001b[1;32m   1349\u001b[0m       return self._call_tf_sessionrun(options, feed_dict, fetch_list,\n\u001b[0;32m-> 1350\u001b[0;31m                                       target_list, run_metadata)\n\u001b[0m\u001b[1;32m   1351\u001b[0m \u001b[0;34m\u001b[0m\u001b[0m\n\u001b[1;32m   1352\u001b[0m     \u001b[0;32mdef\u001b[0m \u001b[0m_prun_fn\u001b[0m\u001b[0;34m(\u001b[0m\u001b[0mhandle\u001b[0m\u001b[0;34m,\u001b[0m \u001b[0mfeed_dict\u001b[0m\u001b[0;34m,\u001b[0m \u001b[0mfetch_list\u001b[0m\u001b[0;34m)\u001b[0m\u001b[0;34m:\u001b[0m\u001b[0;34m\u001b[0m\u001b[0;34m\u001b[0m\u001b[0m\n",
      "\u001b[0;32m~/.local/lib/python3.6/site-packages/tensorflow_core/python/client/session.py\u001b[0m in \u001b[0;36m_call_tf_sessionrun\u001b[0;34m(self, options, feed_dict, fetch_list, target_list, run_metadata)\u001b[0m\n\u001b[1;32m   1441\u001b[0m     return tf_session.TF_SessionRun_wrapper(self._session, options, feed_dict,\n\u001b[1;32m   1442\u001b[0m                                             \u001b[0mfetch_list\u001b[0m\u001b[0;34m,\u001b[0m \u001b[0mtarget_list\u001b[0m\u001b[0;34m,\u001b[0m\u001b[0;34m\u001b[0m\u001b[0;34m\u001b[0m\u001b[0m\n\u001b[0;32m-> 1443\u001b[0;31m                                             run_metadata)\n\u001b[0m\u001b[1;32m   1444\u001b[0m \u001b[0;34m\u001b[0m\u001b[0m\n\u001b[1;32m   1445\u001b[0m   \u001b[0;32mdef\u001b[0m \u001b[0m_call_tf_sessionprun\u001b[0m\u001b[0;34m(\u001b[0m\u001b[0mself\u001b[0m\u001b[0;34m,\u001b[0m \u001b[0mhandle\u001b[0m\u001b[0;34m,\u001b[0m \u001b[0mfeed_dict\u001b[0m\u001b[0;34m,\u001b[0m \u001b[0mfetch_list\u001b[0m\u001b[0;34m)\u001b[0m\u001b[0;34m:\u001b[0m\u001b[0;34m\u001b[0m\u001b[0;34m\u001b[0m\u001b[0m\n",
      "\u001b[0;31mKeyboardInterrupt\u001b[0m: "
     ]
    }
   ],
   "source": [
    "from tqdm import tqdm\n",
    "import re\n",
    "\n",
    "def cleaning(string):\n",
    "    string = re.sub('[^\\'\"A-Za-z\\- ]+', ' ', string)\n",
    "    string = re.sub(r'[ ]+', ' ', string.lower()).strip()\n",
    "    return string\n",
    "\n",
    "batch_size = 20\n",
    "output = []\n",
    "\n",
    "for i in tqdm(range(0, len(selected) // batch_size * batch_size, batch_size)):\n",
    "    batch = selected[i: i + batch_size]\n",
    "    batch_x = [f'parafrasa: {s}' for s in batch]\n",
    "    r = pred(batch_x)\n",
    "    \n",
    "    for k in range(batch_size):\n",
    "        if cleaning(batch[k]) == cleaning(r[k].decode()):\n",
    "            continue\n",
    "        output.append((batch[k], r[k].decode()))"
   ]
  },
  {
   "cell_type": "code",
   "execution_count": 11,
   "metadata": {},
   "outputs": [
    {
     "data": {
      "text/plain": [
       "1009479"
      ]
     },
     "execution_count": 11,
     "metadata": {},
     "output_type": "execute_result"
    }
   ],
   "source": [
    "len(output)"
   ]
  },
  {
   "cell_type": "code",
   "execution_count": 13,
   "metadata": {},
   "outputs": [],
   "source": [
    "import json\n",
    "with open('semisupervised-news-paraphrase.json', 'w') as fopen:\n",
    "    json.dump(output, fopen)"
   ]
  }
 ],
 "metadata": {
  "kernelspec": {
   "display_name": "Python 3",
   "language": "python",
   "name": "python3"
  }
 },
 "nbformat": 4,
 "nbformat_minor": 2
}
