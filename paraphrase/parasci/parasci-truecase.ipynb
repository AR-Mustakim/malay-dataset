{
 "cells": [
  {
   "cell_type": "code",
   "execution_count": 2,
   "metadata": {},
   "outputs": [],
   "source": [
    "# !wget https://raw.githubusercontent.com/dqxiu/ParaSCI/master/Data/ParaSCI-ACL/test/test.src\n",
    "# !wget https://raw.githubusercontent.com/dqxiu/ParaSCI/master/Data/ParaSCI-ACL/test/test.tgt\n",
    "# !wget https://raw.githubusercontent.com/dqxiu/ParaSCI/master/Data/ParaSCI-ACL/train/train.src\n",
    "# !wget https://raw.githubusercontent.com/dqxiu/ParaSCI/master/Data/ParaSCI-ACL/train/train.tgt\n",
    "# !wget https://raw.githubusercontent.com/dqxiu/ParaSCI/master/Data/ParaSCI-ACL/val/val.src\n",
    "# !wget https://raw.githubusercontent.com/dqxiu/ParaSCI/master/Data/ParaSCI-ACL/val/val.tgt"
   ]
  },
  {
   "cell_type": "code",
   "execution_count": 12,
   "metadata": {},
   "outputs": [],
   "source": [
    "# !wget https://raw.githubusercontent.com/dqxiu/ParaSCI/master/Data/ParaSCI-arXiv/test/test.src\n",
    "# !wget https://raw.githubusercontent.com/dqxiu/ParaSCI/master/Data/ParaSCI-arXiv/test/test.tgt\n",
    "# !wget https://raw.githubusercontent.com/dqxiu/ParaSCI/master/Data/ParaSCI-arXiv/train/train.src\n",
    "# !wget https://raw.githubusercontent.com/dqxiu/ParaSCI/master/Data/ParaSCI-arXiv/train/train.tgt\n",
    "# !wget https://raw.githubusercontent.com/dqxiu/ParaSCI/master/Data/ParaSCI-arXiv/val/val.src\n",
    "# !wget https://raw.githubusercontent.com/dqxiu/ParaSCI/master/Data/ParaSCI-arXiv/val/val.tgt"
   ]
  },
  {
   "cell_type": "code",
   "execution_count": 8,
   "metadata": {},
   "outputs": [],
   "source": [
    "# !pip3 install truecase\n",
    "import truecase\n",
    "from tqdm import tqdm"
   ]
  },
  {
   "cell_type": "code",
   "execution_count": 13,
   "metadata": {},
   "outputs": [
    {
     "name": "stderr",
     "output_type": "stream",
     "text": [
      "  4%|▍         | 100/2346 [00:00<00:02, 994.47it/s]"
     ]
    },
    {
     "name": "stdout",
     "output_type": "stream",
     "text": [
      "test.src\n"
     ]
    },
    {
     "name": "stderr",
     "output_type": "stream",
     "text": [
      "100%|██████████| 2346/2346 [00:01<00:00, 1180.34it/s]\n",
      "  6%|▌         | 137/2346 [00:00<00:01, 1364.27it/s]"
     ]
    },
    {
     "name": "stdout",
     "output_type": "stream",
     "text": [
      "test.tgt\n"
     ]
    },
    {
     "name": "stderr",
     "output_type": "stream",
     "text": [
      "100%|██████████| 2346/2346 [00:01<00:00, 1283.24it/s]\n",
      "  0%|          | 120/28884 [00:00<00:24, 1195.58it/s]"
     ]
    },
    {
     "name": "stdout",
     "output_type": "stream",
     "text": [
      "train.src\n"
     ]
    },
    {
     "name": "stderr",
     "output_type": "stream",
     "text": [
      "100%|██████████| 28884/28884 [00:21<00:00, 1348.06it/s]\n",
      "  1%|          | 146/28884 [00:00<00:19, 1457.10it/s]"
     ]
    },
    {
     "name": "stdout",
     "output_type": "stream",
     "text": [
      "train.tgt\n"
     ]
    },
    {
     "name": "stderr",
     "output_type": "stream",
     "text": [
      "100%|██████████| 28884/28884 [00:20<00:00, 1382.50it/s]\n",
      "  6%|▌         | 165/2754 [00:00<00:01, 1641.88it/s]"
     ]
    },
    {
     "name": "stdout",
     "output_type": "stream",
     "text": [
      "val.src\n"
     ]
    },
    {
     "name": "stderr",
     "output_type": "stream",
     "text": [
      "100%|██████████| 2754/2754 [00:01<00:00, 1432.94it/s]\n",
      "  6%|▌         | 158/2754 [00:00<00:01, 1569.01it/s]"
     ]
    },
    {
     "name": "stdout",
     "output_type": "stream",
     "text": [
      "val.tgt\n"
     ]
    },
    {
     "name": "stderr",
     "output_type": "stream",
     "text": [
      "100%|██████████| 2754/2754 [00:02<00:00, 1349.29it/s]\n"
     ]
    }
   ],
   "source": [
    "files = ['test.src', 'test.tgt', 'train.src', 'train.tgt', 'val.src', 'val.tgt']\n",
    "for file in files:\n",
    "    print(file)\n",
    "    with open(file) as fopen:\n",
    "        data = fopen.read().split('\\n')\n",
    "    results = []\n",
    "    for i in tqdm(range(len(data))):\n",
    "        if len(data[i]):\n",
    "            r = truecase.get_true_case(data[i])\n",
    "            results.append(r)\n",
    "    with open(f'{file}.truecase', 'w') as fopen:\n",
    "        fopen.write('\\n'.join(results))"
   ]
  },
  {
   "cell_type": "code",
   "execution_count": null,
   "metadata": {},
   "outputs": [
    {
     "name": "stderr",
     "output_type": "stream",
     "text": [
      "  4%|▍         | 107/2550 [00:00<00:02, 1069.23it/s]"
     ]
    },
    {
     "name": "stdout",
     "output_type": "stream",
     "text": [
      "test.src.1\n"
     ]
    },
    {
     "name": "stderr",
     "output_type": "stream",
     "text": [
      "100%|██████████| 2550/2550 [00:02<00:00, 1256.79it/s]\n",
      "  4%|▍         | 107/2550 [00:00<00:02, 1069.02it/s]"
     ]
    },
    {
     "name": "stdout",
     "output_type": "stream",
     "text": [
      "test.tgt.1\n"
     ]
    },
    {
     "name": "stderr",
     "output_type": "stream",
     "text": [
      "100%|██████████| 2550/2550 [00:01<00:00, 1311.33it/s]\n",
      "  0%|          | 0/309835 [00:00<?, ?it/s]"
     ]
    },
    {
     "name": "stdout",
     "output_type": "stream",
     "text": [
      "train.src.1\n"
     ]
    },
    {
     "name": "stderr",
     "output_type": "stream",
     "text": [
      "100%|██████████| 309835/309835 [03:44<00:00, 1381.50it/s]\n",
      "  0%|          | 0/309835 [00:00<?, ?it/s]"
     ]
    },
    {
     "name": "stdout",
     "output_type": "stream",
     "text": [
      "train.tgt.1\n"
     ]
    },
    {
     "name": "stderr",
     "output_type": "stream",
     "text": [
      " 18%|█▊        | 54273/309835 [00:39<03:01, 1407.48it/s]"
     ]
    }
   ],
   "source": [
    "files = ['test.src.1', 'test.tgt.1', 'train.src.1', 'train.tgt.1', 'val.src.1', 'val.tgt.1']\n",
    "for file in files:\n",
    "    print(file)\n",
    "    with open(file) as fopen:\n",
    "        data = fopen.read().split('\\n')\n",
    "    results = []\n",
    "    for i in tqdm(range(len(data))):\n",
    "        if len(data[i]):\n",
    "            r = truecase.get_true_case(data[i])\n",
    "            results.append(r)\n",
    "    with open(f'{file}.truecase', 'w') as fopen:\n",
    "        fopen.write('\\n'.join(results))"
   ]
  },
  {
   "cell_type": "code",
   "execution_count": null,
   "metadata": {},
   "outputs": [],
   "source": []
  }
 ],
 "metadata": {
  "kernelspec": {
   "display_name": "Python 3",
   "language": "python",
   "name": "python3"
  },
  "language_info": {
   "codemirror_mode": {
    "name": "ipython",
    "version": 3
   },
   "file_extension": ".py",
   "mimetype": "text/x-python",
   "name": "python",
   "nbconvert_exporter": "python",
   "pygments_lexer": "ipython3",
   "version": "3.6.9"
  }
 },
 "nbformat": 4,
 "nbformat_minor": 2
}
