{
 "cells": [
  {
   "cell_type": "code",
   "execution_count": 21,
   "metadata": {},
   "outputs": [],
   "source": [
    "# !wget http://parl.ai/downloads/projects/rephrase_sentences/rephrase_sentences_train_0703.txt\n",
    "# !wget http://parl.ai/downloads/projects/rephrase_sentences/rephrase_sentences_valid_0703.txt\n",
    "# !wget http://parl.ai/downloads/projects/rephrase_sentences/rephrase_sentences_test_0703.txt"
   ]
  },
  {
   "cell_type": "code",
   "execution_count": 22,
   "metadata": {},
   "outputs": [],
   "source": [
    "# !wget http://parl.ai/downloads/projects/rephrase_sentences/choose_sentence_train.txt\n",
    "# !wget http://parl.ai/downloads/projects/rephrase_sentences/choose_sentence_valid.txt\n",
    "# !wget http://parl.ai/downloads/projects/rephrase_sentences/choose_sentence_test.txt"
   ]
  },
  {
   "cell_type": "code",
   "execution_count": 38,
   "metadata": {},
   "outputs": [],
   "source": [
    "fnames = [\n",
    "        'rephrase_sentences_train_0703.txt',\n",
    "        'rephrase_sentences_valid_0703.txt',\n",
    "        'rephrase_sentences_test_0703.txt',]"
   ]
  },
  {
   "cell_type": "code",
   "execution_count": 29,
   "metadata": {},
   "outputs": [],
   "source": [
    "def _strip_reader(filename):\n",
    "    \"\"\"\n",
    "    Reads a file, stripping line endings.\n",
    "    \"\"\"\n",
    "    with open(filename) as f:\n",
    "        for line in f:\n",
    "            yield line.rstrip()\n",
    "\n",
    "def grouper(iterable, n, fillvalue=None):\n",
    "    \"\"\"\n",
    "    Collect data into fixed-length chunks or blocks.\n",
    "    \"\"\"\n",
    "    # grouper('ABCDEFG', 3, 'x') --> ABC DEF Gxx\"\n",
    "    args = [iter(iterable)] * n\n",
    "    from itertools import zip_longest\n",
    "\n",
    "    return zip_longest(*args, fillvalue=fillvalue)"
   ]
  },
  {
   "cell_type": "code",
   "execution_count": 30,
   "metadata": {},
   "outputs": [],
   "source": [
    "data_reader = grouper(_strip_reader('rephrase_sentences_train_0703.txt'), 3, '')"
   ]
  },
  {
   "cell_type": "code",
   "execution_count": 31,
   "metadata": {},
   "outputs": [
    {
     "data": {
      "text/plain": [
       "('1 passage title: Danio',\n",
       " '2 personality: Cultured (Refined, Educated)',\n",
       " \"3 Some species have two pairs of long barbels.\\tWell, I bet you didn't know about danio's two pairs of long barbels\")"
      ]
     },
     "execution_count": 31,
     "metadata": {},
     "output_type": "execute_result"
    }
   ],
   "source": [
    "next(data_reader)"
   ]
  },
  {
   "cell_type": "code",
   "execution_count": 39,
   "metadata": {},
   "outputs": [
    {
     "name": "stdout",
     "output_type": "stream",
     "text": [
      "rephrase_sentences_train_0703.txt\n",
      "rephrase_sentences_valid_0703.txt\n",
      "rephrase_sentences_test_0703.txt\n"
     ]
    }
   ],
   "source": [
    "entries = []\n",
    "\n",
    "title_prefix = '1 passage title: '\n",
    "title_prefix_len = len(title_prefix)\n",
    "persona_prefix = '2 personality: '\n",
    "persona_prefix_len = len(persona_prefix)\n",
    "text_prefix = '3 '\n",
    "text_prefix_len = len(text_prefix)\n",
    "\n",
    "for file in fnames:\n",
    "    print(file)\n",
    "    data_reader = grouper(_strip_reader(file), 3, '')\n",
    "\n",
    "    for title, persona, text in data_reader:\n",
    "        if not title:\n",
    "            break\n",
    "        assert title.startswith(title_prefix)\n",
    "        title = title[title_prefix_len:]\n",
    "\n",
    "        assert persona.startswith(persona_prefix)\n",
    "        # strip 'persona: ' from the persona\n",
    "        persona = persona[persona_prefix_len:]\n",
    "\n",
    "        assert text.startswith(text_prefix)\n",
    "        text = text[text_prefix_len:]\n",
    "\n",
    "        passage, label = text.split(\"\\t\")\n",
    "\n",
    "        entries.append(\n",
    "            {'title': title, 'label': label, 'passage': passage, 'persona': persona}\n",
    "        )"
   ]
  },
  {
   "cell_type": "code",
   "execution_count": 40,
   "metadata": {},
   "outputs": [
    {
     "data": {
      "text/plain": [
       "101835"
      ]
     },
     "execution_count": 40,
     "metadata": {},
     "output_type": "execute_result"
    }
   ],
   "source": [
    "len(entries)"
   ]
  },
  {
   "cell_type": "code",
   "execution_count": 41,
   "metadata": {
    "scrolled": true
   },
   "outputs": [
    {
     "data": {
      "text/plain": [
       "{'title': 'Danio',\n",
       " 'label': \"Well, I bet you didn't know about danio's two pairs of long barbels\",\n",
       " 'passage': 'Some species have two pairs of long barbels.',\n",
       " 'persona': 'Cultured (Refined, Educated)'}"
      ]
     },
     "execution_count": 41,
     "metadata": {},
     "output_type": "execute_result"
    }
   ],
   "source": [
    "entries[0]"
   ]
  }
 ],
 "metadata": {
  "kernelspec": {
   "display_name": "Python 3",
   "language": "python",
   "name": "python3"
  },
  "language_info": {
   "codemirror_mode": {
    "name": "ipython",
    "version": 3
   },
   "file_extension": ".py",
   "mimetype": "text/x-python",
   "name": "python",
   "nbconvert_exporter": "python",
   "pygments_lexer": "ipython3",
   "version": "3.6.9"
  }
 },
 "nbformat": 4,
 "nbformat_minor": 2
}
