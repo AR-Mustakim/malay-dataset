{
 "cells": [
  {
   "cell_type": "code",
   "execution_count": 1,
   "metadata": {},
   "outputs": [],
   "source": [
    "import os\n",
    "import cleaning\n",
    "import numpy as np"
   ]
  },
  {
   "cell_type": "code",
   "execution_count": 2,
   "metadata": {},
   "outputs": [],
   "source": [
    "import malaya"
   ]
  },
  {
   "cell_type": "code",
   "execution_count": 4,
   "metadata": {},
   "outputs": [
    {
     "data": {
      "text/plain": [
       "['../pure-text/dumping-instagram.txt',\n",
       " '../pure-text/dumping-parliament.txt',\n",
       " '../pure-text/dumping-twitter.txt',\n",
       " '../pure-text/dumping-iium.txt',\n",
       " '../pure-text/dumping-wiki.txt',\n",
       " '../pure-text/dumping-news.txt',\n",
       " '../pure-text/dumping-watpadd.txt',\n",
       " '../pure-text/dumping-pdf.txt',\n",
       " '../pure-text/dumping-common-crawl.txt']"
      ]
     },
     "execution_count": 4,
     "metadata": {},
     "output_type": "execute_result"
    }
   ],
   "source": [
    "from glob import glob\n",
    "\n",
    "files = glob('../pure-text/dumping-*.txt')\n",
    "files"
   ]
  },
  {
   "cell_type": "code",
   "execution_count": 8,
   "metadata": {},
   "outputs": [
    {
     "data": {
      "text/plain": [
       "['../pure-text/iium.json',\n",
       " '../pure-text/2020-02-22-twitter-dump-in.json',\n",
       " '../pure-text/manglish.json',\n",
       " '../pure-text/dumping-twitter-6-july-2019.json',\n",
       " '../pure-text/2020-03-08-twitter-dump-in.json',\n",
       " '../pure-text/academia-pdf.json',\n",
       " '../pure-text/dumping-instagram-6-july-2019.json']"
      ]
     },
     "execution_count": 8,
     "metadata": {},
     "output_type": "execute_result"
    }
   ],
   "source": [
    "glob('../pure-text/*.json')"
   ]
  },
  {
   "cell_type": "code",
   "execution_count": 12,
   "metadata": {
    "scrolled": true
   },
   "outputs": [
    {
     "data": {
      "text/plain": [
       "['JABATAN USULUDDIN',\n",
       " 'DAN FALSAFAH',\n",
       " '',\n",
       " 'KOLOKIUM SISWAZAH',\n",
       " 'JABATAN USULUDDIN DAN FALSAFAH',\n",
       " '',\n",
       " 'Mazlan Ibrahim',\n",
       " 'Nurulfathonah Mohd Effendy',\n",
       " 'Nur Fathiah A Rozak',\n",
       " 'Muhammad Akmal R . Azmi']"
      ]
     },
     "execution_count": 12,
     "metadata": {},
     "output_type": "execute_result"
    }
   ],
   "source": [
    "with open('../pure-text/dumping-pdf.txt') as fopen:\n",
    "    data = fopen.read().split('\\n')\n",
    "    \n",
    "data[:10]"
   ]
  },
  {
   "cell_type": "code",
   "execution_count": 15,
   "metadata": {},
   "outputs": [],
   "source": [
    "results, result = [], []\n",
    "for i in data:\n",
    "    if not len(i) and len(result):\n",
    "        results.append(' '.join(result))\n",
    "        result = []\n",
    "    else:\n",
    "        result.append(i)"
   ]
  },
  {
   "cell_type": "code",
   "execution_count": 33,
   "metadata": {},
   "outputs": [],
   "source": [
    "selected = []\n",
    "for r in tqdm(results):\n",
    "    if r[:30].isupper():\n",
    "        continue\n",
    "    if len(r) < 200:\n",
    "        continue\n",
    "    if 'ISBN' in r or 'cipta terpelihara' in r or 'rights reserved' in r:\n",
    "        continue\n",
    "    selected.extend(malaya.text.function.split_into_sentences(r, minimum_length = 30))"
   ]
  },
  {
   "cell_type": "code",
   "execution_count": 37,
   "metadata": {},
   "outputs": [
    {
     "name": "stdout",
     "output_type": "stream",
     "text": [
      "INFO:tensorflow:Restoring parameters from ../t5/output/1598704247/variables/variables\n"
     ]
    }
   ],
   "source": [
    "import tensorflow_text  \n",
    "import tensorflow as tf\n",
    "\n",
    "tf.compat.v1.reset_default_graph()\n",
    "sess = tf.InteractiveSession()\n",
    "meta_graph_def = tf.compat.v1.saved_model.load(sess, [\"serve\"], '../t5/output/1598704247')\n",
    "signature_def = meta_graph_def.signature_def[\"serving_default\"]\n",
    "pred = lambda x: sess.run(\n",
    "    fetches=signature_def.outputs[\"outputs\"].name, \n",
    "    feed_dict={signature_def.inputs[\"input\"].name: x}\n",
    ")"
   ]
  },
  {
   "cell_type": "code",
   "execution_count": 50,
   "metadata": {},
   "outputs": [
    {
     "data": {
      "text/plain": [
       "258200"
      ]
     },
     "execution_count": 50,
     "metadata": {},
     "output_type": "execute_result"
    }
   ],
   "source": [
    "len(selected) // 20 * 20"
   ]
  },
  {
   "cell_type": "code",
   "execution_count": 51,
   "metadata": {},
   "outputs": [
    {
     "name": "stderr",
     "output_type": "stream",
     "text": [
      "100%|██████████| 12910/12910 [16:07:21<00:00,  4.50s/it]   \n"
     ]
    }
   ],
   "source": [
    "from tqdm import tqdm\n",
    "import re\n",
    "\n",
    "def cleaning(string):\n",
    "    string = re.sub('[^\\'\"A-Za-z\\- ]+', ' ', string)\n",
    "    string = re.sub(r'[ ]+', ' ', string.lower()).strip()\n",
    "    return string\n",
    "\n",
    "batch_size = 20\n",
    "output = []\n",
    "\n",
    "for i in tqdm(range(0, len(selected) // batch_size * batch_size, batch_size)):\n",
    "    batch = selected[i: i + batch_size]\n",
    "    batch_x = [f'parafrasa: {s}' for s in batch]\n",
    "    r = pred(batch_x)\n",
    "    \n",
    "    for k in range(batch_size):\n",
    "        if cleaning(batch[k]) == cleaning(r[k].decode()):\n",
    "            continue\n",
    "        output.append((batch[k], r[k].decode()))"
   ]
  },
  {
   "cell_type": "code",
   "execution_count": 52,
   "metadata": {},
   "outputs": [
    {
     "data": {
      "text/plain": [
       "246667"
      ]
     },
     "execution_count": 52,
     "metadata": {},
     "output_type": "execute_result"
    }
   ],
   "source": [
    "len(output)"
   ]
  },
  {
   "cell_type": "code",
   "execution_count": 54,
   "metadata": {},
   "outputs": [],
   "source": [
    "import json\n",
    "\n",
    "with open('semisupervised-paraphrase-pdf.json', 'w') as fopen:\n",
    "    json.dump(output, fopen)"
   ]
  }
 ],
 "metadata": {
  "kernelspec": {
   "display_name": "Python 3",
   "language": "python",
   "name": "python3"
  },
  "language_info": {
   "codemirror_mode": {
    "name": "ipython",
    "version": 3
   },
   "file_extension": ".py",
   "mimetype": "text/x-python",
   "name": "python",
   "nbconvert_exporter": "python",
   "pygments_lexer": "ipython3",
   "version": "3.6.8"
  }
 },
 "nbformat": 4,
 "nbformat_minor": 2
}
