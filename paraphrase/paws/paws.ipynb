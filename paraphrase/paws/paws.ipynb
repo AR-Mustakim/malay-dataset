{
 "cells": [
  {
   "cell_type": "code",
   "execution_count": 3,
   "metadata": {},
   "outputs": [],
   "source": [
    "# !wget https://storage.googleapis.com/paws/english/paws_wiki_labeled_final.tar.gz\n",
    "# !tar -zxf paws_wiki_labeled_final.tar.gz"
   ]
  },
  {
   "cell_type": "code",
   "execution_count": 17,
   "metadata": {},
   "outputs": [],
   "source": [
    "from glob import glob\n",
    "import pandas as pd\n",
    "import json"
   ]
  },
  {
   "cell_type": "code",
   "execution_count": 19,
   "metadata": {},
   "outputs": [],
   "source": [
    "df = pd.read_csv('final/test.tsv', sep = '\\t')\n",
    "records = df[df['label'] == 1].to_dict(orient='records')\n",
    "with open('paws-test.json', 'w') as fopen:\n",
    "    json.dump(records, fopen)"
   ]
  },
  {
   "cell_type": "code",
   "execution_count": 20,
   "metadata": {},
   "outputs": [],
   "source": [
    "df = pd.read_csv('final/train.tsv', sep = '\\t')\n",
    "records = df[df['label'] == 1].to_dict(orient='records')\n",
    "with open('paws-train.json', 'w') as fopen:\n",
    "    json.dump(records, fopen)"
   ]
  },
  {
   "cell_type": "code",
   "execution_count": 21,
   "metadata": {},
   "outputs": [],
   "source": [
    "df = pd.read_csv('final/dev.tsv', sep = '\\t')\n",
    "records = df[df['label'] == 1].to_dict(orient='records')\n",
    "with open('paws-dev.json', 'w') as fopen:\n",
    "    json.dump(records, fopen)"
   ]
  },
  {
   "cell_type": "code",
   "execution_count": 22,
   "metadata": {},
   "outputs": [
    {
     "data": {
      "text/plain": [
       "{'id': 2,\n",
       " 'sentence1': 'They were there to enjoy us and they were there to pray for us .',\n",
       " 'sentence2': 'They were there for us to enjoy and they were there for us to pray .',\n",
       " 'label': 1}"
      ]
     },
     "execution_count": 22,
     "metadata": {},
     "output_type": "execute_result"
    }
   ],
   "source": [
    "records[0]"
   ]
  },
  {
   "cell_type": "code",
   "execution_count": null,
   "metadata": {},
   "outputs": [],
   "source": []
  }
 ],
 "metadata": {
  "kernelspec": {
   "display_name": "Python 3",
   "language": "python",
   "name": "python3"
  },
  "language_info": {
   "codemirror_mode": {
    "name": "ipython",
    "version": 3
   },
   "file_extension": ".py",
   "mimetype": "text/x-python",
   "name": "python",
   "nbconvert_exporter": "python",
   "pygments_lexer": "ipython3",
   "version": "3.6.9"
  }
 },
 "nbformat": 4,
 "nbformat_minor": 2
}
