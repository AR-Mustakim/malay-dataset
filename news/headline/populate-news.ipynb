{
 "cells": [
  {
   "cell_type": "code",
   "execution_count": 1,
   "metadata": {},
   "outputs": [],
   "source": [
    "import re\n",
    "from unidecode import unidecode\n",
    "from malaya.text.rules import normalized_chars\n",
    "\n",
    "def filter_news(string):\n",
    "    string = string.lower()\n",
    "    return 'javascript is disabled' in string or 'requires javascript' in string or 'javascript' in string \\\n",
    "    or 'président' in string or 'register in order to view' in string or 'view this article' in string\n",
    "\n",
    "def make_cleaning(s, c_dict):\n",
    "    s = s.translate(c_dict)\n",
    "    return s\n",
    "\n",
    "def transformer_textcleaning(string):\n",
    "    \"\"\"\n",
    "    use by any transformer model before tokenization\n",
    "    \"\"\"\n",
    "    string = unidecode(string)\n",
    "    string = ' '.join(\n",
    "        [make_cleaning(w, normalized_chars) for w in string.split()]\n",
    "    )\n",
    "    string = re.sub('\\(dot\\)', '.', string)\n",
    "    string = (\n",
    "        re.sub(re.findall(r'\\<a(.*?)\\>', string)[0], '', string)\n",
    "        if (len(re.findall(r'\\<a (.*?)\\>', string)) > 0)\n",
    "        and ('href' in re.findall(r'\\<a (.*?)\\>', string)[0])\n",
    "        else string\n",
    "    )\n",
    "    string = re.sub(\n",
    "        r'\\w+:\\/{2}[\\d\\w-]+(\\.[\\d\\w-]+)*(?:(?:\\/[^\\s/]*))*', ' ', string\n",
    "    )\n",
    "    string = string.replace('\\n', ' ')\n",
    "    string = re.sub(r'[ ]+', ' ', string).strip().split()\n",
    "    string = [w for w in string if w[0] != '@']\n",
    "    string = [w.title() if w[0].isupper() else w for w in string]\n",
    "    return ' '.join(string)\n",
    "\n",
    "chars = ',:-–—'\n",
    "\n",
    "def cleaning(string, filter_chars = True):\n",
    "    string = string.replace('\\n', ' ')\n",
    "    string = re.sub(r'[ ]+', ' ', string).strip()\n",
    "    if filter_chars:\n",
    "        index = max([string[:35].rfind(c) for c in chars])\n",
    "        if index > -1:\n",
    "            string = string[index + 1:]\n",
    "            string = cleaning(string, False)\n",
    "    return string"
   ]
  },
  {
   "cell_type": "code",
   "execution_count": 2,
   "metadata": {},
   "outputs": [],
   "source": [
    "# !unzip Archive.zip\n",
    "# !cp ../malaya/Malaya/misc/crawl/*.json news"
   ]
  },
  {
   "cell_type": "code",
   "execution_count": 3,
   "metadata": {},
   "outputs": [
    {
     "data": {
      "text/plain": [
       "884"
      ]
     },
     "execution_count": 3,
     "metadata": {},
     "output_type": "execute_result"
    }
   ],
   "source": [
    "import malaya\n",
    "import operator\n",
    "from glob import glob\n",
    "from tqdm import tqdm\n",
    "import json\n",
    "\n",
    "news = glob('news/*.json')\n",
    "len(news)"
   ]
  },
  {
   "cell_type": "code",
   "execution_count": 4,
   "metadata": {},
   "outputs": [
    {
     "name": "stdout",
     "output_type": "stream",
     "text": [
      "WARNING:tensorflow:From /home/husein/.local/lib/python3.6/site-packages/malaya/function/__init__.py:73: The name tf.gfile.GFile is deprecated. Please use tf.io.gfile.GFile instead.\n",
      "\n",
      "WARNING:tensorflow:From /home/husein/.local/lib/python3.6/site-packages/malaya/function/__init__.py:75: The name tf.GraphDef is deprecated. Please use tf.compat.v1.GraphDef instead.\n",
      "\n",
      "WARNING:tensorflow:From /home/husein/.local/lib/python3.6/site-packages/malaya/function/__init__.py:50: The name tf.ConfigProto is deprecated. Please use tf.compat.v1.ConfigProto instead.\n",
      "\n",
      "WARNING:tensorflow:From /home/husein/.local/lib/python3.6/site-packages/malaya/function/__init__.py:65: The name tf.InteractiveSession is deprecated. Please use tf.compat.v1.InteractiveSession instead.\n",
      "\n"
     ]
    }
   ],
   "source": [
    "xlnet = malaya.sentiment.transformer(model = 'xlnet')\n",
    "bert = malaya.sentiment.transformer(model = 'bert')\n",
    "alxlnet = malaya.sentiment.transformer(model = 'alxlnet')"
   ]
  },
  {
   "cell_type": "code",
   "execution_count": 5,
   "metadata": {},
   "outputs": [
    {
     "name": "stderr",
     "output_type": "stream",
     "text": [
      "\n"
     ]
    }
   ],
   "source": [
    "fast_text = malaya.language_detection.fasttext()"
   ]
  },
  {
   "cell_type": "code",
   "execution_count": 6,
   "metadata": {},
   "outputs": [
    {
     "name": "stderr",
     "output_type": "stream",
     "text": [
      "100%|██████████| 884/884 [02:38<00:00,  5.59it/s]\n"
     ]
    }
   ],
   "source": [
    "before, after = [], []\n",
    "for n in tqdm(news):\n",
    "    with open(n) as fopen:\n",
    "        data = json.load(fopen)\n",
    "    for i in data:\n",
    "        lang_title, lang_text = fast_text.predict([i['title'], i['text']])\n",
    "        if not filter_news(i['text']) and lang_title != 'eng' and lang_text != 'eng' \\\n",
    "        and len(i['text']) and len(i['title']):\n",
    "            before.append(cleaning(i['text']))\n",
    "            after.append(cleaning(i['title']))"
   ]
  },
  {
   "cell_type": "code",
   "execution_count": 7,
   "metadata": {},
   "outputs": [],
   "source": [
    "with open('news-30k.json') as fopen:\n",
    "    data = json.load(fopen)\n",
    "    \n",
    "for i in data:\n",
    "    lang_title, lang_text = fast_text.predict([i['title'], i['text']])\n",
    "    if not filter_news(i['text']) and lang_title != 'eng' and lang_text != 'eng' \\\n",
    "        and len(i['text']) and len(i['title']):\n",
    "        before.append(cleaning(i['text']))\n",
    "        after.append(cleaning(i['title']))"
   ]
  },
  {
   "cell_type": "code",
   "execution_count": 8,
   "metadata": {},
   "outputs": [
    {
     "data": {
      "text/plain": [
       "(156727, 156727)"
      ]
     },
     "execution_count": 8,
     "metadata": {},
     "output_type": "execute_result"
    }
   ],
   "source": [
    "len(before), len(after)"
   ]
  },
  {
   "cell_type": "code",
   "execution_count": 9,
   "metadata": {},
   "outputs": [],
   "source": [
    "with open('populate-news.json', 'w') as fopen:\n",
    "    json.dump({'text': before, 'title': after}, fopen)"
   ]
  },
  {
   "cell_type": "code",
   "execution_count": 10,
   "metadata": {},
   "outputs": [],
   "source": [
    "rejected = ['saya', 'awak', 'kami']\n",
    "\n",
    "def headline(string, length = 700):\n",
    "    splitted = malaya.text.function.split_into_sentences(string)\n",
    "    splitted = [s for s in splitted if all([r not in s for r in rejected])]\n",
    "    selected, index, results = '', 0, []\n",
    "    while len(selected) <= length and index < len(splitted):\n",
    "        selected += splitted[index]\n",
    "        results.append(splitted[index])\n",
    "        index += 1\n",
    "    return ' '.join(results)"
   ]
  },
  {
   "cell_type": "code",
   "execution_count": 11,
   "metadata": {},
   "outputs": [
    {
     "name": "stderr",
     "output_type": "stream",
     "text": [
      "100%|██████████| 15673/15673 [5:37:50<00:00,  1.29s/it]  \n"
     ]
    }
   ],
   "source": [
    "batch_size = 10\n",
    "\n",
    "overall_sentiment, headline_sentiment, headlines = [], [], []\n",
    "\n",
    "for i in tqdm(range(0, len(before), batch_size)):\n",
    "    index = min(i + batch_size, len(before))\n",
    "    batch_x = before[i: index]\n",
    "    batch_headline = [headline(i) for i in batch_x]\n",
    "    r = malaya.stack.predict_stack([xlnet, bert, alxlnet], batch_x)\n",
    "    \n",
    "    for row in r:\n",
    "        overall_sentiment.append(max(row.items(), key=operator.itemgetter(1))[0])\n",
    "        \n",
    "    r = malaya.stack.predict_stack([xlnet, bert, alxlnet], batch_headline)\n",
    "    \n",
    "    for row in r:\n",
    "        headline_sentiment.append(max(row.items(), key=operator.itemgetter(1))[0])\n",
    "        \n",
    "    headlines.extend(batch_headline)"
   ]
  },
  {
   "cell_type": "code",
   "execution_count": 12,
   "metadata": {},
   "outputs": [],
   "source": [
    "with open('populate-news-sentiment.json', 'w') as fopen:\n",
    "    json.dump({'text-sentiment': overall_sentiment, \n",
    "               'headline-sentiment': headline_sentiment,\n",
    "              'headline': headlines}, fopen)"
   ]
  }
 ],
 "metadata": {
  "kernelspec": {
   "display_name": "Python 3",
   "language": "python",
   "name": "python3"
  },
  "language_info": {
   "codemirror_mode": {
    "name": "ipython",
    "version": 3
   },
   "file_extension": ".py",
   "mimetype": "text/x-python",
   "name": "python",
   "nbconvert_exporter": "python",
   "pygments_lexer": "ipython3",
   "version": "3.6.8"
  }
 },
 "nbformat": 4,
 "nbformat_minor": 2
}
