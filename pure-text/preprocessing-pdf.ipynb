{
 "cells": [
  {
   "cell_type": "code",
   "execution_count": 2,
   "metadata": {},
   "outputs": [],
   "source": [
    "# !wget https://malaya-dataset.s3-ap-southeast-1.amazonaws.com/crawler/academia/academia-pdf.json"
   ]
  },
  {
   "cell_type": "code",
   "execution_count": 3,
   "metadata": {},
   "outputs": [],
   "source": [
    "import json\n",
    "import cleaning\n",
    "from tqdm import tqdm"
   ]
  },
  {
   "cell_type": "code",
   "execution_count": 4,
   "metadata": {},
   "outputs": [
    {
     "data": {
      "text/plain": [
       "224"
      ]
     },
     "execution_count": 4,
     "metadata": {},
     "output_type": "execute_result"
    }
   ],
   "source": [
    "with open('academia-pdf.json') as fopen:\n",
    "    pdf = json.load(fopen)\n",
    "    \n",
    "len(pdf)"
   ]
  },
  {
   "cell_type": "code",
   "execution_count": 5,
   "metadata": {},
   "outputs": [],
   "source": [
    "from unidecode import unidecode\n",
    "\n",
    "def clean(string):\n",
    "    string = [cleaning.cleaning(s) for s in string]\n",
    "    \n",
    "    string = [s.strip() for s in string if 'tarikh' not in s.lower() and 'soalan no' not in s.lower()]\n",
    "    string = [s for s in string if not ''.join(s.split()[:1]).isdigit() and '.soalan' not in s.lower() and 'jum ' not in s.lower()]\n",
    "    string = [s for s in string if not s[:3].isdigit() and not s[-3:].isdigit()]\n",
    "    return string"
   ]
  },
  {
   "cell_type": "code",
   "execution_count": 6,
   "metadata": {},
   "outputs": [
    {
     "name": "stderr",
     "output_type": "stream",
     "text": [
      "100%|██████████| 224/224 [00:32<00:00,  6.88it/s]\n"
     ]
    }
   ],
   "source": [
    "outer = []\n",
    "\n",
    "for k in tqdm(range(len(pdf))):\n",
    "\n",
    "    c = clean(pdf[k]['content']['content'].split('\\n'))\n",
    "    t, last = [], 0\n",
    "\n",
    "    i = 0\n",
    "    while i < len(c):\n",
    "        text = c[i]\n",
    "\n",
    "        if len(text) > 5:\n",
    "            if len(text.split()) > 1:\n",
    "                t.append(text)\n",
    "            last = i\n",
    "        else:\n",
    "            if len(t) and (i - last) > 2:\n",
    "                t.append('')\n",
    "                outer.extend(t)\n",
    "                t = []\n",
    "                last = i\n",
    "            elif not len(t):\n",
    "                last = i\n",
    "\n",
    "        i += 1\n",
    "    \n",
    "    if len(t):\n",
    "        t.append('')\n",
    "        outer.extend(t)"
   ]
  },
  {
   "cell_type": "code",
   "execution_count": 7,
   "metadata": {},
   "outputs": [
    {
     "data": {
      "text/plain": [
       "651957"
      ]
     },
     "execution_count": 7,
     "metadata": {},
     "output_type": "execute_result"
    }
   ],
   "source": [
    "len(outer)"
   ]
  },
  {
   "cell_type": "code",
   "execution_count": 8,
   "metadata": {},
   "outputs": [
    {
     "name": "stdout",
     "output_type": "stream",
     "text": [
      "CPU times: user 390 ms, sys: 263 ms, total: 653 ms\n",
      "Wall time: 806 ms\n"
     ]
    }
   ],
   "source": [
    "%%time\n",
    "\n",
    "temp_vocab = list(set(cleaning.multiprocessing(outer, cleaning.unique_words)))"
   ]
  },
  {
   "cell_type": "code",
   "execution_count": 9,
   "metadata": {},
   "outputs": [
    {
     "name": "stdout",
     "output_type": "stream",
     "text": [
      "881\n",
      "CPU times: user 102 ms, sys: 120 ms, total: 221 ms\n",
      "Wall time: 723 ms\n"
     ]
    }
   ],
   "source": [
    "%%time\n",
    "\n",
    "# important\n",
    "temp_dict = cleaning.multiprocessing(temp_vocab, cleaning.duplicate_dots_marks_exclamations, list_mode = False)\n",
    "print(len(temp_dict))"
   ]
  },
  {
   "cell_type": "code",
   "execution_count": 10,
   "metadata": {},
   "outputs": [
    {
     "name": "stderr",
     "output_type": "stream",
     "text": [
      "100%|██████████| 651957/651957 [00:02<00:00, 279404.76it/s]\n"
     ]
    }
   ],
   "source": [
    "outer = cleaning.string_dict_cleaning(outer, temp_dict)"
   ]
  },
  {
   "cell_type": "code",
   "execution_count": 11,
   "metadata": {},
   "outputs": [
    {
     "name": "stdout",
     "output_type": "stream",
     "text": [
      "71\n",
      "CPU times: user 114 ms, sys: 116 ms, total: 230 ms\n",
      "Wall time: 323 ms\n"
     ]
    }
   ],
   "source": [
    "%%time\n",
    "\n",
    "# important\n",
    "temp_dict = cleaning.multiprocessing(temp_vocab, cleaning.remove_underscore, list_mode = False)\n",
    "print(len(temp_dict))"
   ]
  },
  {
   "cell_type": "code",
   "execution_count": 12,
   "metadata": {},
   "outputs": [
    {
     "name": "stderr",
     "output_type": "stream",
     "text": [
      "100%|██████████| 651957/651957 [00:02<00:00, 257353.34it/s]\n"
     ]
    }
   ],
   "source": [
    "outer = cleaning.string_dict_cleaning(outer, temp_dict)"
   ]
  },
  {
   "cell_type": "code",
   "execution_count": 13,
   "metadata": {},
   "outputs": [
    {
     "name": "stdout",
     "output_type": "stream",
     "text": [
      "0\n",
      "CPU times: user 216 ms, sys: 148 ms, total: 364 ms\n",
      "Wall time: 1.08 s\n"
     ]
    }
   ],
   "source": [
    "%%time\n",
    "\n",
    "# important\n",
    "temp_dict = cleaning.multiprocessing(outer, cleaning.isolate_spamchars, list_mode = False)\n",
    "print(len(temp_dict))"
   ]
  },
  {
   "cell_type": "code",
   "execution_count": 14,
   "metadata": {},
   "outputs": [
    {
     "name": "stdout",
     "output_type": "stream",
     "text": [
      "2631\n",
      "CPU times: user 101 ms, sys: 133 ms, total: 234 ms\n",
      "Wall time: 280 ms\n"
     ]
    }
   ],
   "source": [
    "%%time\n",
    "temp_dict = cleaning.multiprocessing(temp_vocab, cleaning.break_short_words, list_mode = False)\n",
    "print(len(temp_dict))"
   ]
  },
  {
   "cell_type": "code",
   "execution_count": 15,
   "metadata": {},
   "outputs": [
    {
     "name": "stderr",
     "output_type": "stream",
     "text": [
      "100%|██████████| 651957/651957 [00:02<00:00, 261864.04it/s]\n"
     ]
    }
   ],
   "source": [
    "outer = cleaning.string_dict_cleaning(outer, temp_dict)"
   ]
  },
  {
   "cell_type": "code",
   "execution_count": 16,
   "metadata": {},
   "outputs": [
    {
     "name": "stdout",
     "output_type": "stream",
     "text": [
      "765\n",
      "CPU times: user 89 ms, sys: 119 ms, total: 208 ms\n",
      "Wall time: 263 ms\n"
     ]
    }
   ],
   "source": [
    "%%time\n",
    "temp_dict = cleaning.multiprocessing(temp_vocab, cleaning.break_long_words, list_mode = False)\n",
    "print(len(temp_dict))"
   ]
  },
  {
   "cell_type": "code",
   "execution_count": 17,
   "metadata": {},
   "outputs": [
    {
     "name": "stderr",
     "output_type": "stream",
     "text": [
      "100%|██████████| 651957/651957 [00:02<00:00, 275939.03it/s]\n"
     ]
    }
   ],
   "source": [
    "outer = cleaning.string_dict_cleaning(outer, temp_dict)"
   ]
  },
  {
   "cell_type": "code",
   "execution_count": 18,
   "metadata": {},
   "outputs": [
    {
     "name": "stdout",
     "output_type": "stream",
     "text": [
      "10\n",
      "CPU times: user 103 ms, sys: 103 ms, total: 206 ms\n",
      "Wall time: 258 ms\n"
     ]
    }
   ],
   "source": [
    "%%time\n",
    "temp_dict = cleaning.multiprocessing(temp_vocab, cleaning.remove_ending_underscore, list_mode = False)\n",
    "print(len(temp_dict))"
   ]
  },
  {
   "cell_type": "code",
   "execution_count": 19,
   "metadata": {
    "scrolled": true
   },
   "outputs": [
    {
     "name": "stderr",
     "output_type": "stream",
     "text": [
      "100%|██████████| 651957/651957 [00:02<00:00, 261560.59it/s]\n"
     ]
    }
   ],
   "source": [
    "outer = cleaning.string_dict_cleaning(outer, temp_dict)"
   ]
  },
  {
   "cell_type": "code",
   "execution_count": 20,
   "metadata": {},
   "outputs": [
    {
     "name": "stdout",
     "output_type": "stream",
     "text": [
      "56\n",
      "CPU times: user 83.7 ms, sys: 128 ms, total: 212 ms\n",
      "Wall time: 264 ms\n"
     ]
    }
   ],
   "source": [
    "%%time\n",
    "temp_dict = cleaning.multiprocessing(temp_vocab, cleaning.remove_starting_underscore, list_mode = False)\n",
    "print(len(temp_dict))"
   ]
  },
  {
   "cell_type": "code",
   "execution_count": 21,
   "metadata": {},
   "outputs": [
    {
     "name": "stderr",
     "output_type": "stream",
     "text": [
      "100%|██████████| 651957/651957 [00:02<00:00, 266383.28it/s]\n"
     ]
    }
   ],
   "source": [
    "outer = cleaning.string_dict_cleaning(outer, temp_dict)"
   ]
  },
  {
   "cell_type": "code",
   "execution_count": 22,
   "metadata": {},
   "outputs": [
    {
     "name": "stdout",
     "output_type": "stream",
     "text": [
      "138699\n",
      "CPU times: user 570 ms, sys: 151 ms, total: 722 ms\n",
      "Wall time: 800 ms\n"
     ]
    }
   ],
   "source": [
    "%%time\n",
    "temp_dict = cleaning.multiprocessing(temp_vocab, cleaning.end_punct, list_mode = False)\n",
    "print(len(temp_dict))"
   ]
  },
  {
   "cell_type": "code",
   "execution_count": 23,
   "metadata": {},
   "outputs": [
    {
     "name": "stderr",
     "output_type": "stream",
     "text": [
      "100%|██████████| 651957/651957 [00:02<00:00, 240032.70it/s]\n"
     ]
    }
   ],
   "source": [
    "outer = cleaning.string_dict_cleaning(outer, temp_dict)"
   ]
  },
  {
   "cell_type": "code",
   "execution_count": 24,
   "metadata": {},
   "outputs": [
    {
     "name": "stdout",
     "output_type": "stream",
     "text": [
      "37464\n",
      "CPU times: user 224 ms, sys: 136 ms, total: 360 ms\n",
      "Wall time: 445 ms\n"
     ]
    }
   ],
   "source": [
    "%%time\n",
    "temp_dict = cleaning.multiprocessing(temp_vocab, cleaning.start_punct, list_mode = False)\n",
    "print(len(temp_dict))"
   ]
  },
  {
   "cell_type": "code",
   "execution_count": 25,
   "metadata": {},
   "outputs": [
    {
     "name": "stderr",
     "output_type": "stream",
     "text": [
      "100%|██████████| 651957/651957 [00:02<00:00, 228724.65it/s]\n"
     ]
    }
   ],
   "source": [
    "outer = cleaning.string_dict_cleaning(outer, temp_dict)"
   ]
  },
  {
   "cell_type": "code",
   "execution_count": 26,
   "metadata": {},
   "outputs": [
    {
     "name": "stdout",
     "output_type": "stream",
     "text": [
      "65\n",
      "CPU times: user 106 ms, sys: 143 ms, total: 249 ms\n",
      "Wall time: 347 ms\n"
     ]
    }
   ],
   "source": [
    "%%time\n",
    "temp_dict = cleaning.multiprocessing(temp_vocab, cleaning.join_dashes, list_mode = False)\n",
    "print(len(temp_dict))"
   ]
  },
  {
   "cell_type": "code",
   "execution_count": 27,
   "metadata": {},
   "outputs": [
    {
     "name": "stderr",
     "output_type": "stream",
     "text": [
      "100%|██████████| 651957/651957 [00:02<00:00, 245834.14it/s]\n"
     ]
    }
   ],
   "source": [
    "outer = cleaning.string_dict_cleaning(outer, temp_dict)"
   ]
  },
  {
   "cell_type": "code",
   "execution_count": 28,
   "metadata": {},
   "outputs": [
    {
     "name": "stderr",
     "output_type": "stream",
     "text": [
      "100%|██████████| 651957/651957 [00:00<00:00, 1271085.76it/s]\n"
     ]
    }
   ],
   "source": [
    "results, result = [], []\n",
    "for i in tqdm(outer):\n",
    "    if not len(i) and len(result):\n",
    "        results.append(result)\n",
    "        result = []\n",
    "    else:\n",
    "        result.append(i)\n",
    "        \n",
    "if len(result):\n",
    "    results.append(result)"
   ]
  },
  {
   "cell_type": "code",
   "execution_count": 30,
   "metadata": {},
   "outputs": [
    {
     "data": {
      "text/plain": [
       "['733 ke.633 , berlaku penurunan akibat kesan program PMI .']"
      ]
     },
     "execution_count": 30,
     "metadata": {},
     "output_type": "execute_result"
    }
   ],
   "source": [
    "import re\n",
    "\n",
    "alphabets = '([A-Za-z])'\n",
    "prefixes = (\n",
    "    '(Mr|St|Mrs|Ms|Dr|Prof|Capt|Cpt|Lt|Mt|Puan|puan|Tuan|tuan|sir|Sir)[.]'\n",
    ")\n",
    "suffixes = '(Inc|Ltd|Jr|Sr|Co|Mo)'\n",
    "starters = '(Mr|Mrs|Ms|Dr|He\\s|She\\s|It\\s|They\\s|Their\\s|Our\\s|We\\s|But\\s|However\\s|That\\s|This\\s|Wherever|Dia|Mereka|Tetapi|Kita|Itu|Ini|Dan|Kami|Beliau|Seri|Datuk|Dato|Datin|Tuan|Puan)'\n",
    "acronyms = '([A-Z][.][A-Z][.](?:[A-Z][.])?)'\n",
    "websites = '[.](com|net|org|io|gov|me|edu|my)'\n",
    "another_websites = '(www|http|https)[.]'\n",
    "digits = '([0-9])'\n",
    "before_digits = '([Nn]o|[Nn]ombor|[Nn]umber|[Kk]e|=)'\n",
    "month = '([Jj]an(?:uari)?|[Ff]eb(?:ruari)?|[Mm]a(?:c)?|[Aa]pr(?:il)?|Mei|[Jj]u(?:n)?|[Jj]ula(?:i)?|[Aa]ug(?:ust)?|[Ss]ept?(?:ember)?|[Oo]kt(?:ober)?|[Nn]ov(?:ember)?|[Dd]is(?:ember)?)'\n",
    "\n",
    "\n",
    "def split_into_sentences(text, minimum_length = 5):\n",
    "    text = text.replace('\\x97', '\\n')\n",
    "    text = '. '.join([s for s in text.split('\\n') if len(s)])\n",
    "    text = text + '.'\n",
    "    text = unidecode(text)\n",
    "    text = ' ' + text + '  '\n",
    "    text = text.replace('\\n', ' ')\n",
    "    text = re.sub(prefixes, '\\\\1<prd>', text)\n",
    "    text = re.sub(websites, '<prd>\\\\1', text)\n",
    "    text = re.sub(another_websites, '\\\\1<prd>', text)\n",
    "    text = re.sub('[,][.]+', '<prd>', text)\n",
    "    if '...' in text:\n",
    "        text = text.replace('...', '<prd><prd><prd>')\n",
    "    if 'Ph.D' in text:\n",
    "        text = text.replace('Ph.D.', 'Ph<prd>D<prd>')\n",
    "    text = re.sub('[.]\\s*[,]', '<prd>,', text)\n",
    "    text = re.sub(before_digits + '\\s*[.]\\s*' + digits, '\\\\1<prd>\\\\2', text)\n",
    "    text = re.sub(month + '[.]\\s*' + digits, '\\\\1<prd>\\\\2', text)\n",
    "    text = re.sub('\\s' + alphabets + '[.][ ]+', ' \\\\1<prd> ', text)\n",
    "    text = re.sub(acronyms + ' ' + starters, '\\\\1<stop> \\\\2', text)\n",
    "    text = re.sub(\n",
    "        alphabets + '[.]' + alphabets + '[.]' + alphabets + '[.]',\n",
    "        '\\\\1<prd>\\\\2<prd>\\\\3<prd>',\n",
    "        text,\n",
    "    )\n",
    "    text = re.sub(\n",
    "        alphabets + '[.]' + alphabets + '[.]', '\\\\1<prd>\\\\2<prd>', text\n",
    "    )\n",
    "    text = re.sub(' ' + suffixes + '[.][ ]+' + starters, ' \\\\1<stop> \\\\2', text)\n",
    "    text = re.sub(' ' + suffixes + '[.]', ' \\\\1<prd>', text)\n",
    "    text = re.sub(' ' + alphabets + '[.]', ' \\\\1<prd>', text)\n",
    "    text = re.sub(digits + '[.]' + digits, '\\\\1<prd>\\\\2', text)\n",
    "    if '”' in text:\n",
    "        text = text.replace('.”', '”.')\n",
    "    if '\"' in text:\n",
    "        text = text.replace('.\"', '\".')\n",
    "    if '!' in text:\n",
    "        text = text.replace('!\"', '\"!')\n",
    "    if '?' in text:\n",
    "        text = text.replace('?\"', '\"?')\n",
    "    text = text.replace('.', '.<stop>')\n",
    "    text = text.replace('?', '?<stop>')\n",
    "    text = text.replace('!', '!<stop>')\n",
    "    text = text.replace('<prd>', '.')\n",
    "    sentences = text.split('<stop>')\n",
    "    sentences = sentences[:-1]\n",
    "    sentences = [s.strip() for s in sentences if len(s) > minimum_length]\n",
    "    return sentences\n",
    "\n",
    "split_into_sentences('733 ke . 633 , berlaku penurunan akibat kesan program PMI .')"
   ]
  },
  {
   "cell_type": "code",
   "execution_count": 31,
   "metadata": {},
   "outputs": [],
   "source": [
    "import malaya\n",
    "import re\n",
    "\n",
    "def strip(string):\n",
    "    string = ' '.join(string)\n",
    "    string = re.sub(r'[ ]+', ' ', string.replace('\\n', ' ').replace('\\t', ' ')).strip()\n",
    "    return split_into_sentences(string)"
   ]
  },
  {
   "cell_type": "code",
   "execution_count": 32,
   "metadata": {},
   "outputs": [
    {
     "name": "stderr",
     "output_type": "stream",
     "text": [
      "100%|██████████| 55538/55538 [00:22<00:00, 2506.92it/s]\n"
     ]
    }
   ],
   "source": [
    "output = []\n",
    "\n",
    "for r in tqdm(results):\n",
    "    output.extend(strip(r) + [''])"
   ]
  },
  {
   "cell_type": "code",
   "execution_count": 33,
   "metadata": {},
   "outputs": [
    {
     "data": {
      "text/plain": [
       "408807"
      ]
     },
     "execution_count": 33,
     "metadata": {},
     "output_type": "execute_result"
    }
   ],
   "source": [
    "len(output)"
   ]
  },
  {
   "cell_type": "code",
   "execution_count": 34,
   "metadata": {},
   "outputs": [
    {
     "data": {
      "text/plain": [
       "['JABATAN USULUDDIN DAN FALSAFAH.',\n",
       " '',\n",
       " 'KOLOKIUM SISWAZAH JABATAN USULUDDIN DAN FALSAFAH.',\n",
       " '',\n",
       " 'Mazlan Ibrahim Nurulfathonah Mohd Effendy Nur Fathiah A Rozak Muhammad Akmal R .',\n",
       " 'Azmi Zulkeffly Adimun Amir Sharifuddin Ahmad.',\n",
       " '',\n",
       " 'JABATAN USULUDDIN DAN FALSAFAH FAKULTI PENGAJIAN ISLAM UNIVERSITI KEBANGSAAN MALAYSIA.',\n",
       " '',\n",
       " 'Hak cipta / Copyright.',\n",
       " '',\n",
       " 'Hak cipta terpelihara .',\n",
       " 'Tiada bahagian daripada ter ini boleh diter semula , disimpan untuk pengeluaran atau ditukarkan ke dalam sebarang bentuk atau dengan sebarang alat juga pun , sama ada dengan cara elektronik , gambar serta rakaman dan sebagainya tanpa kebenaran bertulis daripada Jabatan Usuluddin dan Falsafah , FPI , UKM terlebih dahulu .',\n",
       " '',\n",
       " 'All rights reserved .',\n",
       " 'No part of this publication may be reproduced or transmitted in any form or by any means , electronic or mechanical , including photocopy , recording , or any information storage and retrieval system , without permission in writing from the Department of Usuluddin and Philosophy , FPI , UKM .',\n",
       " '',\n",
       " 'Diter di Malaysia oleh / Published in Malaysia by JABATAN USULUDDIN DAN FALSAFAH Fakulti Pengajian Islam Universiti Kebangsaan Malaysia.',\n",
       " '',\n",
       " 'Dicetak di Malaysia oleh / Printed in Malaysia by MBM DREAMS PHOTOCOPY & PRINTING No 75 , Jalan 6A / 2 , Seksyen 16.',\n",
       " '',\n",
       " 'Perpustakaan Negara Malaysia Data Pengkatalogan dalam Pener.',\n",
       " '',\n",
       " 'Mazlan Ibrahim , Nurulfathonah Mohd Effendy , Nur Fathiah A Rozak , Muhammad Akmal R .',\n",
       " 'Azmi , Zulkeffly Adimun dan Amir Sharifuddin Ahmad ISBN 978-967-0913-71-1 1 .',\n",
       " 'Islamic Studies Prosiding Kolokium Siswazah Jabatan Usuluddin dan Falsafah.',\n",
       " '',\n",
       " \"KONSEP AHIMSA MAHATMA GANDHI MENURUT PERSPEKTIF TOKOH HINDU MALAYSIA 1 Zulkeffly Adimun dan Indriaty Ismail IMPAK PROGRAM PEMBANGUNAN MODAL INSAN (PMI ) TERHADAP KOMITMEN DAN KUALITI KERJA PEGAWAI KUMPULAN PENGURUSAN DAN PROFESIONAL JABATAN HAL EHWAL AGAMA TERENGGANU (JHEAT ) 18 Masitah Idris , Wan Fariza Alyati Wan Zakaria , Ahmad Sunawari Long dan Nozira PEMIKIRAN ISLAM PROGRESIF SA'DIYYA SHAIKH MENURUT PERSPEKTIF ISLAM 38 Siti Nurul Atiqah Mohd Nawawi dan Indriaty Ismail AMUHAMMAD BIN YUSUF ATFAIYSH DAN KETERBUKAAN PEMIKIRAN KALAM IBADHIYAH : SATU PENGENALAN 58 Mustafa Kamal Amat Misra , Abdull Rahmad Mahmood dan Jaffary Awang PENGISLAMAN ILMU SAINS DALAM KONTEKS WACANA PEMIKIRAN ISLAM DI MALAYSIA 68 Nadia Puri dan Muhammad Razak Idris KECENDERUNGAN PEMAHAMAN HADITH-HADITH BERKAITAN INTERAKSI DENGAN BUKAN MUSLIM DI MALAYSIA : KAJIAN DALAM IKRAM DAN ISMA 88 Muhammad Haikal Mohd Hedzir dan Muhammad Arif Yahya KAEDAH HERMENEUTIK TERHADAP AYAT TRITUNGGAL : KAJIAN Noor ' Ain Mustaffa Johari , Mazlan Ibrahim dan Nur Farhana Abdul Rahman KONSEP ( AMAL JAMA I ) DALAM PERTUBUHAN BUKAN KERAJAAN Rafiza Mohamed , Jaffary Awang , Ahmad Sunawari Long dan Zaizul Ab Rahman.\",\n",
       " '',\n",
       " 'Prosiding Kolokium Siswazah Jabatan Usuluddin dan Falsafah.',\n",
       " '',\n",
       " \"ABU AL-HUJAJ YUSUF BIN MUHAMMAD AL-MIKLATI PENERUS TRADISI KRITIKAN ASHA'IRAH TERHADAP AHLI FALSAFAH Mohd Faizul Azmi , Abdull Rahman Mahmood , Ahmad Sunawari Long dan Ahmad Munawar Ismail ~jnw~ Hsny bkr mws dan Hmmd nwr bn Hlj Hmd ywns FORMULA RASULULLAH S.A.W DALAM PEMBANGUNAN TINGKAH Nor Nazimi Mohd Mustaffa , Jaffary Awang dan Aminuddin Basir PERSEPSI KEFAHAMAN AGAMA DAN TOLERANSI BERAGAMA MEMPENGARUHI AMALAN TOLERANSI BERAGAMA MASYARAKAT Ruhaizah Abdul Ghani dan Jaffary Awang SAADET PARTISI (SP ) DAN ADELAT VE KALKINMA PARTISI ( AKP ): Siti Aisyah Mohamad Zin dan Muhammad Razak Idris MANUSIA DALAM HORIZON PEMIKIRAN PRAGMATISME JOHN Siti Arinah Tukiran , Ahmad Sunawari Long dan Badrul Redzuan Abu Hassan Siti Aminah Hussin , Mohd Arif Nazri dan Ahamad Asmadi Sakat PEMIKIRAN AKIDAH SA'ID HAWWA MENURUT KITAB AL-ASAS FI AL - Nurul Ainshah Muzamli Shah dan Ahmad Yunus Mohd Noor Siti Hanisah Mohd Amin dan Wan Fariza Alyati Wan Zakaria KAJIAN NILAI HADIS DAN ISRAILIYYAT DALAM TAFSIR MIRAH Ahmad Levi Fachrul Avivy dan Mazlan Ibrahim.\",\n",
       " '',\n",
       " 'Prosiding Kolokium Siswazah Jabatan Usuluddin dan Falsafah.',\n",
       " '',\n",
       " 'PLURALISME AGAMA DALAM PERSPEKTIF MUHAMMAD UTHMAN EL Earnie Elmie Hilmi , Kamarudin Salleh dan Nur Farhana Abdul Rahman Mohd Zulhafizi Salim dan Wan Haslan Khairuddin KONSEP TASAWWUF DAN MUKASHAFAH DALAM TAFSIR SHAYKH Shamsul Mohd Nor , Mazlan Ibrahim dan Faudzinaim Badruddin Muhammad Ilham Raduan dan Mazlan Ibrahim ALIRAN AL-QADARIYYAH DAN PERTEMBUNGANNYA DENGAN Muhammad Khairul Ikhwan Mohamed Nasir dan Mohd Haidhar Kamarzaman INTEGRITI DALAM SISTEM AL-WIQAYAH DI MALAYSIA : SATU Muhammad Syahir Abu Bakar , Kamaruddin Salleh dan Wan Fariza Wan Alyati Wan Zakaria ANALISIS TERHADAP SIMBOL SALIB SEBAGAI ASAS KEPADA Muhammad Syahmi Farhan Ab Majid dan Indriaty Ismail ISLAMIC PRACTICE AMONG MUSLIMS IN PUTRAJAYA : A Najwa Amalina Abdul Wahab , Ahmad Munawar Ismail dan Ahmad Yunus Mohd.',\n",
       " '',\n",
       " 'TAFSIRAN \"ISLAM \" PERSPEKTIF MUHAMMAD ASAD : SOROTAN DAN Nurhayati Abdullah dan Kamarudin Salleh KONSEP KAJIAN AWAL SOSIO-AGAMA : HAK KEBEBASAN BERAGAMA Nurulfathonah Mohd Effendy dan Indriaty Ismail.',\n",
       " '',\n",
       " 'Prosiding Kolokium Siswazah Jabatan Usuluddin dan Falsafah.',\n",
       " '',\n",
       " 'SUMBANGAN MAJALAH PENGASUH DALAM MEMPERTAHANKAN Siti Nabilah Azman dan Abdull Rahman Mahmood CABARAN KELANGSUNGAN IDENTITI BAHASA ETNIK ROHINGYA DI Mohd Irfan Mohd Terin , Jaffary Awang dan Muhammad Hilmi Jalil.',\n",
       " '',\n",
       " 'Prosiding Kolokium Siswazah Jabatan Usuluddin dan Falsafah.',\n",
       " '',\n",
       " 'KONSEP AHIMSA MAHATMA GANDHI MENURUT PERSPEKTIF TOKOH HINDU MALAYSIA.',\n",
       " '',\n",
       " 'Zulkeffly Adimun Indriaty Ismail.',\n",
       " '',\n",
       " 'Jabatan Usuluddin dan Falsafah , Fakulti Pengajian Islam Universiti Kebangsaan Malaysia.',\n",
       " '',\n",
       " 'Abstrak : Kekerasan dan keganasan suatu perkara yang ingin dielak oleh semua pihak .',\n",
       " 'Oleh itu konsep tanpa kekerasan menjadi pilihan untuk mengatasi segala permasalahan .',\n",
       " 'Kajian ini akan menyingkap ahimsa di India dan memperkenalkan tokoh ahimsa iaitu Mahatma Gandhi dan konsepnya .',\n",
       " 'Seterusnya kajian akan dilakukan untuk menilai pandangan oleh tokoh-tokoh hindu di Malaysia berkenaan Gandhi dan ahimsanya .',\n",
       " 'Metodologi yang digunakan ialah kualitatif yang memfokuskan kepada kajian perpustakaan dan temubual responden .',\n",
       " 'Bentuk soalan adalah berstruktur dan tidak berstruktur .',\n",
       " 'Penganalisaan data pula melihat dari tema - tema yang berkaitan .',\n",
       " 'Daripada kajian ini didapati bahawa konsep ini secara umumnya amat baik untuk rakyat malaysia yang berbilang bangsa dan pelaksanaannya perlu kerjasama dari semua terutama pihak politik .',\n",
       " '',\n",
       " 'Kata kunci : ahimsa , konsep ahimsa Mahatma Gandhi , agama hindu.',\n",
       " '',\n",
       " 'LATAR BELAKANG.',\n",
       " '',\n",
       " 'Keamanan merupakan suatu yang dicita-citakan oleh semua .',\n",
       " 'Dalam masyarakat yang hidup berbilang kaum ia merupakan satu anugerah yang tidak dapat disangkal lagi .',\n",
       " 'Apabila semua rakyat dapat saling memahami maka semua akan sanggup untuk berkorban demi yang lain tanpa mengira ideologi , agama atau bangsa .',\n",
       " 'Kajian ini akan memfokuskan beberapa agama sebagai fokus iaitu Hinduisme , Jainisme dan Buddhisme ini kerana ahimsa terkandung dalam intipati agama tersebut .',\n",
       " 'Dalam kajian ini juga Gandhi menjadi perbincangan utama dengan dikupas biografinya dan konsep yang menjadi pegangannya .',\n",
       " 'Seterusnya dalam konteks.',\n",
       " '',\n",
       " 'Prosiding Kolokium Siswazah Jabatan Usuluddin dan Falsafah.',\n",
       " '',\n",
       " 'malaysia yang berbilang bangsa , temubual dilakukan kepada tokoh-tokoh hindu bagi mendapatkan pandangan mereka .',\n",
       " 'Konsep Ahimsa boleh dilihat dari tiga agama agama yang berbeza Hindu , Buddha dan Jainisme .',\n",
       " 'Daripada ketiga-tiga agama tersebut , Jainisme menjadikan asas anutannya Konsep Ahimsa .',\n",
       " 'Dengan konsep ini , dunia dianggap sebagai satu organisma hidup yang setiapnya saling bergantungan antara satu-sama lain .',\n",
       " 'Maka apa-apa perbuatan mencederakan hidupan yang lain , dianggap mencederakan diri.',\n",
       " '',\n",
       " 'PERNYATAAN MASALAH.',\n",
       " '',\n",
       " 'Konflik terdapat di mana-mana di atas muka bumi ini sama ada kita sedari ataupun tidak .',\n",
       " 'Namun cara penyelesaian menjadi agenda penting dalam perkara ini .',\n",
       " 'Satu daripadanya adalah dengan menggunakan konsep tanpa kekerasan .',\n",
       " 'Melalui soroton literatur dibawah , terbukti terdapat perbezaan pandangan dan salah faham tentang konsep tanpa kekerasan dan memerlukan satu kajian untuk menjadikannya lebih.',\n",
       " '',\n",
       " 'Kekerasan dalam kajian Kekerasan (violent ) mempunyai bentuk yang pelbagai , sama ada terhadap manusia , haiwan dan alam sekitar .',\n",
       " 'Perkara ini telah merentasi zaman seperti yang dilakukan oleh Nazi di Jerman , Stalin , Khomeini , Pol Pot dan Pinochet ( Foot 1998 ).',\n",
       " 'Persekitaran penuh kekerasan tidak akan menghasilkan kestabilan ekonomi dan keharmonian yang berpanjangan .',\n",
       " 'Infrastuktur dan kemudahan awam sukar untuk dibangunkan bagi kesejahteraan penduduk di sesuatu negara ( Foot 1998 ).',\n",
       " 'Konsep tanpa kekerasan adalah satu konsep yang sangat baik dalam menghilangkan ketidak-adilan dalam pemerintah dan mendatangkan keamanan .',\n",
       " 'Konsep ini telah disalah-fahami dan berlaku kekeliruan terhadapnya sejak lama lagi , seawal 1959 , Sharp menyatakan bahawa terdapat kekeliruan dalam konsep ini kerana ada yang menyamakannya dengan pasifisme dan penentangan pasif .',\n",
       " 'Sekilas pandang juga , mungkin ada yang beranggapan bahawa gerakan tanpa kekerasan itu satu .',\n",
       " 'Namun sebenarnya ia bukan begitu kerana terdapat sembilan jenis gerakan tanpa kekerasan yang mana perbezaan ini dapat dilihat dari penggunaan istilah oleh pengasas gerakan tersebut .',\n",
       " 'Beliau membahagikan setiap istilah dengan sangat teliti .',\n",
       " '',\n",
       " 'Prosiding Kolokium Siswazah Jabatan Usuluddin dan Falsafah.',\n",
       " '',\n",
       " 'Tujuan penulis adalah untuk menerangkan kekaburan dan kekeliruan berkaitan konsep yang sedia ada ini .',\n",
       " 'Selain itu , Galtung (1965 ) turut menjelaskan konsep non - kekerasan dan menjelaskan apa kajian yang perlu dibuat untuk mengembangkan potensi kajian .']"
      ]
     },
     "execution_count": 34,
     "metadata": {},
     "output_type": "execute_result"
    }
   ],
   "source": [
    "output[:100]"
   ]
  },
  {
   "cell_type": "code",
   "execution_count": 35,
   "metadata": {},
   "outputs": [],
   "source": [
    "with open('dumping-pdf.txt', 'w') as fopen:\n",
    "    fopen.write('\\n'.join(output))"
   ]
  }
 ],
 "metadata": {
  "kernelspec": {
   "display_name": "Python 3",
   "language": "python",
   "name": "python3"
  },
  "language_info": {
   "codemirror_mode": {
    "name": "ipython",
    "version": 3
   },
   "file_extension": ".py",
   "mimetype": "text/x-python",
   "name": "python",
   "nbconvert_exporter": "python",
   "pygments_lexer": "ipython3",
   "version": "3.6.8"
  }
 },
 "nbformat": 4,
 "nbformat_minor": 2
}
