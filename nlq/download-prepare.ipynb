{
 "cells": [
  {
   "cell_type": "code",
   "execution_count": 28,
   "metadata": {},
   "outputs": [],
   "source": [
    "# !wget https://f000.backblazeb2.com/file/malay-dataset/sparc.zip\n",
    "# !wget https://f000.backblazeb2.com/file/malay-dataset/spider.zip\n",
    "# !wget https://f000.backblazeb2.com/file/malay-dataset/cosql_dataset.zip"
   ]
  },
  {
   "cell_type": "code",
   "execution_count": 33,
   "metadata": {},
   "outputs": [],
   "source": [
    "# !unzip spider.zip\n",
    "# !unzip cosql_dataset.zip\n",
    "# !unzip sparc.zip"
   ]
  },
  {
   "cell_type": "code",
   "execution_count": 24,
   "metadata": {},
   "outputs": [
    {
     "data": {
      "text/plain": [
       "['spider/dev.json', 'spider/train_spider.json', 'spider/train_others.json']"
      ]
     },
     "execution_count": 24,
     "metadata": {},
     "output_type": "execute_result"
    }
   ],
   "source": [
    "from glob import glob\n",
    "\n",
    "spider = glob('spider/*.json')\n",
    "spider = [i for i in spider if 'tables' not in i]\n",
    "spider"
   ]
  },
  {
   "cell_type": "code",
   "execution_count": 25,
   "metadata": {},
   "outputs": [
    {
     "data": {
      "text/plain": [
       "9693"
      ]
     },
     "execution_count": 25,
     "metadata": {},
     "output_type": "execute_result"
    }
   ],
   "source": [
    "import json\n",
    "\n",
    "spiders = []\n",
    "\n",
    "for file in spider:\n",
    "    with open(file) as fopen:\n",
    "        data = json.load(fopen)\n",
    "        \n",
    "    spiders.extend(data)\n",
    "    \n",
    "len(spiders)"
   ]
  },
  {
   "cell_type": "code",
   "execution_count": 26,
   "metadata": {},
   "outputs": [
    {
     "data": {
      "text/plain": [
       "{'db_id': 'concert_singer',\n",
       " 'query': 'SELECT count(*) FROM singer',\n",
       " 'query_toks': ['SELECT', 'count', '(', '*', ')', 'FROM', 'singer'],\n",
       " 'query_toks_no_value': ['select', 'count', '(', '*', ')', 'from', 'singer'],\n",
       " 'question': 'How many singers do we have?',\n",
       " 'question_toks': ['How', 'many', 'singers', 'do', 'we', 'have', '?'],\n",
       " 'sql': {'except': None,\n",
       "  'from': {'conds': [], 'table_units': [['table_unit', 1]]},\n",
       "  'groupBy': [],\n",
       "  'having': [],\n",
       "  'intersect': None,\n",
       "  'limit': None,\n",
       "  'orderBy': [],\n",
       "  'select': [False, [[3, [0, [0, 0, False], None]]]],\n",
       "  'union': None,\n",
       "  'where': []}}"
      ]
     },
     "execution_count": 26,
     "metadata": {},
     "output_type": "execute_result"
    }
   ],
   "source": [
    "spiders[0]"
   ]
  },
  {
   "cell_type": "code",
   "execution_count": 27,
   "metadata": {},
   "outputs": [],
   "source": [
    "with open('spider.json', 'w') as fopen:\n",
    "    json.dump(spiders, fopen)"
   ]
  },
  {
   "cell_type": "code",
   "execution_count": 37,
   "metadata": {},
   "outputs": [
    {
     "data": {
      "text/plain": [
       "['sparc/dev.json', 'sparc/train.json']"
      ]
     },
     "execution_count": 37,
     "metadata": {},
     "output_type": "execute_result"
    }
   ],
   "source": [
    "sparc = glob('sparc/*.json')\n",
    "sparc = [i for i in sparc if 'tables' not in i]\n",
    "sparc"
   ]
  },
  {
   "cell_type": "code",
   "execution_count": 38,
   "metadata": {},
   "outputs": [],
   "source": [
    "with open('sparc/train.json') as fopen:\n",
    "    data = json.load(fopen)"
   ]
  },
  {
   "cell_type": "code",
   "execution_count": 54,
   "metadata": {},
   "outputs": [
    {
     "data": {
      "text/plain": [
       "'2acd7e3d-7f43-42c8-910f-249f4ec297e8'"
      ]
     },
     "execution_count": 54,
     "metadata": {},
     "output_type": "execute_result"
    }
   ],
   "source": [
    "import uuid\n",
    "\n",
    "str(uuid.uuid4())"
   ]
  },
  {
   "cell_type": "code",
   "execution_count": 55,
   "metadata": {},
   "outputs": [
    {
     "data": {
      "text/plain": [
       "13684"
      ]
     },
     "execution_count": 55,
     "metadata": {},
     "output_type": "execute_result"
    }
   ],
   "source": [
    "sparcs = []\n",
    "\n",
    "for file in sparc:\n",
    "    with open(file) as fopen:\n",
    "        data = json.load(fopen)\n",
    "        \n",
    "    for i in range(len(data)):\n",
    "        d = data[i]['database_id']\n",
    "        u = str(uuid.uuid4())\n",
    "        \n",
    "        for k in range(len(data[i]['interaction'])):\n",
    "            c = data[i]['interaction'][k].copy()\n",
    "            c['k'] = k\n",
    "            c['database_id'] = d\n",
    "            c['uuid'] = u\n",
    "            sparcs.append(c)\n",
    "        c = data[i]['final'].copy()\n",
    "        c['final'] = True\n",
    "        c['database_id'] = d\n",
    "        c['uuid'] = u\n",
    "        sparcs.append(c)\n",
    "\n",
    "len(sparcs)"
   ]
  },
  {
   "cell_type": "code",
   "execution_count": 56,
   "metadata": {},
   "outputs": [
    {
     "data": {
      "text/plain": [
       "[{'query': 'SELECT * FROM AIRLINES',\n",
       "  'utterance_toks': ['What', 'are', 'all', 'the', 'airlines', '?'],\n",
       "  'utterance': 'What are all the airlines?',\n",
       "  'sql': {'orderBy': [],\n",
       "   'from': {'table_units': [['table_unit', 0]], 'conds': []},\n",
       "   'union': None,\n",
       "   'except': None,\n",
       "   'groupBy': [],\n",
       "   'limit': None,\n",
       "   'intersect': None,\n",
       "   'where': [],\n",
       "   'having': [],\n",
       "   'select': [False, [[0, [0, [0, 0, False], None]]]]},\n",
       "  'k': 0,\n",
       "  'database_id': 'flight_2',\n",
       "  'uuid': '2eb917e8-2f27-4553-935d-ffc6df280492'},\n",
       " {'query': 'SELECT * FROM AIRLINES WHERE Airline  =  \"JetBlue Airways\"',\n",
       "  'utterance_toks': ['Of',\n",
       "   'these',\n",
       "   ',',\n",
       "   'which',\n",
       "   'is',\n",
       "   'Jetblue',\n",
       "   'Airways',\n",
       "   '?'],\n",
       "  'utterance': 'Of these, which is Jetblue Airways?',\n",
       "  'sql': {'orderBy': [],\n",
       "   'from': {'table_units': [['table_unit', 0]], 'conds': []},\n",
       "   'union': None,\n",
       "   'except': None,\n",
       "   'groupBy': [],\n",
       "   'limit': None,\n",
       "   'intersect': None,\n",
       "   'where': [[False, 2, [0, [0, 2, False], None], '\"JetBlue Airways\"', None]],\n",
       "   'having': [],\n",
       "   'select': [False, [[0, [0, [0, 0, False], None]]]]},\n",
       "  'k': 1,\n",
       "  'database_id': 'flight_2',\n",
       "  'uuid': '2eb917e8-2f27-4553-935d-ffc6df280492'},\n",
       " {'query': 'SELECT Country FROM AIRLINES WHERE Airline  =  \"JetBlue Airways\"',\n",
       "  'utterance_toks': ['What',\n",
       "   'is',\n",
       "   'the',\n",
       "   'country',\n",
       "   'corresponding',\n",
       "   'it',\n",
       "   '?'],\n",
       "  'utterance': 'What is the country corresponding it?',\n",
       "  'sql': {'orderBy': [],\n",
       "   'from': {'table_units': [['table_unit', 0]], 'conds': []},\n",
       "   'union': None,\n",
       "   'except': None,\n",
       "   'groupBy': [],\n",
       "   'limit': None,\n",
       "   'intersect': None,\n",
       "   'where': [[False, 2, [0, [0, 2, False], None], '\"JetBlue Airways\"', None]],\n",
       "   'having': [],\n",
       "   'select': [False, [[0, [0, [0, 4, False], None]]]]},\n",
       "  'k': 2,\n",
       "  'database_id': 'flight_2',\n",
       "  'uuid': '2eb917e8-2f27-4553-935d-ffc6df280492'},\n",
       " {'query': 'SELECT Country FROM AIRLINES WHERE Airline  =  \"JetBlue Airways\"',\n",
       "  'utterance': 'What country is Jetblue Airways affiliated with?',\n",
       "  'final': True,\n",
       "  'database_id': 'flight_2',\n",
       "  'uuid': '2eb917e8-2f27-4553-935d-ffc6df280492'},\n",
       " {'query': 'SELECT Abbreviation FROM AIRLINES',\n",
       "  'utterance_toks': ['What', 'are', 'all', 'the', 'abbreviations', '?'],\n",
       "  'utterance': 'What are all the abbreviations?',\n",
       "  'sql': {'orderBy': [],\n",
       "   'from': {'table_units': [['table_unit', 0]], 'conds': []},\n",
       "   'union': None,\n",
       "   'except': None,\n",
       "   'groupBy': [],\n",
       "   'limit': None,\n",
       "   'intersect': None,\n",
       "   'where': [],\n",
       "   'having': [],\n",
       "   'select': [False, [[0, [0, [0, 3, False], None]]]]},\n",
       "  'k': 0,\n",
       "  'database_id': 'flight_2',\n",
       "  'uuid': '0a64b28d-f527-49ef-8d2b-db91e789af75'}]"
      ]
     },
     "execution_count": 56,
     "metadata": {},
     "output_type": "execute_result"
    }
   ],
   "source": [
    "sparcs[:5]"
   ]
  },
  {
   "cell_type": "code",
   "execution_count": 57,
   "metadata": {},
   "outputs": [],
   "source": [
    "with open('sparc.json', 'w') as fopen:\n",
    "    json.dump(sparcs, fopen)"
   ]
  },
  {
   "cell_type": "code",
   "execution_count": 64,
   "metadata": {},
   "outputs": [
    {
     "data": {
      "text/plain": [
       "['cosql_dataset/sql_state_tracking/cosql_dev.json',\n",
       " 'cosql_dataset/sql_state_tracking/cosql_train.json']"
      ]
     },
     "execution_count": 64,
     "metadata": {},
     "output_type": "execute_result"
    }
   ],
   "source": [
    "cosql = glob('cosql_dataset/sql_state_tracking/*.json')\n",
    "cosql = [i for i in cosql if 'tables' not in i]\n",
    "cosql"
   ]
  },
  {
   "cell_type": "code",
   "execution_count": 70,
   "metadata": {},
   "outputs": [
    {
     "name": "stdout",
     "output_type": "stream",
     "text": [
      "cosql_dataset/sql_state_tracking/cosql_dev.json\n",
      "cosql_dataset/sql_state_tracking/cosql_train.json\n"
     ]
    },
    {
     "data": {
      "text/plain": [
       "2452"
      ]
     },
     "execution_count": 70,
     "metadata": {},
     "output_type": "execute_result"
    }
   ],
   "source": [
    "cosqls = []\n",
    "\n",
    "for file in cosql:\n",
    "    print(file)\n",
    "    with open(file) as fopen:\n",
    "        data = json.load(fopen)\n",
    "        \n",
    "    for i in range(len(data)):\n",
    "        d = data[i]['database_id']\n",
    "        u = str(uuid.uuid4())\n",
    "        \n",
    "        for k in range(len(data[i]['interaction'])):\n",
    "            c = data[i]['interaction'][k].copy()\n",
    "            c['k'] = k\n",
    "            c['database_id'] = d\n",
    "            c['uuid'] = u\n",
    "            sparcs.append(c)\n",
    "        c = data[i]['final'].copy()\n",
    "        c['final'] = True\n",
    "        c['database_id'] = d\n",
    "        c['uuid'] = u\n",
    "        cosqls.append(c)\n",
    "\n",
    "len(cosqls)"
   ]
  },
  {
   "cell_type": "code",
   "execution_count": 73,
   "metadata": {},
   "outputs": [],
   "source": [
    "with open('cosql.json', 'w') as fopen:\n",
    "    json.dump(cosqls, fopen)"
   ]
  },
  {
   "cell_type": "code",
   "execution_count": null,
   "metadata": {},
   "outputs": [],
   "source": []
  }
 ],
 "metadata": {
  "kernelspec": {
   "display_name": "Python 3",
   "language": "python",
   "name": "python3"
  },
  "language_info": {
   "codemirror_mode": {
    "name": "ipython",
    "version": 3
   },
   "file_extension": ".py",
   "mimetype": "text/x-python",
   "name": "python",
   "nbconvert_exporter": "python",
   "pygments_lexer": "ipython3",
   "version": "3.6.8"
  }
 },
 "nbformat": 4,
 "nbformat_minor": 2
}
