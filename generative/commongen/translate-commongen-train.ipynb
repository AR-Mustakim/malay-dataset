{
 "cells": [
  {
   "cell_type": "code",
   "execution_count": 1,
   "metadata": {},
   "outputs": [],
   "source": [
    "import os\n",
    "os.environ['CUDA_VISIBLE_DEVICES'] = ''"
   ]
  },
  {
   "cell_type": "code",
   "execution_count": 2,
   "metadata": {},
   "outputs": [],
   "source": [
    "import json\n",
    "import malaya\n",
    "from tqdm import tqdm"
   ]
  },
  {
   "cell_type": "code",
   "execution_count": 3,
   "metadata": {},
   "outputs": [],
   "source": [
    "transformer = malaya.translation.en_ms.transformer()"
   ]
  },
  {
   "cell_type": "code",
   "execution_count": 4,
   "metadata": {},
   "outputs": [
    {
     "data": {
      "text/plain": [
       "32651"
      ]
     },
     "execution_count": 4,
     "metadata": {},
     "output_type": "execute_result"
    }
   ],
   "source": [
    "with open('commongen_data/commongen.train.jsonl') as fopen:\n",
    "    lines = fopen.read().split('\\n')\n",
    "len(lines)"
   ]
  },
  {
   "cell_type": "code",
   "execution_count": 5,
   "metadata": {},
   "outputs": [
    {
     "data": {
      "text/plain": [
       "'{\"concept_set\": \"mountain#ski#skier\", \"scene\": [\"Skier skis down the mountain\", \"A skier is skiing down a mountain.\", \"Three skiers are skiing on a snowy mountain.\"]}'"
      ]
     },
     "execution_count": 5,
     "metadata": {},
     "output_type": "execute_result"
    }
   ],
   "source": [
    "lines[0]"
   ]
  },
  {
   "cell_type": "code",
   "execution_count": 6,
   "metadata": {},
   "outputs": [
    {
     "name": "stderr",
     "output_type": "stream",
     "text": [
      "100%|██████████| 32651/32651 [3:01:51<00:00,  2.99it/s]  \n"
     ]
    }
   ],
   "source": [
    "results = []\n",
    "for line in tqdm(lines):\n",
    "    try:\n",
    "        l = json.loads(line)\n",
    "        concept_set_ms = transformer.greedy_decoder(l['concept_set'].split('#'))\n",
    "        scene_ms = transformer.greedy_decoder(l['scene'])\n",
    "        l['concept_set_ms'] = concept_set_ms\n",
    "        l['scene_ms'] = scene_ms\n",
    "        results.append(l)\n",
    "    except Exception as e:\n",
    "        print(e)"
   ]
  },
  {
   "cell_type": "code",
   "execution_count": 7,
   "metadata": {},
   "outputs": [
    {
     "data": {
      "text/plain": [
       "{'concept_set': 'mountain#ski#skier',\n",
       " 'scene': ['Skier skis down the mountain',\n",
       "  'A skier is skiing down a mountain.',\n",
       "  'Three skiers are skiing on a snowy mountain.'],\n",
       " 'concept_set_ms': ['gunung', 'ski', 'pemain ski'],\n",
       " 'scene_ms': ['Skier ski turun gunung',\n",
       "  'Seorang pemain ski sedang bermain ski di gunung.',\n",
       "  'Tiga pemain ski bermain ski di gunung bersalji.']}"
      ]
     },
     "execution_count": 7,
     "metadata": {},
     "output_type": "execute_result"
    }
   ],
   "source": [
    "results[0]"
   ]
  },
  {
   "cell_type": "code",
   "execution_count": 8,
   "metadata": {},
   "outputs": [
    {
     "data": {
      "text/plain": [
       "32651"
      ]
     },
     "execution_count": 8,
     "metadata": {},
     "output_type": "execute_result"
    }
   ],
   "source": [
    "len(results)"
   ]
  },
  {
   "cell_type": "code",
   "execution_count": 9,
   "metadata": {},
   "outputs": [],
   "source": [
    "with open('translated-commongen-train.json', 'w') as fopen:\n",
    "    json.dump(results, fopen)"
   ]
  }
 ],
 "metadata": {
  "kernelspec": {
   "display_name": "Python 3",
   "language": "python",
   "name": "python3"
  },
  "language_info": {
   "codemirror_mode": {
    "name": "ipython",
    "version": 3
   },
   "file_extension": ".py",
   "mimetype": "text/x-python",
   "name": "python",
   "nbconvert_exporter": "python",
   "pygments_lexer": "ipython3",
   "version": "3.6.9"
  }
 },
 "nbformat": 4,
 "nbformat_minor": 2
}
