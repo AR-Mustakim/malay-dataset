{
 "cells": [
  {
   "cell_type": "code",
   "execution_count": 1,
   "metadata": {},
   "outputs": [],
   "source": [
    "import json"
   ]
  },
  {
   "cell_type": "code",
   "execution_count": 2,
   "metadata": {},
   "outputs": [
    {
     "data": {
      "text/plain": [
       "695571"
      ]
     },
     "execution_count": 2,
     "metadata": {},
     "output_type": "execute_result"
    }
   ],
   "source": [
    "with open('../dumping-instagram-6-july-2019.json') as fopen:\n",
    "    instagram = json.load(fopen)\n",
    "    \n",
    "len(instagram)"
   ]
  },
  {
   "cell_type": "code",
   "execution_count": 3,
   "metadata": {},
   "outputs": [
    {
     "data": {
      "text/plain": [
       "6597867"
      ]
     },
     "execution_count": 3,
     "metadata": {},
     "output_type": "execute_result"
    }
   ],
   "source": [
    "with open('../dumping-twitter-6-july-2019.json') as fopen:\n",
    "    twitter = json.load(fopen)\n",
    "    \n",
    "len(twitter)"
   ]
  },
  {
   "cell_type": "code",
   "execution_count": 4,
   "metadata": {},
   "outputs": [],
   "source": [
    "import cleaning"
   ]
  },
  {
   "cell_type": "code",
   "execution_count": 5,
   "metadata": {},
   "outputs": [],
   "source": [
    "twitter = twitter + instagram"
   ]
  },
  {
   "cell_type": "code",
   "execution_count": 6,
   "metadata": {},
   "outputs": [
    {
     "name": "stderr",
     "output_type": "stream",
     "text": [
      "100%|██████████| 455839/455839 [00:26<00:00, 17382.60it/s]\n",
      "100%|██████████| 14/14 [00:00<00:00, 3264.23it/s]7.81it/s]\n",
      "100%|██████████| 455839/455839 [00:26<00:00, 17423.18it/s]\n",
      "100%|██████████| 455839/455839 [00:25<00:00, 17716.74it/s]\n",
      "100%|██████████| 455839/455839 [00:26<00:00, 17340.28it/s]\n",
      "100%|██████████| 455839/455839 [00:26<00:00, 16907.00it/s]\n",
      "100%|██████████| 455839/455839 [00:26<00:00, 17140.58it/s]\n",
      "100%|██████████| 455839/455839 [00:26<00:00, 17338.19it/s]\n",
      " 97%|█████████▋| 441638/455839 [00:25<00:00, 20547.10it/s]\n",
      "100%|██████████| 455839/455839 [00:26<00:00, 17086.99it/s]\n",
      "100%|██████████| 455839/455839 [00:26<00:00, 17057.00it/s]\n",
      "100%|██████████| 455839/455839 [00:26<00:00, 17144.65it/s]\n",
      "100%|██████████| 455839/455839 [00:26<00:00, 17382.93it/s]\n",
      "100%|██████████| 455839/455839 [00:26<00:00, 17024.74it/s]\n",
      "100%|██████████| 455839/455839 [00:26<00:00, 17064.39it/s]\n",
      "100%|██████████| 455839/455839 [01:28<00:00, 5148.77it/s]\n",
      "100%|██████████| 455839/455839 [02:23<00:00, 3168.73it/s]\n"
     ]
    },
    {
     "name": "stdout",
     "output_type": "stream",
     "text": [
      "CPU times: user 7.56 s, sys: 5.87 s, total: 13.4 s\n",
      "Wall time: 2min 32s\n"
     ]
    }
   ],
   "source": [
    "%%time\n",
    "\n",
    "twitter = cleaning.multiprocessing(twitter, cleaning.cleaning_strings)"
   ]
  },
  {
   "cell_type": "code",
   "execution_count": 7,
   "metadata": {},
   "outputs": [
    {
     "name": "stdout",
     "output_type": "stream",
     "text": [
      "CPU times: user 5.21 s, sys: 2.46 s, total: 7.67 s\n",
      "Wall time: 14.8 s\n"
     ]
    }
   ],
   "source": [
    "%%time\n",
    "\n",
    "temp_vocab = list(set(cleaning.multiprocessing(twitter, cleaning.unique_words)))"
   ]
  },
  {
   "cell_type": "code",
   "execution_count": 8,
   "metadata": {},
   "outputs": [
    {
     "name": "stdout",
     "output_type": "stream",
     "text": [
      "572032\n",
      "CPU times: user 3.06 s, sys: 1.03 s, total: 4.09 s\n",
      "Wall time: 8.77 s\n"
     ]
    }
   ],
   "source": [
    "%%time\n",
    "temp_dict = cleaning.multiprocessing(temp_vocab, cleaning.duplicate_dots_marks_exclamations, list_mode = False)\n",
    "print(len(temp_dict))"
   ]
  },
  {
   "cell_type": "code",
   "execution_count": 9,
   "metadata": {},
   "outputs": [
    {
     "name": "stderr",
     "output_type": "stream",
     "text": [
      "100%|██████████| 455839/455839 [00:02<00:00, 187915.30it/s]\n",
      "100%|██████████| 455839/455839 [00:02<00:00, 190005.09it/s]\n",
      "100%|██████████| 455839/455839 [00:02<00:00, 189301.97it/s]\n",
      "100%|██████████| 455839/455839 [00:02<00:00, 188503.04it/s]\n",
      "100%|██████████| 455839/455839 [00:02<00:00, 187468.72it/s]\n",
      "100%|██████████| 455839/455839 [00:02<00:00, 187122.14it/s]\n",
      "100%|██████████| 455839/455839 [00:02<00:00, 182947.61it/s]\n",
      "100%|██████████| 455839/455839 [00:02<00:00, 169974.16it/s]\n",
      "100%|██████████| 455839/455839 [00:02<00:00, 162893.56it/s]\n",
      "100%|██████████| 455839/455839 [00:02<00:00, 170598.40it/s]\n",
      "100%|██████████| 455839/455839 [00:02<00:00, 162553.53it/s]\n",
      "100%|██████████| 455839/455839 [00:02<00:00, 165587.36it/s]\n",
      "100%|██████████| 455839/455839 [00:02<00:00, 177017.75it/s]\n",
      "100%|██████████| 14/14 [00:00<00:00, 20859.77it/s]6.06it/s]\n",
      "100%|██████████| 455839/455839 [00:02<00:00, 179281.20it/s]\n",
      "100%|██████████| 455839/455839 [00:07<00:00, 60313.58it/s] \n",
      "100%|██████████| 455839/455839 [00:10<00:00, 41666.40it/s]\n"
     ]
    },
    {
     "name": "stdout",
     "output_type": "stream",
     "text": [
      "CPU times: user 10.7 s, sys: 5.54 s, total: 16.2 s\n",
      "Wall time: 27.3 s\n"
     ]
    }
   ],
   "source": [
    "%%time\n",
    "\n",
    "twitter = cleaning.multiprocessing_multiple(twitter, temp_dict, cleaning.string_dict_cleaning)"
   ]
  },
  {
   "cell_type": "code",
   "execution_count": 10,
   "metadata": {},
   "outputs": [
    {
     "name": "stdout",
     "output_type": "stream",
     "text": [
      "1153\n",
      "CPU times: user 1.24 s, sys: 1.13 s, total: 2.37 s\n",
      "Wall time: 3.14 s\n"
     ]
    }
   ],
   "source": [
    "%%time\n",
    "temp_dict = cleaning.multiprocessing(temp_vocab, cleaning.remove_underscore, list_mode = False)\n",
    "print(len(temp_dict))"
   ]
  },
  {
   "cell_type": "code",
   "execution_count": 11,
   "metadata": {},
   "outputs": [
    {
     "name": "stderr",
     "output_type": "stream",
     "text": [
      "100%|██████████| 455839/455839 [00:02<00:00, 183541.86it/s]\n",
      "100%|██████████| 455839/455839 [00:02<00:00, 192596.98it/s]\n",
      "100%|██████████| 455839/455839 [00:02<00:00, 189797.78it/s]\n",
      "100%|██████████| 455839/455839 [00:02<00:00, 196829.76it/s]\n",
      "100%|██████████| 455839/455839 [00:02<00:00, 193904.02it/s]\n",
      "100%|██████████| 455839/455839 [00:02<00:00, 208952.62it/s]\n",
      "100%|██████████| 14/14 [00:00<00:00, 17869.83it/s]5.65it/s]\n",
      "100%|██████████| 455839/455839 [00:02<00:00, 198251.38it/s]\n",
      "100%|██████████| 455839/455839 [00:02<00:00, 192123.15it/s]\n",
      "100%|██████████| 455839/455839 [00:02<00:00, 200718.56it/s]\n",
      "100%|██████████| 455839/455839 [00:02<00:00, 205964.26it/s]\n",
      "100%|██████████| 455839/455839 [00:02<00:00, 211256.08it/s]\n",
      "100%|██████████| 455839/455839 [00:02<00:00, 215341.69it/s]\n",
      "100%|██████████| 455839/455839 [00:02<00:00, 216489.68it/s]\n",
      "100%|██████████| 455839/455839 [00:02<00:00, 214061.26it/s]\n",
      "100%|██████████| 455839/455839 [00:06<00:00, 71100.45it/s] \n",
      "100%|██████████| 455839/455839 [00:10<00:00, 43664.51it/s]\n"
     ]
    },
    {
     "name": "stdout",
     "output_type": "stream",
     "text": [
      "CPU times: user 4.51 s, sys: 3.63 s, total: 8.14 s\n",
      "Wall time: 17.5 s\n"
     ]
    }
   ],
   "source": [
    "%%time\n",
    "\n",
    "twitter = cleaning.multiprocessing_multiple(twitter, temp_dict, cleaning.string_dict_cleaning)"
   ]
  },
  {
   "cell_type": "code",
   "execution_count": 12,
   "metadata": {},
   "outputs": [
    {
     "name": "stdout",
     "output_type": "stream",
     "text": [
      "522\n",
      "CPU times: user 1.11 s, sys: 1.2 s, total: 2.31 s\n",
      "Wall time: 3.1 s\n"
     ]
    }
   ],
   "source": [
    "%%time\n",
    "temp_dict = cleaning.multiprocessing(temp_vocab, cleaning.isolate_spamchars, list_mode = False)\n",
    "print(len(temp_dict))"
   ]
  },
  {
   "cell_type": "code",
   "execution_count": 13,
   "metadata": {},
   "outputs": [
    {
     "name": "stderr",
     "output_type": "stream",
     "text": [
      "100%|██████████| 455839/455839 [00:02<00:00, 179704.19it/s]\n",
      "100%|██████████| 455839/455839 [00:02<00:00, 183822.68it/s]\n",
      "100%|██████████| 455839/455839 [00:02<00:00, 171436.26it/s]\n",
      "100%|██████████| 455839/455839 [00:02<00:00, 187232.61it/s]\n",
      "100%|██████████| 455839/455839 [00:02<00:00, 166281.95it/s]\n",
      "100%|██████████| 14/14 [00:00<00:00, 18028.94it/s]2.17it/s]\n",
      "100%|██████████| 455839/455839 [00:02<00:00, 163292.23it/s]\n",
      "100%|██████████| 455839/455839 [00:02<00:00, 174076.71it/s]\n",
      "100%|██████████| 455839/455839 [00:03<00:00, 151059.08it/s]\n",
      "100%|██████████| 455839/455839 [00:03<00:00, 147167.82it/s]\n",
      "100%|██████████| 455839/455839 [00:03<00:00, 142274.00it/s]\n",
      "100%|██████████| 455839/455839 [00:03<00:00, 147763.72it/s]\n",
      "100%|██████████| 455839/455839 [00:03<00:00, 145287.88it/s]\n",
      "100%|██████████| 455839/455839 [00:02<00:00, 182915.30it/s]\n",
      "100%|██████████| 455839/455839 [00:02<00:00, 166991.14it/s]\n",
      "100%|██████████| 455839/455839 [00:06<00:00, 67048.09it/s]\n",
      "100%|██████████| 455839/455839 [00:10<00:00, 42015.07it/s]\n"
     ]
    },
    {
     "name": "stdout",
     "output_type": "stream",
     "text": [
      "CPU times: user 5.24 s, sys: 3.43 s, total: 8.68 s\n",
      "Wall time: 19.4 s\n"
     ]
    }
   ],
   "source": [
    "%%time\n",
    "\n",
    "twitter = cleaning.multiprocessing_multiple(twitter, temp_dict, cleaning.string_dict_cleaning)"
   ]
  },
  {
   "cell_type": "code",
   "execution_count": 14,
   "metadata": {},
   "outputs": [
    {
     "name": "stdout",
     "output_type": "stream",
     "text": [
      "115961\n",
      "CPU times: user 1.6 s, sys: 1.26 s, total: 2.86 s\n",
      "Wall time: 3.22 s\n"
     ]
    }
   ],
   "source": [
    "%%time\n",
    "temp_dict = cleaning.multiprocessing(temp_vocab, cleaning.break_short_words, list_mode = False)\n",
    "print(len(temp_dict))"
   ]
  },
  {
   "cell_type": "code",
   "execution_count": 15,
   "metadata": {},
   "outputs": [
    {
     "name": "stderr",
     "output_type": "stream",
     "text": [
      "100%|██████████| 455839/455839 [00:03<00:00, 145966.16it/s]\n",
      "100%|██████████| 455839/455839 [00:02<00:00, 154387.92it/s]\n",
      "100%|██████████| 455839/455839 [00:02<00:00, 162509.48it/s]\n",
      " 91%|█████████ | 413411/455839 [00:02<00:00, 167849.44it/s]\n",
      "100%|██████████| 455839/455839 [00:02<00:00, 156380.53it/s]\n",
      "100%|██████████| 14/14 [00:00<00:00, 8937.63it/s]07.81it/s]\n",
      "100%|██████████| 455839/455839 [00:02<00:00, 159801.29it/s]\n",
      "100%|██████████| 455839/455839 [00:03<00:00, 144252.56it/s]\n",
      "100%|██████████| 455839/455839 [00:02<00:00, 164275.91it/s]\n",
      "100%|██████████| 455839/455839 [00:03<00:00, 147587.80it/s]\n",
      "100%|██████████| 455839/455839 [00:03<00:00, 151685.51it/s]\n",
      "100%|██████████| 455839/455839 [00:02<00:00, 161843.57it/s]\n",
      "100%|██████████| 455839/455839 [00:02<00:00, 160936.58it/s]\n",
      "100%|██████████| 455839/455839 [00:02<00:00, 162114.49it/s]\n",
      "100%|██████████| 455839/455839 [00:02<00:00, 165875.42it/s]\n",
      "100%|██████████| 455839/455839 [00:07<00:00, 61789.73it/s]\n",
      "100%|██████████| 455839/455839 [00:11<00:00, 39389.09it/s]\n"
     ]
    },
    {
     "name": "stdout",
     "output_type": "stream",
     "text": [
      "CPU times: user 5.79 s, sys: 3.62 s, total: 9.41 s\n",
      "Wall time: 20.1 s\n"
     ]
    }
   ],
   "source": [
    "%%time\n",
    "\n",
    "twitter = cleaning.multiprocessing_multiple(twitter, temp_dict, cleaning.string_dict_cleaning)"
   ]
  },
  {
   "cell_type": "code",
   "execution_count": 16,
   "metadata": {},
   "outputs": [
    {
     "name": "stdout",
     "output_type": "stream",
     "text": [
      "17506\n",
      "CPU times: user 1.22 s, sys: 1.18 s, total: 2.4 s\n",
      "Wall time: 2.68 s\n"
     ]
    }
   ],
   "source": [
    "%%time\n",
    "temp_dict = cleaning.multiprocessing(temp_vocab, cleaning.break_long_words, list_mode = False)\n",
    "print(len(temp_dict))"
   ]
  },
  {
   "cell_type": "code",
   "execution_count": 17,
   "metadata": {},
   "outputs": [
    {
     "name": "stderr",
     "output_type": "stream",
     "text": [
      " 90%|█████████ | 411641/455839 [00:02<00:00, 120197.74it/s]\n",
      "100%|██████████| 455839/455839 [00:02<00:00, 157717.98it/s]\n",
      "100%|██████████| 455839/455839 [00:02<00:00, 168296.23it/s]\n",
      "100%|██████████| 455839/455839 [00:02<00:00, 156302.45it/s]\n",
      "100%|██████████| 455839/455839 [00:02<00:00, 159507.91it/s]\n",
      "100%|██████████| 14/14 [00:00<00:00, 26028.48it/s]\n",
      " 23%|██▎       | 106123/455839 [00:00<00:02, 174502.43it/s]\n",
      " 98%|█████████▊| 445942/455839 [00:02<00:00, 187621.17it/s]\n",
      "100%|██████████| 455839/455839 [00:02<00:00, 167542.53it/s]\n",
      "100%|██████████| 455839/455839 [00:02<00:00, 159434.41it/s]\n",
      "100%|██████████| 455839/455839 [00:02<00:00, 158556.76it/s]\n",
      "100%|██████████| 455839/455839 [00:02<00:00, 177489.22it/s]\n",
      "100%|██████████| 455839/455839 [00:02<00:00, 160465.84it/s]\n",
      "100%|██████████| 455839/455839 [00:02<00:00, 183879.43it/s]\n",
      "100%|██████████| 455839/455839 [00:02<00:00, 159015.36it/s]\n",
      "100%|██████████| 455839/455839 [00:06<00:00, 66845.66it/s]\n",
      "100%|██████████| 455839/455839 [00:10<00:00, 41838.87it/s]\n"
     ]
    },
    {
     "name": "stdout",
     "output_type": "stream",
     "text": [
      "CPU times: user 5.1 s, sys: 3.55 s, total: 8.65 s\n",
      "Wall time: 18.7 s\n"
     ]
    }
   ],
   "source": [
    "%%time\n",
    "\n",
    "twitter = cleaning.multiprocessing_multiple(twitter, temp_dict, cleaning.string_dict_cleaning)"
   ]
  },
  {
   "cell_type": "code",
   "execution_count": 18,
   "metadata": {},
   "outputs": [
    {
     "name": "stdout",
     "output_type": "stream",
     "text": [
      "4245\n",
      "CPU times: user 1.2 s, sys: 1.29 s, total: 2.49 s\n",
      "Wall time: 2.79 s\n"
     ]
    }
   ],
   "source": [
    "%%time\n",
    "temp_dict = cleaning.multiprocessing(temp_vocab, cleaning.remove_ending_underscore, list_mode = False)\n",
    "print(len(temp_dict))"
   ]
  },
  {
   "cell_type": "code",
   "execution_count": 19,
   "metadata": {},
   "outputs": [
    {
     "name": "stderr",
     "output_type": "stream",
     "text": [
      "100%|██████████| 455839/455839 [00:02<00:00, 191942.75it/s]\n",
      "100%|██████████| 455839/455839 [00:02<00:00, 166884.31it/s]\n",
      " 67%|██████▋   | 304010/455839 [00:02<00:00, 154029.80it/s]\n",
      "100%|██████████| 455839/455839 [00:02<00:00, 174157.37it/s]\n",
      "100%|██████████| 455839/455839 [00:02<00:00, 165731.50it/s]\n",
      " 64%|██████▎   | 290497/455839 [00:01<00:01, 132889.54it/s]\n",
      "100%|██████████| 14/14 [00:00<00:00, 17660.23it/s]6.17it/s]\n",
      "100%|██████████| 455839/455839 [00:03<00:00, 149605.28it/s]\n",
      "100%|██████████| 455839/455839 [00:02<00:00, 157978.28it/s]\n",
      " 92%|█████████▏| 419373/455839 [00:02<00:00, 168570.34it/s]\n",
      "  7%|▋         | 30350/455839 [00:00<00:09, 43268.92it/s]s]\n",
      "100%|██████████| 455839/455839 [00:02<00:00, 158194.42it/s]\n",
      "100%|██████████| 455839/455839 [00:02<00:00, 181441.44it/s]\n",
      "  8%|▊         | 34346/455839 [00:00<00:10, 41828.21it/s]\n",
      " 98%|█████████▊| 445371/455839 [00:02<00:00, 196132.49it/s]\n",
      "100%|██████████| 455839/455839 [00:06<00:00, 67281.02it/s]]\n",
      "100%|██████████| 455839/455839 [00:10<00:00, 42362.98it/s]\n"
     ]
    },
    {
     "name": "stdout",
     "output_type": "stream",
     "text": [
      "CPU times: user 4.88 s, sys: 3.96 s, total: 8.84 s\n",
      "Wall time: 18.6 s\n"
     ]
    }
   ],
   "source": [
    "%%time\n",
    "\n",
    "twitter = cleaning.multiprocessing_multiple(twitter, temp_dict, cleaning.string_dict_cleaning)"
   ]
  },
  {
   "cell_type": "code",
   "execution_count": 20,
   "metadata": {},
   "outputs": [
    {
     "name": "stdout",
     "output_type": "stream",
     "text": [
      "3474\n",
      "CPU times: user 1.2 s, sys: 1.38 s, total: 2.58 s\n",
      "Wall time: 2.89 s\n"
     ]
    }
   ],
   "source": [
    "%%time\n",
    "temp_dict = cleaning.multiprocessing(temp_vocab, cleaning.remove_starting_underscore, list_mode = False)\n",
    "print(len(temp_dict))"
   ]
  },
  {
   "cell_type": "code",
   "execution_count": 21,
   "metadata": {},
   "outputs": [
    {
     "name": "stderr",
     "output_type": "stream",
     "text": [
      "100%|██████████| 455839/455839 [00:02<00:00, 187388.27it/s]\n",
      "100%|██████████| 455839/455839 [00:02<00:00, 160990.40it/s]\n",
      "100%|██████████| 455839/455839 [00:02<00:00, 160164.38it/s]\n",
      "100%|██████████| 455839/455839 [00:02<00:00, 182981.63it/s]\n",
      "100%|██████████| 455839/455839 [00:02<00:00, 170511.79it/s]\n",
      "100%|██████████| 14/14 [00:00<00:00, 17372.86it/s]0.61it/s]\n",
      "100%|██████████| 455839/455839 [00:02<00:00, 152787.88it/s]\n",
      "  1%|          | 3662/455839 [00:00<00:12, 36608.95it/s]/s]\n",
      "100%|██████████| 455839/455839 [00:02<00:00, 169674.95it/s]\n",
      "100%|██████████| 455839/455839 [00:02<00:00, 166628.87it/s]\n",
      "100%|██████████| 455839/455839 [00:02<00:00, 169038.84it/s]\n",
      "100%|██████████| 455839/455839 [00:02<00:00, 152705.40it/s]\n",
      "100%|██████████| 455839/455839 [00:02<00:00, 174196.41it/s]\n",
      "100%|██████████| 455839/455839 [00:02<00:00, 181278.21it/s]\n",
      "100%|██████████| 455839/455839 [00:02<00:00, 165964.20it/s]\n",
      "100%|██████████| 455839/455839 [00:07<00:00, 59670.27it/s]\n",
      "100%|██████████| 455839/455839 [00:11<00:00, 39353.04it/s]\n"
     ]
    },
    {
     "name": "stdout",
     "output_type": "stream",
     "text": [
      "CPU times: user 4.75 s, sys: 3.49 s, total: 8.24 s\n",
      "Wall time: 19.3 s\n"
     ]
    }
   ],
   "source": [
    "%%time\n",
    "\n",
    "twitter = cleaning.multiprocessing_multiple(twitter, temp_dict, cleaning.string_dict_cleaning)"
   ]
  },
  {
   "cell_type": "code",
   "execution_count": 22,
   "metadata": {},
   "outputs": [
    {
     "name": "stdout",
     "output_type": "stream",
     "text": [
      "1384596\n",
      "CPU times: user 6.43 s, sys: 1.55 s, total: 7.98 s\n",
      "Wall time: 8.16 s\n"
     ]
    }
   ],
   "source": [
    "%%time\n",
    "temp_dict = cleaning.multiprocessing(temp_vocab, cleaning.end_punct, list_mode = False)\n",
    "print(len(temp_dict))"
   ]
  },
  {
   "cell_type": "code",
   "execution_count": 23,
   "metadata": {},
   "outputs": [
    {
     "name": "stderr",
     "output_type": "stream",
     "text": [
      "100%|██████████| 455839/455839 [00:03<00:00, 140664.32it/s]\n",
      "100%|██████████| 455839/455839 [00:03<00:00, 147386.57it/s]\n",
      "100%|██████████| 455839/455839 [00:03<00:00, 145247.60it/s]\n",
      "100%|██████████| 455839/455839 [00:03<00:00, 136135.21it/s]\n",
      "100%|██████████| 455839/455839 [00:03<00:00, 132588.91it/s]\n",
      "100%|██████████| 455839/455839 [00:03<00:00, 136130.96it/s]\n",
      "100%|██████████| 455839/455839 [00:03<00:00, 128853.05it/s]\n",
      "100%|██████████| 455839/455839 [00:03<00:00, 135003.61it/s]\n",
      "100%|██████████| 455839/455839 [00:03<00:00, 129569.45it/s]\n",
      "100%|██████████| 455839/455839 [00:03<00:00, 132239.46it/s]\n",
      "100%|██████████| 455839/455839 [00:03<00:00, 132545.50it/s]\n",
      "100%|██████████| 455839/455839 [00:03<00:00, 145134.47it/s]\n",
      "100%|██████████| 455839/455839 [00:03<00:00, 143292.93it/s]\n",
      "100%|██████████| 455839/455839 [00:03<00:00, 142548.30it/s]\n",
      "100%|██████████| 14/14 [00:00<00:00, 13057.65it/s]6it/s]s] \n",
      "100%|██████████| 455839/455839 [00:08<00:00, 54337.70it/s]\n",
      "100%|██████████| 455839/455839 [00:13<00:00, 34325.88it/s]\n"
     ]
    },
    {
     "name": "stdout",
     "output_type": "stream",
     "text": [
      "CPU times: user 20.9 s, sys: 6.36 s, total: 27.2 s\n",
      "Wall time: 40.6 s\n"
     ]
    }
   ],
   "source": [
    "%%time\n",
    "\n",
    "twitter = cleaning.multiprocessing_multiple(twitter, temp_dict, cleaning.string_dict_cleaning)"
   ]
  },
  {
   "cell_type": "code",
   "execution_count": 24,
   "metadata": {},
   "outputs": [
    {
     "name": "stdout",
     "output_type": "stream",
     "text": [
      "318358\n",
      "CPU times: user 2.43 s, sys: 1.38 s, total: 3.81 s\n",
      "Wall time: 4.03 s\n"
     ]
    }
   ],
   "source": [
    "%%time\n",
    "temp_dict = cleaning.multiprocessing(temp_vocab, cleaning.start_punct, list_mode = False)\n",
    "print(len(temp_dict))"
   ]
  },
  {
   "cell_type": "code",
   "execution_count": 25,
   "metadata": {},
   "outputs": [
    {
     "name": "stderr",
     "output_type": "stream",
     "text": [
      "100%|██████████| 455839/455839 [00:02<00:00, 156459.76it/s]\n",
      "100%|██████████| 455839/455839 [00:03<00:00, 148630.40it/s]\n",
      "100%|██████████| 455839/455839 [00:02<00:00, 153742.20it/s]\n",
      "100%|██████████| 455839/455839 [00:02<00:00, 152409.77it/s]\n",
      "100%|██████████| 455839/455839 [00:02<00:00, 153846.39it/s]\n",
      "100%|██████████| 455839/455839 [00:02<00:00, 152098.93it/s]\n",
      "100%|██████████| 455839/455839 [00:02<00:00, 159837.97it/s]\n",
      "100%|██████████| 455839/455839 [00:03<00:00, 135955.30it/s]\n",
      "100%|██████████| 455839/455839 [00:03<00:00, 147549.20it/s]\n",
      "100%|██████████| 455839/455839 [00:03<00:00, 140140.48it/s]\n",
      "100%|██████████| 455839/455839 [00:02<00:00, 156543.32it/s]\n",
      "100%|██████████| 14/14 [00:00<00:00, 18960.37it/s]2.54it/s]\n",
      "100%|██████████| 455839/455839 [00:02<00:00, 152657.80it/s]\n",
      "100%|██████████| 455839/455839 [00:03<00:00, 149750.60it/s]\n",
      "100%|██████████| 455839/455839 [00:02<00:00, 154142.17it/s]\n",
      "100%|██████████| 455839/455839 [00:08<00:00, 56348.40it/s]\n",
      "100%|██████████| 455839/455839 [00:13<00:00, 34425.16it/s]\n"
     ]
    },
    {
     "name": "stdout",
     "output_type": "stream",
     "text": [
      "CPU times: user 8.05 s, sys: 4.53 s, total: 12.6 s\n",
      "Wall time: 24.9 s\n"
     ]
    }
   ],
   "source": [
    "%%time\n",
    "\n",
    "twitter = cleaning.multiprocessing_multiple(twitter, temp_dict, cleaning.string_dict_cleaning)"
   ]
  },
  {
   "cell_type": "code",
   "execution_count": 26,
   "metadata": {},
   "outputs": [
    {
     "name": "stdout",
     "output_type": "stream",
     "text": [
      "3520\n",
      "CPU times: user 1.15 s, sys: 1.48 s, total: 2.63 s\n",
      "Wall time: 3.23 s\n"
     ]
    }
   ],
   "source": [
    "%%time\n",
    "temp_dict = cleaning.multiprocessing(temp_vocab, cleaning.join_dashes, list_mode = False)\n",
    "print(len(temp_dict))"
   ]
  },
  {
   "cell_type": "code",
   "execution_count": 27,
   "metadata": {},
   "outputs": [
    {
     "name": "stderr",
     "output_type": "stream",
     "text": [
      " 22%|██▏       | 98780/455839 [00:00<00:02, 120981.03it/s]]\n",
      "100%|██████████| 455839/455839 [00:02<00:00, 177074.38it/s]\n",
      "100%|██████████| 455839/455839 [00:02<00:00, 164292.26it/s]\n",
      "100%|██████████| 455839/455839 [00:02<00:00, 172077.04it/s]\n",
      "100%|██████████| 14/14 [00:00<00:00, 16564.25it/s]9.48it/s]\n",
      "100%|██████████| 455839/455839 [00:02<00:00, 173162.52it/s]\n",
      "100%|██████████| 455839/455839 [00:02<00:00, 170421.78it/s]\n",
      "100%|██████████| 455839/455839 [00:02<00:00, 158714.55it/s]\n",
      "100%|██████████| 455839/455839 [00:03<00:00, 139385.20it/s]\n",
      "100%|██████████| 455839/455839 [00:02<00:00, 165861.29it/s]\n",
      "100%|██████████| 455839/455839 [00:02<00:00, 153883.57it/s]\n",
      "100%|██████████| 455839/455839 [00:02<00:00, 156974.18it/s]\n",
      "100%|██████████| 455839/455839 [00:02<00:00, 162112.59it/s]\n",
      "100%|██████████| 455839/455839 [00:02<00:00, 157137.71it/s]\n",
      "100%|██████████| 455839/455839 [00:02<00:00, 161848.02it/s]\n",
      "100%|██████████| 455839/455839 [00:07<00:00, 62654.63it/s]\n",
      "100%|██████████| 455839/455839 [00:11<00:00, 38589.63it/s]\n"
     ]
    },
    {
     "name": "stdout",
     "output_type": "stream",
     "text": [
      "CPU times: user 4.74 s, sys: 3.51 s, total: 8.25 s\n",
      "Wall time: 19.3 s\n"
     ]
    }
   ],
   "source": [
    "%%time\n",
    "\n",
    "twitter = cleaning.multiprocessing_multiple(twitter, temp_dict, cleaning.string_dict_cleaning)"
   ]
  },
  {
   "cell_type": "code",
   "execution_count": 28,
   "metadata": {},
   "outputs": [],
   "source": [
    "twitter = [s.lower() for s in twitter]"
   ]
  },
  {
   "cell_type": "code",
   "execution_count": null,
   "metadata": {},
   "outputs": [],
   "source": [
    "with open('ms-socialmedia.json', 'w') as fopen:\n",
    "    json.dump(twitter, fopen)"
   ]
  },
  {
   "cell_type": "code",
   "execution_count": null,
   "metadata": {},
   "outputs": [],
   "source": []
  }
 ],
 "metadata": {
  "kernelspec": {
   "display_name": "Python 3",
   "language": "python",
   "name": "python3"
  },
  "language_info": {
   "codemirror_mode": {
    "name": "ipython",
    "version": 3
   },
   "file_extension": ".py",
   "mimetype": "text/x-python",
   "name": "python",
   "nbconvert_exporter": "python",
   "pygments_lexer": "ipython3",
   "version": "3.6.8"
  }
 },
 "nbformat": 4,
 "nbformat_minor": 2
}
