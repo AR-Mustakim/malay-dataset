{
 "cells": [
  {
   "cell_type": "code",
   "execution_count": 2,
   "metadata": {},
   "outputs": [
    {
     "name": "stderr",
     "output_type": "stream",
     "text": [
      "/home/husein/.local/lib/python3.6/site-packages/tensorflow/python/framework/dtypes.py:516: FutureWarning: Passing (type, 1) or '1type' as a synonym of type is deprecated; in a future version of numpy, it will be understood as (type, (1,)) / '(1,)type'.\n",
      "  _np_qint8 = np.dtype([(\"qint8\", np.int8, 1)])\n",
      "/home/husein/.local/lib/python3.6/site-packages/tensorflow/python/framework/dtypes.py:517: FutureWarning: Passing (type, 1) or '1type' as a synonym of type is deprecated; in a future version of numpy, it will be understood as (type, (1,)) / '(1,)type'.\n",
      "  _np_quint8 = np.dtype([(\"quint8\", np.uint8, 1)])\n",
      "/home/husein/.local/lib/python3.6/site-packages/tensorflow/python/framework/dtypes.py:518: FutureWarning: Passing (type, 1) or '1type' as a synonym of type is deprecated; in a future version of numpy, it will be understood as (type, (1,)) / '(1,)type'.\n",
      "  _np_qint16 = np.dtype([(\"qint16\", np.int16, 1)])\n",
      "/home/husein/.local/lib/python3.6/site-packages/tensorflow/python/framework/dtypes.py:519: FutureWarning: Passing (type, 1) or '1type' as a synonym of type is deprecated; in a future version of numpy, it will be understood as (type, (1,)) / '(1,)type'.\n",
      "  _np_quint16 = np.dtype([(\"quint16\", np.uint16, 1)])\n",
      "/home/husein/.local/lib/python3.6/site-packages/tensorflow/python/framework/dtypes.py:520: FutureWarning: Passing (type, 1) or '1type' as a synonym of type is deprecated; in a future version of numpy, it will be understood as (type, (1,)) / '(1,)type'.\n",
      "  _np_qint32 = np.dtype([(\"qint32\", np.int32, 1)])\n",
      "/home/husein/.local/lib/python3.6/site-packages/tensorflow/python/framework/dtypes.py:525: FutureWarning: Passing (type, 1) or '1type' as a synonym of type is deprecated; in a future version of numpy, it will be understood as (type, (1,)) / '(1,)type'.\n",
      "  np_resource = np.dtype([(\"resource\", np.ubyte, 1)])\n",
      "/home/husein/.local/lib/python3.6/site-packages/tensorboard/compat/tensorflow_stub/dtypes.py:541: FutureWarning: Passing (type, 1) or '1type' as a synonym of type is deprecated; in a future version of numpy, it will be understood as (type, (1,)) / '(1,)type'.\n",
      "  _np_qint8 = np.dtype([(\"qint8\", np.int8, 1)])\n",
      "/home/husein/.local/lib/python3.6/site-packages/tensorboard/compat/tensorflow_stub/dtypes.py:542: FutureWarning: Passing (type, 1) or '1type' as a synonym of type is deprecated; in a future version of numpy, it will be understood as (type, (1,)) / '(1,)type'.\n",
      "  _np_quint8 = np.dtype([(\"quint8\", np.uint8, 1)])\n",
      "/home/husein/.local/lib/python3.6/site-packages/tensorboard/compat/tensorflow_stub/dtypes.py:543: FutureWarning: Passing (type, 1) or '1type' as a synonym of type is deprecated; in a future version of numpy, it will be understood as (type, (1,)) / '(1,)type'.\n",
      "  _np_qint16 = np.dtype([(\"qint16\", np.int16, 1)])\n",
      "/home/husein/.local/lib/python3.6/site-packages/tensorboard/compat/tensorflow_stub/dtypes.py:544: FutureWarning: Passing (type, 1) or '1type' as a synonym of type is deprecated; in a future version of numpy, it will be understood as (type, (1,)) / '(1,)type'.\n",
      "  _np_quint16 = np.dtype([(\"quint16\", np.uint16, 1)])\n",
      "/home/husein/.local/lib/python3.6/site-packages/tensorboard/compat/tensorflow_stub/dtypes.py:545: FutureWarning: Passing (type, 1) or '1type' as a synonym of type is deprecated; in a future version of numpy, it will be understood as (type, (1,)) / '(1,)type'.\n",
      "  _np_qint32 = np.dtype([(\"qint32\", np.int32, 1)])\n",
      "/home/husein/.local/lib/python3.6/site-packages/tensorboard/compat/tensorflow_stub/dtypes.py:550: FutureWarning: Passing (type, 1) or '1type' as a synonym of type is deprecated; in a future version of numpy, it will be understood as (type, (1,)) / '(1,)type'.\n",
      "  np_resource = np.dtype([(\"resource\", np.ubyte, 1)])\n"
     ]
    }
   ],
   "source": [
    "import json\n",
    "import malaya"
   ]
  },
  {
   "cell_type": "code",
   "execution_count": 3,
   "metadata": {},
   "outputs": [
    {
     "data": {
      "text/plain": [
       "(2972457, 4320981)"
      ]
     },
     "execution_count": 3,
     "metadata": {},
     "output_type": "execute_result"
    }
   ],
   "source": [
    "with open('filtered.json') as fopen:\n",
    "    filtered = json.load(fopen)\n",
    "\n",
    "with open('filtered_notin.json') as fopen:\n",
    "    filtered_notin = json.load(fopen)\n",
    "    \n",
    "len(filtered), len(filtered_notin)"
   ]
  },
  {
   "cell_type": "code",
   "execution_count": 4,
   "metadata": {},
   "outputs": [
    {
     "data": {
      "text/plain": [
       "['ternyata kl lg sdih bisa ngasilin makanan enak',\n",
       " 'ngelamar kasih cincin tp kok mukanya songong ya sedih gue liatnya',\n",
       " 'caption iki nggarai uwong males nikah min , ya kali manusia arep punah ngunu neg gak nikah . . .',\n",
       " 'pertanyaannya sederhana , jika kami memang dukung prabowo ngapain selama kampanye kemarin capek2 dukung jokowi sampa',\n",
       " 'untuk mengamankan suara partai , ahmad rofiq selaku sekjen partai perindo meminta kepada seluruh caleg dan struktur',\n",
       " 'dom jakpus sih , bebas mau ketemuan or shopee',\n",
       " 'bisa dapet duit , ini kaga . punya mobil juga kan kaya gemer gemer . ini kaga',\n",
       " 'on jadahnyaaa * in sorry bad english hihuheheho',\n",
       " 'loop in nama dlm email pon boleh jd issue . . . dah org email aku reply all jelaaa . . . ade mase pulak aku nak tengok satu2 nama recipients',\n",
       " 'bila kau tengah feeling lagu raya .',\n",
       " 'hidup ni jgn terlalu nk mendongak ke atas , nanti jatuh padan muka kau',\n",
       " 'tak pon sebelum masuk dapur bagi salam dulu . . . kan molek gitu . . .',\n",
       " 'masuk ke channel bang evan ke ni',\n",
       " 'yg minat saya pon bole lekk',\n",
       " 'kenapa kipas number 3 pun sejuk . kalau bilik aku sorang ni , aku dah tutup .',\n",
       " 'guys , tolong rt tweet ni sampai owner dia dapat . phone ni tertinggal kat belakang teksi pakcik saya . model oppo r9s',\n",
       " 'aku ada motor racing , aku bawa ronda , awek lu bonceng , sedar sedar seluat tkde dah punca mat rempit takboleh rap',\n",
       " 'pak prabowo itu vibesnya kebun binatang banget ya peliharaannya kucing , sukanya naek kuda , kemana-mana pake baju safari',\n",
       " \"nak happiness bkn pegih ngn laki lain , happiness it's between u and me , bedek uh kau ckp takda happiness , ss sem\",\n",
       " 'siapapun orangnya meski dia ustadz bersorban dan berjubah putih , klo sdh k',\n",
       " 'loh kenapa ? kan marga oppa juga lee , pasti enak yaudah oppa jalan - jalan dong , biar bisa liat pemandangan',\n",
       " '- still 17 - sedihbgt ! ! ! kebayang kan betapa sedih lu gak tau gimana lu di waktu 18 tahun,19tahun 20thn dan seteru',\n",
       " 'iyaaa , gue di hima 2 periode ditambah malamnya gue rapat atau latihan ukm . jadi kalo mau nongkrong bisanya jam 11 keatas .',\n",
       " 'bangga manfaat \"dilan \" perputaran uang yg mendukung pertumbuhan ekonomi mikro-makro,mengurangi pengangguran',\n",
       " 'dah tak kasi lampu ijo loh . tinggal pepet to cuk hwhw',\n",
       " 'ilmu perpustakaan . point2 kuliah , ttg manajemen perpustakaan , literasi , informasi , teknologi informasi',\n",
       " 'apaan rambut item . . .',\n",
       " 'senin , 22 april 2019 kita memperingati hari bumi . bumi kita saat ini lagi menjerit kesakitan karena dirusak untuk m',\n",
       " 'bangun lambat . lepas tu jalan jem gile . haihhhh so stressss',\n",
       " 'sobatani , sebagai upaya meningkatkan generasi petani , kementan membuat terobosan dengan mengubah sekolah tinggi pen',\n",
       " 'beomgyu ngambilin confetti yang nyangkut di rambut jimin dong * liat gini aja soft akutuh - cha',\n",
       " 'eh hello bosan tu sbb kau xmenghayati hahaha',\n",
       " 'waduuh kamu dengerinnya sambil minum ? ? ?',\n",
       " 'anjing lagi having sex gitu kak ?',\n",
       " '( clip 1)percutian yang menarik haruslah dipadankan dengan tempat rare dan istimewa ! berlatar belakangkan gunung santubong dan berhadapan dengan laut china selatan oh indahnya dunia . jom follow instagram kami :',\n",
       " 'saya udah sering banget ngadepin jalanan macet di jakarta tapi sejauh ini yg paling anjing sih semuanya',\n",
       " 'twitter please do ur magic ini pertama kali nyah gua ngajak jalan dia karna selama bertahun tahun dia kuliah di j',\n",
       " 'resort datuk jhon gani . . . kuala penyu . . . boleh bawa keluarga . . . santai saja tempatnya . . . pantai nya bersih dan indah . . . tenan',\n",
       " 'uni kenapa sistem masuk sekolah ke tingkat lanjutan terlalu susah skr in',\n",
       " '* kph ujung tombak pendukung visi misi gubernur kalbar * dengan mengoptimalkan tugas dan fungsi pokok kesatuan peman',\n",
       " 'aku sedih ni tak ada siapa nak hiburkan ke ?',\n",
       " 'gue baru bangun juga lagi males pergi mana rumah gue kek kapal pecah utg kaga main twitter tmn gue zwoakowka kalo ga udh diciduk',\n",
       " 'legenda sepak bola brasil pele sudah bisa pulang dari rumah sakit setelah pulih dari infeksi saluran kemih . pele ( 7',\n",
       " '|190506 | bts at rose bowl day 1 | jadi mulai hari ini aku akan berusaha menjadi dokter strange karena cincin ini',\n",
       " 'sedih hidup u sis',\n",
       " 'serabut pale laa , dia buat mcm kita nie kerja dh , gaji puluh2 ribu ,',\n",
       " 'masuk kerja masi lama yaaa . . . bete nih kangen kulineran di samarinda . apalah daya rumah di desa',\n",
       " 'ugh tolonglah lelaki yang senyum miang dengan perempuan ni fikir perempuan suka ka kamu buat camtu . creepy as fuck macam aku mau maki ja kau',\n",
       " \"pengadilan tinggi dki ' sunat ' masa tahanan lucas jadi 5 tahun kpk pertimbangkan\",\n",
       " 'ganggu aja ih pdhl lg enak enak di urut',\n",
       " 'up balik preloved rm25 - belum termasuk postage ( tambah rm8 / rm12 - sm / ss ) k001 baju kurung pa',\n",
       " 'nikmat hdi ( index kesejahteraan negara / masy) terjun bebas ? ekonomi mandek ? hutang ln ga kebayar ? nikm',\n",
       " 'skrg terbukti kau yng bawa perempuan masuk . . . hahahaha . . . kantoi bodoh je ! ! !',\n",
       " 'terbangun tengah malam , melihat kesebelah kanan , ternyata masih kosong . ada yg mau nemenin gak ?',\n",
       " 'buka puasa ngemilnya pepaya pepaya dipetik di kebun bu anya cukup sekian pantun dari saya semoga',\n",
       " 'kau ke fad ? ? ?',\n",
       " '* kasus riil , follower ai yang hampir kena scam suatu klinik waktu berobat erosi serviks , akhirnya ke rumah sakit da',\n",
       " 'bolehhhh hehehe',\n",
       " 'perlu hijrah sebentar dari sini untuk menenangkan jiwa . seperti liburan ditengah hutan mungkin . . .',\n",
       " 'duuhhh , , , ini apaan sik . eklusivisme bgt , sama2 pingin shalat aja seolah mereka enggan bercampur dgn yg tdk sepenam',\n",
       " 'ore kato sohor , yolo ko ? (@ kedai mee celup botak )',\n",
       " 'hospital = sedih,sebak,insaf,sakit',\n",
       " 'mari2 sapo hok ado pubg tu . . . barbar blh camper pon blh . . . loghat klate,sabah lancar sjaa . . . loghat lain antam sjaaa',\n",
       " 'ketika ulama datang mengetuk pintu istana , apalagi ingin tinggal di ista',\n",
       " 'hnw ajak masyarakat lanjutkan perjuangan ulama lewat pemilu',\n",
       " 'sempat panik juga diriku , tapi enggak , akhirnya dari jari manis kanan pindah ke jari manis kiri t.t jari bengkak',\n",
       " 'makian paling pedes yang emak pernah bilang ke gue . masih mending piarain anjing , daripada piarain elu . seketika',\n",
       " 'kalau lelah santuy dulu nanti lanjut lagi',\n",
       " 'siapa juga ya butuh sama elo zul , kalok gak mau patuhi pemerintah minggat dah dari indonesia nyusul yg di arab sono',\n",
       " 'baru mau mandi niih , makasii kamu juga ya',\n",
       " 'sayang itu sering2 ngajak jalan , traktir makan , chat cepat balasnya . bukan karna pengen hs baru ngajak jalan .',\n",
       " 'yakin nga nih sari buah kurmanya asli ? nanti malah kayak keyakinan dia , palsu huwaaa coba deh nanti gue',\n",
       " 'pelaku umur 17 tahun itu sudah cukup dewasa apa lg sudah dapat ktp',\n",
       " 'cina bangsat kalau tak menipu putar belit mmg tak sah . . . 3 kilang laki dia di pasir gudang . bangsat',\n",
       " 'sedapp nanti kita buat lagi kita bagi awak rasa hihihi .',\n",
       " 'heh gawa duit ra ? nyilih sik tah ora gawa e tenane ? lha sumpah ( melihat kebodohan anak sma se',\n",
       " 'tunggu sampai seat belt sign tu tak ada baru bangun . kau tak nyabo2 nak bangun tu nak pergi mana ? pintu kapal terba',\n",
       " 'gua jd enak bacanya mak , bisa aja mamak . gua belom baik kok mak jauh dr kata baik , tp lg usaha jd org baik',\n",
       " '(cont ) tidak menggunakan mobil , bisa-bisa sang dara akan berpikiran yang tidak-tidak . keep low profile aaron . sang',\n",
       " 'kalo kartu perdana xl nya perdana kuota gabisa ya ?',\n",
       " 'selepas gagal mencapai titik perbincangan dengan kementerian pengangkutan , gabungan teksi semalaysia ( gt',\n",
       " 'agong berkenan ziarah jenazah allahyarhamdahlan',\n",
       " 'ayo makan dutian lagi yuk tapi ndak usah ajak bisa pingsan dia d',\n",
       " 'pokok eh , kau belaja yo , kata abg alan',\n",
       " 'm*sl*m : aborsi = pembunuhan = dosa also m*sl*m : membunuh lgbt itu mulia karena ada perintah ( hadits ) nya : v',\n",
       " 'dulu poskod kita 34000 , sekarang dah jadi warga kamunting poskod kita 34600 lah pulek hiks',\n",
       " 'dia ketawa trs nyemangatin gini , \" kamu hrs dpt org yg bener2 cinta sama kamu jgn sugar daddy donk \" ok sip , agustu',\n",
       " 'wai ku baku san wasa bane ? mai gidan mu ya wuce nan . ba dai mutum ba sai allah .',\n",
       " 'dahsyat rp . 8 miliar dlm 84 kardus , 400.000 amplop berisi uang tunai pecahan 50rb dan 20rb yg diduga akan dipakai b',\n",
       " 'kenapa suami orang handsome ?',\n",
       " 'dalam 1770 penyertaan seluruh dunia , seratus karya ilustrator dipilih sebagai 100 karya terbaik nami concour dan di',\n",
       " 'universiti teknikal malaysia melaka - utem',\n",
       " 'mane , sini dah sistem lelang . harge tinggi angkot .',\n",
       " 'roti canai telur banjit yg sedap kat selangor mansion',\n",
       " 'afa mania , angka yang naik untuk pasaran sydney hari ini adalah : result : 8974 shio : anjing sah - selamat kepada pemenang ! ! !',\n",
       " 'tpi jarang la nk jumpa lelaki mengilai . . . and lagi satu kalau mengilai or menangis . . . mmg suara perempuan obviously .',\n",
       " 'benda boleh kalah , buat ape menang . . .',\n",
       " 'tukarlah nama jadi periuk babi tentu tak ada org nak ambil dah hajgsjagajahagaha',\n",
       " 'gapapa kamu suka beli alat elektronik merk lg kok',\n",
       " 'sebelum becrita psl urg lain , why not liat cermin lu ? supaya bfikir 2 kali kn bcrita kh inda and yg penting supaya sedar diri .']"
      ]
     },
     "execution_count": 4,
     "metadata": {},
     "output_type": "execute_result"
    }
   ],
   "source": [
    "filtered[:100]"
   ]
  },
  {
   "cell_type": "code",
   "execution_count": 5,
   "metadata": {},
   "outputs": [
    {
     "data": {
      "text/plain": [
       "['abu kampret . . .',\n",
       " 'bapa saya suka pake oppo . . . saya sukanya nokia . . . kaka saya sukanya samsung . . . yg penting punya hape aja . . .',\n",
       " '',\n",
       " 'memiliki sedikit iman lebih berharga dari pada memiliki segudang emas !',\n",
       " 'valentino rossi tidak setuju kompetisi motogp dimulai dari eropa',\n",
       " 'sis tak faham , apa yang mungkin ini puncanya tu ? ? ?',\n",
       " '\" martabak terang bulan \" \" martabak \" untuk yg asin / gurih a.k.a martabak telor \" terang bulan \" untuk yg manis ( yg gw s',\n",
       " 'dia dah tua put , dah nak 31 . plus dia tak start regularly kat man utd so mesti ka',\n",
       " 'sejarah susah',\n",
       " 'tak sakit pun tapi saja nak bau minyak freshcare sbb bau lavender',\n",
       " 'rosmah',\n",
       " 'kekasih bayangan .',\n",
       " 'pak kim toloong . . . @bts_twt',\n",
       " 'di rumah ga liat pohon kelapa sama nanas kan apalagi pohon pisang',\n",
       " 'wkwk',\n",
       " 'kanan sja bu',\n",
       " 'hilang nyawaku aku tgk',\n",
       " 'yer lah sbb sombong mmg lah',\n",
       " 'nti aku tengok dulu tiket dari kl pukul berapa ada nahh',\n",
       " 'ni pukul berapa tah nak sampai ukm . tetiba jalan tutup pulak . kena lalu jalan jauh . . .',\n",
       " 'tkpe , hehe asalkan effort ada',\n",
       " 'google cabut lisensi android huawei , bagaimana nasib honor ? - - tekno',\n",
       " 'dari semalam tak tidur lagi ek . ni kejap lagi jangan leceh nampak tilam bantal confirm nyenyak punya',\n",
       " 'tidur di ubin . biar ga jatoh lg',\n",
       " 'jujur kacang ijo ! ! !',\n",
       " 'sahur tengah malam kaya nya enak ya . . .',\n",
       " 'jenis-jenis orang stalking di media sosial : - pakai akun palsu . - pakai akun temannya , sanak saudaranya , handai tau',\n",
       " 'benersi ga buka sm yg minyak2 aka gorengan &amp ; makan nasi . tapi abis pudding setengah lingkaran , makannya mi trs ishy',\n",
       " 'hahahahha bahaya bela kucing comel2 ni sebab nnti hilang kena curi',\n",
       " 'makan serabi enak pas lagi panas . . . serabinya terbuat dari kelapa . . . neng tasya aa ikhlas . . .',\n",
       " 'ada apa yaa mbak mbak plat ag inii',\n",
       " 'kanan',\n",
       " 'nak mee kari , nak sate , nak laksa , nak bihun sup nakkkkk semuaaaaa',\n",
       " 'jadi lumba lumba',\n",
       " 'drpd lahir sampai sekarang aku asyik ngantuk je',\n",
       " 'pgn chatime xixi tp jauh :(',\n",
       " 'kecewa . . .',\n",
       " 'batok kelapa menjadi bara , terbakar semua tidak tersisa . wahai saudara seiman senegara , saya ucapakan selamat puas',\n",
       " 'jy 91 liner jgak ke ?',\n",
       " 'ada benda mcm kotor mcm air susu atas kereta mcm ada org campak . mula2 ingat mcm taik burung . tp lain mcm',\n",
       " 'air koroi',\n",
       " 'ajax spurs lah . anti menstrim',\n",
       " 'abis telan biji durian kali',\n",
       " 'gaya hidup sihat delayed',\n",
       " 'lia pulang , mereka semuanya pedo kecuali aku , jangan mau .',\n",
       " 'nice igstory harini , dah tak nmpak org repost sudan meal project tu',\n",
       " 'gone apa ? gitu je laa . sendu sorang',\n",
       " 'bukan pola pikir seorang profesor hukum tapi cara berpikir seorang pedagang cendol',\n",
       " 'crash on 29 lebuhraya damansara puchong - putrajaya &amp ; cyberjaya still delaying traffic 10m more than usual',\n",
       " 'rasa-rasanya kalo lg gapunya duit gini , nemu duit recehan yang nyelip2 dikantong celana atau nemu duit kerincingan',\n",
       " \"i'm at csf computer exchange 5 (cx5 ) - in cyberjaya , selangor darul ehsan w /\",\n",
       " 'alhamdulillah hari ni iftar nasi kerabu ayam madu kak yong n laksam buat kali terakhir sebab kak aini last da berju',\n",
       " 'hi , baby baru bangun baby emo .',\n",
       " 'jum cuckoo bersama nabil ahmad',\n",
       " 'nikammy',\n",
       " 'krisis perlembagaan kedua bermula balik dgn orang sama dgn',\n",
       " \"bagi saya , diusia 20an kata 'jahat ' bukan lagi sesederhana mainan yang dirampas atau buku pr yang dirobek teman . j\",\n",
       " 'lapor . . . arah demak tersendat dari tambak lorok 17.11 wib . . . dan sekarang di terminal terboyo masih rendet .',\n",
       " 'liat bangchan , jongin sama han jisung , auto netes mami nakkkk . akhirnyaaaa',\n",
       " 'katak kensel . . . ni kain sal . . . kah !',\n",
       " 'hareeeeeiiiiiii depa ni pasang lagu ku tunggu janda mu',\n",
       " 'awkwardnya upload gmbr muka sendiri',\n",
       " 'bukan telen ajer yg ada kapal terobang dekat local route pun ada laaaa',\n",
       " 'ah hulur itu begini toh penampakkannya ekwkwkwk',\n",
       " 'junior curi tarahal',\n",
       " \"i'm at menara axis in petaling jaya , selangor\",\n",
       " 'bukan sengaja nak samakan . tapi tu laaa . . . dah ter sama kan ? obvious okayyy ! ! !',\n",
       " 'muda2 nak merenyam . tampaq satgi',\n",
       " 'tula konfius . aku tak reti sangat benda ni . ada kata kiri ada kata kanan . sebab aku takselesa tidur tegak jeee',\n",
       " 'ubi cilembu enak bngt btw kl dipanggang',\n",
       " 'usually aku rimas tngok parking kiri kanan tapi untuk time raya diberi excuse . . . seronok plak tngok kereta parking penuh satu laman rumah',\n",
       " 'membadik ? (@ restoran in johor bahru , johor )',\n",
       " 'terok benar neh . . .',\n",
       " 'hahahahah aku tk percaya ayat ni',\n",
       " 'allahumma aamin . . . jom kita g sesama pulak ehh',\n",
       " '97 . namanya kaya kuota internet .',\n",
       " '',\n",
       " 'tu la . . . sambil2 . . . hahaha . . . in shaa allah cuba lagi nanti',\n",
       " 'bukan perempuan je',\n",
       " 'yaaaa inii betull hahaja',\n",
       " 'ugh getah rambut hilang',\n",
       " 'siwong nih time aku kt kl dia xnak mai',\n",
       " 'tapi . . . i tak allergic kucing',\n",
       " 'better rm20k habis dekat travel dengan family seronok juga , everlasting happiness travel pergi 2-3 negara pon lep',\n",
       " 'ice-blended ribena ya allah .',\n",
       " 'tidak aku mau kaki segitu , mau lengan segitu',\n",
       " 'happy fasting , yb ! ! !',\n",
       " 'kia hwa',\n",
       " '3 . adik irfan wafiy idham wazir , - berumur 12 tahun &amp ; disahkan menghidapi penyakit myo kimia yg disahkan pihak hos',\n",
       " 'saking kangen papanya pas vc anakku nangis :(',\n",
       " 'jenny ma yen hw dm no bi wai . . .',\n",
       " 'dadah',\n",
       " \"assalamu'alaikum warohmatullaahi wabarokaatuh dalam rangka harlah nu ke 96 , pc lknu akan mengadakan bhakti sosial\",\n",
       " 'hahahah terhibur sis',\n",
       " 'teman2 universitas ahmad dahlan yogyakarta hari ini melaksanakan simulasi dan latihan evakuasi mandiri menjelang h',\n",
       " \"i'm at plaza tol simpang ampat / alor gajah in alor gajah , melaka\",\n",
       " 'iyakan ada ada aja kita potong rambut mikir2 dia main potong aja',\n",
       " 'xpnh lg try loaded bowl tu . sllu beli fries y large je . tu pon da layan xpyh sos kan haha',\n",
       " 'menyesal nda ambil postpaid maxis dlu',\n",
       " 'bunga (?)']"
      ]
     },
     "execution_count": 5,
     "metadata": {},
     "output_type": "execute_result"
    }
   ],
   "source": [
    "filtered_notin[:100]"
   ]
  },
  {
   "cell_type": "code",
   "execution_count": 6,
   "metadata": {},
   "outputs": [
    {
     "data": {
      "text/plain": [
       "1293392"
      ]
     },
     "execution_count": 6,
     "metadata": {},
     "output_type": "execute_result"
    }
   ],
   "source": [
    "with open('ind_words.json') as fopen:\n",
    "    ind_words = set(json.load(fopen))\n",
    "    \n",
    "len(ind_words)"
   ]
  },
  {
   "cell_type": "code",
   "execution_count": 7,
   "metadata": {},
   "outputs": [],
   "source": [
    "# !wget https://raw.githubusercontent.com/geovedi/indonesian-wordlist/master/00-indonesian-wordlist.lst"
   ]
  },
  {
   "cell_type": "code",
   "execution_count": 8,
   "metadata": {},
   "outputs": [
    {
     "data": {
      "text/plain": [
       "2027893"
      ]
     },
     "execution_count": 8,
     "metadata": {},
     "output_type": "execute_result"
    }
   ],
   "source": [
    "with open('malays_word.json') as fopen:\n",
    "    malays = set(json.load(fopen))\n",
    "    \n",
    "len(malays)"
   ]
  },
  {
   "cell_type": "code",
   "execution_count": 9,
   "metadata": {},
   "outputs": [
    {
     "name": "stderr",
     "output_type": "stream",
     "text": [
      "100%|██████████| 4320981/4320981 [00:12<00:00, 341085.50it/s]\n"
     ]
    },
    {
     "data": {
      "text/plain": [
       "(1981253, 2339728)"
      ]
     },
     "execution_count": 9,
     "metadata": {},
     "output_type": "execute_result"
    }
   ],
   "source": [
    "from tqdm import tqdm\n",
    "\n",
    "ind_filtered_notin, actual_filtered_notin = [], []\n",
    "for s in tqdm(filtered_notin):\n",
    "    if len(set(s.split()) & (ind_words)):\n",
    "        ind_filtered_notin.append(s)\n",
    "    else:\n",
    "        actual_filtered_notin.append(s)\n",
    "        \n",
    "len(ind_filtered_notin), len(actual_filtered_notin)"
   ]
  },
  {
   "cell_type": "code",
   "execution_count": 10,
   "metadata": {},
   "outputs": [
    {
     "name": "stderr",
     "output_type": "stream",
     "text": [
      "100%|██████████| 2972457/2972457 [00:17<00:00, 174323.71it/s]\n"
     ]
    },
    {
     "data": {
      "text/plain": [
       "(3760852, 3532586)"
      ]
     },
     "execution_count": 10,
     "metadata": {},
     "output_type": "execute_result"
    }
   ],
   "source": [
    "for s in tqdm(filtered):\n",
    "    if len(set(s.split()) & (ind_words)):\n",
    "        ind_filtered_notin.append(s)\n",
    "    else:\n",
    "        actual_filtered_notin.append(s)\n",
    "        \n",
    "len(ind_filtered_notin), len(actual_filtered_notin)"
   ]
  },
  {
   "cell_type": "code",
   "execution_count": 11,
   "metadata": {},
   "outputs": [],
   "source": [
    "import re\n",
    "from unidecode import unidecode\n",
    "import cleaning\n",
    "from tqdm import tqdm\n",
    "\n",
    "def preprocessing(string):\n",
    "    string = unidecode(string)\n",
    "    chars = ',.()!:\\'\"/;=-'\n",
    "    for c in chars:\n",
    "        string = string.replace(c, f' {c} ')\n",
    "        \n",
    "    string = re.sub('[^A-Za-z ]+', ' ', unidecode(string))\n",
    "    string = re.sub(r'[ ]+', ' ', string).strip()\n",
    "    \n",
    "    return string.lower()\n",
    "\n",
    "def loop(strings):\n",
    "    for i in tqdm(range(len(strings))):\n",
    "        strings[i] = preprocessing(strings[i])\n",
    "    return strings"
   ]
  },
  {
   "cell_type": "code",
   "execution_count": 12,
   "metadata": {},
   "outputs": [
    {
     "name": "stderr",
     "output_type": "stream",
     "text": [
      "100%|██████████| 235053/235053 [00:03<00:00, 76830.57it/s]\n",
      "100%|██████████| 4/4 [00:00<00:00, 9619.96it/s]736.46it/s]\n",
      "100%|██████████| 235053/235053 [00:03<00:00, 74399.44it/s]\n",
      "100%|██████████| 235053/235053 [00:03<00:00, 75022.42it/s]\n",
      "100%|██████████| 235053/235053 [00:03<00:00, 76287.16it/s]\n",
      "100%|██████████| 235053/235053 [00:03<00:00, 76614.69it/s]\n",
      "100%|██████████| 235053/235053 [00:03<00:00, 76448.26it/s]\n",
      "100%|██████████| 235053/235053 [00:03<00:00, 74585.31it/s]\n",
      "100%|██████████| 235053/235053 [00:03<00:00, 75820.63it/s]\n",
      "100%|██████████| 235053/235053 [00:03<00:00, 67476.86it/s]\n",
      "100%|██████████| 235053/235053 [00:03<00:00, 66545.75it/s]\n",
      "100%|██████████| 235053/235053 [00:03<00:00, 64860.46it/s]\n",
      "100%|██████████| 235053/235053 [00:03<00:00, 65909.85it/s]\n",
      "100%|██████████| 235053/235053 [00:03<00:00, 59244.70it/s]\n",
      "100%|██████████| 235053/235053 [00:03<00:00, 66689.98it/s]\n",
      "100%|██████████| 235053/235053 [00:09<00:00, 25451.37it/s]\n",
      "100%|██████████| 235053/235053 [00:13<00:00, 17054.18it/s]\n"
     ]
    }
   ],
   "source": [
    "ind_filtered_notin = cleaning.multiprocessing(ind_filtered_notin, loop)"
   ]
  },
  {
   "cell_type": "code",
   "execution_count": 13,
   "metadata": {
    "scrolled": false
   },
   "outputs": [
    {
     "name": "stderr",
     "output_type": "stream",
     "text": [
      "100%|██████████| 220786/220786 [00:02<00:00, 89482.85it/s]\n",
      "100%|██████████| 10/10 [00:00<00:00, 6442.86it/s]0.20it/s]\n",
      "100%|██████████| 220786/220786 [00:02<00:00, 87644.76it/s]\n",
      "100%|██████████| 220786/220786 [00:02<00:00, 88967.48it/s]\n",
      "100%|██████████| 220786/220786 [00:02<00:00, 89769.12it/s]\n",
      "100%|██████████| 220786/220786 [00:02<00:00, 89175.11it/s]\n",
      "100%|██████████| 220786/220786 [00:02<00:00, 90055.61it/s]\n",
      "100%|██████████| 220786/220786 [00:02<00:00, 90319.96it/s]\n",
      "100%|██████████| 220786/220786 [00:02<00:00, 91140.14it/s]\n",
      "100%|██████████| 220786/220786 [00:02<00:00, 88570.14it/s]\n",
      "100%|██████████| 220786/220786 [00:02<00:00, 90808.68it/s]\n",
      "100%|██████████| 220786/220786 [00:02<00:00, 74984.78it/s]\n",
      "100%|██████████| 220786/220786 [00:02<00:00, 73645.61it/s]\n",
      "100%|██████████| 220786/220786 [00:03<00:00, 72056.96it/s]\n",
      "100%|██████████| 220786/220786 [00:03<00:00, 73253.17it/s]\n",
      "100%|██████████| 220786/220786 [00:03<00:00, 71761.88it/s]\n",
      "100%|██████████| 220786/220786 [00:04<00:00, 46466.54it/s]\n"
     ]
    }
   ],
   "source": [
    "actual_filtered_notin = cleaning.multiprocessing(actual_filtered_notin, loop)"
   ]
  },
  {
   "cell_type": "code",
   "execution_count": 14,
   "metadata": {},
   "outputs": [
    {
     "data": {
      "text/plain": [
       "(3760852, 3532586)"
      ]
     },
     "execution_count": 14,
     "metadata": {},
     "output_type": "execute_result"
    }
   ],
   "source": [
    "len(ind_filtered_notin), len(actual_filtered_notin)"
   ]
  },
  {
   "cell_type": "code",
   "execution_count": 49,
   "metadata": {},
   "outputs": [],
   "source": [
    "with open('english-words.json') as fopen:\n",
    "    english_words = set(json.load(fopen))"
   ]
  },
  {
   "cell_type": "code",
   "execution_count": 50,
   "metadata": {},
   "outputs": [],
   "source": [
    "english_words = malaya.texts._english_words._english_words | english_words"
   ]
  },
  {
   "cell_type": "code",
   "execution_count": 51,
   "metadata": {},
   "outputs": [],
   "source": [
    "english_minus = english_words - malays"
   ]
  },
  {
   "cell_type": "code",
   "execution_count": 53,
   "metadata": {},
   "outputs": [],
   "source": [
    "english_minus = {i for i in english_minus if 'haha' not in i and i != 'rt' and 'yeay' not in i and\\\n",
    "                'yes' not in i and 'ooo' not in i}"
   ]
  },
  {
   "cell_type": "code",
   "execution_count": 58,
   "metadata": {
    "scrolled": true
   },
   "outputs": [
    {
     "name": "stderr",
     "output_type": "stream",
     "text": [
      "100%|██████████| 3532586/3532586 [00:09<00:00, 380464.79it/s]\n"
     ]
    }
   ],
   "source": [
    "rojak, malays = [], []\n",
    "for s in tqdm(actual_filtered_notin):\n",
    "    if len(set(s.split()) & english_minus):\n",
    "        rojak.append(s)\n",
    "    else:\n",
    "        malays.append(s)"
   ]
  },
  {
   "cell_type": "code",
   "execution_count": 59,
   "metadata": {},
   "outputs": [
    {
     "data": {
      "text/plain": [
       "(74086, 3458500)"
      ]
     },
     "execution_count": 59,
     "metadata": {},
     "output_type": "execute_result"
    }
   ],
   "source": [
    "len(rojak), len(malays)"
   ]
  },
  {
   "cell_type": "code",
   "execution_count": 60,
   "metadata": {},
   "outputs": [
    {
     "name": "stderr",
     "output_type": "stream",
     "text": [
      "100%|██████████| 3760852/3760852 [00:16<00:00, 232222.17it/s]\n"
     ]
    },
    {
     "data": {
      "text/plain": [
       "(1167986, 2666952)"
      ]
     },
     "execution_count": 60,
     "metadata": {},
     "output_type": "execute_result"
    }
   ],
   "source": [
    "indons = []\n",
    "for s in tqdm(ind_filtered_notin):\n",
    "    if len(set(s.split()) & english_minus):\n",
    "        rojak.append(s)\n",
    "    else:\n",
    "        indons.append(s)\n",
    "        \n",
    "len(rojak), len(indons)"
   ]
  },
  {
   "cell_type": "code",
   "execution_count": null,
   "metadata": {},
   "outputs": [],
   "source": [
    "with open('social-language.json', 'w') as fopen:\n",
    "    json.dump({'rojak': rojak,\n",
    "              'malay': malays,\n",
    "              'ind': indons}, fopen)"
   ]
  },
  {
   "cell_type": "code",
   "execution_count": null,
   "metadata": {},
   "outputs": [],
   "source": []
  }
 ],
 "metadata": {
  "kernelspec": {
   "display_name": "Python 3",
   "language": "python",
   "name": "python3"
  },
  "language_info": {
   "codemirror_mode": {
    "name": "ipython",
    "version": 3
   },
   "file_extension": ".py",
   "mimetype": "text/x-python",
   "name": "python",
   "nbconvert_exporter": "python",
   "pygments_lexer": "ipython3",
   "version": "3.6.8"
  }
 },
 "nbformat": 4,
 "nbformat_minor": 2
}
