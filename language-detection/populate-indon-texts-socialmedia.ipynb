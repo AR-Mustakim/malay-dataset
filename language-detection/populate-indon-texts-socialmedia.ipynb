{
 "cells": [
  {
   "cell_type": "code",
   "execution_count": 1,
   "metadata": {},
   "outputs": [],
   "source": [
    "import json\n",
    "\n",
    "with open('indon-words-socialmedia.json') as fopen:\n",
    "    indon_words_socialmedia = json.load(fopen)"
   ]
  },
  {
   "cell_type": "code",
   "execution_count": 2,
   "metadata": {},
   "outputs": [
    {
     "data": {
      "text/plain": [
       "7293438"
      ]
     },
     "execution_count": 2,
     "metadata": {},
     "output_type": "execute_result"
    }
   ],
   "source": [
    "with open('ms-socialmedia.json') as fopen:\n",
    "    socialmedia = json.load(fopen)\n",
    "    \n",
    "len(socialmedia)"
   ]
  },
  {
   "cell_type": "code",
   "execution_count": 8,
   "metadata": {},
   "outputs": [],
   "source": [
    "from tqdm import tqdm\n",
    "\n",
    "def filter_strings(strings):\n",
    "    filtered = []\n",
    "    for i in tqdm(range(len(strings))):\n",
    "        if any([w in strings[i] for w in indon_words_socialmedia]):\n",
    "            filtered.append(strings[i])\n",
    "    return filtered"
   ]
  },
  {
   "cell_type": "code",
   "execution_count": 9,
   "metadata": {},
   "outputs": [],
   "source": [
    "import cleaning"
   ]
  },
  {
   "cell_type": "code",
   "execution_count": 10,
   "metadata": {},
   "outputs": [
    {
     "name": "stderr",
     "output_type": "stream",
     "text": [
      "100%|██████████| 455839/455839 [00:20<00:00, 22169.04it/s]\n",
      " 97%|█████████▋| 441678/455839 [00:19<00:00, 22193.31it/s]\n",
      "100%|██████████| 455839/455839 [00:20<00:00, 22156.52it/s]\n",
      "100%|██████████| 455839/455839 [00:20<00:00, 22142.38it/s]\n",
      "100%|██████████| 455839/455839 [00:20<00:00, 22098.49it/s]\n",
      "100%|██████████| 455839/455839 [00:20<00:00, 22297.75it/s]\n",
      "100%|██████████| 455839/455839 [00:20<00:00, 22198.23it/s]\n",
      "100%|██████████| 455839/455839 [00:21<00:00, 21683.64it/s]\n",
      "100%|██████████| 455839/455839 [00:20<00:00, 22178.27it/s]\n",
      " 63%|██████▎   | 286224/455839 [00:19<00:22, 7419.81it/s]]\n",
      "100%|██████████| 455839/455839 [00:20<00:00, 22031.54it/s]\n",
      "100%|██████████| 455839/455839 [00:20<00:00, 22009.26it/s]\n",
      "100%|██████████| 455839/455839 [00:20<00:00, 22012.63it/s]\n",
      "100%|██████████| 455839/455839 [00:20<00:00, 21755.81it/s]\n",
      "100%|██████████| 455839/455839 [00:20<00:00, 22013.06it/s]\n",
      "100%|██████████| 455839/455839 [00:41<00:00, 10948.54it/s]\n",
      "100%|██████████| 455839/455839 [01:00<00:00, 7473.33it/s]\n"
     ]
    },
    {
     "name": "stdout",
     "output_type": "stream",
     "text": [
      "CPU times: user 4.84 s, sys: 3.68 s, total: 8.52 s\n",
      "Wall time: 1min 6s\n"
     ]
    }
   ],
   "source": [
    "%%time\n",
    "\n",
    "filtered = cleaning.multiprocessing(socialmedia, filter_strings)"
   ]
  },
  {
   "cell_type": "code",
   "execution_count": 14,
   "metadata": {},
   "outputs": [],
   "source": [
    "def filter_strings_notin(strings):\n",
    "    filtered = []\n",
    "    for i in tqdm(range(len(strings))):\n",
    "        if all([w not in strings[i] for w in indon_words_socialmedia]):\n",
    "            filtered.append(strings[i])\n",
    "    return filtered"
   ]
  },
  {
   "cell_type": "code",
   "execution_count": 15,
   "metadata": {},
   "outputs": [
    {
     "name": "stderr",
     "output_type": "stream",
     "text": [
      "100%|██████████| 455839/455839 [00:20<00:00, 21785.99it/s]\n",
      "100%|██████████| 455839/455839 [00:20<00:00, 21915.17it/s]\n",
      "100%|██████████| 14/14 [00:00<00:00, 6377.78it/s]9.50it/s]\n",
      " 30%|██▉       | 134954/455839 [00:17<00:41, 7666.21it/s]]\n",
      "100%|██████████| 455839/455839 [00:20<00:00, 21848.84it/s]\n",
      "100%|██████████| 455839/455839 [00:21<00:00, 21335.91it/s]\n",
      "100%|██████████| 455839/455839 [00:20<00:00, 21926.16it/s]\n",
      "100%|██████████| 455839/455839 [00:20<00:00, 21860.03it/s]\n",
      "100%|██████████| 455839/455839 [00:20<00:00, 21719.30it/s]\n",
      "100%|██████████| 455839/455839 [00:20<00:00, 21787.11it/s]\n",
      "100%|██████████| 455839/455839 [00:20<00:00, 21759.21it/s]\n",
      "100%|██████████| 455839/455839 [00:20<00:00, 21889.36it/s]\n",
      "100%|██████████| 455839/455839 [00:20<00:00, 22051.49it/s]\n",
      "100%|██████████| 455839/455839 [00:20<00:00, 21831.95it/s]\n",
      "100%|██████████| 455839/455839 [00:21<00:00, 21449.84it/s]\n",
      "100%|██████████| 455839/455839 [00:41<00:00, 10946.69it/s]\n",
      "100%|██████████| 455839/455839 [01:00<00:00, 7551.03it/s]\n"
     ]
    },
    {
     "name": "stdout",
     "output_type": "stream",
     "text": [
      "CPU times: user 4.9 s, sys: 3.64 s, total: 8.54 s\n",
      "Wall time: 1min 5s\n"
     ]
    }
   ],
   "source": [
    "%%time\n",
    "\n",
    "filtered_notin = cleaning.multiprocessing(socialmedia, filter_strings_notin)"
   ]
  },
  {
   "cell_type": "code",
   "execution_count": 16,
   "metadata": {
    "scrolled": true
   },
   "outputs": [
    {
     "data": {
      "text/plain": [
       "['abu kampret . . .',\n",
       " 'bapa saya suka pake oppo . . . saya sukanya nokia . . . kaka saya sukanya samsung . . . yg penting punya hape aja . . .',\n",
       " '',\n",
       " 'memiliki sedikit iman lebih berharga dari pada memiliki segudang emas !',\n",
       " 'valentino rossi tidak setuju kompetisi motogp dimulai dari eropa',\n",
       " 'sis tak faham , apa yang mungkin ini puncanya tu ? ? ?',\n",
       " '\" martabak terang bulan \" \" martabak \" untuk yg asin / gurih a.k.a martabak telor \" terang bulan \" untuk yg manis ( yg gw s',\n",
       " 'dia dah tua put , dah nak 31 . plus dia tak start regularly kat man utd so mesti ka',\n",
       " 'sejarah susah',\n",
       " 'tak sakit pun tapi saja nak bau minyak freshcare sbb bau lavender']"
      ]
     },
     "execution_count": 16,
     "metadata": {},
     "output_type": "execute_result"
    }
   ],
   "source": [
    "filtered_notin[:10]"
   ]
  },
  {
   "cell_type": "code",
   "execution_count": 17,
   "metadata": {},
   "outputs": [
    {
     "data": {
      "text/plain": [
       "(2972457, 4320981)"
      ]
     },
     "execution_count": 17,
     "metadata": {},
     "output_type": "execute_result"
    }
   ],
   "source": [
    "len(filtered), len(filtered_notin)"
   ]
  },
  {
   "cell_type": "code",
   "execution_count": 18,
   "metadata": {},
   "outputs": [],
   "source": [
    "with open('filtered.json', 'w') as fopen:\n",
    "    json.dump(filtered, fopen)"
   ]
  },
  {
   "cell_type": "code",
   "execution_count": null,
   "metadata": {},
   "outputs": [],
   "source": [
    "with open('filtered_notin.json', 'w') as fopen:\n",
    "    json.dump(filtered_notin, fopen)"
   ]
  },
  {
   "cell_type": "code",
   "execution_count": null,
   "metadata": {},
   "outputs": [],
   "source": []
  }
 ],
 "metadata": {
  "kernelspec": {
   "display_name": "Python 3",
   "language": "python",
   "name": "python3"
  },
  "language_info": {
   "codemirror_mode": {
    "name": "ipython",
    "version": 3
   },
   "file_extension": ".py",
   "mimetype": "text/x-python",
   "name": "python",
   "nbconvert_exporter": "python",
   "pygments_lexer": "ipython3",
   "version": "3.6.8"
  }
 },
 "nbformat": 4,
 "nbformat_minor": 2
}
