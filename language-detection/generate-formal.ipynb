{
 "cells": [
  {
   "cell_type": "code",
   "execution_count": 2,
   "metadata": {},
   "outputs": [],
   "source": [
    "# !wget https://raw.githubusercontent.com/huseinzol05/Malaya-Dataset/master/language-detection/language-detection-data-v5.json.zip\n",
    "# !unzip language-detection-data-v5.json.zip"
   ]
  },
  {
   "cell_type": "code",
   "execution_count": 3,
   "metadata": {},
   "outputs": [],
   "source": [
    "import json"
   ]
  },
  {
   "cell_type": "code",
   "execution_count": 4,
   "metadata": {},
   "outputs": [],
   "source": [
    "with open('language-detection-data-v5.json') as fopen:\n",
    "    lang = json.load(fopen)"
   ]
  },
  {
   "cell_type": "code",
   "execution_count": 5,
   "metadata": {},
   "outputs": [
    {
     "data": {
      "text/plain": [
       "381597"
      ]
     },
     "execution_count": 5,
     "metadata": {},
     "output_type": "execute_result"
    }
   ],
   "source": [
    "others = [text for no, text in enumerate(lang['text']) if lang['label'][no] not in ['zlm', 'ind']]\n",
    "len(others)"
   ]
  },
  {
   "cell_type": "code",
   "execution_count": 6,
   "metadata": {},
   "outputs": [
    {
     "data": {
      "text/plain": [
       "53692"
      ]
     },
     "execution_count": 6,
     "metadata": {},
     "output_type": "execute_result"
    }
   ],
   "source": [
    "zlm = [text for no, text in enumerate(lang['text']) if lang['label'][no] == 'zlm']\n",
    "len(zlm)"
   ]
  },
  {
   "cell_type": "code",
   "execution_count": 7,
   "metadata": {},
   "outputs": [],
   "source": [
    "zlm_words = set(' '.join(zlm).split())"
   ]
  },
  {
   "cell_type": "code",
   "execution_count": 8,
   "metadata": {},
   "outputs": [
    {
     "data": {
      "text/plain": [
       "57327"
      ]
     },
     "execution_count": 8,
     "metadata": {},
     "output_type": "execute_result"
    }
   ],
   "source": [
    "ind = [text for no, text in enumerate(lang['text']) if lang['label'][no] == 'ind']\n",
    "len(ind)"
   ]
  },
  {
   "cell_type": "code",
   "execution_count": 9,
   "metadata": {},
   "outputs": [],
   "source": [
    "ind_words = set(' '.join(ind).split())"
   ]
  },
  {
   "cell_type": "code",
   "execution_count": 10,
   "metadata": {},
   "outputs": [
    {
     "data": {
      "text/plain": [
       "(17286, 7614)"
      ]
     },
     "execution_count": 10,
     "metadata": {},
     "output_type": "execute_result"
    }
   ],
   "source": [
    "len(zlm_words), len(ind_words)"
   ]
  },
  {
   "cell_type": "code",
   "execution_count": 11,
   "metadata": {},
   "outputs": [],
   "source": [
    "# !wget https://raw.githubusercontent.com/huseinzol05/Malaya-Dataset/master/200k-english-malay/200k-english-malay.json"
   ]
  },
  {
   "cell_type": "code",
   "execution_count": 12,
   "metadata": {},
   "outputs": [
    {
     "data": {
      "text/plain": [
       "150125"
      ]
     },
     "execution_count": 12,
     "metadata": {},
     "output_type": "execute_result"
    }
   ],
   "source": [
    "with open('200k-english-malay.json') as fopen:\n",
    "    english_malay = json.load(fopen)\n",
    "    \n",
    "malays = set([i[1] for i in english_malay])\n",
    "len(malays)"
   ]
  },
  {
   "cell_type": "code",
   "execution_count": 13,
   "metadata": {},
   "outputs": [],
   "source": [
    "# !wget https://dl.fbaipublicfiles.com/arrival/dictionaries/en-ms.txt"
   ]
  },
  {
   "cell_type": "code",
   "execution_count": 14,
   "metadata": {},
   "outputs": [],
   "source": [
    "with open('en-ms.txt') as fopen:\n",
    "    en_ms = list(filter(None, fopen.read().split('\\n')))\n",
    "    \n",
    "en_ms = [i.split('\\t') for i in en_ms]\n",
    "en_ms = set([i[1] for i in en_ms if i[1] != i[0]])"
   ]
  },
  {
   "cell_type": "code",
   "execution_count": 15,
   "metadata": {},
   "outputs": [],
   "source": [
    "malays = malays | en_ms"
   ]
  },
  {
   "cell_type": "code",
   "execution_count": 16,
   "metadata": {},
   "outputs": [
    {
     "data": {
      "text/plain": [
       "393429"
      ]
     },
     "execution_count": 16,
     "metadata": {},
     "output_type": "execute_result"
    }
   ],
   "source": [
    "with open('id-wiki.txt') as fopen:\n",
    "    id_wiki = fopen.read().split('\\n')\n",
    "    \n",
    "len(id_wiki)"
   ]
  },
  {
   "cell_type": "code",
   "execution_count": 17,
   "metadata": {},
   "outputs": [],
   "source": [
    "import re\n",
    "from unidecode import unidecode\n",
    "import cleaning\n",
    "from tqdm import tqdm\n",
    "\n",
    "def preprocessing(string):\n",
    "    string = unidecode(string)\n",
    "    chars = ',.()!:\\'\"/;=-'\n",
    "    for c in chars:\n",
    "        string = string.replace(c, f' {c} ')\n",
    "        \n",
    "    string = re.sub('[^A-Za-z ]+', ' ', unidecode(string))\n",
    "    string = re.sub(r'[ ]+', ' ', string).strip()\n",
    "    return string.lower()\n",
    "\n",
    "def loop(strings):\n",
    "    for i in tqdm(range(len(strings))):\n",
    "        strings[i] = preprocessing(strings[i])\n",
    "    return strings"
   ]
  },
  {
   "cell_type": "code",
   "execution_count": 18,
   "metadata": {
    "scrolled": false
   },
   "outputs": [
    {
     "name": "stderr",
     "output_type": "stream",
     "text": [
      "  9%|▉         | 2248/24589 [00:01<00:13, 1657.90it/s]s]\n",
      "100%|██████████| 5/5 [00:00<00:00, 2407.48it/s]42it/s]\n",
      "100%|██████████| 24589/24589 [00:01<00:00, 14342.48it/s]\n",
      "100%|██████████| 24589/24589 [00:01<00:00, 13876.04it/s]\n",
      "100%|██████████| 24589/24589 [00:01<00:00, 13631.72it/s]\n",
      "100%|██████████| 24589/24589 [00:09<00:00, 2599.02it/s]\n",
      "100%|██████████| 24589/24589 [00:11<00:00, 2183.42it/s]\n",
      "100%|██████████| 24589/24589 [00:12<00:00, 1998.57it/s]\n",
      "100%|██████████| 24589/24589 [00:13<00:00, 1777.53it/s]\n",
      "100%|██████████| 24589/24589 [00:13<00:00, 1798.68it/s]\n",
      " 87%|████████▋ | 21473/24589 [00:12<00:01, 1948.86it/s]\n",
      "100%|██████████| 24589/24589 [00:13<00:00, 1780.67it/s]\n",
      "100%|██████████| 24589/24589 [00:15<00:00, 1618.67it/s]\n",
      "100%|██████████| 24589/24589 [00:14<00:00, 1730.36it/s]\n",
      "100%|██████████| 24589/24589 [00:15<00:00, 1636.55it/s]\n",
      "100%|██████████| 24589/24589 [00:18<00:00, 1363.21it/s]\n",
      "100%|██████████| 24589/24589 [00:32<00:00, 759.96it/s] \n"
     ]
    }
   ],
   "source": [
    "id_wiki = cleaning.multiprocessing(id_wiki, loop)"
   ]
  },
  {
   "cell_type": "code",
   "execution_count": 19,
   "metadata": {},
   "outputs": [
    {
     "data": {
      "text/plain": [
       "1435013"
      ]
     },
     "execution_count": 19,
     "metadata": {},
     "output_type": "execute_result"
    }
   ],
   "source": [
    "id_wiki_words = set(' '.join(id_wiki).split())\n",
    "len(id_wiki_words)"
   ]
  },
  {
   "cell_type": "code",
   "execution_count": 20,
   "metadata": {},
   "outputs": [],
   "source": [
    "ind_words = ind_words | id_wiki_words"
   ]
  },
  {
   "cell_type": "code",
   "execution_count": 21,
   "metadata": {},
   "outputs": [
    {
     "data": {
      "text/plain": [
       "1748387"
      ]
     },
     "execution_count": 21,
     "metadata": {},
     "output_type": "execute_result"
    }
   ],
   "source": [
    "with open('../wikidump1-raw.json') as fopen:\n",
    "    ms_wiki = json.load(fopen)\n",
    "    \n",
    "len(ms_wiki)"
   ]
  },
  {
   "cell_type": "code",
   "execution_count": 22,
   "metadata": {},
   "outputs": [
    {
     "data": {
      "text/plain": [
       "1893949"
      ]
     },
     "execution_count": 22,
     "metadata": {},
     "output_type": "execute_result"
    }
   ],
   "source": [
    "ms_wiki_words = set(' '.join(ms_wiki).split())\n",
    "len(ms_wiki_words)"
   ]
  },
  {
   "cell_type": "code",
   "execution_count": 23,
   "metadata": {},
   "outputs": [],
   "source": [
    "malays = malays | zlm_words | ms_wiki_words"
   ]
  },
  {
   "cell_type": "code",
   "execution_count": 24,
   "metadata": {},
   "outputs": [],
   "source": [
    "with open('malays_word.json', 'w') as fopen:\n",
    "    json.dump(list(malays), fopen)"
   ]
  },
  {
   "cell_type": "code",
   "execution_count": 24,
   "metadata": {},
   "outputs": [],
   "source": [
    "intersected = malays.intersection(ind_words)"
   ]
  },
  {
   "cell_type": "code",
   "execution_count": 25,
   "metadata": {},
   "outputs": [
    {
     "name": "stderr",
     "output_type": "stream",
     "text": [
      " 56%|█████▌    | 61297/109274 [00:01<00:00, 49729.67it/s]]\n",
      "100%|██████████| 3/3 [00:00<00:00, 13217.34it/s]9.18it/s]]\n",
      "100%|██████████| 109274/109274 [00:02<00:00, 51086.46it/s]\n",
      "100%|██████████| 109274/109274 [00:02<00:00, 51926.56it/s]\n",
      "100%|██████████| 109274/109274 [00:02<00:00, 49832.42it/s]\n",
      " 73%|███████▎  | 79971/109274 [00:01<00:00, 47747.33it/s]]\n",
      "100%|██████████| 109274/109274 [00:02<00:00, 49106.48it/s]\n",
      "100%|██████████| 109274/109274 [00:02<00:00, 50804.50it/s]\n",
      "100%|██████████| 109274/109274 [00:02<00:00, 48896.48it/s]\n",
      "100%|██████████| 109274/109274 [00:02<00:00, 52252.48it/s]\n",
      " 98%|█████████▊| 107505/109274 [00:02<00:00, 50408.43it/s]\n",
      "100%|██████████| 109274/109274 [00:02<00:00, 50140.41it/s]\n",
      "100%|██████████| 109274/109274 [00:02<00:00, 47326.62it/s]\n",
      " 96%|█████████▌| 104888/109274 [00:02<00:00, 49291.53it/s]\n",
      "100%|██████████| 109274/109274 [00:02<00:00, 47703.07it/s]\n",
      "100%|██████████| 109274/109274 [00:02<00:00, 49819.29it/s]\n",
      "100%|██████████| 109274/109274 [00:02<00:00, 48206.83it/s]\n"
     ]
    }
   ],
   "source": [
    "ms_wiki = cleaning.multiprocessing(ms_wiki, loop)"
   ]
  },
  {
   "cell_type": "code",
   "execution_count": 26,
   "metadata": {},
   "outputs": [
    {
     "data": {
      "text/plain": [
       "1293392"
      ]
     },
     "execution_count": 26,
     "metadata": {},
     "output_type": "execute_result"
    }
   ],
   "source": [
    "ind_minus = ind_words - intersected\n",
    "len(ind_minus)"
   ]
  },
  {
   "cell_type": "code",
   "execution_count": 27,
   "metadata": {},
   "outputs": [
    {
     "name": "stderr",
     "output_type": "stream",
     "text": [
      "100%|██████████| 1748387/1748387 [00:07<00:00, 223018.53it/s]\n"
     ]
    }
   ],
   "source": [
    "for i in tqdm(range(len(ms_wiki))):\n",
    "    ms_wiki[i] = ' '.join([w for w in ms_wiki[i].split() if w not in ind_minus])"
   ]
  },
  {
   "cell_type": "code",
   "execution_count": 28,
   "metadata": {},
   "outputs": [
    {
     "data": {
      "text/plain": [
       "'segi segi syaitan kawasan bahagian barat laut lautan utara kapal terbang kapal hilang misteri kawasan perairan segi laluan perairan sibuk dunia kapal kapal kawasan pelabuhan kepulauan kapal kapal mewah kapal terbang kawasan kehilangan dikaitkan aktiviti makhluk asing budaya popular dokumen kebanyakan disalah lapor samping penafian rasmi kebanyakan agensi kerajaan kehilangan ketara kes kehilangan kawasan siasatan kawasan segi kawasan segi sempadan segi pendapat bentuknya trapezium meliputi selat pulau timur teluk lautan lautan sempadan segi buku titik pantai lautan pulau kebanyakan misteri sempadan selatan selat lautan kawasan salah laluan kapal dunia kapal kapal pelabuhan kepulauan kapal pelancongan tersedia kapal alik kepulauan laluan kapal terbang arah selatan titik utara arus lautan arus teluk mengalir segi meninggalkan teluk arusnya knot peranan kehilangan ribut mengejut muncul musim panas musim luruh kadang kawasan gabungan laluan laut sibuk cuaca mustahil kapal karam ribut tenggelam sebarang teknologi komunikasi radar satelit abad sejarah cerita segi segi ganjil segi anak kapalnya cahaya pelik kaki langit api langit titik bacaan kompas kawasan buku anak kapal tanah berdiri biliknya nampak cahaya benda tanah cahaya arah cahaya hantar raja permaisuri skuadron laksamana kali nampak cahaya lilin daratan laksamana kawasan daratan penyelidik moden memeriksa buku log cahaya api asli pantai bacaan kompas akibat bacaan salah bintang rencana muncul akhbar majalah rencana pendek isu kehilangan kapal terbang kapal kehilangan kapal terbang pengebom tentera laut syarikat misi latihan rencana segi kehilangan berlaku isu majalah rencana ceritanya ketua penerbangan are are was was but penjelasan penyelidik universiti negeri mencabar percanggahan kisah kenyataan saksi maklumat kehilangan pelayar bentangkan misteri bukti contoh bijih hilang jejak pelabuhan hilang pelabuhan nama lautan pasifik mendakwa pengaruh misteri segi berlaku kali mudah akhbar fakta laporan cuaca cerita kapal kapal terbang hilang kawasan bandingan lautan kawasan ribut tropika kehilangan berlaku kebanyakan melampau tambahan kali gagal ribut besarkan teliti bot hilang lambat pelabuhan kehilangan berlaku kemalangan kapal terbang berlaku pantai hadapan saksi akhbar tempatan hasil segi misteri buatan sengaja sengaja salah faham salah pendapat syarikat laut segi bahaya berbanding kawasan laut kadar bayaran laluan kawasan rekod pengawal pantai syarikat keputusan hilang berbanding kapal kapal terbang kawasan pengawal pantai kepercayaan segi dokumentasi kebanyakan segi salah letupan kapal tangki teluk pengawal pantai kapal pecah mayat salah segi mendakwa mayat hilang kapten dijumpai kabin memegang cawan kopi edisi penyelidik perhatian misteri popular mendorong bahan topik segi bahan kali mendakwa pasaran condong buku khas misteri segi menentang bahan sudut penjelasan hidrat fail taburan dunia hidrat gas pantai sumber gambar warna palsu alur teluk mengalir utara laut barat penjelasan kehilangan kewujudan medan hidrat tebing benua ujian makmal buih model kapal ketumpatan air sebarang sampah timbul permukaan arus teluk hipotesis letupan kadang gunung lumpur kawasan air apungan mencukupi kapal berlaku kawasan kapal sebarang kapal terbang sebarang ringan berbanding air altimeter kapal terbang kawasan kapal terbang timbul pandu arah altimeter tekanan udara kertas putih kajian geologi syarikat kemunculan hidrat kawasan pantai tenggara syarikat laman web kajian geologi besaran gas hidrat berlaku segi variasi kompas kompas salah kebanyakan segi penyelidik teori kepelikan magnetik tempatan kawasan ribut kuat berasal sejarah kehilangan beribu ribu nyawa kerosakan dolar armada rekod kemusnahan salah kuat sejarah ekonomi ribut peristiwa segi arus teluk arus teluk arus laut berasal teluk selat lautan utara sungai laut sungai objek kapal terbang mendarat air bot kerosakan enjin bawa lari kedudukan arus berlaku kabin kerosakan enjin boya batu pantai bot pengawal pantai ombak gadang ombak muncul rawak laut tenang salah ombak gadang pelantar minyak sebarang ombak gadang berlaku kerap segi penjelasan misteri kehilangan kapal terbang manusia kesilapan manusia alasan rasmi popular kehilangan kapal terbang kapal laut kesilapan manusia kesilapan manusia kemalangan kehilangan segi contoh kesilapan manusia punca kehilangan kapal tangki kedegilan ahli perniagaan kehilangan kapal belajar ribut kehilangan bangkai kapal hilang dijumpai tindakan kemusnahan jatuh kategori perang lanun rekod rekod kehilangan fail fail musuh syarikat penenggelaman permukaan kapal selam perang dunia buku log perintah disyaki kategori kehilangan kapal kapal perang dunia disyaki ditenggelami kapal selam sebarang hubungan dijumpai rekod merampas kapal perahu laut berlaku merampas kargo lautan pasifik lautan penyeludup dadah merampas lancang peranginan kegiatan kehilangan sekoci anak kapal laut kegiatan kegiatan jean lanun laut segi sejarah mangsa segi bentuk darat lanun pantai cahaya arah salah kapal kapal nahas kapal merampas lanun membunuh anak kapal utara sempena amalan lanun menggantung kepala kuda belah kakinya kuda lari pantai teori popular segi teori kuasa ghaib teori teknologi benua hilang teori dikaitkan batu timbul jalan pulau segi pendapat ahli psikik bernama bukti kewujudan merujuk penemuan jalan percaya kewujudan batu jalan benteng struktur ahli geologi fenomena kehilangan kapal idea kehilangan penerbangan makhluk asing cucu ahli linguistik buku fenomena kehilangan segi kuasa ghaib peristiwa peristiwa terkemuka fail milik tentera laut syarikat gambar ramai segi tentera laut penerbangan latihan pengebom hilang perairan lautan tanggapan penerbangan fenomena bacaan bacaan kompas janggal penerbangan tenang juruterbang membingungkan laporan tentera laut kemalangan punca reputasi anak punca punca arah barat laut percaya kedudukan fakta fakta asas versi cerita perincian perincian hilang cuaca memiliki pengalaman penerbangan kawasan selatan memiliki sejarah sesat penerbangan berlaku kali perang dunia air kali laporan rakaman tentera laut juruterbang juruterbang sebarang magnetik misteri kali dikaitkan segi kapal teori kapal wasap alkohol kargo penenggelaman kapal nama mari buku was are kemalangan jiwa sejarah tentera laut berhubung kait peperangan arahan hilang anak kapal pulau teori ribut karam aktiviti musuh peristiwa anak bekas timbalan presiden syarikat kehilangan segi adi kapal patriot kedengaran kegiatan lanun perang dikaitkan penjelasan teori segi kemahiran kapten dunia kapal layar haluan lenyap bukti segi hilang dilanggar kapal wap paus bot pelayar punca berlaku rasmi mati misteri sebarang bukti aktiviti fail was was was rum along hilang penerbangan kapal dijumpai dokumen badan penerbangan awam kunci kehilangan dijumpai jarang segi bateri memiliki cas rendah juruterbang not was was was had not not pending was was kapal terbang milik air but air was kapal tangki suai minyak belerang kali anak kapal kapal rencana majalah belayar pengawal pantai sejarah kapal buruk kapal sesuai laut salah segi berlaku pendapat kapal kadang disalah erti isyarat bantuan berbunyi bahaya pisau belati cepat pisau belati cepat spekulasi perkataan kapal segi perkataan pisau belati panggilan bantuan kapal bahaya cepat belayar kapal ribut teruk tenggelam utara anak kapalnya kapal mencuba usaha segi kemalangan popular segi dipetik dokumen dokumen rasmi kerja kerja kemalangan berlaku segi sumber sumber gian adi rujukan pautan log gian lihat'"
      ]
     },
     "execution_count": 28,
     "metadata": {},
     "output_type": "execute_result"
    }
   ],
   "source": [
    "zlm[0]"
   ]
  },
  {
   "cell_type": "code",
   "execution_count": 29,
   "metadata": {},
   "outputs": [
    {
     "name": "stderr",
     "output_type": "stream",
     "text": [
      "100%|██████████| 53692/53692 [00:01<00:00, 41119.01it/s]\n"
     ]
    }
   ],
   "source": [
    "for i in tqdm(range(len(zlm))):\n",
    "    zlm[i] = ' '.join([w for w in zlm[i].split() if w not in ind_minus])"
   ]
  },
  {
   "cell_type": "code",
   "execution_count": 30,
   "metadata": {},
   "outputs": [],
   "source": [
    "with open('ind_words.json', 'w') as fopen:\n",
    "    json.dump(list(ind_minus), fopen)"
   ]
  },
  {
   "cell_type": "code",
   "execution_count": 31,
   "metadata": {},
   "outputs": [],
   "source": [
    "with open('formal-language.json', 'w') as fopen:\n",
    "    json.dump({'other': others,\n",
    "              'malay': zlm + ms_wiki,\n",
    "              'ind': ind + id_wiki}, fopen)"
   ]
  }
 ],
 "metadata": {
  "kernelspec": {
   "display_name": "Python 3",
   "language": "python",
   "name": "python3"
  },
  "language_info": {
   "codemirror_mode": {
    "name": "ipython",
    "version": 3
   },
   "file_extension": ".py",
   "mimetype": "text/x-python",
   "name": "python",
   "nbconvert_exporter": "python",
   "pygments_lexer": "ipython3",
   "version": "3.6.8"
  }
 },
 "nbformat": 4,
 "nbformat_minor": 2
}
