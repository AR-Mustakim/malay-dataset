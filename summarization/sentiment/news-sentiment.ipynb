{
 "cells": [
  {
   "cell_type": "code",
   "execution_count": 15,
   "metadata": {},
   "outputs": [],
   "source": [
    "from glob import glob\n",
    "import pandas as pd\n",
    "import json"
   ]
  },
  {
   "cell_type": "code",
   "execution_count": 3,
   "metadata": {},
   "outputs": [
    {
     "data": {
      "text/plain": [
       "['t5-data/multinews-summarization-0.tsv',\n",
       " 't5-data/news-title-1.tsv',\n",
       " 't5-data/news-title-2.tsv',\n",
       " 't5-data/cnn-summarization-0.tsv',\n",
       " 't5-data/cnn-summarization-1.tsv',\n",
       " 't5-data/news-title-0.tsv',\n",
       " 't5-data/news-title-3.tsv',\n",
       " 't5-data/multinews-summarization-1.tsv',\n",
       " 'summary.tsv']"
      ]
     },
     "execution_count": 3,
     "metadata": {},
     "output_type": "execute_result"
    }
   ],
   "source": [
    "files = glob('t5-data/*.tsv') + ['summary.tsv']\n",
    "files"
   ]
  },
  {
   "cell_type": "code",
   "execution_count": 7,
   "metadata": {},
   "outputs": [
    {
     "data": {
      "text/html": [
       "<div>\n",
       "<style scoped>\n",
       "    .dataframe tbody tr th:only-of-type {\n",
       "        vertical-align: middle;\n",
       "    }\n",
       "\n",
       "    .dataframe tbody tr th {\n",
       "        vertical-align: top;\n",
       "    }\n",
       "\n",
       "    .dataframe thead th {\n",
       "        text-align: right;\n",
       "    }\n",
       "</style>\n",
       "<table border=\"1\" class=\"dataframe\">\n",
       "  <thead>\n",
       "    <tr style=\"text-align: right;\">\n",
       "      <th></th>\n",
       "      <th>0</th>\n",
       "      <th>1</th>\n",
       "    </tr>\n",
       "  </thead>\n",
       "  <tbody>\n",
       "    <tr>\n",
       "      <th>0</th>\n",
       "      <td>Ya, ini kali lagi, kawan-kawan. Ia adalah hari...</td>\n",
       "      <td>- Kadar pengangguran turun ke 8. 2% bulan lalu...</td>\n",
       "    </tr>\n",
       "    <tr>\n",
       "      <th>1</th>\n",
       "      <td>LOS ANGELES (AP) - Dalam wawancara pertamanya ...</td>\n",
       "      <td>- Shelly Sterling merancang \"akhirnya\" untuk m...</td>\n",
       "    </tr>\n",
       "    <tr>\n",
       "      <th>2</th>\n",
       "      <td>GAITHERSBURG, Md. (AP) - Sebuah jet peribadi k...</td>\n",
       "      <td>- Sebuah jet Embraer enjin berkembar yang diga...</td>\n",
       "    </tr>\n",
       "    <tr>\n",
       "      <th>3</th>\n",
       "      <td>Tucker Carlson Mendedahkan Seksisme Sendiri di...</td>\n",
       "      <td>- Tucker Carlson sedang melakukan doodoo menda...</td>\n",
       "    </tr>\n",
       "    <tr>\n",
       "      <th>4</th>\n",
       "      <td>Talian hotline bunuh diri dapat memberikan sok...</td>\n",
       "      <td>- Panggilan untuk hotline bunuh diri telah men...</td>\n",
       "    </tr>\n",
       "  </tbody>\n",
       "</table>\n",
       "</div>"
      ],
      "text/plain": [
       "                                                   0  \\\n",
       "0  Ya, ini kali lagi, kawan-kawan. Ia adalah hari...   \n",
       "1  LOS ANGELES (AP) - Dalam wawancara pertamanya ...   \n",
       "2  GAITHERSBURG, Md. (AP) - Sebuah jet peribadi k...   \n",
       "3  Tucker Carlson Mendedahkan Seksisme Sendiri di...   \n",
       "4  Talian hotline bunuh diri dapat memberikan sok...   \n",
       "\n",
       "                                                   1  \n",
       "0  - Kadar pengangguran turun ke 8. 2% bulan lalu...  \n",
       "1  - Shelly Sterling merancang \"akhirnya\" untuk m...  \n",
       "2  - Sebuah jet Embraer enjin berkembar yang diga...  \n",
       "3  - Tucker Carlson sedang melakukan doodoo menda...  \n",
       "4  - Panggilan untuk hotline bunuh diri telah men...  "
      ]
     },
     "execution_count": 7,
     "metadata": {},
     "output_type": "execute_result"
    }
   ],
   "source": [
    "df = pd.read_csv(files[0], sep = '\\t', header = None)\n",
    "df.head()"
   ]
  },
  {
   "cell_type": "code",
   "execution_count": 8,
   "metadata": {
    "scrolled": true
   },
   "outputs": [
    {
     "name": "stdout",
     "output_type": "stream",
     "text": [
      "WARNING:tensorflow:From /home/husein/.local/lib/python3.6/site-packages/malaya/function/__init__.py:73: The name tf.gfile.GFile is deprecated. Please use tf.io.gfile.GFile instead.\n",
      "\n",
      "WARNING:tensorflow:From /home/husein/.local/lib/python3.6/site-packages/malaya/function/__init__.py:75: The name tf.GraphDef is deprecated. Please use tf.compat.v1.GraphDef instead.\n",
      "\n",
      "WARNING:tensorflow:From /home/husein/.local/lib/python3.6/site-packages/malaya/function/__init__.py:50: The name tf.ConfigProto is deprecated. Please use tf.compat.v1.ConfigProto instead.\n",
      "\n",
      "WARNING:tensorflow:From /home/husein/.local/lib/python3.6/site-packages/malaya/function/__init__.py:65: The name tf.InteractiveSession is deprecated. Please use tf.compat.v1.InteractiveSession instead.\n",
      "\n"
     ]
    }
   ],
   "source": [
    "import malaya\n",
    "\n",
    "xlnet = malaya.sentiment.transformer(model = 'xlnet')\n",
    "bert = malaya.sentiment.transformer(model = 'bert')\n",
    "alxlnet = malaya.sentiment.transformer(model = 'alxlnet')"
   ]
  },
  {
   "cell_type": "code",
   "execution_count": 14,
   "metadata": {},
   "outputs": [
    {
     "data": {
      "text/plain": [
       "('t5-data', 'multinews-summarization-0.tsv')"
      ]
     },
     "execution_count": 14,
     "metadata": {},
     "output_type": "execute_result"
    }
   ],
   "source": [
    "import os\n",
    "\n",
    "os.path.split(files[0])"
   ]
  },
  {
   "cell_type": "code",
   "execution_count": 20,
   "metadata": {},
   "outputs": [
    {
     "name": "stdout",
     "output_type": "stream",
     "text": [
      "t5-data/multinews-summarization-0.tsv\n"
     ]
    },
    {
     "name": "stderr",
     "output_type": "stream",
     "text": [
      "100%|██████████| 4000/4000 [1:26:36<00:00,  1.30s/it] \n"
     ]
    },
    {
     "name": "stdout",
     "output_type": "stream",
     "text": [
      "t5-data/news-title-1.tsv\n"
     ]
    },
    {
     "name": "stderr",
     "output_type": "stream",
     "text": [
      "b'Skipping line 29218: expected 2 fields, saw 3\\n'\n",
      "100%|██████████| 3999/3999 [1:06:41<00:00,  1.00s/it]\n"
     ]
    },
    {
     "name": "stdout",
     "output_type": "stream",
     "text": [
      "t5-data/news-title-2.tsv\n"
     ]
    },
    {
     "name": "stderr",
     "output_type": "stream",
     "text": [
      "b'Skipping line 14533: expected 2 fields, saw 3\\n'\n",
      "100%|██████████| 3999/3999 [1:07:57<00:00,  1.02s/it]\n"
     ]
    },
    {
     "name": "stdout",
     "output_type": "stream",
     "text": [
      "t5-data/cnn-summarization-0.tsv\n"
     ]
    },
    {
     "name": "stderr",
     "output_type": "stream",
     "text": [
      "b'Skipping line 2285: expected 2 fields, saw 3\\nSkipping line 9248: expected 2 fields, saw 3\\nSkipping line 40682: expected 2 fields, saw 3\\nSkipping line 42274: expected 2 fields, saw 3\\nSkipping line 49702: expected 2 fields, saw 3\\n'\n",
      "100%|██████████| 4999/4999 [1:30:08<00:00,  1.08s/it]\n"
     ]
    },
    {
     "name": "stdout",
     "output_type": "stream",
     "text": [
      "t5-data/cnn-summarization-1.tsv\n"
     ]
    },
    {
     "name": "stderr",
     "output_type": "stream",
     "text": [
      "100%|██████████| 2020/2020 [36:05<00:00,  1.07s/it]\n"
     ]
    },
    {
     "name": "stdout",
     "output_type": "stream",
     "text": [
      "t5-data/news-title-0.tsv\n"
     ]
    },
    {
     "name": "stderr",
     "output_type": "stream",
     "text": [
      "b'Skipping line 35779: expected 2 fields, saw 3\\n'\n",
      "100%|██████████| 4000/4000 [1:07:26<00:00,  1.01s/it]\n"
     ]
    },
    {
     "name": "stdout",
     "output_type": "stream",
     "text": [
      "t5-data/news-title-3.tsv\n"
     ]
    },
    {
     "name": "stderr",
     "output_type": "stream",
     "text": [
      "100%|██████████| 2673/2673 [41:40<00:00,  1.07it/s] \n"
     ]
    },
    {
     "name": "stdout",
     "output_type": "stream",
     "text": [
      "t5-data/multinews-summarization-1.tsv\n"
     ]
    },
    {
     "name": "stderr",
     "output_type": "stream",
     "text": [
      "100%|██████████| 1079/1079 [24:54<00:00,  1.39s/it] \n"
     ]
    },
    {
     "name": "stdout",
     "output_type": "stream",
     "text": [
      "summary.tsv\n"
     ]
    },
    {
     "name": "stderr",
     "output_type": "stream",
     "text": [
      "b'Skipping line 32004: expected 2 fields, saw 3\\nSkipping line 64231: expected 2 fields, saw 3\\n'\n",
      "100%|██████████| 10747/10747 [2:49:58<00:00,  1.05it/s] \n"
     ]
    }
   ],
   "source": [
    "import operator\n",
    "from tqdm import tqdm\n",
    "\n",
    "batch_size = 10\n",
    "for file in files:\n",
    "    print(file)\n",
    "    sentiment, left, right = [], [], []\n",
    "    df = pd.read_csv(file, sep = '\\t', header = None, error_bad_lines=False)\n",
    "    for i in tqdm(range(0, len(df), batch_size)):\n",
    "        index = min(i + batch_size, len(df))\n",
    "        batch_x = df[0].iloc[i: index].tolist()\n",
    "        batch_y = df[1].iloc[i: index].tolist()\n",
    "        r = malaya.stack.predict_stack([xlnet, bert, alxlnet], batch_x)\n",
    "        \n",
    "        for row in r:\n",
    "            sentiment.append(max(row.items(), key=operator.itemgetter(1))[0])\n",
    "            \n",
    "        left.extend(batch_x)\n",
    "        right.extend(batch_y)\n",
    "        \n",
    "    \n",
    "    with open(f'{file}.sentiment', 'w') as fopen:\n",
    "        json.dump({'sentiment': sentiment, 'left': left, 'right': right}, fopen)"
   ]
  }
 ],
 "metadata": {
  "kernelspec": {
   "display_name": "Python 3",
   "language": "python",
   "name": "python3"
  },
  "language_info": {
   "codemirror_mode": {
    "name": "ipython",
    "version": 3
   },
   "file_extension": ".py",
   "mimetype": "text/x-python",
   "name": "python",
   "nbconvert_exporter": "python",
   "pygments_lexer": "ipython3",
   "version": "3.6.8"
  }
 },
 "nbformat": 4,
 "nbformat_minor": 2
}
