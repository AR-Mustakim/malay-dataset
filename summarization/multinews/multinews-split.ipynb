{
 "cells": [
  {
   "cell_type": "code",
   "execution_count": 1,
   "metadata": {},
   "outputs": [],
   "source": [
    "# !wget https://malaya-dataset.s3-ap-southeast-1.amazonaws.com/summary/multi-news-original-20190725T164630Z-001.zip\n",
    "# !unzip multi-news-original-20190725T164630Z-001.zip"
   ]
  },
  {
   "cell_type": "code",
   "execution_count": 16,
   "metadata": {
    "scrolled": true
   },
   "outputs": [
    {
     "name": "stderr",
     "output_type": "stream",
     "text": [
      "100%|██████████| 44973/44973 [00:04<00:00, 10292.97it/s]\n",
      "100%|██████████| 5623/5623 [00:00<00:00, 10253.84it/s]\n",
      "100%|██████████| 5623/5623 [00:00<00:00, 8968.58it/s] \n"
     ]
    }
   ],
   "source": [
    "from tqdm import tqdm\n",
    "\n",
    "files = ['train', 'test', 'val']\n",
    "\n",
    "results = []\n",
    "\n",
    "for file in files:\n",
    "    s = f'multi-news-original/{file}.src'\n",
    "    t = f'multi-news-original/{file}.tgt'\n",
    "    \n",
    "    with open(s) as fopen:\n",
    "        source = fopen.read().split('\\n')\n",
    "        \n",
    "    with open(t) as fopen:\n",
    "        tgt = fopen.read().split('\\n')\n",
    "        \n",
    "    for i in tqdm(range(len(source))):\n",
    "        s_i = source[i]\n",
    "        s_i = s_i.replace('|||||', '')\n",
    "        t_i = tgt[i]\n",
    "        s_i = [s.strip() for s in s_i.split('NEWLINE_CHAR') if len(s.strip()) >= 30 \\\n",
    "         and not 'toggle caption' in s.lower()]\n",
    "        if len(s_i) and len(t_i):\n",
    "            results.append((s_i, t_i))"
   ]
  },
  {
   "cell_type": "code",
   "execution_count": 17,
   "metadata": {},
   "outputs": [],
   "source": [
    "def split(story, highlights, cap = 5000):\n",
    "    a, s_ = [], ''\n",
    "    for s in story:\n",
    "        if len(s_ + ' ' + s) >= 5000:\n",
    "            a.append(s_)\n",
    "            s_ = ''\n",
    "        else:\n",
    "            s_ = s_ + ' ' + s\n",
    "    if len(s_):\n",
    "        a.append(s_)\n",
    "    a.append(highlights)\n",
    "    return a"
   ]
  },
  {
   "cell_type": "code",
   "execution_count": 19,
   "metadata": {},
   "outputs": [
    {
     "name": "stderr",
     "output_type": "stream",
     "text": [
      "100%|██████████| 56216/56216 [00:03<00:00, 17962.43it/s]\n"
     ]
    }
   ],
   "source": [
    "splitted = []\n",
    "for i in tqdm(range(len(results))):\n",
    "    splitted.append(split(*results[i]))"
   ]
  },
  {
   "cell_type": "code",
   "execution_count": 20,
   "metadata": {},
   "outputs": [],
   "source": [
    "import json\n",
    "\n",
    "batch_size = 5000\n",
    "\n",
    "for i in range(0, len(splitted), batch_size):\n",
    "    index = min(i + batch_size, len(splitted))\n",
    "    x = splitted[i: index]\n",
    "    \n",
    "    with open(f'multinews-{i}.json', 'w') as fopen:\n",
    "        json.dump(x, fopen)"
   ]
  },
  {
   "cell_type": "code",
   "execution_count": null,
   "metadata": {},
   "outputs": [],
   "source": []
  }
 ],
 "metadata": {
  "kernelspec": {
   "display_name": "Python 3",
   "language": "python",
   "name": "python3"
  },
  "language_info": {
   "codemirror_mode": {
    "name": "ipython",
    "version": 3
   },
   "file_extension": ".py",
   "mimetype": "text/x-python",
   "name": "python",
   "nbconvert_exporter": "python",
   "pygments_lexer": "ipython3",
   "version": "3.6.8"
  }
 },
 "nbformat": 4,
 "nbformat_minor": 2
}
