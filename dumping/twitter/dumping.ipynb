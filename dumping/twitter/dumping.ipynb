{
 "cells": [
  {
   "cell_type": "code",
   "execution_count": null,
   "metadata": {},
   "outputs": [],
   "source": [
    "from elasticsearch import Elasticsearch, RequestsHttpConnection\n",
    "from elasticsearch_dsl import Search\n",
    "from datetime import datetime\n",
    "from tqdm import tqdm\n",
    "import json"
   ]
  },
  {
   "cell_type": "code",
   "execution_count": null,
   "metadata": {},
   "outputs": [],
   "source": [
    "today = datetime.now().strftime('%Y-%m-%d')\n",
    "\n",
    "languages = ['in', 'en']"
   ]
  },
  {
   "cell_type": "code",
   "execution_count": null,
   "metadata": {
    "scrolled": true
   },
   "outputs": [],
   "source": [
    "for lang in languages:\n",
    "    es = Elasticsearch(\n",
    "        hosts = [{'host': 'localhost', 'port': 9200}],\n",
    "        connection_class = RequestsHttpConnection,\n",
    "    )\n",
    "    s = Search(using=es, index='twitter_raw').filter(\"term\", lang__keyword = lang)\\\n",
    "    .source(['data_text', 'retweet_text_full'])\n",
    "    results = []\n",
    "    for hit in tqdm(s.scan()):\n",
    "        results.append(hit.to_dict())\n",
    "        \n",
    "    print(lang, len(results))\n",
    "    \n",
    "    with open(f'{today}-twitter-dump-{lang}.json', 'w') as fopen:\n",
    "        json.dump(results, fopen)"
   ]
  },
  {
   "cell_type": "code",
   "execution_count": 1,
   "metadata": {},
   "outputs": [
    {
     "data": {
      "text/plain": [
       "['2020-02-22-twitter-dump-en.json', '2020-02-22-twitter-dump-in.json']"
      ]
     },
     "execution_count": 1,
     "metadata": {},
     "output_type": "execute_result"
    }
   ],
   "source": [
    "from glob import glob\n",
    "\n",
    "files = glob('*-twitter*.json')\n",
    "files"
   ]
  },
  {
   "cell_type": "code",
   "execution_count": 4,
   "metadata": {},
   "outputs": [
    {
     "name": "stdout",
     "output_type": "stream",
     "text": [
      "2020-02-22-twitter-dump-en.json\n",
      "2020-02-22-twitter-dump-in.json\n"
     ]
    }
   ],
   "source": [
    "import boto3\n",
    "\n",
    "bucketName = 'malaya-dataset'\n",
    "\n",
    "for file in files:\n",
    "    outPutname = f\"dumping/twitter/{file}\"\n",
    "\n",
    "    s3 = boto3.client('s3')\n",
    "    s3.upload_file(file,bucketName,outPutname)"
   ]
  },
  {
   "cell_type": "code",
   "execution_count": null,
   "metadata": {},
   "outputs": [],
   "source": []
  }
 ],
 "metadata": {
  "kernelspec": {
   "display_name": "Python 3",
   "language": "python",
   "name": "python3"
  },
  "language_info": {
   "codemirror_mode": {
    "name": "ipython",
    "version": 3
   },
   "file_extension": ".py",
   "mimetype": "text/x-python",
   "name": "python",
   "nbconvert_exporter": "python",
   "pygments_lexer": "ipython3",
   "version": "3.7.5"
  }
 },
 "nbformat": 4,
 "nbformat_minor": 2
}
