{
 "cells": [
  {
   "cell_type": "code",
   "execution_count": 2,
   "metadata": {},
   "outputs": [],
   "source": [
    "# !unzip kedah.zip"
   ]
  },
  {
   "cell_type": "code",
   "execution_count": 3,
   "metadata": {},
   "outputs": [],
   "source": [
    "from glob import glob\n",
    "import pandas as pd\n",
    "from bs4 import BeautifulSoup"
   ]
  },
  {
   "cell_type": "code",
   "execution_count": 5,
   "metadata": {},
   "outputs": [
    {
     "data": {
      "text/plain": [
       "12"
      ]
     },
     "execution_count": 5,
     "metadata": {},
     "output_type": "execute_result"
    }
   ],
   "source": [
    "kedah = glob('kedah-*.htm')\n",
    "len(kedah)"
   ]
  },
  {
   "cell_type": "code",
   "execution_count": 31,
   "metadata": {},
   "outputs": [
    {
     "name": "stdout",
     "output_type": "stream",
     "text": [
      "kedah-9.htm\n",
      "kedah-8.htm\n",
      "kedah-3.htm\n",
      "kedah-2.htm\n",
      "kedah-1.htm\n",
      "kedah-11.htm\n",
      "kedah-5.htm\n",
      "kedah-4.htm\n",
      "kedah-10.htm\n",
      "kedah-12.htm\n",
      "kedah-6.htm\n",
      "kedah-7.htm\n"
     ]
    }
   ],
   "source": [
    "res = []\n",
    "\n",
    "for k in kedah:\n",
    "    print(k)\n",
    "    with open(k) as fopen:\n",
    "        s = BeautifulSoup(fopen.read())\n",
    "    \n",
    "    table_rows = s.find(id = 'MainContent_GridView1').find_all('tr')\n",
    "    for tr in table_rows:\n",
    "        td = tr.find_all('td')\n",
    "        row = [tr.text.strip() for tr in td if tr.text.strip()]\n",
    "        if row:\n",
    "            if not row[1].isdigit():\n",
    "                res.append(row)"
   ]
  },
  {
   "cell_type": "code",
   "execution_count": 32,
   "metadata": {},
   "outputs": [
    {
     "data": {
      "text/html": [
       "<div>\n",
       "<style scoped>\n",
       "    .dataframe tbody tr th:only-of-type {\n",
       "        vertical-align: middle;\n",
       "    }\n",
       "\n",
       "    .dataframe tbody tr th {\n",
       "        vertical-align: top;\n",
       "    }\n",
       "\n",
       "    .dataframe thead th {\n",
       "        text-align: right;\n",
       "    }\n",
       "</style>\n",
       "<table border=\"1\" class=\"dataframe\">\n",
       "  <thead>\n",
       "    <tr style=\"text-align: right;\">\n",
       "      <th></th>\n",
       "      <th>0</th>\n",
       "      <th>1</th>\n",
       "      <th>2</th>\n",
       "      <th>3</th>\n",
       "      <th>4</th>\n",
       "      <th>5</th>\n",
       "      <th>6</th>\n",
       "    </tr>\n",
       "  </thead>\n",
       "  <tbody>\n",
       "    <tr>\n",
       "      <th>115</th>\n",
       "      <td>adang</td>\n",
       "      <td>[A.dAN]</td>\n",
       "      <td>kata nama</td>\n",
       "      <td>pengadang, pendinding, tangkal atau azimat.</td>\n",
       "      <td>None</td>\n",
       "      <td>None</td>\n",
       "      <td>None</td>\n",
       "    </tr>\n",
       "    <tr>\n",
       "      <th>116</th>\n",
       "      <td>adan</td>\n",
       "      <td>[A.dAn]</td>\n",
       "      <td>kata nama</td>\n",
       "      <td>pengadang yang dipasang di pintu, tangga dan s...</td>\n",
       "      <td>Mak buboh adan depan pintu tak bagi adek kelua...</td>\n",
       "      <td>[mA/ bu.boh A.dAn d«.pAn pin.tu tA/ bA.gi A.de...</td>\n",
       "      <td>Ibu memasang pengadang di pintu supaya adik ti...</td>\n",
       "    </tr>\n",
       "    <tr>\n",
       "      <th>117</th>\n",
       "      <td>acilut</td>\n",
       "      <td>[A.Si.lut]</td>\n",
       "      <td>kata nama</td>\n",
       "      <td>sejenis permainan kejar-mengejar, cekup puyuh.</td>\n",
       "      <td>Maen acilut ataeh darat buleh dalam ayaq pon b...</td>\n",
       "      <td>[mAEn A.Si.lut A.tAEh dA.ÒAt bu.leh dA.lAm A.j...</td>\n",
       "      <td>Bermain acilut boleh di darat atau di air.</td>\n",
       "    </tr>\n",
       "    <tr>\n",
       "      <th>118</th>\n",
       "      <td>acaq</td>\n",
       "      <td>[A.tSAâÖ]</td>\n",
       "      <td>kata nama</td>\n",
       "      <td>takungan air kotor, biasanya di luar rumah seb...</td>\n",
       "      <td>Bau acaq tepi rumah tu busuk.</td>\n",
       "      <td>[bAw A.tSAâÖ t«.pi Òu.mAh tu bu.su/]</td>\n",
       "      <td>Bau limbahan di tepi rumah itu busuk.</td>\n",
       "    </tr>\n",
       "    <tr>\n",
       "      <th>119</th>\n",
       "      <td>dapoq</td>\n",
       "      <td>[dA.pâÖ]</td>\n",
       "      <td>kata nama</td>\n",
       "      <td>1. ukuran tradisional bagi keluasan tanah, iai...</td>\n",
       "      <td>Depa dapat hareta pesaka sorang serelong lima ...</td>\n",
       "      <td>[dE.pA dA.pAt hA.Ò«.tA p«.sA.kA s.ÒAN s«.Ò«.l...</td>\n",
       "      <td>Mereka mendapat harta pesaka sebanyak satu rel...</td>\n",
       "    </tr>\n",
       "  </tbody>\n",
       "</table>\n",
       "</div>"
      ],
      "text/plain": [
       "          0           1          2  \\\n",
       "115   adang     [A.dAN]  kata nama   \n",
       "116    adan     [A.dAn]  kata nama   \n",
       "117  acilut  [A.Si.lut]  kata nama   \n",
       "118    acaq   [A.tSAâÖ]  kata nama   \n",
       "119   dapoq   [dA.pâÖ]  kata nama   \n",
       "\n",
       "                                                     3  \\\n",
       "115        pengadang, pendinding, tangkal atau azimat.   \n",
       "116  pengadang yang dipasang di pintu, tangga dan s...   \n",
       "117     sejenis permainan kejar-mengejar, cekup puyuh.   \n",
       "118  takungan air kotor, biasanya di luar rumah seb...   \n",
       "119  1. ukuran tradisional bagi keluasan tanah, iai...   \n",
       "\n",
       "                                                     4  \\\n",
       "115                                               None   \n",
       "116  Mak buboh adan depan pintu tak bagi adek kelua...   \n",
       "117  Maen acilut ataeh darat buleh dalam ayaq pon b...   \n",
       "118                      Bau acaq tepi rumah tu busuk.   \n",
       "119  Depa dapat hareta pesaka sorang serelong lima ...   \n",
       "\n",
       "                                                     5  \\\n",
       "115                                               None   \n",
       "116  [mA/ bu.boh A.dAn d«.pAn pin.tu tA/ bA.gi A.de...   \n",
       "117  [mAEn A.Si.lut A.tAEh dA.ÒAt bu.leh dA.lAm A.j...   \n",
       "118               [bAw A.tSAâÖ t«.pi Òu.mAh tu bu.su/]   \n",
       "119  [dE.pA dA.pAt hA.Ò«.tA p«.sA.kA s.ÒAN s«.Ò«.l...   \n",
       "\n",
       "                                                     6  \n",
       "115                                               None  \n",
       "116  Ibu memasang pengadang di pintu supaya adik ti...  \n",
       "117         Bermain acilut boleh di darat atau di air.  \n",
       "118              Bau limbahan di tepi rumah itu busuk.  \n",
       "119  Mereka mendapat harta pesaka sebanyak satu rel...  "
      ]
     },
     "execution_count": 32,
     "metadata": {},
     "output_type": "execute_result"
    }
   ],
   "source": [
    "df = pd.DataFrame(res)\n",
    "df.tail()"
   ]
  },
  {
   "cell_type": "code",
   "execution_count": 35,
   "metadata": {},
   "outputs": [],
   "source": [
    "df.to_csv('kedah.csv', index = False)"
   ]
  },
  {
   "cell_type": "code",
   "execution_count": 36,
   "metadata": {},
   "outputs": [],
   "source": [
    "# !rm kedah-*.htm"
   ]
  }
 ],
 "metadata": {
  "kernelspec": {
   "display_name": "Python 3",
   "language": "python",
   "name": "python3"
  },
  "language_info": {
   "codemirror_mode": {
    "name": "ipython",
    "version": 3
   },
   "file_extension": ".py",
   "mimetype": "text/x-python",
   "name": "python",
   "nbconvert_exporter": "python",
   "pygments_lexer": "ipython3",
   "version": "3.7.5"
  }
 },
 "nbformat": 4,
 "nbformat_minor": 2
}
