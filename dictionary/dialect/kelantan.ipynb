{
 "cells": [
  {
   "cell_type": "code",
   "execution_count": 2,
   "metadata": {},
   "outputs": [],
   "source": [
    "# !unzip kelantan.zip"
   ]
  },
  {
   "cell_type": "code",
   "execution_count": 3,
   "metadata": {},
   "outputs": [],
   "source": [
    "from glob import glob\n",
    "import pandas as pd\n",
    "from bs4 import BeautifulSoup"
   ]
  },
  {
   "cell_type": "code",
   "execution_count": 6,
   "metadata": {},
   "outputs": [
    {
     "data": {
      "text/plain": [
       "10"
      ]
     },
     "execution_count": 6,
     "metadata": {},
     "output_type": "execute_result"
    }
   ],
   "source": [
    "kelantan = glob('kelantan-*.htm')\n",
    "len(kelantan)"
   ]
  },
  {
   "cell_type": "code",
   "execution_count": 7,
   "metadata": {},
   "outputs": [
    {
     "name": "stdout",
     "output_type": "stream",
     "text": [
      "kelantan-3.htm\n",
      "kelantan-2.htm\n",
      "kelantan-1.htm\n",
      "kelantan-5.htm\n",
      "kelantan-4.htm\n",
      "kelantan-6.htm\n",
      "kelantan-7.htm\n",
      "kelantan-10.htm\n",
      "kelantan-9.htm\n",
      "kelantan-8.htm\n"
     ]
    }
   ],
   "source": [
    "res = []\n",
    "\n",
    "for k in kelantan:\n",
    "    print(k)\n",
    "    with open(k) as fopen:\n",
    "        s = BeautifulSoup(fopen.read())\n",
    "    \n",
    "    table_rows = s.find(id = 'MainContent_GridView1').find_all('tr')\n",
    "    for tr in table_rows:\n",
    "        td = tr.find_all('td')\n",
    "        row = [tr.text.strip() for tr in td if tr.text.strip()]\n",
    "        if row:\n",
    "            if not row[1].isdigit():\n",
    "                res.append(row)"
   ]
  },
  {
   "cell_type": "code",
   "execution_count": 8,
   "metadata": {},
   "outputs": [
    {
     "data": {
      "text/html": [
       "<div>\n",
       "<style scoped>\n",
       "    .dataframe tbody tr th:only-of-type {\n",
       "        vertical-align: middle;\n",
       "    }\n",
       "\n",
       "    .dataframe tbody tr th {\n",
       "        vertical-align: top;\n",
       "    }\n",
       "\n",
       "    .dataframe thead th {\n",
       "        text-align: right;\n",
       "    }\n",
       "</style>\n",
       "<table border=\"1\" class=\"dataframe\">\n",
       "  <thead>\n",
       "    <tr style=\"text-align: right;\">\n",
       "      <th></th>\n",
       "      <th>0</th>\n",
       "      <th>1</th>\n",
       "      <th>2</th>\n",
       "      <th>3</th>\n",
       "      <th>4</th>\n",
       "      <th>5</th>\n",
       "      <th>6</th>\n",
       "    </tr>\n",
       "  </thead>\n",
       "  <tbody>\n",
       "    <tr>\n",
       "      <th>95</th>\n",
       "      <td>age</td>\n",
       "      <td>[A.gE]</td>\n",
       "      <td>kata kerja</td>\n",
       "      <td>membuat persediaan sebelum melakukan sesuatu.</td>\n",
       "      <td>Kawe age juruh bena ni, sebak kito nok tandeng wa</td>\n",
       "      <td>...</td>\n",
       "      <td>Saya membuat persediaan dengan teliti ni, seba...</td>\n",
       "    </tr>\n",
       "    <tr>\n",
       "      <th>96</th>\n",
       "      <td>agah</td>\n",
       "      <td>[A.gAh]</td>\n",
       "      <td>kata adjektif</td>\n",
       "      <td>sombong, angkuh.</td>\n",
       "      <td>Pok Ya tu jok kayo ni, agah bena.</td>\n",
       "      <td>[p/ jA tu dZ/ kA.j ni A.gAh b«.nA]</td>\n",
       "      <td>Pak Ya tu semenjak kaya ni, nampak sombong betul.</td>\n",
       "    </tr>\n",
       "    <tr>\n",
       "      <th>97</th>\n",
       "      <td>acok</td>\n",
       "      <td>[A.tS/]</td>\n",
       "      <td>kata nama</td>\n",
       "      <td>sejenis alat untuk menjemur sesuatu seperti ik...</td>\n",
       "      <td>Jemo ike tu atah acok.</td>\n",
       "      <td>[dZ«.m i.kE tu A.tAh A.tS/]</td>\n",
       "      <td>Jemur ikan tu di atas acak.</td>\n",
       "    </tr>\n",
       "    <tr>\n",
       "      <th>98</th>\n",
       "      <td>abih te</td>\n",
       "      <td>[A.bih tE]</td>\n",
       "      <td>bersungguh-sungguh membuat sesuatu pekerjaan; ...</td>\n",
       "      <td>Aku baco abih te doh, tok leh jawak prekso gak...</td>\n",
       "      <td>...</td>\n",
       "      <td>Aku dah belajar bersungguh-sungguh, kalau tak ...</td>\n",
       "      <td>None</td>\n",
       "    </tr>\n",
       "    <tr>\n",
       "      <th>99</th>\n",
       "      <td>abih reng</td>\n",
       "      <td></td>\n",
       "      <td>bersungguh-sungguh membuat sesuatu pekerjaan; ...</td>\n",
       "      <td>Ambo tolok abih reng doh tapi tok degih.</td>\n",
       "      <td>[Am.b t.l/ A.bih ÄEN dh tA.pi t/ d:«.gih]</td>\n",
       "      <td>Saya sudah tolak bersungguh-sungguh tapi tidak...</td>\n",
       "      <td>None</td>\n",
       "    </tr>\n",
       "  </tbody>\n",
       "</table>\n",
       "</div>"
      ],
      "text/plain": [
       "            0            1                                                  2  \\\n",
       "95        age       [A.gE]                                         kata kerja   \n",
       "96       agah      [A.gAh]                                      kata adjektif   \n",
       "97       acok     [A.tS/]                                          kata nama   \n",
       "98    abih te   [A.bih tE]  bersungguh-sungguh membuat sesuatu pekerjaan; ...   \n",
       "99  abih reng    bersungguh-sungguh membuat sesuatu pekerjaan; ...   \n",
       "\n",
       "                                                    3  \\\n",
       "95      membuat persediaan sebelum melakukan sesuatu.   \n",
       "96                                   sombong, angkuh.   \n",
       "97  sejenis alat untuk menjemur sesuatu seperti ik...   \n",
       "98  Aku baco abih te doh, tok leh jawak prekso gak...   \n",
       "99           Ambo tolok abih reng doh tapi tok degih.   \n",
       "\n",
       "                                                    4  \\\n",
       "95  Kawe age juruh bena ni, sebak kito nok tandeng wa   \n",
       "96                  Pok Ya tu jok kayo ni, agah bena.   \n",
       "97                             Jemo ike tu atah acok.   \n",
       "98  ...   \n",
       "99     [Am.b t.l/ A.bih ÄEN dh tA.pi t/ d:«.gih]   \n",
       "\n",
       "                                                    5  \\\n",
       "95  ...   \n",
       "96              [p/ jA tu dZ/ kA.j ni A.gAh b«.nA]   \n",
       "97                      [dZ«.m i.kE tu A.tAh A.tS/]   \n",
       "98  Aku dah belajar bersungguh-sungguh, kalau tak ...   \n",
       "99  Saya sudah tolak bersungguh-sungguh tapi tidak...   \n",
       "\n",
       "                                                    6  \n",
       "95  Saya membuat persediaan dengan teliti ni, seba...  \n",
       "96  Pak Ya tu semenjak kaya ni, nampak sombong betul.  \n",
       "97                        Jemur ikan tu di atas acak.  \n",
       "98                                               None  \n",
       "99                                               None  "
      ]
     },
     "execution_count": 8,
     "metadata": {},
     "output_type": "execute_result"
    }
   ],
   "source": [
    "df = pd.DataFrame(res)\n",
    "df.tail()"
   ]
  },
  {
   "cell_type": "code",
   "execution_count": 9,
   "metadata": {},
   "outputs": [],
   "source": [
    "df.to_csv('kelantan.csv', index = False)"
   ]
  },
  {
   "cell_type": "code",
   "execution_count": 11,
   "metadata": {},
   "outputs": [],
   "source": [
    "# !rm kelantan-*.htm"
   ]
  }
 ],
 "metadata": {
  "kernelspec": {
   "display_name": "Python 3",
   "language": "python",
   "name": "python3"
  },
  "language_info": {
   "codemirror_mode": {
    "name": "ipython",
    "version": 3
   },
   "file_extension": ".py",
   "mimetype": "text/x-python",
   "name": "python",
   "nbconvert_exporter": "python",
   "pygments_lexer": "ipython3",
   "version": "3.7.5"
  }
 },
 "nbformat": 4,
 "nbformat_minor": 2
}
