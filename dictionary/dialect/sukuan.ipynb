{
 "cells": [
  {
   "cell_type": "code",
   "execution_count": 1,
   "metadata": {},
   "outputs": [
    {
     "name": "stdout",
     "output_type": "stream",
     "text": [
      "Archive:  sukuan.zip\r\n",
      "  inflating: sukuan-1.htm            \r\n",
      "  inflating: __MACOSX/._sukuan-1.htm  \r\n",
      "  inflating: sukuan-6.htm            \r\n",
      "  inflating: __MACOSX/._sukuan-6.htm  \r\n",
      "  inflating: sukuan-5.htm            \r\n",
      "  inflating: __MACOSX/._sukuan-5.htm  \r\n",
      "  inflating: sukuan-4.htm            \r\n",
      "  inflating: __MACOSX/._sukuan-4.htm  \r\n",
      "  inflating: sukuan-3.htm            \r\n",
      "  inflating: __MACOSX/._sukuan-3.htm  \r\n",
      "  inflating: sukuan-2.htm            \r\n",
      "  inflating: __MACOSX/._sukuan-2.htm  \r\n"
     ]
    }
   ],
   "source": [
    "!unzip sukuan.zip"
   ]
  },
  {
   "cell_type": "code",
   "execution_count": 2,
   "metadata": {},
   "outputs": [],
   "source": [
    "from glob import glob\n",
    "import pandas as pd\n",
    "from bs4 import BeautifulSoup"
   ]
  },
  {
   "cell_type": "code",
   "execution_count": 3,
   "metadata": {},
   "outputs": [
    {
     "data": {
      "text/plain": [
       "6"
      ]
     },
     "execution_count": 3,
     "metadata": {},
     "output_type": "execute_result"
    }
   ],
   "source": [
    "sukuan = glob('sukuan-*.htm')\n",
    "len(sukuan)"
   ]
  },
  {
   "cell_type": "code",
   "execution_count": 4,
   "metadata": {},
   "outputs": [
    {
     "name": "stdout",
     "output_type": "stream",
     "text": [
      "sukuan-2.htm\n",
      "sukuan-3.htm\n",
      "sukuan-1.htm\n",
      "sukuan-4.htm\n",
      "sukuan-5.htm\n",
      "sukuan-6.htm\n"
     ]
    }
   ],
   "source": [
    "res = []\n",
    "\n",
    "for k in sukuan:\n",
    "    print(k)\n",
    "    with open(k) as fopen:\n",
    "        s = BeautifulSoup(fopen.read())\n",
    "    \n",
    "    table_rows = s.find(id = 'MainContent_GridView1').find_all('tr')\n",
    "    for tr in table_rows:\n",
    "        td = tr.find_all('td')\n",
    "        row = [tr.text.strip() for tr in td if tr.text.strip()]\n",
    "        if row:\n",
    "            if not row[1].isdigit():\n",
    "                res.append(row)"
   ]
  },
  {
   "cell_type": "code",
   "execution_count": 5,
   "metadata": {},
   "outputs": [
    {
     "data": {
      "text/html": [
       "<div>\n",
       "<style scoped>\n",
       "    .dataframe tbody tr th:only-of-type {\n",
       "        vertical-align: middle;\n",
       "    }\n",
       "\n",
       "    .dataframe tbody tr th {\n",
       "        vertical-align: top;\n",
       "    }\n",
       "\n",
       "    .dataframe thead th {\n",
       "        text-align: right;\n",
       "    }\n",
       "</style>\n",
       "<table border=\"1\" class=\"dataframe\">\n",
       "  <thead>\n",
       "    <tr style=\"text-align: right;\">\n",
       "      <th></th>\n",
       "      <th>0</th>\n",
       "      <th>1</th>\n",
       "      <th>2</th>\n",
       "      <th>3</th>\n",
       "      <th>4</th>\n",
       "    </tr>\n",
       "  </thead>\n",
       "  <tbody>\n",
       "    <tr>\n",
       "      <th>55</th>\n",
       "      <td>ombuinang Tb</td>\n",
       "      <td>nama lain nenek kebayan.</td>\n",
       "      <td>Wahai Makcik Ombuinang, bolehkah kami naik? ka...</td>\n",
       "      <td>Sabah Folk Tales 1-7</td>\n",
       "      <td>Glosari Leksikal Bahasa Sukuan</td>\n",
       "    </tr>\n",
       "    <tr>\n",
       "      <th>56</th>\n",
       "      <td>tengkerong Tb</td>\n",
       "      <td>cicak tokek.</td>\n",
       "      <td>Setelah ia menyatakan demikian, anak muda itu ...</td>\n",
       "      <td>Sabah Folk Tales 1-7</td>\n",
       "      <td>Glosari Leksikal Bahasa Sukuan</td>\n",
       "    </tr>\n",
       "    <tr>\n",
       "      <th>57</th>\n",
       "      <td>sintong, *sintung* Ib</td>\n",
       "      <td>sejenis keranjang berbentuk bulat yang diperbu...</td>\n",
       "      <td>Barang-barang yang mereka bawa itu disimpan di...</td>\n",
       "      <td>Antologi Cerita Rakyat Iban</td>\n",
       "      <td>Glosari Leksikal Bahasa Sukuan</td>\n",
       "    </tr>\n",
       "    <tr>\n",
       "      <th>58</th>\n",
       "      <td>tolinting Kd</td>\n",
       "      <td>pokok paku menjalar.</td>\n",
       "      <td>Cara Membuat Sompoton. Untuk membuat Sompoton ...</td>\n",
       "      <td>Alat-alat Muzik Tradisional Sabah Warisan Buda...</td>\n",
       "      <td>Glosari Leksikal Bahasa Sukuan</td>\n",
       "    </tr>\n",
       "    <tr>\n",
       "      <th>59</th>\n",
       "      <td>kinayoo Mr, Tb</td>\n",
       "      <td>besar.</td>\n",
       "      <td>Jangan makan saya! Tetapi kita pergi bersama-s...</td>\n",
       "      <td>Sabah Folk Tales 1-7</td>\n",
       "      <td>Glosari Leksikal Bahasa Sukuan</td>\n",
       "    </tr>\n",
       "  </tbody>\n",
       "</table>\n",
       "</div>"
      ],
      "text/plain": [
       "                        0                                                  1  \\\n",
       "55           ombuinang Tb                           nama lain nenek kebayan.   \n",
       "56          tengkerong Tb                                       cicak tokek.   \n",
       "57  sintong, *sintung* Ib  sejenis keranjang berbentuk bulat yang diperbu...   \n",
       "58           tolinting Kd                               pokok paku menjalar.   \n",
       "59         kinayoo Mr, Tb                                             besar.   \n",
       "\n",
       "                                                    2  \\\n",
       "55  Wahai Makcik Ombuinang, bolehkah kami naik? ka...   \n",
       "56  Setelah ia menyatakan demikian, anak muda itu ...   \n",
       "57  Barang-barang yang mereka bawa itu disimpan di...   \n",
       "58  Cara Membuat Sompoton. Untuk membuat Sompoton ...   \n",
       "59  Jangan makan saya! Tetapi kita pergi bersama-s...   \n",
       "\n",
       "                                                    3  \\\n",
       "55                               Sabah Folk Tales 1-7   \n",
       "56                               Sabah Folk Tales 1-7   \n",
       "57                        Antologi Cerita Rakyat Iban   \n",
       "58  Alat-alat Muzik Tradisional Sabah Warisan Buda...   \n",
       "59                               Sabah Folk Tales 1-7   \n",
       "\n",
       "                                 4  \n",
       "55  Glosari Leksikal Bahasa Sukuan  \n",
       "56  Glosari Leksikal Bahasa Sukuan  \n",
       "57  Glosari Leksikal Bahasa Sukuan  \n",
       "58  Glosari Leksikal Bahasa Sukuan  \n",
       "59  Glosari Leksikal Bahasa Sukuan  "
      ]
     },
     "execution_count": 5,
     "metadata": {},
     "output_type": "execute_result"
    }
   ],
   "source": [
    "df = pd.DataFrame(res)\n",
    "df.tail()"
   ]
  },
  {
   "cell_type": "code",
   "execution_count": 6,
   "metadata": {},
   "outputs": [],
   "source": [
    "df.to_csv('sukuan.csv', index = False)"
   ]
  },
  {
   "cell_type": "code",
   "execution_count": 7,
   "metadata": {},
   "outputs": [],
   "source": [
    "!rm -rf sukuan-*.htm __MACOSX"
   ]
  }
 ],
 "metadata": {
  "kernelspec": {
   "display_name": "Python 3",
   "language": "python",
   "name": "python3"
  },
  "language_info": {
   "codemirror_mode": {
    "name": "ipython",
    "version": 3
   },
   "file_extension": ".py",
   "mimetype": "text/x-python",
   "name": "python",
   "nbconvert_exporter": "python",
   "pygments_lexer": "ipython3",
   "version": "3.7.5"
  }
 },
 "nbformat": 4,
 "nbformat_minor": 2
}
