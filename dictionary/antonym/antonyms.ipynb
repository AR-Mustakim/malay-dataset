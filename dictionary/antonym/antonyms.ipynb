{
 "cells": [
  {
   "cell_type": "code",
   "execution_count": 1,
   "metadata": {},
   "outputs": [],
   "source": [
    "import os\n",
    "import time\n",
    "\n",
    "os.environ['LD_LIBRARY_PATH'] = '/home/husein/phantomjs-2.1.1-linux-x86_64/bin'\n",
    "os.environ['PATH'] = '/home/husein/.local/bin:/home/husein/bin:/home/husein/anaconda3/bin:/usr/local/cuda/bin:/usr/local/sbin:/usr/local/bin:/usr/sbin:/usr/bin:/sbin:/bin:/usr/games:/usr/local/games:/snap/bin:/home/husein/phantomjs-2.1.1-linux-x86_64/bin'\n",
    "\n",
    "import translate_new\n",
    "\n",
    "import json"
   ]
  },
  {
   "cell_type": "code",
   "execution_count": 2,
   "metadata": {},
   "outputs": [],
   "source": [
    "# !wget https://raw.githubusercontent.com/nmrksic/counter-fitting/master/linguistic_constraints/ppdb_antonyms.txt\n",
    "# !wget https://raw.githubusercontent.com/nmrksic/counter-fitting/master/linguistic_constraints/wordnet_antonyms.txt"
   ]
  },
  {
   "cell_type": "code",
   "execution_count": 3,
   "metadata": {},
   "outputs": [],
   "source": [
    "# from selenium import webdriver\n",
    "# import threading\n",
    "# from queue import Queue\n",
    "# from tqdm import tqdm\n",
    "# import warnings\n",
    "# import time\n",
    "# import urllib.parse\n",
    "\n",
    "# warnings.filterwarnings('ignore')\n",
    "\n",
    "# #er8xn\n",
    "# span = '/html/body/c-wiz/div/div[2]/c-wiz/div[2]/c-wiz/div[1]/div[2]/div[2]/c-wiz[2]/div[5]/div/div[1]/span[1]/span/span'\n",
    "\n",
    "\n",
    "# class Translate:\n",
    "#     def __init__(self, from_lang, to_lang):\n",
    "#         self.driver = webdriver.PhantomJS()\n",
    "#         self.driver.set_page_load_timeout(120)\n",
    "#         self.url = f'https://translate.google.com/?sl={from_lang}&tl={to_lang}&op=translate'\n",
    "#         self.driver.get(self.url)"
   ]
  },
  {
   "cell_type": "code",
   "execution_count": 4,
   "metadata": {},
   "outputs": [],
   "source": [
    "# translate = Translate('en', 'ms')\n",
    "# t = translate.driver.find_elements_by_tag_name('textarea')[0]\n",
    "# t"
   ]
  },
  {
   "cell_type": "code",
   "execution_count": 5,
   "metadata": {},
   "outputs": [],
   "source": [
    "translators = translate_new.Translate_Concurrent(batch_size = 20, from_lang = 'en', to_lang = 'ms')"
   ]
  },
  {
   "cell_type": "code",
   "execution_count": 6,
   "metadata": {},
   "outputs": [],
   "source": [
    "with open('ppdb_antonyms.txt') as fopen:\n",
    "    antonyms = list(filter(None, fopen.read().split('\\n')))\n",
    "    \n",
    "with open('wordnet_antonyms.txt') as fopen:\n",
    "    antonyms.extend(list(filter(None, fopen.read().split('\\n'))))\n",
    "    \n",
    "antonyms = [w.strip().replace(' ', ' [EENNDD] ') for w in antonyms]"
   ]
  },
  {
   "cell_type": "code",
   "execution_count": 7,
   "metadata": {},
   "outputs": [
    {
     "data": {
      "text/plain": [
       "['females [EENNDD] males',\n",
       " 'females [EENNDD] males',\n",
       " 'males [EENNDD] females',\n",
       " 'males [EENNDD] females',\n",
       " 'imports [EENNDD] exports',\n",
       " 'imports [EENNDD] export',\n",
       " 'imported [EENNDD] exported',\n",
       " 'exported [EENNDD] imported',\n",
       " 'imports [EENNDD] exports',\n",
       " 'imports [EENNDD] exporting']"
      ]
     },
     "execution_count": 7,
     "metadata": {},
     "output_type": "execute_result"
    }
   ],
   "source": [
    "antonyms[:10]"
   ]
  },
  {
   "cell_type": "code",
   "execution_count": 8,
   "metadata": {},
   "outputs": [
    {
     "name": "stderr",
     "output_type": "stream",
     "text": [
      "100%|███████████████████████████████| 661/661 [39:31<00:00,  3.59s/it]\n"
     ]
    }
   ],
   "source": [
    "t = translators.translate_batch(antonyms)"
   ]
  },
  {
   "cell_type": "code",
   "execution_count": 9,
   "metadata": {},
   "outputs": [
    {
     "data": {
      "text/plain": [
       "13212"
      ]
     },
     "execution_count": 9,
     "metadata": {},
     "output_type": "execute_result"
    }
   ],
   "source": [
    "len(t)"
   ]
  },
  {
   "cell_type": "code",
   "execution_count": 11,
   "metadata": {},
   "outputs": [],
   "source": [
    "import json\n",
    "\n",
    "with open('antonyms-translated.json', 'w') as fopen:\n",
    "    json.dump(t, fopen)"
   ]
  },
  {
   "cell_type": "code",
   "execution_count": 32,
   "metadata": {},
   "outputs": [],
   "source": [
    "bahasa = list(zip(*t))[1]\n",
    "bahasa = set(bahasa)\n",
    "bahasa = [i.split('[EENNDD]') for i in bahasa]\n",
    "bahasa = [i for i in bahasa if '[DAN]' not in i and len(i) == 2]\n",
    "bahasa = [i for i in bahasa if i[1] != '' and i[0] != '']\n",
    "bahasa = [[i[0].strip(), i[1].strip()] for i in bahasa]"
   ]
  },
  {
   "cell_type": "code",
   "execution_count": 33,
   "metadata": {},
   "outputs": [
    {
     "data": {
      "text/plain": [
       "(13212, 7424)"
      ]
     },
     "execution_count": 33,
     "metadata": {},
     "output_type": "execute_result"
    }
   ],
   "source": [
    "len(t), len(bahasa)"
   ]
  },
  {
   "cell_type": "code",
   "execution_count": 35,
   "metadata": {},
   "outputs": [],
   "source": [
    "with open('antonyms-bahasa.json', 'w') as fopen:\n",
    "    json.dump(bahasa, fopen)"
   ]
  }
 ],
 "metadata": {
  "kernelspec": {
   "display_name": "Python 3",
   "language": "python",
   "name": "python3"
  },
  "language_info": {
   "codemirror_mode": {
    "name": "ipython",
    "version": 3
   },
   "file_extension": ".py",
   "mimetype": "text/x-python",
   "name": "python",
   "nbconvert_exporter": "python",
   "pygments_lexer": "ipython3",
   "version": "3.6.9"
  }
 },
 "nbformat": 4,
 "nbformat_minor": 2
}
