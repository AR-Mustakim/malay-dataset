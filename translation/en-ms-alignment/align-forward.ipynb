{
 "cells": [
  {
   "cell_type": "code",
   "execution_count": 29,
   "metadata": {
    "scrolled": true
   },
   "outputs": [
    {
     "name": "stdout",
     "output_type": "stream",
     "text": [
      "alignment/translated-3200000.json\n",
      "alignment/translated-700000.json\n",
      "alignment/translated-2100000.json\n",
      "alignment/translated-3300000.json\n",
      "alignment/translated-2300000.json\n",
      "alignment/translated-2000000.json\n",
      "alignment/translated-600000.json\n",
      "alignment/translated-900000.json\n",
      "alignment/translated-1000000.json\n",
      "alignment/translated-1100000.json\n",
      "alignment/translated-1900000.json\n",
      "alignment/translated-500000.json\n",
      "alignment/translated-1400000.json\n",
      "alignment/translated-1500000.json\n",
      "alignment/translated-2600000.json\n",
      "alignment/translated-200000.json\n",
      "alignment/translated-2900000.json\n",
      "alignment/translated-3400000.json\n",
      "alignment/translated-3500000.json\n",
      "alignment/translated-2800000.json\n",
      "alignment/translated-300000.json\n",
      "alignment/translated-2500000.json\n",
      "alignment/translated-3100000.json\n",
      "alignment/translated-1300000.json\n",
      "alignment/translated-2400000.json\n",
      "alignment/translated-100000.json\n",
      "alignment/translated-1600000.json\n",
      "alignment/translated-2700000.json\n",
      "alignment/translated-0.json\n",
      "alignment/translated-800000.json\n",
      "alignment/translated-1800000.json\n",
      "alignment/translated-2200000.json\n",
      "alignment/translated-1200000.json\n",
      "alignment/translated-1700000.json\n",
      "alignment/translated-3000000.json\n",
      "alignment/translated-400000.json\n"
     ]
    }
   ],
   "source": [
    "from glob import glob\n",
    "import json\n",
    "\n",
    "left, right = [], []\n",
    "files = glob('alignment/translated*.json')\n",
    "for f in files:\n",
    "    print(f)\n",
    "    with open(f) as fopen:\n",
    "        data = json.load(fopen)\n",
    "    for i in data:\n",
    "        left.append(i[1])\n",
    "        right.append(i[0])"
   ]
  },
  {
   "cell_type": "code",
   "execution_count": 33,
   "metadata": {},
   "outputs": [
    {
     "name": "stdout",
     "output_type": "stream",
     "text": [
      "alignment/dataset-300000.json.translate\n",
      "alignment/dataset-800000.json.translate\n",
      "alignment/dataset-0.json.translate\n",
      "alignment/dataset-400000.json.translate\n",
      "alignment/dataset-200000.json.translate\n",
      "alignment/dataset-100000.json.translate\n",
      "alignment/dataset-1000000.json.translate\n",
      "alignment/dataset-500000.json.translate\n",
      "alignment/dataset-600000.json.translate\n",
      "alignment/dataset-1200000.json.translate\n",
      "alignment/dataset-1100000.json.translate\n",
      "alignment/dataset-1300000.json.translate\n",
      "alignment/dataset-900000.json.translate\n",
      "alignment/dataset-700000.json.translate\n"
     ]
    }
   ],
   "source": [
    "files = glob('alignment/dataset-*.json.translate')\n",
    "for f in files:\n",
    "    print(f)\n",
    "    with open(f) as fopen:\n",
    "        data = json.load(fopen)\n",
    "    for i in data:\n",
    "        left.append(i[0])\n",
    "        right.append(i[1])"
   ]
  },
  {
   "cell_type": "code",
   "execution_count": 35,
   "metadata": {},
   "outputs": [],
   "source": [
    "with open('source', 'w') as fopen:\n",
    "    fopen.write('\\n'.join(left))\n",
    "    \n",
    "with open('target', 'w') as fopen:\n",
    "    fopen.write('\\n'.join(right))"
   ]
  },
  {
   "cell_type": "code",
   "execution_count": 37,
   "metadata": {},
   "outputs": [],
   "source": [
    "!python3 eflomal/align.py -s source -t target --priors align.priors --model 3 -f fwd -r rev --overwrite"
   ]
  }
 ],
 "metadata": {
  "kernelspec": {
   "display_name": "Python 3",
   "language": "python",
   "name": "python3"
  },
  "language_info": {
   "codemirror_mode": {
    "name": "ipython",
    "version": 3
   },
   "file_extension": ".py",
   "mimetype": "text/x-python",
   "name": "python",
   "nbconvert_exporter": "python",
   "pygments_lexer": "ipython3",
   "version": "3.6.9"
  }
 },
 "nbformat": 4,
 "nbformat_minor": 2
}
