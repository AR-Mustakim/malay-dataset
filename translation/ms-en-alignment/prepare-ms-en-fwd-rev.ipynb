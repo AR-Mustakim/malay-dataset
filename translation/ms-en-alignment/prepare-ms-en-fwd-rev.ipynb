{
 "cells": [
  {
   "cell_type": "code",
   "execution_count": 30,
   "metadata": {},
   "outputs": [],
   "source": [
    "# !wget https://f000.backblazeb2.com/file/malay-dataset/train-ms-en.tar.gz\n",
    "# !tar zxf train-ms-en.tar.gz\n",
    "# !wget https://f000.backblazeb2.com/file/malay-dataset/train-en-ms.tar.gz\n",
    "# !tar zxf train-en-ms.tar.gz"
   ]
  },
  {
   "cell_type": "code",
   "execution_count": 33,
   "metadata": {},
   "outputs": [
    {
     "name": "stdout",
     "output_type": "stream",
     "text": [
      "left.txt  right.txt\r\n"
     ]
    }
   ],
   "source": [
    "!ls train"
   ]
  },
  {
   "cell_type": "code",
   "execution_count": 34,
   "metadata": {},
   "outputs": [
    {
     "name": "stdout",
     "output_type": "stream",
     "text": [
      "left.txt  right.txt\r\n"
     ]
    }
   ],
   "source": [
    "!ls train-en"
   ]
  },
  {
   "cell_type": "code",
   "execution_count": 35,
   "metadata": {},
   "outputs": [
    {
     "name": "stdout",
     "output_type": "stream",
     "text": [
      "Terminal 1 KKIA dilengkapi kemudahan 64 kaunter daftar masuk, 12 aero bridge selain mampu menampung 3,200 penumpang dalam satu masa.\r\n",
      "\"Pembangkang hanya berani cakap besar, seolah-olah indah rupa daripada berita,\" katanya.\r\n",
      "Salah satu fakta yang paling mungkin adalah orang Arab berniaga untuk hamba abdi di Afrika, meningkatkan penyebaran dan dominasi budaya Arab.\r\n",
      "Macam mana dengan JoonPyo?\r\n",
      "Bogazkoy, Amasya Bogazkoy, Amasya merupakan sebuah kawasan yang terletak di Turki.\r\n"
     ]
    }
   ],
   "source": [
    "!head -n 5 train/left.txt"
   ]
  },
  {
   "cell_type": "code",
   "execution_count": 36,
   "metadata": {},
   "outputs": [
    {
     "name": "stdout",
     "output_type": "stream",
     "text": [
      "Kebanyakan mereka ini adalah remaja ataupun dalam lengkongan 20 an.\r\n",
      "Pitt sejak itu mengadopsi kedua-dua anak itu. Pada tahun 2006, pasangan itu mempunyai anak perempuan pertama, Shiloh Nouvel, yang lebih suka dipanggil John, menurut The Telegraph. Pasangan ini mengadopsi Pax Thien, yang kini berusia 12 tahun, sebelum Jolie melahirkan anak kembar Knox Leon dan Vivienne Marcheline, yang kini berusia tujuh tahun. Pada bulan Januari, Jolie menjadi berita utama untuk membawa anak-anaknya ke tayangan perdana \"Kung Fu Panda 3\". Jolie dan Pitt juga dilaporkan membawa sepasukan pengasuh dan guru ke mana sahaja mereka melakukan perjalanan. Menurut Jolie, ibu jutawan tidak boleh mengeluh tentang pekerjaan juggle dan keluarga kerana mereka mempunyai lebih banyak akses, sokongan dan kelonggaran daripada rata-rata wanita:. \"Saya berada dalam posisi yang jarang berlaku di mana saya tidak perlu melakukan pekerjaan selepas bekerja,\" katanya kepada Berita Harian pada Mei 2014. \"Saya dapat mengambil masa ketika keluarga saya memerlukannya\". Artikel ini mula-mula muncul di GoBankingRates.\r\n",
      "Kesannya, usahawan makanan ringan, biskut, kek dan baulu terkenal di Batu Pahat ini tidak lagi mengAgunakan ramai pekerja.\r\n",
      "Walau bagaimanapun, anjing cenderung untuk bertindak balas dan menguap lebih kepada manusia yang biasa terhadapnya.\r\n",
      "Ayah..!\r\n"
     ]
    }
   ],
   "source": [
    "!head -n 5 train-en/right.txt"
   ]
  },
  {
   "cell_type": "code",
   "execution_count": 37,
   "metadata": {},
   "outputs": [],
   "source": [
    "!cat train/left.txt train-en/right.txt > left"
   ]
  },
  {
   "cell_type": "code",
   "execution_count": 38,
   "metadata": {},
   "outputs": [],
   "source": [
    "!cat train/right.txt train-en/left.txt > right"
   ]
  },
  {
   "cell_type": "code",
   "execution_count": 39,
   "metadata": {},
   "outputs": [
    {
     "name": "stdout",
     "output_type": "stream",
     "text": [
      "Terminal 1 KKIA dilengkapi kemudahan 64 kaunter daftar masuk, 12 aero bridge selain mampu menampung 3,200 penumpang dalam satu masa.\r\n",
      "\"Pembangkang hanya berani cakap besar, seolah-olah indah rupa daripada berita,\" katanya.\r\n"
     ]
    }
   ],
   "source": [
    "!head -n 2 left"
   ]
  },
  {
   "cell_type": "code",
   "execution_count": 40,
   "metadata": {},
   "outputs": [
    {
     "name": "stdout",
     "output_type": "stream",
     "text": [
      "Terminal 1 KKIA is equipped with 64 check-in counters, 12 aero bridges and can accommodate 3,200 passengers at a time.\r\n",
      "\"The opposition just dares to say, it looks good on the news,\" he said.\r\n"
     ]
    }
   ],
   "source": [
    "!head -n 2 right"
   ]
  },
  {
   "cell_type": "code",
   "execution_count": 41,
   "metadata": {},
   "outputs": [],
   "source": [
    "!python3 align.py -s left -t right --model 3 -f fwd -r rev --overwrite"
   ]
  },
  {
   "cell_type": "code",
   "execution_count": 42,
   "metadata": {},
   "outputs": [],
   "source": [
    "!python3 mergefiles.py left right > out"
   ]
  },
  {
   "cell_type": "code",
   "execution_count": 43,
   "metadata": {},
   "outputs": [],
   "source": [
    "!python3 makepriors.py -i out -f fwd -r rev --priors ms-en.priors"
   ]
  },
  {
   "cell_type": "code",
   "execution_count": 44,
   "metadata": {},
   "outputs": [
    {
     "data": {
      "text/plain": [
       "CompletedProcess(args=['python3', 'align.py', '-s', 'ms.small', '-t', 'en.small', '--priors', 'ms-en.priors', '--model', '3', '-f', 'out.f', '-r', 'out.r'], returncode=1)"
      ]
     },
     "execution_count": 44,
     "metadata": {},
     "output_type": "execute_result"
    }
   ],
   "source": [
    "import subprocess\n",
    "\n",
    "en = 'However, the 1,643-year-old empire collapsed in the early 19th century following wars and pressures from the Annam Government that emerged in northern Vietnam and southern China.'\n",
    "ms = 'Bagaimanapun, empayar berusia 1,643 tahun itu jatuh pada awal abad ke-19 berikutan peperangan dan tekanan daripada Kerajaan Annam yang muncul di utara Vietnam dan selatan China.'\n",
    "with open('en.small', 'w') as fopen:\n",
    "    fopen.write(en)\n",
    "\n",
    "with open('ms.small', 'w') as fopen:\n",
    "    fopen.write(ms)\n",
    "\n",
    "cmd = 'python3 align.py -s ms.small -t en.small --priors ms-en.priors --model 3 -f out.f -r out.r'\n",
    "subprocess.run(cmd.split())"
   ]
  },
  {
   "cell_type": "code",
   "execution_count": 45,
   "metadata": {},
   "outputs": [
    {
     "name": "stdout",
     "output_type": "stream",
     "text": [
      "0-0 2-1 3-2 1-3 6-4 7-5 5-6 8-7 10-8 9-9 11-10 12-11 13-12 14-13 15-14 16-15 17-16 16-17 18-18 19-19 20-20 21-21 22-22 23-23 24-24 25-25\n",
      "\n"
     ]
    }
   ],
   "source": [
    "with open('out.f') as fopen:\n",
    "    print(fopen.read())"
   ]
  },
  {
   "cell_type": "code",
   "execution_count": 46,
   "metadata": {},
   "outputs": [],
   "source": [
    "import os\n",
    "b2_application_key_id = os.environ['b2_application_key_id']\n",
    "b2_application_key = os.environ['b2_application_key']"
   ]
  },
  {
   "cell_type": "code",
   "execution_count": 47,
   "metadata": {},
   "outputs": [],
   "source": [
    "from b2sdk.v1 import *\n",
    "info = InMemoryAccountInfo()\n",
    "b2_api = B2Api(info)\n",
    "application_key_id = b2_application_key_id\n",
    "application_key = b2_application_key\n",
    "b2_api.authorize_account(\"production\", application_key_id, application_key)\n",
    "file_info = {'how': 'good-file'}\n",
    "b2_bucket = b2_api.get_bucket_by_name('malay-dataset')"
   ]
  },
  {
   "cell_type": "code",
   "execution_count": 48,
   "metadata": {},
   "outputs": [
    {
     "data": {
      "text/plain": [
       "<b2sdk.file_version.FileVersionInfo at 0x7ff82b62a588>"
      ]
     },
     "execution_count": 48,
     "metadata": {},
     "output_type": "execute_result"
    }
   ],
   "source": [
    "file = 'fwd'\n",
    "outPutname = 'ms-en-alignment/fwd'\n",
    "b2_bucket.upload_local_file(\n",
    "    local_file=file,\n",
    "    file_name=outPutname,\n",
    "    file_infos=file_info,\n",
    ")"
   ]
  },
  {
   "cell_type": "code",
   "execution_count": 49,
   "metadata": {},
   "outputs": [
    {
     "data": {
      "text/plain": [
       "<b2sdk.file_version.FileVersionInfo at 0x7ff82b635160>"
      ]
     },
     "execution_count": 49,
     "metadata": {},
     "output_type": "execute_result"
    }
   ],
   "source": [
    "file = 'rev'\n",
    "outPutname = 'ms-en-alignment/rev'\n",
    "b2_bucket.upload_local_file(\n",
    "    local_file=file,\n",
    "    file_name=outPutname,\n",
    "    file_infos=file_info,\n",
    ")"
   ]
  },
  {
   "cell_type": "code",
   "execution_count": 51,
   "metadata": {},
   "outputs": [
    {
     "data": {
      "text/plain": [
       "<b2sdk.file_version.FileVersionInfo at 0x7ff8285b9d68>"
      ]
     },
     "execution_count": 51,
     "metadata": {},
     "output_type": "execute_result"
    }
   ],
   "source": [
    "file = 'ms-en.priors'\n",
    "outPutname = 'ms-en-alignment/align.priors'\n",
    "b2_bucket.upload_local_file(\n",
    "    local_file=file,\n",
    "    file_name=outPutname,\n",
    "    file_infos=file_info,\n",
    ")"
   ]
  }
 ],
 "metadata": {
  "kernelspec": {
   "display_name": "Python 3",
   "language": "python",
   "name": "python3"
  },
  "language_info": {
   "codemirror_mode": {
    "name": "ipython",
    "version": 3
   },
   "file_extension": ".py",
   "mimetype": "text/x-python",
   "name": "python",
   "nbconvert_exporter": "python",
   "pygments_lexer": "ipython3",
   "version": "3.6.9"
  }
 },
 "nbformat": 4,
 "nbformat_minor": 2
}
