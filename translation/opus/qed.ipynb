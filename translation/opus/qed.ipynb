{
 "cells": [
  {
   "cell_type": "code",
   "execution_count": 2,
   "metadata": {},
   "outputs": [],
   "source": [
    "# !wget https://object.pouta.csc.fi/OPUS-QED/v2.0a/raw/en.zip\n",
    "# !wget https://object.pouta.csc.fi/OPUS-QED/v2.0a/raw/ms.zip\n",
    "# !unzip -o -qq en.zip\n",
    "# !unzip -o -qq ms.zip"
   ]
  },
  {
   "cell_type": "code",
   "execution_count": 4,
   "metadata": {},
   "outputs": [],
   "source": [
    "# !wget wget https://object.pouta.csc.fi/OPUS-QED/v2.0a/xml/en-ms.xml.gz\n",
    "# !gzip -d en-ms.xml.gz"
   ]
  },
  {
   "cell_type": "code",
   "execution_count": 6,
   "metadata": {},
   "outputs": [
    {
     "name": "stderr",
     "output_type": "stream",
     "text": [
      "100%|██████████| 108998/108998 [00:25<00:00, 4300.02it/s]\n"
     ]
    }
   ],
   "source": [
    "from bs4 import BeautifulSoup\n",
    "from tqdm import tqdm\n",
    "\n",
    "with open('en-ms.xml') as fopen:\n",
    "    xml = fopen.read().split('\\n')\n",
    "    \n",
    "mapping, ids = {}, []\n",
    "enable = False\n",
    "for row in tqdm(xml):\n",
    "    if '<linkGrp targType' in row:\n",
    "        s = BeautifulSoup(row)\n",
    "        r = 'QED/raw/' + s.findAll('linkgrp')[0].get('fromdoc').replace('.gz','')\n",
    "        l = 'QED/raw/' + s.findAll('linkgrp')[0].get('todoc').replace('.gz','')\n",
    "        enable = True\n",
    "    if '<link id' in row and enable:\n",
    "        s = BeautifulSoup(row)\n",
    "        t = s.findAll('link')[0].get('xtargets')\n",
    "        t = list(filter(None, t.split(';')))\n",
    "        if len(t) != 2:\n",
    "            continue\n",
    "        ids.append([t[0].split(), t[1].split()])\n",
    "    if '</linkGrp>' in row:\n",
    "        label = f'{l} <> {r}'\n",
    "        mapping[label] = ids\n",
    "        enable = False\n",
    "        ids = []"
   ]
  },
  {
   "cell_type": "code",
   "execution_count": 7,
   "metadata": {},
   "outputs": [
    {
     "name": "stderr",
     "output_type": "stream",
     "text": [
      "100%|██████████| 812/812 [00:46<00:00, 17.38it/s]\n"
     ]
    }
   ],
   "source": [
    "results = []\n",
    "for file in tqdm(mapping.keys()):\n",
    "    l, r = file.split(' <> ')\n",
    "    ids = mapping[file]\n",
    "    try:\n",
    "        with open(l) as fopen:\n",
    "            left = fopen.read()\n",
    "        soup_left = BeautifulSoup(left, 'html.parser')\n",
    "        with open(r) as fopen:\n",
    "            right = fopen.read()\n",
    "        soup_right = BeautifulSoup(right, 'html.parser')\n",
    "        left_dict = {}\n",
    "        for s in soup_left.find_all('s'):\n",
    "            i = s.get('id')\n",
    "            text = s.get_text()\n",
    "            left_dict[i] = text\n",
    "        right_dict = {}\n",
    "        for s in soup_right.find_all('s'):\n",
    "            i = s.get('id')\n",
    "            text = s.get_text()\n",
    "            right_dict[i] = text\n",
    "        combined = []\n",
    "        for i in ids:\n",
    "            try:\n",
    "                r = ' '.join([right_dict[k] for k in i[0]])\n",
    "                l = ' '.join([left_dict[k] for k in i[1]])\n",
    "                combined.append((l, r))\n",
    "            except:\n",
    "                pass\n",
    "        results.extend(combined)\n",
    "    except Exception as e:\n",
    "        print(e)\n",
    "        pass"
   ]
  },
  {
   "cell_type": "code",
   "execution_count": 8,
   "metadata": {},
   "outputs": [
    {
     "data": {
      "text/plain": [
       "79871"
      ]
     },
     "execution_count": 8,
     "metadata": {},
     "output_type": "execute_result"
    }
   ],
   "source": [
    "len(results)"
   ]
  },
  {
   "cell_type": "code",
   "execution_count": 9,
   "metadata": {},
   "outputs": [
    {
     "data": {
      "text/plain": [
       "[('\\n\\nKita diminta untuk mendarab 65 dengan 1. \\n    \\n',\n",
       "  \"\\n\\nWe're asked to multiply 65 times 1. \\n    \\n\"),\n",
       " ('\\n\\nSecara literal, kita hanya perlu darabkan 65--kita boleh tuliskannya \\n    \\n\\nsebagai tanda darab atau kita boleh tuliskan sebagai titik \\n    \\n\\nmacam ini--tapi ia bermaksud 65 darab 1. \\n    \\n',\n",
       "  '\\n\\nSo literally, we just need to multiply 65, \\n    \\n\\nand we could write it as a times sign like that or we could write it as a dot like that \\n    \\n\\nbut this means 65 times 1. \\n    \\n'),\n",
       " ('\\n\\nAda dua cara untuk mentafsir ini. \\n    \\n',\n",
       "  \"\\n\\nAnd there's two ways to interpret this. \\n    \\n\"),\n",
       " ('\\n\\nKamu boleh lihat ini sebagai nombor 65 sebanyak satu kali atau kamu \\n    \\n\\nboleh lihatnya sebagai nombor 1 sebanyak enam puluh lima \\n    \\n\\nkali. \\n    \\n',\n",
       "  '\\n\\nYou could view this as the number 65 one time \\n    \\n\\nor you could view this as the number 1 sixty-five times, all added up. \\n    \\n'),\n",
       " ('\\n\\nMana-mana cara pun, jika kamu ada 65, ini secara literal \\n    \\n\\nakan menjadi 65. \\n    \\n',\n",
       "  '\\n\\nBut either way, if you have one 65, this is literally just going to be 65. \\n    \\n'),\n",
       " ('\\n\\nApa-apa saja yang didarab dengan 1 akan menjadi apa-apa saja, \\n    \\n\\ntidak kira apa-apa ini. \\n    \\n',\n",
       "  '\\n\\nAnything times 1 is going to be that anything, \\n    \\n\\nwhatever this is. \\n    \\n'),\n",
       " ('\\n\\nApa-apa saja yang didarab 1 akan menjadi \\n    \\n\\nbenda yang sama. \\n    \\n',\n",
       "  '\\n\\nWhatever this is times 1 is going to be that same thing again. \\n    \\n'),\n",
       " ('\\n\\nJIka saya ada tempat kosong dan didarab dengan 1, \\n    \\n\\nsaya juga boleh tuliskan simbol darab dengan 1, \\n    \\n\\nitu akan menadi tempat kosong yang sama. \\n    \\n',\n",
       "  \"\\n\\nIf I have just some kind of placeholder here times 1, \\n    \\n \\n\\nthat's going to be that same placeholder. \\n    \\n\"),\n",
       " ('\\n\\nJika saya ada 3 darab 1, saya akan mendapat 3 \\n    \\n',\n",
       "  \"\\n\\nSo if I have 3 times 1, I'm going to get 3. \\n    \\n\"),\n",
       " ('\\n\\nJika saya ada 5 darab 1, saya akan mendapat 5, sebab \\n    \\n\\nsemua ini mengatakan ialah 5 didarab satu kali. \\n    \\n',\n",
       "  \"\\n\\nIf I have 5 times 1, I'm going to get 5, \\n    \\n\\nbecause literally, all this is saying is 5 one time. \\n    \\n\"),\n",
       " ('\\n\\nJika saya letak--saya tidak pasti--157 darab 1, itu akan menjadi 157 \\n    \\n',\n",
       "  \"\\n\\nIf I put-- I don't know-- 157 times 1, that'll be 157. \\n    \\n\"),\n",
       " ('\\n\\nSaya rasa kamu sudah dapat idea ini. \\n  ',\n",
       "  '\\n\\nI think you get the idea. \\n  '),\n",
       " ('\\n\\nGerakan ini tidak kira-kira mengalahkan 99% atau menggulingkan% 1. \\n    \\n',\n",
       "  \"\\n\\nThis movement isn't about the 99% defeating or toppling the 1%. \\n    \\n\"),\n",
       " ('\\n\\nAnda tahu bab seterusnya cerita itu, yang merupakan 99% baru 1%. \\n    \\n',\n",
       "  '\\n\\nYou know the next chapter of that story, which is that the 99% create a new 1%. \\n    \\n'),\n",
       " ('\\n\\nItu bukan apa yang diperkatakan \\n    \\n',\n",
       "  \"\\n\\nThat's not what it's about. \\n    \\n\"),\n",
       " ('\\n\\nApa yang kita mahu mewujudkan dunia yang lebih indah hati kita memberitahu kita mungkin.\\n  ',\n",
       "  '\\n\\nWhat we want to create is the more beautiful world our hearts tell us is possible.\\n  '),\n",
       " ('\\n Sebuah dunia yang suci. \\n    \\n', '\\n A sacred world. \\n    \\n'),\n",
       " ('\\n\\nSebuah dunia yang bekerja untuk semua orang.\\n  ',\n",
       "  '\\n\\nA world that works for everybody.\\n  '),\n",
       " ('\\n Dunia yang menyembuhkan.\\n  ', '\\n A world that is healing.\\n  '),\n",
       " ('\\n Dunia keamanan. \\n    \\n', '\\n A world of peace. \\n    \\n')]"
      ]
     },
     "execution_count": 9,
     "metadata": {},
     "output_type": "execute_result"
    }
   ],
   "source": [
    "results[:20]"
   ]
  },
  {
   "cell_type": "code",
   "execution_count": 10,
   "metadata": {},
   "outputs": [],
   "source": [
    "import json\n",
    "\n",
    "with open('qed-ms-en.json', 'w') as fopen:\n",
    "    json.dump(results, fopen)"
   ]
  },
  {
   "cell_type": "code",
   "execution_count": 11,
   "metadata": {},
   "outputs": [],
   "source": [
    "!rm -rf QED\n",
    "!rm -rf ms.zip en.zip\n",
    "!rm -rf ms.zip en.zip en-ms.xml.gz en-ms.xml"
   ]
  },
  {
   "cell_type": "code",
   "execution_count": null,
   "metadata": {},
   "outputs": [],
   "source": []
  }
 ],
 "metadata": {
  "kernelspec": {
   "display_name": "Python 3",
   "language": "python",
   "name": "python3"
  },
  "language_info": {
   "codemirror_mode": {
    "name": "ipython",
    "version": 3
   },
   "file_extension": ".py",
   "mimetype": "text/x-python",
   "name": "python",
   "nbconvert_exporter": "python",
   "pygments_lexer": "ipython3",
   "version": "3.6.8"
  }
 },
 "nbformat": 4,
 "nbformat_minor": 2
}
