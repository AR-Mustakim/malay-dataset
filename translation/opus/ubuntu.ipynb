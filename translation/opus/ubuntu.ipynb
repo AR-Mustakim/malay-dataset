{
 "cells": [
  {
   "cell_type": "code",
   "execution_count": 2,
   "metadata": {},
   "outputs": [],
   "source": [
    "# !wget https://object.pouta.csc.fi/OPUS-Ubuntu/v14.10/raw/en.zip\n",
    "# !wget https://object.pouta.csc.fi/OPUS-Ubuntu/v14.10/raw/ms.zip\n",
    "# !unzip -o en.zip\n",
    "# !unzip -o ms.zip"
   ]
  },
  {
   "cell_type": "code",
   "execution_count": 4,
   "metadata": {},
   "outputs": [],
   "source": [
    "# !wget https://object.pouta.csc.fi/OPUS-Ubuntu/v14.10/xml/en-ms.xml.gz\n",
    "# !gzip -d en-ms.xml.gz"
   ]
  },
  {
   "cell_type": "code",
   "execution_count": 5,
   "metadata": {},
   "outputs": [
    {
     "name": "stderr",
     "output_type": "stream",
     "text": [
      "100%|██████████| 121906/121906 [00:28<00:00, 4314.15it/s]\n"
     ]
    }
   ],
   "source": [
    "from bs4 import BeautifulSoup\n",
    "from tqdm import tqdm\n",
    "\n",
    "with open('en-ms.xml') as fopen:\n",
    "    xml = fopen.read().split('\\n')\n",
    "    \n",
    "mapping, ids = {}, []\n",
    "enable = False\n",
    "for row in tqdm(xml):\n",
    "    if '<linkGrp targType' in row:\n",
    "        s = BeautifulSoup(row)\n",
    "        r = 'Ubuntu/raw/' + s.findAll('linkgrp')[0].get('fromdoc').replace('.gz','')\n",
    "        l = 'Ubuntu/raw/' + s.findAll('linkgrp')[0].get('todoc').replace('.gz','')\n",
    "        enable = True\n",
    "    if '<link ' in row and enable:\n",
    "        s = BeautifulSoup(row)\n",
    "        t = s.findAll('link')[0].get('xtargets')\n",
    "        t = list(filter(None, t.split(';')))\n",
    "        if len(t) != 2:\n",
    "            continue\n",
    "        ids.append([t[0].split(), t[1].split()])\n",
    "    if '</linkGrp>' in row:\n",
    "        label = f'{l} <> {r}'\n",
    "        mapping[label] = ids\n",
    "        enable = False\n",
    "        ids = []"
   ]
  },
  {
   "cell_type": "code",
   "execution_count": 7,
   "metadata": {},
   "outputs": [
    {
     "name": "stderr",
     "output_type": "stream",
     "text": [
      "100%|██████████| 451/451 [00:21<00:00, 21.41it/s]\n"
     ]
    }
   ],
   "source": [
    "results = []\n",
    "for file in tqdm(mapping.keys()):\n",
    "    l, r = file.split(' <> ')\n",
    "    ids = mapping[file]\n",
    "    try:\n",
    "        with open(l) as fopen:\n",
    "            left = fopen.read()\n",
    "        soup_left = BeautifulSoup(left, 'html.parser')\n",
    "        with open(r) as fopen:\n",
    "            right = fopen.read()\n",
    "        soup_right = BeautifulSoup(right, 'html.parser')\n",
    "        left_dict = {}\n",
    "        for s in soup_left.find_all('s'):\n",
    "            i = s.get('id')\n",
    "            text = s.get_text()\n",
    "            left_dict[i] = text\n",
    "        right_dict = {}\n",
    "        for s in soup_right.find_all('s'):\n",
    "            i = s.get('id')\n",
    "            text = s.get_text()\n",
    "            right_dict[i] = text\n",
    "        combined = []\n",
    "        for i in ids:\n",
    "            try:\n",
    "                r = ' '.join([right_dict[k] for k in i[0]])\n",
    "                l = ' '.join([left_dict[k] for k in i[1]])\n",
    "                combined.append((l, r))\n",
    "            except:\n",
    "                pass\n",
    "        results.extend(combined)\n",
    "    except Exception as e:\n",
    "        print(e)\n",
    "        pass"
   ]
  },
  {
   "cell_type": "code",
   "execution_count": 8,
   "metadata": {},
   "outputs": [
    {
     "data": {
      "text/plain": [
       "120097"
      ]
     },
     "execution_count": 8,
     "metadata": {},
     "output_type": "execute_result"
    }
   ],
   "source": [
    "len(results)"
   ]
  },
  {
   "cell_type": "code",
   "execution_count": 9,
   "metadata": {},
   "outputs": [
    {
     "data": {
      "text/plain": [
       "[('Sertakan Gmail, Google Docs, Google+, YouTube dan Picasa',\n",
       "  'Includes Gmail, Google Docs, Google+, YouTube and Picasa'),\n",
       " ('Ubah data pengguna yang anda miliki', 'Change your own user data'),\n",
       " ('Pengesahihan diperlukan untuk ubah data pengguna yang anda miliki',\n",
       "  'Authentication is required to change your own user data'),\n",
       " ('Urus akaun pengguna', 'Manage user accounts'),\n",
       " ('Pengesahihan diperlukan untuk ubah data pengguna',\n",
       "  'Authentication is required to change user data'),\n",
       " ('Ubah konfigurasi skrin daftar masuk',\n",
       "  'Change the login screen configuration'),\n",
       " ('Pengesahihan diperlukan untuk ubah konfigurasi skrin daftar masuk',\n",
       "  'Authentication is required to change the login screen configuration'),\n",
       " ('Outputkan maklumat versi dan keluar',\n",
       "  'Output version information and exit'),\n",
       " ('Ganti kejadian sedia ada', 'Replace existing instance'),\n",
       " ('Benarkan kod penyahpepijat', 'Enable debugging code'),\n",
       " ('Menyediakan antaramuka D-Bus untuk pertanyaan dan\\nmanipulasikan maklumat akaun pengguna.',\n",
       "  'Provides D-Bus interfaces for querying and manipulating\\nuser account information.'),\n",
       " ('Penggunaan:\\n', 'Usage:\\n'),\n",
       " ('\\\\t%s laluan nama acl...\\n', '\\\\t%s acl pathname...\\n'),\n",
       " ('\\\\t%s -b acl dacl nama-laluan...\\n', '\\\\t%s -b acl dacl pathname...\\n'),\n",
       " ('\\\\t%s -d dacl nama-laluan...\\n', '\\\\t%s -d dacl pathname...\\n'),\n",
       " ('\\\\t%s -R nama-laluan ...\\n', '\\\\t%s -R pathname...\\n'),\n",
       " ('\\\\t%s -D nama-laluan...\\n', '\\\\t%s -D pathname...\\n'),\n",
       " ('\\\\t%s -B nama-laluan...\\n', '\\\\t%s -B pathname...\\n'),\n",
       " ('\\\\t%s -l nama-laluan...\\\\t[tidak serasi IRIX]\\n',\n",
       "  '\\\\t%s -l pathname...\\\\t[not IRIX compatible]\\n'),\n",
       " ('\\\\t%s -r nama-laluan...\\\\t[tidak serasi IRIX]\\n',\n",
       "  '\\\\t%s -r pathname...\\\\t[not IRIX compatible]\\n')]"
      ]
     },
     "execution_count": 9,
     "metadata": {},
     "output_type": "execute_result"
    }
   ],
   "source": [
    "results[:20]"
   ]
  },
  {
   "cell_type": "code",
   "execution_count": 10,
   "metadata": {},
   "outputs": [],
   "source": [
    "import json\n",
    "\n",
    "with open('ubuntu-ms-en.json', 'w') as fopen:\n",
    "    json.dump(results, fopen)"
   ]
  },
  {
   "cell_type": "code",
   "execution_count": 11,
   "metadata": {},
   "outputs": [],
   "source": [
    "!rm -rf Ubuntu\n",
    "!rm -rf ms.zip en.zip\n",
    "!rm -rf ms.zip en.zip en-ms.xml.gz en-ms.xml"
   ]
  }
 ],
 "metadata": {
  "kernelspec": {
   "display_name": "Python 3",
   "language": "python",
   "name": "python3"
  },
  "language_info": {
   "codemirror_mode": {
    "name": "ipython",
    "version": 3
   },
   "file_extension": ".py",
   "mimetype": "text/x-python",
   "name": "python",
   "nbconvert_exporter": "python",
   "pygments_lexer": "ipython3",
   "version": "3.6.8"
  }
 },
 "nbformat": 4,
 "nbformat_minor": 2
}
