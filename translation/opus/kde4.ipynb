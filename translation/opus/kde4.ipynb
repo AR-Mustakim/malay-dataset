{
 "cells": [
  {
   "cell_type": "code",
   "execution_count": 2,
   "metadata": {
    "scrolled": true
   },
   "outputs": [],
   "source": [
    "# !wget https://object.pouta.csc.fi/OPUS-KDE4/v2/raw/en.zip\n",
    "# !wget https://object.pouta.csc.fi/OPUS-KDE4/v2/raw/ms.zip\n",
    "# !unzip -o en.zip\n",
    "# !unzip -o ms.zip"
   ]
  },
  {
   "cell_type": "code",
   "execution_count": 4,
   "metadata": {},
   "outputs": [],
   "source": [
    "# !wget wget https://object.pouta.csc.fi/OPUS-KDE4/v2/xml/en-ms.xml.gz\n",
    "# !gzip -d en-ms.xml.gz"
   ]
  },
  {
   "cell_type": "code",
   "execution_count": 5,
   "metadata": {},
   "outputs": [
    {
     "name": "stderr",
     "output_type": "stream",
     "text": [
      "100%|██████████| 103657/103657 [00:24<00:00, 4261.41it/s]\n"
     ]
    }
   ],
   "source": [
    "from bs4 import BeautifulSoup\n",
    "from tqdm import tqdm\n",
    "\n",
    "with open('en-ms.xml') as fopen:\n",
    "    xml = fopen.read().split('\\n')\n",
    "    \n",
    "mapping, ids = {}, []\n",
    "enable = False\n",
    "for row in tqdm(xml):\n",
    "    if '<linkGrp targType' in row:\n",
    "        s = BeautifulSoup(row)\n",
    "        r = 'KDE4/raw/' + s.findAll('linkgrp')[0].get('fromdoc').replace('.gz','')\n",
    "        l = 'KDE4/raw/' + s.findAll('linkgrp')[0].get('todoc').replace('.gz','')\n",
    "        enable = True\n",
    "    if '<link id' in row and enable:\n",
    "        s = BeautifulSoup(row)\n",
    "        t = s.findAll('link')[0].get('xtargets')\n",
    "        t = list(filter(None, t.split(';')))\n",
    "        if len(t) != 2:\n",
    "            continue\n",
    "        ids.append([t[0].split(), t[1].split()])\n",
    "    if '</linkGrp>' in row:\n",
    "        label = f'{l} <> {r}'\n",
    "        mapping[label] = ids\n",
    "        enable = False\n",
    "        ids = []"
   ]
  },
  {
   "cell_type": "code",
   "execution_count": 6,
   "metadata": {},
   "outputs": [
    {
     "data": {
      "text/plain": [
       "[[['s2'], ['s2']],\n",
       " [['s4'], ['s4']],\n",
       " [['s6'], ['s6']],\n",
       " [['s8'], ['s8']],\n",
       " [['s13'], ['s13']]]"
      ]
     },
     "execution_count": 6,
     "metadata": {},
     "output_type": "execute_result"
    }
   ],
   "source": [
    "mapping[label]"
   ]
  },
  {
   "cell_type": "code",
   "execution_count": 7,
   "metadata": {},
   "outputs": [
    {
     "name": "stderr",
     "output_type": "stream",
     "text": [
      " 95%|█████████▌| 575/604 [00:12<00:01, 27.42it/s] "
     ]
    },
    {
     "name": "stdout",
     "output_type": "stream",
     "text": [
      "[Errno 2] No such file or directory: 'KDE4/raw/ms/messages/playground-multimedia/kdetv.xml'\n"
     ]
    },
    {
     "name": "stderr",
     "output_type": "stream",
     "text": [
      "100%|██████████| 604/604 [00:13<00:00, 45.25it/s]\n"
     ]
    }
   ],
   "source": [
    "results = []\n",
    "for file in tqdm(mapping.keys()):\n",
    "    l, r = file.split(' <> ')\n",
    "    ids = mapping[file]\n",
    "    try:\n",
    "        with open(l) as fopen:\n",
    "            left = fopen.read()\n",
    "        soup_left = BeautifulSoup(left, 'html.parser')\n",
    "        with open(r) as fopen:\n",
    "            right = fopen.read()\n",
    "        soup_right = BeautifulSoup(right, 'html.parser')\n",
    "        left_dict = {}\n",
    "        for s in soup_left.find_all('s'):\n",
    "            i = s.get('id')\n",
    "            text = s.get_text()\n",
    "            left_dict[i] = text\n",
    "        right_dict = {}\n",
    "        for s in soup_right.find_all('s'):\n",
    "            i = s.get('id')\n",
    "            text = s.get_text()\n",
    "            right_dict[i] = text\n",
    "        combined = []\n",
    "        for i in ids:\n",
    "            try:\n",
    "                r = ' '.join([right_dict[k] for k in i[0]])\n",
    "                l = ' '.join([left_dict[k] for k in i[1]])\n",
    "                combined.append((l, r))\n",
    "            except:\n",
    "                pass\n",
    "        results.extend(combined)\n",
    "    except Exception as e:\n",
    "        print(e)\n",
    "        pass"
   ]
  },
  {
   "cell_type": "code",
   "execution_count": 8,
   "metadata": {},
   "outputs": [
    {
     "data": {
      "text/plain": [
       "87184"
      ]
     },
     "execution_count": 8,
     "metadata": {},
     "output_type": "execute_result"
    }
   ],
   "source": [
    "len(results)"
   ]
  },
  {
   "cell_type": "code",
   "execution_count": 11,
   "metadata": {},
   "outputs": [
    {
     "data": {
      "text/plain": [
       "[('Tambah Feed ke Akregator', 'Add Feed to Akregator'),\n",
       " ('Tambah Feeds ke Akregator', 'Add Feeds to Akregator'),\n",
       " ('Tambah Semua Feed Yang Ditemui ke Akregator',\n",
       "  'Add All Found Feeds to Akregator'),\n",
       " ('Feeds yang diimport', 'Imported Feeds'),\n",
       " ('& Automuat semula', '& Auto Refresh'),\n",
       " ('Tiada', 'None'),\n",
       " ('Setiap 15 saat', 'Every 15 Seconds'),\n",
       " ('Setiap 30 saat', 'Every 30 Seconds'),\n",
       " ('Setiap Minit', 'Every Minute'),\n",
       " ('Setiap 5 Minit', 'Every 5 Minutes')]"
      ]
     },
     "execution_count": 11,
     "metadata": {},
     "output_type": "execute_result"
    }
   ],
   "source": [
    "results[:10]"
   ]
  },
  {
   "cell_type": "code",
   "execution_count": 9,
   "metadata": {},
   "outputs": [],
   "source": [
    "import json\n",
    "\n",
    "with open('kde4-ms-en.json', 'w') as fopen:\n",
    "    json.dump(results, fopen)"
   ]
  },
  {
   "cell_type": "code",
   "execution_count": 10,
   "metadata": {},
   "outputs": [],
   "source": [
    "!rm -rf KDE4\n",
    "!rm -rf ms.zip en.zip en-ms.xml.gz en-ms.xml"
   ]
  },
  {
   "cell_type": "code",
   "execution_count": null,
   "metadata": {},
   "outputs": [],
   "source": []
  }
 ],
 "metadata": {
  "kernelspec": {
   "display_name": "Python 3",
   "language": "python",
   "name": "python3"
  },
  "language_info": {
   "codemirror_mode": {
    "name": "ipython",
    "version": 3
   },
   "file_extension": ".py",
   "mimetype": "text/x-python",
   "name": "python",
   "nbconvert_exporter": "python",
   "pygments_lexer": "ipython3",
   "version": "3.6.8"
  }
 },
 "nbformat": 4,
 "nbformat_minor": 2
}
