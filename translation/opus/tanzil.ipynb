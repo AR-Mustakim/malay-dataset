{
 "cells": [
  {
   "cell_type": "code",
   "execution_count": 2,
   "metadata": {},
   "outputs": [],
   "source": [
    "# !wget https://object.pouta.csc.fi/OPUS-Tanzil/v1/raw/en.zip\n",
    "# !wget https://object.pouta.csc.fi/OPUS-Tanzil/v1/raw/ms.zip\n",
    "# !unzip -o en.zip\n",
    "# !unzip -o ms.zip"
   ]
  },
  {
   "cell_type": "code",
   "execution_count": 4,
   "metadata": {},
   "outputs": [],
   "source": [
    "# !wget https://object.pouta.csc.fi/OPUS-Tanzil/v1/xml/en-ms.xml.gz\n",
    "# !gzip -d en-ms.xml.gz"
   ]
  },
  {
   "cell_type": "code",
   "execution_count": 12,
   "metadata": {},
   "outputs": [
    {
     "name": "stderr",
     "output_type": "stream",
     "text": [
      "100%|██████████| 124656/124656 [00:28<00:00, 4336.58it/s]\n"
     ]
    }
   ],
   "source": [
    "from bs4 import BeautifulSoup\n",
    "from tqdm import tqdm\n",
    "\n",
    "with open('en-ms.xml') as fopen:\n",
    "    xml = fopen.read().split('\\n')\n",
    "    \n",
    "mapping, ids = {}, []\n",
    "enable = False\n",
    "for row in tqdm(xml):\n",
    "    if '<linkGrp targType' in row:\n",
    "        s = BeautifulSoup(row)\n",
    "        r = 'Tanzil/raw/' + s.findAll('linkgrp')[0].get('fromdoc').replace('.gz','')\n",
    "        l = 'Tanzil/raw/' + s.findAll('linkgrp')[0].get('todoc').replace('.gz','')\n",
    "        enable = True\n",
    "    if '<link ' in row and enable:\n",
    "        s = BeautifulSoup(row)\n",
    "        t = s.findAll('link')[0].get('xtargets')\n",
    "        t = list(filter(None, t.split(';')))\n",
    "        if len(t) != 2:\n",
    "            continue\n",
    "        ids.append([t[0].split(), t[1].split()])\n",
    "    if '</linkGrp>' in row:\n",
    "        label = f'{l} <> {r}'\n",
    "        mapping[label] = ids\n",
    "        enable = False\n",
    "        ids = []"
   ]
  },
  {
   "cell_type": "code",
   "execution_count": 13,
   "metadata": {},
   "outputs": [
    {
     "name": "stderr",
     "output_type": "stream",
     "text": [
      "100%|██████████| 15/15 [00:21<00:00,  1.41s/it]\n"
     ]
    }
   ],
   "source": [
    "results = []\n",
    "for file in tqdm(mapping.keys()):\n",
    "    l, r = file.split(' <> ')\n",
    "    ids = mapping[file]\n",
    "    try:\n",
    "        with open(l) as fopen:\n",
    "            left = fopen.read()\n",
    "        soup_left = BeautifulSoup(left, 'html.parser')\n",
    "        with open(r) as fopen:\n",
    "            right = fopen.read()\n",
    "        soup_right = BeautifulSoup(right, 'html.parser')\n",
    "        left_dict = {}\n",
    "        for s in soup_left.find_all('s'):\n",
    "            i = s.get('id')\n",
    "            text = s.get_text()\n",
    "            left_dict[i] = text\n",
    "        right_dict = {}\n",
    "        for s in soup_right.find_all('s'):\n",
    "            i = s.get('id')\n",
    "            text = s.get_text()\n",
    "            right_dict[i] = text\n",
    "        combined = []\n",
    "        for i in ids:\n",
    "            try:\n",
    "                r = ' '.join([right_dict[k] for k in i[0]])\n",
    "                l = ' '.join([left_dict[k] for k in i[1]])\n",
    "                combined.append((l, r))\n",
    "            except:\n",
    "                pass\n",
    "        results.extend(combined)\n",
    "    except Exception as e:\n",
    "        print(e)\n",
    "        pass"
   ]
  },
  {
   "cell_type": "code",
   "execution_count": 14,
   "metadata": {
    "scrolled": true
   },
   "outputs": [
    {
     "data": {
      "text/plain": [
       "122483"
      ]
     },
     "execution_count": 14,
     "metadata": {},
     "output_type": "execute_result"
    }
   ],
   "source": [
    "len(results)"
   ]
  },
  {
   "cell_type": "code",
   "execution_count": 15,
   "metadata": {},
   "outputs": [
    {
     "data": {
      "text/plain": [
       "[('Dengan nama Allah, Yang Maha Pemurah, lagi Maha Mengasihani.',\n",
       "  'In the name of Allah, most benevolent, ever-merciful.'),\n",
       " ('Segala puji tertentu bagi Allah, Tuhan yang memelihara dan mentadbirkan sekalian alam.',\n",
       "  'ALL PRAISE BE to Allah, Lord of all the worlds,'),\n",
       " ('Yang Maha Pemurah, lagi Maha Mengasihani.',\n",
       "  'Most beneficent, ever-merciful,'),\n",
       " ('Yang Menguasai pemerintahan hari Pembalasan (hari Akhirat).',\n",
       "  'King of the Day of Judgement.'),\n",
       " ('Engkaulah sahaja (Ya Allah) Yang Kami sembah, dan kepada Engkaulah sahaja kami memohon pertolongan.',\n",
       "  'You alone we worship, and to You alone turn for help.'),\n",
       " ('Tunjukilah kami jalan yang lurus.',\n",
       "  'Guide us (O Lord) to the path that is straight,'),\n",
       " ('Iaitu jalan orang-orang yang Engkau telah kurniakan nikmat kepada mereka, bukan (jalan) orang-orang yang Engkau telah murkai, dan bukan pula (jalan) orang-orang yang sesat.',\n",
       "  'The path of those You have blessed, Not of those who have earned Your anger, nor those who have gone astray.'),\n",
       " ('Alif, Laam, Miim.', 'ALIF LAM MIM.'),\n",
       " ('Kitab Al-Quran ini, tidak ada sebarang syak padanya (tentang datangnya dari Allah dan tentang sempurnanya); ia pula menjadi petunjuk bagi orang-orang yang (hendak) bertaqwa;',\n",
       "  'This is The Book free of doubt and involution, a guidance for those who preserve themselves from evil and follow the straight path,'),\n",
       " ('Iaitu orang-orang yang beriman kepada perkara-perkara yang ghaib, dan mendirikan (mengerjakan) sembahyang serta membelanjakan (mendermakan) sebahagian dari rezeki yang Kami berikan kepada mereka.',\n",
       "  'Who believe in the Unknown and fulfil their devotional obligations, and spend in charity of what We have given them;')]"
      ]
     },
     "execution_count": 15,
     "metadata": {},
     "output_type": "execute_result"
    }
   ],
   "source": [
    "results[:10]"
   ]
  },
  {
   "cell_type": "code",
   "execution_count": 16,
   "metadata": {},
   "outputs": [],
   "source": [
    "import json\n",
    "\n",
    "with open('tanzil-ms-en.json', 'w') as fopen:\n",
    "    json.dump(results, fopen)"
   ]
  },
  {
   "cell_type": "code",
   "execution_count": 17,
   "metadata": {},
   "outputs": [],
   "source": [
    "!rm -rf Tanzil\n",
    "!rm -rf ms.zip en.zip\n",
    "!rm -rf ms.zip en.zip en-ms.xml.gz en-ms.xml"
   ]
  }
 ],
 "metadata": {
  "kernelspec": {
   "display_name": "Python 3",
   "language": "python",
   "name": "python3"
  },
  "language_info": {
   "codemirror_mode": {
    "name": "ipython",
    "version": 3
   },
   "file_extension": ".py",
   "mimetype": "text/x-python",
   "name": "python",
   "nbconvert_exporter": "python",
   "pygments_lexer": "ipython3",
   "version": "3.6.8"
  }
 },
 "nbformat": 4,
 "nbformat_minor": 2
}
