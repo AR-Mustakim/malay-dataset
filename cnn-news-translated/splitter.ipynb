{
 "cells": [
  {
   "cell_type": "code",
   "execution_count": 3,
   "metadata": {},
   "outputs": [],
   "source": [
    "# from google_drive_downloader import GoogleDriveDownloader as gdd\n",
    "\n",
    "# id = '0BwmD_VLjROrfTHk4NFg2SndKcjQ'\n",
    "# gdd.download_file_from_google_drive(file_id=id, dest_path='./cnn.tgz')"
   ]
  },
  {
   "cell_type": "code",
   "execution_count": 4,
   "metadata": {},
   "outputs": [],
   "source": [
    "# !tar -zxf cnn.tgz"
   ]
  },
  {
   "cell_type": "code",
   "execution_count": 7,
   "metadata": {},
   "outputs": [],
   "source": [
    "import malaya\n",
    "import re\n",
    "from malaya.texts._text_functions import split_into_sentences\n",
    "from malaya.texts import _regex\n",
    "\n",
    "splitter = split_into_sentences"
   ]
  },
  {
   "cell_type": "code",
   "execution_count": 8,
   "metadata": {},
   "outputs": [
    {
     "data": {
      "text/plain": [
       "92579"
      ]
     },
     "execution_count": 8,
     "metadata": {},
     "output_type": "execute_result"
    }
   ],
   "source": [
    "import glob\n",
    "\n",
    "stories = glob.glob('cnn/stories/*.story')\n",
    "len(stories)"
   ]
  },
  {
   "cell_type": "code",
   "execution_count": 14,
   "metadata": {},
   "outputs": [],
   "source": [
    "def split_story(doc):\n",
    "    index = doc.find('@highlight')\n",
    "    story, highlights = doc[:index], doc[index:].split('@highlight')\n",
    "    highlights = [h.strip() for h in highlights if len(h) > 0]\n",
    "    stories = []\n",
    "    for s in splitter(story):\n",
    "        stories.append(s)\n",
    "    summaries = []\n",
    "    for s in highlights:\n",
    "        summaries.append(s)\n",
    "    return stories, summaries"
   ]
  },
  {
   "cell_type": "code",
   "execution_count": 24,
   "metadata": {},
   "outputs": [],
   "source": [
    "with open(stories[2]) as fopen:\n",
    "    story = fopen.read()\n",
    "story, highlights = split_story(story)"
   ]
  },
  {
   "cell_type": "code",
   "execution_count": 25,
   "metadata": {},
   "outputs": [
    {
     "data": {
      "text/plain": [
       "['North Korea has unleashed a torrent of dramatic threats against the U.S. and South Korea',\n",
       " 'The U.S. calculates that a test launch of mobile ballistic missiles could come at any time',\n",
       " 'Mike Chinoy says it\\'s not the first time such an \"alarmist\" conclusion has been reached',\n",
       " 'He suggests other U.S. agencies have disagreed']"
      ]
     },
     "execution_count": 25,
     "metadata": {},
     "output_type": "execute_result"
    }
   ],
   "source": [
    "highlights"
   ]
  },
  {
   "cell_type": "code",
   "execution_count": 28,
   "metadata": {},
   "outputs": [],
   "source": [
    "def split(story, highlights, cap = 5000):\n",
    "    a, s_ = [], ''\n",
    "    for s in story:\n",
    "        if len(s_ + ' ' + s) >= 5000:\n",
    "            a.append(s_)\n",
    "            s_ = ''\n",
    "        else:\n",
    "            s_ = s_ + ' ' + s\n",
    "    if len(s_):\n",
    "        a.append(s_)\n",
    "    a.append(' <SPPPPLIIIT> '.join(highlights))\n",
    "    return a"
   ]
  },
  {
   "cell_type": "code",
   "execution_count": 29,
   "metadata": {},
   "outputs": [
    {
     "data": {
      "text/plain": [
       "[' (CNN) -- The latest controversy over whether North Korea has the technology to fit a nuclear warhead on a missile is not the first time American intelligence agencies have been at odds in assessing Pyongyang\\'s capabilities. And it is not the first time the Pentagon\\'s intelligence arm, the Defense Intelligence Agency (DIA) has been out front in reaching the most alarmist conclusions about North Korea -- one with which other U.S. agencies have disagreed. The DIA assessment, disclosed by a Congressman at a hearing on April 11, was that the DIA has \"moderate confidence\" North Korea has developed a nuclear warhead that can be delivered by a ballistic missile. Within hours, however, James Clapper, Director of National Intelligence, released a statement saying the DIA report did not represent the consensus of the intelligence community, and that \"North Korea has not yet demonstrated the full range of capabilities necessary for a nuclear armed missile,\" -- a view echoed by a Pentagon spokesman and the South Korean Defense Ministry. Secretary of State John Kerry also noted that \"it is inaccurate to suggest that the DPRK has fully tested, developed or demonstrated capabilities that are articulated in that report\". READ MORE: Kerry visits South Korea amid North Korea\\'s nuclear threats  The sharply different judgments about Pyongyang\\'s capabilities recall a similar episode in 1998, when a fierce debate erupted within the American intelligence community after U. S. spy satellites discovered an underground complex at Kumchangri, not far from North Korea\\'s main nuclear facility at Yongbyon. The DIA insisted that Kumchangri was a construction site for a secret, underground nuclear weapons facility and that its existence proved Pyongyang was cheating on the Agreed Framework, the Clinton administration\\'s 1994 deal under which the North froze operations at Yongbyon in return for economic and diplomatic concessions from Washington. \"The DIA was adamant,\" then-National Security Adviser Sandy Berger recalled in a 2007 interview for my book, \"Meltdown: The Inside Story of the North Korean Nuclear Crisis\". \"They said they could see the roads that were characteristic of this kind of facility, they could actually see that this hole was perfectly suited for a nuclear reactor,\" he said. Other intelligence agencies at the time, including the CIA, were more skeptical. \"I looked at the evidence,\" one senior Clinton administration official told me during research for my book, \"and I could easily see innocent explanations for virtually everything they pointed to. And others in the intel community looked at exactly the same stuff and heard the DIA\\'s arguments about it, and said essentially, this is really flimsy stuff\". On August 17, 1998, the New York Times published a story that revealed the intelligence findings, turning what had been an internal intelligence debate into a public firestorm of controversy -- just as the congressman\\'s revelations did on Thursday. The Times report, with headline \"North Korea Site An A-Bomb Plant, US Agencies Say\" created major problems. In Washington, the Clinton administration came under attack for Pyongyang\\'s alleged violations of the Agreed Framework. And, unless the issue was handled with great skill, the tenuous link between the U.S. and North Korea that has existed since the 1994 deal would collapse. In the spring of 1999, Chuck Kartman, Washington\\'s Special Envoy for Peace Talks with North Korea -- nicknamed \"Iron Butt\" for his ability to sit patiently and listen to North Korean envoys spew out venom, bombast and threats across the negotiating table -- engaged in protracted talks with his North Korean counterparts. In May, Kartman convinced the North to agree to permit U.S. inspectors to visit Kumchangri. In addition, after initially demanding a payment of $300 million dollars for a one-time visit, North Korea eventually accepted a shipment of 100,000 tons of potatoes as the \"price\" of permitting the inspection. Accompanied by a team of experts, Kartman flew to Pyongyang and the North Koreans took them to Kumchangri. To the Americans\\' surprise and embarrassment, they found a large, empty underground cave. There was no evidence of a secret nuclear site. The crisis passed. According to Gary Samore, then the National Security Council\\'s Senior Director for Non-Proliferation and subsequently President Obama\\'s Coordinator for Weapons of Mass Destruction, Counter-Terrorism and Arms Control: \"The conclusion was that Kumchangri was not configured in a way that could be used either for plutonium or for enrichment. So, whatever we thought Kunchangri was, it wasn\\'t. It was not nuclear-related\". Nearly two decades later, the purpose of the construction site at Kumchangri remains unknown. But the episode underscores the complexities of assessing intelligence on North Korea.',\n",
       " ' \"DIA hyped their findings unbelievably,\" one former senior Clinton administration official said to me. \"They mis-stated their level of certainty, and the further up the food chain they went, the more they dropped the caveats, and ended up putting us in a terrible position\". Gary Samore had accepted the DIA\\'s analysis, and lobbied strongly for the Clinton administration to make Kumchangri a major issue. \"Sandy Berger [President Clinton\\'s National Security Adviser] depended pretty heavily on my judgment,\" he told me, \"and I feel that my recommendation to him that it was a serious issue led the administration to deal with it more seriously than it ever turns out is justified. I would say that was the biggest mistake I made in my career as a civil servant\". The Kumchangri episode does not mean the DIA is necessarily wrong in its current assessment of North Korean nuclear capabilities. But the skepticism expressed by other agencies after Thursday\\'s revelation carries a lesson. In a country which the former deputy head of the CIA, John McLaughlin, once described to me as an \"intelligence black hole,\" serious analysts can reach sharply differing conclusions about the same evidence, and the public should be careful in taking every alarmist headline about North Korea at face value.',\n",
       " 'North Korea has unleashed a torrent of dramatic threats against the U.S. and South Korea <SPPPPLIIIT> The U.S. calculates that a test launch of mobile ballistic missiles could come at any time <SPPPPLIIIT> Mike Chinoy says it\\'s not the first time such an \"alarmist\" conclusion has been reached <SPPPPLIIIT> He suggests other U.S. agencies have disagreed']"
      ]
     },
     "execution_count": 29,
     "metadata": {},
     "output_type": "execute_result"
    }
   ],
   "source": [
    "split(story, highlights)"
   ]
  },
  {
   "cell_type": "code",
   "execution_count": 30,
   "metadata": {},
   "outputs": [
    {
     "name": "stderr",
     "output_type": "stream",
     "text": [
      "100%|██████████| 92579/92579 [01:06<00:00, 1386.13it/s]\n"
     ]
    }
   ],
   "source": [
    "from tqdm import tqdm\n",
    "\n",
    "a = []\n",
    "for i in tqdm(range(len(stories))):\n",
    "    with open(stories[i]) as fopen:\n",
    "        story = fopen.read()\n",
    "    story, highlights = split_story(story)\n",
    "    a.append(split(story, highlights))"
   ]
  },
  {
   "cell_type": "code",
   "execution_count": 31,
   "metadata": {},
   "outputs": [],
   "source": [
    "import pickle\n",
    "\n",
    "with open('split.pkl', 'wb') as fopen:\n",
    "    pickle.dump(a, fopen)"
   ]
  },
  {
   "cell_type": "code",
   "execution_count": 33,
   "metadata": {},
   "outputs": [
    {
     "data": {
      "text/plain": [
       "[' WASHINGTON (CNN) -- The Pentagon is portraying India as a major customer for U.S. military equipment, worth an estimated $6 billion in the past decade, even as U.S. companies are shut out of a multibillion dollar bid for fighter jets that India is starting this week. In the newest edition of a congressionally mandated report, the Defense Department signaled that it was hoping to interest India in its top-of-the-line and most expensive weapon, the F-35 Joint Strike Fighter, still being tested. Arms sales, as well as more frequent military exercises and exchanges, are seen as an important ways to cement ties between the two countries. But India doesn\\'t always buy American. Recently, India considered and then rejected a major purchase of U.S. F-16 and F-18 fighters, a expensive setback for U.S. arms sales and the U.S. aviation industry. That deal -- now between the Dassault Rafale and Eurofighter Typhoon -- is a reminder of the vast sums in play. \"With a potential contract price of US$9 billion to US$14 billion, this is the single biggest competition in the global defence aviation industry at the moment and offers both bidders a much-needed opportunity in a major market,\" said James Hardy, Asia Pacific Editor at IHS Jane\\'s Defence Weekly said in a statement. Arms sales, as well as more frequent military exercises and exchanges, are seen as an important ways to cement ties between the two countries. The Defense Department downplayed any suggestion that arms sales and other contacts could backfire and that next-door Pakistan may feel new pressure both in its already-strained relationship with Washington and with its historical enemy, India. \"It\\'s important that none of us think about relationships in this region as a zero-sum game,\" said Deputy Assistant Secretary of Defense Robert Scher at the Pentagon. \"We have valuable relationships with Pakistan and valuable relationships with India and these things can co-exist\". Scher signaled that he hoped the relationship, and the arms sales would continue to grow. \"I think there is a great potential to do much more,\" Scher said in a briefing at the Pentagon. \"India sees the U.S. as a reliable defense supplier and we have been able to provide some top-of-the-line equipment. Is there some potential for more? Certainly there is. That is for the government of India to decide\"  Lisa Curtis of the Heritage Foundation, a long-time observer of U.S. and Indian affairs, said the report should be a catalyst to deepen defense ties and possibly lead to a loosening of present export and licensing controls. \"The Defense Department offer to provide India with information on the F-35 Joint Strike Fighter sends a clear signal that the U.S. considers India one of its most important future defense partners and is willing to consider co-production of some of its most sophisticated defense technology,\" Curtis told CNN. The Pentagon\\'s government-to-government program of foreign military sales to India have included C-17 and C-130 aircraft, radar systems, Harpoon weapons and specialized tactical equipment. Any consideration of India\\'s role in the region must include China and U.S. concerns about the Chinese modernization of its armed services especially its navy. \"The attention given to maritime security cooperation in the report should be seen in light of a series of maritime incidents in which Chinese naval vessels have challenged other countries\\' naval vessels in the South China Sea,\" Curtis said. \"It is clear that the U.S. views India as a leader in helping to maintain freedom of navigation in the Indian Ocean region and will likely look for ways to enhance India\\'s involvement in maritime security endeavors throughout the Indo-Pacific in the future\".',\n",
       " 'The Pentagon tells Congress it hopes to interst India in its most expensive weapon <SPPPPLIIIT> The top-of-the-line F-35 Joint Strike Fighter is still being tested <SPPPPLIIIT> But India recently rejected purchase of other U.S.-built fightrers <SPPPPLIIIT> Arms sales are seen as a way to cement relations between the U.S. and India']"
      ]
     },
     "execution_count": 33,
     "metadata": {},
     "output_type": "execute_result"
    }
   ],
   "source": [
    "a[-1]"
   ]
  },
  {
   "cell_type": "code",
   "execution_count": null,
   "metadata": {},
   "outputs": [],
   "source": []
  }
 ],
 "metadata": {
  "kernelspec": {
   "display_name": "Python 3",
   "language": "python",
   "name": "python3"
  },
  "language_info": {
   "codemirror_mode": {
    "name": "ipython",
    "version": 3
   },
   "file_extension": ".py",
   "mimetype": "text/x-python",
   "name": "python",
   "nbconvert_exporter": "python",
   "pygments_lexer": "ipython3",
   "version": "3.6.8"
  }
 },
 "nbformat": 4,
 "nbformat_minor": 2
}
