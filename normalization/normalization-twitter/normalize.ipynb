{
 "cells": [
  {
   "cell_type": "code",
   "execution_count": 1,
   "id": "e5cee4e4",
   "metadata": {},
   "outputs": [
    {
     "name": "stderr",
     "output_type": "stream",
     "text": [
      "/home/ubuntu/.local/lib/python3.7/site-packages/malaya_boilerplate/frozen_graph.py:25: UserWarning: Cannot import beam_search_ops from Tensorflow Addons, `deep_model` for stemmer will not available to use, make sure Tensorflow Addons version >= 0.12.0\n",
      "  'Cannot import beam_search_ops from Tensorflow Addons, `deep_model` for stemmer will not available to use, make sure Tensorflow Addons version >= 0.12.0'\n"
     ]
    }
   ],
   "source": [
    "import malaya\n",
    "import json\n",
    "from tqdm import tqdm"
   ]
  },
  {
   "cell_type": "code",
   "execution_count": 2,
   "id": "133d63d8",
   "metadata": {},
   "outputs": [
    {
     "data": {
      "text/plain": [
       "11"
      ]
     },
     "execution_count": 2,
     "metadata": {},
     "output_type": "execute_result"
    }
   ],
   "source": [
    "with open('twitter.json') as fopen:\n",
    "    data = json.load(fopen)\n",
    "    \n",
    "len(data)"
   ]
  },
  {
   "cell_type": "code",
   "execution_count": 3,
   "id": "54c37c1b",
   "metadata": {},
   "outputs": [
    {
     "data": {
      "text/plain": [
       "12"
      ]
     },
     "execution_count": 3,
     "metadata": {},
     "output_type": "execute_result"
    }
   ],
   "source": [
    "with open('twitter-negeri.json') as fopen:\n",
    "    data_negeri = json.load(fopen)\n",
    "    \n",
    "len(data_negeri)"
   ]
  },
  {
   "cell_type": "code",
   "execution_count": 4,
   "id": "0c0e5c06",
   "metadata": {},
   "outputs": [
    {
     "data": {
      "text/plain": [
       "1864533"
      ]
     },
     "execution_count": 4,
     "metadata": {},
     "output_type": "execute_result"
    }
   ],
   "source": [
    "strings = []\n",
    "for d in data:\n",
    "    strings.extend(list(d.keys()))\n",
    "    \n",
    "for d in data_negeri:\n",
    "    strings.extend([i['retweet_text_full'] for i in data_negeri[d]])\n",
    "len(strings)"
   ]
  },
  {
   "cell_type": "code",
   "execution_count": 5,
   "id": "c9190894",
   "metadata": {},
   "outputs": [],
   "source": [
    "normalizer = malaya.normalize.normalizer()"
   ]
  },
  {
   "cell_type": "code",
   "execution_count": 6,
   "id": "4fde83b1",
   "metadata": {
    "scrolled": true
   },
   "outputs": [
    {
     "data": {
      "text/plain": [
       "{'normalize': 'Yaysan Islam pon buat kerja balak juga ke ? Memang dah tiada hasil lain dah ke ? ? ? Punggung betui lah',\n",
       " 'date': {},\n",
       " 'money': {}}"
      ]
     },
     "execution_count": 6,
     "metadata": {},
     "output_type": "execute_result"
    }
   ],
   "source": [
    "normalizer.normalize(strings[0],\n",
    "                    normalize_entity = False,\n",
    "                    normalize_year = False,\n",
    "                    normalize_telephone = False)"
   ]
  },
  {
   "cell_type": "code",
   "execution_count": 7,
   "id": "6c1c63bb",
   "metadata": {},
   "outputs": [
    {
     "name": "stderr",
     "output_type": "stream",
     "text": [
      "Warning : `load_model` does not return WordVectorModel or SupervisedModel any more, but a `FastText` object which is very similar.\n"
     ]
    }
   ],
   "source": [
    "fast_text = malaya.language_detection.fasttext()"
   ]
  },
  {
   "cell_type": "code",
   "execution_count": 8,
   "id": "6a309082",
   "metadata": {},
   "outputs": [
    {
     "data": {
      "text/plain": [
       "['Yaysan Islam pon buat kerja balak gak ke? Memang dah takde hasil lain dah ke ??? Pungkoq betui lah',\n",
       " 'Geleng kepala aku tengok poster matchday Sri Pahang ni. Sangat memalukan untuk pasukan yg main di Liga Super Malaysia dgn bajet puluh juta.\\n\\nAku sertakan sekali 3 contoh poster matchday dari pasukan amatur yg takde bajet langsung untuk team media, tapi ada jiwa bila buat kerja. https://t.co/zIVL7DZrLT',\n",
       " 'Aku syak pengadil ni dulu bekas player bola. Dia main striker dulu cita2 nak main Liga Perdana tapi takde rezeki. Tu yang dia geram masuk kotak penalti nak join Kelantan attack cari gol',\n",
       " 'Kolumpo mana aje lah best dok subang takde apa lak. Aduh',\n",
       " 'Takde ke pompuan twit \"gais ada laki gaduh gais\"',\n",
       " 'Takde aktiviti lain ke siak musim hujan ceni pergi ride kakakaka.',\n",
       " 'Mungkin semua fikir Covid dah takdee ',\n",
       " 'Suriahijabs ada banyak lagi jenis inner tudung tau. Get yours here:\\n https://t.co/wSXxSXVBrO\\n\\nTakde Shopee? Whatsapp je\\n https://t.co/E4uWDIE2ZD\\n(COD Subang Jaya) https://t.co/8mejGRAIHr',\n",
       " '@azharkipip Diorang dah takde semangat zhar',\n",
       " '@faliqfahmie Semalam Aeon Shah Alam macam ni https://t.co/LY9BOL74FQ parking dua kali pusing takde kosong,parking b https://t.co/WgVzFzrrE9',\n",
       " 'Mmg kena dgr 2 belah pihak. Hafiz ckp mcm tu, Rahimie ckp mcm tu. Rahimie ada bukti, Hafiz takde bukti. Sekarang ni https://t.co/ah2ZB9EFt2',\n",
       " 'Hiii happy birthday \\n\\nCeh takdelah, hai korang  I ada jual produk Temyracle and Alluskin ni. COD available untuk kawasan Hulu Selangor and Setapak. RT untuk rezeki saya ya  Ni link igshop saya https://t.co/8IEmV7Vt8z https://t.co/E8Pde6qVOD']"
      ]
     },
     "execution_count": 8,
     "metadata": {},
     "output_type": "execute_result"
    }
   ],
   "source": [
    "strings[:12]"
   ]
  },
  {
   "cell_type": "code",
   "execution_count": 9,
   "id": "df9131f8",
   "metadata": {},
   "outputs": [
    {
     "name": "stdout",
     "output_type": "stream",
     "text": [
      "CPU times: user 685 µs, sys: 0 ns, total: 685 µs\n",
      "Wall time: 662 µs\n"
     ]
    },
    {
     "data": {
      "text/plain": [
       "'malay'"
      ]
     },
     "execution_count": 9,
     "metadata": {},
     "output_type": "execute_result"
    }
   ],
   "source": [
    "%%time\n",
    "fast_text.predict(strings[:1])[0]"
   ]
  },
  {
   "cell_type": "code",
   "execution_count": 10,
   "id": "8afb628c",
   "metadata": {},
   "outputs": [],
   "source": [
    "def loop(texts):\n",
    "    texts = texts[0]\n",
    "    results = []\n",
    "    for i in tqdm(range(len(texts))):\n",
    "        if fast_text.predict([texts[i]])[0] not in ['malay', 'rojak']:\n",
    "            continue\n",
    "        try:\n",
    "            r = normalizer.normalize(texts[i],\n",
    "                    normalize_entity = False,\n",
    "                    normalize_year = False,\n",
    "                    normalize_telephone = False)\n",
    "            results.append((texts[i], r['normalize']))\n",
    "        except:\n",
    "            pass\n",
    "    return results"
   ]
  },
  {
   "cell_type": "code",
   "execution_count": 11,
   "id": "0a57c30f",
   "metadata": {},
   "outputs": [
    {
     "name": "stderr",
     "output_type": "stream",
     "text": [
      " 38%|███▊      | 117413/310755 [05:00<07:09, 449.90it/s]]\n",
      " 39%|███▉      | 122205/310755 [05:00<14:45, 212.92it/s]]\n",
      "100%|██████████| 310755/310755 [05:16<00:00, 981.88it/s] \n",
      "100%|██████████| 310755/310755 [06:08<00:00, 843.28it/s] \n",
      "100%|██████████| 310755/310755 [06:24<00:00, 808.63it/s] \n",
      "100%|██████████| 310755/310755 [08:26<00:00, 614.10it/s] \n",
      "100%|██████████| 310755/310755 [08:39<00:00, 598.62it/s] \n"
     ]
    }
   ],
   "source": [
    "import mp\n",
    "processed = mp.multiprocessing(strings, loop)"
   ]
  },
  {
   "cell_type": "code",
   "execution_count": 13,
   "id": "7bf8fb2d",
   "metadata": {},
   "outputs": [
    {
     "data": {
      "text/plain": [
       "'Yaysan Islam pon buat kerja balak gak ke? Memang dah takde hasil lain dah ke ??? Pungkoq betui lah\\nYaysan Islam pon buat kerja balak juga ke ? Memang dah tiada hasil lain dah ke ? ? ? Punggung betui lah'"
      ]
     },
     "execution_count": 13,
     "metadata": {},
     "output_type": "execute_result"
    }
   ],
   "source": [
    "'\\n'.join(processed[0])"
   ]
  },
  {
   "cell_type": "code",
   "execution_count": 14,
   "id": "6b7a4bc2",
   "metadata": {},
   "outputs": [
    {
     "data": {
      "text/plain": [
       "('Geleng kepala aku tengok poster matchday Sri Pahang ni. Sangat memalukan untuk pasukan yg main di Liga Super Malaysia dgn bajet puluh juta.\\n\\nAku sertakan sekali 3 contoh poster matchday dari pasukan amatur yg takde bajet langsung untuk team media, tapi ada jiwa bila buat kerja. https://t.co/zIVL7DZrLT',\n",
       " 'Geleng kepala aku tengok poster matchday Sri Pahang ini . Sangat memalukan untuk pasukan yang main di Liga Super Malaysia dengan bajet puluh juta . Aku sertakan sekali tiga contoh poster matchday dari pasukan amatur yang tiada bajet langsung untuk team media , tapi ada jiwa bila buat kerja . https://t.co/zIVL7DZrLT')"
      ]
     },
     "execution_count": 14,
     "metadata": {},
     "output_type": "execute_result"
    }
   ],
   "source": [
    "processed[1]"
   ]
  },
  {
   "cell_type": "code",
   "execution_count": 15,
   "id": "5f970da8",
   "metadata": {
    "scrolled": true
   },
   "outputs": [
    {
     "data": {
      "text/plain": [
       "689290"
      ]
     },
     "execution_count": 15,
     "metadata": {},
     "output_type": "execute_result"
    }
   ],
   "source": [
    "len(processed)"
   ]
  },
  {
   "cell_type": "code",
   "execution_count": 16,
   "id": "e749d3e9",
   "metadata": {},
   "outputs": [],
   "source": [
    "with open('twitter-normalized.json', 'w') as fopen:\n",
    "    json.dump(processed, fopen)"
   ]
  },
  {
   "cell_type": "code",
   "execution_count": 11,
   "id": "77cc6602",
   "metadata": {},
   "outputs": [],
   "source": [
    "import re\n",
    "\n",
    "c = lambda x: re.sub(r'[ ]+', ' ', x.replace('\\n', ' ')).strip()"
   ]
  },
  {
   "cell_type": "code",
   "execution_count": 12,
   "id": "ab413706",
   "metadata": {
    "scrolled": false
   },
   "outputs": [
    {
     "name": "stdout",
     "output_type": "stream",
     "text": [
      "Yaysan Islam pon buat kerja balak gak ke? Memang dah takde hasil lain dah ke ??? Pungkoq betui lah\r\n",
      "Yaysan Islam pon buat kerja balak juga ke ? Memang dah tiada hasil lain dah ke ? ? ? Punggung betui lah\r\n",
      "\r\n",
      "Geleng kepala aku tengok poster matchday Sri Pahang ni. Sangat memalukan untuk pasukan yg main di Liga Super Malaysia dgn bajet puluh juta. Aku sertakan sekali 3 contoh poster matchday dari pasukan amatur yg takde bajet langsung untuk team media, tapi ada jiwa bila buat kerja. https://t.co/zIVL7DZrLT\r\n",
      "Geleng kepala aku tengok poster matchday Sri Pahang ini . Sangat memalukan untuk pasukan yang main di Liga Super Malaysia dengan bajet puluh juta . Aku sertakan sekali tiga contoh poster matchday dari pasukan amatur yang tiada bajet langsung untuk team media , tapi ada jiwa bila buat kerja . https://t.co/zIVL7DZrLT\r\n",
      "\r\n",
      "Aku syak pengadil ni dulu bekas player bola. Dia main striker dulu cita2 nak main Liga Perdana tapi takde rezeki. Tu yang dia geram masuk kotak penalti nak join Kelantan attack cari gol\r\n",
      "Aku syak pengadil ini dahulu bekas player bola . Dia main striker dahulu cita-cita nak main Liga Perdana tapi tiada rezeki . Itu yang dia geram masuk kotidak mengapanalti nak join Kelantan attack cari gol\r\n",
      "\r\n",
      "Kolumpo mana aje lah best dok subang takde apa lak. Aduh\r\n"
     ]
    }
   ],
   "source": [
    "!head -n 10 norm-0.txt"
   ]
  },
  {
   "cell_type": "code",
   "execution_count": 17,
   "id": "8c9b1821",
   "metadata": {},
   "outputs": [
    {
     "data": {
      "text/plain": [
       "53"
      ]
     },
     "execution_count": 17,
     "metadata": {},
     "output_type": "execute_result"
    }
   ],
   "source": [
    "from glob import glob\n",
    "\n",
    "norms = glob('norm-*.txt')\n",
    "len(norms)"
   ]
  },
  {
   "cell_type": "code",
   "execution_count": 32,
   "id": "2bdb1a8e",
   "metadata": {},
   "outputs": [
    {
     "data": {
      "text/plain": [
       "524344"
      ]
     },
     "execution_count": 32,
     "metadata": {},
     "output_type": "execute_result"
    }
   ],
   "source": [
    "all_data = []\n",
    "\n",
    "for n in norms:\n",
    "    with open(n) as fopen:\n",
    "        data = fopen.read().split('\\n')\n",
    "        data = [data[i: i + 2] for i in range(0, len(data), 3)]\n",
    "        data = [i for i in data if len(i) > 1]\n",
    "    all_data.extend(data)\n",
    "    \n",
    "len(all_data)"
   ]
  },
  {
   "cell_type": "code",
   "execution_count": 33,
   "id": "19e698d8",
   "metadata": {},
   "outputs": [
    {
     "data": {
      "text/plain": [
       "[['@izhvns Happy birthday Izhan! Semoga terus berjaya dalam kehidupan hang. btw bila nak masuk minang aku HAHAHAHAHHAHAHAH',\n",
       "  '@izhvns Gembira birthday Izhan ! Semoga terus berjaya dalam kehidupan hang . btw bila nak masuk minang aku HAHA'],\n",
       " ['KSP biadap! #berantasseparatisteroris #papuakujagadankubela #PapuaIndonesia https://t.co/bUFU1SDFEW',\n",
       "  'KSP biadap ! #berantasseparatisteroris #papuakujagadankubela #PapuaIndonesia https://t.co/bUFU1SDFEW'],\n",
       " ['sdgkn boss aku sendiri suruh aku masok siang jdi boleh balik siang lol',\n",
       "  'sedangkan boss aku sendiri suruh aku masok siang jadi boleh balik siang haha'],\n",
       " ['Ketum PB PGRI #berantasseparatisteroris #PapuaIndonesia #papuakujagadankubela https://t.co/V5LFbTZNGf',\n",
       "  'Ketum PB PGRI #berantasseparatisteroris #PapuaIndonesia #papuakujagadankubela https://t.co/V5LFbTZNGf'],\n",
       " ['My teacher once cursed at someone with aku doakan nanti kalau dah beranak, anak tu merangkak masuk balik Now I https://t.co/eGkHRUz9FX',\n",
       "  'My teacher once cursed at someone with aku doakan nanti kalau dah beranak , anak itu merangkak masuk balik Now SAYA https://t.co/eGkHRUz9FX'],\n",
       " ['aku...ada ex melayu...tapi tu kisah silam skrg i hate men that are not kim sunwoo',\n",
       "  'aku . . . ada ex melayu . . . tapi itu kisah silam sekarang saya hate men that are not kim sunwoo'],\n",
       " ['@zt000tz Benda2 gini laju la aku. Cuba ko suruh benda lain, aku tgguh.',\n",
       "  '@zt00tz Benda2 begini laju la aku . Cuba kamu suruh benda lain , aku tgguh .'],\n",
       " ['@JiejiePojie Yg aku kenal ni mmg dezup bawak... dr melaka ulang alik kl.. gila tk gila... dzeup pun iyaa',\n",
       "  '@JiejiePojie Yang aku kenal ini memang dezup bawak . . . dr melaka ulang alik kuala lumpur . . gila tak gila . . . dzeup pun iyaa'],\n",
       " ['2340. Ko jgn smpi adik aku dkt U, matrix dgn sekolah asrama xleh blk raya ye. Kesian org yg xjmpe Mak ayah bertahun, berbulan weh....',\n",
       "  'dua ribu tiga ratus empat puluh . Kamu jangan smpi adik aku dekat U , matrix dengan sekolah asrama tak boleh blk raya ye . Kesian orang yang tak jmpa Mak ayah bertahun , berbulan weh . . . .'],\n",
       " ['Letak sini lah takut lupa https://t.co/oTpM3q0APD',\n",
       "  'Letak sini lah takut lupa https://t.co/oTpM3q0APD'],\n",
       " ['Kawan aku kena saman sbb sop mengarut dan campur aduk sampai tktau mana yang kena ikut. @KhanHafizh #KerajaanGagal https://t.co/y7Yij7dEsL',\n",
       "  'Kawan aku kena saman sebab sop mengarut dan campur aduk sampai tktau mana yang kena ikut . @KhanHafizh #KerajaanGagal https://t.co/y7Yij7dEsL'],\n",
       " ['Masih lagi belum ada KFC? Aku nak riot! https://t.co/sNcGBPjsRd',\n",
       "  'Masih lagi belum ada KFC ? Aku nak riot ! https://t.co/sNcGBPjsRd'],\n",
       " ['@nrkhdijhnjwa_ Ni dekat kulai je ni. Cuma memalukan aaa kalau aku, amik gambar dorang and then dtg kat dorang mamp https://t.co/kvtcn40uZB',\n",
       "  '@nrkhdijhnjwa_ Ini dekat kulai sahaja ini . Cuma memalukan aa kalau aku , ambil gambar dorang and then datang kat dorang mamp https://t.co/kvtcn40uZB'],\n",
       " ['@izzah1109 @ridzwan909 okay la izzah..aku decide dah nak balik minggubni buat lps kempunan..',\n",
       "  '@izzah1109 @ridzwan909 okay la izzah . . aku decide dah nak balik minggubni buat lepas kempunan . .'],\n",
       " ['kan best padang, green lawa lepastu haishh hari hari aku jatuh cinta bila turun padang',\n",
       "  'kan best padang , green lawa lepas itu aduh hari hari aku jatuh cinta bila turun padang'],\n",
       " ['Aku ingat dia mesej nak suh anta patient positif lagi. Bagi sis rehat please malam ni.',\n",
       "  'Aku ingat dia mesej nak suh anta patient positif lagi . Bagi sis rehat please malam ini .'],\n",
       " ['Aku jenis takde cash so tak sampai hati pulak tinggal camtu je sbb tengok anak dia 5 tahun. Last sekali beli je apa https://t.co/zWpkYY66wj',\n",
       "  'Aku jenis tiada cash so tidak sampai hati pula tinggal macam itu sahaja sebab tengok anak dia lima tahun . Akhir sekali beli sahaja apa https://t.co/zWpkYY66wj'],\n",
       " ['@Faezlicious Seriouslah? Aku kt penang dah ni. Kalau seller dari kl pun boleh ke',\n",
       "  '@Faezlicious Seriouslah ? Aku kat penang dah ini . Kalau seller dari kuala lumpur pun boleh ke'],\n",
       " ['Aku rasa aku migrain kot dari pagi sakit kepala ni',\n",
       "  'Aku rasa aku migrain kot dari pagi sakit kepala ini'],\n",
       " ['Dan aku place order untuk kali ke 4 siang tadi',\n",
       "  'Dan aku place order untuk kali ke empat siang tadi'],\n",
       " ['@nuryanieariffin Aku tgk dia makin pandai berlakon. Masa dia berlakon dgn CikB tu dia masih warm-up lg hahah',\n",
       "  '@nuryanieariffin Aku tengok dia makin pandai berlakon . Masa dia berlakon dengan CikB itu dia masih warm-up lagi haha'],\n",
       " ['@jajanbhlabels SINI PC RANDOM CLUE AKU TAKE',\n",
       "  '@jajanbhlabels SINI PC RANDOM CLUE AKU TAKE'],\n",
       " ['Apparently not straight up pon But I just fedup when they keep cakap \"Dah 27 ni cepat kahwin\" \"Aku time umo koran https://t.co/Ze0f3TTto4',\n",
       "  'Apparently not straight up pon Tetapi SAYA just fedup when they keep cakap \" Dah dua puluh tujuh ini cepat kahwin \" \" Aku time umo koran https://t.co/Ze0f3TTto4'],\n",
       " ['Ya Allah aku mohon korang ni makan lah kismis sikit bagi berkembang sel2 otak lepas tu selawat lebih sikit kasi tiu https://t.co/B3y1ttq13w',\n",
       "  'Ya Allah aku mohon kamu semua ini makan lah kismis sikit bagi berkembang sel-sel otak lepas itu selawat lebih sikit kasi tiu https://t.co/B3y1ttq13w'],\n",
       " ['busu paling takut ye kalo aku dgn abg bincang. takut gaduh banyak kali dia repeat jangan gaduh gaduh',\n",
       "  'busu paling takut ye kalo aku dengan abang bincang . takut aduh banyak kali dia repeat jangan aduh aduh'],\n",
       " ['kalau aku nombor pelik pelik dan tidak di kenali. memang tidak ada masa mau jawab.',\n",
       "  'kalau aku nombor pelik pelik dan tidak di kenali . memang tidak ada masa mau jawab .'],\n",
       " ['Weh function ke main bigo ni, sebabkan I ni suka bebel kat live ada ke patut dorang suruh aku main bigo',\n",
       "  'Weh function ke main bigo ini , sebabkan SAYA ini suka bebel kat live ada ke patut dorang suruh aku main bigo'],\n",
       " ['Jiran aku ni dua hari lepas bagi kuih seri muka, harini bagi pasta pulak. Aku kena fikir dua menu dah ni untuk pulang balik bekas dia.',\n",
       "  'Jiran aku ini dua hari lepas bagi kuih seri muka , hari ini bagi pasta pula . Aku kena fikir dua menu dah ini untuk pulang balik bekas dia .'],\n",
       " ['Nak buat PKP bagi tahu awal2. Jangan sampai aku dah beli barang2 semua bagai, kau ckp PKP balik! Kesian yang meniaga pun!',\n",
       "  'Nak buat PKP bagi tahu awal-awal . Jangan sampai aku dah beli barang-barang semua bagai , kamu cukup PKP balik ! Kesian yang meniaga pun !'],\n",
       " ['@kalauakukaya99 kelantan lagi la...tggal 1 je zon kuning lain semua zon merah kes naik mendadak..xde harapan raya kt kelantan thn ni sape ank kelantan...',\n",
       "  '@kalauakukaya99 kelantan lagi la . . . tggal satu sahaja zon kuning lain semua zon merah kes naik mendadak . . tak dah harapan raya kat kelantan tahun ini siapa anak kelantan . . .'],\n",
       " ['@skingoldenhour @flurbnb Bismillah di check outin Btw aku asal kampar https://t.co/VrZUeqXyeQ',\n",
       "  '@skingoldenhour @flurbnb Bismillah di check outin Btw aku asal kampar https://t.co/VrZUeqXyeQ'],\n",
       " ['Tengah lepak port budak grab sri gombak sebelum berbuka sekali ada akak ni bagi murtabak kat aku dan orang sekitar..insyaAllah akak dan suami murah rezeki dan diberikan zuriat secepatnya https://t.co/IewOHNbjr1',\n",
       "  'Tengah lepak port budak grab sri gombak sebelum berbuka sekali ada akak ini bagi murtabak kat aku dan orang sekitar . . insyaAl lah akak dan suami murah rezeki dan diberikan zuriat secepatnya https://t.co/IewOHNbjr1'],\n",
       " ['Dahhh ahh gatauu lagii intinyaaa aku tuu hebattt',\n",
       "  'Dah ah gatauu lagii intinyaa aku itu hebatt'],\n",
       " ['Paling takut lalu sini lagi2 malam. Lagi satu... tolong la lori2 pasir lalu tmpt yg luas nk ke teratai atas ni. Bod https://t.co/IqyWb4vjoG',\n",
       "  'Paling takut lalu sini lagi-lagi malam . Lagi satu . . . tolong la lori-lori pasir lalu tempat yang luas nak ke teratai atas ini . Bod https://t.co/IqyWb4vjoG'],\n",
       " ['Aku pun faham kelantan tengah pkp. Tapi takkan takde budi bicara, ada sebab dia niaga sampai pukul 11. Mungkin memang betul takde duit, bagi amaran and cakap elok supaya tak buat lagi kan okay. Ni kompaun 50k tu kau rasa boleh membantu dia ke?',\n",
       "  'Aku pun faham kelantan tengah pkp . Tetapi tak akan tiada budi bicara , ada sebab dia niaga sampai pukul sebelas . Mungkin memang betul tiada duit , bagi amaran and cakap elok supaya tidak buat lagi kan okay . Ini kompaun lima kosong ok itu kamu rasa boleh membantu dia ke ?'],\n",
       " ['Aku dah stress la nak fikir pasal apa yang jadi dekat Malaysia ni, but aku tak boleh stop nak retweet semua yang berkaitan',\n",
       "  'Aku dah stress la nak fikir pasal apa yang jadi dekat Malaysia ini , but aku tidak boleh stop nak retweet semua yang berkaitan'],\n",
       " ['Sekarang ni i fikir nak balik melaka je sebab i nak pergi klinik dengan mak abah. I takut kalau ada apa apa i kena dengar sendiri :(',\n",
       "  'Sekarang ini saya fikir nak balik melaka sahaja sebab saya nak pergi klinik dengan mak abah . SAYA takut kalau ada apa apa saya kena dengar sendiri <sad>'],\n",
       " ['Aku lagi puas hati kalau dapat baling cone tu kat muka orang2 atas dia &amp; lofa. Geram aku nate2 tu',\n",
       "  'Aku lagi puas hati kalau dapat baling cone itu kat muka orang-orang atas dia & lofa . Geram aku nate-nate itu'],\n",
       " ['KASI BALIK YE MAK MENTUA AKU DAH STRESSS DAH TAK JUMPA ANAK DIA LAMA SAMPAI NAK JUMPA DEKAT SEMPADAN JOHOR-PAHANG E https://t.co/qx4Hr78qsy',\n",
       "  'KASIH BALIK YA MAK MENTUA AKU DAH STRES DAH TIDAK JUMPA ANAK DIA LAMA SAMPAI NAK JUMPA DEKAT SEMPADAN JOHOR-PAHANG E https://t.co/qx4Hr78qsy'],\n",
       " ['@paaiizz Kauu babihh hahaha.. Itu last option sis. Kalau helokk xyah ckp byk aku ngap je tibehh',\n",
       "  '@paaiizz Kauu babihh haha . . Itu last option sis . Kalau helokk tak ya cukup banyak aku ngap sahaja tibehh'],\n",
       " ['YaAllah betul ke apa yang aku buat ni',\n",
       "  'YaAllah betul ke apa yang aku buat ini'],\n",
       " ['Tekaan aku pengumuman petang ini ttg Aidilfitri adalah semua boleh rentas negeri dan balik beraya.Tetapi hanya bole https://t.co/Il9zgouiGV',\n",
       "  'Tekaan aku pengumuman petang ini tentang Aidilfitri adalah semua boleh rentas negeri dan balik beraya . Tetapi hanya bole https://t.co/Il9zgouiGV'],\n",
       " ['@adibkhld Legit sebab aku kerja ulang alik Selangor - N9 pakai surat kerja je. Standby SSM sekali as supporting evi https://t.co/se8B3RTgcQ',\n",
       "  '@adibkhld Legit sebab aku kerja ulang alik Selangor - N9 pakai surat kerja sahaja . Standby SSM sekali as supporting evi https://t.co/se8B3RTgcQ'],\n",
       " ['aku belikan buat kamu. Kamu bilang kamu suka warna perak.\" Tangannya meraih kedalam kantong celana dan mengeluarkan https://t.co/UK9gw5Zttb',\n",
       "  'aku belikan buat kamu . Kamu bilang kamu suka warna perak . \" Tangannya meraih kedalam kantong celana dan mengeluarkan https://t.co/UK9gw5Zttb'],\n",
       " ['@khanzaim Amin jgn lupa #OneStepCloser jemput tau aku Alhamdulillah dalam perut wife aku ada titik dah',\n",
       "  '@khanzaim Amin jangan lupa #OneStepCloser jemput tahu aku Alhamdulillah dalam perut wife aku ada titik dah'],\n",
       " ['Aku yang meniaga dekat dalam ni pun dah pening kepala apatah lagi pembeli nak beratur.',\n",
       "  'Aku yang meniaga dekat dalam ini pun dah pening kepala apatah lagi pembeli nak beratur .'],\n",
       " ['RINDU GILA MASA SEMUA COUSIN2 AKU KECIK2, BOLEH TIDUR SEBELAH2, KACAU ORANG TIDUR, BORAK2 SAMPAI NAK TERKENCING https://t.co/99mAyB5r3b',\n",
       "  'RINDU GILA MASA SEMUA COUSIN2 AKU KECIK2 , BOLEH TIDUR SEBELAH2 , KACAU ORANG TIDUR , BORAK2 SAMPAI NAK TERKENCING https://t.co/99mAyB5r3b'],\n",
       " ['@jveliaa Layan! wei sakit otak doe cite tu. Atas 10 baru best kaw kaw pastu aku hampir psiko skli',\n",
       "  '@jveliaa Layan ! wei sakit otak doe cite itu . Atas sepuluh baru best kaw kaw lepas itu aku hampir psiko sekali'],\n",
       " ['@AyuNurhaniAzman @AbangRifaie Aku selangor tak cuti, banyak swasta tak amik nuzul quran, hmm untunglaa kerajaan',\n",
       "  '@AyuNurhaniAzman @AbangRifaie Aku selangor tidak cuti , banyak swasta tidak ambil nuzul quran , hmm untunglaa kerajaan'],\n",
       " ['yeay... dah penuh dah almari dgn baju2 yang aku boleh pakai. x de la repeat baju sama je',\n",
       "  'yeay . . . dah penuh dah almari dengan baju-baju yang aku boleh pakai . tidak de la repeat baju sama sahaja'],\n",
       " ['Upaya pembersihan ceceran minyak di Karawang dilakukan melalui kolaborasi @pertamina dengan masyarakat. #EnergyToday #EnergiTodayID https://t.co/V69IfcOQN8',\n",
       "  'Upaya pembersihan ceceran minyak di Karawang dilakukan melalui kolaborasi @pertamina dengan masyarakat . #EnergyToday #EnergiTodayID https://t.co/V69IfcOQN8'],\n",
       " ['sebab tu aku tak bodoh', 'sebab itu aku tidak bodoh'],\n",
       " ['gila ah negara apa aku duduk ni', 'gila ah negara apa aku duduk ini'],\n",
       " ['@megatfariso Ui. Takutnya kalau dapat review macam ni dari food reviewer.',\n",
       "  '@megatfariso Ui . Takutnya kalau dapat review macam ini dari food reviewer .'],\n",
       " ['Kalau korang ternampak tweet ni. Jemput ah tgk reel aku ni https://t.co/Z4ZXOqYPeK',\n",
       "  'Kalau kamu semua ternampak tweet ini . Jemput ah tengok reel aku ini https://t.co/Z4ZXOqYPeK'],\n",
       " ['Sebelum notification aku kena serang baik tidur',\n",
       "  'Sebelum notification aku kena serang baik tidur'],\n",
       " ['@akucardoo Oh jadi dulu gampang', '@akucardoo Oh jadi dahulu gampang'],\n",
       " ['@muhdazfr Tulah pasal. Aku prefer dia direhatkan sementara je bukan leaving terus. Lagi pon, running man sekarang m https://t.co/853v3wOQWZ',\n",
       "  '@muhdazfr Tulah pasal . Aku prefer dia direhatkan sementara sahaja bukan leaving terus . Lagi pon , running man sekarang m https://t.co/853v3wOQWZ'],\n",
       " ['Makin tua ni aku makin meluat bila dengar orang sebut gosok sikit bila ada any problem dengan client especially b https://t.co/Bw3brC9PVh',\n",
       "  'Makin tua ini aku makin meluat bila dengar orang sebut gosok sikit bila ada any problem dengan client especially b https://t.co/Bw3brC9PVh'],\n",
       " ['Adik aku ni 2k mcm air je dia nk pnjm dgn kakak dia yg mcm kaya sgt ni. https://t.co/dAHBdzKTll',\n",
       "  'Adik aku ini dua ok macam air sahaja dia nak pnjm dengan kakak dia yang macam kaya sangat ini . https://t.co/dAHBdzKTll'],\n",
       " ['@akenggg_ Hahaahah aah best pada aku best la lain dari yg lain, haha Betul tu, ni pun aku tak sabar nak tnggu lagi https://t.co/asyI36G4KV',\n",
       "  '@akengg_ Haha aah best pada aku best la lain dari yang lain , haha Betul itu , ini pun aku tidak sabar nak tunggu lagi https://t.co/asyI36G4KV'],\n",
       " ['@jveliaa Hahaha aah aku pun syak dia jugak. Maybe kene tuko time baby. Yela dia hero pulak dlm cite tu! Hahaha! Aah moo chi tu dia laa',\n",
       "  '@jveliaa Haha aah aku pun syak dia juga . Maybe kena tuko time baby . Ya Lah dia hero pula dalam cite itu ! Haha ! Aah moo chi itu dia lah'],\n",
       " ['Sanitasi Awam Di S.K St. Stephen, Bau BAU: Pihak Bomba dan Penyelamat (BBP) Bau melakukan sanitasi awam di Sekolah Kebangsaan (SK) St. Stephen di sini pada Isnin. Berita Penuh di https://t.co/T4Ya1fqWp8 https://t.co/sBr7VgjloG',\n",
       "  'Sanitasi Awam Di S . OKAY St . Stephen , Bau BAU : Pihak Bomba dan Penyelamat ( BBP ) Bau melakukan sanitasi awam di Sekolah Kebangsaan ( SK ) St . Stephen di sini pada Isnin . Berita Penuh di https://t.co/T4Ya1fqWp8 https://t.co/sBr7VgjloG'],\n",
       " ['Ohhhh btw aku p Uptown Perda tadi sebab cari remote Astro, bukan cari baju raya. Boleh pulak mak aku suruh beli rem https://t.co/nZqrUG3weL',\n",
       "  'Oh btw aku pergi Uptown Perda tadi sebab cari remote Astro , bukan cari baju raya . Boleh pula mak aku suruh beli rem https://t.co/nZqrUG3weL'],\n",
       " ['Evanni kadhu kani SRH stands lo kotha SRH ammayni chubicharu kavya Maran kakunda Evaru ? https://t.co/TyxWLeC3QE',\n",
       "  'Evanni kadhu kani SRH stands lo kotha SRH ammayni chubicharu kavya Maran kakunda Evaru ? https://t.co/TyxWLeC3QE'],\n",
       " ['Aku pernah pergi sini, actually dia bukan gereja tapi rumah doa. Dalam tu ada bilik-bilik untuk berdoa tak kira aga https://t.co/7JeVA5zzFa',\n",
       "  'Aku pernah pergi sini , actually dia bukan gereja tapi rumah doa . Dalam itu ada bilik-bilik untuk berdoa tidak kira aga https://t.co/7JeVA5zzFa'],\n",
       " ['@FOOD_FESS IYAAA INI ENAAKKK tapi aku lebi suka thai tea apalagi ditambah es batu',\n",
       "  '@FOOD_FESS IYAA INI ENAAKK tapi aku lebi suka thai tea apalagi ditambah es batu'],\n",
       " ['@gongbupilyohae hampir semua materi sekolah aku hanya mengandalkan guru, buku dan rg',\n",
       "  '@gongbupilyohae hampir semua materi sekolah aku hanya mengandalkan guru , buku dan rg'],\n",
       " ['@jveliaa Takpun nurse sorg lg tu. Antara 3 org nie laa. Daniel Lee tu aku rasa ada agenda dia. Kau skrg eps bape da https://t.co/1a8XXqBf6z',\n",
       "  '@jveliaa Takpun nurse sorg lagi itu . Antara tiga orang ini lah . Daniel Lee itu aku rasa ada agenda dia . Kamu sekarang eps bapa da https://t.co/1a8XXqBf6z'],\n",
       " ['@najmizakaria ni deli bukan aku hahahahaa asalnye nak tukar tayar je pastu rim plak wat hal',\n",
       "  '@najmizakaria ini deli bukan aku haha asalnya nak tukar tayar sahaja lepas itu rim plak wat hal'],\n",
       " ['Cukuplah dengan dugaan sebegini aku hanya perlu sabar dan tabah menghadapi.',\n",
       "  'Cukuplah dengan dugaan sebegini aku hanya perlu sabar dan tabah menghadapi .'],\n",
       " ['Aku mending bolak balik ng jeding timbangane ngareti jempol',\n",
       "  'Aku mending bolak balik ng jeding timbangana ngareti jempol'],\n",
       " ['Dah pukul 3 ni uhuks. Esok keje. Coding kelaut, report kelaut. Ya allah, semoga saki baki wktu yg ada ni bermakna utk aku aamin!',\n",
       "  'Dah pukul tiga ini uhuks . Esok kerja . Coding kelaut , report kelaut . Ya allah , semoga saki baki waktu yang ada ini bermakna untuk aku aamin !'],\n",
       " [\"Kalau kau boleh buat aku gelaj, then I'm yours. Macam senangkan? NO. Sebab sekarang lagi banyak orang yang pandai s https://t.co/LmO4mlYWfV\",\n",
       "  \"Kalau kamu boleh buat aku gelaj , then SAYA ' m yours . Macam senangkan ? NO . Sebab sekarang lagi banyak orang yang pandai seperti https://t.co/LmO4mlYWfV\"],\n",
       " ['Aku benci betul market flush', 'Aku benci betul market flush'],\n",
       " ['@jveliaa Hahahaha hok nie kau kene buat peta minda! Sbb byk sgt watak and yg muncul aku sendiri pun penat nk paham',\n",
       "  '@jveliaa Haha hok ini kamu kena buat peta minda ! Sebab banyak sangat watak and yang muncul aku sendiri pun penat nak paham'],\n",
       " ['Aku rasa nak botakkan je rambut kakak aku ni, sumpah geram finding clumps of long hair everywhere in my room',\n",
       "  'Aku rasa nak botakkan sahaja rambut kakak aku ini , sumpah geram finding clumps of long hair everywhere in my room'],\n",
       " ['BM. Siap tidur dalam kelas lagi, and cikgu tu tak tahu nak buat apa sebab aku tidur pun, boleh score and kawan soal https://t.co/7WST7mRzia',\n",
       "  'BM . Siap tidur dalam kelas lagi , and cikgu itu tidak tahu nak buat apa sebab aku tidur pun , boleh score and kawan soal https://t.co/7WST7mRzia'],\n",
       " ['@AizatMuhammadY Serius ah aku kenot brain kaunselor dia ckp gitu',\n",
       "  '@AizatMuhammadY Serius ah aku kenot brain kaunselor dia cukup begitu'],\n",
       " ['Yeye je jakel. Kot ni alam kayangan. Kena tengok elok2 bang. Takut jatuh fitnah',\n",
       "  'Yeye sahaja jakel . Mungkin ini alam kayangan . Kena tengok elok-elok bang . Takut jatuh fitnah'],\n",
       " ['mintak dijauhkan dari aku dan keluarga aaminn',\n",
       "  'minta dijauhkan dari aku dan keluarga aaminn'],\n",
       " ['Atikah risau nau aku sembang pasal dia dekat twitter. Baik aku post kat ws je, senang hg nak baca nanti',\n",
       "  'Atikah risau nau aku sembang pasal dia dekat twitter . Baik aku post kat ws sahaja , senang kamu nak baca nanti'],\n",
       " ['@Farienahanim Tu la aku malas pegi cheras mesti ada yg sangkut merata!',\n",
       "  '@Farienahanim Itu la aku malas pergi cheras mesti ada yang sangkut merata !'],\n",
       " ['@kecambahyuehuaa @akutuhkiyowoo @berrygummiess Swinget aku dari cerita kalian mah kak jeli',\n",
       "  '@kecambahyuehuaa @akutuhkiyowoo @berrygummiess Swinget aku dari cerita kalian mah kak jeli'],\n",
       " ['Takde akal ke apa. Kalau bini aku memang tak la woi',\n",
       "  'Tak Ada akal ke apa . Kalau bini aku memang tidak la woi'],\n",
       " ['@loneranger01 @sharmineishak @McDonalds dulu aku camni gak aa segan malu semua. pastu my chinese colleagues cakap nak malu apa dah tak puasa makan jelah takkan nak tahan lapar. so aku pergi makan nandos dengan diorg kat subang parade. nasib takde sape record masatu',\n",
       "  '@loneranger01 @sharmineishak @McDonalds dahulu aku macam ini juga aa segan malu semua . lepas itu my chinese colleagues cakap nak malu apa dah tidak puasa makan jelah tak akan nak tahan lapar . so aku pergi makan nandos dengan diorg kat subang parade . nasib tiada siapa record masatu'],\n",
       " ['bestie ayo ubah aku jadi batu', 'bestie ayo ubah aku jadi batu'],\n",
       " ['Ada ke katanya macam muka aku. https://t.co/2ZSUVFm0lm',\n",
       "  'Ada ke katanya macam muka aku . https://t.co/2ZSUVFm0lm'],\n",
       " ['@FahimDesta @1_AhLuq Dia tak mengaku close friend ler tewww',\n",
       "  '@FahimDesta @1_AhLuq Dia tidak mengaku close friend ler teww'],\n",
       " ['Tuhan aku tidak pandai perihal melepaskan. tapi lepaskanlah, Tuhan, jika katamu tanganku masih mampu menggenggam se https://t.co/paDu2hc4iH',\n",
       "  'Tuhan aku tidak pandai perihal melepaskan . tapi lepaskan lah , Tuhan , jika katamu tanganku masih mampu menggenggam se https://t.co/paDu2hc4iH'],\n",
       " ['@rosiedebelle @ggukiest_ aku batu', '@rosiedebella @ggukiest_ aku batu'],\n",
       " ['khahahaha aku dah jumpa jodoh keeeee thankyouuuu',\n",
       "  'haha aku dah jumpa jodoh kee thankyouu'],\n",
       " ['AKU TAK PAHAM. SIAPA JE YANG AKAN TERTIPU EH DENGAN BERITA CAMNI? I MEAN KAU NAK MENIPU SAPA? SEMUA ORANG TAHU YANG https://t.co/ruR4HvwNVD',\n",
       "  'AKU TIDAK PAHAM . SIAPA SAHAJA YANG AKAN TERTIPU EH DENGAN BERITA MACAM INI ? SAYA MEAN KAMU NAK MENIPU SIAPA ? SEMUA ORANG TAHU YANG https://t.co/ruR4HvwNVD'],\n",
       " ['@mSidekJ Naaahhh aron ajiz terus kau bantai.. aku cari kurta la malas nak pakai sampin bagai',\n",
       "  '@mSidekJ Naahh aron ajiz terus kamu bantai . . aku cari kurta la malas nak pakai sampin bagai'],\n",
       " ['F. SOP PKPD Di Kg. Dambai Inanam, Kota Kinabalu Link telegram MKN: https://t.co/BXHLSdmxEo G. Statistik Vaksinasi Negeri Sabah H. Bantuan Bakul Makanan (Food Basket) I. Laporan Sekatan Jalan Raya (SJR), Penguatkuasaan Perairan Sabah, Sanitasi Dan Hebahan Awam Info On Wheels https://t.co/LbGIyCFNo9',\n",
       "  'F . TATACARA PENGENDALIAN PIAWAI PKPD Di Kampung . Dambai Inanam , Kota Kinabalu Link telegram MKN : https://t.co/BXHLSdmxEo PERGI . Statistik Vaksinasi Negeri Sabah H . Bantuan Bakul Makanan ( Food Basket ) SAYA . Laporan Sekatan Jalan Raya ( SJR ) , Penguatkuasaan Perairan Sabah , Sanitasi Dan Hebahan Awam Info On Wheels https://t.co/LbGIyCFNo9'],\n",
       " ['Memang idok la akuuu', 'Memang tidak la akuu'],\n",
       " ['Yang ni aku setuju. Silibus pendidikan perlu dirombak balik A - Z khususnya kat IPTA/IPTS. Fokus pada subjek wajib https://t.co/j8kDXSdWEo',\n",
       "  'Yang ini aku setuju . Silibus pendidikan perlu dirombak balik A - Z khususnya kat IPTA / IPTS . Fokus pada subjek wajib https://t.co/j8kDXSdWEo'],\n",
       " ['@ijwaa Ye doh. Aku makan biskut ni lidah sakit siak hahahahahha',\n",
       "  '@ijwaa Ya doh . Aku makan biskut ini lidah sakit siak haha'],\n",
       " ['Aku takmau tengok, masalahnya aku duduk rumah orang. Apa yang depa tengok, aku pun tengok la.',\n",
       "  'Aku takmau tengok , masalahnya aku duduk rumah orang . Apa yang depa tengok , aku pun tengok la .'],\n",
       " ['Esok 2nd Swab..harap2 dpermudahkan segala urusan keluargaku.. #prayfornegativeresult',\n",
       "  'Esok dua nd Swab . . harap-harap dpermudahkan segala urusan keluargaku . . #prayfornegativeresult']]"
      ]
     },
     "execution_count": 33,
     "metadata": {},
     "output_type": "execute_result"
    }
   ],
   "source": [
    "all_data[:100]"
   ]
  }
 ],
 "metadata": {
  "kernelspec": {
   "display_name": "Python 3",
   "language": "python",
   "name": "python3"
  },
  "language_info": {
   "codemirror_mode": {
    "name": "ipython",
    "version": 3
   },
   "file_extension": ".py",
   "mimetype": "text/x-python",
   "name": "python",
   "nbconvert_exporter": "python",
   "pygments_lexer": "ipython3",
   "version": "3.7.10"
  }
 },
 "nbformat": 4,
 "nbformat_minor": 5
}
