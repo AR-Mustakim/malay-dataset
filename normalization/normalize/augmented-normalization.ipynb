{
 "cells": [
  {
   "cell_type": "code",
   "execution_count": 1,
   "metadata": {},
   "outputs": [],
   "source": [
    "import malaya"
   ]
  },
  {
   "cell_type": "code",
   "execution_count": 2,
   "metadata": {},
   "outputs": [
    {
     "data": {
      "text/plain": [
       "('11pagi', '15-10-2016', 'RM 78035')"
      ]
     },
     "execution_count": 2,
     "metadata": {},
     "output_type": "execute_result"
    }
   ],
   "source": [
    "import random\n",
    "\n",
    "def random_time():\n",
    "    \n",
    "    post = ['am', 'pm', 'pagi', 'pgi', 'ptg', 'petang']\n",
    "    hour = random.randint(1, 12)\n",
    "    space = ' ' * random.randint(0, 3)\n",
    "    return f'{hour}{space}{random.choice(post)}'\n",
    "        \n",
    "months = ['jan', 'januari', 'feb', 'februari', 'mac', 'april', 'mei', 'jun', 'julai', 'ogos', 'august',\n",
    "         'september', 'sept', 'okt', 'oktober', 'november', 'nov', 'disember', 'dis']\n",
    "\n",
    "def random_date():\n",
    "    day = random.randint(1, 31)\n",
    "    if random.randint(0, 1):\n",
    "        month = random.randint(1, 12)\n",
    "        if random.randint(0, 1):\n",
    "            dash = '-'\n",
    "        else:\n",
    "            dash = '/'\n",
    "    else:\n",
    "        month = random.choice(months)\n",
    "        dash = ' '\n",
    "    year = random.randint(1990, 2030)\n",
    "    \n",
    "    return f'{day}{dash}{month}{dash}{year}'\n",
    "\n",
    "plurals = ['k', 'm', 'b']\n",
    "def random_money():\n",
    "    if random.randint(0, 1):\n",
    "        front = 'rm' if random.randint(0, 1) else 'RM'\n",
    "        front_space = ' ' * random.randint(0, 3)\n",
    "        back_space = ''\n",
    "        back = ''\n",
    "    else:\n",
    "        front = ''\n",
    "        back = 'sen' if random.randint(0, 1) else 'ringgit'\n",
    "        back_space = ' ' * random.randint(0, 3)\n",
    "        front_space = ''\n",
    "        \n",
    "    if random.randint(0, 1) and back is not 'sen':\n",
    "        no = random.random() * (10 ** random.randint(0, 5))\n",
    "        no = round(no, 2)\n",
    "    else:\n",
    "        no = random.randint(1, 10000000)\n",
    "        \n",
    "    if no < 100 and random.randint(0, 1):\n",
    "        unit = random.choice(plurals)\n",
    "    else:\n",
    "        unit = ''\n",
    "        \n",
    "    return f'{front}{front_space}{no}{unit}{back_space}{back}'\n",
    "\n",
    "random_time(), random_date(), random_money()"
   ]
  },
  {
   "cell_type": "code",
   "execution_count": 3,
   "metadata": {},
   "outputs": [],
   "source": [
    "corrector = malaya.spell.probability()\n",
    "normalizer = malaya.normalize.normalizer(corrector)"
   ]
  },
  {
   "cell_type": "code",
   "execution_count": 4,
   "metadata": {},
   "outputs": [
    {
     "name": "stderr",
     "output_type": "stream",
     "text": [
      "100%|██████████| 2000/2000 [07:15<00:00,  4.59it/s]\n"
     ]
    }
   ],
   "source": [
    "from tqdm import tqdm\n",
    "\n",
    "results = []\n",
    "for i in tqdm(range(2000)):\n",
    "    t, d, m = random_time(), random_date(), random_money()\n",
    "    string = f'boleh dtg {t} esok tak atau minggu depan? {d} {t}, tlong bayar {m} sekali tau'\n",
    "    results.append((string, normalizer.normalize(string, normalize_entity = False)['normalize']))"
   ]
  },
  {
   "cell_type": "code",
   "execution_count": 5,
   "metadata": {},
   "outputs": [
    {
     "data": {
      "text/plain": [
       "('123232   Mililiter',\n",
       " '52220   KG',\n",
       " '34369.14  K',\n",
       " '136278   millilitre',\n",
       " '776943   inches',\n",
       " '475 hari')"
      ]
     },
     "execution_count": 5,
     "metadata": {},
     "output_type": "execute_result"
    }
   ],
   "source": [
    "units = ['kelvin', 'farenheit', 'celcius', 'K', 'F', 'f', 'C',\n",
    "        'kaki', 'meter', 'feet', 'km', 'm', 'cm', 'feet', 'feets', 'miles', 'batu', 'inch', 'inches', 'feets',\n",
    "        'ml', 'ML', 'l', 'L', 'mililiter', 'Mililiter', 'millilitre', 'liter', 'litre', 'gallon', 'gallons', 'galon',\n",
    "        'kg', 'kilo', 'kilogram', 'g', 'gram', 'KG']\n",
    "\n",
    "weights = ['kg', 'kilo', 'kilogram', 'g', 'gram', 'KG']\n",
    "\n",
    "temperatures = ['kelvin', 'farenheit', 'celcius', 'K', 'F', 'f', 'C']\n",
    "\n",
    "volumes = ['ml', 'ML', 'l', 'L', 'mililiter', 'Mililiter', 'millilitre', 'liter', 'litre', 'gallon', 'gallons', 'galon']\n",
    "\n",
    "distances = ['kaki', 'meter', 'feet', 'km', 'm', 'cm', 'feet', 'feets', 'miles', 'batu', 'inch', 'inches', 'feets']\n",
    "\n",
    "durations = ['jam', 'minit', 'hari', 'minggu', 'tahun', 'hours', 'hour']\n",
    "\n",
    "def random_numbers():\n",
    "    if random.randint(0, 1):\n",
    "        no = random.randint(1, 1000000)\n",
    "    else:\n",
    "        no = random.random() * (10 ** random.randint(0, 5))\n",
    "        no = round(no, 2)\n",
    "        \n",
    "    return no\n",
    "\n",
    "def random_si_unit():\n",
    "    no = random_numbers()\n",
    "    space = ' ' * random.randint(0, 3)\n",
    "    return f'{no}{space}{random.choice(units)}'\n",
    "\n",
    "def random_weight():\n",
    "    no = random_numbers()\n",
    "    space = ' ' * random.randint(0, 3)\n",
    "    return f'{no}{space}{random.choice(weights)}'\n",
    "\n",
    "def random_temperature():\n",
    "    no = random_numbers()\n",
    "    space = ' ' * random.randint(0, 3)\n",
    "    return f'{no}{space}{random.choice(temperatures)}'\n",
    "\n",
    "def random_volume():\n",
    "    no = random_numbers()\n",
    "    space = ' ' * random.randint(0, 3)\n",
    "    return f'{no}{space}{random.choice(volumes)}'\n",
    "\n",
    "def random_distance():\n",
    "    no = random_numbers()\n",
    "    space = ' ' * random.randint(0, 3)\n",
    "    return f'{no}{space}{random.choice(distances)}'\n",
    "    \n",
    "def random_duration():\n",
    "    no = random.randint(1, 1000)\n",
    "    space = ' ' * random.randint(0, 3)\n",
    "    return f'{no}{space}{random.choice(durations)}'\n",
    "      \n",
    "random_si_unit(), random_weight(), random_temperature(), random_volume(), random_distance(), random_duration()"
   ]
  },
  {
   "cell_type": "code",
   "execution_count": 6,
   "metadata": {},
   "outputs": [
    {
     "name": "stderr",
     "output_type": "stream",
     "text": [
      "100%|██████████| 500/500 [00:03<00:00, 136.87it/s]\n"
     ]
    }
   ],
   "source": [
    "for i in tqdm(range(500)):\n",
    "    w, temp, v, dis = random_weight(), random_temperature(), random_volume(), random_distance()\n",
    "    d, t = random_duration(), random_time()\n",
    "    string = f'{d} aku tunggu kau sekarang pkul {t}, {w} kau ni, suhu harini {temp}, aku dahaga minum {v}, aku travel {dis}'\n",
    "    results.append((string, normalizer.normalize(string, normalize_entity = False)['normalize']))"
   ]
  },
  {
   "cell_type": "code",
   "execution_count": 7,
   "metadata": {},
   "outputs": [],
   "source": [
    "titles = {\n",
    "    'dr': 'Doktor',\n",
    "    'yb': 'Yang Berhormat',\n",
    "    'hj': 'Haji',\n",
    "    'ybm': 'Yang Berhormat Mulia',\n",
    "    'tyt': 'Tuan Yang Terutama',\n",
    "    'yab': 'Yang Berhormat',\n",
    "    'ybm': 'Yang Berhormat Mulia',\n",
    "    'yabhg': 'Yang Amat Berbahagia',\n",
    "    'ybhg': 'Yang Berbahagia',\n",
    "    'miss': 'Cik',\n",
    "}\n",
    "titles = list(titles.keys())\n",
    "\n",
    "names = ['husein zolkepli']"
   ]
  },
  {
   "cell_type": "code",
   "execution_count": 8,
   "metadata": {},
   "outputs": [],
   "source": [
    "# !wget https://raw.githubusercontent.com/huseinzol05/Malay-Dataset/master/tagging/entities/arab-boy.json\n",
    "# !wget https://raw.githubusercontent.com/huseinzol05/Malay-Dataset/master/tagging/entities/arab-girl.json\n",
    "# !wget https://raw.githubusercontent.com/huseinzol05/Malay-Dataset/master/tagging/entities/chinese-boy.json\n",
    "# !wget https://raw.githubusercontent.com/huseinzol05/Malay-Dataset/master/tagging/entities/chinese-girl.json\n",
    "# !wget https://raw.githubusercontent.com/huseinzol05/Malay-Dataset/master/tagging/entities/indian-boy.json\n",
    "# !wget https://raw.githubusercontent.com/huseinzol05/Malay-Dataset/master/tagging/entities/indian-girl.json\n",
    "# !wget https://raw.githubusercontent.com/rossgoodwin/american-names/master/surnames.json"
   ]
  },
  {
   "cell_type": "code",
   "execution_count": 9,
   "metadata": {},
   "outputs": [],
   "source": [
    "import json\n",
    "\n",
    "with open('arab-boy.json') as fopen:\n",
    "    arab_boy = json.load(fopen)\n",
    "arab_boy = [i[1] for i in arab_boy]\n",
    "arab_boy = list(set(' '.join(arab_boy).split()))"
   ]
  },
  {
   "cell_type": "code",
   "execution_count": 10,
   "metadata": {},
   "outputs": [],
   "source": [
    "with open('arab-girl.json') as fopen:\n",
    "    arab_girl = json.load(fopen)\n",
    "arab_girl = [i[1] for i in arab_girl]\n",
    "arab_girl = list(set(' '.join(arab_girl).split()))"
   ]
  },
  {
   "cell_type": "code",
   "execution_count": 11,
   "metadata": {},
   "outputs": [],
   "source": [
    "with open('chinese-boy.json') as fopen:\n",
    "    chinese_boy = json.load(fopen)\n",
    "chinese_boy = [i[1] for i in chinese_boy]\n",
    "chinese_boy = list(set(' '.join(chinese_boy).split()))"
   ]
  },
  {
   "cell_type": "code",
   "execution_count": 12,
   "metadata": {},
   "outputs": [],
   "source": [
    "with open('chinese-girl.json') as fopen:\n",
    "    chinese_girl = json.load(fopen)\n",
    "chinese_girl = [i[1] for i in chinese_girl]\n",
    "chinese_girl = list(set(' '.join(chinese_girl).split()))"
   ]
  },
  {
   "cell_type": "code",
   "execution_count": 13,
   "metadata": {},
   "outputs": [],
   "source": [
    "with open('indian-boy.json') as fopen:\n",
    "    indian_boy = json.load(fopen) \n",
    "indian_boy = list(set(indian_boy))"
   ]
  },
  {
   "cell_type": "code",
   "execution_count": 14,
   "metadata": {},
   "outputs": [],
   "source": [
    "with open('indian-girl.json') as fopen:\n",
    "    indian_girl = json.load(fopen) \n",
    "indian_girl = list(set(indian_girl))"
   ]
  },
  {
   "cell_type": "code",
   "execution_count": 15,
   "metadata": {},
   "outputs": [],
   "source": [
    "chinese = list(set(chinese_boy + chinese_girl))\n",
    "arabic = list(set(arab_boy + arab_girl))\n",
    "indian = list(set(indian_boy + indian_girl))"
   ]
  },
  {
   "cell_type": "code",
   "execution_count": 16,
   "metadata": {},
   "outputs": [],
   "source": [
    "with open('surnames.json') as fopen:\n",
    "    american = json.load(fopen)"
   ]
  },
  {
   "cell_type": "code",
   "execution_count": 17,
   "metadata": {},
   "outputs": [],
   "source": [
    "mapping = {0: arabic, 1: chinese, 2: indian, 3: american}\n",
    "mixed_mapping = {0: [american, chinese], 1: [indian, arabic], 2: [chinese, arabic]}"
   ]
  },
  {
   "cell_type": "code",
   "execution_count": 18,
   "metadata": {},
   "outputs": [
    {
     "data": {
      "text/plain": [
       "('Dr  Yong Kwai Li', 'YAB Girish Masrur')"
      ]
     },
     "execution_count": 18,
     "metadata": {},
     "output_type": "execute_result"
    }
   ],
   "source": [
    "def generate_name(length):\n",
    "    r = random.randint(0,4)\n",
    "    if r == 4:\n",
    "        r = mixed_mapping[random.randint(0, 2)]\n",
    "        l, r = random.choice(r[0]), random.choice(r[1])\n",
    "        name = f'{l} {r}'\n",
    "    else:\n",
    "        s = mapping[r]\n",
    "        name = ' '.join(random.sample(s, length))\n",
    "        while length == 1 and len(name) < 5:\n",
    "            name = ' '.join(random.sample(arabic, length))\n",
    "    \n",
    "    t = random.choice(titles)\n",
    "    t = t.title() if random.randint(0, 1) else t.upper()\n",
    "    space = ' ' * random.randint(1, 3)\n",
    "    return f'{t}{space}{name}'\n",
    "\n",
    "generate_name(random.randint(1, 4)), generate_name(1)"
   ]
  },
  {
   "cell_type": "code",
   "execution_count": 19,
   "metadata": {},
   "outputs": [
    {
     "data": {
      "text/plain": [
       "('pada 3/ 9', 'ke -   99')"
      ]
     },
     "execution_count": 19,
     "metadata": {},
     "output_type": "execute_result"
    }
   ],
   "source": [
    "def random_per(pada = False):\n",
    "    l, r = random.randint(1, 30), random.randint(1, 12)\n",
    "    l_space, r_space = ' ' * random.randint(0, 3), ' ' * random.randint(1, 3)\n",
    "    \n",
    "    if pada:\n",
    "        prefix = 'pada'\n",
    "        prefix_space = ' ' * random.randint(1, 3)\n",
    "    else:\n",
    "        prefix = ''\n",
    "        prefix_space = ''\n",
    "        \n",
    "    return f'{prefix}{prefix_space}{l}{l_space}/{r_space}{r}'\n",
    "\n",
    "def random_ke():\n",
    "    no = random.randint(1, 100)\n",
    "    l_space, r_space = ' ' * random.randint(0, 3), ' ' * random.randint(0, 3)\n",
    "    return f'ke{l_space}-{r_space}{no}'\n",
    "    \n",
    "random_per(True), random_ke()"
   ]
  },
  {
   "cell_type": "code",
   "execution_count": 20,
   "metadata": {},
   "outputs": [
    {
     "data": {
      "text/plain": [
       "'pada tiga belas hari bulan lapan'"
      ]
     },
     "execution_count": 20,
     "metadata": {},
     "output_type": "execute_result"
    }
   ],
   "source": [
    "normalizer.normalize(f'pada 13   / 8', normalize_entity = False)['normalize']"
   ]
  },
  {
   "cell_type": "code",
   "execution_count": 21,
   "metadata": {},
   "outputs": [
    {
     "name": "stderr",
     "output_type": "stream",
     "text": [
      "100%|██████████| 500/500 [00:00<00:00, 2115.66it/s]\n"
     ]
    }
   ],
   "source": [
    "for i in tqdm(range(500)):\n",
    "    w, temp, v, dis = random_weight(), random_temperature(), random_volume(), random_distance()\n",
    "    d, t = random_duration(), random_time()\n",
    "    string = f'{random_per(True)}, kementerian mengumumkan, {random_per()} rakyat dan, {generate_name(random.randint(1, 4))} dapat tempat {random_ke()} lumba lari hari ini'\n",
    "    results.append((string, normalizer.normalize(string, normalize_entity = False)['normalize']))"
   ]
  },
  {
   "cell_type": "code",
   "execution_count": 22,
   "metadata": {},
   "outputs": [],
   "source": [
    "with open('normalized.json', 'w') as fopen:\n",
    "    json.dump(results, fopen)"
   ]
  }
 ],
 "metadata": {
  "kernelspec": {
   "display_name": "Python 3",
   "language": "python",
   "name": "python3"
  },
  "language_info": {
   "codemirror_mode": {
    "name": "ipython",
    "version": 3
   },
   "file_extension": ".py",
   "mimetype": "text/x-python",
   "name": "python",
   "nbconvert_exporter": "python",
   "pygments_lexer": "ipython3",
   "version": "3.7.5"
  }
 },
 "nbformat": 4,
 "nbformat_minor": 2
}
