{
 "cells": [
  {
   "cell_type": "code",
   "execution_count": 1,
   "metadata": {},
   "outputs": [],
   "source": [
    "from glob import glob\n",
    "import os\n",
    "from tqdm import tqdm"
   ]
  },
  {
   "cell_type": "code",
   "execution_count": 2,
   "metadata": {},
   "outputs": [
    {
     "name": "stdout",
     "output_type": "stream",
     "text": [
      "mkdir: cannot create directory ‘output-wav’: File exists\n",
      "mkdir: cannot create directory ‘output-text’: File exists\n"
     ]
    }
   ],
   "source": [
    "!mkdir output-wav\n",
    "!mkdir output-text"
   ]
  },
  {
   "cell_type": "code",
   "execution_count": 3,
   "metadata": {},
   "outputs": [
    {
     "data": {
      "text/plain": [
       "405"
      ]
     },
     "execution_count": 3,
     "metadata": {},
     "output_type": "execute_result"
    }
   ],
   "source": [
    "files = glob('*.mp3')\n",
    "rejected = ['lyrics', 'beyblade', 'dub', 'bare bear', 'chibi', 'namewee', 'ultraman', 'terjemahan']\n",
    "files = [f for f in files if all([r not in f.lower() for r in rejected])]\n",
    "len(files)"
   ]
  },
  {
   "cell_type": "code",
   "execution_count": 4,
   "metadata": {},
   "outputs": [
    {
     "data": {
      "text/plain": [
       "['Kisah-Hidup-Nabi-Isa-(Yesus-Kristus)---Bahasa-Melayu-The-Jesus-Film---Malay-Language-pBJ9_svTDpY.mp3',\n",
       " 'Tahun-4-_-Bahasa-Melayu-_-Penulisan---Karangan-Dialog-e8u_d2Sp8c0.mp3',\n",
       " 'BAHASA-MALAYSIA-(-MELAYU-)-VERSUS-BAHASA-INDONESIA-bL9P1kAsGVU.mp3',\n",
       " 'BAHASA-MELAYU-STPM-SEMESTER-1---SEJARAH-DAN-PERKEMBANGAN-BAHASA-MELAYU-ASAL-USUL-BAHASA-MELAYU-RbmJf5jg8fw.mp3',\n",
       " 'Tugas-dialog-bahasa-melayu-ll-P53twESK8Ao.mp3',\n",
       " 'EP-6---Paddle-Pop-Atlantos-2-(Bahasa-Melayu)-_-Bertukar-Roh-0LCTXHvFI6w.mp3',\n",
       " 'Kenapa-Nama-Planet-Inggeris-Lain-dengan-Bahasa-Melayu-_01PqAhhha4.mp3',\n",
       " 'Bahasa-Melayu-Hilang-Dari-Radar-hhWOc0W8-xs.mp3',\n",
       " 'Robocar-Poli-Bahasa-Melayu---Max-Mendapat-Ikan-(-Episod-22-)-Mh-rczvC7Nk.mp3',\n",
       " 'Cikgu-Nawi----Susunan-Ayat-dalam-Bahasa-Melayu-STPM-9BQ6riWuMm8.mp3',\n",
       " 'Sembunyi-_-Episod-Penuh-Bing-_-Bing-Bahasa-Melayu-UYPm4oR1c0k.mp3',\n",
       " 'language-shock-PERTAMA-KALI-BELAJAR-BAHASA-MALAYSIA-.-MENURUT-SAYA-BAHASA-MALAYSIA-ITU........!!!-KCHV0GGuDxo.mp3',\n",
       " 'Bahasa-Melayu--Tahun-3-KSSR--Buku-Teks-pg49-Ezb6phh06bc.mp3',\n",
       " 'Anak-Suka-MAKAN-RAMBUT-Saya-Rupanya-ADA-HANTU-Dalam-Badannya-_-Mahluk-Jambatan-DESARU-_-2-Jan-2020-lfvwdm9YSX4.mp3',\n",
       " \"Let's-Go---LDR,-Bayar-Sama-Rata-&-Hantaran...-Again-sgN2PdiB1eo.mp3\",\n",
       " '10-Beza-Bahasa-Malaysia-&-Indonesia-Yang-Mengelirukan-Makna-Kita-_-Bahasa-Melayu-_-Fakta-Faheem-#74-iDbXIX4w-NI.mp3',\n",
       " 'Milik-Saya-_-Episod-Penuh-Bing-_-Bing-Bahasa-Melayu-iowWPlMLRVk.mp3',\n",
       " 'BISMILLAH-ALHAMDULILLAH-_-BAHASA-MALAYSIA-_-KIDS-SONG-_-ISLAMIC-SONG-p34ZBqI5W_0.mp3',\n",
       " 'HARGA-HANTARAN-15K-&-SAMPAI-BERHUTANG!-BVLUvzbNDFc.mp3',\n",
       " 'PODCAST-MELAYU_GENERASI-MUDA---KERJA-ITU-SAMPINGAN,-USAHA-YG-UTAMA-_HANGKATE-&-NUVES-(MANDIRI-TASPEN)-xX-0RhkTIWM.mp3',\n",
       " 'Tahun-3-_-Bahasa-Melayu-_-Tatabahasa---Kata-Seru-dan-Ayat-Seruan-lgudS-zQcqM.mp3',\n",
       " 'Nafas-Naga-_-Episod-Penuh-Bing-_-Bing-Bahasa-Melayu-93jw2ozzDQg.mp3',\n",
       " 'Bahasa-Melayu-Tahun-1-pg7-17-DtwclZL4lZI.mp3',\n",
       " 'Shin-Chan-Malay-Bahasa-Melayu-2020---Biskut-Mak-Masao-gp-1S4TIiKM.mp3',\n",
       " 'TUTORIAL-GRABCAR-2019-(Bahasa-Melayu)-#3-6NM9bAJwLr8.mp3',\n",
       " 'Tahun-4-_-Bahasa-Melayu-_-Analisis-Karya-Bukan-Sastera-ZM6jBMEs2Co.mp3',\n",
       " 'NINA-BOBO-PODCAST---CERITA-MALAM-JUMAAT-MB0xFoYcL6c.mp3',\n",
       " 'Literasi-Bahasa-Melayu---Konstruk-2-LINUS---Membaca-&-Menulis-Tahap-1-Sekolah-Rendah-EDhpBPX5XYI.mp3',\n",
       " 'Episod-Penuh-Bing-_-35+-Minit-_-Eps-56-60-_-Bing-Bahasa-Melayu-EFZorHibJ1E.mp3',\n",
       " 'Teknik-Susun-Isi-Karangan-Bahasa-Melayu-SPM-T-JfI9bZS2c.mp3',\n",
       " 'Kotak-Makanan-_-Episod-Penuh-Bing-_-Bing-Bahasa-Melayu-NnjaXpAc8SE.mp3',\n",
       " 'RAHSIA-&-TEKNIK-KAWAL-TENAGA-MOTIVASI-(PODCAST)-68bH2c04v7o.mp3',\n",
       " 'CABARAN-BERCAKAP-BAHASA-MELAYU-_-Orang-Amerika-Berbahasa-Melayu-_-Language-Challenge-_-Funny-T5aUK_gQqbQ.mp3',\n",
       " 'Suku-Kata-Terbuka---Bahasa-Melayu--_-Bahasa-Malaysia-XLBZmRjqGhU.mp3',\n",
       " 'Kereta-Api-_-Episod-Penuh-Bing-_-Bing-Bahasa-Melayu-z-nh7MdIdn0.mp3',\n",
       " 'CERITA-SERAM-MALAYSIA-_-NENEK-KEBAYAN-JOIN-PLKN!-6aV4haBbt2I.mp3',\n",
       " '‘Bahasa-Malaysia-jadi-Bahasa-Melayu-ke-kabinet’-hxsofMhBOzQ.mp3',\n",
       " 'DIK-IBAN-KAH-(Subtitle-Bahasa-Melayu)-w42jDe04hHc.mp3',\n",
       " 'Lagu-Kanak-Alphabet-Bahasa-Malaysia--_-ABC-in-3D-Bahasa-Melayu-UrWaas0V5fQ.mp3',\n",
       " 'GUS-NUR-&-dr.-SYAIFUL-ANAM---C0R0N4---ANTARA-ADA-&-FITNAH!-E5eErbxXy2U.mp3',\n",
       " 'Adventure-Time-_-Momen-Lucu-_-Cartoon-Network-(Bahasa-Melayu)-ilQD4MzYCdE.mp3',\n",
       " 'Tahun-1_-Bahasa-Melayu-SJK-_-Unit-7-_-Buku-Aktiviti-41,-43,44-YqiGv_LM0L8.mp3',\n",
       " 'Tahun-2_-Bahasa-Melayu-_-Tatabahasa---Penjodoh-Bilangan-idoAzw1XLjo.mp3',\n",
       " 'Memilih-_-Episod-Penuh-Bing-_-Bing-Bahasa-Melayu-UtzK54Pb7Xc.mp3',\n",
       " 'BUNYI-HAIWAN-_-Lagu-Kanak-Kanak-Bahasa-Malaysia-_-Animals-Sounds-Bahasa-Melayu-qZPSXEPO_Aw.mp3',\n",
       " 'PODCAST-MELAYU-_-INI-CARA-SARJANA-TANPA-SKIPSI-_-HANGKATE-&-PAK-ENDRI-SANOPAKA-(-KETUA-STISIPOL-RH-)-e-eMNNxW3vo.mp3',\n",
       " 'OJI-LIDA-&-GAY-_-HANGKATE-&-OJI-#PART2-_-PODCAST-MELAYU-drD4z05nJPs.mp3',\n",
       " '#4-TEROR-HANTU-DI-MALAYSIA-_-Podcast-Horor-iq5N432xyFI.mp3',\n",
       " 'Tahun-4-_-Bahasa-Melayu-_-Membanding-beza-tZ96gEie7Xg.mp3',\n",
       " 'Hot-Guys-Ep8---SPICIEST-BURGER-IN-MALAYSIA-@-Salt-&-Pepper---Bangi-4WkNbqS4qvc.mp3',\n",
       " 'Shin-Chan-Malay-Bahasa-Melayu-2020---Seronoknya-Ada-Atok-70LEG6eTgU8.mp3',\n",
       " 'Masih-ramai-tak-fasih-bahasa-Melayu-HGBNbzqTfNY.mp3',\n",
       " 'Lagu-Kita-Sihat-【Buku-Aktiviti-Bahasa-Melayu-Tahun-1-Unit-8】_-Lagu-Kanak-kanak-JWnX_wXS2uU.mp3',\n",
       " 'Team-Paranormal-Vs-Resort-BERHANTU-Bukit-Air--Orang-Malaysia-Kata-Pantai-SEMBAWANG-SERAM-k4a1e4gFos0.mp3',\n",
       " 'Bing-Bahasa-Melayu-_-Bing---Bit-Terbaik-_-Padget-_-10-Minit-XeWpbu1twzk.mp3',\n",
       " 'UGGMAL-[-PODCAST--MALAYSIA--]-PAJdbq20ikw.mp3',\n",
       " 'Buah-Mulut-Podcast-Episode-100-U9bjHw8-BUc.mp3',\n",
       " 'Bahasa-Melayu-Malaysia-vs-Bahasa-Melayu-Singapura-bGI16-masoA.mp3',\n",
       " 'Tahun-5-_-Bahasa-Melayu-UPSR-_-Tatabahasa---Ayat-Perintah-SPTbrM5o-Vo.mp3',\n",
       " 'Kisah-Nabi-Muhammad-S.A.W--Nabi-Terakhir-Bahasa-Melayu---Filem-Animasi-aR5UA_UmYRQ.mp3',\n",
       " 'EP-10---Paddle-Pop-Atlantos-(Bahasa-Melayu)-_-Eska-Si-Penguin-JRMKkdXzc2Q.mp3',\n",
       " 'Tahun-4-_-Bahasa-Melayu-_-Penulisan---Karangan-Biografi-FKrAf4S7bf0.mp3',\n",
       " 'Digital-Marketing-Strategies-for-2020-_-E-commerce-in-Malaysia-Podcast-OKfxQF2ksfQ.mp3',\n",
       " 'EduwebTV---BAHASA-MELAYU-Tahun-1--Bual-Bahasa---Sebutlah-1nXdobzHS8Y.mp3',\n",
       " 'Tahun-2-_-Bahasa-Melayu-_-Tatabahasa---Kata-Sendi-Nama-cWM5NnbjaL0.mp3',\n",
       " \"Sinopsis-Novel-'Captain-Nobody'-by-Dean-Pitchford-Dalam-Bahasa-Melayu!-qDmiXj9Xhkc.mp3\",\n",
       " 'PODCAST-MELAYU_-MIMPI-JADI-NYATA,-SAMPAI-DI-TINGGAL-NIKAH-_-HANGKATE-&-OJI-LIDA-tR3SV9pS1m4.mp3',\n",
       " 'Penggunaan-Bahasa-Melayu-semakin-dipinggirkan-68nMQNHVn9Y.mp3',\n",
       " 'Teknik-Bina-Ayat-Mudah-Bahasa-Melayu-UPSR-3DGSvJFjjRo.mp3',\n",
       " 'KENAPA-Orang-KOREA-Nak-Belajar-Bahasa-Melayu(Bahasa-Indonesia)-#BahasaMelayu-#BahasaIndonesia-t_IjZmJI2tc.mp3',\n",
       " 'MENGENAL-LEBIH-DEKAT-THOMAS-ARYA-JcNDHxOCT1A.mp3',\n",
       " 'WAJIB-TENGOK..!!!-ARTI-BAHASA-MALAYSIA-DENGAN-BAHASA-INDONESIA-YG-MUNGKIN-KAMU-TIDAK-KETAHUI.-gZWDCL9fdhs.mp3',\n",
       " 'Bahasa-Melayu-Tahun-4-_-Syair-_-Nasihat-Ayah-Bonda-8Y9LhcE9DmM.mp3',\n",
       " 'Lagu-hati-hati-(Tahun-1-Unit-12-Buku-Aktiviti-Bahasa-Melayu)-_-Lagu-Kanak-kanak-CWXJoo-Ae7M.mp3',\n",
       " '[Podcast-in-Malay]---Tanya-AP-Anda-featuring-SPS-Dr-Mohamad-Maliki-bin-Osman-[Part-1-of-4]-MmYa1FjF5Uk.mp3',\n",
       " '[OB-CHALLENGE]-Bila-Non-Malay-Baca-Ayat-Lidah-Berbelit-Bahasa-Melayu..-Ayat-Ramlah-Ram-Paling-Lawak!-FJyZ5eyPOX0.mp3',\n",
       " 'Ep5---Hikmah-dari-pelaksanaan-PKP-di-Malaysia-9czdQQaXbyw.mp3',\n",
       " \"PEMULA-_-Belajar-Kosa-Kata-Bahasa-'Malaysia'-(bahasa-melayu)-LxSo6TVhhBQ.mp3\",\n",
       " \"Najib-and-Malaysia's-human-rights-abuses-FKgDzBPfxGc.mp3\",\n",
       " 'Bahasa-Melayu-SPM-&-PT3---Kesalahan-Kata,-Istilah-dan-Tatabahasa-l-Soalan-3(d)-SPM-BM-Kertas-2-KwCzsBSk7ew.mp3',\n",
       " 'Tahun-4-_-Bahasa-Melayu-_-Menulis-Karangan-15Nv5-BLLNU.mp3',\n",
       " 'Tahun-2-_-Bahasa-Melayu-_-Tatabahasa---Kata-Tanya-dan-Ayat-Tanya-cTocLG4Rr7o.mp3',\n",
       " 'VIRAL-Video-Bocah-Lelaki-Bernyanyi-dengan-Ekspersi-Lucu-ZdvGzMglOSE.mp3',\n",
       " 'Kolam-Randuk-_-Episod-Penuh-Bing-_-Bing-Bahasa-Melayu--MuylU9mM5o.mp3',\n",
       " 'Log-(B.-Malaysia)---Podcast-Langsung-w4V4_zsc62E.mp3',\n",
       " 'Viral-anjing-yang-faham-bahasa-Melayu-Q4EfKbw5n_0.mp3',\n",
       " 'PODCAST-CEKAL-BM@6----AKTIVITI-PENULISAN-BAHASA-MELAYU-BAHAGIAN-B-BHG-2-YUvw04dd7M8.mp3',\n",
       " 'Rumah-_-Episod-Penuh-Bing-_-Bing-Bahasa-Melayu-Hc1XCsaRz84.mp3',\n",
       " 'e-GURU---BAHASA-MELAYU-Prasekolah---Kenderaan-Darat-dOQugdizFhM.mp3',\n",
       " 'Ais-Krim-_-Episod-Penuh-Bing-_-Bing-Bahasa-Melayu-qLXe9mzppjk.mp3',\n",
       " 'Tahun-1-_-Bahasa-Melayu-_-Tatabahasa---Kata-Kerja-cJYrXEUus1w.mp3',\n",
       " 'Episod-Penuh-Bing-_-70+-Minit-_-Eps-21-30-_-Bing-Bahasa-Melayu-jqCBb8Srtu4.mp3',\n",
       " 'DODOIAN-ANDA---[PODCAST-MALAYSIA-VERSI-2]-g95Rcydh0fs.mp3',\n",
       " 'Podcast-Bekpek---Berbasikal-Malaysia-Ke-Mekah(Ditahan-dan-dibawa-Kem-Askar-Pakistan-Semasa-Di-Gunung)-_bfH3pxuOoM.mp3',\n",
       " 'Mereka-Belajar-Bahasa-Melayu-mCE4oEn13KY.mp3',\n",
       " 'Episod-1---Sejarah-Perkembangan-Bahasa-Melayu-(Podcast)-aG_qD04SSWM.mp3',\n",
       " 'Bahasa-Melayu-Tingkatan-6-bersama-sama-Cikgu-Zulkarnain-OEN5O9Wc1j8.mp3',\n",
       " 'Tahun-4-_-Bahasa-Melayu-_-Memberikan-Respons-0lnWizpWpF4.mp3',\n",
       " 'Bahasa-Melayu-Ofzd5lXPdZ8.mp3',\n",
       " 'DIA-HISAP-APA-KAT-TANDAS-SEKOLAH!-bXVvXLHpmS8.mp3',\n",
       " 'Team-Paranormal-Vs-Resort-BERHANTU-Bukit-Air-_-Orang-Malaysia-Kata-Pantai-SEMBAWANG-SERAM-CteGfI4nUgU.mp3',\n",
       " 'QUIZ-BAHASA-MELAYU-WITH-GILANG-DIRGA-,-IRFAN-HAKIM-DAN-ABI-RAMZI-!!-IjQtm6Bf5aQ.mp3',\n",
       " 'BOLEH-TAK-CHINESE-CAKAP-BAHASA-MELAYU--Interview-Rakyat-Malaysia!-zSNRlEaibnc.mp3',\n",
       " 'PATUT-SAMBUNG-BELAJAR-KE-KERJA-Y_Ccfc8J4sY.mp3',\n",
       " 'Sekolah-Legend-TERSERAM-Di-Malaysia_-Cerita-Seram-DslrDZ8olhI.mp3',\n",
       " 'Mari-Belajar-Alif-Ba-Ta-fathah---Bahasa-Melayu-(Lelaki)-PVmv00rdx6M.mp3',\n",
       " 'Belajar-bahasa-malaysia-dari-Upin-dan-Ipin,-belajar-bahasa-melayu!-jpuiLo-kicE.mp3',\n",
       " 'Tatabahasa-Bahasa-Melayu---Kata-Kerja-Aktif-dan-Pasif-_-Tahun-3,-4,-5-&-6-_-Sekolah-Rendah-_-KSSR-aGnwj0qDJZk.mp3',\n",
       " 'Tahun-4-_-Bahasa-Melayu-_-Sajak-DO7wqFv50zU.mp3',\n",
       " 'Vlog#70-_-Bahasa-Malaysia-vs-Bahasa-Melayu-Singapura-🇲🇾🇸🇬-HnrM6Z8mBpc.mp3',\n",
       " 'VIDEO-REFLEKSI-LMCR3202-BAHASA-MELAYU-DALAM-PENGURUSAN-PEJABAT-SESI-2019_2020-bfX71cJNQ3M.mp3',\n",
       " 'Bahasa-Melayu-Tahun-1---Kata-Nama-Am-vg5qrNMVSyc.mp3',\n",
       " 'shin-chan-(Bahasa-Melayu)-Saya-Suka-Makan-Steamboat-HVhN_H-Wcvk.mp3',\n",
       " 'Lagu-123-Kanak-Kanak-_-Satu-Dua-Tiga-Empat-_-123-Bahasa-Melayu-l-Lagu-Nombor-fwzdAxuUIEY.mp3',\n",
       " 'Tahun-3-_-Bahasa-Melayu-_-Kemahiran-Membaca---Kosa-Kata-xsaMloBLqIU.mp3',\n",
       " 'Hagemaru---Perangai-Buruk-Mama-Bahasa-Melayu-kd1p_--6TGs.mp3',\n",
       " 'Bahasa-Melayu-Tahun-1-,-muka-surat-88-eAy9-1cP6-o.mp3',\n",
       " 'We-Bare-Bears-_-Gambar-Profile-Panda_-Cartoon-Network-(Bahasa-Melayu)-IkMJm4l4KVQ.mp3',\n",
       " 'SAYA-CUBA-MAGGI-PEDAS-GILER-2X-DAN-BERCAKAP-BAHASA-MELAYU-kifyV1KwYhI.mp3',\n",
       " 'Vlogcast#13-Sembang-Belek-Magic-Dalam-Pelat-Melayu-(Malay_BM_MS)--1xkwRSekrA.mp3',\n",
       " 'Tahun-1-_-Bahasa-Melayu-_-Tatabahasa---Kata-Seru-LPUx9i6We3w.mp3',\n",
       " 'Tahun-4-_-Bahasa-Melayu-_-Cerita-ne7bqi1U9x8.mp3',\n",
       " 'Tahun-1-_-Bahasa-Melayu-_-Tatabahasa---Penjodoh-Bilangan-w2CjOWVzTSA.mp3',\n",
       " 'Tahun-4-_-Bahasa-Melayu-_-Lirik-Lagu-J76i5j1ZpqY.mp3',\n",
       " 'APA-ALASAN-RAKYAT-MALAYSIA-TIDAK-MAHIR-BAHASA-MELAYU-LdpK1lR7VfI.mp3',\n",
       " 'Awek-Korea-merapu-dalam-Bahasa-Melayu-di-Instagram-YhXAn3UdL00.mp3',\n",
       " 'Tutorial-membina-soalan-menggunakan-Google-Form-Bahasa-Melayu-gFiSBnHW3yk.mp3',\n",
       " 'RAHSIA-MELIHAT-KE-DALAM-DIRI-(PODCAST)-sw5h9hlityE.mp3',\n",
       " 'Muzik-_-Episod-Penuh-Bing-_-Bing-Bahasa-Melayu-GcjwcYbf7MI.mp3',\n",
       " 'Lagu-Belajar-ABC-Bahasa-Malaysia---Beserta-Contoh-OPicj4pxf08.mp3',\n",
       " 'BERHENTI-MENARI-PILIH-MENYANYI-_-HANGKATE-&-HALIM-#PART2-_-PODCAST-MELAYU-opBy2giaRPk.mp3',\n",
       " 'Tutorial-Makeup-Pake-Bahasa-Melayu-Kalimantan-Barat-(Ketapang-Pontianak)-Wgft976sjdc.mp3',\n",
       " 'AKU-BALING-MERCUN-DALAM-BILIK-GURU!---Bad-Guys-At-School-(Bahasa-Malaysia)-G2UJ4h4UvR0.mp3',\n",
       " 'Pengembara-Alam-_-Episod-Penuh-Bing-_-Bing-Bahasa-Melayu-snU4NQMwNxg.mp3',\n",
       " 'Bing-Bahasa-Melayu-_-Bing---Bit-Terbaik-_-Hari-Wanita-Antarabangsa-_-20-Minit-EYoHukTNIJU.mp3',\n",
       " '(Edisi-Bahasa-Melayu)-Wang-Kertas-Malaysia-RM1-Jaffar-bernilai-RM25K-Wang-Lama-Malaysia-Banknote-Hi4aq4_jDkw.mp3',\n",
       " 'Kerajaan-Kampung-Melayu-Podcast-EP-1-Longkang-bsv5DQVAFfk.mp3',\n",
       " 'ARTIS-TERKENAL-MALAYSIA!-_-Podcast-Bersama-Mahakarya-Hgsls787J4c.mp3',\n",
       " 'BEGINI-LETDA-CAKAP-BAHASA-MELAYU-DAN-TERNYATA-KETEMU-KEMBARAN-LETDA-DI-SERVER-SINGAPORE-E3g2gdqoFJ0.mp3',\n",
       " 'Dinosaur-kapur-_-Episod-Penuh-Bing-_-Bing-Bahasa-Melayu-0s1VCMafDzI.mp3',\n",
       " 'Malay---Travel-Words---Bahasa-Inggeris---30-most-common-words-in-English-Bahasa-Malaysia-gfFXgn7Gydg.mp3',\n",
       " 'Episod-Penuh-Bing-_-35+-Minit-_-Eps-1-5-_-Bing-Bahasa-Melayu-z-uL8OJMH3s.mp3',\n",
       " 'NURUL-ALIA-BINTI-AHMAD-ROSLEE-(VIDEO-RESUME-PENGAJIAN-BAHASA-MELAYU-UKM-SESI-2018_2019)-30jl5smd38E.mp3',\n",
       " 'Episod-Penuh-Bing-_-35+-Minit-_-Eps-36-40-_-Bing-Bahasa-Melayu-gYpA-GwuMco.mp3',\n",
       " 'Bahasa-Melayu-SPM----Cara-menjawab-soalan-Pemahaman-Kertas-2-_-Teknik-paling-mudah-BX439vubbls.mp3',\n",
       " 'PERBEDAAN-BAHASA-MALAYSIA-DENGAN-INDONESIA-U6VHfelihLI.mp3',\n",
       " '[PODCAST]-Negaraku,-Negara-Kita-EP-01---Adakah-Malaysia-bersatu-N35HUMW1DFY.mp3',\n",
       " 'COLLEGE-MAKEUP-TUTORIAL-IN-BAHASA-MELAYU-CrpscwMebps.mp3',\n",
       " 'Podcast-Monolog---Alih-Wahana-Sastra-Lama-_-Sastra-Melayu-_-Seloka-_-Cerita-Tentang-Seorang-Teman-v80NcSD_57M.mp3',\n",
       " 'Literasi-Bahasa-Melayu---Konstruk-2-LINUS---Membaca-&-Menulis-Tahap-1-Sekolah-Rendah-XJrvdpNv6NE.mp3',\n",
       " '[PODCAST]-Negaraku,-Negara-Kita-EP-02---Bagaimana-Malaysia-mencapai-perpaduan-rwBqXukJOaM.mp3',\n",
       " 'Voosh-_-Episod-Penuh-Bing-_-Bing-Bahasa-Melayu-zEhncC5AXFs.mp3',\n",
       " 'Tahun-4-_-Bahasa-Melayu-_-Penulisan---Karangan-Pengalaman-_uGPoezy7kI.mp3',\n",
       " 'PODCAST-MELAYU-_-RAJA-ALI-HAJI--PENG-HIPNOTIS-_-HANGKATE-&-YOAN-IyUumTc7cOA.mp3',\n",
       " 'Bing-Bahasa-Melayu-_-Bing---Bit-Terbaik-_-Pembersihan-dengan-Bing!-_-10-Minit-66GXqWnwOAQ.mp3',\n",
       " 'Mari-Belajar-Membaca-Suku-Kata-Bahasa-Melayu-Mudah!-QZoE-vHKrn0.mp3',\n",
       " 'Makan-tengah-hari-_-Episod-Penuh-Bing-_-Bing-Bahasa-Melayu-CQbiXfRmStc.mp3',\n",
       " 'Bahasa-Melayu-Tahun-3-Kata-Pemeri-Esw5tDq2cEA.mp3',\n",
       " 'Podcasting-Essential-!-(B.Melayu)-olBU3zIjX6o.mp3',\n",
       " 'Tahun-4-_-Bahasa-Melayu-_-Analisis-Karya-Sastera-nFIoLs-fD4w.mp3',\n",
       " 'Tahun-4-_-Bahasa-Melayu-_-Penilaian-dan-Alasan-cSJnDDSIUik.mp3',\n",
       " 'VISA---Untukmu-Selamanya-~-LIRIK-~-5jCc4tnP90c.mp3',\n",
       " 'Tahun-6-_-Bahasa-Melayu-UPSR-_-Tatabahasa---Penjodoh-Bilangan-slWn76n4H7k.mp3',\n",
       " 'Vlogcast#12-COVID-19---Hikayat-Ramadan-dan-Raya-yang-Telah-Hilang-(Malay_BM_MS)-Yo6CPQtHNcc.mp3',\n",
       " 'Episod-Penuh-Bing-_-70+-Minit-_-Eps-51-60-_-Bing-Bahasa-Melayu-_7Yec_ti9Cc.mp3',\n",
       " 'Podcast-Glombng-#6---Hanya-1-dari-10-warganegara-Malaysia-membayar-cukai-eutXgju58NY.mp3',\n",
       " 'Tahun-6-_-Bahasa-Melayu-UPSR-_-Tatabahasa---Bahasa-Istana-q4KEc47VC1E.mp3',\n",
       " '9-RAHSIA-PEKERJA-BERGAJI-BINA-BISNES-9ITPO6ooNSk.mp3',\n",
       " 'Bing-Bahasa-Melayu-_-Bing---Bit-Terbaik-_-Momen-Muzik-_-10-Minit-ke2HxeQPEoE.mp3',\n",
       " 'Bing-Bahasa-Melayu-_-Bing---Bit-Terbaik-_-Bermain-dengan-Mainan!-_-10-Minit-rMZL9riivx8.mp3',\n",
       " 'Cerita-dari-LONDON-pulang-ke-MALAYSIA-100%-lalu-jalan-darat-(overland)-Hg76hLnIgEM.mp3',\n",
       " \"ANSAR-AHMAD----'BUNDA-TANAH-MELAYU'-JANGAN-JADI-JARGON-POLITIK-KAMPANYE-SAJA-(Part3)---TRIBUN-PODCAST-UiHqyY9bu_k.mp3\",\n",
       " 'BESEMBANG-BERSAMA-SETIA-BAKTI-ABDI-SENI-SENIMAN-MUSIK-MELAYU-#BGOESMAN-b9KRb3oEYLI.mp3',\n",
       " 'AKU-SUKA-KAU-TAPI...--Podcast-Cinta-Malaysia-EP-02-Tq-DFX7Vx5w.mp3',\n",
       " '3DAPO---CONONYA-VIRUS-[PODCAST-MALAYSIA-VERSI-2]-qRAQheoobNY.mp3',\n",
       " 'Bahasa-Melayu-sahaja!-Easy-Malay-challenge-💪🏻-AL6uhAntkaA.mp3',\n",
       " 'RVLOG-#22---Bahasa-Malaysia-kHhQS4OLu3E.mp3',\n",
       " \"PEMULA-_-Belajar-Kosa-Kata-Bahasa-'Malaysia'-(bahasa-melayu)-PART-3-zwuxABg7t88.mp3\",\n",
       " 'Video-belajar-bahasa-Malaysia-gratis-XMZiX9B5il0.mp3',\n",
       " 'Shin-Chan-Malay-(Bahasa-Melayu)-Special-Episode-2020-HD---Indo-and-Malay-Sub-bZQ__IUl7xw.mp3',\n",
       " 'Syair-Gulung-Melayu-Ketapang,-Podcast-Animasi-Comedy-ifnoe-ktg-qus75ZrgGEI.mp3',\n",
       " 'Vlogcast#15-Orang-Melayu-Singapura-Cuba-Teka-Loghat-Perak-(Malay_BM_MS)-3-nrnJ76tec.mp3',\n",
       " \"Podcast-Monolog-_-Syair-Melayu-'Menuntut-Ilmu'-_-Musikalisasi-Puisi-_-Alih-Wahana-Sastra-Melayu-rPwsfvjBaHc.mp3\",\n",
       " \"DAP-Parti-CAUVINIS-&-RASIS-Tun-M-_-GESA-DIHARAMKAN-Duri-Dalam-Daging-_-Dato'-Seri-Dzulkarnain-Taib-yrGWHyJYx64.mp3\",\n",
       " 'Kek-_-Episod-Penuh-Bing-_-Bing-Bahasa-Melayu-mTQ43CreeNQ.mp3',\n",
       " 'Rakyat-Malaysia-Tiada-Simpanan--SlowTalk-Podcast-#09-I9eEz2OvI0E.mp3',\n",
       " 'MY-PARENTS-CUBA-CAKAP-BAHASA-MELAYU---#CassidyBoleh-ATiiJhlYjnc.mp3',\n",
       " 'Indian-Gangster-VS-Chinese-Gangster-OIhFzPigsGM.mp3',\n",
       " 'Kisah-Seram-Quaters-Bukit-Timah-_-Awek-Kelate-DISIHIR-BEKAS-KEKASIH-Sebelum-Nikah-wEUSui9LzUo.mp3',\n",
       " 'Bola-Kampung-3D-Movie---Dalam-Bahasa-Melayu-IrJCQ6bzbmY.mp3',\n",
       " 'Tahun-5-_-Bahasa-Melayu-_-Kata-Nama-Am-Tak-Hidup-Bukan-Institusi-Abstrak-Pni6OR2bcp8.mp3',\n",
       " 'Wajah-Kejayaan-Melayu-Masa-Lalu.-#SYAUKANI-AL-KARIM-#MILENIAL-MELAYU-#PODCAST-CORNER-WIrUcXsBrF8.mp3',\n",
       " 'Acah-Podcast-_-TortCast-Episod-1-_-Bagaimana-Suasana-Berkerja-Waktu-PKP-TJzy06-IFd8.mp3',\n",
       " 'PODCAST-CEKAL-BM@6----AKTIVITI-PENULISAN-BAHAGIAN-A-S4PyawrV694.mp3',\n",
       " 'Episod-Penuh-Bing-_-70+-Minit-_-Eps-31-40-_-Bing-Bahasa-Melayu-3yT5v1wDQA8.mp3',\n",
       " 'Kuiz-Teka-Bahasa-Malaysia-&-Indonesia-Ri2t2hvIPAI.mp3',\n",
       " 'Episod-Penuh-Bing-_-35+-Minit-_-Eps-11-15-_-Bing-Bahasa-Melayu-gaAdekQQ5Y0.mp3',\n",
       " 'Istana-Pasir-_-Episod-Penuh-_-Bing-Bahasa-Melayu-NBAvKfhUA08.mp3',\n",
       " 'Bing-Bahasa-Melayu-_-Bing---Bit-Terbaik-_-Pando-_-20-Minit-AB2haZbkv-c.mp3',\n",
       " 'Bing-Bahasa-Melayu-_-Bing---Bit-Terbaik-_-Musim-panas-dengan-Bing!-_-40-Minit-BImhAsM871U.mp3',\n",
       " 'BPR--Seribu-Tahun-Takkan-Mungkin-(HQ)-w78_1hFEKpg.mp3',\n",
       " 'But-Besar-_-Episod-Penuh-Bing-_-Bing-Bahasa-Melayu-AyoBUd469wA.mp3',\n",
       " 'Tahun-4-_-Bahasa-Melayu-_-Tulisan-Berangkai-2fCDtCTKHNY.mp3',\n",
       " 'Selamat-Hari-kekasih!-❤️_16-Minit-_-Bing---Bit-Terbaik-_-Bing-Bahasa-Melayu-5_3Y8cT1cDo.mp3',\n",
       " 'PODCAST-MELAYU-_-MAK-DARE,-LEGEND-JOGET-DANGKONG-_-HANGKATE-&-MAK-DARE-abxOhJLMQ7g.mp3',\n",
       " 'Vadivelu-Komedi---Dalam-bahasa-melayu🤣🤣-OFWSn1zOwJM.mp3',\n",
       " 'Bahasa-Melayu-semakin-terpinggir-qsMscVroqBY.mp3',\n",
       " 'Episod-Penuh-Bing-_-70+-Minit-_-Eps-41-50-_-Bing-Bahasa-Melayu-IFARPduUg-Y.mp3',\n",
       " 'We-Bare-Bears-_-Mimpi-Panda-_-Cartoon-Network-(Bahasa-Melayu)-6hZBa31SpPU.mp3',\n",
       " 'Episod-Penuh-Bing-_-35+-Minit-_-Eps-6-10-_-Bing-Bahasa-Melayu-13Ezvi5mkW0.mp3',\n",
       " 'Episod-Penuh-Bing-_-70+-Minit-_-Eps-61-70-_-Bing-Bahasa-Melayu-SeVDUZFmMj0.mp3',\n",
       " 'Lagu-Bentuk-Untuk-Kanak-Kanak-_-Lagu-Kanak-Kanak-Melayu-Malaysia-_-Learn-Shapes-in-Malay-for-kids-ntepBAfQDbE.mp3',\n",
       " 'Saya-Anak-Malaysia-2018-(Bahasa-Malaysia-Version)-VebUb5j_daU.mp3',\n",
       " 'PODCAST-MELAYU-_-HANGKATE-MENYANYAH-DENGAN-EVAN-KAKAO-_-2020-pEo1Q7zfyEM.mp3',\n",
       " 'Tahun-3-_-Bahasa-Melayu-_-Tatabahasa---Kata-Nafi-Q8op7Y0KN_Y.mp3',\n",
       " 'Setan-seram--JiqvYzd0No.mp3',\n",
       " 'Bahasa-melayu-moden-(bmk-2012)-DLDs1A1f5gA.mp3',\n",
       " 'Tahun-2-_-Bahasa-Melayu-_-Tatabahasa---Kata-Ganda-nEF9RhGL5L0.mp3',\n",
       " 'Tahun-4-_-Bahasa-Melayu-_-Penulisan---Karangan-Melengkapkan-Cerita-0yhKpaxacIw.mp3',\n",
       " 'CURHAT-BERSAMA-KETUA-KONSULAT-MALAYSIA-#PODCAST-BY-FAIZ-ohmis2VKkcg.mp3',\n",
       " 'Main-Sorok-Sorok-_-Episod-Penuh-Bing-_-Bing-Bahasa-Melayu-Pjl5O2uAlvI.mp3',\n",
       " 'SEJARAH-KONTRAK-SOSIAL-_-PERMINTAAN-KEWARGANEGARAAN-BRITISH-TAN-CHENG-LOCK-DITOLAK-hqLpCkWqzC0.mp3',\n",
       " \"INI-ARTI-'UNGKAL'-BAHASA-MELAYU-_-HANGKATE-miitDmjow68.mp3\",\n",
       " 'PODCAST-MELAYU-_-BANG-FAKHRI-BUJANG-TELAJAK-TAK-_-HANGKATE-&-FAKHRI-JwxIGfrgX48.mp3',\n",
       " 'Number-Song-1-10-in-Malay-_-Learn-Malay-_-Bahasa-Melayu!---KidsMusicTime-CVkPpZwk7n0.mp3',\n",
       " 'Soalan-Bocor-Ramalan-SPM-Bahasa-Melayu-2020-_-2021-fMQ6ESPRtSo.mp3',\n",
       " 'MAMAK---BILA-KAU-TAK-FAHAM-BAHASA-MELAYU-DAN-MUKA-KAU-TAK-MACAM-MELAYU-NdaLaL6yCNI.mp3',\n",
       " 'Talkie-Taxi-_-Episod-Penuh-Bing-_-Bing-Bahasa-Melayu-dRl_B7evc9A.mp3',\n",
       " \"Kisah-Seram-Rumah-Di-TEMBURONG-BRUNEI-_-Padah-Tak-Nak-'BERSIHKAN-RUMAH'-Bila-Pindah-_-Guest-Shafyre-h-4TC0ta-qA.mp3\",\n",
       " 'Rumah-Kawan-Di-GELANG-PATAH-Ada-Tetamu-SERAM-_-Ada-ORANG-Luar-Tingkap-Rumah-TINGKAT-11-DI-TAMPINES-hwjPdvW2czs.mp3',\n",
       " 'Episod-Penuh-Bing-_-35+-Minit-_-Eps-46-50-_-Bing-Bahasa-Melayu-CKZTrYyjP5g.mp3',\n",
       " 'Translate-Bahasa-Melayu-ke-Bahasa-Inggeris-BULAT-BULAT!-CL3eFyp8yy0.mp3',\n",
       " 'Tahun-6-_-Bahasa-Melayu-UPSR-_-Tatabahasa---Penggunaan-Kata-NFytuspozcA.mp3',\n",
       " 'RAHSIA-KESEDARAN-TERHADAP-DIRI-(PODCAST)-cyU3Qgox3K4.mp3',\n",
       " 'Bahasa-Challenge----Bahasa-Palembang-VS-Bahasa-Melayu-Malaysia---Mirip-Bahasa-Malaysia-apa-Indonesia-7y3ifzjXOJo.mp3',\n",
       " 'Tahun-3-_-Bahasa-Melayu-_-Kemahiran-Mendengar-dan-Bertutur---Ayat-Suruhan-dan-Ayat-Permintaan-AQ4pM5ThfKc.mp3',\n",
       " 'CEKAL-BM@6-PODCAST----BAHASA-MELAYU-PENULISAN-BAHAGIAN-A-i4_jYaXHIDA.mp3',\n",
       " 'Kakak-Kondom-Pilot-Episode-9QxRN2hnOOg.mp3',\n",
       " 'Tahun-4-_-Bahasa-Melayu-_-Petikan-c0QmbjNQIq0.mp3',\n",
       " 'ENGLISH-VS-MELAYU-(-BAHASA-)-JH8MHFUm65s.mp3',\n",
       " 'BAHASA-MALAYSIA-VS-BAHASA-INDONESIA-_-EXTREME-!!-_-Righaz-Family-_-Vlog-Keluarga-UC8QfVJ8kpA.mp3',\n",
       " 'Kelas-@-Rumah-(Bahasa-Melayu-Tahun-1)-Mqcr14jcYqI.mp3',\n",
       " 'BAHASA-MELAYU-STPM-SEMESTER-2---PERBINCANGAN-SOALAN-STPM-2019(BAHAGIAN-A)-6taK3sF_doE.mp3',\n",
       " 'Cara-Mudah-Membina-Ulasan-Bahasa-Melayu-Penulisan-UPSR-Bahagian-B-hsUdOuZW7fA.mp3',\n",
       " 'Pingu-in-bahasa-melayu-4bY_YD1BysI.mp3',\n",
       " 'Tahun-4-_-Bahasa-Melayu-_-Analisis-Kesalahan-Bahasa-CKrriNvcuUk.mp3',\n",
       " 'Tahun-4-_-Bahasa-Melayu-_-Peribahasa-nWtS4E32Yvs.mp3',\n",
       " 'Voo-Voo-_-Episod-Penuh-Bing-_-Bing-Bahasa-Melayu-pIfpmQAbFIc.mp3',\n",
       " 'TEKNIK-KAWAL-PANAS-BARAN-(PODCAST)-rwhXalBKmbE.mp3',\n",
       " 'shin-chan--Bahasa-Melayu-malam-ni-malam-barbeque-la-x-4bWQKfcp0.mp3',\n",
       " 'Iban-Kahwin-dengan-Melayu-Sarawak-AOjk8dcZ0Ds.mp3',\n",
       " '#AWANIJr---Bahasa-Melayu-di-Thailand-s2b1ZOIDJy0.mp3',\n",
       " 'TIPS-&-TRIK-MC-ala-Bang-Fakhri-_-PILIH-MC-ATAU-NIKAH-_-HANGKATE-&-BANG-FAKHRI-_-PODCAST-MELAYU-6AJTs4DcwAs.mp3',\n",
       " 'LAGU-SIMPULAN-BAHASA_BAHASA-MELAYU-jURbQSJm7lw.mp3',\n",
       " 'Wanita-Indonesia-JUAL-KAIN-BATIK-Jam-11_45pm-Di-SG-_-Main-HIDE-&-SEEK-Hilang-2-Malam-_-05-NOV-2019-zGYkKkh9RO4.mp3',\n",
       " 'video-bahasa-melayu--perbualan-di-kantin-88W2q6y7dZs.mp3',\n",
       " 'Mesin-Kejutan-_-Episod-Penuh-Bing-_-Bing-Bahasa-Melayu-6koVQNMX2-s.mp3',\n",
       " 'First-Experiences-in-Malaysia-_-GbasGbos-Podcast-EP1-UDd5tSxHbJI.mp3',\n",
       " 'INI-CARA-MENANGKAL-HIPNOTIS-_-HANGKATE-&-YOAN-_-PODCAST-MELAYU-#PART2-tgpjUEIbq2k.mp3',\n",
       " 'Tahun-4-_-Bahasa-Melayu-_-Membina-Ayat-dan-Perenggan-Berdasarkan-Bahan-Grafik-br-93IMIM3k.mp3',\n",
       " 'Tahun-4-_-Bahasa-Melayu-_-Sebutan-TswWJ2yHcSo.mp3',\n",
       " '30-Mei---BAHASA-MELAYU-BAHASA-KELIMA-DUNIA-FgrOHHP1O1U.mp3',\n",
       " 'BUSANA-MELAYU-DALAM-MENGHADAPI-ERA-MODERENISASI,-NGAH-AROEL-PODCAST-DALAM-HUTAN-BENYAMOK..!!-🙄--zKaMLtelIE.mp3',\n",
       " 'PODCAST-MELAYU-_-PEMAIN-BIOLA-KORBAN-CORONA--_-ADI-LINGKEPIN-Q9Rp_f0ixqA.mp3',\n",
       " '10-kali-Travel-Indonesia,-cerita-sebenar-Layanan-Orang-Indonesia-Terhadap-Orang-Malaysia-oXujxayY3-U.mp3',\n",
       " 'PODCAST-CEKAL-BM@6----AKTIVITI-PENULISAN-BAHASA-MELAYU-BAHAGIAN-A-wvqPrBq9KoA.mp3',\n",
       " \"Belajar-Inggeris-Dalam-Bahasa-Melayu---Penambahan-'S'-Pada-Kata-Kerja-17vUZlJNmE8.mp3\",\n",
       " \"PEMULA-_-Belajar-Kosa-Kata-Bahasa-'Malaysia'-(bahasa-melayu)-_-PART-4-0swVLUDln1U.mp3\",\n",
       " 'Tip-Skor-A+-dalam-SPM-Bahasa-Melayu-_ZnpSEffVus.mp3',\n",
       " 'Bahasa-Melayu-(STPM)----Asal-Usul-Bahasa-Melayu---Cikgu-Hjh-Che-Bahagia-Binti-Mat-Arshad-s7yUrKlMfMs.mp3',\n",
       " 'PODCAST-MELAYU-_-MALU-JADI-PENARI-TRADISIONAL-_-HANGKATE-&-HALIM-#part1-DUp3-eoDXDY.mp3',\n",
       " 'Bahasa-Melayu-yang-menjadi-bahasa-kita.-h1x0vRF01wo.mp3',\n",
       " 'Gelap-_-Episod-Penuh-Bing-_-Bing-Bahasa-Melayu-qblrkdiDIB0.mp3',\n",
       " 'Kata-Kerja-Bahasa-Melayu-STPM----Penggunaan-KePOP-I1qzC6vRcOw.mp3',\n",
       " 'Macam-mana-Bahasa-Melayu-Tanpa-Kata-Pinjaman-Asing-(Teka-Beka-Melayu)-QoA1y20tyOw.mp3',\n",
       " 'Tahun-4-_-Bahasa-Melayu-_-Tatabahasa---Kata-Adjektif-98nCidEwxUQ.mp3',\n",
       " 'Bing-_-15-Minit-_-Bing---Bit-Terbaik-_-Bing-Bahasa-Melayu-HOG7VG9wzo4.mp3',\n",
       " 'Eh,-Ada-Podcast-yZfmrVMiFlM.mp3',\n",
       " 'Bahasa-Melayu-Tahun-1-Unit-13-Meriahnya-Perayaan-_-WS-Studio-76IFrzPkK90.mp3',\n",
       " 'PERSAMAAN-BAHASA-INDONESIA-DAN-BAHASA-MALAYSIA-#04-L1PdL8Rm5Fw.mp3',\n",
       " 'Shin-Chan-Malay-Bahasa-Melayu-2020---Bermain-Di-Rumah-Kazama-6odp-hg12PQ.mp3',\n",
       " 'MONA-FANDEY!-AKHIR-PERJALANAN-HIDUP-DUKUN-HITAM-DARI-TANAH-MELAYU-#PODCAST-juMPCZl76YU.mp3',\n",
       " 'Podcast-Eps.-3---Cinta-Sama-Orang-yang-Mustahil-untuk-Dimiliki-ifZoresllkg.mp3',\n",
       " 'Trailer-----Sejarah-Dibalik-Peninggalan-Kerajaan-Melayu-Kuno-wNR-zqwJdfQ.mp3',\n",
       " 'Orang-luar-tak-tahu-MALAYSIA-kat-mana-(Q&A)-buKxhlW0Rr4.mp3',\n",
       " 'Makeup-in-Bahasa-Melayu!-_-Athisha-Khan--rdE2wXOsUg.mp3',\n",
       " 'Bing-Bahasa-Melayu-_-Bing---Bit-Terbaik-_-Bermain-Permainan!-_-10-Minit-3eejV_7ixdU.mp3',\n",
       " 'Koleksi-Lagu-UMMI-_-BAHASA-MELAYU-_-KIDS-SONG-_-ISLAMIC-SONG-_-23-MINUTES-jW4xQDuOZho.mp3',\n",
       " 'TAJUK----ULASAN---BAHASA-MELAYU-TINGKATAN-1---PT3---PUSAT-TUISYEN-AR-PINTAR-itOqGPwrFjk.mp3',\n",
       " 'ORANG-INDONESIA-BELAJAR-DAN-BERCAKAP-BAHASA-MELAYU-UNTUK-PERTAMA-KALI-EPISOD-1-15jkBau0lKQ.mp3',\n",
       " 'PIDATO-BAHASA-MELAYU-SK-DtwI0jIhde4.mp3',\n",
       " 'Bahasa-Malaysia-(Suku-Kata-1)-K7ZW4GADNe0.mp3',\n",
       " 'Bahasa-Melayu-Tahun-1-(Penjodoh-Bilangan)-t3NrY5HauE4.mp3',\n",
       " 'CAKAP-BAHASA-MELAYU-kGLaBQJLWYs.mp3',\n",
       " 'Bahasa-Melayu-Tahun-1-Kata-Tanya-piRwuYAjgYg.mp3',\n",
       " 'PMCO-SEA-Malaysia-Finals-_-VIVO-[MY]-Day-1-(Bahasa-Melayu)-GOe7RBCJPRw.mp3',\n",
       " 'Bahasa-Melayu-SJKC-Tahun-3-Unit-13--ms82-m3mF5vIpVBQ.mp3',\n",
       " 'Single-Player-Game-dah-Pupus!!-_-Cheezie-Buddy-Podcast-EP01-(MALAY)-mbxja_EJhpU.mp3',\n",
       " 'PARTI-MELAYU-BAHARU-TUN-MAHATHIR-_-DIPANDANG-SEPI-KAUM-MELAYU-_-DICURIGAI-KAUM-CINA-BFvv5SrWUTE.mp3',\n",
       " 'Tahun-3-_-Bahasa-Melayu-_-Seni-Bahasa---Syair-WE4LDlM3Syw.mp3',\n",
       " '24-JAM-NGOMONG-PAKE-BAHASA-MELAYU-_-ADE-&-IRA-PdoeYKgOYVs.mp3',\n",
       " 'Tahun-6-_-Bahasa-Melayu-UPSR-_-Tatabahasa---Kata-Hampir-Sama-Makna-G3Y07pzTMrc.mp3',\n",
       " 'Malay(Bahasa-Malaysia)-English---500-most-common-words-in-English-Malay---Bahasa-Inggeris-kiqG1JTWGso.mp3',\n",
       " 'Tahun-6-_-Bahasa-Melayu-UPSR-_-Penulisan---Karangan-Ucapan-5S-e-5e45Ys.mp3',\n",
       " 'Tokmat_podcast-EP002--_Ciri-Ciri-Pemimpin-Dan-Anak-Melayu-Berkualiti--QdxDn_2kG5U.mp3',\n",
       " 'DAP-ANTI-ISLAM-&-MELAYU---Persepsi-Salah-DAP-Sendiri---Dr-Kamarul-Zaman-Yusoff-1hSkvYltrYo.mp3',\n",
       " 'Kerajaan-Kampung-Melayu-Podcast-EP-2-Pintu-_L-nhPETMQk.mp3',\n",
       " 'Tahun-4-_-Bahasa-Melayu-_-Pantun-_zSQr0odLIY.mp3',\n",
       " '17_6_2020-Rabu-(Bahasa-Melayu-Tahun-2)----Isi-Tersurat-dan-Isi-Tersirat-cM5Pc5lGzL4.mp3',\n",
       " 'Learn-Malay-Language-Belajar-Bahasa-Melayu-Ep.1-cMtJYGHsg4E.mp3',\n",
       " 'BAHASA-MELAYU-STPM-SEMESTER-2---ANALISIS-KESALAHAN-BAHASA-fK0DOwEhr6o.mp3',\n",
       " 'Bahasa-Melayu-Tahun-2-Pantun-(muka-surat-30,-47,-52)-mO5inhESjMs.mp3',\n",
       " 'Musim-sejuk-dengan-Bing-_-10-Minit-_-Bing---Bit-Terbaik-_-Bing-Bahasa-Melayu-o8QC-cXvxvs.mp3',\n",
       " 'Kisah-Itik-_-Cerita-Kanak-Kanak-_-Pengembaraan-Merbahaya-_-Kartun-Kanak-_-Bahasa-Melayu-Fairy-Tales-n2pDSe18Vuc.mp3',\n",
       " 'PERBEDAAN-PENGACARA-&-ADVOKAT-_HANGKATE-&-M.FAIZAL,-SH,.MM.-(-ADVOKAT-)_-PODCAST-MELAYU-qDjbYf0mVfQ.mp3',\n",
       " 'TEKA-EJAAN-BAHASA-MELAYU-YANG-BETUL-2-dsBk-ZS6LpQ.mp3',\n",
       " '5-Filem-Malaysia-Paling-Panas-_-BABAK-RANJANG,-SEKS-DAN-SEKSI-dRDg7Y8AKE0.mp3',\n",
       " 'Karangan-Bahasa-Melayu-_-Cara-cara-Menghuraikan-Isi-Karangan-Am54edA3sLI.mp3',\n",
       " 'Chapter-2----Rahsia-5-Elemen-KERAJAAN-Diri-BGdRkDsiV0w.mp3',\n",
       " 'Comparison-between-Bahasa-Melayu-and-Bahasa-Indonesia-jgax05Qb-fw.mp3',\n",
       " 'Medan-Kereta-_-Episod-Penuh-Bing-_-Bing-Bahasa-Melayu-q82OhdAnkjE.mp3',\n",
       " 'Bing-Bahasa-Melayu-_-Episod-Penuh-Bing-_-35+-Minit-_-Eps-61-65-FAxXs9oZY2E.mp3',\n",
       " 'KEPALA-OTAK-[PODCAST-MALAYSIA]-bNhipBY1PGk.mp3',\n",
       " 'Bing-Bahasa-Melayu-_-Episod-Penuh-Bing-_-35+-Minit-_-Eps-65-70-9mpfUhO8Si0.mp3',\n",
       " 'Dandelion-_-Episod-Penuh-Bing-_-Bing-Bahasa-Melayu-x24KCgB-YZg.mp3',\n",
       " 'Malu-jika-tidak-menguasai-bahasa-melayu-bbXEEmhOw8k.mp3',\n",
       " 'Contoh-video-8-minit-IPG---Bahasa-Melayu-FaSpiElUfYw.mp3',\n",
       " 'Bahasa-Melayu-Tahun-1-Unit-10-_-Soalan-Quizizz-_-WS-Studio-eL0qXRCyX6c.mp3',\n",
       " 'Podcast-Orang-Miskin---Lima-Filem-Malaysia-Terbaik-NEo2K9sSy_s.mp3',\n",
       " 'Pasal-sambal-belacan-gaes-Melayu-lingga-TfhA0FeEDfs.mp3',\n",
       " \"S.S.K-qlique-Malay-podcast-(vocal-only)-'first-kelakar-podcast-uPwlc64fkIM.mp3\",\n",
       " 'Belajar-bahasa-Malaysia-(Bagian-2)-rO2jIE_Xt1s.mp3',\n",
       " 'Bahasa-Melayu---Tahun-3---Kata-Ganda-Separa-zf73wbPK-J4.mp3',\n",
       " 'Berdandan-_-Episod-Penuh-Bing-_-Bing-Bahasa-Melayu-ZbksyIAQlRg.mp3',\n",
       " 'PODCAST-Voice-to-Vision-Ep1----WAWASAN-PENTING-KE-8M0dmnylayA.mp3',\n",
       " 'Kelas-@-Rumah-(Bahasa-Melayu)-lprQK5MZuLQ.mp3',\n",
       " 'Shin-Chan-Malay-Bahasa-Melayu-2020---Hari-Yg-Panas-9nGlVKtwdZk.mp3',\n",
       " 'Malay-Tongue-Twister---Ayat-Bahasa-Melayu-yang-Belit-Lidah-DJ9-raLW0xc.mp3',\n",
       " 'Buaian-_-Episod-Penuh-Bing-_-Bing-Bahasa-Melayu-5g6IBXRDnM0.mp3',\n",
       " 'Bung-Mokhtar-sindir-kelancaran-Bahasa-Melayu-MP-Tawau-gNKsA24ioEs.mp3',\n",
       " 'Mari-Belajar-Mengeja-_-Dunia-Haiwan-_-Membaca-Suku-Kata-_-Bahasa-Melayu-_-Melayu-dan-English-fU9rv5nA1w8.mp3',\n",
       " 'Bahasa-Melayu-Tahun-1-Kata-Perintah-(buku-teks-muka-surat-70)-mSF_np1S7n8.mp3',\n",
       " 'MUAFAKAT-NASIONAL-Umno-Pas,-TINGGALKAN-Pengundi-BUKAN-MELAYU-Komen-Dr-Kamarul-Zaman-Yusoff-S6TXoRx8Nes.mp3',\n",
       " 'Tahun-2-_-Bahasa-Melayu-_-Tatabahasa---Kata-Perintah-dan-Ayat-Perintah-e4xQj119KVw.mp3',\n",
       " '(Edisi-Bahasa-Melayu)-Wang-Kertas-Malaysia-RM1-Siri-5-jual-RM5,000Malaysia-Banknote-RM1-sold-RM5k--iqBWMj9dGE.mp3',\n",
       " 'Memasak-_-Episod-Penuh-Bing-_-Bing-Bahasa-Melayu-GWGIDg8ipUA.mp3',\n",
       " '[PODCAST]-The-Najib-Razak-1MDB-Trial-EP-14---Bossku-the-bulldozer-dIxd4zqTBA8.mp3',\n",
       " 'Learn-Malay-language-(Belajar-Bahasa-Melayu)--Part-1-(Bahagian-1)-WHywikmyifA.mp3',\n",
       " 'Bahasa-Melayu-🇲🇾-vs-Bahasa-Indonesia-🇮🇩-READY,-FIGHT!-_oEbQS11iBs.mp3',\n",
       " 'Q-&-A-(Jadi-backpacker-ni-tak-ada-masa-depan)-_-Podcast-Malaysia-uCg5WeQ34rM.mp3',\n",
       " 'BAHASA-MELAYU-TINGKATAN-5---KARANGAN-COVID-19-m3nVBJGNlK4.mp3',\n",
       " 'Bahasa-Melayu-STPM-910_2-Definisi-Morfologi-dan-Morfem.-Sila-Like-&-SUBSCRIBE.-C5uykh0Sjnc.mp3',\n",
       " 'Lawak-lucu-bahasa-melayu-langkat-hilir-j8rb_wOZvyU.mp3',\n",
       " 'KECOH-!!-ISTERI-KOREA-BOLEH-CAKAP-BAHASA-MELAYU-Ceh1pMPIMn8.mp3',\n",
       " 'Tahun-2-_-Bahasa-Melayu-_-Tanda-Baca-J3ZP_FVRZk4.mp3',\n",
       " 'Belajar-Bahasa-Inggeris---Contoh-Kesalahan-Ayat-_-Belajar-Dalam-Bahasa-Melayu-zOLNAj1R28A.mp3',\n",
       " \"PEREMPUAN-'TRASH'-TAKKAN-DENGAR-PODCAST-NI!---Podcast-Cinta-Malaysia-EP-01-IT6L99lnloE.mp3\",\n",
       " 'Pening-_-Episod-Penuh-Bing-_-Bing-Bahasa-Melayu-_ZPc62fZ7p8.mp3',\n",
       " 'EduwebTV---BAHASA-MELAYU-SPM---Mengenal-Pasti-Kesalahan-Ayat-(Ejaan-dan-Imbuhan)-RrbKelny1XE.mp3',\n",
       " 'Ais-Krim-_-Episod-Penuh-Bing-_-Bing-Bahasa-Melayu--8Z4d4vU9D4.mp3',\n",
       " 'Daily-Vlog-#10-_-Bahasa-Indonesia-VS-Bahasa-Melayu-kEXrGfn6oF4.mp3',\n",
       " 'Episod-Penuh-Bing-_-35+-Minit-_-Eps-31-35-_-Bing-Bahasa-Melayu-dn0mDC9XaoE.mp3',\n",
       " 'TEKNIK-MENJAWAB-BAHASA-MELAYU-KERTAS-1-SPM-PzzbAbo-1OE.mp3',\n",
       " 'BERLLIANA-LOVELL-BANGGA-JADI-SI-CEWEK-SEKSI-MONTOK-PEMERSATU-BANGSA-PUNYA-SENSASI-TERSENDIRI-8PoU7Sk_xUQ.mp3',\n",
       " 'PODCAST-Ni-Apa-Oi!-_-Seminit-Hartanah-gsdjh9KXWjg.mp3',\n",
       " 'Lagu-Wonderpets-versi-Bahasa-Melayu-_XEQO1LR28k.mp3',\n",
       " 'PODCAST-CEKAL-BM@6-BERSAMA-JOHOR-FM----BAHASA-MELAYU-PENULISAN-BAHAGIAN-A-pJ__pBp_4MU.mp3',\n",
       " 'Doa-Selepas-Solat,-Bahasa-Melayu-vj3HloiAsLw.mp3',\n",
       " 'Belajar-Bahasa-Inggris-Dalam-Bahasa-Melayu-_-Cara-Mudah-&-Cepat-vBY1GwAZlX4.mp3',\n",
       " 'Tahun-4-_-Bahasa-Melayu-_-Soalan-Pemahaman-9i5k2-hEsZA.mp3',\n",
       " 'Learn-Malay-Language-(Bahasa-Melayu)-6-QHlCPpRPg-A.mp3',\n",
       " 'Ngaji-Filsafat-272----Kiai-Sholeh-Darat-As-Samarani-DZoQMw8e65Q.mp3',\n",
       " 'Tersangkut-_-Episod-Penuh-Bing-_-Bing-Bahasa-Melayu-IxN5vp7qx8w.mp3',\n",
       " 'Pokok-_-Episod-Penuh-Bing-_-Bing-Bahasa-Melayu-hzxTAiNTQx8.mp3',\n",
       " 'Katak-_-Episod-Penuh-Bing-_-Bing-Bahasa-Melayu-yjMirGCU054.mp3',\n",
       " 'Robocar-Poli---Salji-Dan-Peraturan-Keselamatan-[Bahasa-Melayu]-33F771NGNxw.mp3',\n",
       " 'NINA-BOBO-PODCAST---KISAH-HANTU-PALING-SERAM-ADAWJv6LFZQ.mp3',\n",
       " 'MALAYSIA-VS-INDONESIA-(PERBEDAAN-BUKAN-PERSELISIHAN!)-n67d4vHUJW8.mp3',\n",
       " 'Bahasa-melayu-Morfologi-bahasa-NUl1KdlKQ74.mp3',\n",
       " 'Bahasa-Baku-di-Malaysia-NUltPQRegzE.mp3',\n",
       " 'Rahsia-Kasino-Genting-Pertama-di-Malaysia-Diluluskan-Kerajaan-Pahang-&-Selangor-Untuk-Lim-Goh-Tong-jyHA2PB5Of4.mp3',\n",
       " 'PODCAST-CEKAL-BM@6----BAHASA-MELAYU-PENULISAN-BAHAGIAN-B-_HavFFzQOcQ.mp3',\n",
       " 'Tahun-4-_-Bahasa-Melayu-_-Bahan-Grafik-z8sQDmagmrI.mp3',\n",
       " 'Menyedihkan,-Menteri-Melayu-Pun-Cakap-Bahasa-Melayu-Rojak---Tan-Sri-Johan-Jaaffar-0UKIEc1ZW4Q.mp3',\n",
       " 'Cara-Mudah-Belajar-Bahasa-Melayu-Sarawak-fmn_fz_YroE.mp3',\n",
       " 'Bukan-Milik-awak-_-Episod-Penuh-Bing-_-Bing-Bahasa-Melayu-l_Wu_Y5IwRs.mp3',\n",
       " 'CITA-CITA-MASA-KECIK-&-WHAT-TELAH-HAPPEN-7QvwHr5RrrY.mp3',\n",
       " 'Tahun-1-_-Bahasa-Melayu-_-Tatabahasa---Simpulan-Bahasa-lrN-1FXfp7s.mp3',\n",
       " 'Mari-Belajar-Suku-Kata---3D-Animasi-(DVD-Version)-ikRNErwR0pc.mp3',\n",
       " 'Kenapa-Rakyat-Malaysia-Kata-Anak-Muda-Pemalas-betul-ke-ini-jawapan-logiknya.-_G0AV5P-vMM.mp3',\n",
       " 'Macam-macam-dialek-bahasa-melayu-Indonesia-4JY6X6mAOtE.mp3',\n",
       " 'BAHASA-MELAYU-STPM-SEM-1---SUKATAN-PELAJARAN-SEMESTER-1-Y19q2kL2Vu8.mp3',\n",
       " 'Rama-rama-_-Episod-Penuh-Bing-_-Bing-Bahasa-Melayu-cbNAAtbd9gQ.mp3',\n",
       " 'Lagu-ABC-Bahasa-Malaysia-_-Alfabet-Bahasa-Melayu-_-Lagu-Kanak-Kanak-TV-U8Sc8aRtIsc.mp3',\n",
       " 'Kerajaan-Kampung-Melayu-Podcast-Ep-4-z2dye7BMdDw.mp3',\n",
       " 'Moshed-Podcast-Show-Ep-1----Founder-Tanah-Melayu,-Bangunkan-Brand-dengan-Kenali-Potensi-Diri-b-KMUazDa8s.mp3',\n",
       " 'Siri-Hagemaru-Bahasa-Melayu-ERooKMnX-6Y.mp3',\n",
       " 'Fotograf---Di-Alam-Fana-Cintamu-(HQ-Audio-&-Ori-Recording)-IwH8onnP42Q.mp3',\n",
       " 'Learn-Basic-Malay!-Bahasa-Melayu---Vlog-UJXfrENXkaM.mp3',\n",
       " 'TUTORIAL-LOGAT-BAHASA-MELAYU-MALAYSIA-!!!-UPINIPIN-sMWWYHIzoX4.mp3',\n",
       " 'BAHASA-MELAYU-VLOG-_--ZALORAYA2018-1I5ZZoCFXbU.mp3',\n",
       " 'Bahasa-Melayu-Tahun-1-Kata-Arah-(Buku-Teks-muka-surat-64)-7D48NK9EKxc.mp3',\n",
       " 'Tahun-3-_-Bahasa-Melayu-_-Tatabahasa---Kata-Tanya-dan-Ayat-Tanya-O0W1nCnTNGw.mp3',\n",
       " 'Tahun-1-_-Bahasa-Melayu_-Huruf-zEwovG3IwGk.mp3',\n",
       " 'Gossip-Mossip-Mak-Jemah-Berjogging-r7oUMqf-c0A.mp3']"
      ]
     },
     "execution_count": 4,
     "metadata": {},
     "output_type": "execute_result"
    }
   ],
   "source": [
    "for file in files:\n",
    "    mp3 = file.replace(' ', '-')\n",
    "    if mp3 != file:\n",
    "        os.replace(file, mp3)\n",
    "        \n",
    "files = glob('*.mp3')\n",
    "rejected = ['lyrics', 'beyblade', 'dub', 'bare bear', 'chibi', 'namewee', 'ultraman', 'terjemahan']\n",
    "files = [f for f in files if all([r not in f.lower() for r in rejected])]\n",
    "files"
   ]
  },
  {
   "cell_type": "code",
   "execution_count": 5,
   "metadata": {},
   "outputs": [],
   "source": [
    "from pydub import AudioSegment\n",
    "from pydub.silence import split_on_silence, detect_nonsilent\n",
    "import os"
   ]
  },
  {
   "cell_type": "code",
   "execution_count": 6,
   "metadata": {},
   "outputs": [],
   "source": [
    "import speech_recognition as sr\n",
    "import os\n",
    "import uuid\n",
    "\n",
    "r = sr.Recognizer()"
   ]
  },
  {
   "cell_type": "code",
   "execution_count": 7,
   "metadata": {},
   "outputs": [],
   "source": [
    "def audiosegment_google_speech(audio, filename):\n",
    "    if os.path.exists('output-wav/' + filename):\n",
    "        return False\n",
    "    \n",
    "    audio.export(filename, format=\"wav\")\n",
    "    try:\n",
    "        with sr.AudioFile(filename) as source:\n",
    "            audio = r.record(source)\n",
    "\n",
    "        text = r.recognize_google(audio,language=\"ms\")\n",
    "    except:\n",
    "        text = ''\n",
    "        \n",
    "    if len(text):\n",
    "        text_filename = f'output-text/{filename}.txt'\n",
    "        with open(text_filename, 'w') as fopen:\n",
    "            fopen.write(text)\n",
    "            \n",
    "        os.replace(filename, 'output-wav/' + filename)\n",
    "        \n",
    "    else:\n",
    "        os.remove(filename)\n",
    "    \n",
    "    return True"
   ]
  },
  {
   "cell_type": "code",
   "execution_count": 8,
   "metadata": {},
   "outputs": [],
   "source": [
    "def split(file, min_silence_len=50, silence_thresh=-20, max_len = 20, keep_silence = 500):\n",
    "    audio = AudioSegment.from_mp3(file)\n",
    "    audio_chunks = split_on_silence(audio, min_silence_len=min_silence_len, silence_thresh=silence_thresh,\n",
    "                                   keep_silence = keep_silence)\n",
    "    \n",
    "    audios, temp, length = [], [], 0\n",
    "    for i in range(len(audio_chunks)):\n",
    "        if length + audio_chunks[i].duration_seconds >= max_len and len(temp):\n",
    "            audios.append(sum(temp))\n",
    "            temp = []\n",
    "            length = 0\n",
    "        temp.append(audio_chunks[i])\n",
    "        length += audio_chunks[i].duration_seconds\n",
    "\n",
    "    if len(temp):\n",
    "        audios.append(sum(temp))\n",
    "        \n",
    "    return audios, audio"
   ]
  },
  {
   "cell_type": "code",
   "execution_count": null,
   "metadata": {},
   "outputs": [
    {
     "name": "stderr",
     "output_type": "stream",
     "text": [
      "\r",
      "  0%|          | 0/71 [00:00<?, ?it/s]"
     ]
    },
    {
     "name": "stdout",
     "output_type": "stream",
     "text": [
      "Kisah-Hidup-Nabi-Isa-(Yesus-Kristus)---Bahasa-Melayu-The-Jesus-Film---Malay-Language-pBJ9_svTDpY.mp3 71\n"
     ]
    },
    {
     "name": "stderr",
     "output_type": "stream",
     "text": [
      "100%|██████████| 71/71 [03:34<00:00,  3.02s/it]\n"
     ]
    },
    {
     "name": "stdout",
     "output_type": "stream",
     "text": [
      "DONE: 1 / 405\n"
     ]
    },
    {
     "name": "stderr",
     "output_type": "stream",
     "text": [
      "\r",
      "  0%|          | 0/5 [00:00<?, ?it/s]"
     ]
    },
    {
     "name": "stdout",
     "output_type": "stream",
     "text": [
      "Tahun-4-_-Bahasa-Melayu-_-Penulisan---Karangan-Dialog-e8u_d2Sp8c0.mp3 5\n"
     ]
    },
    {
     "name": "stderr",
     "output_type": "stream",
     "text": [
      "100%|██████████| 5/5 [00:13<00:00,  2.61s/it]\n"
     ]
    },
    {
     "name": "stdout",
     "output_type": "stream",
     "text": [
      "DONE: 2 / 405\n"
     ]
    },
    {
     "name": "stderr",
     "output_type": "stream",
     "text": [
      "\r",
      "  0%|          | 0/30 [00:00<?, ?it/s]"
     ]
    },
    {
     "name": "stdout",
     "output_type": "stream",
     "text": [
      "BAHASA-MALAYSIA-(-MELAYU-)-VERSUS-BAHASA-INDONESIA-bL9P1kAsGVU.mp3 30\n"
     ]
    },
    {
     "name": "stderr",
     "output_type": "stream",
     "text": [
      "100%|██████████| 30/30 [01:05<00:00,  2.20s/it]\n"
     ]
    },
    {
     "name": "stdout",
     "output_type": "stream",
     "text": [
      "DONE: 3 / 405\n"
     ]
    },
    {
     "name": "stderr",
     "output_type": "stream",
     "text": [
      "\r",
      "  0%|          | 0/39 [00:00<?, ?it/s]"
     ]
    },
    {
     "name": "stdout",
     "output_type": "stream",
     "text": [
      "BAHASA-MELAYU-STPM-SEMESTER-1---SEJARAH-DAN-PERKEMBANGAN-BAHASA-MELAYU-ASAL-USUL-BAHASA-MELAYU-RbmJf5jg8fw.mp3 39\n"
     ]
    },
    {
     "name": "stderr",
     "output_type": "stream",
     "text": [
      "100%|██████████| 39/39 [02:25<00:00,  3.72s/it]\n"
     ]
    },
    {
     "name": "stdout",
     "output_type": "stream",
     "text": [
      "DONE: 4 / 405\n"
     ]
    },
    {
     "name": "stderr",
     "output_type": "stream",
     "text": [
      "\r",
      "  0%|          | 0/10 [00:00<?, ?it/s]"
     ]
    },
    {
     "name": "stdout",
     "output_type": "stream",
     "text": [
      "Tugas-dialog-bahasa-melayu-ll-P53twESK8Ao.mp3 10\n"
     ]
    },
    {
     "name": "stderr",
     "output_type": "stream",
     "text": [
      "100%|██████████| 10/10 [01:11<00:00,  7.19s/it]\n"
     ]
    },
    {
     "name": "stdout",
     "output_type": "stream",
     "text": [
      "DONE: 5 / 405\n"
     ]
    },
    {
     "name": "stderr",
     "output_type": "stream",
     "text": [
      "\r",
      "  0%|          | 0/8 [00:00<?, ?it/s]"
     ]
    },
    {
     "name": "stdout",
     "output_type": "stream",
     "text": [
      "EP-6---Paddle-Pop-Atlantos-2-(Bahasa-Melayu)-_-Bertukar-Roh-0LCTXHvFI6w.mp3 8\n"
     ]
    },
    {
     "name": "stderr",
     "output_type": "stream",
     "text": [
      "100%|██████████| 8/8 [00:28<00:00,  3.59s/it]\n"
     ]
    },
    {
     "name": "stdout",
     "output_type": "stream",
     "text": [
      "DONE: 6 / 405\n"
     ]
    },
    {
     "name": "stderr",
     "output_type": "stream",
     "text": [
      "\r",
      "  0%|          | 0/20 [00:00<?, ?it/s]"
     ]
    },
    {
     "name": "stdout",
     "output_type": "stream",
     "text": [
      "Kenapa-Nama-Planet-Inggeris-Lain-dengan-Bahasa-Melayu-_01PqAhhha4.mp3 20\n"
     ]
    },
    {
     "name": "stderr",
     "output_type": "stream",
     "text": [
      "100%|██████████| 20/20 [01:20<00:00,  4.02s/it]\n"
     ]
    },
    {
     "name": "stdout",
     "output_type": "stream",
     "text": [
      "DONE: 7 / 405\n"
     ]
    },
    {
     "name": "stderr",
     "output_type": "stream",
     "text": [
      "\r",
      "  0%|          | 0/11 [00:00<?, ?it/s]"
     ]
    },
    {
     "name": "stdout",
     "output_type": "stream",
     "text": [
      "Bahasa-Melayu-Hilang-Dari-Radar-hhWOc0W8-xs.mp3 11\n"
     ]
    },
    {
     "name": "stderr",
     "output_type": "stream",
     "text": [
      "100%|██████████| 11/11 [00:50<00:00,  4.61s/it]\n"
     ]
    },
    {
     "name": "stdout",
     "output_type": "stream",
     "text": [
      "DONE: 8 / 405\n"
     ]
    },
    {
     "name": "stderr",
     "output_type": "stream",
     "text": [
      "\r",
      "  0%|          | 0/32 [00:00<?, ?it/s]"
     ]
    },
    {
     "name": "stdout",
     "output_type": "stream",
     "text": [
      "Robocar-Poli-Bahasa-Melayu---Max-Mendapat-Ikan-(-Episod-22-)-Mh-rczvC7Nk.mp3 32\n"
     ]
    },
    {
     "name": "stderr",
     "output_type": "stream",
     "text": [
      "100%|██████████| 32/32 [02:37<00:00,  4.91s/it]\n"
     ]
    },
    {
     "name": "stdout",
     "output_type": "stream",
     "text": [
      "DONE: 9 / 405\n"
     ]
    },
    {
     "name": "stderr",
     "output_type": "stream",
     "text": [
      "\r",
      "  0%|          | 0/8 [00:00<?, ?it/s]"
     ]
    },
    {
     "name": "stdout",
     "output_type": "stream",
     "text": [
      "Cikgu-Nawi----Susunan-Ayat-dalam-Bahasa-Melayu-STPM-9BQ6riWuMm8.mp3 8\n"
     ]
    },
    {
     "name": "stderr",
     "output_type": "stream",
     "text": [
      "100%|██████████| 8/8 [00:28<00:00,  3.53s/it]\n"
     ]
    },
    {
     "name": "stdout",
     "output_type": "stream",
     "text": [
      "DONE: 10 / 405\n"
     ]
    },
    {
     "name": "stderr",
     "output_type": "stream",
     "text": [
      "\r",
      "  0%|          | 0/2 [00:00<?, ?it/s]"
     ]
    },
    {
     "name": "stdout",
     "output_type": "stream",
     "text": [
      "Sembunyi-_-Episod-Penuh-Bing-_-Bing-Bahasa-Melayu-UYPm4oR1c0k.mp3 2\n"
     ]
    },
    {
     "name": "stderr",
     "output_type": "stream",
     "text": [
      "100%|██████████| 2/2 [00:05<00:00,  2.62s/it]\n"
     ]
    },
    {
     "name": "stdout",
     "output_type": "stream",
     "text": [
      "DONE: 11 / 405\n"
     ]
    },
    {
     "name": "stderr",
     "output_type": "stream",
     "text": [
      "\r",
      "  0%|          | 0/20 [00:00<?, ?it/s]"
     ]
    },
    {
     "name": "stdout",
     "output_type": "stream",
     "text": [
      "language-shock-PERTAMA-KALI-BELAJAR-BAHASA-MALAYSIA-.-MENURUT-SAYA-BAHASA-MALAYSIA-ITU........!!!-KCHV0GGuDxo.mp3 20\n"
     ]
    },
    {
     "name": "stderr",
     "output_type": "stream",
     "text": [
      "100%|██████████| 20/20 [00:38<00:00,  1.94s/it]\n"
     ]
    },
    {
     "name": "stdout",
     "output_type": "stream",
     "text": [
      "DONE: 12 / 405\n"
     ]
    },
    {
     "name": "stderr",
     "output_type": "stream",
     "text": [
      "\r",
      "  0%|          | 0/10 [00:00<?, ?it/s]"
     ]
    },
    {
     "name": "stdout",
     "output_type": "stream",
     "text": [
      "Bahasa-Melayu--Tahun-3-KSSR--Buku-Teks-pg49-Ezb6phh06bc.mp3 10\n"
     ]
    },
    {
     "name": "stderr",
     "output_type": "stream",
     "text": [
      "100%|██████████| 10/10 [01:24<00:00,  8.43s/it]\n"
     ]
    },
    {
     "name": "stdout",
     "output_type": "stream",
     "text": [
      "DONE: 13 / 405\n"
     ]
    },
    {
     "name": "stderr",
     "output_type": "stream",
     "text": [
      "\r",
      "  0%|          | 0/201 [00:00<?, ?it/s]"
     ]
    },
    {
     "name": "stdout",
     "output_type": "stream",
     "text": [
      "Anak-Suka-MAKAN-RAMBUT-Saya-Rupanya-ADA-HANTU-Dalam-Badannya-_-Mahluk-Jambatan-DESARU-_-2-Jan-2020-lfvwdm9YSX4.mp3 201\n"
     ]
    },
    {
     "name": "stderr",
     "output_type": "stream",
     "text": [
      "100%|██████████| 201/201 [11:17<00:00,  3.37s/it]\n"
     ]
    },
    {
     "name": "stdout",
     "output_type": "stream",
     "text": [
      "DONE: 14 / 405\n"
     ]
    },
    {
     "name": "stderr",
     "output_type": "stream",
     "text": [
      "\r",
      "  0%|          | 0/100 [00:00<?, ?it/s]"
     ]
    },
    {
     "name": "stdout",
     "output_type": "stream",
     "text": [
      "Let's-Go---LDR,-Bayar-Sama-Rata-&-Hantaran...-Again-sgN2PdiB1eo.mp3 100\n"
     ]
    },
    {
     "name": "stderr",
     "output_type": "stream",
     "text": [
      "100%|██████████| 100/100 [16:11<00:00,  9.71s/it]\n"
     ]
    },
    {
     "name": "stdout",
     "output_type": "stream",
     "text": [
      "DONE: 15 / 405\n"
     ]
    },
    {
     "name": "stderr",
     "output_type": "stream",
     "text": [
      "\r",
      "  0%|          | 0/12 [00:00<?, ?it/s]"
     ]
    },
    {
     "name": "stdout",
     "output_type": "stream",
     "text": [
      "10-Beza-Bahasa-Malaysia-&-Indonesia-Yang-Mengelirukan-Makna-Kita-_-Bahasa-Melayu-_-Fakta-Faheem-#74-iDbXIX4w-NI.mp3 12\n"
     ]
    },
    {
     "name": "stderr",
     "output_type": "stream",
     "text": [
      "100%|██████████| 12/12 [00:36<00:00,  3.08s/it]\n"
     ]
    },
    {
     "name": "stdout",
     "output_type": "stream",
     "text": [
      "DONE: 16 / 405\n"
     ]
    },
    {
     "name": "stderr",
     "output_type": "stream",
     "text": [
      "\r",
      "  0%|          | 0/2 [00:00<?, ?it/s]"
     ]
    },
    {
     "name": "stdout",
     "output_type": "stream",
     "text": [
      "Milik-Saya-_-Episod-Penuh-Bing-_-Bing-Bahasa-Melayu-iowWPlMLRVk.mp3 2\n"
     ]
    },
    {
     "name": "stderr",
     "output_type": "stream",
     "text": [
      "100%|██████████| 2/2 [00:21<00:00, 10.60s/it]\n"
     ]
    },
    {
     "name": "stdout",
     "output_type": "stream",
     "text": [
      "DONE: 17 / 405\n"
     ]
    },
    {
     "name": "stderr",
     "output_type": "stream",
     "text": [
      "\r",
      "  0%|          | 0/8 [00:00<?, ?it/s]"
     ]
    },
    {
     "name": "stdout",
     "output_type": "stream",
     "text": [
      "BISMILLAH-ALHAMDULILLAH-_-BAHASA-MALAYSIA-_-KIDS-SONG-_-ISLAMIC-SONG-p34ZBqI5W_0.mp3 8\n"
     ]
    },
    {
     "name": "stderr",
     "output_type": "stream",
     "text": [
      "100%|██████████| 8/8 [01:03<00:00,  7.93s/it]\n"
     ]
    },
    {
     "name": "stdout",
     "output_type": "stream",
     "text": [
      "DONE: 18 / 405\n"
     ]
    },
    {
     "name": "stderr",
     "output_type": "stream",
     "text": [
      "\r",
      "  0%|          | 0/101 [00:00<?, ?it/s]"
     ]
    },
    {
     "name": "stdout",
     "output_type": "stream",
     "text": [
      "HARGA-HANTARAN-15K-&-SAMPAI-BERHUTANG!-BVLUvzbNDFc.mp3 101\n"
     ]
    },
    {
     "name": "stderr",
     "output_type": "stream",
     "text": [
      "100%|██████████| 101/101 [13:55<00:00,  8.27s/it]\n"
     ]
    },
    {
     "name": "stdout",
     "output_type": "stream",
     "text": [
      "DONE: 19 / 405\n"
     ]
    },
    {
     "name": "stderr",
     "output_type": "stream",
     "text": [
      "\r",
      "  0%|          | 0/140 [00:00<?, ?it/s]"
     ]
    },
    {
     "name": "stdout",
     "output_type": "stream",
     "text": [
      "PODCAST-MELAYU_GENERASI-MUDA---KERJA-ITU-SAMPINGAN,-USAHA-YG-UTAMA-_HANGKATE-&-NUVES-(MANDIRI-TASPEN)-xX-0RhkTIWM.mp3 140\n"
     ]
    },
    {
     "name": "stderr",
     "output_type": "stream",
     "text": [
      "100%|██████████| 140/140 [16:50<00:00,  7.22s/it]\n"
     ]
    },
    {
     "name": "stdout",
     "output_type": "stream",
     "text": [
      "DONE: 20 / 405\n"
     ]
    },
    {
     "name": "stderr",
     "output_type": "stream",
     "text": [
      "\r",
      "  0%|          | 0/2 [00:00<?, ?it/s]"
     ]
    },
    {
     "name": "stdout",
     "output_type": "stream",
     "text": [
      "Tahun-3-_-Bahasa-Melayu-_-Tatabahasa---Kata-Seru-dan-Ayat-Seruan-lgudS-zQcqM.mp3 2\n"
     ]
    },
    {
     "name": "stderr",
     "output_type": "stream",
     "text": [
      "100%|██████████| 2/2 [00:03<00:00,  1.70s/it]\n"
     ]
    },
    {
     "name": "stdout",
     "output_type": "stream",
     "text": [
      "DONE: 21 / 405\n"
     ]
    },
    {
     "name": "stderr",
     "output_type": "stream",
     "text": [
      "\r",
      "  0%|          | 0/1 [00:00<?, ?it/s]"
     ]
    },
    {
     "name": "stdout",
     "output_type": "stream",
     "text": [
      "Nafas-Naga-_-Episod-Penuh-Bing-_-Bing-Bahasa-Melayu-93jw2ozzDQg.mp3 1\n"
     ]
    },
    {
     "name": "stderr",
     "output_type": "stream",
     "text": [
      "100%|██████████| 1/1 [00:05<00:00,  5.61s/it]\n"
     ]
    },
    {
     "name": "stdout",
     "output_type": "stream",
     "text": [
      "DONE: 22 / 405\n"
     ]
    },
    {
     "name": "stderr",
     "output_type": "stream",
     "text": [
      "\r",
      "  0%|          | 0/45 [00:00<?, ?it/s]"
     ]
    },
    {
     "name": "stdout",
     "output_type": "stream",
     "text": [
      "Bahasa-Melayu-Tahun-1-pg7-17-DtwclZL4lZI.mp3 45\n"
     ]
    },
    {
     "name": "stderr",
     "output_type": "stream",
     "text": [
      "100%|██████████| 45/45 [02:42<00:00,  3.61s/it]\n"
     ]
    },
    {
     "name": "stdout",
     "output_type": "stream",
     "text": [
      "DONE: 23 / 405\n"
     ]
    },
    {
     "name": "stderr",
     "output_type": "stream",
     "text": [
      "0it [00:00, ?it/s]"
     ]
    },
    {
     "name": "stdout",
     "output_type": "stream",
     "text": [
      "Shin-Chan-Malay-Bahasa-Melayu-2020---Biskut-Mak-Masao-gp-1S4TIiKM.mp3 0\n",
      "DONE: 24 / 405\n"
     ]
    },
    {
     "name": "stderr",
     "output_type": "stream",
     "text": [
      "\n",
      "  0%|          | 0/34 [00:00<?, ?it/s]"
     ]
    },
    {
     "name": "stdout",
     "output_type": "stream",
     "text": [
      "TUTORIAL-GRABCAR-2019-(Bahasa-Melayu)-#3-6NM9bAJwLr8.mp3 34\n"
     ]
    },
    {
     "name": "stderr",
     "output_type": "stream",
     "text": [
      "100%|██████████| 34/34 [01:26<00:00,  2.55s/it]\n"
     ]
    },
    {
     "name": "stdout",
     "output_type": "stream",
     "text": [
      "DONE: 25 / 405\n"
     ]
    },
    {
     "name": "stderr",
     "output_type": "stream",
     "text": [
      "\r",
      "  0%|          | 0/1 [00:00<?, ?it/s]"
     ]
    },
    {
     "name": "stdout",
     "output_type": "stream",
     "text": [
      "Tahun-4-_-Bahasa-Melayu-_-Analisis-Karya-Bukan-Sastera-ZM6jBMEs2Co.mp3 1\n"
     ]
    },
    {
     "name": "stderr",
     "output_type": "stream",
     "text": [
      "100%|██████████| 1/1 [00:01<00:00,  1.72s/it]\n"
     ]
    },
    {
     "name": "stdout",
     "output_type": "stream",
     "text": [
      "DONE: 26 / 405\n"
     ]
    },
    {
     "name": "stderr",
     "output_type": "stream",
     "text": [
      "\r",
      "  0%|          | 0/367 [00:00<?, ?it/s]"
     ]
    },
    {
     "name": "stdout",
     "output_type": "stream",
     "text": [
      "NINA-BOBO-PODCAST---CERITA-MALAM-JUMAAT-MB0xFoYcL6c.mp3 367\n"
     ]
    },
    {
     "name": "stderr",
     "output_type": "stream",
     "text": [
      "100%|██████████| 367/367 [29:10<00:00,  4.77s/it]\n"
     ]
    },
    {
     "name": "stdout",
     "output_type": "stream",
     "text": [
      "DONE: 27 / 405\n"
     ]
    },
    {
     "name": "stderr",
     "output_type": "stream",
     "text": [
      "\r",
      "  0%|          | 0/32 [00:00<?, ?it/s]"
     ]
    },
    {
     "name": "stdout",
     "output_type": "stream",
     "text": [
      "Literasi-Bahasa-Melayu---Konstruk-2-LINUS---Membaca-&-Menulis-Tahap-1-Sekolah-Rendah-EDhpBPX5XYI.mp3 32\n"
     ]
    },
    {
     "name": "stderr",
     "output_type": "stream",
     "text": [
      "100%|██████████| 32/32 [01:03<00:00,  1.97s/it]\n"
     ]
    },
    {
     "name": "stdout",
     "output_type": "stream",
     "text": [
      "DONE: 28 / 405\n"
     ]
    },
    {
     "name": "stderr",
     "output_type": "stream",
     "text": [
      "\r",
      "  0%|          | 0/10 [00:00<?, ?it/s]"
     ]
    },
    {
     "name": "stdout",
     "output_type": "stream",
     "text": [
      "Episod-Penuh-Bing-_-35+-Minit-_-Eps-56-60-_-Bing-Bahasa-Melayu-EFZorHibJ1E.mp3 10\n"
     ]
    },
    {
     "name": "stderr",
     "output_type": "stream",
     "text": [
      "100%|██████████| 10/10 [01:04<00:00,  6.40s/it]\n"
     ]
    },
    {
     "name": "stdout",
     "output_type": "stream",
     "text": [
      "DONE: 29 / 405\n"
     ]
    },
    {
     "name": "stderr",
     "output_type": "stream",
     "text": [
      "\r",
      "  0%|          | 0/6 [00:00<?, ?it/s]"
     ]
    },
    {
     "name": "stdout",
     "output_type": "stream",
     "text": [
      "Teknik-Susun-Isi-Karangan-Bahasa-Melayu-SPM-T-JfI9bZS2c.mp3 6\n"
     ]
    },
    {
     "name": "stderr",
     "output_type": "stream",
     "text": [
      "100%|██████████| 6/6 [00:26<00:00,  4.46s/it]\n"
     ]
    },
    {
     "name": "stdout",
     "output_type": "stream",
     "text": [
      "DONE: 30 / 405\n"
     ]
    },
    {
     "name": "stderr",
     "output_type": "stream",
     "text": [
      "0it [00:00, ?it/s]"
     ]
    },
    {
     "name": "stdout",
     "output_type": "stream",
     "text": [
      "Kotak-Makanan-_-Episod-Penuh-Bing-_-Bing-Bahasa-Melayu-NnjaXpAc8SE.mp3 0\n",
      "DONE: 31 / 405\n"
     ]
    },
    {
     "name": "stderr",
     "output_type": "stream",
     "text": [
      "\n",
      "  0%|          | 0/74 [00:00<?, ?it/s]"
     ]
    },
    {
     "name": "stdout",
     "output_type": "stream",
     "text": [
      "RAHSIA-&-TEKNIK-KAWAL-TENAGA-MOTIVASI-(PODCAST)-68bH2c04v7o.mp3 74\n"
     ]
    },
    {
     "name": "stderr",
     "output_type": "stream",
     "text": [
      "100%|██████████| 74/74 [02:38<00:00,  2.15s/it]\n"
     ]
    },
    {
     "name": "stdout",
     "output_type": "stream",
     "text": [
      "DONE: 32 / 405\n"
     ]
    },
    {
     "name": "stderr",
     "output_type": "stream",
     "text": [
      "\r",
      "  0%|          | 0/2 [00:00<?, ?it/s]"
     ]
    },
    {
     "name": "stdout",
     "output_type": "stream",
     "text": [
      "CABARAN-BERCAKAP-BAHASA-MELAYU-_-Orang-Amerika-Berbahasa-Melayu-_-Language-Challenge-_-Funny-T5aUK_gQqbQ.mp3 2\n"
     ]
    },
    {
     "name": "stderr",
     "output_type": "stream",
     "text": [
      "100%|██████████| 2/2 [00:06<00:00,  3.06s/it]\n"
     ]
    },
    {
     "name": "stdout",
     "output_type": "stream",
     "text": [
      "DONE: 33 / 405\n"
     ]
    },
    {
     "name": "stderr",
     "output_type": "stream",
     "text": [
      "\r",
      "  0%|          | 0/9 [00:00<?, ?it/s]"
     ]
    },
    {
     "name": "stdout",
     "output_type": "stream",
     "text": [
      "Suku-Kata-Terbuka---Bahasa-Melayu--_-Bahasa-Malaysia-XLBZmRjqGhU.mp3 9\n"
     ]
    },
    {
     "name": "stderr",
     "output_type": "stream",
     "text": [
      "100%|██████████| 9/9 [00:19<00:00,  2.21s/it]\n"
     ]
    },
    {
     "name": "stdout",
     "output_type": "stream",
     "text": [
      "DONE: 34 / 405\n"
     ]
    },
    {
     "name": "stderr",
     "output_type": "stream",
     "text": [
      "0it [00:00, ?it/s]"
     ]
    },
    {
     "name": "stdout",
     "output_type": "stream",
     "text": [
      "Kereta-Api-_-Episod-Penuh-Bing-_-Bing-Bahasa-Melayu-z-nh7MdIdn0.mp3 0\n",
      "DONE: 35 / 405\n"
     ]
    },
    {
     "name": "stderr",
     "output_type": "stream",
     "text": [
      "\n",
      "  0%|          | 0/26 [00:00<?, ?it/s]"
     ]
    },
    {
     "name": "stdout",
     "output_type": "stream",
     "text": [
      "CERITA-SERAM-MALAYSIA-_-NENEK-KEBAYAN-JOIN-PLKN!-6aV4haBbt2I.mp3 26\n"
     ]
    },
    {
     "name": "stderr",
     "output_type": "stream",
     "text": [
      "100%|██████████| 26/26 [04:05<00:00,  9.43s/it]\n"
     ]
    },
    {
     "name": "stdout",
     "output_type": "stream",
     "text": [
      "DONE: 36 / 405\n"
     ]
    },
    {
     "name": "stderr",
     "output_type": "stream",
     "text": [
      "0it [00:00, ?it/s]"
     ]
    },
    {
     "name": "stdout",
     "output_type": "stream",
     "text": [
      "‘Bahasa-Malaysia-jadi-Bahasa-Melayu-ke-kabinet’-hxsofMhBOzQ.mp3 0\n",
      "DONE: 37 / 405\n"
     ]
    },
    {
     "name": "stderr",
     "output_type": "stream",
     "text": [
      "\n",
      "  0%|          | 0/9 [00:00<?, ?it/s]"
     ]
    },
    {
     "name": "stdout",
     "output_type": "stream",
     "text": [
      "DIK-IBAN-KAH-(Subtitle-Bahasa-Melayu)-w42jDe04hHc.mp3 9\n"
     ]
    },
    {
     "name": "stderr",
     "output_type": "stream",
     "text": [
      "100%|██████████| 9/9 [01:15<00:00,  8.39s/it]\n"
     ]
    },
    {
     "name": "stdout",
     "output_type": "stream",
     "text": [
      "DONE: 38 / 405\n"
     ]
    },
    {
     "name": "stderr",
     "output_type": "stream",
     "text": [
      "\r",
      "  0%|          | 0/5 [00:00<?, ?it/s]"
     ]
    },
    {
     "name": "stdout",
     "output_type": "stream",
     "text": [
      "Lagu-Kanak-Alphabet-Bahasa-Malaysia--_-ABC-in-3D-Bahasa-Melayu-UrWaas0V5fQ.mp3 5\n"
     ]
    },
    {
     "name": "stderr",
     "output_type": "stream",
     "text": [
      "100%|██████████| 5/5 [00:13<00:00,  2.67s/it]\n"
     ]
    },
    {
     "name": "stdout",
     "output_type": "stream",
     "text": [
      "DONE: 39 / 405\n"
     ]
    },
    {
     "name": "stderr",
     "output_type": "stream",
     "text": [
      "\r",
      "  0%|          | 0/171 [00:00<?, ?it/s]"
     ]
    },
    {
     "name": "stdout",
     "output_type": "stream",
     "text": [
      "GUS-NUR-&-dr.-SYAIFUL-ANAM---C0R0N4---ANTARA-ADA-&-FITNAH!-E5eErbxXy2U.mp3 171\n"
     ]
    },
    {
     "name": "stderr",
     "output_type": "stream",
     "text": [
      "100%|██████████| 171/171 [17:41<00:00,  6.21s/it]\n"
     ]
    },
    {
     "name": "stdout",
     "output_type": "stream",
     "text": [
      "DONE: 40 / 405\n"
     ]
    },
    {
     "name": "stderr",
     "output_type": "stream",
     "text": [
      "\r",
      "  0%|          | 0/6 [00:00<?, ?it/s]"
     ]
    },
    {
     "name": "stdout",
     "output_type": "stream",
     "text": [
      "Adventure-Time-_-Momen-Lucu-_-Cartoon-Network-(Bahasa-Melayu)-ilQD4MzYCdE.mp3 6\n"
     ]
    },
    {
     "name": "stderr",
     "output_type": "stream",
     "text": [
      "100%|██████████| 6/6 [00:19<00:00,  3.19s/it]\n"
     ]
    },
    {
     "name": "stdout",
     "output_type": "stream",
     "text": [
      "DONE: 41 / 405\n"
     ]
    },
    {
     "name": "stderr",
     "output_type": "stream",
     "text": [
      "\r",
      "  0%|          | 0/25 [00:00<?, ?it/s]"
     ]
    },
    {
     "name": "stdout",
     "output_type": "stream",
     "text": [
      "Tahun-1_-Bahasa-Melayu-SJK-_-Unit-7-_-Buku-Aktiviti-41,-43,44-YqiGv_LM0L8.mp3 25\n"
     ]
    },
    {
     "name": "stderr",
     "output_type": "stream",
     "text": [
      "100%|██████████| 25/25 [02:44<00:00,  6.58s/it]\n"
     ]
    },
    {
     "name": "stdout",
     "output_type": "stream",
     "text": [
      "DONE: 42 / 405\n"
     ]
    },
    {
     "name": "stderr",
     "output_type": "stream",
     "text": [
      "\r",
      "  0%|          | 0/4 [00:00<?, ?it/s]"
     ]
    },
    {
     "name": "stdout",
     "output_type": "stream",
     "text": [
      "Tahun-2_-Bahasa-Melayu-_-Tatabahasa---Penjodoh-Bilangan-idoAzw1XLjo.mp3 4\n"
     ]
    },
    {
     "name": "stderr",
     "output_type": "stream",
     "text": [
      "100%|██████████| 4/4 [00:06<00:00,  1.56s/it]\n"
     ]
    },
    {
     "name": "stdout",
     "output_type": "stream",
     "text": [
      "DONE: 43 / 405\n"
     ]
    },
    {
     "name": "stderr",
     "output_type": "stream",
     "text": [
      "\r",
      "  0%|          | 0/1 [00:00<?, ?it/s]"
     ]
    },
    {
     "name": "stdout",
     "output_type": "stream",
     "text": [
      "Memilih-_-Episod-Penuh-Bing-_-Bing-Bahasa-Melayu-UtzK54Pb7Xc.mp3 1\n"
     ]
    },
    {
     "name": "stderr",
     "output_type": "stream",
     "text": [
      "100%|██████████| 1/1 [00:08<00:00,  8.83s/it]\n"
     ]
    },
    {
     "name": "stdout",
     "output_type": "stream",
     "text": [
      "DONE: 44 / 405\n"
     ]
    },
    {
     "name": "stderr",
     "output_type": "stream",
     "text": [
      "\r",
      "  0%|          | 0/51 [00:00<?, ?it/s]"
     ]
    },
    {
     "name": "stdout",
     "output_type": "stream",
     "text": [
      "BUNYI-HAIWAN-_-Lagu-Kanak-Kanak-Bahasa-Malaysia-_-Animals-Sounds-Bahasa-Melayu-qZPSXEPO_Aw.mp3 51\n"
     ]
    },
    {
     "name": "stderr",
     "output_type": "stream",
     "text": [
      "100%|██████████| 51/51 [05:27<00:00,  6.43s/it]\n"
     ]
    },
    {
     "name": "stdout",
     "output_type": "stream",
     "text": [
      "DONE: 45 / 405\n"
     ]
    },
    {
     "name": "stderr",
     "output_type": "stream",
     "text": [
      "\r",
      "  0%|          | 0/85 [00:00<?, ?it/s]"
     ]
    },
    {
     "name": "stdout",
     "output_type": "stream",
     "text": [
      "PODCAST-MELAYU-_-INI-CARA-SARJANA-TANPA-SKIPSI-_-HANGKATE-&-PAK-ENDRI-SANOPAKA-(-KETUA-STISIPOL-RH-)-e-eMNNxW3vo.mp3 85\n"
     ]
    },
    {
     "name": "stderr",
     "output_type": "stream",
     "text": [
      "100%|██████████| 85/85 [11:04<00:00,  7.81s/it]\n"
     ]
    },
    {
     "name": "stdout",
     "output_type": "stream",
     "text": [
      "DONE: 46 / 405\n"
     ]
    },
    {
     "name": "stderr",
     "output_type": "stream",
     "text": [
      "\r",
      "  0%|          | 0/106 [00:00<?, ?it/s]"
     ]
    },
    {
     "name": "stdout",
     "output_type": "stream",
     "text": [
      "OJI-LIDA-&-GAY-_-HANGKATE-&-OJI-#PART2-_-PODCAST-MELAYU-drD4z05nJPs.mp3 106\n"
     ]
    },
    {
     "name": "stderr",
     "output_type": "stream",
     "text": [
      "100%|██████████| 106/106 [14:09<00:00,  8.01s/it]\n"
     ]
    },
    {
     "name": "stdout",
     "output_type": "stream",
     "text": [
      "DONE: 47 / 405\n"
     ]
    },
    {
     "name": "stderr",
     "output_type": "stream",
     "text": [
      "\r",
      "  0%|          | 0/4 [00:00<?, ?it/s]"
     ]
    },
    {
     "name": "stdout",
     "output_type": "stream",
     "text": [
      "#4-TEROR-HANTU-DI-MALAYSIA-_-Podcast-Horor-iq5N432xyFI.mp3 4\n"
     ]
    },
    {
     "name": "stderr",
     "output_type": "stream",
     "text": [
      "100%|██████████| 4/4 [00:11<00:00,  2.88s/it]\n"
     ]
    },
    {
     "name": "stdout",
     "output_type": "stream",
     "text": [
      "DONE: 48 / 405\n"
     ]
    },
    {
     "name": "stderr",
     "output_type": "stream",
     "text": [
      "\r",
      "  0%|          | 0/3 [00:00<?, ?it/s]"
     ]
    },
    {
     "name": "stdout",
     "output_type": "stream",
     "text": [
      "Tahun-4-_-Bahasa-Melayu-_-Membanding-beza-tZ96gEie7Xg.mp3 3\n"
     ]
    },
    {
     "name": "stderr",
     "output_type": "stream",
     "text": [
      "100%|██████████| 3/3 [00:06<00:00,  2.13s/it]\n"
     ]
    },
    {
     "name": "stdout",
     "output_type": "stream",
     "text": [
      "DONE: 49 / 405\n"
     ]
    },
    {
     "name": "stderr",
     "output_type": "stream",
     "text": [
      "\r",
      "  0%|          | 0/32 [00:00<?, ?it/s]"
     ]
    },
    {
     "name": "stdout",
     "output_type": "stream",
     "text": [
      "Hot-Guys-Ep8---SPICIEST-BURGER-IN-MALAYSIA-@-Salt-&-Pepper---Bangi-4WkNbqS4qvc.mp3 32\n"
     ]
    },
    {
     "name": "stderr",
     "output_type": "stream",
     "text": [
      "100%|██████████| 32/32 [06:45<00:00, 12.66s/it]\n"
     ]
    },
    {
     "name": "stdout",
     "output_type": "stream",
     "text": [
      "DONE: 50 / 405\n"
     ]
    },
    {
     "name": "stderr",
     "output_type": "stream",
     "text": [
      "\r",
      "  0%|          | 0/9 [00:00<?, ?it/s]"
     ]
    },
    {
     "name": "stdout",
     "output_type": "stream",
     "text": [
      "Shin-Chan-Malay-Bahasa-Melayu-2020---Seronoknya-Ada-Atok-70LEG6eTgU8.mp3 9\n"
     ]
    },
    {
     "name": "stderr",
     "output_type": "stream",
     "text": [
      "100%|██████████| 9/9 [00:39<00:00,  4.40s/it]\n"
     ]
    },
    {
     "name": "stdout",
     "output_type": "stream",
     "text": [
      "DONE: 51 / 405\n"
     ]
    },
    {
     "name": "stderr",
     "output_type": "stream",
     "text": [
      "\r",
      "  0%|          | 0/3 [00:00<?, ?it/s]"
     ]
    },
    {
     "name": "stdout",
     "output_type": "stream",
     "text": [
      "Masih-ramai-tak-fasih-bahasa-Melayu-HGBNbzqTfNY.mp3 3\n"
     ]
    },
    {
     "name": "stderr",
     "output_type": "stream",
     "text": [
      "100%|██████████| 3/3 [00:17<00:00,  5.85s/it]\n"
     ]
    },
    {
     "name": "stdout",
     "output_type": "stream",
     "text": [
      "DONE: 52 / 405\n"
     ]
    },
    {
     "name": "stderr",
     "output_type": "stream",
     "text": [
      "\r",
      "  0%|          | 0/1 [00:00<?, ?it/s]"
     ]
    },
    {
     "name": "stdout",
     "output_type": "stream",
     "text": [
      "Lagu-Kita-Sihat-【Buku-Aktiviti-Bahasa-Melayu-Tahun-1-Unit-8】_-Lagu-Kanak-kanak-JWnX_wXS2uU.mp3 1\n"
     ]
    },
    {
     "name": "stderr",
     "output_type": "stream",
     "text": [
      "100%|██████████| 1/1 [00:03<00:00,  3.91s/it]\n"
     ]
    },
    {
     "name": "stdout",
     "output_type": "stream",
     "text": [
      "DONE: 53 / 405\n"
     ]
    },
    {
     "name": "stderr",
     "output_type": "stream",
     "text": [
      "\r",
      "  0%|          | 0/259 [00:00<?, ?it/s]"
     ]
    },
    {
     "name": "stdout",
     "output_type": "stream",
     "text": [
      "Team-Paranormal-Vs-Resort-BERHANTU-Bukit-Air--Orang-Malaysia-Kata-Pantai-SEMBAWANG-SERAM-k4a1e4gFos0.mp3 259\n"
     ]
    },
    {
     "name": "stderr",
     "output_type": "stream",
     "text": [
      "100%|██████████| 259/259 [14:24<00:00,  3.34s/it]\n"
     ]
    },
    {
     "name": "stdout",
     "output_type": "stream",
     "text": [
      "DONE: 54 / 405\n"
     ]
    },
    {
     "name": "stderr",
     "output_type": "stream",
     "text": [
      "\r",
      "  0%|          | 0/14 [00:00<?, ?it/s]"
     ]
    },
    {
     "name": "stdout",
     "output_type": "stream",
     "text": [
      "Bing-Bahasa-Melayu-_-Bing---Bit-Terbaik-_-Padget-_-10-Minit-XeWpbu1twzk.mp3 14\n"
     ]
    },
    {
     "name": "stderr",
     "output_type": "stream",
     "text": [
      "100%|██████████| 14/14 [01:07<00:00,  4.82s/it]\n"
     ]
    },
    {
     "name": "stdout",
     "output_type": "stream",
     "text": [
      "DONE: 55 / 405\n"
     ]
    },
    {
     "name": "stderr",
     "output_type": "stream",
     "text": [
      "\r",
      "  0%|          | 0/207 [00:00<?, ?it/s]"
     ]
    },
    {
     "name": "stdout",
     "output_type": "stream",
     "text": [
      "UGGMAL-[-PODCAST--MALAYSIA--]-PAJdbq20ikw.mp3 207\n"
     ]
    },
    {
     "name": "stderr",
     "output_type": "stream",
     "text": [
      "100%|██████████| 207/207 [28:51<00:00,  8.37s/it]\n"
     ]
    },
    {
     "name": "stdout",
     "output_type": "stream",
     "text": [
      "DONE: 56 / 405\n"
     ]
    },
    {
     "name": "stderr",
     "output_type": "stream",
     "text": [
      "\r",
      "  0%|          | 0/216 [00:00<?, ?it/s]"
     ]
    },
    {
     "name": "stdout",
     "output_type": "stream",
     "text": [
      "Buah-Mulut-Podcast-Episode-100-U9bjHw8-BUc.mp3 216\n"
     ]
    },
    {
     "name": "stderr",
     "output_type": "stream",
     "text": [
      "100%|██████████| 216/216 [39:09<00:00, 10.88s/it]\n"
     ]
    },
    {
     "name": "stdout",
     "output_type": "stream",
     "text": [
      "DONE: 57 / 405\n"
     ]
    },
    {
     "name": "stderr",
     "output_type": "stream",
     "text": [
      "\r",
      "  0%|          | 0/28 [00:00<?, ?it/s]"
     ]
    },
    {
     "name": "stdout",
     "output_type": "stream",
     "text": [
      "Bahasa-Melayu-Malaysia-vs-Bahasa-Melayu-Singapura-bGI16-masoA.mp3 28\n"
     ]
    },
    {
     "name": "stderr",
     "output_type": "stream",
     "text": [
      "100%|██████████| 28/28 [03:53<00:00,  8.33s/it]\n"
     ]
    },
    {
     "name": "stdout",
     "output_type": "stream",
     "text": [
      "DONE: 58 / 405\n"
     ]
    },
    {
     "name": "stderr",
     "output_type": "stream",
     "text": [
      "\r",
      "  0%|          | 0/7 [00:00<?, ?it/s]"
     ]
    },
    {
     "name": "stdout",
     "output_type": "stream",
     "text": [
      "Tahun-5-_-Bahasa-Melayu-UPSR-_-Tatabahasa---Ayat-Perintah-SPTbrM5o-Vo.mp3 7\n"
     ]
    },
    {
     "name": "stderr",
     "output_type": "stream",
     "text": [
      "100%|██████████| 7/7 [00:10<00:00,  1.49s/it]\n"
     ]
    },
    {
     "name": "stdout",
     "output_type": "stream",
     "text": [
      "DONE: 59 / 405\n"
     ]
    },
    {
     "name": "stderr",
     "output_type": "stream",
     "text": [
      "\r",
      "  0%|          | 0/260 [00:00<?, ?it/s]"
     ]
    },
    {
     "name": "stdout",
     "output_type": "stream",
     "text": [
      "Kisah-Nabi-Muhammad-S.A.W--Nabi-Terakhir-Bahasa-Melayu---Filem-Animasi-aR5UA_UmYRQ.mp3 260\n"
     ]
    },
    {
     "name": "stderr",
     "output_type": "stream",
     "text": [
      "100%|██████████| 260/260 [18:57<00:00,  4.37s/it]\n"
     ]
    },
    {
     "name": "stdout",
     "output_type": "stream",
     "text": [
      "DONE: 60 / 405\n"
     ]
    },
    {
     "name": "stderr",
     "output_type": "stream",
     "text": [
      "0it [00:00, ?it/s]"
     ]
    },
    {
     "name": "stdout",
     "output_type": "stream",
     "text": [
      "EP-10---Paddle-Pop-Atlantos-(Bahasa-Melayu)-_-Eska-Si-Penguin-JRMKkdXzc2Q.mp3 0\n",
      "DONE: 61 / 405\n"
     ]
    },
    {
     "name": "stderr",
     "output_type": "stream",
     "text": [
      "\n",
      "  0%|          | 0/7 [00:00<?, ?it/s]"
     ]
    },
    {
     "name": "stdout",
     "output_type": "stream",
     "text": [
      "Tahun-4-_-Bahasa-Melayu-_-Penulisan---Karangan-Biografi-FKrAf4S7bf0.mp3 7\n"
     ]
    },
    {
     "name": "stderr",
     "output_type": "stream",
     "text": [
      "100%|██████████| 7/7 [00:11<00:00,  1.68s/it]\n"
     ]
    },
    {
     "name": "stdout",
     "output_type": "stream",
     "text": [
      "DONE: 62 / 405\n"
     ]
    },
    {
     "name": "stderr",
     "output_type": "stream",
     "text": [
      "\r",
      "  0%|          | 0/133 [00:00<?, ?it/s]"
     ]
    },
    {
     "name": "stdout",
     "output_type": "stream",
     "text": [
      "Digital-Marketing-Strategies-for-2020-_-E-commerce-in-Malaysia-Podcast-OKfxQF2ksfQ.mp3 133\n"
     ]
    },
    {
     "name": "stderr",
     "output_type": "stream",
     "text": [
      "100%|██████████| 133/133 [24:10<00:00, 10.91s/it]\n"
     ]
    },
    {
     "name": "stdout",
     "output_type": "stream",
     "text": [
      "DONE: 63 / 405\n"
     ]
    },
    {
     "name": "stderr",
     "output_type": "stream",
     "text": [
      "\r",
      "  0%|          | 0/17 [00:00<?, ?it/s]"
     ]
    },
    {
     "name": "stdout",
     "output_type": "stream",
     "text": [
      "EduwebTV---BAHASA-MELAYU-Tahun-1--Bual-Bahasa---Sebutlah-1nXdobzHS8Y.mp3 17\n"
     ]
    },
    {
     "name": "stderr",
     "output_type": "stream",
     "text": [
      "100%|██████████| 17/17 [00:51<00:00,  3.04s/it]\n"
     ]
    },
    {
     "name": "stdout",
     "output_type": "stream",
     "text": [
      "DONE: 64 / 405\n"
     ]
    },
    {
     "name": "stderr",
     "output_type": "stream",
     "text": [
      "\r",
      "  0%|          | 0/6 [00:00<?, ?it/s]"
     ]
    },
    {
     "name": "stdout",
     "output_type": "stream",
     "text": [
      "Tahun-2-_-Bahasa-Melayu-_-Tatabahasa---Kata-Sendi-Nama-cWM5NnbjaL0.mp3 6\n"
     ]
    },
    {
     "name": "stderr",
     "output_type": "stream",
     "text": [
      "100%|██████████| 6/6 [00:09<00:00,  1.57s/it]\n"
     ]
    },
    {
     "name": "stdout",
     "output_type": "stream",
     "text": [
      "DONE: 65 / 405\n"
     ]
    },
    {
     "name": "stderr",
     "output_type": "stream",
     "text": [
      "\r",
      "  0%|          | 0/71 [00:00<?, ?it/s]"
     ]
    },
    {
     "name": "stdout",
     "output_type": "stream",
     "text": [
      "Sinopsis-Novel-'Captain-Nobody'-by-Dean-Pitchford-Dalam-Bahasa-Melayu!-qDmiXj9Xhkc.mp3 71\n"
     ]
    },
    {
     "name": "stderr",
     "output_type": "stream",
     "text": [
      "100%|██████████| 71/71 [03:33<00:00,  3.00s/it]\n"
     ]
    },
    {
     "name": "stdout",
     "output_type": "stream",
     "text": [
      "DONE: 66 / 405\n"
     ]
    },
    {
     "name": "stderr",
     "output_type": "stream",
     "text": [
      "\r",
      "  0%|          | 0/124 [00:00<?, ?it/s]"
     ]
    },
    {
     "name": "stdout",
     "output_type": "stream",
     "text": [
      "PODCAST-MELAYU_-MIMPI-JADI-NYATA,-SAMPAI-DI-TINGGAL-NIKAH-_-HANGKATE-&-OJI-LIDA-tR3SV9pS1m4.mp3 124\n"
     ]
    },
    {
     "name": "stderr",
     "output_type": "stream",
     "text": [
      "100%|██████████| 124/124 [16:23<00:00,  7.93s/it]\n"
     ]
    },
    {
     "name": "stdout",
     "output_type": "stream",
     "text": [
      "DONE: 67 / 405\n"
     ]
    },
    {
     "name": "stderr",
     "output_type": "stream",
     "text": [
      "0it [00:00, ?it/s]"
     ]
    },
    {
     "name": "stdout",
     "output_type": "stream",
     "text": [
      "Penggunaan-Bahasa-Melayu-semakin-dipinggirkan-68nMQNHVn9Y.mp3 0\n",
      "DONE: 68 / 405\n"
     ]
    },
    {
     "name": "stderr",
     "output_type": "stream",
     "text": [
      "\n",
      "0it [00:00, ?it/s]"
     ]
    },
    {
     "name": "stdout",
     "output_type": "stream",
     "text": [
      "Teknik-Bina-Ayat-Mudah-Bahasa-Melayu-UPSR-3DGSvJFjjRo.mp3 0\n",
      "DONE: 69 / 405\n"
     ]
    },
    {
     "name": "stderr",
     "output_type": "stream",
     "text": [
      "\n",
      "  0%|          | 0/10 [00:00<?, ?it/s]"
     ]
    },
    {
     "name": "stdout",
     "output_type": "stream",
     "text": [
      "KENAPA-Orang-KOREA-Nak-Belajar-Bahasa-Melayu(Bahasa-Indonesia)-#BahasaMelayu-#BahasaIndonesia-t_IjZmJI2tc.mp3 10\n"
     ]
    },
    {
     "name": "stderr",
     "output_type": "stream",
     "text": [
      "100%|██████████| 10/10 [00:42<00:00,  4.25s/it]\n"
     ]
    },
    {
     "name": "stdout",
     "output_type": "stream",
     "text": [
      "DONE: 70 / 405\n"
     ]
    },
    {
     "name": "stderr",
     "output_type": "stream",
     "text": [
      "\r",
      "  0%|          | 0/23 [00:00<?, ?it/s]"
     ]
    },
    {
     "name": "stdout",
     "output_type": "stream",
     "text": [
      "MENGENAL-LEBIH-DEKAT-THOMAS-ARYA-JcNDHxOCT1A.mp3 23\n"
     ]
    },
    {
     "name": "stderr",
     "output_type": "stream",
     "text": [
      "100%|██████████| 23/23 [03:56<00:00, 10.30s/it]\n"
     ]
    },
    {
     "name": "stdout",
     "output_type": "stream",
     "text": [
      "DONE: 71 / 405\n"
     ]
    },
    {
     "name": "stderr",
     "output_type": "stream",
     "text": [
      "\r",
      "  0%|          | 0/29 [00:00<?, ?it/s]"
     ]
    },
    {
     "name": "stdout",
     "output_type": "stream",
     "text": [
      "WAJIB-TENGOK..!!!-ARTI-BAHASA-MALAYSIA-DENGAN-BAHASA-INDONESIA-YG-MUNGKIN-KAMU-TIDAK-KETAHUI.-gZWDCL9fdhs.mp3 29\n"
     ]
    },
    {
     "name": "stderr",
     "output_type": "stream",
     "text": [
      "100%|██████████| 29/29 [01:20<00:00,  2.77s/it]\n"
     ]
    },
    {
     "name": "stdout",
     "output_type": "stream",
     "text": [
      "DONE: 72 / 405\n"
     ]
    },
    {
     "name": "stderr",
     "output_type": "stream",
     "text": [
      "\r",
      "  0%|          | 0/4 [00:00<?, ?it/s]"
     ]
    },
    {
     "name": "stdout",
     "output_type": "stream",
     "text": [
      "Bahasa-Melayu-Tahun-4-_-Syair-_-Nasihat-Ayah-Bonda-8Y9LhcE9DmM.mp3 4\n"
     ]
    },
    {
     "name": "stderr",
     "output_type": "stream",
     "text": [
      "100%|██████████| 4/4 [00:05<00:00,  1.42s/it]\n"
     ]
    },
    {
     "name": "stdout",
     "output_type": "stream",
     "text": [
      "DONE: 73 / 405\n"
     ]
    },
    {
     "name": "stderr",
     "output_type": "stream",
     "text": [
      "\r",
      "  0%|          | 0/2 [00:00<?, ?it/s]"
     ]
    },
    {
     "name": "stdout",
     "output_type": "stream",
     "text": [
      "Lagu-hati-hati-(Tahun-1-Unit-12-Buku-Aktiviti-Bahasa-Melayu)-_-Lagu-Kanak-kanak-CWXJoo-Ae7M.mp3 2\n"
     ]
    },
    {
     "name": "stderr",
     "output_type": "stream",
     "text": [
      "100%|██████████| 2/2 [00:16<00:00,  8.39s/it]\n"
     ]
    },
    {
     "name": "stdout",
     "output_type": "stream",
     "text": [
      "DONE: 74 / 405\n"
     ]
    },
    {
     "name": "stderr",
     "output_type": "stream",
     "text": [
      "\r",
      "  0%|          | 0/45 [00:00<?, ?it/s]"
     ]
    },
    {
     "name": "stdout",
     "output_type": "stream",
     "text": [
      "[Podcast-in-Malay]---Tanya-AP-Anda-featuring-SPS-Dr-Mohamad-Maliki-bin-Osman-[Part-1-of-4]-MmYa1FjF5Uk.mp3 45\n"
     ]
    },
    {
     "name": "stderr",
     "output_type": "stream",
     "text": [
      "100%|██████████| 45/45 [03:09<00:00,  4.22s/it]\n"
     ]
    },
    {
     "name": "stdout",
     "output_type": "stream",
     "text": [
      "DONE: 75 / 405\n"
     ]
    },
    {
     "name": "stderr",
     "output_type": "stream",
     "text": [
      "\r",
      "  0%|          | 0/22 [00:00<?, ?it/s]"
     ]
    },
    {
     "name": "stdout",
     "output_type": "stream",
     "text": [
      "[OB-CHALLENGE]-Bila-Non-Malay-Baca-Ayat-Lidah-Berbelit-Bahasa-Melayu..-Ayat-Ramlah-Ram-Paling-Lawak!-FJyZ5eyPOX0.mp3 22\n"
     ]
    },
    {
     "name": "stderr",
     "output_type": "stream",
     "text": [
      "100%|██████████| 22/22 [01:43<00:00,  4.71s/it]\n"
     ]
    },
    {
     "name": "stdout",
     "output_type": "stream",
     "text": [
      "DONE: 76 / 405\n"
     ]
    },
    {
     "name": "stderr",
     "output_type": "stream",
     "text": [
      "\r",
      "  0%|          | 0/10 [00:00<?, ?it/s]"
     ]
    },
    {
     "name": "stdout",
     "output_type": "stream",
     "text": [
      "Ep5---Hikmah-dari-pelaksanaan-PKP-di-Malaysia-9czdQQaXbyw.mp3 10\n"
     ]
    },
    {
     "name": "stderr",
     "output_type": "stream",
     "text": [
      "100%|██████████| 10/10 [00:50<00:00,  5.05s/it]\n"
     ]
    },
    {
     "name": "stdout",
     "output_type": "stream",
     "text": [
      "DONE: 77 / 405\n"
     ]
    },
    {
     "name": "stderr",
     "output_type": "stream",
     "text": [
      "\r",
      "  0%|          | 0/1 [00:00<?, ?it/s]"
     ]
    },
    {
     "name": "stdout",
     "output_type": "stream",
     "text": [
      "PEMULA-_-Belajar-Kosa-Kata-Bahasa-'Malaysia'-(bahasa-melayu)-LxSo6TVhhBQ.mp3 1\n"
     ]
    },
    {
     "name": "stderr",
     "output_type": "stream",
     "text": [
      "100%|██████████| 1/1 [00:08<00:00,  8.48s/it]\n"
     ]
    },
    {
     "name": "stdout",
     "output_type": "stream",
     "text": [
      "DONE: 78 / 405\n"
     ]
    },
    {
     "name": "stderr",
     "output_type": "stream",
     "text": [
      "\r",
      "  0%|          | 0/41 [00:00<?, ?it/s]"
     ]
    },
    {
     "name": "stdout",
     "output_type": "stream",
     "text": [
      "Najib-and-Malaysia's-human-rights-abuses-FKgDzBPfxGc.mp3 41\n"
     ]
    },
    {
     "name": "stderr",
     "output_type": "stream",
     "text": [
      "100%|██████████| 41/41 [10:56<00:00, 16.00s/it]\n"
     ]
    },
    {
     "name": "stdout",
     "output_type": "stream",
     "text": [
      "DONE: 79 / 405\n"
     ]
    },
    {
     "name": "stderr",
     "output_type": "stream",
     "text": [
      "\r",
      "  0%|          | 0/20 [00:00<?, ?it/s]"
     ]
    },
    {
     "name": "stdout",
     "output_type": "stream",
     "text": [
      "Bahasa-Melayu-SPM-&-PT3---Kesalahan-Kata,-Istilah-dan-Tatabahasa-l-Soalan-3(d)-SPM-BM-Kertas-2-KwCzsBSk7ew.mp3 20\n"
     ]
    },
    {
     "name": "stderr",
     "output_type": "stream",
     "text": [
      "100%|██████████| 20/20 [00:34<00:00,  1.70s/it]\n"
     ]
    },
    {
     "name": "stdout",
     "output_type": "stream",
     "text": [
      "DONE: 80 / 405\n"
     ]
    },
    {
     "name": "stderr",
     "output_type": "stream",
     "text": [
      "\r",
      "  0%|          | 0/1 [00:00<?, ?it/s]"
     ]
    },
    {
     "name": "stdout",
     "output_type": "stream",
     "text": [
      "Tahun-4-_-Bahasa-Melayu-_-Menulis-Karangan-15Nv5-BLLNU.mp3 1\n"
     ]
    },
    {
     "name": "stderr",
     "output_type": "stream",
     "text": [
      "100%|██████████| 1/1 [00:01<00:00,  1.75s/it]\n"
     ]
    },
    {
     "name": "stdout",
     "output_type": "stream",
     "text": [
      "DONE: 81 / 405\n"
     ]
    },
    {
     "name": "stderr",
     "output_type": "stream",
     "text": [
      "\r",
      "  0%|          | 0/4 [00:00<?, ?it/s]"
     ]
    },
    {
     "name": "stdout",
     "output_type": "stream",
     "text": [
      "Tahun-2-_-Bahasa-Melayu-_-Tatabahasa---Kata-Tanya-dan-Ayat-Tanya-cTocLG4Rr7o.mp3 4\n"
     ]
    },
    {
     "name": "stderr",
     "output_type": "stream",
     "text": [
      "100%|██████████| 4/4 [00:06<00:00,  1.70s/it]\n"
     ]
    },
    {
     "name": "stdout",
     "output_type": "stream",
     "text": [
      "DONE: 82 / 405\n"
     ]
    },
    {
     "name": "stderr",
     "output_type": "stream",
     "text": [
      "\r",
      "  0%|          | 0/5 [00:00<?, ?it/s]"
     ]
    },
    {
     "name": "stdout",
     "output_type": "stream",
     "text": [
      "VIRAL-Video-Bocah-Lelaki-Bernyanyi-dengan-Ekspersi-Lucu-ZdvGzMglOSE.mp3 5\n"
     ]
    },
    {
     "name": "stderr",
     "output_type": "stream",
     "text": [
      "100%|██████████| 5/5 [00:14<00:00,  2.80s/it]\n"
     ]
    },
    {
     "name": "stdout",
     "output_type": "stream",
     "text": [
      "DONE: 83 / 405\n"
     ]
    },
    {
     "name": "stderr",
     "output_type": "stream",
     "text": [
      "\r",
      "  0%|          | 0/14 [00:00<?, ?it/s]"
     ]
    },
    {
     "name": "stdout",
     "output_type": "stream",
     "text": [
      "Kolam-Randuk-_-Episod-Penuh-Bing-_-Bing-Bahasa-Melayu--MuylU9mM5o.mp3 14\n"
     ]
    },
    {
     "name": "stderr",
     "output_type": "stream",
     "text": [
      "100%|██████████| 14/14 [01:10<00:00,  5.03s/it]\n"
     ]
    },
    {
     "name": "stdout",
     "output_type": "stream",
     "text": [
      "DONE: 84 / 405\n"
     ]
    },
    {
     "name": "stderr",
     "output_type": "stream",
     "text": [
      "0it [00:00, ?it/s]"
     ]
    },
    {
     "name": "stdout",
     "output_type": "stream",
     "text": [
      "Log-(B.-Malaysia)---Podcast-Langsung-w4V4_zsc62E.mp3 0\n",
      "DONE: 85 / 405\n"
     ]
    },
    {
     "name": "stderr",
     "output_type": "stream",
     "text": [
      "\n",
      "  0%|          | 0/4 [00:00<?, ?it/s]"
     ]
    },
    {
     "name": "stdout",
     "output_type": "stream",
     "text": [
      "Viral-anjing-yang-faham-bahasa-Melayu-Q4EfKbw5n_0.mp3 4\n"
     ]
    },
    {
     "name": "stderr",
     "output_type": "stream",
     "text": [
      "100%|██████████| 4/4 [00:05<00:00,  1.39s/it]\n"
     ]
    },
    {
     "name": "stdout",
     "output_type": "stream",
     "text": [
      "DONE: 86 / 405\n"
     ]
    },
    {
     "name": "stderr",
     "output_type": "stream",
     "text": [
      "\r",
      "  0%|          | 0/135 [00:00<?, ?it/s]"
     ]
    },
    {
     "name": "stdout",
     "output_type": "stream",
     "text": [
      "PODCAST-CEKAL-BM@6----AKTIVITI-PENULISAN-BAHASA-MELAYU-BAHAGIAN-B-BHG-2-YUvw04dd7M8.mp3 135\n"
     ]
    },
    {
     "name": "stderr",
     "output_type": "stream",
     "text": [
      "100%|██████████| 135/135 [11:09<00:00,  4.96s/it]\n"
     ]
    },
    {
     "name": "stdout",
     "output_type": "stream",
     "text": [
      "DONE: 87 / 405\n"
     ]
    },
    {
     "name": "stderr",
     "output_type": "stream",
     "text": [
      "\r",
      "  0%|          | 0/1 [00:00<?, ?it/s]"
     ]
    },
    {
     "name": "stdout",
     "output_type": "stream",
     "text": [
      "Rumah-_-Episod-Penuh-Bing-_-Bing-Bahasa-Melayu-Hc1XCsaRz84.mp3 1\n"
     ]
    },
    {
     "name": "stderr",
     "output_type": "stream",
     "text": [
      "100%|██████████| 1/1 [00:01<00:00,  1.94s/it]\n"
     ]
    },
    {
     "name": "stdout",
     "output_type": "stream",
     "text": [
      "DONE: 88 / 405\n"
     ]
    },
    {
     "name": "stderr",
     "output_type": "stream",
     "text": [
      "\r",
      "  0%|          | 0/40 [00:00<?, ?it/s]"
     ]
    },
    {
     "name": "stdout",
     "output_type": "stream",
     "text": [
      "e-GURU---BAHASA-MELAYU-Prasekolah---Kenderaan-Darat-dOQugdizFhM.mp3 40\n"
     ]
    },
    {
     "name": "stderr",
     "output_type": "stream",
     "text": [
      "100%|██████████| 40/40 [01:51<00:00,  2.78s/it]\n"
     ]
    },
    {
     "name": "stdout",
     "output_type": "stream",
     "text": [
      "DONE: 89 / 405\n"
     ]
    },
    {
     "name": "stderr",
     "output_type": "stream",
     "text": [
      "0it [00:00, ?it/s]"
     ]
    },
    {
     "name": "stdout",
     "output_type": "stream",
     "text": [
      "Ais-Krim-_-Episod-Penuh-Bing-_-Bing-Bahasa-Melayu-qLXe9mzppjk.mp3 0\n",
      "DONE: 90 / 405\n"
     ]
    },
    {
     "name": "stderr",
     "output_type": "stream",
     "text": [
      "\n",
      "  0%|          | 0/2 [00:00<?, ?it/s]"
     ]
    },
    {
     "name": "stdout",
     "output_type": "stream",
     "text": [
      "Tahun-1-_-Bahasa-Melayu-_-Tatabahasa---Kata-Kerja-cJYrXEUus1w.mp3 2\n"
     ]
    },
    {
     "name": "stderr",
     "output_type": "stream",
     "text": [
      "100%|██████████| 2/2 [00:03<00:00,  1.61s/it]\n"
     ]
    },
    {
     "name": "stdout",
     "output_type": "stream",
     "text": [
      "DONE: 91 / 405\n"
     ]
    },
    {
     "name": "stderr",
     "output_type": "stream",
     "text": [
      "\r",
      "  0%|          | 0/10 [00:00<?, ?it/s]"
     ]
    },
    {
     "name": "stdout",
     "output_type": "stream",
     "text": [
      "Episod-Penuh-Bing-_-70+-Minit-_-Eps-21-30-_-Bing-Bahasa-Melayu-jqCBb8Srtu4.mp3 10\n"
     ]
    },
    {
     "name": "stderr",
     "output_type": "stream",
     "text": [
      "100%|██████████| 10/10 [01:00<00:00,  6.07s/it]\n"
     ]
    },
    {
     "name": "stdout",
     "output_type": "stream",
     "text": [
      "DONE: 92 / 405\n"
     ]
    },
    {
     "name": "stderr",
     "output_type": "stream",
     "text": [
      "\r",
      "  0%|          | 0/78 [00:00<?, ?it/s]"
     ]
    },
    {
     "name": "stdout",
     "output_type": "stream",
     "text": [
      "DODOIAN-ANDA---[PODCAST-MALAYSIA-VERSI-2]-g95Rcydh0fs.mp3 78\n"
     ]
    },
    {
     "name": "stderr",
     "output_type": "stream",
     "text": [
      "100%|██████████| 78/78 [11:30<00:00,  8.85s/it]\n"
     ]
    },
    {
     "name": "stdout",
     "output_type": "stream",
     "text": [
      "DONE: 93 / 405\n"
     ]
    },
    {
     "name": "stderr",
     "output_type": "stream",
     "text": [
      "\r",
      "  0%|          | 0/151 [00:00<?, ?it/s]"
     ]
    },
    {
     "name": "stdout",
     "output_type": "stream",
     "text": [
      "Podcast-Bekpek---Berbasikal-Malaysia-Ke-Mekah(Ditahan-dan-dibawa-Kem-Askar-Pakistan-Semasa-Di-Gunung)-_bfH3pxuOoM.mp3 151\n"
     ]
    },
    {
     "name": "stderr",
     "output_type": "stream",
     "text": [
      "100%|██████████| 151/151 [22:59<00:00,  9.13s/it]\n"
     ]
    },
    {
     "name": "stdout",
     "output_type": "stream",
     "text": [
      "DONE: 94 / 405\n"
     ]
    },
    {
     "name": "stderr",
     "output_type": "stream",
     "text": [
      "\r",
      "  0%|          | 0/4 [00:00<?, ?it/s]"
     ]
    },
    {
     "name": "stdout",
     "output_type": "stream",
     "text": [
      "Mereka-Belajar-Bahasa-Melayu-mCE4oEn13KY.mp3 4\n"
     ]
    },
    {
     "name": "stderr",
     "output_type": "stream",
     "text": [
      "100%|██████████| 4/4 [00:55<00:00, 14.00s/it]\n"
     ]
    },
    {
     "name": "stdout",
     "output_type": "stream",
     "text": [
      "DONE: 95 / 405\n"
     ]
    },
    {
     "name": "stderr",
     "output_type": "stream",
     "text": [
      "\r",
      "  0%|          | 0/31 [00:00<?, ?it/s]"
     ]
    },
    {
     "name": "stdout",
     "output_type": "stream",
     "text": [
      "Episod-1---Sejarah-Perkembangan-Bahasa-Melayu-(Podcast)-aG_qD04SSWM.mp3 31\n"
     ]
    },
    {
     "name": "stderr",
     "output_type": "stream",
     "text": [
      "100%|██████████| 31/31 [00:54<00:00,  1.76s/it]\n"
     ]
    },
    {
     "name": "stdout",
     "output_type": "stream",
     "text": [
      "DONE: 96 / 405\n"
     ]
    },
    {
     "name": "stderr",
     "output_type": "stream",
     "text": [
      "\r",
      "  0%|          | 0/43 [00:00<?, ?it/s]"
     ]
    },
    {
     "name": "stdout",
     "output_type": "stream",
     "text": [
      "Bahasa-Melayu-Tingkatan-6-bersama-sama-Cikgu-Zulkarnain-OEN5O9Wc1j8.mp3 43\n"
     ]
    },
    {
     "name": "stderr",
     "output_type": "stream",
     "text": [
      "100%|██████████| 43/43 [02:06<00:00,  2.93s/it]\n"
     ]
    },
    {
     "name": "stdout",
     "output_type": "stream",
     "text": [
      "DONE: 97 / 405\n"
     ]
    },
    {
     "name": "stderr",
     "output_type": "stream",
     "text": [
      "\r",
      "  0%|          | 0/2 [00:00<?, ?it/s]"
     ]
    },
    {
     "name": "stdout",
     "output_type": "stream",
     "text": [
      "Tahun-4-_-Bahasa-Melayu-_-Memberikan-Respons-0lnWizpWpF4.mp3 2\n"
     ]
    },
    {
     "name": "stderr",
     "output_type": "stream",
     "text": [
      "100%|██████████| 2/2 [00:04<00:00,  2.19s/it]\n"
     ]
    },
    {
     "name": "stdout",
     "output_type": "stream",
     "text": [
      "DONE: 98 / 405\n"
     ]
    },
    {
     "name": "stderr",
     "output_type": "stream",
     "text": [
      "\r",
      "  0%|          | 0/9 [00:00<?, ?it/s]"
     ]
    },
    {
     "name": "stdout",
     "output_type": "stream",
     "text": [
      "Bahasa-Melayu-Ofzd5lXPdZ8.mp3 9\n"
     ]
    },
    {
     "name": "stderr",
     "output_type": "stream",
     "text": [
      "100%|██████████| 9/9 [00:19<00:00,  2.17s/it]\n"
     ]
    },
    {
     "name": "stdout",
     "output_type": "stream",
     "text": [
      "DONE: 99 / 405\n"
     ]
    },
    {
     "name": "stderr",
     "output_type": "stream",
     "text": [
      "\r",
      "  0%|          | 0/71 [00:00<?, ?it/s]"
     ]
    },
    {
     "name": "stdout",
     "output_type": "stream",
     "text": [
      "DIA-HISAP-APA-KAT-TANDAS-SEKOLAH!-bXVvXLHpmS8.mp3 71\n"
     ]
    },
    {
     "name": "stderr",
     "output_type": "stream",
     "text": [
      "100%|██████████| 71/71 [09:28<00:00,  8.01s/it]\n"
     ]
    },
    {
     "name": "stdout",
     "output_type": "stream",
     "text": [
      "DONE: 100 / 405\n"
     ]
    },
    {
     "name": "stderr",
     "output_type": "stream",
     "text": [
      "\r",
      "  0%|          | 0/259 [00:00<?, ?it/s]"
     ]
    },
    {
     "name": "stdout",
     "output_type": "stream",
     "text": [
      "Team-Paranormal-Vs-Resort-BERHANTU-Bukit-Air-_-Orang-Malaysia-Kata-Pantai-SEMBAWANG-SERAM-CteGfI4nUgU.mp3 259\n"
     ]
    },
    {
     "name": "stderr",
     "output_type": "stream",
     "text": [
      "100%|██████████| 259/259 [14:28<00:00,  3.35s/it]\n"
     ]
    },
    {
     "name": "stdout",
     "output_type": "stream",
     "text": [
      "DONE: 101 / 405\n"
     ]
    },
    {
     "name": "stderr",
     "output_type": "stream",
     "text": [
      "\r",
      "  0%|          | 0/41 [00:00<?, ?it/s]"
     ]
    },
    {
     "name": "stdout",
     "output_type": "stream",
     "text": [
      "QUIZ-BAHASA-MELAYU-WITH-GILANG-DIRGA-,-IRFAN-HAKIM-DAN-ABI-RAMZI-!!-IjQtm6Bf5aQ.mp3 41\n"
     ]
    },
    {
     "name": "stderr",
     "output_type": "stream",
     "text": [
      "100%|██████████| 41/41 [05:39<00:00,  8.29s/it]\n"
     ]
    },
    {
     "name": "stdout",
     "output_type": "stream",
     "text": [
      "DONE: 102 / 405\n"
     ]
    },
    {
     "name": "stderr",
     "output_type": "stream",
     "text": [
      "\r",
      "  0%|          | 0/33 [00:00<?, ?it/s]"
     ]
    },
    {
     "name": "stdout",
     "output_type": "stream",
     "text": [
      "BOLEH-TAK-CHINESE-CAKAP-BAHASA-MELAYU--Interview-Rakyat-Malaysia!-zSNRlEaibnc.mp3 33\n"
     ]
    },
    {
     "name": "stderr",
     "output_type": "stream",
     "text": [
      "100%|██████████| 33/33 [04:00<00:00,  7.29s/it]\n"
     ]
    },
    {
     "name": "stdout",
     "output_type": "stream",
     "text": [
      "DONE: 103 / 405\n"
     ]
    },
    {
     "name": "stderr",
     "output_type": "stream",
     "text": [
      "\r",
      "  0%|          | 0/63 [00:00<?, ?it/s]"
     ]
    },
    {
     "name": "stdout",
     "output_type": "stream",
     "text": [
      "PATUT-SAMBUNG-BELAJAR-KE-KERJA-Y_Ccfc8J4sY.mp3 63\n"
     ]
    },
    {
     "name": "stderr",
     "output_type": "stream",
     "text": [
      "100%|██████████| 63/63 [09:30<00:00,  9.06s/it]\n"
     ]
    },
    {
     "name": "stdout",
     "output_type": "stream",
     "text": [
      "DONE: 104 / 405\n"
     ]
    },
    {
     "name": "stderr",
     "output_type": "stream",
     "text": [
      "\r",
      "  0%|          | 0/31 [00:00<?, ?it/s]"
     ]
    },
    {
     "name": "stdout",
     "output_type": "stream",
     "text": [
      "Sekolah-Legend-TERSERAM-Di-Malaysia_-Cerita-Seram-DslrDZ8olhI.mp3 31\n"
     ]
    },
    {
     "name": "stderr",
     "output_type": "stream",
     "text": [
      "100%|██████████| 31/31 [01:18<00:00,  2.54s/it]\n"
     ]
    },
    {
     "name": "stdout",
     "output_type": "stream",
     "text": [
      "DONE: 105 / 405\n"
     ]
    },
    {
     "name": "stderr",
     "output_type": "stream",
     "text": [
      "\r",
      "  0%|          | 0/5 [00:00<?, ?it/s]"
     ]
    },
    {
     "name": "stdout",
     "output_type": "stream",
     "text": [
      "Mari-Belajar-Alif-Ba-Ta-fathah---Bahasa-Melayu-(Lelaki)-PVmv00rdx6M.mp3 5\n"
     ]
    },
    {
     "name": "stderr",
     "output_type": "stream",
     "text": [
      "100%|██████████| 5/5 [00:13<00:00,  2.62s/it]\n"
     ]
    },
    {
     "name": "stdout",
     "output_type": "stream",
     "text": [
      "DONE: 106 / 405\n"
     ]
    },
    {
     "name": "stderr",
     "output_type": "stream",
     "text": [
      "\r",
      "  0%|          | 0/18 [00:00<?, ?it/s]"
     ]
    },
    {
     "name": "stdout",
     "output_type": "stream",
     "text": [
      "Belajar-bahasa-malaysia-dari-Upin-dan-Ipin,-belajar-bahasa-melayu!-jpuiLo-kicE.mp3 18\n"
     ]
    },
    {
     "name": "stderr",
     "output_type": "stream",
     "text": [
      "100%|██████████| 18/18 [00:44<00:00,  2.45s/it]\n"
     ]
    },
    {
     "name": "stdout",
     "output_type": "stream",
     "text": [
      "DONE: 107 / 405\n"
     ]
    },
    {
     "name": "stderr",
     "output_type": "stream",
     "text": [
      "\r",
      "  0%|          | 0/7 [00:00<?, ?it/s]"
     ]
    },
    {
     "name": "stdout",
     "output_type": "stream",
     "text": [
      "Tatabahasa-Bahasa-Melayu---Kata-Kerja-Aktif-dan-Pasif-_-Tahun-3,-4,-5-&-6-_-Sekolah-Rendah-_-KSSR-aGnwj0qDJZk.mp3 7\n"
     ]
    },
    {
     "name": "stderr",
     "output_type": "stream",
     "text": [
      "100%|██████████| 7/7 [00:10<00:00,  1.54s/it]\n"
     ]
    },
    {
     "name": "stdout",
     "output_type": "stream",
     "text": [
      "DONE: 108 / 405\n"
     ]
    },
    {
     "name": "stderr",
     "output_type": "stream",
     "text": [
      "\r",
      "  0%|          | 0/2 [00:00<?, ?it/s]"
     ]
    },
    {
     "name": "stdout",
     "output_type": "stream",
     "text": [
      "Tahun-4-_-Bahasa-Melayu-_-Sajak-DO7wqFv50zU.mp3 2\n"
     ]
    },
    {
     "name": "stderr",
     "output_type": "stream",
     "text": [
      "100%|██████████| 2/2 [00:05<00:00,  2.75s/it]\n"
     ]
    },
    {
     "name": "stdout",
     "output_type": "stream",
     "text": [
      "DONE: 109 / 405\n"
     ]
    },
    {
     "name": "stderr",
     "output_type": "stream",
     "text": [
      "\r",
      "  0%|          | 0/26 [00:00<?, ?it/s]"
     ]
    },
    {
     "name": "stdout",
     "output_type": "stream",
     "text": [
      "Vlog#70-_-Bahasa-Malaysia-vs-Bahasa-Melayu-Singapura-🇲🇾🇸🇬-HnrM6Z8mBpc.mp3 26\n"
     ]
    },
    {
     "name": "stderr",
     "output_type": "stream",
     "text": [
      "100%|██████████| 26/26 [02:25<00:00,  5.62s/it]\n"
     ]
    },
    {
     "name": "stdout",
     "output_type": "stream",
     "text": [
      "DONE: 110 / 405\n"
     ]
    },
    {
     "name": "stderr",
     "output_type": "stream",
     "text": [
      "\r",
      "  0%|          | 0/12 [00:00<?, ?it/s]"
     ]
    },
    {
     "name": "stdout",
     "output_type": "stream",
     "text": [
      "VIDEO-REFLEKSI-LMCR3202-BAHASA-MELAYU-DALAM-PENGURUSAN-PEJABAT-SESI-2019_2020-bfX71cJNQ3M.mp3 12\n"
     ]
    },
    {
     "name": "stderr",
     "output_type": "stream",
     "text": [
      "100%|██████████| 12/12 [00:25<00:00,  2.09s/it]\n"
     ]
    },
    {
     "name": "stdout",
     "output_type": "stream",
     "text": [
      "DONE: 111 / 405\n"
     ]
    },
    {
     "name": "stderr",
     "output_type": "stream",
     "text": [
      "\r",
      "  0%|          | 0/4 [00:00<?, ?it/s]"
     ]
    },
    {
     "name": "stdout",
     "output_type": "stream",
     "text": [
      "Bahasa-Melayu-Tahun-1---Kata-Nama-Am-vg5qrNMVSyc.mp3 4\n"
     ]
    },
    {
     "name": "stderr",
     "output_type": "stream",
     "text": [
      "100%|██████████| 4/4 [00:12<00:00,  3.10s/it]\n"
     ]
    },
    {
     "name": "stdout",
     "output_type": "stream",
     "text": [
      "DONE: 112 / 405\n"
     ]
    },
    {
     "name": "stderr",
     "output_type": "stream",
     "text": [
      "\r",
      "  0%|          | 0/18 [00:00<?, ?it/s]"
     ]
    },
    {
     "name": "stdout",
     "output_type": "stream",
     "text": [
      "shin-chan-(Bahasa-Melayu)-Saya-Suka-Makan-Steamboat-HVhN_H-Wcvk.mp3 18\n"
     ]
    },
    {
     "name": "stderr",
     "output_type": "stream",
     "text": [
      "100%|██████████| 18/18 [01:00<00:00,  3.34s/it]\n"
     ]
    },
    {
     "name": "stdout",
     "output_type": "stream",
     "text": [
      "DONE: 113 / 405\n"
     ]
    },
    {
     "name": "stderr",
     "output_type": "stream",
     "text": [
      "\r",
      "  0%|          | 0/80 [00:00<?, ?it/s]"
     ]
    },
    {
     "name": "stdout",
     "output_type": "stream",
     "text": [
      "Lagu-123-Kanak-Kanak-_-Satu-Dua-Tiga-Empat-_-123-Bahasa-Melayu-l-Lagu-Nombor-fwzdAxuUIEY.mp3 80\n"
     ]
    },
    {
     "name": "stderr",
     "output_type": "stream",
     "text": [
      "100%|██████████| 80/80 [06:56<00:00,  5.20s/it]\n"
     ]
    },
    {
     "name": "stdout",
     "output_type": "stream",
     "text": [
      "DONE: 114 / 405\n"
     ]
    },
    {
     "name": "stderr",
     "output_type": "stream",
     "text": [
      "\r",
      "  0%|          | 0/3 [00:00<?, ?it/s]"
     ]
    },
    {
     "name": "stdout",
     "output_type": "stream",
     "text": [
      "Tahun-3-_-Bahasa-Melayu-_-Kemahiran-Membaca---Kosa-Kata-xsaMloBLqIU.mp3 3\n"
     ]
    },
    {
     "name": "stderr",
     "output_type": "stream",
     "text": [
      "100%|██████████| 3/3 [00:08<00:00,  2.88s/it]\n"
     ]
    },
    {
     "name": "stdout",
     "output_type": "stream",
     "text": [
      "DONE: 115 / 405\n"
     ]
    },
    {
     "name": "stderr",
     "output_type": "stream",
     "text": [
      "\r",
      "  0%|          | 0/1 [00:00<?, ?it/s]"
     ]
    },
    {
     "name": "stdout",
     "output_type": "stream",
     "text": [
      "Hagemaru---Perangai-Buruk-Mama-Bahasa-Melayu-kd1p_--6TGs.mp3 1\n"
     ]
    },
    {
     "name": "stderr",
     "output_type": "stream",
     "text": [
      "100%|██████████| 1/1 [00:03<00:00,  3.66s/it]\n"
     ]
    },
    {
     "name": "stdout",
     "output_type": "stream",
     "text": [
      "DONE: 116 / 405\n"
     ]
    },
    {
     "name": "stderr",
     "output_type": "stream",
     "text": [
      "\r",
      "  0%|          | 0/2 [00:00<?, ?it/s]"
     ]
    },
    {
     "name": "stdout",
     "output_type": "stream",
     "text": [
      "Bahasa-Melayu-Tahun-1-,-muka-surat-88-eAy9-1cP6-o.mp3 2\n"
     ]
    },
    {
     "name": "stderr",
     "output_type": "stream",
     "text": [
      "100%|██████████| 2/2 [00:09<00:00,  4.95s/it]\n"
     ]
    },
    {
     "name": "stdout",
     "output_type": "stream",
     "text": [
      "DONE: 117 / 405\n"
     ]
    },
    {
     "name": "stderr",
     "output_type": "stream",
     "text": [
      "0it [00:00, ?it/s]"
     ]
    },
    {
     "name": "stdout",
     "output_type": "stream",
     "text": [
      "We-Bare-Bears-_-Gambar-Profile-Panda_-Cartoon-Network-(Bahasa-Melayu)-IkMJm4l4KVQ.mp3 0\n",
      "DONE: 118 / 405\n"
     ]
    },
    {
     "name": "stderr",
     "output_type": "stream",
     "text": [
      "\n",
      "  0%|          | 0/13 [00:00<?, ?it/s]"
     ]
    },
    {
     "name": "stdout",
     "output_type": "stream",
     "text": [
      "SAYA-CUBA-MAGGI-PEDAS-GILER-2X-DAN-BERCAKAP-BAHASA-MELAYU-kifyV1KwYhI.mp3 13\n"
     ]
    },
    {
     "name": "stderr",
     "output_type": "stream",
     "text": [
      "100%|██████████| 13/13 [00:48<00:00,  3.75s/it]\n"
     ]
    },
    {
     "name": "stdout",
     "output_type": "stream",
     "text": [
      "DONE: 119 / 405\n"
     ]
    },
    {
     "name": "stderr",
     "output_type": "stream",
     "text": [
      "\r",
      "  0%|          | 0/117 [00:00<?, ?it/s]"
     ]
    },
    {
     "name": "stdout",
     "output_type": "stream",
     "text": [
      "Vlogcast#13-Sembang-Belek-Magic-Dalam-Pelat-Melayu-(Malay_BM_MS)--1xkwRSekrA.mp3 117\n"
     ]
    },
    {
     "name": "stderr",
     "output_type": "stream",
     "text": [
      "100%|██████████| 117/117 [12:18<00:00,  6.31s/it]\n"
     ]
    },
    {
     "name": "stdout",
     "output_type": "stream",
     "text": [
      "DONE: 120 / 405\n"
     ]
    },
    {
     "name": "stderr",
     "output_type": "stream",
     "text": [
      "\r",
      "  0%|          | 0/2 [00:00<?, ?it/s]"
     ]
    },
    {
     "name": "stdout",
     "output_type": "stream",
     "text": [
      "Tahun-1-_-Bahasa-Melayu-_-Tatabahasa---Kata-Seru-LPUx9i6We3w.mp3 2\n"
     ]
    },
    {
     "name": "stderr",
     "output_type": "stream",
     "text": [
      "100%|██████████| 2/2 [00:03<00:00,  1.71s/it]\n"
     ]
    },
    {
     "name": "stdout",
     "output_type": "stream",
     "text": [
      "DONE: 121 / 405\n"
     ]
    },
    {
     "name": "stderr",
     "output_type": "stream",
     "text": [
      "\r",
      "  0%|          | 0/6 [00:00<?, ?it/s]"
     ]
    },
    {
     "name": "stdout",
     "output_type": "stream",
     "text": [
      "Tahun-4-_-Bahasa-Melayu-_-Cerita-ne7bqi1U9x8.mp3 6\n"
     ]
    },
    {
     "name": "stderr",
     "output_type": "stream",
     "text": [
      "100%|██████████| 6/6 [00:11<00:00,  1.98s/it]\n"
     ]
    },
    {
     "name": "stdout",
     "output_type": "stream",
     "text": [
      "DONE: 122 / 405\n"
     ]
    },
    {
     "name": "stderr",
     "output_type": "stream",
     "text": [
      "\r",
      "  0%|          | 0/2 [00:00<?, ?it/s]"
     ]
    },
    {
     "name": "stdout",
     "output_type": "stream",
     "text": [
      "Tahun-1-_-Bahasa-Melayu-_-Tatabahasa---Penjodoh-Bilangan-w2CjOWVzTSA.mp3 2\n"
     ]
    },
    {
     "name": "stderr",
     "output_type": "stream",
     "text": [
      "100%|██████████| 2/2 [00:03<00:00,  1.58s/it]\n"
     ]
    },
    {
     "name": "stdout",
     "output_type": "stream",
     "text": [
      "DONE: 123 / 405\n"
     ]
    },
    {
     "name": "stderr",
     "output_type": "stream",
     "text": [
      "\r",
      "  0%|          | 0/4 [00:00<?, ?it/s]"
     ]
    },
    {
     "name": "stdout",
     "output_type": "stream",
     "text": [
      "Tahun-4-_-Bahasa-Melayu-_-Lirik-Lagu-J76i5j1ZpqY.mp3 4\n"
     ]
    },
    {
     "name": "stderr",
     "output_type": "stream",
     "text": [
      "100%|██████████| 4/4 [00:06<00:00,  1.67s/it]\n"
     ]
    },
    {
     "name": "stdout",
     "output_type": "stream",
     "text": [
      "DONE: 124 / 405\n"
     ]
    },
    {
     "name": "stderr",
     "output_type": "stream",
     "text": [
      "\r",
      "  0%|          | 0/10 [00:00<?, ?it/s]"
     ]
    },
    {
     "name": "stdout",
     "output_type": "stream",
     "text": [
      "APA-ALASAN-RAKYAT-MALAYSIA-TIDAK-MAHIR-BAHASA-MELAYU-LdpK1lR7VfI.mp3 10\n"
     ]
    },
    {
     "name": "stderr",
     "output_type": "stream",
     "text": [
      "100%|██████████| 10/10 [00:18<00:00,  1.88s/it]\n"
     ]
    },
    {
     "name": "stdout",
     "output_type": "stream",
     "text": [
      "DONE: 125 / 405\n"
     ]
    },
    {
     "name": "stderr",
     "output_type": "stream",
     "text": [
      "\r",
      "  0%|          | 0/30 [00:00<?, ?it/s]"
     ]
    },
    {
     "name": "stdout",
     "output_type": "stream",
     "text": [
      "Awek-Korea-merapu-dalam-Bahasa-Melayu-di-Instagram-YhXAn3UdL00.mp3 30\n"
     ]
    },
    {
     "name": "stderr",
     "output_type": "stream",
     "text": [
      "100%|██████████| 30/30 [03:10<00:00,  6.36s/it]\n"
     ]
    },
    {
     "name": "stdout",
     "output_type": "stream",
     "text": [
      "DONE: 126 / 405\n"
     ]
    },
    {
     "name": "stderr",
     "output_type": "stream",
     "text": [
      "\r",
      "  0%|          | 0/14 [00:00<?, ?it/s]"
     ]
    },
    {
     "name": "stdout",
     "output_type": "stream",
     "text": [
      "Tutorial-membina-soalan-menggunakan-Google-Form-Bahasa-Melayu-gFiSBnHW3yk.mp3 14\n"
     ]
    },
    {
     "name": "stderr",
     "output_type": "stream",
     "text": [
      "100%|██████████| 14/14 [00:37<00:00,  2.68s/it]\n"
     ]
    },
    {
     "name": "stdout",
     "output_type": "stream",
     "text": [
      "DONE: 127 / 405\n"
     ]
    },
    {
     "name": "stderr",
     "output_type": "stream",
     "text": [
      "\r",
      "  0%|          | 0/112 [00:00<?, ?it/s]"
     ]
    },
    {
     "name": "stdout",
     "output_type": "stream",
     "text": [
      "RAHSIA-MELIHAT-KE-DALAM-DIRI-(PODCAST)-sw5h9hlityE.mp3 112\n"
     ]
    },
    {
     "name": "stderr",
     "output_type": "stream",
     "text": [
      "100%|██████████| 112/112 [03:43<00:00,  1.99s/it]\n"
     ]
    },
    {
     "name": "stdout",
     "output_type": "stream",
     "text": [
      "DONE: 128 / 405\n"
     ]
    },
    {
     "name": "stderr",
     "output_type": "stream",
     "text": [
      "\r",
      "  0%|          | 0/1 [00:00<?, ?it/s]"
     ]
    },
    {
     "name": "stdout",
     "output_type": "stream",
     "text": [
      "Muzik-_-Episod-Penuh-Bing-_-Bing-Bahasa-Melayu-GcjwcYbf7MI.mp3 1\n"
     ]
    },
    {
     "name": "stderr",
     "output_type": "stream",
     "text": [
      "100%|██████████| 1/1 [00:00<00:00,  1.24it/s]\n"
     ]
    },
    {
     "name": "stdout",
     "output_type": "stream",
     "text": [
      "DONE: 129 / 405\n"
     ]
    },
    {
     "name": "stderr",
     "output_type": "stream",
     "text": [
      "\r",
      "  0%|          | 0/6 [00:00<?, ?it/s]"
     ]
    },
    {
     "name": "stdout",
     "output_type": "stream",
     "text": [
      "Lagu-Belajar-ABC-Bahasa-Malaysia---Beserta-Contoh-OPicj4pxf08.mp3 6\n"
     ]
    },
    {
     "name": "stderr",
     "output_type": "stream",
     "text": [
      "100%|██████████| 6/6 [00:14<00:00,  2.49s/it]\n"
     ]
    },
    {
     "name": "stdout",
     "output_type": "stream",
     "text": [
      "DONE: 130 / 405\n"
     ]
    },
    {
     "name": "stderr",
     "output_type": "stream",
     "text": [
      "\r",
      "  0%|          | 0/60 [00:00<?, ?it/s]"
     ]
    },
    {
     "name": "stdout",
     "output_type": "stream",
     "text": [
      "BERHENTI-MENARI-PILIH-MENYANYI-_-HANGKATE-&-HALIM-#PART2-_-PODCAST-MELAYU-opBy2giaRPk.mp3 60\n"
     ]
    },
    {
     "name": "stderr",
     "output_type": "stream",
     "text": [
      "100%|██████████| 60/60 [09:11<00:00,  9.19s/it]\n"
     ]
    },
    {
     "name": "stdout",
     "output_type": "stream",
     "text": [
      "DONE: 131 / 405\n"
     ]
    },
    {
     "name": "stderr",
     "output_type": "stream",
     "text": [
      "\r",
      "  0%|          | 0/18 [00:00<?, ?it/s]"
     ]
    },
    {
     "name": "stdout",
     "output_type": "stream",
     "text": [
      "Tutorial-Makeup-Pake-Bahasa-Melayu-Kalimantan-Barat-(Ketapang-Pontianak)-Wgft976sjdc.mp3 18\n"
     ]
    },
    {
     "name": "stderr",
     "output_type": "stream",
     "text": [
      "100%|██████████| 18/18 [01:53<00:00,  6.33s/it]\n"
     ]
    },
    {
     "name": "stdout",
     "output_type": "stream",
     "text": [
      "DONE: 132 / 405\n"
     ]
    },
    {
     "name": "stderr",
     "output_type": "stream",
     "text": [
      "\r",
      "  0%|          | 0/38 [00:00<?, ?it/s]"
     ]
    },
    {
     "name": "stdout",
     "output_type": "stream",
     "text": [
      "AKU-BALING-MERCUN-DALAM-BILIK-GURU!---Bad-Guys-At-School-(Bahasa-Malaysia)-G2UJ4h4UvR0.mp3 38\n"
     ]
    },
    {
     "name": "stderr",
     "output_type": "stream",
     "text": [
      "100%|██████████| 38/38 [03:36<00:00,  5.69s/it]\n"
     ]
    },
    {
     "name": "stdout",
     "output_type": "stream",
     "text": [
      "DONE: 133 / 405\n"
     ]
    },
    {
     "name": "stderr",
     "output_type": "stream",
     "text": [
      "0it [00:00, ?it/s]"
     ]
    },
    {
     "name": "stdout",
     "output_type": "stream",
     "text": [
      "Pengembara-Alam-_-Episod-Penuh-Bing-_-Bing-Bahasa-Melayu-snU4NQMwNxg.mp3 0\n",
      "DONE: 134 / 405\n"
     ]
    },
    {
     "name": "stderr",
     "output_type": "stream",
     "text": [
      "\n",
      "  0%|          | 0/28 [00:00<?, ?it/s]"
     ]
    },
    {
     "name": "stdout",
     "output_type": "stream",
     "text": [
      "Bing-Bahasa-Melayu-_-Bing---Bit-Terbaik-_-Hari-Wanita-Antarabangsa-_-20-Minit-EYoHukTNIJU.mp3 28\n"
     ]
    },
    {
     "name": "stderr",
     "output_type": "stream",
     "text": [
      "100%|██████████| 28/28 [02:24<00:00,  5.16s/it]\n"
     ]
    },
    {
     "name": "stdout",
     "output_type": "stream",
     "text": [
      "DONE: 135 / 405\n"
     ]
    },
    {
     "name": "stderr",
     "output_type": "stream",
     "text": [
      "0it [00:00, ?it/s]"
     ]
    },
    {
     "name": "stdout",
     "output_type": "stream",
     "text": [
      "(Edisi-Bahasa-Melayu)-Wang-Kertas-Malaysia-RM1-Jaffar-bernilai-RM25K-Wang-Lama-Malaysia-Banknote-Hi4aq4_jDkw.mp3 0\n",
      "DONE: 136 / 405\n"
     ]
    },
    {
     "name": "stderr",
     "output_type": "stream",
     "text": [
      "\n",
      "  0%|          | 0/61 [00:00<?, ?it/s]"
     ]
    },
    {
     "name": "stdout",
     "output_type": "stream",
     "text": [
      "Kerajaan-Kampung-Melayu-Podcast-EP-1-Longkang-bsv5DQVAFfk.mp3 61\n"
     ]
    },
    {
     "name": "stderr",
     "output_type": "stream",
     "text": [
      "100%|██████████| 61/61 [08:32<00:00,  8.40s/it]\n"
     ]
    },
    {
     "name": "stdout",
     "output_type": "stream",
     "text": [
      "DONE: 137 / 405\n"
     ]
    },
    {
     "name": "stderr",
     "output_type": "stream",
     "text": [
      "\r",
      "  0%|          | 0/52 [00:00<?, ?it/s]"
     ]
    },
    {
     "name": "stdout",
     "output_type": "stream",
     "text": [
      "ARTIS-TERKENAL-MALAYSIA!-_-Podcast-Bersama-Mahakarya-Hgsls787J4c.mp3 52\n"
     ]
    },
    {
     "name": "stderr",
     "output_type": "stream",
     "text": [
      "100%|██████████| 52/52 [05:01<00:00,  5.80s/it]\n"
     ]
    },
    {
     "name": "stdout",
     "output_type": "stream",
     "text": [
      "DONE: 138 / 405\n"
     ]
    },
    {
     "name": "stderr",
     "output_type": "stream",
     "text": [
      "\r",
      "  0%|          | 0/45 [00:00<?, ?it/s]"
     ]
    },
    {
     "name": "stdout",
     "output_type": "stream",
     "text": [
      "BEGINI-LETDA-CAKAP-BAHASA-MELAYU-DAN-TERNYATA-KETEMU-KEMBARAN-LETDA-DI-SERVER-SINGAPORE-E3g2gdqoFJ0.mp3 45\n"
     ]
    },
    {
     "name": "stderr",
     "output_type": "stream",
     "text": [
      "100%|██████████| 45/45 [05:39<00:00,  7.54s/it]\n"
     ]
    },
    {
     "name": "stdout",
     "output_type": "stream",
     "text": [
      "DONE: 139 / 405\n"
     ]
    },
    {
     "name": "stderr",
     "output_type": "stream",
     "text": [
      "\r",
      "  0%|          | 0/3 [00:00<?, ?it/s]"
     ]
    },
    {
     "name": "stdout",
     "output_type": "stream",
     "text": [
      "Dinosaur-kapur-_-Episod-Penuh-Bing-_-Bing-Bahasa-Melayu-0s1VCMafDzI.mp3 3\n"
     ]
    },
    {
     "name": "stderr",
     "output_type": "stream",
     "text": [
      "100%|██████████| 3/3 [00:16<00:00,  5.41s/it]\n"
     ]
    },
    {
     "name": "stdout",
     "output_type": "stream",
     "text": [
      "DONE: 140 / 405\n"
     ]
    },
    {
     "name": "stderr",
     "output_type": "stream",
     "text": [
      "\r",
      "  0%|          | 0/2 [00:00<?, ?it/s]"
     ]
    },
    {
     "name": "stdout",
     "output_type": "stream",
     "text": [
      "Malay---Travel-Words---Bahasa-Inggeris---30-most-common-words-in-English-Bahasa-Malaysia-gfFXgn7Gydg.mp3 2\n"
     ]
    },
    {
     "name": "stderr",
     "output_type": "stream",
     "text": [
      "100%|██████████| 2/2 [00:09<00:00,  4.70s/it]\n"
     ]
    },
    {
     "name": "stdout",
     "output_type": "stream",
     "text": [
      "DONE: 141 / 405\n"
     ]
    },
    {
     "name": "stderr",
     "output_type": "stream",
     "text": [
      "\r",
      "  0%|          | 0/8 [00:00<?, ?it/s]"
     ]
    },
    {
     "name": "stdout",
     "output_type": "stream",
     "text": [
      "Episod-Penuh-Bing-_-35+-Minit-_-Eps-1-5-_-Bing-Bahasa-Melayu-z-uL8OJMH3s.mp3 8\n"
     ]
    },
    {
     "name": "stderr",
     "output_type": "stream",
     "text": [
      "100%|██████████| 8/8 [00:59<00:00,  7.47s/it]\n"
     ]
    },
    {
     "name": "stdout",
     "output_type": "stream",
     "text": [
      "DONE: 142 / 405\n"
     ]
    },
    {
     "name": "stderr",
     "output_type": "stream",
     "text": [
      "\r",
      "  0%|          | 0/20 [00:00<?, ?it/s]"
     ]
    },
    {
     "name": "stdout",
     "output_type": "stream",
     "text": [
      "NURUL-ALIA-BINTI-AHMAD-ROSLEE-(VIDEO-RESUME-PENGAJIAN-BAHASA-MELAYU-UKM-SESI-2018_2019)-30jl5smd38E.mp3 20\n"
     ]
    },
    {
     "name": "stderr",
     "output_type": "stream",
     "text": [
      "100%|██████████| 20/20 [03:08<00:00,  9.44s/it]\n"
     ]
    },
    {
     "name": "stdout",
     "output_type": "stream",
     "text": [
      "DONE: 143 / 405\n"
     ]
    },
    {
     "name": "stderr",
     "output_type": "stream",
     "text": [
      "\r",
      "  0%|          | 0/5 [00:00<?, ?it/s]"
     ]
    },
    {
     "name": "stdout",
     "output_type": "stream",
     "text": [
      "Episod-Penuh-Bing-_-35+-Minit-_-Eps-36-40-_-Bing-Bahasa-Melayu-gYpA-GwuMco.mp3 5\n"
     ]
    },
    {
     "name": "stderr",
     "output_type": "stream",
     "text": [
      "100%|██████████| 5/5 [00:25<00:00,  5.17s/it]\n"
     ]
    },
    {
     "name": "stdout",
     "output_type": "stream",
     "text": [
      "DONE: 144 / 405\n"
     ]
    },
    {
     "name": "stderr",
     "output_type": "stream",
     "text": [
      "\r",
      "  0%|          | 0/30 [00:00<?, ?it/s]"
     ]
    },
    {
     "name": "stdout",
     "output_type": "stream",
     "text": [
      "Bahasa-Melayu-SPM----Cara-menjawab-soalan-Pemahaman-Kertas-2-_-Teknik-paling-mudah-BX439vubbls.mp3 30\n"
     ]
    },
    {
     "name": "stderr",
     "output_type": "stream",
     "text": [
      "100%|██████████| 30/30 [01:08<00:00,  2.28s/it]\n"
     ]
    },
    {
     "name": "stdout",
     "output_type": "stream",
     "text": [
      "DONE: 145 / 405\n"
     ]
    },
    {
     "name": "stderr",
     "output_type": "stream",
     "text": [
      "\r",
      "  0%|          | 0/26 [00:00<?, ?it/s]"
     ]
    },
    {
     "name": "stdout",
     "output_type": "stream",
     "text": [
      "PERBEDAAN-BAHASA-MALAYSIA-DENGAN-INDONESIA-U6VHfelihLI.mp3 26\n"
     ]
    },
    {
     "name": "stderr",
     "output_type": "stream",
     "text": [
      "100%|██████████| 26/26 [02:36<00:00,  6.03s/it]\n"
     ]
    },
    {
     "name": "stdout",
     "output_type": "stream",
     "text": [
      "DONE: 146 / 405\n"
     ]
    },
    {
     "name": "stderr",
     "output_type": "stream",
     "text": [
      "\r",
      "  0%|          | 0/7 [00:00<?, ?it/s]"
     ]
    },
    {
     "name": "stdout",
     "output_type": "stream",
     "text": [
      "[PODCAST]-Negaraku,-Negara-Kita-EP-01---Adakah-Malaysia-bersatu-N35HUMW1DFY.mp3 7\n"
     ]
    },
    {
     "name": "stderr",
     "output_type": "stream",
     "text": [
      "100%|██████████| 7/7 [00:32<00:00,  4.68s/it]\n"
     ]
    },
    {
     "name": "stdout",
     "output_type": "stream",
     "text": [
      "DONE: 147 / 405\n"
     ]
    },
    {
     "name": "stderr",
     "output_type": "stream",
     "text": [
      "\r",
      "  0%|          | 0/17 [00:00<?, ?it/s]"
     ]
    },
    {
     "name": "stdout",
     "output_type": "stream",
     "text": [
      "COLLEGE-MAKEUP-TUTORIAL-IN-BAHASA-MELAYU-CrpscwMebps.mp3 17\n"
     ]
    },
    {
     "name": "stderr",
     "output_type": "stream",
     "text": [
      "100%|██████████| 17/17 [01:22<00:00,  4.82s/it]\n"
     ]
    },
    {
     "name": "stdout",
     "output_type": "stream",
     "text": [
      "DONE: 148 / 405\n"
     ]
    },
    {
     "name": "stderr",
     "output_type": "stream",
     "text": [
      "0it [00:00, ?it/s]"
     ]
    },
    {
     "name": "stdout",
     "output_type": "stream",
     "text": [
      "Podcast-Monolog---Alih-Wahana-Sastra-Lama-_-Sastra-Melayu-_-Seloka-_-Cerita-Tentang-Seorang-Teman-v80NcSD_57M.mp3 0\n",
      "DONE: 149 / 405\n"
     ]
    },
    {
     "name": "stderr",
     "output_type": "stream",
     "text": [
      "\n",
      "  0%|          | 0/18 [00:00<?, ?it/s]"
     ]
    },
    {
     "name": "stdout",
     "output_type": "stream",
     "text": [
      "Literasi-Bahasa-Melayu---Konstruk-2-LINUS---Membaca-&-Menulis-Tahap-1-Sekolah-Rendah-XJrvdpNv6NE.mp3 18\n"
     ]
    },
    {
     "name": "stderr",
     "output_type": "stream",
     "text": [
      "100%|██████████| 18/18 [00:34<00:00,  1.92s/it]\n"
     ]
    },
    {
     "name": "stdout",
     "output_type": "stream",
     "text": [
      "DONE: 150 / 405\n"
     ]
    },
    {
     "name": "stderr",
     "output_type": "stream",
     "text": [
      "\r",
      "  0%|          | 0/38 [00:00<?, ?it/s]"
     ]
    },
    {
     "name": "stdout",
     "output_type": "stream",
     "text": [
      "[PODCAST]-Negaraku,-Negara-Kita-EP-02---Bagaimana-Malaysia-mencapai-perpaduan-rwBqXukJOaM.mp3 38\n"
     ]
    },
    {
     "name": "stderr",
     "output_type": "stream",
     "text": [
      "100%|██████████| 38/38 [03:50<00:00,  6.07s/it]\n"
     ]
    },
    {
     "name": "stdout",
     "output_type": "stream",
     "text": [
      "DONE: 151 / 405\n"
     ]
    },
    {
     "name": "stderr",
     "output_type": "stream",
     "text": [
      "0it [00:00, ?it/s]"
     ]
    },
    {
     "name": "stdout",
     "output_type": "stream",
     "text": [
      "Voosh-_-Episod-Penuh-Bing-_-Bing-Bahasa-Melayu-zEhncC5AXFs.mp3 0\n",
      "DONE: 152 / 405\n"
     ]
    },
    {
     "name": "stderr",
     "output_type": "stream",
     "text": [
      "\n",
      "  0%|          | 0/6 [00:00<?, ?it/s]"
     ]
    },
    {
     "name": "stdout",
     "output_type": "stream",
     "text": [
      "Tahun-4-_-Bahasa-Melayu-_-Penulisan---Karangan-Pengalaman-_uGPoezy7kI.mp3 6\n"
     ]
    },
    {
     "name": "stderr",
     "output_type": "stream",
     "text": [
      "100%|██████████| 6/6 [00:09<00:00,  1.61s/it]\n"
     ]
    },
    {
     "name": "stdout",
     "output_type": "stream",
     "text": [
      "DONE: 153 / 405\n"
     ]
    },
    {
     "name": "stderr",
     "output_type": "stream",
     "text": [
      "\r",
      "  0%|          | 0/93 [00:00<?, ?it/s]"
     ]
    },
    {
     "name": "stdout",
     "output_type": "stream",
     "text": [
      "PODCAST-MELAYU-_-RAJA-ALI-HAJI--PENG-HIPNOTIS-_-HANGKATE-&-YOAN-IyUumTc7cOA.mp3 93\n"
     ]
    },
    {
     "name": "stderr",
     "output_type": "stream",
     "text": [
      "100%|██████████| 93/93 [14:38<00:00,  9.44s/it]\n"
     ]
    },
    {
     "name": "stdout",
     "output_type": "stream",
     "text": [
      "DONE: 154 / 405\n"
     ]
    },
    {
     "name": "stderr",
     "output_type": "stream",
     "text": [
      "\r",
      "  0%|          | 0/20 [00:00<?, ?it/s]"
     ]
    },
    {
     "name": "stdout",
     "output_type": "stream",
     "text": [
      "Bing-Bahasa-Melayu-_-Bing---Bit-Terbaik-_-Pembersihan-dengan-Bing!-_-10-Minit-66GXqWnwOAQ.mp3 20\n"
     ]
    },
    {
     "name": "stderr",
     "output_type": "stream",
     "text": [
      "100%|██████████| 20/20 [01:18<00:00,  3.92s/it]\n"
     ]
    },
    {
     "name": "stdout",
     "output_type": "stream",
     "text": [
      "DONE: 155 / 405\n"
     ]
    },
    {
     "name": "stderr",
     "output_type": "stream",
     "text": [
      "\r",
      "  0%|          | 0/14 [00:00<?, ?it/s]"
     ]
    },
    {
     "name": "stdout",
     "output_type": "stream",
     "text": [
      "Mari-Belajar-Membaca-Suku-Kata-Bahasa-Melayu-Mudah!-QZoE-vHKrn0.mp3 14\n"
     ]
    },
    {
     "name": "stderr",
     "output_type": "stream",
     "text": [
      "100%|██████████| 14/14 [00:43<00:00,  3.09s/it]\n"
     ]
    },
    {
     "name": "stdout",
     "output_type": "stream",
     "text": [
      "DONE: 156 / 405\n"
     ]
    },
    {
     "name": "stderr",
     "output_type": "stream",
     "text": [
      "\r",
      "  0%|          | 0/1 [00:00<?, ?it/s]"
     ]
    },
    {
     "name": "stdout",
     "output_type": "stream",
     "text": [
      "Makan-tengah-hari-_-Episod-Penuh-Bing-_-Bing-Bahasa-Melayu-CQbiXfRmStc.mp3 1\n"
     ]
    },
    {
     "name": "stderr",
     "output_type": "stream",
     "text": [
      "100%|██████████| 1/1 [00:00<00:00,  2.20it/s]\n"
     ]
    },
    {
     "name": "stdout",
     "output_type": "stream",
     "text": [
      "DONE: 157 / 405\n"
     ]
    },
    {
     "name": "stderr",
     "output_type": "stream",
     "text": [
      "\r",
      "  0%|          | 0/31 [00:00<?, ?it/s]"
     ]
    },
    {
     "name": "stdout",
     "output_type": "stream",
     "text": [
      "Bahasa-Melayu-Tahun-3-Kata-Pemeri-Esw5tDq2cEA.mp3 31\n"
     ]
    },
    {
     "name": "stderr",
     "output_type": "stream",
     "text": [
      "100%|██████████| 31/31 [00:55<00:00,  1.80s/it]\n"
     ]
    },
    {
     "name": "stdout",
     "output_type": "stream",
     "text": [
      "DONE: 158 / 405\n"
     ]
    },
    {
     "name": "stderr",
     "output_type": "stream",
     "text": [
      "\r",
      "  0%|          | 0/11 [00:00<?, ?it/s]"
     ]
    },
    {
     "name": "stdout",
     "output_type": "stream",
     "text": [
      "Podcasting-Essential-!-(B.Melayu)-olBU3zIjX6o.mp3 11\n"
     ]
    },
    {
     "name": "stderr",
     "output_type": "stream",
     "text": [
      "100%|██████████| 11/11 [00:48<00:00,  4.39s/it]\n"
     ]
    },
    {
     "name": "stdout",
     "output_type": "stream",
     "text": [
      "DONE: 159 / 405\n"
     ]
    },
    {
     "name": "stderr",
     "output_type": "stream",
     "text": [
      "\r",
      "  0%|          | 0/4 [00:00<?, ?it/s]"
     ]
    },
    {
     "name": "stdout",
     "output_type": "stream",
     "text": [
      "Tahun-4-_-Bahasa-Melayu-_-Analisis-Karya-Sastera-nFIoLs-fD4w.mp3 4\n"
     ]
    },
    {
     "name": "stderr",
     "output_type": "stream",
     "text": [
      "100%|██████████| 4/4 [00:08<00:00,  2.10s/it]\n"
     ]
    },
    {
     "name": "stdout",
     "output_type": "stream",
     "text": [
      "DONE: 160 / 405\n"
     ]
    },
    {
     "name": "stderr",
     "output_type": "stream",
     "text": [
      "\r",
      "  0%|          | 0/2 [00:00<?, ?it/s]"
     ]
    },
    {
     "name": "stdout",
     "output_type": "stream",
     "text": [
      "Tahun-4-_-Bahasa-Melayu-_-Penilaian-dan-Alasan-cSJnDDSIUik.mp3 2\n"
     ]
    },
    {
     "name": "stderr",
     "output_type": "stream",
     "text": [
      "100%|██████████| 2/2 [00:02<00:00,  1.35s/it]\n"
     ]
    },
    {
     "name": "stdout",
     "output_type": "stream",
     "text": [
      "DONE: 161 / 405\n"
     ]
    },
    {
     "name": "stderr",
     "output_type": "stream",
     "text": [
      "\r",
      "  0%|          | 0/11 [00:00<?, ?it/s]"
     ]
    },
    {
     "name": "stdout",
     "output_type": "stream",
     "text": [
      "VISA---Untukmu-Selamanya-~-LIRIK-~-5jCc4tnP90c.mp3 11\n"
     ]
    },
    {
     "name": "stderr",
     "output_type": "stream",
     "text": [
      "100%|██████████| 11/11 [00:46<00:00,  4.24s/it]\n"
     ]
    },
    {
     "name": "stdout",
     "output_type": "stream",
     "text": [
      "DONE: 162 / 405\n"
     ]
    },
    {
     "name": "stderr",
     "output_type": "stream",
     "text": [
      "\r",
      "  0%|          | 0/4 [00:00<?, ?it/s]"
     ]
    },
    {
     "name": "stdout",
     "output_type": "stream",
     "text": [
      "Tahun-6-_-Bahasa-Melayu-UPSR-_-Tatabahasa---Penjodoh-Bilangan-slWn76n4H7k.mp3 4\n"
     ]
    },
    {
     "name": "stderr",
     "output_type": "stream",
     "text": [
      "100%|██████████| 4/4 [00:06<00:00,  1.50s/it]\n"
     ]
    },
    {
     "name": "stdout",
     "output_type": "stream",
     "text": [
      "DONE: 163 / 405\n"
     ]
    },
    {
     "name": "stderr",
     "output_type": "stream",
     "text": [
      "\r",
      "  0%|          | 0/142 [00:00<?, ?it/s]"
     ]
    },
    {
     "name": "stdout",
     "output_type": "stream",
     "text": [
      "Vlogcast#12-COVID-19---Hikayat-Ramadan-dan-Raya-yang-Telah-Hilang-(Malay_BM_MS)-Yo6CPQtHNcc.mp3 142\n"
     ]
    },
    {
     "name": "stderr",
     "output_type": "stream",
     "text": [
      "100%|██████████| 142/142 [15:58<00:00,  6.75s/it]\n"
     ]
    },
    {
     "name": "stdout",
     "output_type": "stream",
     "text": [
      "DONE: 164 / 405\n"
     ]
    },
    {
     "name": "stderr",
     "output_type": "stream",
     "text": [
      "\r",
      "  0%|          | 0/13 [00:00<?, ?it/s]"
     ]
    },
    {
     "name": "stdout",
     "output_type": "stream",
     "text": [
      "Episod-Penuh-Bing-_-70+-Minit-_-Eps-51-60-_-Bing-Bahasa-Melayu-_7Yec_ti9Cc.mp3 13\n"
     ]
    },
    {
     "name": "stderr",
     "output_type": "stream",
     "text": [
      "100%|██████████| 13/13 [01:31<00:00,  7.01s/it]\n"
     ]
    },
    {
     "name": "stdout",
     "output_type": "stream",
     "text": [
      "DONE: 165 / 405\n"
     ]
    },
    {
     "name": "stderr",
     "output_type": "stream",
     "text": [
      "0it [00:00, ?it/s]"
     ]
    },
    {
     "name": "stdout",
     "output_type": "stream",
     "text": [
      "Podcast-Glombng-#6---Hanya-1-dari-10-warganegara-Malaysia-membayar-cukai-eutXgju58NY.mp3 0\n",
      "DONE: 166 / 405\n"
     ]
    },
    {
     "name": "stderr",
     "output_type": "stream",
     "text": [
      "\n",
      "  0%|          | 0/5 [00:00<?, ?it/s]"
     ]
    },
    {
     "name": "stdout",
     "output_type": "stream",
     "text": [
      "Tahun-6-_-Bahasa-Melayu-UPSR-_-Tatabahasa---Bahasa-Istana-q4KEc47VC1E.mp3 5\n"
     ]
    },
    {
     "name": "stderr",
     "output_type": "stream",
     "text": [
      "100%|██████████| 5/5 [00:18<00:00,  3.66s/it]\n"
     ]
    },
    {
     "name": "stdout",
     "output_type": "stream",
     "text": [
      "DONE: 167 / 405\n"
     ]
    },
    {
     "name": "stderr",
     "output_type": "stream",
     "text": [
      "\r",
      "  0%|          | 0/50 [00:00<?, ?it/s]"
     ]
    },
    {
     "name": "stdout",
     "output_type": "stream",
     "text": [
      "9-RAHSIA-PEKERJA-BERGAJI-BINA-BISNES-9ITPO6ooNSk.mp3 50\n"
     ]
    },
    {
     "name": "stderr",
     "output_type": "stream",
     "text": [
      "100%|██████████| 50/50 [01:38<00:00,  1.96s/it]\n"
     ]
    },
    {
     "name": "stdout",
     "output_type": "stream",
     "text": [
      "DONE: 168 / 405\n"
     ]
    },
    {
     "name": "stderr",
     "output_type": "stream",
     "text": [
      "\r",
      "  0%|          | 0/5 [00:00<?, ?it/s]"
     ]
    },
    {
     "name": "stdout",
     "output_type": "stream",
     "text": [
      "Bing-Bahasa-Melayu-_-Bing---Bit-Terbaik-_-Momen-Muzik-_-10-Minit-ke2HxeQPEoE.mp3 5\n"
     ]
    },
    {
     "name": "stderr",
     "output_type": "stream",
     "text": [
      "100%|██████████| 5/5 [00:39<00:00,  7.97s/it]\n"
     ]
    },
    {
     "name": "stdout",
     "output_type": "stream",
     "text": [
      "DONE: 169 / 405\n"
     ]
    },
    {
     "name": "stderr",
     "output_type": "stream",
     "text": [
      "\r",
      "  0%|          | 0/10 [00:00<?, ?it/s]"
     ]
    },
    {
     "name": "stdout",
     "output_type": "stream",
     "text": [
      "Bing-Bahasa-Melayu-_-Bing---Bit-Terbaik-_-Bermain-dengan-Mainan!-_-10-Minit-rMZL9riivx8.mp3 10\n"
     ]
    },
    {
     "name": "stderr",
     "output_type": "stream",
     "text": [
      "100%|██████████| 10/10 [01:16<00:00,  7.63s/it]\n"
     ]
    },
    {
     "name": "stdout",
     "output_type": "stream",
     "text": [
      "DONE: 170 / 405\n"
     ]
    },
    {
     "name": "stderr",
     "output_type": "stream",
     "text": [
      "\r",
      "  0%|          | 0/32 [00:00<?, ?it/s]"
     ]
    },
    {
     "name": "stdout",
     "output_type": "stream",
     "text": [
      "Cerita-dari-LONDON-pulang-ke-MALAYSIA-100%-lalu-jalan-darat-(overland)-Hg76hLnIgEM.mp3 32\n"
     ]
    },
    {
     "name": "stderr",
     "output_type": "stream",
     "text": [
      "100%|██████████| 32/32 [01:12<00:00,  2.26s/it]\n"
     ]
    },
    {
     "name": "stdout",
     "output_type": "stream",
     "text": [
      "DONE: 171 / 405\n"
     ]
    },
    {
     "name": "stderr",
     "output_type": "stream",
     "text": [
      "\r",
      "  0%|          | 0/1 [00:00<?, ?it/s]"
     ]
    },
    {
     "name": "stdout",
     "output_type": "stream",
     "text": [
      "ANSAR-AHMAD----'BUNDA-TANAH-MELAYU'-JANGAN-JADI-JARGON-POLITIK-KAMPANYE-SAJA-(Part3)---TRIBUN-PODCAST-UiHqyY9bu_k.mp3 1\n"
     ]
    },
    {
     "name": "stderr",
     "output_type": "stream",
     "text": [
      "100%|██████████| 1/1 [00:05<00:00,  5.17s/it]\n"
     ]
    },
    {
     "name": "stdout",
     "output_type": "stream",
     "text": [
      "DONE: 172 / 405\n"
     ]
    },
    {
     "name": "stderr",
     "output_type": "stream",
     "text": [
      "\r",
      "  0%|          | 0/97 [00:00<?, ?it/s]"
     ]
    },
    {
     "name": "stdout",
     "output_type": "stream",
     "text": [
      "BESEMBANG-BERSAMA-SETIA-BAKTI-ABDI-SENI-SENIMAN-MUSIK-MELAYU-#BGOESMAN-b9KRb3oEYLI.mp3 97\n"
     ]
    },
    {
     "name": "stderr",
     "output_type": "stream",
     "text": [
      "100%|██████████| 97/97 [09:44<00:00,  6.03s/it]\n"
     ]
    },
    {
     "name": "stdout",
     "output_type": "stream",
     "text": [
      "DONE: 173 / 405\n"
     ]
    },
    {
     "name": "stderr",
     "output_type": "stream",
     "text": [
      "\r",
      "  0%|          | 0/6 [00:00<?, ?it/s]"
     ]
    },
    {
     "name": "stdout",
     "output_type": "stream",
     "text": [
      "AKU-SUKA-KAU-TAPI...--Podcast-Cinta-Malaysia-EP-02-Tq-DFX7Vx5w.mp3 6\n"
     ]
    },
    {
     "name": "stderr",
     "output_type": "stream",
     "text": [
      "100%|██████████| 6/6 [00:19<00:00,  3.21s/it]\n"
     ]
    },
    {
     "name": "stdout",
     "output_type": "stream",
     "text": [
      "DONE: 174 / 405\n"
     ]
    },
    {
     "name": "stderr",
     "output_type": "stream",
     "text": [
      "\r",
      "  0%|          | 0/56 [00:00<?, ?it/s]"
     ]
    },
    {
     "name": "stdout",
     "output_type": "stream",
     "text": [
      "3DAPO---CONONYA-VIRUS-[PODCAST-MALAYSIA-VERSI-2]-qRAQheoobNY.mp3 56\n"
     ]
    },
    {
     "name": "stderr",
     "output_type": "stream",
     "text": [
      "100%|██████████| 56/56 [08:04<00:00,  8.65s/it]\n"
     ]
    },
    {
     "name": "stdout",
     "output_type": "stream",
     "text": [
      "DONE: 175 / 405\n"
     ]
    },
    {
     "name": "stderr",
     "output_type": "stream",
     "text": [
      "\r",
      "  0%|          | 0/25 [00:00<?, ?it/s]"
     ]
    },
    {
     "name": "stdout",
     "output_type": "stream",
     "text": [
      "Bahasa-Melayu-sahaja!-Easy-Malay-challenge-💪🏻-AL6uhAntkaA.mp3 25\n"
     ]
    },
    {
     "name": "stderr",
     "output_type": "stream",
     "text": [
      "100%|██████████| 25/25 [03:06<00:00,  7.45s/it]\n"
     ]
    },
    {
     "name": "stdout",
     "output_type": "stream",
     "text": [
      "DONE: 176 / 405\n"
     ]
    },
    {
     "name": "stderr",
     "output_type": "stream",
     "text": [
      "\r",
      "  0%|          | 0/6 [00:00<?, ?it/s]"
     ]
    },
    {
     "name": "stdout",
     "output_type": "stream",
     "text": [
      "RVLOG-#22---Bahasa-Malaysia-kHhQS4OLu3E.mp3 6\n"
     ]
    },
    {
     "name": "stderr",
     "output_type": "stream",
     "text": [
      "100%|██████████| 6/6 [00:15<00:00,  2.57s/it]\n"
     ]
    },
    {
     "name": "stdout",
     "output_type": "stream",
     "text": [
      "DONE: 177 / 405\n"
     ]
    },
    {
     "name": "stderr",
     "output_type": "stream",
     "text": [
      "\r",
      "  0%|          | 0/14 [00:00<?, ?it/s]"
     ]
    },
    {
     "name": "stdout",
     "output_type": "stream",
     "text": [
      "PEMULA-_-Belajar-Kosa-Kata-Bahasa-'Malaysia'-(bahasa-melayu)-PART-3-zwuxABg7t88.mp3 14\n"
     ]
    },
    {
     "name": "stderr",
     "output_type": "stream",
     "text": [
      "100%|██████████| 14/14 [01:48<00:00,  7.78s/it]\n"
     ]
    },
    {
     "name": "stdout",
     "output_type": "stream",
     "text": [
      "DONE: 178 / 405\n"
     ]
    },
    {
     "name": "stderr",
     "output_type": "stream",
     "text": [
      "\r",
      "  0%|          | 0/5 [00:00<?, ?it/s]"
     ]
    },
    {
     "name": "stdout",
     "output_type": "stream",
     "text": [
      "Video-belajar-bahasa-Malaysia-gratis-XMZiX9B5il0.mp3 5\n"
     ]
    },
    {
     "name": "stderr",
     "output_type": "stream",
     "text": [
      "100%|██████████| 5/5 [00:06<00:00,  1.32s/it]\n"
     ]
    },
    {
     "name": "stdout",
     "output_type": "stream",
     "text": [
      "DONE: 179 / 405\n"
     ]
    },
    {
     "name": "stderr",
     "output_type": "stream",
     "text": [
      "0it [00:00, ?it/s]"
     ]
    },
    {
     "name": "stdout",
     "output_type": "stream",
     "text": [
      "Shin-Chan-Malay-(Bahasa-Melayu)-Special-Episode-2020-HD---Indo-and-Malay-Sub-bZQ__IUl7xw.mp3 0\n",
      "DONE: 180 / 405\n"
     ]
    },
    {
     "name": "stderr",
     "output_type": "stream",
     "text": [
      "\n",
      "  0%|          | 0/8 [00:00<?, ?it/s]"
     ]
    },
    {
     "name": "stdout",
     "output_type": "stream",
     "text": [
      "Syair-Gulung-Melayu-Ketapang,-Podcast-Animasi-Comedy-ifnoe-ktg-qus75ZrgGEI.mp3 8\n"
     ]
    },
    {
     "name": "stderr",
     "output_type": "stream",
     "text": [
      "100%|██████████| 8/8 [00:18<00:00,  2.31s/it]\n"
     ]
    },
    {
     "name": "stdout",
     "output_type": "stream",
     "text": [
      "DONE: 181 / 405\n"
     ]
    },
    {
     "name": "stderr",
     "output_type": "stream",
     "text": [
      "\r",
      "  0%|          | 0/97 [00:00<?, ?it/s]"
     ]
    },
    {
     "name": "stdout",
     "output_type": "stream",
     "text": [
      "Vlogcast#15-Orang-Melayu-Singapura-Cuba-Teka-Loghat-Perak-(Malay_BM_MS)-3-nrnJ76tec.mp3 97\n"
     ]
    },
    {
     "name": "stderr",
     "output_type": "stream",
     "text": [
      "100%|██████████| 97/97 [07:34<00:00,  4.69s/it]\n"
     ]
    },
    {
     "name": "stdout",
     "output_type": "stream",
     "text": [
      "DONE: 182 / 405\n"
     ]
    },
    {
     "name": "stderr",
     "output_type": "stream",
     "text": [
      "0it [00:00, ?it/s]"
     ]
    },
    {
     "name": "stdout",
     "output_type": "stream",
     "text": [
      "Podcast-Monolog-_-Syair-Melayu-'Menuntut-Ilmu'-_-Musikalisasi-Puisi-_-Alih-Wahana-Sastra-Melayu-rPwsfvjBaHc.mp3 0\n",
      "DONE: 183 / 405\n"
     ]
    },
    {
     "name": "stderr",
     "output_type": "stream",
     "text": [
      "\n",
      "0it [00:00, ?it/s]"
     ]
    },
    {
     "name": "stdout",
     "output_type": "stream",
     "text": [
      "DAP-Parti-CAUVINIS-&-RASIS-Tun-M-_-GESA-DIHARAMKAN-Duri-Dalam-Daging-_-Dato'-Seri-Dzulkarnain-Taib-yrGWHyJYx64.mp3 0\n",
      "DONE: 184 / 405\n"
     ]
    },
    {
     "name": "stderr",
     "output_type": "stream",
     "text": [
      "\n",
      "  0%|          | 0/1 [00:00<?, ?it/s]"
     ]
    },
    {
     "name": "stdout",
     "output_type": "stream",
     "text": [
      "Kek-_-Episod-Penuh-Bing-_-Bing-Bahasa-Melayu-mTQ43CreeNQ.mp3 1\n"
     ]
    },
    {
     "name": "stderr",
     "output_type": "stream",
     "text": [
      "100%|██████████| 1/1 [00:02<00:00,  2.31s/it]\n"
     ]
    },
    {
     "name": "stdout",
     "output_type": "stream",
     "text": [
      "DONE: 185 / 405\n"
     ]
    },
    {
     "name": "stderr",
     "output_type": "stream",
     "text": [
      "\r",
      "  0%|          | 0/10 [00:00<?, ?it/s]"
     ]
    },
    {
     "name": "stdout",
     "output_type": "stream",
     "text": [
      "Rakyat-Malaysia-Tiada-Simpanan--SlowTalk-Podcast-#09-I9eEz2OvI0E.mp3 10\n"
     ]
    },
    {
     "name": "stderr",
     "output_type": "stream",
     "text": [
      "100%|██████████| 10/10 [00:35<00:00,  3.59s/it]\n"
     ]
    },
    {
     "name": "stdout",
     "output_type": "stream",
     "text": [
      "DONE: 186 / 405\n"
     ]
    },
    {
     "name": "stderr",
     "output_type": "stream",
     "text": [
      "\r",
      "  0%|          | 0/15 [00:00<?, ?it/s]"
     ]
    },
    {
     "name": "stdout",
     "output_type": "stream",
     "text": [
      "MY-PARENTS-CUBA-CAKAP-BAHASA-MELAYU---#CassidyBoleh-ATiiJhlYjnc.mp3 15\n"
     ]
    },
    {
     "name": "stderr",
     "output_type": "stream",
     "text": [
      "100%|██████████| 15/15 [01:12<00:00,  4.86s/it]\n"
     ]
    },
    {
     "name": "stdout",
     "output_type": "stream",
     "text": [
      "DONE: 187 / 405\n"
     ]
    },
    {
     "name": "stderr",
     "output_type": "stream",
     "text": [
      "\r",
      "  0%|          | 0/13 [00:00<?, ?it/s]"
     ]
    },
    {
     "name": "stdout",
     "output_type": "stream",
     "text": [
      "Indian-Gangster-VS-Chinese-Gangster-OIhFzPigsGM.mp3 13\n"
     ]
    },
    {
     "name": "stderr",
     "output_type": "stream",
     "text": [
      "100%|██████████| 13/13 [01:28<00:00,  6.81s/it]\n"
     ]
    },
    {
     "name": "stdout",
     "output_type": "stream",
     "text": [
      "DONE: 188 / 405\n"
     ]
    },
    {
     "name": "stderr",
     "output_type": "stream",
     "text": [
      "\r",
      "  0%|          | 0/264 [00:00<?, ?it/s]"
     ]
    },
    {
     "name": "stdout",
     "output_type": "stream",
     "text": [
      "Kisah-Seram-Quaters-Bukit-Timah-_-Awek-Kelate-DISIHIR-BEKAS-KEKASIH-Sebelum-Nikah-wEUSui9LzUo.mp3 264\n"
     ]
    },
    {
     "name": "stderr",
     "output_type": "stream",
     "text": [
      "100%|██████████| 264/264 [11:57<00:00,  2.72s/it]\n"
     ]
    },
    {
     "name": "stdout",
     "output_type": "stream",
     "text": [
      "DONE: 189 / 405\n"
     ]
    },
    {
     "name": "stderr",
     "output_type": "stream",
     "text": [
      "\r",
      "  0%|          | 0/76 [00:00<?, ?it/s]"
     ]
    },
    {
     "name": "stdout",
     "output_type": "stream",
     "text": [
      "Bola-Kampung-3D-Movie---Dalam-Bahasa-Melayu-IrJCQ6bzbmY.mp3 76\n"
     ]
    },
    {
     "name": "stderr",
     "output_type": "stream",
     "text": [
      "100%|██████████| 76/76 [03:42<00:00,  2.92s/it]\n"
     ]
    },
    {
     "name": "stdout",
     "output_type": "stream",
     "text": [
      "DONE: 190 / 405\n"
     ]
    },
    {
     "name": "stderr",
     "output_type": "stream",
     "text": [
      "\r",
      "  0%|          | 0/5 [00:00<?, ?it/s]"
     ]
    },
    {
     "name": "stdout",
     "output_type": "stream",
     "text": [
      "Tahun-5-_-Bahasa-Melayu-_-Kata-Nama-Am-Tak-Hidup-Bukan-Institusi-Abstrak-Pni6OR2bcp8.mp3 5\n"
     ]
    },
    {
     "name": "stderr",
     "output_type": "stream",
     "text": [
      "100%|██████████| 5/5 [00:06<00:00,  1.37s/it]\n"
     ]
    },
    {
     "name": "stdout",
     "output_type": "stream",
     "text": [
      "DONE: 191 / 405\n"
     ]
    },
    {
     "name": "stderr",
     "output_type": "stream",
     "text": [
      "\r",
      "  0%|          | 0/119 [00:00<?, ?it/s]"
     ]
    },
    {
     "name": "stdout",
     "output_type": "stream",
     "text": [
      "Wajah-Kejayaan-Melayu-Masa-Lalu.-#SYAUKANI-AL-KARIM-#MILENIAL-MELAYU-#PODCAST-CORNER-WIrUcXsBrF8.mp3 119\n"
     ]
    },
    {
     "name": "stderr",
     "output_type": "stream",
     "text": [
      "100%|██████████| 119/119 [09:49<00:00,  4.95s/it]\n"
     ]
    },
    {
     "name": "stdout",
     "output_type": "stream",
     "text": [
      "DONE: 192 / 405\n"
     ]
    },
    {
     "name": "stderr",
     "output_type": "stream",
     "text": [
      "\r",
      "  0%|          | 0/72 [00:00<?, ?it/s]"
     ]
    },
    {
     "name": "stdout",
     "output_type": "stream",
     "text": [
      "Acah-Podcast-_-TortCast-Episod-1-_-Bagaimana-Suasana-Berkerja-Waktu-PKP-TJzy06-IFd8.mp3 72\n"
     ]
    },
    {
     "name": "stderr",
     "output_type": "stream",
     "text": [
      "100%|██████████| 72/72 [11:51<00:00,  9.88s/it]\n"
     ]
    },
    {
     "name": "stdout",
     "output_type": "stream",
     "text": [
      "DONE: 193 / 405\n"
     ]
    },
    {
     "name": "stderr",
     "output_type": "stream",
     "text": [
      "\r",
      "  0%|          | 0/104 [00:00<?, ?it/s]"
     ]
    },
    {
     "name": "stdout",
     "output_type": "stream",
     "text": [
      "PODCAST-CEKAL-BM@6----AKTIVITI-PENULISAN-BAHAGIAN-A-S4PyawrV694.mp3 104\n"
     ]
    },
    {
     "name": "stderr",
     "output_type": "stream",
     "text": [
      "100%|██████████| 104/104 [09:46<00:00,  5.64s/it]\n"
     ]
    },
    {
     "name": "stdout",
     "output_type": "stream",
     "text": [
      "DONE: 194 / 405\n"
     ]
    },
    {
     "name": "stderr",
     "output_type": "stream",
     "text": [
      "\r",
      "  0%|          | 0/11 [00:00<?, ?it/s]"
     ]
    },
    {
     "name": "stdout",
     "output_type": "stream",
     "text": [
      "Episod-Penuh-Bing-_-70+-Minit-_-Eps-31-40-_-Bing-Bahasa-Melayu-3yT5v1wDQA8.mp3 11\n"
     ]
    },
    {
     "name": "stderr",
     "output_type": "stream",
     "text": [
      "100%|██████████| 11/11 [00:57<00:00,  5.23s/it]\n"
     ]
    },
    {
     "name": "stdout",
     "output_type": "stream",
     "text": [
      "DONE: 195 / 405\n"
     ]
    },
    {
     "name": "stderr",
     "output_type": "stream",
     "text": [
      "\r",
      "  0%|          | 0/25 [00:00<?, ?it/s]"
     ]
    },
    {
     "name": "stdout",
     "output_type": "stream",
     "text": [
      "Kuiz-Teka-Bahasa-Malaysia-&-Indonesia-Ri2t2hvIPAI.mp3 25\n"
     ]
    },
    {
     "name": "stderr",
     "output_type": "stream",
     "text": [
      "100%|██████████| 25/25 [02:35<00:00,  6.21s/it]\n"
     ]
    },
    {
     "name": "stdout",
     "output_type": "stream",
     "text": [
      "DONE: 196 / 405\n"
     ]
    },
    {
     "name": "stderr",
     "output_type": "stream",
     "text": [
      "\r",
      "  0%|          | 0/9 [00:00<?, ?it/s]"
     ]
    },
    {
     "name": "stdout",
     "output_type": "stream",
     "text": [
      "Episod-Penuh-Bing-_-35+-Minit-_-Eps-11-15-_-Bing-Bahasa-Melayu-gaAdekQQ5Y0.mp3 9\n"
     ]
    },
    {
     "name": "stderr",
     "output_type": "stream",
     "text": [
      "100%|██████████| 9/9 [00:42<00:00,  4.70s/it]\n"
     ]
    },
    {
     "name": "stdout",
     "output_type": "stream",
     "text": [
      "DONE: 197 / 405\n"
     ]
    },
    {
     "name": "stderr",
     "output_type": "stream",
     "text": [
      "\r",
      "  0%|          | 0/3 [00:00<?, ?it/s]"
     ]
    },
    {
     "name": "stdout",
     "output_type": "stream",
     "text": [
      "Istana-Pasir-_-Episod-Penuh-_-Bing-Bahasa-Melayu-NBAvKfhUA08.mp3 3\n"
     ]
    },
    {
     "name": "stderr",
     "output_type": "stream",
     "text": [
      "100%|██████████| 3/3 [00:20<00:00,  6.80s/it]\n"
     ]
    },
    {
     "name": "stdout",
     "output_type": "stream",
     "text": [
      "DONE: 198 / 405\n"
     ]
    },
    {
     "name": "stderr",
     "output_type": "stream",
     "text": [
      "\r",
      "  0%|          | 0/30 [00:00<?, ?it/s]"
     ]
    },
    {
     "name": "stdout",
     "output_type": "stream",
     "text": [
      "Bing-Bahasa-Melayu-_-Bing---Bit-Terbaik-_-Pando-_-20-Minit-AB2haZbkv-c.mp3 30\n"
     ]
    },
    {
     "name": "stderr",
     "output_type": "stream",
     "text": [
      "100%|██████████| 30/30 [01:55<00:00,  3.86s/it]\n"
     ]
    },
    {
     "name": "stdout",
     "output_type": "stream",
     "text": [
      "DONE: 199 / 405\n"
     ]
    },
    {
     "name": "stderr",
     "output_type": "stream",
     "text": [
      "\r",
      "  0%|          | 0/18 [00:00<?, ?it/s]"
     ]
    },
    {
     "name": "stdout",
     "output_type": "stream",
     "text": [
      "Bing-Bahasa-Melayu-_-Bing---Bit-Terbaik-_-Musim-panas-dengan-Bing!-_-40-Minit-BImhAsM871U.mp3 18\n"
     ]
    },
    {
     "name": "stderr",
     "output_type": "stream",
     "text": [
      "100%|██████████| 18/18 [01:23<00:00,  4.63s/it]\n"
     ]
    },
    {
     "name": "stdout",
     "output_type": "stream",
     "text": [
      "DONE: 200 / 405\n"
     ]
    },
    {
     "name": "stderr",
     "output_type": "stream",
     "text": [
      "\r",
      "  0%|          | 0/7 [00:00<?, ?it/s]"
     ]
    },
    {
     "name": "stdout",
     "output_type": "stream",
     "text": [
      "BPR--Seribu-Tahun-Takkan-Mungkin-(HQ)-w78_1hFEKpg.mp3 7\n"
     ]
    },
    {
     "name": "stderr",
     "output_type": "stream",
     "text": [
      "100%|██████████| 7/7 [00:45<00:00,  6.45s/it]\n"
     ]
    },
    {
     "name": "stdout",
     "output_type": "stream",
     "text": [
      "DONE: 201 / 405\n"
     ]
    },
    {
     "name": "stderr",
     "output_type": "stream",
     "text": [
      "\r",
      "  0%|          | 0/15 [00:00<?, ?it/s]"
     ]
    },
    {
     "name": "stdout",
     "output_type": "stream",
     "text": [
      "But-Besar-_-Episod-Penuh-Bing-_-Bing-Bahasa-Melayu-AyoBUd469wA.mp3 15\n"
     ]
    },
    {
     "name": "stderr",
     "output_type": "stream",
     "text": [
      "100%|██████████| 15/15 [01:02<00:00,  4.20s/it]\n"
     ]
    },
    {
     "name": "stdout",
     "output_type": "stream",
     "text": [
      "DONE: 202 / 405\n"
     ]
    },
    {
     "name": "stderr",
     "output_type": "stream",
     "text": [
      "\r",
      "  0%|          | 0/2 [00:00<?, ?it/s]"
     ]
    },
    {
     "name": "stdout",
     "output_type": "stream",
     "text": [
      "Tahun-4-_-Bahasa-Melayu-_-Tulisan-Berangkai-2fCDtCTKHNY.mp3 2\n"
     ]
    },
    {
     "name": "stderr",
     "output_type": "stream",
     "text": [
      "100%|██████████| 2/2 [00:01<00:00,  1.30it/s]\n"
     ]
    },
    {
     "name": "stdout",
     "output_type": "stream",
     "text": [
      "DONE: 203 / 405\n"
     ]
    },
    {
     "name": "stderr",
     "output_type": "stream",
     "text": [
      "\r",
      "  0%|          | 0/9 [00:00<?, ?it/s]"
     ]
    },
    {
     "name": "stdout",
     "output_type": "stream",
     "text": [
      "Selamat-Hari-kekasih!-❤️_16-Minit-_-Bing---Bit-Terbaik-_-Bing-Bahasa-Melayu-5_3Y8cT1cDo.mp3 9\n"
     ]
    },
    {
     "name": "stderr",
     "output_type": "stream",
     "text": [
      "100%|██████████| 9/9 [00:44<00:00,  4.97s/it]\n"
     ]
    },
    {
     "name": "stdout",
     "output_type": "stream",
     "text": [
      "DONE: 204 / 405\n"
     ]
    },
    {
     "name": "stderr",
     "output_type": "stream",
     "text": [
      "\r",
      "  0%|          | 0/132 [00:00<?, ?it/s]"
     ]
    },
    {
     "name": "stdout",
     "output_type": "stream",
     "text": [
      "PODCAST-MELAYU-_-MAK-DARE,-LEGEND-JOGET-DANGKONG-_-HANGKATE-&-MAK-DARE-abxOhJLMQ7g.mp3 132\n"
     ]
    },
    {
     "name": "stderr",
     "output_type": "stream",
     "text": [
      "100%|██████████| 132/132 [13:29<00:00,  6.13s/it]\n"
     ]
    },
    {
     "name": "stdout",
     "output_type": "stream",
     "text": [
      "DONE: 205 / 405\n"
     ]
    },
    {
     "name": "stderr",
     "output_type": "stream",
     "text": [
      "\r",
      "  0%|          | 0/10 [00:00<?, ?it/s]"
     ]
    },
    {
     "name": "stdout",
     "output_type": "stream",
     "text": [
      "Vadivelu-Komedi---Dalam-bahasa-melayu🤣🤣-OFWSn1zOwJM.mp3 10\n"
     ]
    },
    {
     "name": "stderr",
     "output_type": "stream",
     "text": [
      "100%|██████████| 10/10 [00:47<00:00,  4.75s/it]\n"
     ]
    },
    {
     "name": "stdout",
     "output_type": "stream",
     "text": [
      "DONE: 206 / 405\n"
     ]
    },
    {
     "name": "stderr",
     "output_type": "stream",
     "text": [
      "0it [00:00, ?it/s]"
     ]
    },
    {
     "name": "stdout",
     "output_type": "stream",
     "text": [
      "Bahasa-Melayu-semakin-terpinggir-qsMscVroqBY.mp3 0\n",
      "DONE: 207 / 405\n"
     ]
    },
    {
     "name": "stderr",
     "output_type": "stream",
     "text": [
      "\n",
      "  0%|          | 0/6 [00:00<?, ?it/s]"
     ]
    },
    {
     "name": "stdout",
     "output_type": "stream",
     "text": [
      "Episod-Penuh-Bing-_-70+-Minit-_-Eps-41-50-_-Bing-Bahasa-Melayu-IFARPduUg-Y.mp3 6\n"
     ]
    },
    {
     "name": "stderr",
     "output_type": "stream",
     "text": [
      "100%|██████████| 6/6 [00:32<00:00,  5.49s/it]\n"
     ]
    },
    {
     "name": "stdout",
     "output_type": "stream",
     "text": [
      "DONE: 208 / 405\n"
     ]
    },
    {
     "name": "stderr",
     "output_type": "stream",
     "text": [
      "0it [00:00, ?it/s]"
     ]
    },
    {
     "name": "stdout",
     "output_type": "stream",
     "text": [
      "We-Bare-Bears-_-Mimpi-Panda-_-Cartoon-Network-(Bahasa-Melayu)-6hZBa31SpPU.mp3 0\n",
      "DONE: 209 / 405\n"
     ]
    },
    {
     "name": "stderr",
     "output_type": "stream",
     "text": [
      "\n",
      "  0%|          | 0/5 [00:00<?, ?it/s]"
     ]
    },
    {
     "name": "stdout",
     "output_type": "stream",
     "text": [
      "Episod-Penuh-Bing-_-35+-Minit-_-Eps-6-10-_-Bing-Bahasa-Melayu-13Ezvi5mkW0.mp3 5\n"
     ]
    },
    {
     "name": "stderr",
     "output_type": "stream",
     "text": [
      "100%|██████████| 5/5 [00:23<00:00,  4.65s/it]\n"
     ]
    },
    {
     "name": "stdout",
     "output_type": "stream",
     "text": [
      "DONE: 210 / 405\n"
     ]
    },
    {
     "name": "stderr",
     "output_type": "stream",
     "text": [
      "\r",
      "  0%|          | 0/6 [00:00<?, ?it/s]"
     ]
    },
    {
     "name": "stdout",
     "output_type": "stream",
     "text": [
      "Episod-Penuh-Bing-_-70+-Minit-_-Eps-61-70-_-Bing-Bahasa-Melayu-SeVDUZFmMj0.mp3 6\n"
     ]
    },
    {
     "name": "stderr",
     "output_type": "stream",
     "text": [
      "100%|██████████| 6/6 [00:24<00:00,  4.06s/it]\n"
     ]
    },
    {
     "name": "stdout",
     "output_type": "stream",
     "text": [
      "DONE: 211 / 405\n"
     ]
    },
    {
     "name": "stderr",
     "output_type": "stream",
     "text": [
      "\r",
      "  0%|          | 0/79 [00:00<?, ?it/s]"
     ]
    },
    {
     "name": "stdout",
     "output_type": "stream",
     "text": [
      "Lagu-Bentuk-Untuk-Kanak-Kanak-_-Lagu-Kanak-Kanak-Melayu-Malaysia-_-Learn-Shapes-in-Malay-for-kids-ntepBAfQDbE.mp3 79\n"
     ]
    },
    {
     "name": "stderr",
     "output_type": "stream",
     "text": [
      "100%|██████████| 79/79 [04:36<00:00,  3.50s/it]\n"
     ]
    },
    {
     "name": "stdout",
     "output_type": "stream",
     "text": [
      "DONE: 212 / 405\n"
     ]
    },
    {
     "name": "stderr",
     "output_type": "stream",
     "text": [
      "\r",
      "  0%|          | 0/9 [00:00<?, ?it/s]"
     ]
    },
    {
     "name": "stdout",
     "output_type": "stream",
     "text": [
      "Saya-Anak-Malaysia-2018-(Bahasa-Malaysia-Version)-VebUb5j_daU.mp3 9\n"
     ]
    },
    {
     "name": "stderr",
     "output_type": "stream",
     "text": [
      "100%|██████████| 9/9 [00:48<00:00,  5.37s/it]\n"
     ]
    },
    {
     "name": "stdout",
     "output_type": "stream",
     "text": [
      "DONE: 213 / 405\n"
     ]
    },
    {
     "name": "stderr",
     "output_type": "stream",
     "text": [
      "\r",
      "  0%|          | 0/47 [00:00<?, ?it/s]"
     ]
    },
    {
     "name": "stdout",
     "output_type": "stream",
     "text": [
      "PODCAST-MELAYU-_-HANGKATE-MENYANYAH-DENGAN-EVAN-KAKAO-_-2020-pEo1Q7zfyEM.mp3 47\n"
     ]
    },
    {
     "name": "stderr",
     "output_type": "stream",
     "text": [
      "100%|██████████| 47/47 [06:09<00:00,  7.87s/it]\n"
     ]
    },
    {
     "name": "stdout",
     "output_type": "stream",
     "text": [
      "DONE: 214 / 405\n"
     ]
    },
    {
     "name": "stderr",
     "output_type": "stream",
     "text": [
      "\r",
      "  0%|          | 0/3 [00:00<?, ?it/s]"
     ]
    },
    {
     "name": "stdout",
     "output_type": "stream",
     "text": [
      "Tahun-3-_-Bahasa-Melayu-_-Tatabahasa---Kata-Nafi-Q8op7Y0KN_Y.mp3 3\n"
     ]
    },
    {
     "name": "stderr",
     "output_type": "stream",
     "text": [
      "100%|██████████| 3/3 [00:04<00:00,  1.52s/it]\n"
     ]
    },
    {
     "name": "stdout",
     "output_type": "stream",
     "text": [
      "DONE: 215 / 405\n"
     ]
    },
    {
     "name": "stderr",
     "output_type": "stream",
     "text": [
      "\r",
      "  0%|          | 0/5 [00:00<?, ?it/s]"
     ]
    },
    {
     "name": "stdout",
     "output_type": "stream",
     "text": [
      "Setan-seram--JiqvYzd0No.mp3 5\n"
     ]
    },
    {
     "name": "stderr",
     "output_type": "stream",
     "text": [
      "100%|██████████| 5/5 [00:27<00:00,  5.45s/it]\n"
     ]
    },
    {
     "name": "stdout",
     "output_type": "stream",
     "text": [
      "DONE: 216 / 405\n"
     ]
    },
    {
     "name": "stderr",
     "output_type": "stream",
     "text": [
      "\r",
      "  0%|          | 0/1 [00:00<?, ?it/s]"
     ]
    },
    {
     "name": "stdout",
     "output_type": "stream",
     "text": [
      "Bahasa-melayu-moden-(bmk-2012)-DLDs1A1f5gA.mp3 1\n"
     ]
    },
    {
     "name": "stderr",
     "output_type": "stream",
     "text": [
      "100%|██████████| 1/1 [00:00<00:00,  1.03it/s]\n"
     ]
    },
    {
     "name": "stdout",
     "output_type": "stream",
     "text": [
      "DONE: 217 / 405\n"
     ]
    },
    {
     "name": "stderr",
     "output_type": "stream",
     "text": [
      "\r",
      "  0%|          | 0/2 [00:00<?, ?it/s]"
     ]
    },
    {
     "name": "stdout",
     "output_type": "stream",
     "text": [
      "Tahun-2-_-Bahasa-Melayu-_-Tatabahasa---Kata-Ganda-nEF9RhGL5L0.mp3 2\n"
     ]
    },
    {
     "name": "stderr",
     "output_type": "stream",
     "text": [
      "100%|██████████| 2/2 [00:05<00:00,  2.61s/it]\n"
     ]
    },
    {
     "name": "stdout",
     "output_type": "stream",
     "text": [
      "DONE: 218 / 405\n"
     ]
    },
    {
     "name": "stderr",
     "output_type": "stream",
     "text": [
      "\r",
      "  0%|          | 0/5 [00:00<?, ?it/s]"
     ]
    },
    {
     "name": "stdout",
     "output_type": "stream",
     "text": [
      "Tahun-4-_-Bahasa-Melayu-_-Penulisan---Karangan-Melengkapkan-Cerita-0yhKpaxacIw.mp3 5\n"
     ]
    },
    {
     "name": "stderr",
     "output_type": "stream",
     "text": [
      "100%|██████████| 5/5 [00:07<00:00,  1.40s/it]\n"
     ]
    },
    {
     "name": "stdout",
     "output_type": "stream",
     "text": [
      "DONE: 219 / 405\n"
     ]
    },
    {
     "name": "stderr",
     "output_type": "stream",
     "text": [
      "\r",
      "  0%|          | 0/20 [00:00<?, ?it/s]"
     ]
    },
    {
     "name": "stdout",
     "output_type": "stream",
     "text": [
      "CURHAT-BERSAMA-KETUA-KONSULAT-MALAYSIA-#PODCAST-BY-FAIZ-ohmis2VKkcg.mp3 20\n"
     ]
    },
    {
     "name": "stderr",
     "output_type": "stream",
     "text": [
      "100%|██████████| 20/20 [02:28<00:00,  7.41s/it]\n"
     ]
    },
    {
     "name": "stdout",
     "output_type": "stream",
     "text": [
      "DONE: 220 / 405\n"
     ]
    },
    {
     "name": "stderr",
     "output_type": "stream",
     "text": [
      "\r",
      "  0%|          | 0/1 [00:00<?, ?it/s]"
     ]
    },
    {
     "name": "stdout",
     "output_type": "stream",
     "text": [
      "Main-Sorok-Sorok-_-Episod-Penuh-Bing-_-Bing-Bahasa-Melayu-Pjl5O2uAlvI.mp3 1\n"
     ]
    },
    {
     "name": "stderr",
     "output_type": "stream",
     "text": [
      "100%|██████████| 1/1 [00:00<00:00,  1.27it/s]\n"
     ]
    },
    {
     "name": "stdout",
     "output_type": "stream",
     "text": [
      "DONE: 221 / 405\n"
     ]
    },
    {
     "name": "stderr",
     "output_type": "stream",
     "text": [
      "\r",
      "  0%|          | 0/5 [00:00<?, ?it/s]"
     ]
    },
    {
     "name": "stdout",
     "output_type": "stream",
     "text": [
      "SEJARAH-KONTRAK-SOSIAL-_-PERMINTAAN-KEWARGANEGARAAN-BRITISH-TAN-CHENG-LOCK-DITOLAK-hqLpCkWqzC0.mp3 5\n"
     ]
    },
    {
     "name": "stderr",
     "output_type": "stream",
     "text": [
      "100%|██████████| 5/5 [00:26<00:00,  5.20s/it]\n"
     ]
    },
    {
     "name": "stdout",
     "output_type": "stream",
     "text": [
      "DONE: 222 / 405\n"
     ]
    },
    {
     "name": "stderr",
     "output_type": "stream",
     "text": [
      "\r",
      "  0%|          | 0/8 [00:00<?, ?it/s]"
     ]
    },
    {
     "name": "stdout",
     "output_type": "stream",
     "text": [
      "INI-ARTI-'UNGKAL'-BAHASA-MELAYU-_-HANGKATE-miitDmjow68.mp3 8\n"
     ]
    },
    {
     "name": "stderr",
     "output_type": "stream",
     "text": [
      "100%|██████████| 8/8 [00:56<00:00,  7.08s/it]\n"
     ]
    },
    {
     "name": "stdout",
     "output_type": "stream",
     "text": [
      "DONE: 223 / 405\n"
     ]
    },
    {
     "name": "stderr",
     "output_type": "stream",
     "text": [
      "\r",
      "  0%|          | 0/80 [00:00<?, ?it/s]"
     ]
    },
    {
     "name": "stdout",
     "output_type": "stream",
     "text": [
      "PODCAST-MELAYU-_-BANG-FAKHRI-BUJANG-TELAJAK-TAK-_-HANGKATE-&-FAKHRI-JwxIGfrgX48.mp3 80\n"
     ]
    },
    {
     "name": "stderr",
     "output_type": "stream",
     "text": [
      "100%|██████████| 80/80 [08:48<00:00,  6.61s/it]\n"
     ]
    },
    {
     "name": "stdout",
     "output_type": "stream",
     "text": [
      "DONE: 224 / 405\n"
     ]
    },
    {
     "name": "stderr",
     "output_type": "stream",
     "text": [
      "\r",
      "  0%|          | 0/3 [00:00<?, ?it/s]"
     ]
    },
    {
     "name": "stdout",
     "output_type": "stream",
     "text": [
      "Number-Song-1-10-in-Malay-_-Learn-Malay-_-Bahasa-Melayu!---KidsMusicTime-CVkPpZwk7n0.mp3 3\n"
     ]
    },
    {
     "name": "stderr",
     "output_type": "stream",
     "text": [
      "100%|██████████| 3/3 [00:26<00:00,  8.94s/it]\n"
     ]
    },
    {
     "name": "stdout",
     "output_type": "stream",
     "text": [
      "DONE: 225 / 405\n"
     ]
    },
    {
     "name": "stderr",
     "output_type": "stream",
     "text": [
      "\r",
      "  0%|          | 0/12 [00:00<?, ?it/s]"
     ]
    },
    {
     "name": "stdout",
     "output_type": "stream",
     "text": [
      "Soalan-Bocor-Ramalan-SPM-Bahasa-Melayu-2020-_-2021-fMQ6ESPRtSo.mp3 12\n"
     ]
    },
    {
     "name": "stderr",
     "output_type": "stream",
     "text": [
      "100%|██████████| 12/12 [00:20<00:00,  1.68s/it]\n"
     ]
    },
    {
     "name": "stdout",
     "output_type": "stream",
     "text": [
      "DONE: 226 / 405\n"
     ]
    },
    {
     "name": "stderr",
     "output_type": "stream",
     "text": [
      "\r",
      "  0%|          | 0/2 [00:00<?, ?it/s]"
     ]
    },
    {
     "name": "stdout",
     "output_type": "stream",
     "text": [
      "MAMAK---BILA-KAU-TAK-FAHAM-BAHASA-MELAYU-DAN-MUKA-KAU-TAK-MACAM-MELAYU-NdaLaL6yCNI.mp3 2\n"
     ]
    },
    {
     "name": "stderr",
     "output_type": "stream",
     "text": [
      "100%|██████████| 2/2 [00:06<00:00,  3.24s/it]\n"
     ]
    },
    {
     "name": "stdout",
     "output_type": "stream",
     "text": [
      "DONE: 227 / 405\n"
     ]
    },
    {
     "name": "stderr",
     "output_type": "stream",
     "text": [
      "0it [00:00, ?it/s]"
     ]
    },
    {
     "name": "stdout",
     "output_type": "stream",
     "text": [
      "Talkie-Taxi-_-Episod-Penuh-Bing-_-Bing-Bahasa-Melayu-dRl_B7evc9A.mp3 0\n",
      "DONE: 228 / 405\n"
     ]
    },
    {
     "name": "stderr",
     "output_type": "stream",
     "text": [
      "\n",
      "  0%|          | 0/196 [00:00<?, ?it/s]"
     ]
    },
    {
     "name": "stdout",
     "output_type": "stream",
     "text": [
      "Kisah-Seram-Rumah-Di-TEMBURONG-BRUNEI-_-Padah-Tak-Nak-'BERSIHKAN-RUMAH'-Bila-Pindah-_-Guest-Shafyre-h-4TC0ta-qA.mp3 196\n"
     ]
    },
    {
     "name": "stderr",
     "output_type": "stream",
     "text": [
      "100%|██████████| 196/196 [09:07<00:00,  2.80s/it]\n"
     ]
    },
    {
     "name": "stdout",
     "output_type": "stream",
     "text": [
      "DONE: 229 / 405\n"
     ]
    },
    {
     "name": "stderr",
     "output_type": "stream",
     "text": [
      "\r",
      "  0%|          | 0/200 [00:00<?, ?it/s]"
     ]
    },
    {
     "name": "stdout",
     "output_type": "stream",
     "text": [
      "Rumah-Kawan-Di-GELANG-PATAH-Ada-Tetamu-SERAM-_-Ada-ORANG-Luar-Tingkap-Rumah-TINGKAT-11-DI-TAMPINES-hwjPdvW2czs.mp3 200\n"
     ]
    },
    {
     "name": "stderr",
     "output_type": "stream",
     "text": [
      "100%|██████████| 200/200 [07:37<00:00,  2.29s/it]\n"
     ]
    },
    {
     "name": "stdout",
     "output_type": "stream",
     "text": [
      "DONE: 230 / 405\n"
     ]
    },
    {
     "name": "stderr",
     "output_type": "stream",
     "text": [
      "\r",
      "  0%|          | 0/3 [00:00<?, ?it/s]"
     ]
    },
    {
     "name": "stdout",
     "output_type": "stream",
     "text": [
      "Episod-Penuh-Bing-_-35+-Minit-_-Eps-46-50-_-Bing-Bahasa-Melayu-CKZTrYyjP5g.mp3 3\n"
     ]
    },
    {
     "name": "stderr",
     "output_type": "stream",
     "text": [
      "100%|██████████| 3/3 [00:10<00:00,  3.55s/it]\n"
     ]
    },
    {
     "name": "stdout",
     "output_type": "stream",
     "text": [
      "DONE: 231 / 405\n"
     ]
    },
    {
     "name": "stderr",
     "output_type": "stream",
     "text": [
      "\r",
      "  0%|          | 0/25 [00:00<?, ?it/s]"
     ]
    },
    {
     "name": "stdout",
     "output_type": "stream",
     "text": [
      "Translate-Bahasa-Melayu-ke-Bahasa-Inggeris-BULAT-BULAT!-CL3eFyp8yy0.mp3 25\n"
     ]
    },
    {
     "name": "stderr",
     "output_type": "stream",
     "text": [
      "100%|██████████| 25/25 [01:32<00:00,  3.72s/it]\n"
     ]
    },
    {
     "name": "stdout",
     "output_type": "stream",
     "text": [
      "DONE: 232 / 405\n"
     ]
    },
    {
     "name": "stderr",
     "output_type": "stream",
     "text": [
      "\r",
      "  0%|          | 0/5 [00:00<?, ?it/s]"
     ]
    },
    {
     "name": "stdout",
     "output_type": "stream",
     "text": [
      "Tahun-6-_-Bahasa-Melayu-UPSR-_-Tatabahasa---Penggunaan-Kata-NFytuspozcA.mp3 5\n"
     ]
    },
    {
     "name": "stderr",
     "output_type": "stream",
     "text": [
      "100%|██████████| 5/5 [00:07<00:00,  1.41s/it]\n"
     ]
    },
    {
     "name": "stdout",
     "output_type": "stream",
     "text": [
      "DONE: 233 / 405\n"
     ]
    },
    {
     "name": "stderr",
     "output_type": "stream",
     "text": [
      "\r",
      "  0%|          | 0/72 [00:00<?, ?it/s]"
     ]
    },
    {
     "name": "stdout",
     "output_type": "stream",
     "text": [
      "RAHSIA-KESEDARAN-TERHADAP-DIRI-(PODCAST)-cyU3Qgox3K4.mp3 72\n"
     ]
    },
    {
     "name": "stderr",
     "output_type": "stream",
     "text": [
      "100%|██████████| 72/72 [02:29<00:00,  2.08s/it]\n"
     ]
    },
    {
     "name": "stdout",
     "output_type": "stream",
     "text": [
      "DONE: 234 / 405\n"
     ]
    },
    {
     "name": "stderr",
     "output_type": "stream",
     "text": [
      "\r",
      "  0%|          | 0/31 [00:00<?, ?it/s]"
     ]
    },
    {
     "name": "stdout",
     "output_type": "stream",
     "text": [
      "Bahasa-Challenge----Bahasa-Palembang-VS-Bahasa-Melayu-Malaysia---Mirip-Bahasa-Malaysia-apa-Indonesia-7y3ifzjXOJo.mp3 31\n"
     ]
    },
    {
     "name": "stderr",
     "output_type": "stream",
     "text": [
      "100%|██████████| 31/31 [04:04<00:00,  7.90s/it]\n"
     ]
    },
    {
     "name": "stdout",
     "output_type": "stream",
     "text": [
      "DONE: 235 / 405\n"
     ]
    },
    {
     "name": "stderr",
     "output_type": "stream",
     "text": [
      "\r",
      "  0%|          | 0/1 [00:00<?, ?it/s]"
     ]
    },
    {
     "name": "stdout",
     "output_type": "stream",
     "text": [
      "Tahun-3-_-Bahasa-Melayu-_-Kemahiran-Mendengar-dan-Bertutur---Ayat-Suruhan-dan-Ayat-Permintaan-AQ4pM5ThfKc.mp3 1\n"
     ]
    },
    {
     "name": "stderr",
     "output_type": "stream",
     "text": [
      "100%|██████████| 1/1 [00:01<00:00,  1.29s/it]\n"
     ]
    },
    {
     "name": "stdout",
     "output_type": "stream",
     "text": [
      "DONE: 236 / 405\n"
     ]
    },
    {
     "name": "stderr",
     "output_type": "stream",
     "text": [
      "\r",
      "  0%|          | 0/38 [00:00<?, ?it/s]"
     ]
    },
    {
     "name": "stdout",
     "output_type": "stream",
     "text": [
      "CEKAL-BM@6-PODCAST----BAHASA-MELAYU-PENULISAN-BAHAGIAN-A-i4_jYaXHIDA.mp3 38\n"
     ]
    },
    {
     "name": "stderr",
     "output_type": "stream",
     "text": [
      "100%|██████████| 38/38 [04:08<00:00,  6.53s/it]\n"
     ]
    },
    {
     "name": "stdout",
     "output_type": "stream",
     "text": [
      "DONE: 237 / 405\n"
     ]
    },
    {
     "name": "stderr",
     "output_type": "stream",
     "text": [
      "\r",
      "  0%|          | 0/8 [00:00<?, ?it/s]"
     ]
    },
    {
     "name": "stdout",
     "output_type": "stream",
     "text": [
      "Kakak-Kondom-Pilot-Episode-9QxRN2hnOOg.mp3 8\n"
     ]
    },
    {
     "name": "stderr",
     "output_type": "stream",
     "text": [
      "100%|██████████| 8/8 [00:29<00:00,  3.72s/it]\n"
     ]
    },
    {
     "name": "stdout",
     "output_type": "stream",
     "text": [
      "DONE: 238 / 405\n"
     ]
    },
    {
     "name": "stderr",
     "output_type": "stream",
     "text": [
      "\r",
      "  0%|          | 0/4 [00:00<?, ?it/s]"
     ]
    },
    {
     "name": "stdout",
     "output_type": "stream",
     "text": [
      "Tahun-4-_-Bahasa-Melayu-_-Petikan-c0QmbjNQIq0.mp3 4\n"
     ]
    },
    {
     "name": "stderr",
     "output_type": "stream",
     "text": [
      "100%|██████████| 4/4 [00:12<00:00,  3.13s/it]\n"
     ]
    },
    {
     "name": "stdout",
     "output_type": "stream",
     "text": [
      "DONE: 239 / 405\n"
     ]
    },
    {
     "name": "stderr",
     "output_type": "stream",
     "text": [
      "\r",
      "  0%|          | 0/32 [00:00<?, ?it/s]"
     ]
    },
    {
     "name": "stdout",
     "output_type": "stream",
     "text": [
      "ENGLISH-VS-MELAYU-(-BAHASA-)-JH8MHFUm65s.mp3 32\n"
     ]
    },
    {
     "name": "stderr",
     "output_type": "stream",
     "text": [
      "100%|██████████| 32/32 [01:24<00:00,  2.64s/it]\n"
     ]
    },
    {
     "name": "stdout",
     "output_type": "stream",
     "text": [
      "DONE: 240 / 405\n"
     ]
    },
    {
     "name": "stderr",
     "output_type": "stream",
     "text": [
      "\r",
      "  0%|          | 0/38 [00:00<?, ?it/s]"
     ]
    },
    {
     "name": "stdout",
     "output_type": "stream",
     "text": [
      "BAHASA-MALAYSIA-VS-BAHASA-INDONESIA-_-EXTREME-!!-_-Righaz-Family-_-Vlog-Keluarga-UC8QfVJ8kpA.mp3 38\n"
     ]
    },
    {
     "name": "stderr",
     "output_type": "stream",
     "text": [
      "100%|██████████| 38/38 [04:22<00:00,  6.91s/it]\n"
     ]
    },
    {
     "name": "stdout",
     "output_type": "stream",
     "text": [
      "DONE: 241 / 405\n"
     ]
    },
    {
     "name": "stderr",
     "output_type": "stream",
     "text": [
      "\r",
      "  0%|          | 0/85 [00:00<?, ?it/s]"
     ]
    },
    {
     "name": "stdout",
     "output_type": "stream",
     "text": [
      "Kelas-@-Rumah-(Bahasa-Melayu-Tahun-1)-Mqcr14jcYqI.mp3 85\n"
     ]
    },
    {
     "name": "stderr",
     "output_type": "stream",
     "text": [
      "100%|██████████| 85/85 [03:55<00:00,  2.77s/it]\n"
     ]
    },
    {
     "name": "stdout",
     "output_type": "stream",
     "text": [
      "DONE: 242 / 405\n"
     ]
    },
    {
     "name": "stderr",
     "output_type": "stream",
     "text": [
      "\r",
      "  0%|          | 0/94 [00:00<?, ?it/s]"
     ]
    },
    {
     "name": "stdout",
     "output_type": "stream",
     "text": [
      "BAHASA-MELAYU-STPM-SEMESTER-2---PERBINCANGAN-SOALAN-STPM-2019(BAHAGIAN-A)-6taK3sF_doE.mp3 94\n"
     ]
    },
    {
     "name": "stderr",
     "output_type": "stream",
     "text": [
      "100%|██████████| 94/94 [03:23<00:00,  2.16s/it]\n"
     ]
    },
    {
     "name": "stdout",
     "output_type": "stream",
     "text": [
      "DONE: 243 / 405\n"
     ]
    },
    {
     "name": "stderr",
     "output_type": "stream",
     "text": [
      "\r",
      "  0%|          | 0/30 [00:00<?, ?it/s]"
     ]
    },
    {
     "name": "stdout",
     "output_type": "stream",
     "text": [
      "Cara-Mudah-Membina-Ulasan-Bahasa-Melayu-Penulisan-UPSR-Bahagian-B-hsUdOuZW7fA.mp3 30\n"
     ]
    },
    {
     "name": "stderr",
     "output_type": "stream",
     "text": [
      "100%|██████████| 30/30 [00:46<00:00,  1.56s/it]\n"
     ]
    },
    {
     "name": "stdout",
     "output_type": "stream",
     "text": [
      "DONE: 244 / 405\n"
     ]
    },
    {
     "name": "stderr",
     "output_type": "stream",
     "text": [
      "\r",
      "  0%|          | 0/8 [00:00<?, ?it/s]"
     ]
    },
    {
     "name": "stdout",
     "output_type": "stream",
     "text": [
      "Pingu-in-bahasa-melayu-4bY_YD1BysI.mp3 8\n"
     ]
    },
    {
     "name": "stderr",
     "output_type": "stream",
     "text": [
      "100%|██████████| 8/8 [00:54<00:00,  6.80s/it]\n"
     ]
    },
    {
     "name": "stdout",
     "output_type": "stream",
     "text": [
      "DONE: 245 / 405\n"
     ]
    },
    {
     "name": "stderr",
     "output_type": "stream",
     "text": [
      "\r",
      "  0%|          | 0/1 [00:00<?, ?it/s]"
     ]
    },
    {
     "name": "stdout",
     "output_type": "stream",
     "text": [
      "Tahun-4-_-Bahasa-Melayu-_-Analisis-Kesalahan-Bahasa-CKrriNvcuUk.mp3 1\n"
     ]
    },
    {
     "name": "stderr",
     "output_type": "stream",
     "text": [
      "100%|██████████| 1/1 [00:01<00:00,  1.72s/it]\n"
     ]
    },
    {
     "name": "stdout",
     "output_type": "stream",
     "text": [
      "DONE: 246 / 405\n"
     ]
    },
    {
     "name": "stderr",
     "output_type": "stream",
     "text": [
      "\r",
      "  0%|          | 0/4 [00:00<?, ?it/s]"
     ]
    },
    {
     "name": "stdout",
     "output_type": "stream",
     "text": [
      "Tahun-4-_-Bahasa-Melayu-_-Peribahasa-nWtS4E32Yvs.mp3 4\n"
     ]
    },
    {
     "name": "stderr",
     "output_type": "stream",
     "text": [
      "100%|██████████| 4/4 [00:05<00:00,  1.43s/it]\n"
     ]
    },
    {
     "name": "stdout",
     "output_type": "stream",
     "text": [
      "DONE: 247 / 405\n"
     ]
    },
    {
     "name": "stderr",
     "output_type": "stream",
     "text": [
      "0it [00:00, ?it/s]"
     ]
    },
    {
     "name": "stdout",
     "output_type": "stream",
     "text": [
      "Voo-Voo-_-Episod-Penuh-Bing-_-Bing-Bahasa-Melayu-pIfpmQAbFIc.mp3 0\n",
      "DONE: 248 / 405\n"
     ]
    },
    {
     "name": "stderr",
     "output_type": "stream",
     "text": [
      "\n",
      "  0%|          | 0/100 [00:00<?, ?it/s]"
     ]
    },
    {
     "name": "stdout",
     "output_type": "stream",
     "text": [
      "TEKNIK-KAWAL-PANAS-BARAN-(PODCAST)-rwhXalBKmbE.mp3 100\n"
     ]
    },
    {
     "name": "stderr",
     "output_type": "stream",
     "text": [
      "100%|██████████| 100/100 [02:48<00:00,  1.69s/it]\n"
     ]
    },
    {
     "name": "stdout",
     "output_type": "stream",
     "text": [
      "DONE: 249 / 405\n"
     ]
    },
    {
     "name": "stderr",
     "output_type": "stream",
     "text": [
      "\r",
      "  0%|          | 0/9 [00:00<?, ?it/s]"
     ]
    },
    {
     "name": "stdout",
     "output_type": "stream",
     "text": [
      "shin-chan--Bahasa-Melayu-malam-ni-malam-barbeque-la-x-4bWQKfcp0.mp3 9\n"
     ]
    },
    {
     "name": "stderr",
     "output_type": "stream",
     "text": [
      "100%|██████████| 9/9 [01:02<00:00,  6.89s/it]\n"
     ]
    },
    {
     "name": "stdout",
     "output_type": "stream",
     "text": [
      "DONE: 250 / 405\n"
     ]
    },
    {
     "name": "stderr",
     "output_type": "stream",
     "text": [
      "\r",
      "  0%|          | 0/5 [00:00<?, ?it/s]"
     ]
    },
    {
     "name": "stdout",
     "output_type": "stream",
     "text": [
      "Iban-Kahwin-dengan-Melayu-Sarawak-AOjk8dcZ0Ds.mp3 5\n"
     ]
    },
    {
     "name": "stderr",
     "output_type": "stream",
     "text": [
      "100%|██████████| 5/5 [00:19<00:00,  3.97s/it]\n"
     ]
    },
    {
     "name": "stdout",
     "output_type": "stream",
     "text": [
      "DONE: 251 / 405\n"
     ]
    },
    {
     "name": "stderr",
     "output_type": "stream",
     "text": [
      "\r",
      "  0%|          | 0/5 [00:00<?, ?it/s]"
     ]
    },
    {
     "name": "stdout",
     "output_type": "stream",
     "text": [
      "#AWANIJr---Bahasa-Melayu-di-Thailand-s2b1ZOIDJy0.mp3 5\n"
     ]
    },
    {
     "name": "stderr",
     "output_type": "stream",
     "text": [
      "100%|██████████| 5/5 [00:10<00:00,  2.18s/it]\n"
     ]
    },
    {
     "name": "stdout",
     "output_type": "stream",
     "text": [
      "DONE: 252 / 405\n"
     ]
    },
    {
     "name": "stderr",
     "output_type": "stream",
     "text": [
      "\r",
      "  0%|          | 0/129 [00:00<?, ?it/s]"
     ]
    },
    {
     "name": "stdout",
     "output_type": "stream",
     "text": [
      "TIPS-&-TRIK-MC-ala-Bang-Fakhri-_-PILIH-MC-ATAU-NIKAH-_-HANGKATE-&-BANG-FAKHRI-_-PODCAST-MELAYU-6AJTs4DcwAs.mp3 129\n"
     ]
    },
    {
     "name": "stderr",
     "output_type": "stream",
     "text": [
      "100%|██████████| 129/129 [09:06<00:00,  4.24s/it]\n"
     ]
    },
    {
     "name": "stdout",
     "output_type": "stream",
     "text": [
      "DONE: 253 / 405\n"
     ]
    },
    {
     "name": "stderr",
     "output_type": "stream",
     "text": [
      "\r",
      "  0%|          | 0/10 [00:00<?, ?it/s]"
     ]
    },
    {
     "name": "stdout",
     "output_type": "stream",
     "text": [
      "LAGU-SIMPULAN-BAHASA_BAHASA-MELAYU-jURbQSJm7lw.mp3 10\n"
     ]
    },
    {
     "name": "stderr",
     "output_type": "stream",
     "text": [
      "100%|██████████| 10/10 [01:12<00:00,  7.29s/it]\n"
     ]
    },
    {
     "name": "stdout",
     "output_type": "stream",
     "text": [
      "DONE: 254 / 405\n"
     ]
    },
    {
     "name": "stderr",
     "output_type": "stream",
     "text": [
      "\r",
      "  0%|          | 0/173 [00:00<?, ?it/s]"
     ]
    },
    {
     "name": "stdout",
     "output_type": "stream",
     "text": [
      "Wanita-Indonesia-JUAL-KAIN-BATIK-Jam-11_45pm-Di-SG-_-Main-HIDE-&-SEEK-Hilang-2-Malam-_-05-NOV-2019-zGYkKkh9RO4.mp3 173\n"
     ]
    },
    {
     "name": "stderr",
     "output_type": "stream",
     "text": [
      "100%|██████████| 173/173 [06:08<00:00,  2.13s/it]\n"
     ]
    },
    {
     "name": "stdout",
     "output_type": "stream",
     "text": [
      "DONE: 255 / 405\n"
     ]
    },
    {
     "name": "stderr",
     "output_type": "stream",
     "text": [
      "0it [00:00, ?it/s]"
     ]
    },
    {
     "name": "stdout",
     "output_type": "stream",
     "text": [
      "video-bahasa-melayu--perbualan-di-kantin-88W2q6y7dZs.mp3 0\n",
      "DONE: 256 / 405\n"
     ]
    },
    {
     "name": "stderr",
     "output_type": "stream",
     "text": [
      "\n",
      "  0%|          | 0/3 [00:00<?, ?it/s]"
     ]
    },
    {
     "name": "stdout",
     "output_type": "stream",
     "text": [
      "Mesin-Kejutan-_-Episod-Penuh-Bing-_-Bing-Bahasa-Melayu-6koVQNMX2-s.mp3 3\n"
     ]
    },
    {
     "name": "stderr",
     "output_type": "stream",
     "text": [
      "100%|██████████| 3/3 [00:11<00:00,  3.99s/it]\n"
     ]
    },
    {
     "name": "stdout",
     "output_type": "stream",
     "text": [
      "DONE: 257 / 405\n"
     ]
    },
    {
     "name": "stderr",
     "output_type": "stream",
     "text": [
      "\r",
      "  0%|          | 0/76 [00:00<?, ?it/s]"
     ]
    },
    {
     "name": "stdout",
     "output_type": "stream",
     "text": [
      "First-Experiences-in-Malaysia-_-GbasGbos-Podcast-EP1-UDd5tSxHbJI.mp3 76\n"
     ]
    },
    {
     "name": "stderr",
     "output_type": "stream",
     "text": [
      "100%|██████████| 76/76 [11:50<00:00,  9.35s/it]\n"
     ]
    },
    {
     "name": "stdout",
     "output_type": "stream",
     "text": [
      "DONE: 258 / 405\n"
     ]
    },
    {
     "name": "stderr",
     "output_type": "stream",
     "text": [
      "\r",
      "  0%|          | 0/41 [00:00<?, ?it/s]"
     ]
    },
    {
     "name": "stdout",
     "output_type": "stream",
     "text": [
      "INI-CARA-MENANGKAL-HIPNOTIS-_-HANGKATE-&-YOAN-_-PODCAST-MELAYU-#PART2-tgpjUEIbq2k.mp3 41\n"
     ]
    },
    {
     "name": "stderr",
     "output_type": "stream",
     "text": [
      "100%|██████████| 41/41 [05:20<00:00,  7.81s/it]\n"
     ]
    },
    {
     "name": "stdout",
     "output_type": "stream",
     "text": [
      "DONE: 259 / 405\n"
     ]
    },
    {
     "name": "stderr",
     "output_type": "stream",
     "text": [
      "\r",
      "  0%|          | 0/3 [00:00<?, ?it/s]"
     ]
    },
    {
     "name": "stdout",
     "output_type": "stream",
     "text": [
      "Tahun-4-_-Bahasa-Melayu-_-Membina-Ayat-dan-Perenggan-Berdasarkan-Bahan-Grafik-br-93IMIM3k.mp3 3\n"
     ]
    },
    {
     "name": "stderr",
     "output_type": "stream",
     "text": [
      "100%|██████████| 3/3 [00:04<00:00,  1.66s/it]\n"
     ]
    },
    {
     "name": "stdout",
     "output_type": "stream",
     "text": [
      "DONE: 260 / 405\n"
     ]
    },
    {
     "name": "stderr",
     "output_type": "stream",
     "text": [
      "\r",
      "  0%|          | 0/5 [00:00<?, ?it/s]"
     ]
    },
    {
     "name": "stdout",
     "output_type": "stream",
     "text": [
      "Tahun-4-_-Bahasa-Melayu-_-Sebutan-TswWJ2yHcSo.mp3 5\n"
     ]
    },
    {
     "name": "stderr",
     "output_type": "stream",
     "text": [
      "100%|██████████| 5/5 [00:07<00:00,  1.45s/it]\n"
     ]
    },
    {
     "name": "stdout",
     "output_type": "stream",
     "text": [
      "DONE: 261 / 405\n"
     ]
    },
    {
     "name": "stderr",
     "output_type": "stream",
     "text": [
      "\r",
      "  0%|          | 0/1 [00:00<?, ?it/s]"
     ]
    },
    {
     "name": "stdout",
     "output_type": "stream",
     "text": [
      "30-Mei---BAHASA-MELAYU-BAHASA-KELIMA-DUNIA-FgrOHHP1O1U.mp3 1\n"
     ]
    },
    {
     "name": "stderr",
     "output_type": "stream",
     "text": [
      "100%|██████████| 1/1 [00:01<00:00,  1.71s/it]\n"
     ]
    },
    {
     "name": "stdout",
     "output_type": "stream",
     "text": [
      "DONE: 262 / 405\n"
     ]
    },
    {
     "name": "stderr",
     "output_type": "stream",
     "text": [
      "\r",
      "  0%|          | 0/108 [00:00<?, ?it/s]"
     ]
    },
    {
     "name": "stdout",
     "output_type": "stream",
     "text": [
      "BUSANA-MELAYU-DALAM-MENGHADAPI-ERA-MODERENISASI,-NGAH-AROEL-PODCAST-DALAM-HUTAN-BENYAMOK..!!-🙄--zKaMLtelIE.mp3 108\n"
     ]
    },
    {
     "name": "stderr",
     "output_type": "stream",
     "text": [
      "100%|██████████| 108/108 [07:07<00:00,  3.96s/it]\n"
     ]
    },
    {
     "name": "stdout",
     "output_type": "stream",
     "text": [
      "DONE: 263 / 405\n"
     ]
    },
    {
     "name": "stderr",
     "output_type": "stream",
     "text": [
      "\r",
      "  0%|          | 0/132 [00:00<?, ?it/s]"
     ]
    },
    {
     "name": "stdout",
     "output_type": "stream",
     "text": [
      "PODCAST-MELAYU-_-PEMAIN-BIOLA-KORBAN-CORONA--_-ADI-LINGKEPIN-Q9Rp_f0ixqA.mp3 132\n"
     ]
    },
    {
     "name": "stderr",
     "output_type": "stream",
     "text": [
      "100%|██████████| 132/132 [18:50<00:00,  8.56s/it]\n"
     ]
    },
    {
     "name": "stdout",
     "output_type": "stream",
     "text": [
      "DONE: 264 / 405\n"
     ]
    },
    {
     "name": "stderr",
     "output_type": "stream",
     "text": [
      "\r",
      "  0%|          | 0/33 [00:00<?, ?it/s]"
     ]
    },
    {
     "name": "stdout",
     "output_type": "stream",
     "text": [
      "10-kali-Travel-Indonesia,-cerita-sebenar-Layanan-Orang-Indonesia-Terhadap-Orang-Malaysia-oXujxayY3-U.mp3 33\n"
     ]
    },
    {
     "name": "stderr",
     "output_type": "stream",
     "text": [
      "100%|██████████| 33/33 [01:13<00:00,  2.22s/it]\n"
     ]
    },
    {
     "name": "stdout",
     "output_type": "stream",
     "text": [
      "DONE: 265 / 405\n"
     ]
    },
    {
     "name": "stderr",
     "output_type": "stream",
     "text": [
      "\r",
      "  0%|          | 0/130 [00:00<?, ?it/s]"
     ]
    },
    {
     "name": "stdout",
     "output_type": "stream",
     "text": [
      "PODCAST-CEKAL-BM@6----AKTIVITI-PENULISAN-BAHASA-MELAYU-BAHAGIAN-A-wvqPrBq9KoA.mp3 130\n"
     ]
    },
    {
     "name": "stderr",
     "output_type": "stream",
     "text": [
      "100%|██████████| 130/130 [11:35<00:00,  5.35s/it]\n"
     ]
    },
    {
     "name": "stdout",
     "output_type": "stream",
     "text": [
      "DONE: 266 / 405\n"
     ]
    },
    {
     "name": "stderr",
     "output_type": "stream",
     "text": [
      "\r",
      "  0%|          | 0/31 [00:00<?, ?it/s]"
     ]
    },
    {
     "name": "stdout",
     "output_type": "stream",
     "text": [
      "Belajar-Inggeris-Dalam-Bahasa-Melayu---Penambahan-'S'-Pada-Kata-Kerja-17vUZlJNmE8.mp3 31\n"
     ]
    },
    {
     "name": "stderr",
     "output_type": "stream",
     "text": [
      "100%|██████████| 31/31 [01:57<00:00,  3.79s/it]\n"
     ]
    },
    {
     "name": "stdout",
     "output_type": "stream",
     "text": [
      "DONE: 267 / 405\n"
     ]
    },
    {
     "name": "stderr",
     "output_type": "stream",
     "text": [
      "\r",
      "  0%|          | 0/17 [00:00<?, ?it/s]"
     ]
    },
    {
     "name": "stdout",
     "output_type": "stream",
     "text": [
      "PEMULA-_-Belajar-Kosa-Kata-Bahasa-'Malaysia'-(bahasa-melayu)-_-PART-4-0swVLUDln1U.mp3 17\n"
     ]
    },
    {
     "name": "stderr",
     "output_type": "stream",
     "text": [
      "100%|██████████| 17/17 [01:02<00:00,  3.70s/it]\n"
     ]
    },
    {
     "name": "stdout",
     "output_type": "stream",
     "text": [
      "DONE: 268 / 405\n"
     ]
    },
    {
     "name": "stderr",
     "output_type": "stream",
     "text": [
      "\r",
      "  0%|          | 0/35 [00:00<?, ?it/s]"
     ]
    },
    {
     "name": "stdout",
     "output_type": "stream",
     "text": [
      "Tip-Skor-A+-dalam-SPM-Bahasa-Melayu-_ZnpSEffVus.mp3 35\n"
     ]
    },
    {
     "name": "stderr",
     "output_type": "stream",
     "text": [
      "100%|██████████| 35/35 [01:36<00:00,  2.76s/it]\n"
     ]
    },
    {
     "name": "stdout",
     "output_type": "stream",
     "text": [
      "DONE: 269 / 405\n"
     ]
    },
    {
     "name": "stderr",
     "output_type": "stream",
     "text": [
      "\r",
      "  0%|          | 0/121 [00:00<?, ?it/s]"
     ]
    },
    {
     "name": "stdout",
     "output_type": "stream",
     "text": [
      "Bahasa-Melayu-(STPM)----Asal-Usul-Bahasa-Melayu---Cikgu-Hjh-Che-Bahagia-Binti-Mat-Arshad-s7yUrKlMfMs.mp3 121\n"
     ]
    },
    {
     "name": "stderr",
     "output_type": "stream",
     "text": [
      "100%|██████████| 121/121 [05:45<00:00,  2.85s/it]\n"
     ]
    },
    {
     "name": "stdout",
     "output_type": "stream",
     "text": [
      "DONE: 270 / 405\n"
     ]
    },
    {
     "name": "stderr",
     "output_type": "stream",
     "text": [
      "\r",
      "  0%|          | 0/64 [00:00<?, ?it/s]"
     ]
    },
    {
     "name": "stdout",
     "output_type": "stream",
     "text": [
      "PODCAST-MELAYU-_-MALU-JADI-PENARI-TRADISIONAL-_-HANGKATE-&-HALIM-#part1-DUp3-eoDXDY.mp3 64\n"
     ]
    },
    {
     "name": "stderr",
     "output_type": "stream",
     "text": [
      "100%|██████████| 64/64 [08:45<00:00,  8.20s/it]\n"
     ]
    },
    {
     "name": "stdout",
     "output_type": "stream",
     "text": [
      "DONE: 271 / 405\n"
     ]
    },
    {
     "name": "stderr",
     "output_type": "stream",
     "text": [
      "\r",
      "  0%|          | 0/29 [00:00<?, ?it/s]"
     ]
    },
    {
     "name": "stdout",
     "output_type": "stream",
     "text": [
      "Bahasa-Melayu-yang-menjadi-bahasa-kita.-h1x0vRF01wo.mp3 29\n"
     ]
    },
    {
     "name": "stderr",
     "output_type": "stream",
     "text": [
      "100%|██████████| 29/29 [00:48<00:00,  1.67s/it]\n"
     ]
    },
    {
     "name": "stdout",
     "output_type": "stream",
     "text": [
      "DONE: 272 / 405\n"
     ]
    },
    {
     "name": "stderr",
     "output_type": "stream",
     "text": [
      "\r",
      "  0%|          | 0/1 [00:00<?, ?it/s]"
     ]
    },
    {
     "name": "stdout",
     "output_type": "stream",
     "text": [
      "Gelap-_-Episod-Penuh-Bing-_-Bing-Bahasa-Melayu-qblrkdiDIB0.mp3 1\n"
     ]
    },
    {
     "name": "stderr",
     "output_type": "stream",
     "text": [
      "100%|██████████| 1/1 [00:00<00:00,  1.08it/s]\n"
     ]
    },
    {
     "name": "stdout",
     "output_type": "stream",
     "text": [
      "DONE: 273 / 405\n"
     ]
    },
    {
     "name": "stderr",
     "output_type": "stream",
     "text": [
      "\r",
      "  0%|          | 0/5 [00:00<?, ?it/s]"
     ]
    },
    {
     "name": "stdout",
     "output_type": "stream",
     "text": [
      "Kata-Kerja-Bahasa-Melayu-STPM----Penggunaan-KePOP-I1qzC6vRcOw.mp3 5\n"
     ]
    },
    {
     "name": "stderr",
     "output_type": "stream",
     "text": [
      "100%|██████████| 5/5 [00:08<00:00,  1.65s/it]\n"
     ]
    },
    {
     "name": "stdout",
     "output_type": "stream",
     "text": [
      "DONE: 274 / 405\n"
     ]
    },
    {
     "name": "stderr",
     "output_type": "stream",
     "text": [
      "\r",
      "  0%|          | 0/31 [00:00<?, ?it/s]"
     ]
    },
    {
     "name": "stdout",
     "output_type": "stream",
     "text": [
      "Macam-mana-Bahasa-Melayu-Tanpa-Kata-Pinjaman-Asing-(Teka-Beka-Melayu)-QoA1y20tyOw.mp3 31\n"
     ]
    },
    {
     "name": "stderr",
     "output_type": "stream",
     "text": [
      "100%|██████████| 31/31 [01:27<00:00,  2.81s/it]\n"
     ]
    },
    {
     "name": "stdout",
     "output_type": "stream",
     "text": [
      "DONE: 275 / 405\n"
     ]
    },
    {
     "name": "stderr",
     "output_type": "stream",
     "text": [
      "\r",
      "  0%|          | 0/6 [00:00<?, ?it/s]"
     ]
    },
    {
     "name": "stdout",
     "output_type": "stream",
     "text": [
      "Tahun-4-_-Bahasa-Melayu-_-Tatabahasa---Kata-Adjektif-98nCidEwxUQ.mp3 6\n"
     ]
    },
    {
     "name": "stderr",
     "output_type": "stream",
     "text": [
      "100%|██████████| 6/6 [00:08<00:00,  1.36s/it]\n"
     ]
    },
    {
     "name": "stdout",
     "output_type": "stream",
     "text": [
      "DONE: 276 / 405\n"
     ]
    },
    {
     "name": "stderr",
     "output_type": "stream",
     "text": [
      "\r",
      "  0%|          | 0/43 [00:00<?, ?it/s]"
     ]
    },
    {
     "name": "stdout",
     "output_type": "stream",
     "text": [
      "Bing-_-15-Minit-_-Bing---Bit-Terbaik-_-Bing-Bahasa-Melayu-HOG7VG9wzo4.mp3 43\n"
     ]
    },
    {
     "name": "stderr",
     "output_type": "stream",
     "text": [
      "100%|██████████| 43/43 [02:16<00:00,  3.18s/it]\n"
     ]
    },
    {
     "name": "stdout",
     "output_type": "stream",
     "text": [
      "DONE: 277 / 405\n"
     ]
    },
    {
     "name": "stderr",
     "output_type": "stream",
     "text": [
      "\r",
      "  0%|          | 0/54 [00:00<?, ?it/s]"
     ]
    },
    {
     "name": "stdout",
     "output_type": "stream",
     "text": [
      "Eh,-Ada-Podcast-yZfmrVMiFlM.mp3 54\n"
     ]
    },
    {
     "name": "stderr",
     "output_type": "stream",
     "text": [
      "100%|██████████| 54/54 [07:11<00:00,  7.99s/it]\n"
     ]
    },
    {
     "name": "stdout",
     "output_type": "stream",
     "text": [
      "DONE: 278 / 405\n"
     ]
    },
    {
     "name": "stderr",
     "output_type": "stream",
     "text": [
      "\r",
      "  0%|          | 0/4 [00:00<?, ?it/s]"
     ]
    },
    {
     "name": "stdout",
     "output_type": "stream",
     "text": [
      "Bahasa-Melayu-Tahun-1-Unit-13-Meriahnya-Perayaan-_-WS-Studio-76IFrzPkK90.mp3 4\n"
     ]
    },
    {
     "name": "stderr",
     "output_type": "stream",
     "text": [
      "100%|██████████| 4/4 [00:07<00:00,  1.87s/it]\n"
     ]
    },
    {
     "name": "stdout",
     "output_type": "stream",
     "text": [
      "DONE: 279 / 405\n"
     ]
    },
    {
     "name": "stderr",
     "output_type": "stream",
     "text": [
      "\r",
      "  0%|          | 0/20 [00:00<?, ?it/s]"
     ]
    },
    {
     "name": "stdout",
     "output_type": "stream",
     "text": [
      "PERSAMAAN-BAHASA-INDONESIA-DAN-BAHASA-MALAYSIA-#04-L1PdL8Rm5Fw.mp3 20\n"
     ]
    },
    {
     "name": "stderr",
     "output_type": "stream",
     "text": [
      "100%|██████████| 20/20 [01:25<00:00,  4.27s/it]\n"
     ]
    },
    {
     "name": "stdout",
     "output_type": "stream",
     "text": [
      "DONE: 280 / 405\n"
     ]
    },
    {
     "name": "stderr",
     "output_type": "stream",
     "text": [
      "0it [00:00, ?it/s]"
     ]
    },
    {
     "name": "stdout",
     "output_type": "stream",
     "text": [
      "Shin-Chan-Malay-Bahasa-Melayu-2020---Bermain-Di-Rumah-Kazama-6odp-hg12PQ.mp3 0\n",
      "DONE: 281 / 405\n"
     ]
    },
    {
     "name": "stderr",
     "output_type": "stream",
     "text": [
      "\n",
      "  0%|          | 0/25 [00:00<?, ?it/s]"
     ]
    },
    {
     "name": "stdout",
     "output_type": "stream",
     "text": [
      "MONA-FANDEY!-AKHIR-PERJALANAN-HIDUP-DUKUN-HITAM-DARI-TANAH-MELAYU-#PODCAST-juMPCZl76YU.mp3 25\n"
     ]
    },
    {
     "name": "stderr",
     "output_type": "stream",
     "text": [
      "100%|██████████| 25/25 [02:19<00:00,  5.56s/it]\n"
     ]
    },
    {
     "name": "stdout",
     "output_type": "stream",
     "text": [
      "DONE: 282 / 405\n"
     ]
    },
    {
     "name": "stderr",
     "output_type": "stream",
     "text": [
      "\r",
      "  0%|          | 0/21 [00:00<?, ?it/s]"
     ]
    },
    {
     "name": "stdout",
     "output_type": "stream",
     "text": [
      "Podcast-Eps.-3---Cinta-Sama-Orang-yang-Mustahil-untuk-Dimiliki-ifZoresllkg.mp3 21\n"
     ]
    },
    {
     "name": "stderr",
     "output_type": "stream",
     "text": [
      "100%|██████████| 21/21 [00:33<00:00,  1.60s/it]\n"
     ]
    },
    {
     "name": "stdout",
     "output_type": "stream",
     "text": [
      "DONE: 283 / 405\n"
     ]
    },
    {
     "name": "stderr",
     "output_type": "stream",
     "text": [
      "\r",
      "  0%|          | 0/2 [00:00<?, ?it/s]"
     ]
    },
    {
     "name": "stdout",
     "output_type": "stream",
     "text": [
      "Trailer-----Sejarah-Dibalik-Peninggalan-Kerajaan-Melayu-Kuno-wNR-zqwJdfQ.mp3 2\n"
     ]
    },
    {
     "name": "stderr",
     "output_type": "stream",
     "text": [
      "100%|██████████| 2/2 [00:14<00:00,  7.31s/it]\n"
     ]
    },
    {
     "name": "stdout",
     "output_type": "stream",
     "text": [
      "DONE: 284 / 405\n"
     ]
    },
    {
     "name": "stderr",
     "output_type": "stream",
     "text": [
      "\r",
      "  0%|          | 0/66 [00:00<?, ?it/s]"
     ]
    },
    {
     "name": "stdout",
     "output_type": "stream",
     "text": [
      "Orang-luar-tak-tahu-MALAYSIA-kat-mana-(Q&A)-buKxhlW0Rr4.mp3 66\n"
     ]
    },
    {
     "name": "stderr",
     "output_type": "stream",
     "text": [
      "100%|██████████| 66/66 [03:01<00:00,  2.74s/it]\n"
     ]
    },
    {
     "name": "stdout",
     "output_type": "stream",
     "text": [
      "DONE: 285 / 405\n"
     ]
    },
    {
     "name": "stderr",
     "output_type": "stream",
     "text": [
      "\r",
      "  0%|          | 0/23 [00:00<?, ?it/s]"
     ]
    },
    {
     "name": "stdout",
     "output_type": "stream",
     "text": [
      "Makeup-in-Bahasa-Melayu!-_-Athisha-Khan--rdE2wXOsUg.mp3 23\n"
     ]
    },
    {
     "name": "stderr",
     "output_type": "stream",
     "text": [
      "100%|██████████| 23/23 [02:27<00:00,  6.40s/it]\n"
     ]
    },
    {
     "name": "stdout",
     "output_type": "stream",
     "text": [
      "DONE: 286 / 405\n"
     ]
    },
    {
     "name": "stderr",
     "output_type": "stream",
     "text": [
      "\r",
      "  0%|          | 0/10 [00:00<?, ?it/s]"
     ]
    },
    {
     "name": "stdout",
     "output_type": "stream",
     "text": [
      "Bing-Bahasa-Melayu-_-Bing---Bit-Terbaik-_-Bermain-Permainan!-_-10-Minit-3eejV_7ixdU.mp3 10\n"
     ]
    },
    {
     "name": "stderr",
     "output_type": "stream",
     "text": [
      "100%|██████████| 10/10 [00:39<00:00,  3.95s/it]\n"
     ]
    },
    {
     "name": "stdout",
     "output_type": "stream",
     "text": [
      "DONE: 287 / 405\n"
     ]
    },
    {
     "name": "stderr",
     "output_type": "stream",
     "text": [
      "\r",
      "  0%|          | 0/70 [00:00<?, ?it/s]"
     ]
    },
    {
     "name": "stdout",
     "output_type": "stream",
     "text": [
      "Koleksi-Lagu-UMMI-_-BAHASA-MELAYU-_-KIDS-SONG-_-ISLAMIC-SONG-_-23-MINUTES-jW4xQDuOZho.mp3 70\n"
     ]
    },
    {
     "name": "stderr",
     "output_type": "stream",
     "text": [
      "100%|██████████| 70/70 [06:52<00:00,  5.89s/it]\n"
     ]
    },
    {
     "name": "stdout",
     "output_type": "stream",
     "text": [
      "DONE: 288 / 405\n"
     ]
    },
    {
     "name": "stderr",
     "output_type": "stream",
     "text": [
      "\r",
      "  0%|          | 0/18 [00:00<?, ?it/s]"
     ]
    },
    {
     "name": "stdout",
     "output_type": "stream",
     "text": [
      "TAJUK----ULASAN---BAHASA-MELAYU-TINGKATAN-1---PT3---PUSAT-TUISYEN-AR-PINTAR-itOqGPwrFjk.mp3 18\n"
     ]
    },
    {
     "name": "stderr",
     "output_type": "stream",
     "text": [
      "100%|██████████| 18/18 [01:39<00:00,  5.51s/it]\n"
     ]
    },
    {
     "name": "stdout",
     "output_type": "stream",
     "text": [
      "DONE: 289 / 405\n"
     ]
    },
    {
     "name": "stderr",
     "output_type": "stream",
     "text": [
      "\r",
      "  0%|          | 0/23 [00:00<?, ?it/s]"
     ]
    },
    {
     "name": "stdout",
     "output_type": "stream",
     "text": [
      "ORANG-INDONESIA-BELAJAR-DAN-BERCAKAP-BAHASA-MELAYU-UNTUK-PERTAMA-KALI-EPISOD-1-15jkBau0lKQ.mp3 23\n"
     ]
    },
    {
     "name": "stderr",
     "output_type": "stream",
     "text": [
      "100%|██████████| 23/23 [01:15<00:00,  3.29s/it]\n"
     ]
    },
    {
     "name": "stdout",
     "output_type": "stream",
     "text": [
      "DONE: 290 / 405\n"
     ]
    },
    {
     "name": "stderr",
     "output_type": "stream",
     "text": [
      "0it [00:00, ?it/s]"
     ]
    },
    {
     "name": "stdout",
     "output_type": "stream",
     "text": [
      "PIDATO-BAHASA-MELAYU-SK-DtwI0jIhde4.mp3 0\n",
      "DONE: 291 / 405\n"
     ]
    },
    {
     "name": "stderr",
     "output_type": "stream",
     "text": [
      "\n",
      "  0%|          | 0/1 [00:00<?, ?it/s]"
     ]
    },
    {
     "name": "stdout",
     "output_type": "stream",
     "text": [
      "Bahasa-Malaysia-(Suku-Kata-1)-K7ZW4GADNe0.mp3 1\n"
     ]
    },
    {
     "name": "stderr",
     "output_type": "stream",
     "text": [
      "100%|██████████| 1/1 [00:00<00:00,  4.81it/s]\n"
     ]
    },
    {
     "name": "stdout",
     "output_type": "stream",
     "text": [
      "DONE: 292 / 405\n"
     ]
    },
    {
     "name": "stderr",
     "output_type": "stream",
     "text": [
      "\r",
      "  0%|          | 0/6 [00:00<?, ?it/s]"
     ]
    },
    {
     "name": "stdout",
     "output_type": "stream",
     "text": [
      "Bahasa-Melayu-Tahun-1-(Penjodoh-Bilangan)-t3NrY5HauE4.mp3 6\n"
     ]
    },
    {
     "name": "stderr",
     "output_type": "stream",
     "text": [
      "100%|██████████| 6/6 [00:18<00:00,  3.02s/it]\n"
     ]
    },
    {
     "name": "stdout",
     "output_type": "stream",
     "text": [
      "DONE: 293 / 405\n"
     ]
    },
    {
     "name": "stderr",
     "output_type": "stream",
     "text": [
      "\r",
      "  0%|          | 0/12 [00:00<?, ?it/s]"
     ]
    },
    {
     "name": "stdout",
     "output_type": "stream",
     "text": [
      "CAKAP-BAHASA-MELAYU-kGLaBQJLWYs.mp3 12\n"
     ]
    },
    {
     "name": "stderr",
     "output_type": "stream",
     "text": [
      "100%|██████████| 12/12 [00:39<00:00,  3.28s/it]\n"
     ]
    },
    {
     "name": "stdout",
     "output_type": "stream",
     "text": [
      "DONE: 294 / 405\n"
     ]
    },
    {
     "name": "stderr",
     "output_type": "stream",
     "text": [
      "\r",
      "  0%|          | 0/8 [00:00<?, ?it/s]"
     ]
    },
    {
     "name": "stdout",
     "output_type": "stream",
     "text": [
      "Bahasa-Melayu-Tahun-1-Kata-Tanya-piRwuYAjgYg.mp3 8\n"
     ]
    },
    {
     "name": "stderr",
     "output_type": "stream",
     "text": [
      "100%|██████████| 8/8 [00:10<00:00,  1.35s/it]\n"
     ]
    },
    {
     "name": "stdout",
     "output_type": "stream",
     "text": [
      "DONE: 295 / 405\n",
      "Unable to process >4GB files\n",
      "DONE: 296 / 405\n"
     ]
    },
    {
     "name": "stderr",
     "output_type": "stream",
     "text": [
      "0it [00:00, ?it/s]"
     ]
    },
    {
     "name": "stdout",
     "output_type": "stream",
     "text": [
      "Bahasa-Melayu-SJKC-Tahun-3-Unit-13--ms82-m3mF5vIpVBQ.mp3 0\n",
      "DONE: 297 / 405\n"
     ]
    },
    {
     "name": "stderr",
     "output_type": "stream",
     "text": [
      "\n",
      "  0%|          | 0/101 [00:00<?, ?it/s]"
     ]
    },
    {
     "name": "stdout",
     "output_type": "stream",
     "text": [
      "Single-Player-Game-dah-Pupus!!-_-Cheezie-Buddy-Podcast-EP01-(MALAY)-mbxja_EJhpU.mp3 101\n"
     ]
    },
    {
     "name": "stderr",
     "output_type": "stream",
     "text": [
      "100%|██████████| 101/101 [08:19<00:00,  4.94s/it]\n"
     ]
    },
    {
     "name": "stdout",
     "output_type": "stream",
     "text": [
      "DONE: 298 / 405\n"
     ]
    },
    {
     "name": "stderr",
     "output_type": "stream",
     "text": [
      "\r",
      "  0%|          | 0/3 [00:00<?, ?it/s]"
     ]
    },
    {
     "name": "stdout",
     "output_type": "stream",
     "text": [
      "PARTI-MELAYU-BAHARU-TUN-MAHATHIR-_-DIPANDANG-SEPI-KAUM-MELAYU-_-DICURIGAI-KAUM-CINA-BFvv5SrWUTE.mp3 3\n"
     ]
    },
    {
     "name": "stderr",
     "output_type": "stream",
     "text": [
      "100%|██████████| 3/3 [00:08<00:00,  2.93s/it]\n"
     ]
    },
    {
     "name": "stdout",
     "output_type": "stream",
     "text": [
      "DONE: 299 / 405\n"
     ]
    },
    {
     "name": "stderr",
     "output_type": "stream",
     "text": [
      "\r",
      "  0%|          | 0/3 [00:00<?, ?it/s]"
     ]
    },
    {
     "name": "stdout",
     "output_type": "stream",
     "text": [
      "Tahun-3-_-Bahasa-Melayu-_-Seni-Bahasa---Syair-WE4LDlM3Syw.mp3 3\n"
     ]
    },
    {
     "name": "stderr",
     "output_type": "stream",
     "text": [
      "100%|██████████| 3/3 [00:03<00:00,  1.12s/it]\n"
     ]
    },
    {
     "name": "stdout",
     "output_type": "stream",
     "text": [
      "DONE: 300 / 405\n"
     ]
    },
    {
     "name": "stderr",
     "output_type": "stream",
     "text": [
      "\r",
      "  0%|          | 0/47 [00:00<?, ?it/s]"
     ]
    },
    {
     "name": "stdout",
     "output_type": "stream",
     "text": [
      "24-JAM-NGOMONG-PAKE-BAHASA-MELAYU-_-ADE-&-IRA-PdoeYKgOYVs.mp3 47\n"
     ]
    },
    {
     "name": "stderr",
     "output_type": "stream",
     "text": [
      "100%|██████████| 47/47 [03:51<00:00,  4.93s/it]\n"
     ]
    },
    {
     "name": "stdout",
     "output_type": "stream",
     "text": [
      "DONE: 301 / 405\n"
     ]
    },
    {
     "name": "stderr",
     "output_type": "stream",
     "text": [
      "\r",
      "  0%|          | 0/7 [00:00<?, ?it/s]"
     ]
    },
    {
     "name": "stdout",
     "output_type": "stream",
     "text": [
      "Tahun-6-_-Bahasa-Melayu-UPSR-_-Tatabahasa---Kata-Hampir-Sama-Makna-G3Y07pzTMrc.mp3 7\n"
     ]
    },
    {
     "name": "stderr",
     "output_type": "stream",
     "text": [
      "100%|██████████| 7/7 [00:09<00:00,  1.37s/it]\n"
     ]
    },
    {
     "name": "stdout",
     "output_type": "stream",
     "text": [
      "DONE: 302 / 405\n"
     ]
    },
    {
     "name": "stderr",
     "output_type": "stream",
     "text": [
      "\r",
      "  0%|          | 0/41 [00:00<?, ?it/s]"
     ]
    },
    {
     "name": "stdout",
     "output_type": "stream",
     "text": [
      "Malay(Bahasa-Malaysia)-English---500-most-common-words-in-English-Malay---Bahasa-Inggeris-kiqG1JTWGso.mp3 41\n"
     ]
    },
    {
     "name": "stderr",
     "output_type": "stream",
     "text": [
      "100%|██████████| 41/41 [03:04<00:00,  4.51s/it]\n"
     ]
    },
    {
     "name": "stdout",
     "output_type": "stream",
     "text": [
      "DONE: 303 / 405\n"
     ]
    },
    {
     "name": "stderr",
     "output_type": "stream",
     "text": [
      "\r",
      "  0%|          | 0/5 [00:00<?, ?it/s]"
     ]
    },
    {
     "name": "stdout",
     "output_type": "stream",
     "text": [
      "Tahun-6-_-Bahasa-Melayu-UPSR-_-Penulisan---Karangan-Ucapan-5S-e-5e45Ys.mp3 5\n"
     ]
    },
    {
     "name": "stderr",
     "output_type": "stream",
     "text": [
      "100%|██████████| 5/5 [00:06<00:00,  1.38s/it]\n"
     ]
    },
    {
     "name": "stdout",
     "output_type": "stream",
     "text": [
      "DONE: 304 / 405\n"
     ]
    },
    {
     "name": "stderr",
     "output_type": "stream",
     "text": [
      "\r",
      "  0%|          | 0/27 [00:00<?, ?it/s]"
     ]
    },
    {
     "name": "stdout",
     "output_type": "stream",
     "text": [
      "Tokmat_podcast-EP002--_Ciri-Ciri-Pemimpin-Dan-Anak-Melayu-Berkualiti--QdxDn_2kG5U.mp3 27\n"
     ]
    },
    {
     "name": "stderr",
     "output_type": "stream",
     "text": [
      "100%|██████████| 27/27 [02:25<00:00,  5.39s/it]\n"
     ]
    },
    {
     "name": "stdout",
     "output_type": "stream",
     "text": [
      "DONE: 305 / 405\n"
     ]
    },
    {
     "name": "stderr",
     "output_type": "stream",
     "text": [
      "\r",
      "  0%|          | 0/3 [00:00<?, ?it/s]"
     ]
    },
    {
     "name": "stdout",
     "output_type": "stream",
     "text": [
      "DAP-ANTI-ISLAM-&-MELAYU---Persepsi-Salah-DAP-Sendiri---Dr-Kamarul-Zaman-Yusoff-1hSkvYltrYo.mp3 3\n"
     ]
    },
    {
     "name": "stderr",
     "output_type": "stream",
     "text": [
      "100%|██████████| 3/3 [00:09<00:00,  3.22s/it]\n"
     ]
    },
    {
     "name": "stdout",
     "output_type": "stream",
     "text": [
      "DONE: 306 / 405\n"
     ]
    },
    {
     "name": "stderr",
     "output_type": "stream",
     "text": [
      "\r",
      "  0%|          | 0/102 [00:00<?, ?it/s]"
     ]
    },
    {
     "name": "stdout",
     "output_type": "stream",
     "text": [
      "Kerajaan-Kampung-Melayu-Podcast-EP-2-Pintu-_L-nhPETMQk.mp3 102\n"
     ]
    },
    {
     "name": "stderr",
     "output_type": "stream",
     "text": [
      "100%|██████████| 102/102 [11:28<00:00,  6.75s/it]\n"
     ]
    },
    {
     "name": "stdout",
     "output_type": "stream",
     "text": [
      "DONE: 307 / 405\n"
     ]
    },
    {
     "name": "stderr",
     "output_type": "stream",
     "text": [
      "\r",
      "  0%|          | 0/5 [00:00<?, ?it/s]"
     ]
    },
    {
     "name": "stdout",
     "output_type": "stream",
     "text": [
      "Tahun-4-_-Bahasa-Melayu-_-Pantun-_zSQr0odLIY.mp3 5\n"
     ]
    },
    {
     "name": "stderr",
     "output_type": "stream",
     "text": [
      "100%|██████████| 5/5 [00:07<00:00,  1.46s/it]\n"
     ]
    },
    {
     "name": "stdout",
     "output_type": "stream",
     "text": [
      "DONE: 308 / 405\n"
     ]
    },
    {
     "name": "stderr",
     "output_type": "stream",
     "text": [
      "\r",
      "  0%|          | 0/8 [00:00<?, ?it/s]"
     ]
    },
    {
     "name": "stdout",
     "output_type": "stream",
     "text": [
      "17_6_2020-Rabu-(Bahasa-Melayu-Tahun-2)----Isi-Tersurat-dan-Isi-Tersirat-cM5Pc5lGzL4.mp3 8\n"
     ]
    },
    {
     "name": "stderr",
     "output_type": "stream",
     "text": [
      "100%|██████████| 8/8 [00:16<00:00,  2.03s/it]\n"
     ]
    },
    {
     "name": "stdout",
     "output_type": "stream",
     "text": [
      "DONE: 309 / 405\n"
     ]
    },
    {
     "name": "stderr",
     "output_type": "stream",
     "text": [
      "\r",
      "  0%|          | 0/4 [00:00<?, ?it/s]"
     ]
    },
    {
     "name": "stdout",
     "output_type": "stream",
     "text": [
      "Learn-Malay-Language-Belajar-Bahasa-Melayu-Ep.1-cMtJYGHsg4E.mp3 4\n"
     ]
    },
    {
     "name": "stderr",
     "output_type": "stream",
     "text": [
      "100%|██████████| 4/4 [00:54<00:00, 13.71s/it]\n"
     ]
    },
    {
     "name": "stdout",
     "output_type": "stream",
     "text": [
      "DONE: 310 / 405\n"
     ]
    },
    {
     "name": "stderr",
     "output_type": "stream",
     "text": [
      "\r",
      "  0%|          | 0/2 [00:00<?, ?it/s]"
     ]
    },
    {
     "name": "stdout",
     "output_type": "stream",
     "text": [
      "BAHASA-MELAYU-STPM-SEMESTER-2---ANALISIS-KESALAHAN-BAHASA-fK0DOwEhr6o.mp3 2\n"
     ]
    },
    {
     "name": "stderr",
     "output_type": "stream",
     "text": [
      "100%|██████████| 2/2 [00:04<00:00,  2.26s/it]\n"
     ]
    },
    {
     "name": "stdout",
     "output_type": "stream",
     "text": [
      "DONE: 311 / 405\n"
     ]
    },
    {
     "name": "stderr",
     "output_type": "stream",
     "text": [
      "\r",
      "  0%|          | 0/32 [00:00<?, ?it/s]"
     ]
    },
    {
     "name": "stdout",
     "output_type": "stream",
     "text": [
      "Bahasa-Melayu-Tahun-2-Pantun-(muka-surat-30,-47,-52)-mO5inhESjMs.mp3 32\n"
     ]
    },
    {
     "name": "stderr",
     "output_type": "stream",
     "text": [
      "100%|██████████| 32/32 [00:51<00:00,  1.59s/it]\n"
     ]
    },
    {
     "name": "stdout",
     "output_type": "stream",
     "text": [
      "DONE: 312 / 405\n"
     ]
    },
    {
     "name": "stderr",
     "output_type": "stream",
     "text": [
      "\r",
      "  0%|          | 0/10 [00:00<?, ?it/s]"
     ]
    },
    {
     "name": "stdout",
     "output_type": "stream",
     "text": [
      "Musim-sejuk-dengan-Bing-_-10-Minit-_-Bing---Bit-Terbaik-_-Bing-Bahasa-Melayu-o8QC-cXvxvs.mp3 10\n"
     ]
    },
    {
     "name": "stderr",
     "output_type": "stream",
     "text": [
      "100%|██████████| 10/10 [00:49<00:00,  4.92s/it]\n"
     ]
    },
    {
     "name": "stdout",
     "output_type": "stream",
     "text": [
      "DONE: 313 / 405\n"
     ]
    },
    {
     "name": "stderr",
     "output_type": "stream",
     "text": [
      "\r",
      "  0%|          | 0/29 [00:00<?, ?it/s]"
     ]
    },
    {
     "name": "stdout",
     "output_type": "stream",
     "text": [
      "Kisah-Itik-_-Cerita-Kanak-Kanak-_-Pengembaraan-Merbahaya-_-Kartun-Kanak-_-Bahasa-Melayu-Fairy-Tales-n2pDSe18Vuc.mp3 29\n"
     ]
    },
    {
     "name": "stderr",
     "output_type": "stream",
     "text": [
      "100%|██████████| 29/29 [00:47<00:00,  1.63s/it]\n"
     ]
    },
    {
     "name": "stdout",
     "output_type": "stream",
     "text": [
      "DONE: 314 / 405\n"
     ]
    },
    {
     "name": "stderr",
     "output_type": "stream",
     "text": [
      "\r",
      "  0%|          | 0/123 [00:00<?, ?it/s]"
     ]
    },
    {
     "name": "stdout",
     "output_type": "stream",
     "text": [
      "PERBEDAAN-PENGACARA-&-ADVOKAT-_HANGKATE-&-M.FAIZAL,-SH,.MM.-(-ADVOKAT-)_-PODCAST-MELAYU-qDjbYf0mVfQ.mp3 123\n"
     ]
    },
    {
     "name": "stderr",
     "output_type": "stream",
     "text": [
      "100%|██████████| 123/123 [09:13<00:00,  4.50s/it]\n"
     ]
    },
    {
     "name": "stdout",
     "output_type": "stream",
     "text": [
      "DONE: 315 / 405\n"
     ]
    },
    {
     "name": "stderr",
     "output_type": "stream",
     "text": [
      "\r",
      "  0%|          | 0/13 [00:00<?, ?it/s]"
     ]
    },
    {
     "name": "stdout",
     "output_type": "stream",
     "text": [
      "TEKA-EJAAN-BAHASA-MELAYU-YANG-BETUL-2-dsBk-ZS6LpQ.mp3 13\n"
     ]
    },
    {
     "name": "stderr",
     "output_type": "stream",
     "text": [
      "100%|██████████| 13/13 [00:18<00:00,  1.43s/it]\n"
     ]
    },
    {
     "name": "stdout",
     "output_type": "stream",
     "text": [
      "DONE: 316 / 405\n"
     ]
    },
    {
     "name": "stderr",
     "output_type": "stream",
     "text": [
      "\r",
      "  0%|          | 0/13 [00:00<?, ?it/s]"
     ]
    },
    {
     "name": "stdout",
     "output_type": "stream",
     "text": [
      "5-Filem-Malaysia-Paling-Panas-_-BABAK-RANJANG,-SEKS-DAN-SEKSI-dRDg7Y8AKE0.mp3 13\n"
     ]
    },
    {
     "name": "stderr",
     "output_type": "stream",
     "text": [
      "100%|██████████| 13/13 [00:44<00:00,  3.44s/it]\n"
     ]
    },
    {
     "name": "stdout",
     "output_type": "stream",
     "text": [
      "DONE: 317 / 405\n"
     ]
    },
    {
     "name": "stderr",
     "output_type": "stream",
     "text": [
      "\r",
      "  0%|          | 0/25 [00:00<?, ?it/s]"
     ]
    },
    {
     "name": "stdout",
     "output_type": "stream",
     "text": [
      "Karangan-Bahasa-Melayu-_-Cara-cara-Menghuraikan-Isi-Karangan-Am54edA3sLI.mp3 25\n"
     ]
    },
    {
     "name": "stderr",
     "output_type": "stream",
     "text": [
      "100%|██████████| 25/25 [00:52<00:00,  2.12s/it]\n"
     ]
    },
    {
     "name": "stdout",
     "output_type": "stream",
     "text": [
      "DONE: 318 / 405\n"
     ]
    },
    {
     "name": "stderr",
     "output_type": "stream",
     "text": [
      "\r",
      "  0%|          | 0/10 [00:00<?, ?it/s]"
     ]
    },
    {
     "name": "stdout",
     "output_type": "stream",
     "text": [
      "Chapter-2----Rahsia-5-Elemen-KERAJAAN-Diri-BGdRkDsiV0w.mp3 10\n"
     ]
    },
    {
     "name": "stderr",
     "output_type": "stream",
     "text": [
      "100%|██████████| 10/10 [00:26<00:00,  2.67s/it]\n"
     ]
    },
    {
     "name": "stdout",
     "output_type": "stream",
     "text": [
      "DONE: 319 / 405\n"
     ]
    },
    {
     "name": "stderr",
     "output_type": "stream",
     "text": [
      "\r",
      "  0%|          | 0/17 [00:00<?, ?it/s]"
     ]
    },
    {
     "name": "stdout",
     "output_type": "stream",
     "text": [
      "Comparison-between-Bahasa-Melayu-and-Bahasa-Indonesia-jgax05Qb-fw.mp3 17\n"
     ]
    },
    {
     "name": "stderr",
     "output_type": "stream",
     "text": [
      "100%|██████████| 17/17 [00:55<00:00,  3.25s/it]\n"
     ]
    },
    {
     "name": "stdout",
     "output_type": "stream",
     "text": [
      "DONE: 320 / 405\n"
     ]
    },
    {
     "name": "stderr",
     "output_type": "stream",
     "text": [
      "0it [00:00, ?it/s]"
     ]
    },
    {
     "name": "stdout",
     "output_type": "stream",
     "text": [
      "Medan-Kereta-_-Episod-Penuh-Bing-_-Bing-Bahasa-Melayu-q82OhdAnkjE.mp3 0\n",
      "DONE: 321 / 405\n"
     ]
    },
    {
     "name": "stderr",
     "output_type": "stream",
     "text": [
      "\n",
      "  0%|          | 0/3 [00:00<?, ?it/s]"
     ]
    },
    {
     "name": "stdout",
     "output_type": "stream",
     "text": [
      "Bing-Bahasa-Melayu-_-Episod-Penuh-Bing-_-35+-Minit-_-Eps-61-65-FAxXs9oZY2E.mp3 3\n"
     ]
    },
    {
     "name": "stderr",
     "output_type": "stream",
     "text": [
      "100%|██████████| 3/3 [00:06<00:00,  2.02s/it]\n"
     ]
    },
    {
     "name": "stdout",
     "output_type": "stream",
     "text": [
      "DONE: 322 / 405\n"
     ]
    },
    {
     "name": "stderr",
     "output_type": "stream",
     "text": [
      "\r",
      "  0%|          | 0/236 [00:00<?, ?it/s]"
     ]
    },
    {
     "name": "stdout",
     "output_type": "stream",
     "text": [
      "KEPALA-OTAK-[PODCAST-MALAYSIA]-bNhipBY1PGk.mp3 236\n"
     ]
    },
    {
     "name": "stderr",
     "output_type": "stream",
     "text": [
      "100%|██████████| 23/23 [01:03<00:00,  2.76s/it]t]\n"
     ]
    },
    {
     "name": "stdout",
     "output_type": "stream",
     "text": [
      "DONE: 327 / 405\n"
     ]
    },
    {
     "name": "stderr",
     "output_type": "stream",
     "text": [
      "\r",
      "  0%|          | 0/3 [00:00<?, ?it/s]"
     ]
    },
    {
     "name": "stdout",
     "output_type": "stream",
     "text": [
      "Bahasa-Melayu-Tahun-1-Unit-10-_-Soalan-Quizizz-_-WS-Studio-eL0qXRCyX6c.mp3 3\n"
     ]
    },
    {
     "name": "stderr",
     "output_type": "stream",
     "text": [
      "100%|██████████| 3/3 [00:06<00:00,  2.25s/it]\n"
     ]
    },
    {
     "name": "stdout",
     "output_type": "stream",
     "text": [
      "DONE: 328 / 405\n"
     ]
    },
    {
     "name": "stderr",
     "output_type": "stream",
     "text": [
      "0it [00:00, ?it/s]"
     ]
    },
    {
     "name": "stdout",
     "output_type": "stream",
     "text": [
      "Podcast-Orang-Miskin---Lima-Filem-Malaysia-Terbaik-NEo2K9sSy_s.mp3 0\n",
      "DONE: 329 / 405\n"
     ]
    },
    {
     "name": "stderr",
     "output_type": "stream",
     "text": [
      "\n",
      "  0%|          | 0/6 [00:00<?, ?it/s]"
     ]
    },
    {
     "name": "stdout",
     "output_type": "stream",
     "text": [
      "Pasal-sambal-belacan-gaes-Melayu-lingga-TfhA0FeEDfs.mp3 6\n"
     ]
    },
    {
     "name": "stderr",
     "output_type": "stream",
     "text": [
      "100%|██████████| 6/6 [00:17<00:00,  2.99s/it]\n"
     ]
    },
    {
     "name": "stdout",
     "output_type": "stream",
     "text": [
      "DONE: 330 / 405\n"
     ]
    },
    {
     "name": "stderr",
     "output_type": "stream",
     "text": [
      "\r",
      "  0%|          | 0/2 [00:00<?, ?it/s]"
     ]
    },
    {
     "name": "stdout",
     "output_type": "stream",
     "text": [
      "S.S.K-qlique-Malay-podcast-(vocal-only)-'first-kelakar-podcast-uPwlc64fkIM.mp3 2\n"
     ]
    },
    {
     "name": "stderr",
     "output_type": "stream",
     "text": [
      "100%|██████████| 2/2 [00:12<00:00,  6.42s/it]\n"
     ]
    },
    {
     "name": "stdout",
     "output_type": "stream",
     "text": [
      "DONE: 331 / 405\n"
     ]
    },
    {
     "name": "stderr",
     "output_type": "stream",
     "text": [
      "\r",
      "  0%|          | 0/12 [00:00<?, ?it/s]"
     ]
    },
    {
     "name": "stdout",
     "output_type": "stream",
     "text": [
      "Belajar-bahasa-Malaysia-(Bagian-2)-rO2jIE_Xt1s.mp3 12\n"
     ]
    },
    {
     "name": "stderr",
     "output_type": "stream",
     "text": [
      "100%|██████████| 12/12 [00:14<00:00,  1.22s/it]\n"
     ]
    },
    {
     "name": "stdout",
     "output_type": "stream",
     "text": [
      "DONE: 332 / 405\n"
     ]
    },
    {
     "name": "stderr",
     "output_type": "stream",
     "text": [
      "\r",
      "  0%|          | 0/5 [00:00<?, ?it/s]"
     ]
    },
    {
     "name": "stdout",
     "output_type": "stream",
     "text": [
      "Bahasa-Melayu---Tahun-3---Kata-Ganda-Separa-zf73wbPK-J4.mp3 5\n"
     ]
    },
    {
     "name": "stderr",
     "output_type": "stream",
     "text": [
      "100%|██████████| 5/5 [00:07<00:00,  1.56s/it]\n"
     ]
    },
    {
     "name": "stdout",
     "output_type": "stream",
     "text": [
      "DONE: 333 / 405\n"
     ]
    },
    {
     "name": "stderr",
     "output_type": "stream",
     "text": [
      "0it [00:00, ?it/s]"
     ]
    },
    {
     "name": "stdout",
     "output_type": "stream",
     "text": [
      "Berdandan-_-Episod-Penuh-Bing-_-Bing-Bahasa-Melayu-ZbksyIAQlRg.mp3 0\n",
      "DONE: 334 / 405\n"
     ]
    },
    {
     "name": "stderr",
     "output_type": "stream",
     "text": [
      "\n",
      "  0%|          | 0/29 [00:00<?, ?it/s]"
     ]
    },
    {
     "name": "stdout",
     "output_type": "stream",
     "text": [
      "PODCAST-Voice-to-Vision-Ep1----WAWASAN-PENTING-KE-8M0dmnylayA.mp3 29\n"
     ]
    },
    {
     "name": "stderr",
     "output_type": "stream",
     "text": [
      "100%|██████████| 29/29 [04:27<00:00,  9.23s/it]\n"
     ]
    },
    {
     "name": "stdout",
     "output_type": "stream",
     "text": [
      "DONE: 335 / 405\n"
     ]
    },
    {
     "name": "stderr",
     "output_type": "stream",
     "text": [
      "0it [00:00, ?it/s]"
     ]
    },
    {
     "name": "stdout",
     "output_type": "stream",
     "text": [
      "Kelas-@-Rumah-(Bahasa-Melayu)-lprQK5MZuLQ.mp3 0\n",
      "DONE: 336 / 405\n"
     ]
    },
    {
     "name": "stderr",
     "output_type": "stream",
     "text": [
      "\n",
      "0it [00:00, ?it/s]"
     ]
    },
    {
     "name": "stdout",
     "output_type": "stream",
     "text": [
      "Shin-Chan-Malay-Bahasa-Melayu-2020---Hari-Yg-Panas-9nGlVKtwdZk.mp3 0\n",
      "DONE: 337 / 405\n"
     ]
    },
    {
     "name": "stderr",
     "output_type": "stream",
     "text": [
      "\n",
      "  0%|          | 0/8 [00:00<?, ?it/s]"
     ]
    },
    {
     "name": "stdout",
     "output_type": "stream",
     "text": [
      "Malay-Tongue-Twister---Ayat-Bahasa-Melayu-yang-Belit-Lidah-DJ9-raLW0xc.mp3 8\n"
     ]
    },
    {
     "name": "stderr",
     "output_type": "stream",
     "text": [
      "100%|██████████| 8/8 [00:51<00:00,  6.38s/it]\n"
     ]
    },
    {
     "name": "stdout",
     "output_type": "stream",
     "text": [
      "DONE: 338 / 405\n"
     ]
    },
    {
     "name": "stderr",
     "output_type": "stream",
     "text": [
      "0it [00:00, ?it/s]"
     ]
    },
    {
     "name": "stdout",
     "output_type": "stream",
     "text": [
      "Buaian-_-Episod-Penuh-Bing-_-Bing-Bahasa-Melayu-5g6IBXRDnM0.mp3 0\n",
      "DONE: 339 / 405\n"
     ]
    },
    {
     "name": "stderr",
     "output_type": "stream",
     "text": [
      "\n",
      "  0%|          | 0/6 [00:00<?, ?it/s]"
     ]
    },
    {
     "name": "stdout",
     "output_type": "stream",
     "text": [
      "Bung-Mokhtar-sindir-kelancaran-Bahasa-Melayu-MP-Tawau-gNKsA24ioEs.mp3 6\n"
     ]
    },
    {
     "name": "stderr",
     "output_type": "stream",
     "text": [
      "100%|██████████| 6/6 [00:10<00:00,  1.77s/it]\n"
     ]
    },
    {
     "name": "stdout",
     "output_type": "stream",
     "text": [
      "DONE: 340 / 405\n"
     ]
    },
    {
     "name": "stderr",
     "output_type": "stream",
     "text": [
      "\r",
      "  0%|          | 0/20 [00:00<?, ?it/s]"
     ]
    },
    {
     "name": "stdout",
     "output_type": "stream",
     "text": [
      "Mari-Belajar-Mengeja-_-Dunia-Haiwan-_-Membaca-Suku-Kata-_-Bahasa-Melayu-_-Melayu-dan-English-fU9rv5nA1w8.mp3 20\n"
     ]
    },
    {
     "name": "stderr",
     "output_type": "stream",
     "text": [
      "100%|██████████| 20/20 [01:00<00:00,  3.01s/it]\n"
     ]
    },
    {
     "name": "stdout",
     "output_type": "stream",
     "text": [
      "DONE: 341 / 405\n"
     ]
    },
    {
     "name": "stderr",
     "output_type": "stream",
     "text": [
      "\r",
      "  0%|          | 0/7 [00:00<?, ?it/s]"
     ]
    },
    {
     "name": "stdout",
     "output_type": "stream",
     "text": [
      "Bahasa-Melayu-Tahun-1-Kata-Perintah-(buku-teks-muka-surat-70)-mSF_np1S7n8.mp3 7\n"
     ]
    },
    {
     "name": "stderr",
     "output_type": "stream",
     "text": [
      "100%|██████████| 7/7 [00:11<00:00,  1.64s/it]\n"
     ]
    },
    {
     "name": "stdout",
     "output_type": "stream",
     "text": [
      "DONE: 342 / 405\n"
     ]
    },
    {
     "name": "stderr",
     "output_type": "stream",
     "text": [
      "\r",
      "  0%|          | 0/1 [00:00<?, ?it/s]"
     ]
    },
    {
     "name": "stdout",
     "output_type": "stream",
     "text": [
      "MUAFAKAT-NASIONAL-Umno-Pas,-TINGGALKAN-Pengundi-BUKAN-MELAYU-Komen-Dr-Kamarul-Zaman-Yusoff-S6TXoRx8Nes.mp3 1\n"
     ]
    },
    {
     "name": "stderr",
     "output_type": "stream",
     "text": [
      "100%|██████████| 1/1 [00:00<00:00,  3.51it/s]\n"
     ]
    },
    {
     "name": "stdout",
     "output_type": "stream",
     "text": [
      "DONE: 343 / 405\n"
     ]
    },
    {
     "name": "stderr",
     "output_type": "stream",
     "text": [
      "\r",
      "  0%|          | 0/1 [00:00<?, ?it/s]"
     ]
    },
    {
     "name": "stdout",
     "output_type": "stream",
     "text": [
      "Tahun-2-_-Bahasa-Melayu-_-Tatabahasa---Kata-Perintah-dan-Ayat-Perintah-e4xQj119KVw.mp3 1\n"
     ]
    },
    {
     "name": "stderr",
     "output_type": "stream",
     "text": [
      "100%|██████████| 1/1 [00:00<00:00,  4.28it/s]\n"
     ]
    },
    {
     "name": "stdout",
     "output_type": "stream",
     "text": [
      "DONE: 344 / 405\n"
     ]
    },
    {
     "name": "stderr",
     "output_type": "stream",
     "text": [
      "0it [00:00, ?it/s]"
     ]
    },
    {
     "name": "stdout",
     "output_type": "stream",
     "text": [
      "(Edisi-Bahasa-Melayu)-Wang-Kertas-Malaysia-RM1-Siri-5-jual-RM5,000Malaysia-Banknote-RM1-sold-RM5k--iqBWMj9dGE.mp3 0\n",
      "DONE: 345 / 405\n"
     ]
    },
    {
     "name": "stderr",
     "output_type": "stream",
     "text": [
      "\n",
      "  0%|          | 0/1 [00:00<?, ?it/s]"
     ]
    },
    {
     "name": "stdout",
     "output_type": "stream",
     "text": [
      "Memasak-_-Episod-Penuh-Bing-_-Bing-Bahasa-Melayu-GWGIDg8ipUA.mp3 1\n"
     ]
    },
    {
     "name": "stderr",
     "output_type": "stream",
     "text": [
      "100%|██████████| 1/1 [00:04<00:00,  4.38s/it]\n"
     ]
    },
    {
     "name": "stdout",
     "output_type": "stream",
     "text": [
      "DONE: 346 / 405\n"
     ]
    },
    {
     "name": "stderr",
     "output_type": "stream",
     "text": [
      "\r",
      "  0%|          | 0/28 [00:00<?, ?it/s]"
     ]
    },
    {
     "name": "stdout",
     "output_type": "stream",
     "text": [
      "[PODCAST]-The-Najib-Razak-1MDB-Trial-EP-14---Bossku-the-bulldozer-dIxd4zqTBA8.mp3 28\n"
     ]
    },
    {
     "name": "stderr",
     "output_type": "stream",
     "text": [
      "100%|██████████| 28/28 [04:28<00:00,  9.60s/it]\n"
     ]
    },
    {
     "name": "stdout",
     "output_type": "stream",
     "text": [
      "DONE: 347 / 405\n"
     ]
    },
    {
     "name": "stderr",
     "output_type": "stream",
     "text": [
      "\r",
      "  0%|          | 0/2 [00:00<?, ?it/s]"
     ]
    },
    {
     "name": "stdout",
     "output_type": "stream",
     "text": [
      "Learn-Malay-language-(Belajar-Bahasa-Melayu)--Part-1-(Bahagian-1)-WHywikmyifA.mp3 2\n"
     ]
    },
    {
     "name": "stderr",
     "output_type": "stream",
     "text": [
      "100%|██████████| 2/2 [00:04<00:00,  2.19s/it]\n"
     ]
    },
    {
     "name": "stdout",
     "output_type": "stream",
     "text": [
      "DONE: 348 / 405\n"
     ]
    },
    {
     "name": "stderr",
     "output_type": "stream",
     "text": [
      "0it [00:00, ?it/s]"
     ]
    },
    {
     "name": "stdout",
     "output_type": "stream",
     "text": [
      "Bahasa-Melayu-🇲🇾-vs-Bahasa-Indonesia-🇮🇩-READY,-FIGHT!-_oEbQS11iBs.mp3 0\n",
      "DONE: 349 / 405\n"
     ]
    },
    {
     "name": "stderr",
     "output_type": "stream",
     "text": [
      "\n",
      "  0%|          | 0/73 [00:00<?, ?it/s]"
     ]
    },
    {
     "name": "stdout",
     "output_type": "stream",
     "text": [
      "Q-&-A-(Jadi-backpacker-ni-tak-ada-masa-depan)-_-Podcast-Malaysia-uCg5WeQ34rM.mp3 73\n"
     ]
    },
    {
     "name": "stderr",
     "output_type": "stream",
     "text": [
      "100%|██████████| 73/73 [01:55<00:00,  1.59s/it]\n"
     ]
    },
    {
     "name": "stdout",
     "output_type": "stream",
     "text": [
      "DONE: 350 / 405\n"
     ]
    },
    {
     "name": "stderr",
     "output_type": "stream",
     "text": [
      "\r",
      "  0%|          | 0/79 [00:00<?, ?it/s]"
     ]
    },
    {
     "name": "stdout",
     "output_type": "stream",
     "text": [
      "BAHASA-MELAYU-TINGKATAN-5---KARANGAN-COVID-19-m3nVBJGNlK4.mp3 79\n"
     ]
    },
    {
     "name": "stderr",
     "output_type": "stream",
     "text": [
      "100%|██████████| 79/79 [03:08<00:00,  2.39s/it]\n"
     ]
    },
    {
     "name": "stdout",
     "output_type": "stream",
     "text": [
      "DONE: 351 / 405\n"
     ]
    },
    {
     "name": "stderr",
     "output_type": "stream",
     "text": [
      "\r",
      "  0%|          | 0/52 [00:00<?, ?it/s]"
     ]
    },
    {
     "name": "stdout",
     "output_type": "stream",
     "text": [
      "Bahasa-Melayu-STPM-910_2-Definisi-Morfologi-dan-Morfem.-Sila-Like-&-SUBSCRIBE.-C5uykh0Sjnc.mp3 52\n"
     ]
    },
    {
     "name": "stderr",
     "output_type": "stream",
     "text": [
      "100%|██████████| 52/52 [01:42<00:00,  1.98s/it]\n"
     ]
    },
    {
     "name": "stdout",
     "output_type": "stream",
     "text": [
      "DONE: 352 / 405\n"
     ]
    },
    {
     "name": "stderr",
     "output_type": "stream",
     "text": [
      "\r",
      "  0%|          | 0/20 [00:00<?, ?it/s]"
     ]
    },
    {
     "name": "stdout",
     "output_type": "stream",
     "text": [
      "Lawak-lucu-bahasa-melayu-langkat-hilir-j8rb_wOZvyU.mp3 20\n"
     ]
    },
    {
     "name": "stderr",
     "output_type": "stream",
     "text": [
      "100%|██████████| 20/20 [02:24<00:00,  7.25s/it]\n"
     ]
    },
    {
     "name": "stdout",
     "output_type": "stream",
     "text": [
      "DONE: 353 / 405\n"
     ]
    },
    {
     "name": "stderr",
     "output_type": "stream",
     "text": [
      "\r",
      "  0%|          | 0/1 [00:00<?, ?it/s]"
     ]
    },
    {
     "name": "stdout",
     "output_type": "stream",
     "text": [
      "KECOH-!!-ISTERI-KOREA-BOLEH-CAKAP-BAHASA-MELAYU-Ceh1pMPIMn8.mp3 1\n"
     ]
    },
    {
     "name": "stderr",
     "output_type": "stream",
     "text": [
      "100%|██████████| 1/1 [00:04<00:00,  4.14s/it]\n"
     ]
    },
    {
     "name": "stdout",
     "output_type": "stream",
     "text": [
      "DONE: 354 / 405\n"
     ]
    },
    {
     "name": "stderr",
     "output_type": "stream",
     "text": [
      "\r",
      "  0%|          | 0/3 [00:00<?, ?it/s]"
     ]
    },
    {
     "name": "stdout",
     "output_type": "stream",
     "text": [
      "Tahun-2-_-Bahasa-Melayu-_-Tanda-Baca-J3ZP_FVRZk4.mp3 3\n"
     ]
    },
    {
     "name": "stderr",
     "output_type": "stream",
     "text": [
      "100%|██████████| 3/3 [00:06<00:00,  2.24s/it]\n"
     ]
    },
    {
     "name": "stdout",
     "output_type": "stream",
     "text": [
      "DONE: 355 / 405\n"
     ]
    },
    {
     "name": "stderr",
     "output_type": "stream",
     "text": [
      "\r",
      "  0%|          | 0/10 [00:00<?, ?it/s]"
     ]
    },
    {
     "name": "stdout",
     "output_type": "stream",
     "text": [
      "Belajar-Bahasa-Inggeris---Contoh-Kesalahan-Ayat-_-Belajar-Dalam-Bahasa-Melayu-zOLNAj1R28A.mp3 10\n"
     ]
    },
    {
     "name": "stderr",
     "output_type": "stream",
     "text": [
      "100%|██████████| 10/10 [00:40<00:00,  4.02s/it]\n"
     ]
    },
    {
     "name": "stdout",
     "output_type": "stream",
     "text": [
      "DONE: 356 / 405\n"
     ]
    },
    {
     "name": "stderr",
     "output_type": "stream",
     "text": [
      "0it [00:00, ?it/s]"
     ]
    },
    {
     "name": "stdout",
     "output_type": "stream",
     "text": [
      "PEREMPUAN-'TRASH'-TAKKAN-DENGAR-PODCAST-NI!---Podcast-Cinta-Malaysia-EP-01-IT6L99lnloE.mp3 0\n",
      "DONE: 357 / 405\n"
     ]
    },
    {
     "name": "stderr",
     "output_type": "stream",
     "text": [
      "\n",
      "  0%|          | 0/3 [00:00<?, ?it/s]"
     ]
    },
    {
     "name": "stdout",
     "output_type": "stream",
     "text": [
      "Pening-_-Episod-Penuh-Bing-_-Bing-Bahasa-Melayu-_ZPc62fZ7p8.mp3 3\n"
     ]
    },
    {
     "name": "stderr",
     "output_type": "stream",
     "text": [
      "100%|██████████| 3/3 [00:13<00:00,  4.56s/it]\n"
     ]
    },
    {
     "name": "stdout",
     "output_type": "stream",
     "text": [
      "DONE: 358 / 405\n"
     ]
    },
    {
     "name": "stderr",
     "output_type": "stream",
     "text": [
      "\r",
      "  0%|          | 0/21 [00:00<?, ?it/s]"
     ]
    },
    {
     "name": "stdout",
     "output_type": "stream",
     "text": [
      "EduwebTV---BAHASA-MELAYU-SPM---Mengenal-Pasti-Kesalahan-Ayat-(Ejaan-dan-Imbuhan)-RrbKelny1XE.mp3 21\n"
     ]
    },
    {
     "name": "stderr",
     "output_type": "stream",
     "text": [
      "100%|██████████| 21/21 [00:52<00:00,  2.48s/it]\n"
     ]
    },
    {
     "name": "stdout",
     "output_type": "stream",
     "text": [
      "DONE: 359 / 405\n"
     ]
    },
    {
     "name": "stderr",
     "output_type": "stream",
     "text": [
      "\r",
      "  0%|          | 0/3 [00:00<?, ?it/s]"
     ]
    },
    {
     "name": "stdout",
     "output_type": "stream",
     "text": [
      "Ais-Krim-_-Episod-Penuh-Bing-_-Bing-Bahasa-Melayu--8Z4d4vU9D4.mp3 3\n"
     ]
    },
    {
     "name": "stderr",
     "output_type": "stream",
     "text": [
      "100%|██████████| 3/3 [00:11<00:00,  3.88s/it]\n"
     ]
    },
    {
     "name": "stdout",
     "output_type": "stream",
     "text": [
      "DONE: 360 / 405\n"
     ]
    },
    {
     "name": "stderr",
     "output_type": "stream",
     "text": [
      "\r",
      "  0%|          | 0/9 [00:00<?, ?it/s]"
     ]
    },
    {
     "name": "stdout",
     "output_type": "stream",
     "text": [
      "Daily-Vlog-#10-_-Bahasa-Indonesia-VS-Bahasa-Melayu-kEXrGfn6oF4.mp3 9\n"
     ]
    },
    {
     "name": "stderr",
     "output_type": "stream",
     "text": [
      "100%|██████████| 9/9 [00:56<00:00,  6.30s/it]\n"
     ]
    },
    {
     "name": "stdout",
     "output_type": "stream",
     "text": [
      "DONE: 361 / 405\n"
     ]
    },
    {
     "name": "stderr",
     "output_type": "stream",
     "text": [
      "\r",
      "  0%|          | 0/5 [00:00<?, ?it/s]"
     ]
    },
    {
     "name": "stdout",
     "output_type": "stream",
     "text": [
      "Episod-Penuh-Bing-_-35+-Minit-_-Eps-31-35-_-Bing-Bahasa-Melayu-dn0mDC9XaoE.mp3 5\n"
     ]
    },
    {
     "name": "stderr",
     "output_type": "stream",
     "text": [
      "100%|██████████| 5/5 [00:32<00:00,  6.43s/it]\n"
     ]
    },
    {
     "name": "stdout",
     "output_type": "stream",
     "text": [
      "DONE: 362 / 405\n"
     ]
    },
    {
     "name": "stderr",
     "output_type": "stream",
     "text": [
      "\r",
      "  0%|          | 0/340 [00:00<?, ?it/s]"
     ]
    },
    {
     "name": "stdout",
     "output_type": "stream",
     "text": [
      "TEKNIK-MENJAWAB-BAHASA-MELAYU-KERTAS-1-SPM-PzzbAbo-1OE.mp3 340\n"
     ]
    },
    {
     "name": "stderr",
     "output_type": "stream",
     "text": [
      "100%|██████████| 340/340 [26:40<00:00,  4.71s/it]\n"
     ]
    },
    {
     "name": "stdout",
     "output_type": "stream",
     "text": [
      "DONE: 363 / 405\n"
     ]
    },
    {
     "name": "stderr",
     "output_type": "stream",
     "text": [
      "\r",
      "  0%|          | 0/22 [00:00<?, ?it/s]"
     ]
    },
    {
     "name": "stdout",
     "output_type": "stream",
     "text": [
      "BERLLIANA-LOVELL-BANGGA-JADI-SI-CEWEK-SEKSI-MONTOK-PEMERSATU-BANGSA-PUNYA-SENSASI-TERSENDIRI-8PoU7Sk_xUQ.mp3 22\n"
     ]
    },
    {
     "name": "stderr",
     "output_type": "stream",
     "text": [
      "100%|██████████| 22/22 [02:46<00:00,  7.56s/it]\n"
     ]
    },
    {
     "name": "stdout",
     "output_type": "stream",
     "text": [
      "DONE: 364 / 405\n"
     ]
    },
    {
     "name": "stderr",
     "output_type": "stream",
     "text": [
      "\r",
      "  0%|          | 0/4 [00:00<?, ?it/s]"
     ]
    },
    {
     "name": "stdout",
     "output_type": "stream",
     "text": [
      "PODCAST-Ni-Apa-Oi!-_-Seminit-Hartanah-gsdjh9KXWjg.mp3 4\n"
     ]
    },
    {
     "name": "stderr",
     "output_type": "stream",
     "text": [
      "100%|██████████| 4/4 [00:12<00:00,  3.06s/it]\n"
     ]
    },
    {
     "name": "stdout",
     "output_type": "stream",
     "text": [
      "DONE: 365 / 405\n"
     ]
    },
    {
     "name": "stderr",
     "output_type": "stream",
     "text": [
      "\r",
      "  0%|          | 0/3 [00:00<?, ?it/s]"
     ]
    },
    {
     "name": "stdout",
     "output_type": "stream",
     "text": [
      "Lagu-Wonderpets-versi-Bahasa-Melayu-_XEQO1LR28k.mp3 3\n"
     ]
    },
    {
     "name": "stderr",
     "output_type": "stream",
     "text": [
      "100%|██████████| 3/3 [00:26<00:00,  8.98s/it]\n"
     ]
    },
    {
     "name": "stdout",
     "output_type": "stream",
     "text": [
      "DONE: 366 / 405\n"
     ]
    },
    {
     "name": "stderr",
     "output_type": "stream",
     "text": [
      "\r",
      "  0%|          | 0/116 [00:00<?, ?it/s]"
     ]
    },
    {
     "name": "stdout",
     "output_type": "stream",
     "text": [
      "PODCAST-CEKAL-BM@6-BERSAMA-JOHOR-FM----BAHASA-MELAYU-PENULISAN-BAHAGIAN-A-pJ__pBp_4MU.mp3 116\n"
     ]
    },
    {
     "name": "stderr",
     "output_type": "stream",
     "text": [
      "100%|██████████| 116/116 [08:49<00:00,  4.56s/it]\n"
     ]
    },
    {
     "name": "stdout",
     "output_type": "stream",
     "text": [
      "DONE: 367 / 405\n"
     ]
    },
    {
     "name": "stderr",
     "output_type": "stream",
     "text": [
      "\r",
      "  0%|          | 0/19 [00:00<?, ?it/s]"
     ]
    },
    {
     "name": "stdout",
     "output_type": "stream",
     "text": [
      "Doa-Selepas-Solat,-Bahasa-Melayu-vj3HloiAsLw.mp3 19\n"
     ]
    },
    {
     "name": "stderr",
     "output_type": "stream",
     "text": [
      "100%|██████████| 19/19 [00:57<00:00,  3.01s/it]\n"
     ]
    },
    {
     "name": "stdout",
     "output_type": "stream",
     "text": [
      "DONE: 368 / 405\n"
     ]
    },
    {
     "name": "stderr",
     "output_type": "stream",
     "text": [
      "\r",
      "  0%|          | 0/29 [00:00<?, ?it/s]"
     ]
    },
    {
     "name": "stdout",
     "output_type": "stream",
     "text": [
      "Belajar-Bahasa-Inggris-Dalam-Bahasa-Melayu-_-Cara-Mudah-&-Cepat-vBY1GwAZlX4.mp3 29\n"
     ]
    },
    {
     "name": "stderr",
     "output_type": "stream",
     "text": [
      "100%|██████████| 29/29 [03:13<00:00,  6.69s/it]\n"
     ]
    },
    {
     "name": "stdout",
     "output_type": "stream",
     "text": [
      "DONE: 369 / 405\n"
     ]
    },
    {
     "name": "stderr",
     "output_type": "stream",
     "text": [
      "\r",
      "  0%|          | 0/3 [00:00<?, ?it/s]"
     ]
    },
    {
     "name": "stdout",
     "output_type": "stream",
     "text": [
      "Tahun-4-_-Bahasa-Melayu-_-Soalan-Pemahaman-9i5k2-hEsZA.mp3 3\n"
     ]
    },
    {
     "name": "stderr",
     "output_type": "stream",
     "text": [
      "100%|██████████| 3/3 [00:16<00:00,  5.58s/it]\n"
     ]
    },
    {
     "name": "stdout",
     "output_type": "stream",
     "text": [
      "DONE: 370 / 405\n"
     ]
    },
    {
     "name": "stderr",
     "output_type": "stream",
     "text": [
      "\r",
      "  0%|          | 0/1 [00:00<?, ?it/s]"
     ]
    },
    {
     "name": "stdout",
     "output_type": "stream",
     "text": [
      "Learn-Malay-Language-(Bahasa-Melayu)-6-QHlCPpRPg-A.mp3 1\n"
     ]
    },
    {
     "name": "stderr",
     "output_type": "stream",
     "text": [
      "100%|██████████| 1/1 [00:00<00:00,  1.74it/s]\n"
     ]
    },
    {
     "name": "stdout",
     "output_type": "stream",
     "text": [
      "DONE: 371 / 405\n"
     ]
    },
    {
     "name": "stderr",
     "output_type": "stream",
     "text": [
      "\r",
      "  0%|          | 0/310 [00:00<?, ?it/s]"
     ]
    },
    {
     "name": "stdout",
     "output_type": "stream",
     "text": [
      "Ngaji-Filsafat-272----Kiai-Sholeh-Darat-As-Samarani-DZoQMw8e65Q.mp3 310\n"
     ]
    },
    {
     "name": "stderr",
     "output_type": "stream",
     "text": [
      "100%|██████████| 310/310 [24:47<00:00,  4.80s/it]\n"
     ]
    },
    {
     "name": "stdout",
     "output_type": "stream",
     "text": [
      "DONE: 372 / 405\n"
     ]
    },
    {
     "name": "stderr",
     "output_type": "stream",
     "text": [
      "\r",
      "  0%|          | 0/1 [00:00<?, ?it/s]"
     ]
    },
    {
     "name": "stdout",
     "output_type": "stream",
     "text": [
      "Tersangkut-_-Episod-Penuh-Bing-_-Bing-Bahasa-Melayu-IxN5vp7qx8w.mp3 1\n"
     ]
    },
    {
     "name": "stderr",
     "output_type": "stream",
     "text": [
      "100%|██████████| 1/1 [00:01<00:00,  1.50s/it]\n"
     ]
    },
    {
     "name": "stdout",
     "output_type": "stream",
     "text": [
      "DONE: 373 / 405\n"
     ]
    },
    {
     "name": "stderr",
     "output_type": "stream",
     "text": [
      "\r",
      "  0%|          | 0/1 [00:00<?, ?it/s]"
     ]
    },
    {
     "name": "stdout",
     "output_type": "stream",
     "text": [
      "Pokok-_-Episod-Penuh-Bing-_-Bing-Bahasa-Melayu-hzxTAiNTQx8.mp3 1\n"
     ]
    },
    {
     "name": "stderr",
     "output_type": "stream",
     "text": [
      "100%|██████████| 1/1 [00:01<00:00,  1.17s/it]\n"
     ]
    },
    {
     "name": "stdout",
     "output_type": "stream",
     "text": [
      "DONE: 374 / 405\n"
     ]
    },
    {
     "name": "stderr",
     "output_type": "stream",
     "text": [
      "\r",
      "  0%|          | 0/1 [00:00<?, ?it/s]"
     ]
    },
    {
     "name": "stdout",
     "output_type": "stream",
     "text": [
      "Katak-_-Episod-Penuh-Bing-_-Bing-Bahasa-Melayu-yjMirGCU054.mp3 1\n"
     ]
    },
    {
     "name": "stderr",
     "output_type": "stream",
     "text": [
      "100%|██████████| 1/1 [00:01<00:00,  1.76s/it]\n"
     ]
    },
    {
     "name": "stdout",
     "output_type": "stream",
     "text": [
      "DONE: 375 / 405\n"
     ]
    },
    {
     "name": "stderr",
     "output_type": "stream",
     "text": [
      "\r",
      "  0%|          | 0/1 [00:00<?, ?it/s]"
     ]
    },
    {
     "name": "stdout",
     "output_type": "stream",
     "text": [
      "Robocar-Poli---Salji-Dan-Peraturan-Keselamatan-[Bahasa-Melayu]-33F771NGNxw.mp3 1\n"
     ]
    },
    {
     "name": "stderr",
     "output_type": "stream",
     "text": [
      "100%|██████████| 1/1 [00:01<00:00,  1.22s/it]\n"
     ]
    },
    {
     "name": "stdout",
     "output_type": "stream",
     "text": [
      "DONE: 376 / 405\n"
     ]
    }
   ],
   "source": [
    "for no, filename in enumerate(files):\n",
    "    try:\n",
    "        audios, audio = split(filename)\n",
    "        audios = audios[1:]\n",
    "        print(filename, len(audios))\n",
    "\n",
    "        for part in tqdm(range(len(audios))):\n",
    "            temp_filename = f'{filename}-part-{part}.wav'\n",
    "            audiosegment_google_speech(audios[part], temp_filename)\n",
    "    except Exception as e:\n",
    "        print(e)\n",
    "        pass\n",
    "    \n",
    "    print(f'DONE: {no + 1} / {len(files)}')"
   ]
  },
  {
   "cell_type": "code",
   "execution_count": 10,
   "metadata": {},
   "outputs": [],
   "source": [
    "!rm *.mp3"
   ]
  }
 ],
 "metadata": {
  "kernelspec": {
   "display_name": "Python 3",
   "language": "python",
   "name": "python3"
  },
  "language_info": {
   "codemirror_mode": {
    "name": "ipython",
    "version": 3
   },
   "file_extension": ".py",
   "mimetype": "text/x-python",
   "name": "python",
   "nbconvert_exporter": "python",
   "pygments_lexer": "ipython3",
   "version": "3.6.8"
  }
 },
 "nbformat": 4,
 "nbformat_minor": 2
}
