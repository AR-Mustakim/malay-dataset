{
 "cells": [
  {
   "cell_type": "code",
   "execution_count": 1,
   "metadata": {},
   "outputs": [],
   "source": [
    "import os\n",
    "import time\n",
    "import json\n",
    "\n",
    "os.environ['LD_LIBRARY_PATH'] = '/home/husein/phantomjs-2.1.1-linux-x86_64/bin'\n",
    "os.environ['PATH'] = '/home/husein/.local/bin:/home/husein/bin:/home/husein/anaconda3/bin:/usr/local/cuda/bin:/usr/local/sbin:/usr/local/bin:/usr/sbin:/usr/bin:/sbin:/bin:/usr/games:/usr/local/games:/snap/bin:/home/husein/phantomjs-2.1.1-linux-x86_64/bin'\n",
    "\n",
    "import translate_new"
   ]
  },
  {
   "cell_type": "code",
   "execution_count": 8,
   "metadata": {},
   "outputs": [],
   "source": [
    "with open('dialogs.json') as fopen:\n",
    "    data = json.load(fopen)\n",
    "    \n",
    "with open('informations.json') as fopen:\n",
    "    informations = json.load(fopen)"
   ]
  },
  {
   "cell_type": "code",
   "execution_count": 3,
   "metadata": {},
   "outputs": [],
   "source": [
    "translators = translate_new.Translate_Concurrent(batch_size = 2, from_lang = 'en', to_lang = 'ms')"
   ]
  },
  {
   "cell_type": "code",
   "execution_count": 9,
   "metadata": {},
   "outputs": [
    {
     "name": "stderr",
     "output_type": "stream",
     "text": [
      "100%|███████████████████████████████████| 2/2 [00:08<00:00,  4.02s/it]\n"
     ]
    },
    {
     "data": {
      "text/plain": [
       "[({'topic': 'Science fiction',\n",
       "   'persona': 'i enjoy movies about aliens invading the earth.',\n",
       "   'before': \"I think science fiction is an amazing genre for anything. Future science, technology, time travel, FTL travel, they're all such interesting concepts.\",\n",
       "   'now': \"I'm a huge fan of science fiction myself! \",\n",
       "   'text': \"i enjoy movies about aliens invading the earth. <> I think science fiction is an amazing genre for anything. Future science, technology, time travel, FTL travel, they're all such interesting concepts. <> I'm a huge fan of science fiction myself! \"},\n",
       "  'saya menikmati filem mengenai makhluk asing yang menyerang bumi. <> Saya fikir fiksyen sains adalah genre yang luar biasa untuk apa sahaja. Sains masa depan, teknologi, perjalanan masa, perjalanan FTL, semuanya adalah konsep yang menarik. <> Saya sendiri peminat fiksyen sains!'),\n",
       " ({'topic': 'Science fiction',\n",
       "   'persona': 'i enjoy movies about aliens invading the earth.',\n",
       "   'before': \"I'm a huge fan of science fiction myself! \",\n",
       "   'now': 'Awesome! I really love how sci-fi storytellers focus on political/social/philosophical issues that would still be around even in the future. Makes them relatable.',\n",
       "   'text': \"i enjoy movies about aliens invading the earth. <> I'm a huge fan of science fiction myself!  <> Awesome! I really love how sci-fi storytellers focus on political/social/philosophical issues that would still be around even in the future. Makes them relatable.\"},\n",
       "  'saya menikmati filem mengenai makhluk asing yang menyerang bumi. <> Saya sendiri peminat fiksyen sains! <> Hebat! Saya sangat suka bagaimana para pencerita sains berfokus pada isu politik / sosial / falsafah yang masih akan berlaku walaupun pada masa akan datang. Menjadikan mereka sesuai.'),\n",
       " ({'topic': 'Science fiction',\n",
       "   'persona': 'i enjoy movies about aliens invading the earth.',\n",
       "   'before': 'Awesome! I really love how sci-fi storytellers focus on political/social/philosophical issues that would still be around even in the future. Makes them relatable.',\n",
       "   'now': 'I agree. One of my favorite forms of science fiction is anything related to time travel! I find it fascinating.',\n",
       "   'text': 'i enjoy movies about aliens invading the earth. <> Awesome! I really love how sci-fi storytellers focus on political/social/philosophical issues that would still be around even in the future. Makes them relatable. <> I agree. One of my favorite forms of science fiction is anything related to time travel! I find it fascinating.'},\n",
       "  'saya menikmati filem mengenai makhluk asing yang menyerang bumi. <> Hebat! Saya sangat suka bagaimana para pencerita sains berfokus pada isu politik / sosial / falsafah yang masih akan berlaku walaupun pada masa akan datang. Menjadikan mereka sesuai. <> Saya setuju. Salah satu bentuk fiksyen sains kegemaran saya adalah apa sahaja yang berkaitan dengan perjalanan masa! Saya merasa menarik.'),\n",
       " ({'topic': 'Science fiction',\n",
       "   'persona': 'i enjoy movies about aliens invading the earth.',\n",
       "   'before': 'I agree. One of my favorite forms of science fiction is anything related to time travel! I find it fascinating.',\n",
       "   'now': \"It's not quite sci-fi, but my favorite version of time travel is in Harry Potter and the Prisoner of Azkaban. Breaks zero logical rules.\",\n",
       "   'text': \"i enjoy movies about aliens invading the earth. <> I agree. One of my favorite forms of science fiction is anything related to time travel! I find it fascinating. <> It's not quite sci-fi, but my favorite version of time travel is in Harry Potter and the Prisoner of Azkaban. Breaks zero logical rules.\"},\n",
       "  'saya menikmati filem mengenai makhluk asing yang menyerang bumi. <> Saya setuju. Salah satu bentuk fiksyen sains kegemaran saya adalah apa sahaja yang berkaitan dengan perjalanan masa! Saya merasa menarik. <> Ini tidak cukup sci-fi, tetapi versi perjalanan masa kegemaran saya adalah di Harry Potter dan Prisoner of Azkaban. Melanggar peraturan logik sifar.')]"
      ]
     },
     "execution_count": 9,
     "metadata": {},
     "output_type": "execute_result"
    }
   ],
   "source": [
    "t = translators.translate_batch(data[:4])\n",
    "t"
   ]
  },
  {
   "cell_type": "code",
   "execution_count": 10,
   "metadata": {},
   "outputs": [
    {
     "name": "stderr",
     "output_type": "stream",
     "text": [
      "100%|███████████████████████████████████| 2/2 [00:07<00:00,  3.77s/it]\n"
     ]
    },
    {
     "data": {
      "text/plain": [
       "[({'topic': 'Science fiction',\n",
       "   'persona': 'i enjoy movies about aliens invading the earth.',\n",
       "   'passage': 'Science fiction (often shortened to SF or sci-fi) is a genre of speculative fiction, typically dealing with imaginative concepts such as futuristic science and technology, space travel, time travel, faster than light travel, parallel universes, and extraterrestrial life.',\n",
       "   'text': 'Science fiction <> i enjoy movies about aliens invading the earth. <> Science fiction (often shortened to SF or sci-fi) is a genre of speculative fiction, typically dealing with imaginative concepts such as futuristic science and technology, space travel, time travel, faster than light travel, parallel universes, and extraterrestrial life.'},\n",
       "  'Fiksyen sains <> saya menikmati filem mengenai makhluk asing yang menyerang bumi. <> Fiksyen sains (sering dipendekkan menjadi SF atau sci-fi) adalah genre fiksyen spekulatif, biasanya berurusan dengan konsep khayalan seperti sains dan teknologi futuristik, perjalanan angkasa, perjalanan waktu, lebih cepat daripada perjalanan ringan, alam semesta selari, dan kehidupan di luar bumi .'),\n",
       " ({'topic': 'Science fiction',\n",
       "   'persona': 'i enjoy movies about aliens invading the earth.',\n",
       "   'passage': 'Science fiction often explores the potential consequences of scientific and other innovations, and has been called a \"literature of ideas\".',\n",
       "   'text': 'Science fiction <> i enjoy movies about aliens invading the earth. <> Science fiction often explores the potential consequences of scientific and other innovations, and has been called a \"literature of ideas\".'},\n",
       "  'Fiksyen sains <> saya menikmati filem mengenai makhluk asing yang menyerang bumi. <> Fiksyen ilmiah sering meneroka kemungkinan akibat inovasi saintifik dan lain-lain, dan telah disebut \"sastera idea\".'),\n",
       " ({'topic': 'Science fiction',\n",
       "   'persona': 'i enjoy movies about aliens invading the earth.',\n",
       "   'passage': 'It usually avoids the supernatural, unlike the related genre of fantasy.',\n",
       "   'text': 'Science fiction <> i enjoy movies about aliens invading the earth. <> It usually avoids the supernatural, unlike the related genre of fantasy.'},\n",
       "  'Fiksyen sains <> saya menikmati filem mengenai makhluk asing yang menyerang bumi. <> Ia biasanya menghindari perkara ghaib, tidak seperti genre fantasi yang berkaitan.'),\n",
       " ({'topic': 'Science fiction',\n",
       "   'persona': 'i enjoy movies about aliens invading the earth.',\n",
       "   'passage': 'Historically, science-fiction stories have had a grounding in actual science, but now this is only expected of hard science fiction.',\n",
       "   'text': 'Science fiction <> i enjoy movies about aliens invading the earth. <> Historically, science-fiction stories have had a grounding in actual science, but now this is only expected of hard science fiction.'},\n",
       "  'Fiksyen sains <> saya menikmati filem mengenai makhluk asing yang menyerang bumi. <> Dari segi sejarah, cerita fiksyen sains mempunyai landasan dalam sains sebenar, tetapi sekarang ini hanya diharapkan dari fiksyen sains sukar.')]"
      ]
     },
     "execution_count": 10,
     "metadata": {},
     "output_type": "execute_result"
    }
   ],
   "source": [
    "it = translators.translate_batch(informations[:4])\n",
    "it"
   ]
  },
  {
   "cell_type": "code",
   "execution_count": 12,
   "metadata": {},
   "outputs": [],
   "source": [
    "batch_size = 100000\n",
    "\n",
    "for i in range(0, len(data), batch_size):\n",
    "    index = min(i + batch_size, len(data))\n",
    "    x = data[i: index]\n",
    "    with open(f'dialogs-{i}.json', 'w') as fopen:\n",
    "        json.dump(x, fopen)"
   ]
  },
  {
   "cell_type": "code",
   "execution_count": 13,
   "metadata": {},
   "outputs": [],
   "source": [
    "batch_size = 100000\n",
    "\n",
    "for i in range(0, len(informations), batch_size):\n",
    "    index = min(i + batch_size, len(informations))\n",
    "    x = informations[i: index]\n",
    "    with open(f'informations-{i}.json', 'w') as fopen:\n",
    "        json.dump(x, fopen)"
   ]
  }
 ],
 "metadata": {
  "kernelspec": {
   "display_name": "Python 3",
   "language": "python",
   "name": "python3"
  },
  "language_info": {
   "codemirror_mode": {
    "name": "ipython",
    "version": 3
   },
   "file_extension": ".py",
   "mimetype": "text/x-python",
   "name": "python",
   "nbconvert_exporter": "python",
   "pygments_lexer": "ipython3",
   "version": "3.6.8"
  }
 },
 "nbformat": 4,
 "nbformat_minor": 2
}
