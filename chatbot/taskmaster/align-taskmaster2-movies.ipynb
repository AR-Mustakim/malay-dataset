{
 "cells": [
  {
   "cell_type": "code",
   "execution_count": 2,
   "id": "9aa1ba60",
   "metadata": {},
   "outputs": [],
   "source": [
    "# !pip3 install malaya -U --no-deps\n",
    "# !pip3 install unidecode dateparser ftfy herpetologist networkx==2.5.1 sklearn sentencepiece\n",
    "# !wget https://raw.githubusercontent.com/google-research-datasets/Taskmaster/master/TM-2-2020/data/movies.json"
   ]
  },
  {
   "cell_type": "code",
   "execution_count": 3,
   "id": "d53427aa",
   "metadata": {},
   "outputs": [
    {
     "name": "stderr",
     "output_type": "stream",
     "text": [
      "2021-10-03 22:15:05.729584: I tensorflow/stream_executor/platform/default/dso_loader.cc:53] Successfully opened dynamic library libcudart.so.11.0\n",
      "/home/ubuntu/.local/lib/python3.8/site-packages/malaya_boilerplate/frozen_graph.py:24: UserWarning: Cannot import beam_search_ops from Tensorflow Addons, `deep_model` for stemmer will not available to use, make sure Tensorflow Addons version >= 0.12.0\n",
      "  warnings.warn(\n"
     ]
    }
   ],
   "source": [
    "import malaya\n",
    "import json\n",
    "from tqdm import tqdm\n",
    "import copy\n",
    "import utils"
   ]
  },
  {
   "cell_type": "code",
   "execution_count": 4,
   "id": "6383ad93",
   "metadata": {},
   "outputs": [
    {
     "name": "stderr",
     "output_type": "stream",
     "text": [
      "2021-10-03 22:15:10.075432: I tensorflow/core/platform/cpu_feature_guard.cc:142] This TensorFlow binary is optimized with oneAPI Deep Neural Network Library (oneDNN) to use the following CPU instructions in performance-critical operations:  AVX2 AVX512F FMA\n",
      "To enable them in other operations, rebuild TensorFlow with the appropriate compiler flags.\n",
      "2021-10-03 22:15:10.080067: I tensorflow/stream_executor/platform/default/dso_loader.cc:53] Successfully opened dynamic library libcuda.so.1\n",
      "2021-10-03 22:15:10.149998: I tensorflow/stream_executor/cuda/cuda_gpu_executor.cc:937] successful NUMA node read from SysFS had negative value (-1), but there must be at least one NUMA node, so returning NUMA node zero\n",
      "2021-10-03 22:15:10.151541: I tensorflow/core/common_runtime/gpu/gpu_device.cc:1733] Found device 0 with properties: \n",
      "pciBusID: 0000:01:00.0 name: GeForce RTX 3080 computeCapability: 8.6\n",
      "coreClock: 1.74GHz coreCount: 68 deviceMemorySize: 9.78GiB deviceMemoryBandwidth: 707.88GiB/s\n",
      "2021-10-03 22:15:10.151581: I tensorflow/stream_executor/platform/default/dso_loader.cc:53] Successfully opened dynamic library libcudart.so.11.0\n",
      "2021-10-03 22:15:10.155750: I tensorflow/stream_executor/platform/default/dso_loader.cc:53] Successfully opened dynamic library libcublas.so.11\n",
      "2021-10-03 22:15:10.155839: I tensorflow/stream_executor/platform/default/dso_loader.cc:53] Successfully opened dynamic library libcublasLt.so.11\n",
      "2021-10-03 22:15:10.157473: I tensorflow/stream_executor/platform/default/dso_loader.cc:53] Successfully opened dynamic library libcufft.so.10\n",
      "2021-10-03 22:15:10.158050: I tensorflow/stream_executor/platform/default/dso_loader.cc:53] Successfully opened dynamic library libcurand.so.10\n",
      "2021-10-03 22:15:10.163006: I tensorflow/stream_executor/platform/default/dso_loader.cc:53] Successfully opened dynamic library libcusolver.so.11\n",
      "2021-10-03 22:15:10.163888: I tensorflow/stream_executor/platform/default/dso_loader.cc:53] Successfully opened dynamic library libcusparse.so.11\n",
      "2021-10-03 22:15:10.164068: I tensorflow/stream_executor/platform/default/dso_loader.cc:53] Successfully opened dynamic library libcudnn.so.8\n",
      "2021-10-03 22:15:10.164189: I tensorflow/stream_executor/cuda/cuda_gpu_executor.cc:937] successful NUMA node read from SysFS had negative value (-1), but there must be at least one NUMA node, so returning NUMA node zero\n",
      "2021-10-03 22:15:10.165233: I tensorflow/stream_executor/cuda/cuda_gpu_executor.cc:937] successful NUMA node read from SysFS had negative value (-1), but there must be at least one NUMA node, so returning NUMA node zero\n",
      "2021-10-03 22:15:10.165998: I tensorflow/core/common_runtime/gpu/gpu_device.cc:1871] Adding visible gpu devices: 0\n",
      "2021-10-03 22:15:10.166026: I tensorflow/stream_executor/platform/default/dso_loader.cc:53] Successfully opened dynamic library libcudart.so.11.0\n",
      "2021-10-03 22:15:10.438268: I tensorflow/core/common_runtime/gpu/gpu_device.cc:1258] Device interconnect StreamExecutor with strength 1 edge matrix:\n",
      "2021-10-03 22:15:10.438287: I tensorflow/core/common_runtime/gpu/gpu_device.cc:1264]      0 \n",
      "2021-10-03 22:15:10.438290: I tensorflow/core/common_runtime/gpu/gpu_device.cc:1277] 0:   N \n",
      "2021-10-03 22:15:10.438409: I tensorflow/stream_executor/cuda/cuda_gpu_executor.cc:937] successful NUMA node read from SysFS had negative value (-1), but there must be at least one NUMA node, so returning NUMA node zero\n",
      "2021-10-03 22:15:10.438774: I tensorflow/stream_executor/cuda/cuda_gpu_executor.cc:937] successful NUMA node read from SysFS had negative value (-1), but there must be at least one NUMA node, so returning NUMA node zero\n",
      "2021-10-03 22:15:10.439111: I tensorflow/stream_executor/cuda/cuda_gpu_executor.cc:937] successful NUMA node read from SysFS had negative value (-1), but there must be at least one NUMA node, so returning NUMA node zero\n",
      "2021-10-03 22:15:10.439437: I tensorflow/core/common_runtime/gpu/gpu_device.cc:1418] Created TensorFlow device (/device:GPU:0 with 8077 MB memory) -> physical GPU (device: 0, name: GeForce RTX 3080, pci bus id: 0000:01:00.0, compute capability: 8.6)\n",
      "2021-10-03 22:15:11.977117: I tensorflow/stream_executor/cuda/cuda_gpu_executor.cc:937] successful NUMA node read from SysFS had negative value (-1), but there must be at least one NUMA node, so returning NUMA node zero\n",
      "2021-10-03 22:15:11.977506: I tensorflow/core/common_runtime/gpu/gpu_device.cc:1733] Found device 0 with properties: \n",
      "pciBusID: 0000:01:00.0 name: GeForce RTX 3080 computeCapability: 8.6\n",
      "coreClock: 1.74GHz coreCount: 68 deviceMemorySize: 9.78GiB deviceMemoryBandwidth: 707.88GiB/s\n",
      "2021-10-03 22:15:11.977598: I tensorflow/stream_executor/cuda/cuda_gpu_executor.cc:937] successful NUMA node read from SysFS had negative value (-1), but there must be at least one NUMA node, so returning NUMA node zero\n",
      "2021-10-03 22:15:11.977962: I tensorflow/stream_executor/cuda/cuda_gpu_executor.cc:937] successful NUMA node read from SysFS had negative value (-1), but there must be at least one NUMA node, so returning NUMA node zero\n",
      "2021-10-03 22:15:11.978293: I tensorflow/core/common_runtime/gpu/gpu_device.cc:1871] Adding visible gpu devices: 0\n",
      "2021-10-03 22:15:11.978310: I tensorflow/core/common_runtime/gpu/gpu_device.cc:1258] Device interconnect StreamExecutor with strength 1 edge matrix:\n",
      "2021-10-03 22:15:11.978314: I tensorflow/core/common_runtime/gpu/gpu_device.cc:1264]      0 \n",
      "2021-10-03 22:15:11.978316: I tensorflow/core/common_runtime/gpu/gpu_device.cc:1277] 0:   N \n",
      "2021-10-03 22:15:11.978374: I tensorflow/stream_executor/cuda/cuda_gpu_executor.cc:937] successful NUMA node read from SysFS had negative value (-1), but there must be at least one NUMA node, so returning NUMA node zero\n",
      "2021-10-03 22:15:11.978732: I tensorflow/stream_executor/cuda/cuda_gpu_executor.cc:937] successful NUMA node read from SysFS had negative value (-1), but there must be at least one NUMA node, so returning NUMA node zero\n",
      "2021-10-03 22:15:11.979071: I tensorflow/core/common_runtime/gpu/gpu_device.cc:1418] Created TensorFlow device (/job:localhost/replica:0/task:0/device:GPU:0 with 8077 MB memory) -> physical GPU (device: 0, name: GeForce RTX 3080, pci bus id: 0000:01:00.0, compute capability: 8.6)\n"
     ]
    }
   ],
   "source": [
    "transformer = malaya.translation.en_ms.transformer()"
   ]
  },
  {
   "cell_type": "code",
   "execution_count": 5,
   "id": "9a76875f",
   "metadata": {},
   "outputs": [
    {
     "data": {
      "text/plain": [
       "3056"
      ]
     },
     "execution_count": 5,
     "metadata": {},
     "output_type": "execute_result"
    }
   ],
   "source": [
    "with open('movies.json') as fopen:\n",
    "    data = json.load(fopen)\n",
    "len(data)"
   ]
  },
  {
   "cell_type": "code",
   "execution_count": 6,
   "id": "a1896631",
   "metadata": {},
   "outputs": [
    {
     "name": "stderr",
     "output_type": "stream",
     "text": [
      "100%|██████████████████████████████████████████████████████████████████████████████████████████████████████████████████████████████████████████████| 3056/3056 [00:00<00:00, 160632.02it/s]\n"
     ]
    },
    {
     "data": {
      "text/plain": [
       "50304"
      ]
     },
     "execution_count": 6,
     "metadata": {},
     "output_type": "execute_result"
    }
   ],
   "source": [
    "texts = []\n",
    "for row in tqdm(data):\n",
    "    for u in row['utterances']:\n",
    "        texts.append(u['text'])\n",
    "        if 'segments' in u:\n",
    "            for s in u['segments']:\n",
    "                texts.append(s['text'])\n",
    "texts = list(set(texts))\n",
    "len(texts)"
   ]
  },
  {
   "cell_type": "code",
   "execution_count": 7,
   "id": "aea0bd2b",
   "metadata": {},
   "outputs": [
    {
     "name": "stderr",
     "output_type": "stream",
     "text": [
      "  0%|                                                                                                                                                             | 0/5031 [00:00<?, ?it/s]2021-10-03 22:15:14.053957: I tensorflow/core/platform/profile_utils/cpu_utils.cc:114] CPU Frequency: 2496000000 Hz\n",
      "2021-10-03 22:15:17.676489: I tensorflow/stream_executor/platform/default/dso_loader.cc:53] Successfully opened dynamic library libcublas.so.11\n",
      "2021-10-03 22:15:18.000318: I tensorflow/stream_executor/platform/default/dso_loader.cc:53] Successfully opened dynamic library libcublasLt.so.11\n",
      "2021-10-03 22:15:18.000352: I tensorflow/stream_executor/cuda/cuda_blas.cc:1838] TensorFloat-32 will be used for the matrix multiplication. This will only be logged once.\n",
      "100%|██████████████████████████████████████████████████████████████████████████████████████████████████████████████████████████████████████████████████| 5031/5031 [21:05<00:00,  3.97it/s]\n"
     ]
    }
   ],
   "source": [
    "results = {}\n",
    "batch_size = 10\n",
    "for i in tqdm(range(0, len(texts), batch_size)):\n",
    "    b = texts[i: i + batch_size]\n",
    "    b_ = transformer.greedy_decoder(b)\n",
    "    for k in range(len(b)):\n",
    "        results[b[k]] = b_[k]"
   ]
  },
  {
   "cell_type": "code",
   "execution_count": 8,
   "id": "191fc849",
   "metadata": {},
   "outputs": [
    {
     "data": {
      "text/plain": [
       "50304"
      ]
     },
     "execution_count": 8,
     "metadata": {},
     "output_type": "execute_result"
    }
   ],
   "source": [
    "len(results)"
   ]
  },
  {
   "cell_type": "code",
   "execution_count": 9,
   "id": "141db0cc",
   "metadata": {},
   "outputs": [],
   "source": [
    "import subprocess"
   ]
  },
  {
   "cell_type": "code",
   "execution_count": 10,
   "id": "b833073d",
   "metadata": {},
   "outputs": [],
   "source": [
    "with open('left', 'w') as fopen:\n",
    "    fopen.write('\\n'.join(list(results.keys())))\n",
    "    \n",
    "with open('right', 'w') as fopen:\n",
    "    fopen.write('\\n'.join(list(results.values())))"
   ]
  },
  {
   "cell_type": "code",
   "execution_count": 11,
   "id": "9d357caa",
   "metadata": {},
   "outputs": [
    {
     "data": {
      "text/plain": [
       "CompletedProcess(args=['python3', 'align.py', '-s', 'left', '-t', 'right', '--priors', 'align.priors', '--model', '3', '-f', 'out.fwd', '-r', 'out.rev', '--overwrite'], returncode=0)"
      ]
     },
     "execution_count": 11,
     "metadata": {},
     "output_type": "execute_result"
    }
   ],
   "source": [
    "cmd = 'python3 align.py -s left -t right --priors align.priors --model 3 -f out.fwd -r out.rev --overwrite'\n",
    "subprocess.run(cmd.split())"
   ]
  },
  {
   "cell_type": "code",
   "execution_count": 12,
   "id": "5ad8d27e",
   "metadata": {},
   "outputs": [
    {
     "name": "stdout",
     "output_type": "stream",
     "text": [
      "0-0 1-1 2-2 3-3 4-4\r\n",
      "0-0 1-1 2-2 3-3 5-4 7-5 6-6\r\n",
      "0-0 1-1\r\n",
      "0-0 1-1 3-2 4-3 5-4 6-5 7-6 8-7 9-8\r\n",
      "0-0 1-1 3-2 2-3 4-4 5-5 6-6 6-7\r\n",
      "0-0 1-1 2-2 3-3 4-4 5-5 5-6 6-7 7-8 8-9 9-10 10-12 11-13 12-14 13-15 14-16 15-17 16-18 17-19 18-20 19-21 20-22\r\n",
      "0-0 1-1 2-2 3-3 4-4\r\n",
      "1-0 0-1 4-2 5-3 6-4\r\n",
      "0-0 1-1 2-2 3-3\r\n",
      "0-0 1-1 2-2 3-3 4-4 5-5 6-6 7-7 8-8 9-9 10-10 11-11\r\n"
     ]
    }
   ],
   "source": [
    "!head -n 10 out.fwd"
   ]
  },
  {
   "cell_type": "code",
   "execution_count": 13,
   "id": "e56b1b62",
   "metadata": {},
   "outputs": [],
   "source": [
    "with open('out.fwd') as fopen:\n",
    "    alignment = fopen.read().split('\\n')[:-1]\n",
    "len(alignment)\n",
    "\n",
    "results_alignment = {}\n",
    "for no, k in enumerate(results.keys()):\n",
    "    results_alignment[k + results[k]] = alignment[no]"
   ]
  },
  {
   "cell_type": "code",
   "execution_count": 14,
   "id": "267fac6d",
   "metadata": {},
   "outputs": [],
   "source": [
    "with open('out.rev') as fopen:\n",
    "    alignment = fopen.read().split('\\n')[:-1]\n",
    "len(alignment)\n",
    "\n",
    "results_alignment_rev = {}\n",
    "for no, k in enumerate(results.keys()):\n",
    "    results_alignment_rev[k + results[k]] = alignment[no]"
   ]
  },
  {
   "cell_type": "code",
   "execution_count": 15,
   "id": "41c79cd4",
   "metadata": {},
   "outputs": [],
   "source": [
    "data_ = copy.deepcopy(data)"
   ]
  },
  {
   "cell_type": "code",
   "execution_count": 16,
   "id": "6f19c189",
   "metadata": {
    "scrolled": false
   },
   "outputs": [
    {
     "name": "stderr",
     "output_type": "stream",
     "text": [
      "100%|█████████████████████████████████████████████████████████████████████████████████████████████████████████████████████████████████████████████████| 3056/3056 [00:03<00:00, 907.24it/s]\n"
     ]
    }
   ],
   "source": [
    "answers_from_alignment = True\n",
    "\n",
    "rs = []\n",
    "for i in tqdm(range(len(data_))):\n",
    "    try:\n",
    "        for u in range(len(data_[i]['utterances'])):\n",
    "            data_[i]['utterances'][u]['text_ms'] = results[data_[i]['utterances'][u]['text']]\n",
    "            if 'segments' in data_[i]['utterances'][u]:\n",
    "                for k in range(len(data_[i]['utterances'][u]['segments'])):\n",
    "                    answer = {'text': data_[i]['utterances'][u]['segments'][k]['text'], \n",
    "                              'answer_start': data_[i]['utterances'][u]['segments'][k]['start_index']}\n",
    "                    answer_translated, answer_translated_start = utils.extract_answer_translated(\n",
    "                        answer,\n",
    "                        results[data_[i]['utterances'][u]['segments'][k]['text']],\n",
    "                        data_[i]['utterances'][u]['text'],\n",
    "                        results[data_[i]['utterances'][u]['text']],\n",
    "                        results_alignment[data_[i]['utterances'][u]['text'] + results[data_[i]['utterances'][u]['text']]],\n",
    "                        answers_from_alignment,\n",
    "                    )\n",
    "                    data_[i]['utterances'][u]['segments'][k]['text_ms'] = answer_translated\n",
    "                    data_[i]['utterances'][u]['segments'][k]['start_index_ms'] = answer_translated_start\n",
    "                    data_[i]['utterances'][u]['segments'][k]['end_index_ms'] = answer_translated_start + len(answer_translated)\n",
    "                    r = results[data_[i]['utterances'][u]['text']]\n",
    "                    if r[answer_translated_start: answer_translated_start + len(answer_translated)] == results[data_[i]['utterances'][u]['segments'][k]['text']]:\n",
    "                        data_[i]['utterances'][u]['segments'][k]['aligned'] = True\n",
    "                    else:\n",
    "                        data_[i]['utterances'][u]['segments'][k]['aligned'] = False\n",
    "        rs.append(data_[i])\n",
    "    except Exception as e:\n",
    "        print(e)\n",
    "        pass"
   ]
  },
  {
   "cell_type": "code",
   "execution_count": 17,
   "id": "5740a7c9",
   "metadata": {
    "scrolled": false
   },
   "outputs": [
    {
     "data": {
      "text/plain": [
       "(3056, 3056)"
      ]
     },
     "execution_count": 17,
     "metadata": {},
     "output_type": "execute_result"
    }
   ],
   "source": [
    "len(rs), len(data_)"
   ]
  },
  {
   "cell_type": "code",
   "execution_count": 18,
   "id": "4a18c71a",
   "metadata": {},
   "outputs": [],
   "source": [
    "with open('movies-ms.json', 'w') as fopen:\n",
    "    json.dump(rs, fopen)"
   ]
  }
 ],
 "metadata": {
  "kernelspec": {
   "display_name": "Python 3 (ipykernel)",
   "language": "python",
   "name": "python3"
  },
  "language_info": {
   "codemirror_mode": {
    "name": "ipython",
    "version": 3
   },
   "file_extension": ".py",
   "mimetype": "text/x-python",
   "name": "python",
   "nbconvert_exporter": "python",
   "pygments_lexer": "ipython3",
   "version": "3.8.10"
  }
 },
 "nbformat": 4,
 "nbformat_minor": 5
}
