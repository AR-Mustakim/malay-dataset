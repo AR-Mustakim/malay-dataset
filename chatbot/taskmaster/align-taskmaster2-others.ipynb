{
 "cells": [
  {
   "cell_type": "code",
   "execution_count": 1,
   "id": "9aa1ba60",
   "metadata": {},
   "outputs": [],
   "source": [
    "# !pip3 install malaya -U --no-deps\n",
    "# !pip3 install unidecode dateparser ftfy herpetologist networkx==2.5.1 sklearn sentencepiece\n",
    "# !wget https://raw.githubusercontent.com/google-research-datasets/Taskmaster/master/TM-2-2020/data/music.json"
   ]
  },
  {
   "cell_type": "code",
   "execution_count": 5,
   "id": "d53427aa",
   "metadata": {},
   "outputs": [],
   "source": [
    "import malaya\n",
    "import json\n",
    "from tqdm import tqdm\n",
    "import copy\n",
    "import utils\n",
    "import subprocess"
   ]
  },
  {
   "cell_type": "code",
   "execution_count": 3,
   "id": "43c756f8",
   "metadata": {},
   "outputs": [
    {
     "name": "stdout",
     "output_type": "stream",
     "text": [
      "music.json\n",
      "restaurant-search.json\n",
      "sports.json\n"
     ]
    }
   ],
   "source": [
    "import os\n",
    "\n",
    "files = ['music.json', 'restaurant-search.json', 'sports.json']\n",
    "for f in files:\n",
    "    print(f)\n",
    "    # os.system(f'wget https://raw.githubusercontent.com/google-research-datasets/Taskmaster/master/TM-2-2020/data/{f}')"
   ]
  },
  {
   "cell_type": "code",
   "execution_count": 4,
   "id": "6383ad93",
   "metadata": {
    "scrolled": true
   },
   "outputs": [
    {
     "name": "stderr",
     "output_type": "stream",
     "text": [
      "2021-10-03 22:38:40.364566: I tensorflow/core/platform/cpu_feature_guard.cc:142] This TensorFlow binary is optimized with oneAPI Deep Neural Network Library (oneDNN) to use the following CPU instructions in performance-critical operations:  AVX2 AVX512F FMA\n",
      "To enable them in other operations, rebuild TensorFlow with the appropriate compiler flags.\n",
      "2021-10-03 22:38:40.368937: I tensorflow/stream_executor/platform/default/dso_loader.cc:53] Successfully opened dynamic library libcuda.so.1\n",
      "2021-10-03 22:38:40.425985: I tensorflow/stream_executor/cuda/cuda_gpu_executor.cc:937] successful NUMA node read from SysFS had negative value (-1), but there must be at least one NUMA node, so returning NUMA node zero\n",
      "2021-10-03 22:38:40.427873: I tensorflow/core/common_runtime/gpu/gpu_device.cc:1733] Found device 0 with properties: \n",
      "pciBusID: 0000:01:00.0 name: GeForce RTX 3080 computeCapability: 8.6\n",
      "coreClock: 1.74GHz coreCount: 68 deviceMemorySize: 9.78GiB deviceMemoryBandwidth: 707.88GiB/s\n",
      "2021-10-03 22:38:40.427930: I tensorflow/stream_executor/platform/default/dso_loader.cc:53] Successfully opened dynamic library libcudart.so.11.0\n",
      "2021-10-03 22:38:40.433489: I tensorflow/stream_executor/platform/default/dso_loader.cc:53] Successfully opened dynamic library libcublas.so.11\n",
      "2021-10-03 22:38:40.433578: I tensorflow/stream_executor/platform/default/dso_loader.cc:53] Successfully opened dynamic library libcublasLt.so.11\n",
      "2021-10-03 22:38:40.435273: I tensorflow/stream_executor/platform/default/dso_loader.cc:53] Successfully opened dynamic library libcufft.so.10\n",
      "2021-10-03 22:38:40.435593: I tensorflow/stream_executor/platform/default/dso_loader.cc:53] Successfully opened dynamic library libcurand.so.10\n",
      "2021-10-03 22:38:40.439010: I tensorflow/stream_executor/platform/default/dso_loader.cc:53] Successfully opened dynamic library libcusolver.so.11\n",
      "2021-10-03 22:38:40.439682: I tensorflow/stream_executor/platform/default/dso_loader.cc:53] Successfully opened dynamic library libcusparse.so.11\n",
      "2021-10-03 22:38:40.439818: I tensorflow/stream_executor/platform/default/dso_loader.cc:53] Successfully opened dynamic library libcudnn.so.8\n",
      "2021-10-03 22:38:40.439902: I tensorflow/stream_executor/cuda/cuda_gpu_executor.cc:937] successful NUMA node read from SysFS had negative value (-1), but there must be at least one NUMA node, so returning NUMA node zero\n",
      "2021-10-03 22:38:40.440706: I tensorflow/stream_executor/cuda/cuda_gpu_executor.cc:937] successful NUMA node read from SysFS had negative value (-1), but there must be at least one NUMA node, so returning NUMA node zero\n",
      "2021-10-03 22:38:40.441425: I tensorflow/core/common_runtime/gpu/gpu_device.cc:1871] Adding visible gpu devices: 0\n",
      "2021-10-03 22:38:40.441445: I tensorflow/stream_executor/platform/default/dso_loader.cc:53] Successfully opened dynamic library libcudart.so.11.0\n",
      "2021-10-03 22:38:40.701045: I tensorflow/core/common_runtime/gpu/gpu_device.cc:1258] Device interconnect StreamExecutor with strength 1 edge matrix:\n",
      "2021-10-03 22:38:40.701063: I tensorflow/core/common_runtime/gpu/gpu_device.cc:1264]      0 \n",
      "2021-10-03 22:38:40.701066: I tensorflow/core/common_runtime/gpu/gpu_device.cc:1277] 0:   N \n",
      "2021-10-03 22:38:40.701187: I tensorflow/stream_executor/cuda/cuda_gpu_executor.cc:937] successful NUMA node read from SysFS had negative value (-1), but there must be at least one NUMA node, so returning NUMA node zero\n",
      "2021-10-03 22:38:40.701550: I tensorflow/stream_executor/cuda/cuda_gpu_executor.cc:937] successful NUMA node read from SysFS had negative value (-1), but there must be at least one NUMA node, so returning NUMA node zero\n",
      "2021-10-03 22:38:40.701906: I tensorflow/stream_executor/cuda/cuda_gpu_executor.cc:937] successful NUMA node read from SysFS had negative value (-1), but there must be at least one NUMA node, so returning NUMA node zero\n",
      "2021-10-03 22:38:40.702231: I tensorflow/core/common_runtime/gpu/gpu_device.cc:1418] Created TensorFlow device (/device:GPU:0 with 8077 MB memory) -> physical GPU (device: 0, name: GeForce RTX 3080, pci bus id: 0000:01:00.0, compute capability: 8.6)\n",
      "2021-10-03 22:38:42.244462: I tensorflow/stream_executor/cuda/cuda_gpu_executor.cc:937] successful NUMA node read from SysFS had negative value (-1), but there must be at least one NUMA node, so returning NUMA node zero\n",
      "2021-10-03 22:38:42.244836: I tensorflow/core/common_runtime/gpu/gpu_device.cc:1733] Found device 0 with properties: \n",
      "pciBusID: 0000:01:00.0 name: GeForce RTX 3080 computeCapability: 8.6\n",
      "coreClock: 1.74GHz coreCount: 68 deviceMemorySize: 9.78GiB deviceMemoryBandwidth: 707.88GiB/s\n",
      "2021-10-03 22:38:42.244906: I tensorflow/stream_executor/cuda/cuda_gpu_executor.cc:937] successful NUMA node read from SysFS had negative value (-1), but there must be at least one NUMA node, so returning NUMA node zero\n",
      "2021-10-03 22:38:42.245265: I tensorflow/stream_executor/cuda/cuda_gpu_executor.cc:937] successful NUMA node read from SysFS had negative value (-1), but there must be at least one NUMA node, so returning NUMA node zero\n",
      "2021-10-03 22:38:42.245580: I tensorflow/core/common_runtime/gpu/gpu_device.cc:1871] Adding visible gpu devices: 0\n",
      "2021-10-03 22:38:42.245597: I tensorflow/core/common_runtime/gpu/gpu_device.cc:1258] Device interconnect StreamExecutor with strength 1 edge matrix:\n",
      "2021-10-03 22:38:42.245600: I tensorflow/core/common_runtime/gpu/gpu_device.cc:1264]      0 \n",
      "2021-10-03 22:38:42.245602: I tensorflow/core/common_runtime/gpu/gpu_device.cc:1277] 0:   N \n",
      "2021-10-03 22:38:42.245651: I tensorflow/stream_executor/cuda/cuda_gpu_executor.cc:937] successful NUMA node read from SysFS had negative value (-1), but there must be at least one NUMA node, so returning NUMA node zero\n",
      "2021-10-03 22:38:42.246006: I tensorflow/stream_executor/cuda/cuda_gpu_executor.cc:937] successful NUMA node read from SysFS had negative value (-1), but there must be at least one NUMA node, so returning NUMA node zero\n",
      "2021-10-03 22:38:42.246295: I tensorflow/core/common_runtime/gpu/gpu_device.cc:1418] Created TensorFlow device (/job:localhost/replica:0/task:0/device:GPU:0 with 8077 MB memory) -> physical GPU (device: 0, name: GeForce RTX 3080, pci bus id: 0000:01:00.0, compute capability: 8.6)\n"
     ]
    }
   ],
   "source": [
    "transformer = malaya.translation.en_ms.transformer()"
   ]
  },
  {
   "cell_type": "code",
   "execution_count": 7,
   "id": "c4b70eaf",
   "metadata": {},
   "outputs": [
    {
     "data": {
      "text/plain": [
       "('music', '.json')"
      ]
     },
     "execution_count": 7,
     "metadata": {},
     "output_type": "execute_result"
    }
   ],
   "source": [
    "os.path.splitext(files[0])[0]"
   ]
  },
  {
   "cell_type": "code",
   "execution_count": 8,
   "id": "3bb0f422",
   "metadata": {},
   "outputs": [
    {
     "name": "stdout",
     "output_type": "stream",
     "text": [
      "music.json 1603\n"
     ]
    },
    {
     "name": "stderr",
     "output_type": "stream",
     "text": [
      "100%|██████████████████████████████████████████████████████████████████████████████████████████████████████████████████████████████████████████████| 1603/1603 [00:00<00:00, 378851.03it/s]\n"
     ]
    },
    {
     "name": "stdout",
     "output_type": "stream",
     "text": [
      "music.json 27454\n"
     ]
    },
    {
     "name": "stderr",
     "output_type": "stream",
     "text": [
      "  0%|                                                                                                                                                             | 0/2746 [00:00<?, ?it/s]2021-10-03 22:41:01.213964: I tensorflow/core/platform/profile_utils/cpu_utils.cc:114] CPU Frequency: 2496000000 Hz\n",
      "2021-10-03 22:41:04.902944: I tensorflow/stream_executor/platform/default/dso_loader.cc:53] Successfully opened dynamic library libcublas.so.11\n",
      "2021-10-03 22:41:05.223558: I tensorflow/stream_executor/platform/default/dso_loader.cc:53] Successfully opened dynamic library libcublasLt.so.11\n",
      "2021-10-03 22:41:05.223590: I tensorflow/stream_executor/cuda/cuda_blas.cc:1838] TensorFloat-32 will be used for the matrix multiplication. This will only be logged once.\n",
      "100%|██████████████████████████████████████████████████████████████████████████████████████████████████████████████████████████████████████████████████| 2746/2746 [07:06<00:00,  6.44it/s]\n",
      "100%|████████████████████████████████████████████████████████████████████████████████████████████████████████████████████████████████████████████████| 1603/1603 [00:00<00:00, 1852.71it/s]\n"
     ]
    },
    {
     "name": "stdout",
     "output_type": "stream",
     "text": [
      "restaurant-search.json 3276\n"
     ]
    },
    {
     "name": "stderr",
     "output_type": "stream",
     "text": [
      "100%|██████████████████████████████████████████████████████████████████████████████████████████████████████████████████████████████████████████████| 3276/3276 [00:00<00:00, 286249.32it/s]\n"
     ]
    },
    {
     "name": "stdout",
     "output_type": "stream",
     "text": [
      "restaurant-search.json 55379\n"
     ]
    },
    {
     "name": "stderr",
     "output_type": "stream",
     "text": [
      "100%|██████████████████████████████████████████████████████████████████████████████████████████████████████████████████████████████████████████████████| 5538/5538 [18:46<00:00,  4.91it/s]\n",
      " 14%|████████████████████▋                                                                                                                            | 468/3276 [00:00<00:02, 1056.60it/s]"
     ]
    },
    {
     "name": "stdout",
     "output_type": "stream",
     "text": [
      "string index out of range\n"
     ]
    },
    {
     "name": "stderr",
     "output_type": "stream",
     "text": [
      "100%|████████████████████████████████████████████████████████████████████████████████████████████████████████████████████████████████████████████████| 3276/3276 [00:03<00:00, 1054.54it/s]\n"
     ]
    },
    {
     "name": "stdout",
     "output_type": "stream",
     "text": [
      "sports.json 3481\n"
     ]
    },
    {
     "name": "stderr",
     "output_type": "stream",
     "text": [
      "100%|██████████████████████████████████████████████████████████████████████████████████████████████████████████████████████████████████████████████| 3481/3481 [00:00<00:00, 274164.80it/s]\n"
     ]
    },
    {
     "name": "stdout",
     "output_type": "stream",
     "text": [
      "sports.json 38452\n"
     ]
    },
    {
     "name": "stderr",
     "output_type": "stream",
     "text": [
      "100%|██████████████████████████████████████████████████████████████████████████████████████████████████████████████████████████████████████████████████| 3846/3846 [10:09<00:00,  6.31it/s]\n",
      "100%|████████████████████████████████████████████████████████████████████████████████████████████████████████████████████████████████████████████████| 3481/3481 [00:02<00:00, 1635.26it/s]\n"
     ]
    }
   ],
   "source": [
    "for file in files:\n",
    "    with open(file) as fopen:\n",
    "        data = json.load(fopen)\n",
    "    print(file, len(data))\n",
    "    \n",
    "    texts = []\n",
    "    for row in tqdm(data):\n",
    "        for u in row['utterances']:\n",
    "            texts.append(u['text'])\n",
    "            if 'segments' in u:\n",
    "                for s in u['segments']:\n",
    "                    texts.append(s['text'])\n",
    "    texts = list(set(texts))\n",
    "    print(file, len(texts))\n",
    "    \n",
    "    results = {}\n",
    "    batch_size = 10\n",
    "    for i in tqdm(range(0, len(texts), batch_size)):\n",
    "        b = texts[i: i + batch_size]\n",
    "        b_ = transformer.greedy_decoder(b)\n",
    "        for k in range(len(b)):\n",
    "            results[b[k]] = b_[k]\n",
    "            \n",
    "    with open('left', 'w') as fopen:\n",
    "        fopen.write('\\n'.join(list(results.keys())))\n",
    "\n",
    "    with open('right', 'w') as fopen:\n",
    "        fopen.write('\\n'.join(list(results.values())))\n",
    "        \n",
    "    cmd = 'python3 align.py -s left -t right --priors align.priors --model 3 -f out.fwd -r out.rev --overwrite'\n",
    "    subprocess.run(cmd.split())\n",
    "    \n",
    "    with open('out.fwd') as fopen:\n",
    "        alignment = fopen.read().split('\\n')[:-1]\n",
    "    len(alignment)\n",
    "\n",
    "    results_alignment = {}\n",
    "    for no, k in enumerate(results.keys()):\n",
    "        results_alignment[k + results[k]] = alignment[no]\n",
    "    \n",
    "    with open('out.rev') as fopen:\n",
    "        alignment = fopen.read().split('\\n')[:-1]\n",
    "    len(alignment)\n",
    "\n",
    "    results_alignment_rev = {}\n",
    "    for no, k in enumerate(results.keys()):\n",
    "        results_alignment_rev[k + results[k]] = alignment[no]\n",
    "    \n",
    "    data_ = copy.deepcopy(data)\n",
    "    \n",
    "    answers_from_alignment = True\n",
    "\n",
    "    rs = []\n",
    "    for i in tqdm(range(len(data_))):\n",
    "        try:\n",
    "            for u in range(len(data_[i]['utterances'])):\n",
    "                data_[i]['utterances'][u]['text_ms'] = results[data_[i]['utterances'][u]['text']]\n",
    "                if 'segments' in data_[i]['utterances'][u]:\n",
    "                    for k in range(len(data_[i]['utterances'][u]['segments'])):\n",
    "                        answer = {'text': data_[i]['utterances'][u]['segments'][k]['text'], \n",
    "                                  'answer_start': data_[i]['utterances'][u]['segments'][k]['start_index']}\n",
    "                        answer_translated, answer_translated_start = utils.extract_answer_translated(\n",
    "                            answer,\n",
    "                            results[data_[i]['utterances'][u]['segments'][k]['text']],\n",
    "                            data_[i]['utterances'][u]['text'],\n",
    "                            results[data_[i]['utterances'][u]['text']],\n",
    "                            results_alignment[data_[i]['utterances'][u]['text'] + results[data_[i]['utterances'][u]['text']]],\n",
    "                            answers_from_alignment,\n",
    "                        )\n",
    "                        data_[i]['utterances'][u]['segments'][k]['text_ms'] = answer_translated\n",
    "                        data_[i]['utterances'][u]['segments'][k]['start_index_ms'] = answer_translated_start\n",
    "                        data_[i]['utterances'][u]['segments'][k]['end_index_ms'] = answer_translated_start + len(answer_translated)\n",
    "                        r = results[data_[i]['utterances'][u]['text']]\n",
    "                        if r[answer_translated_start: answer_translated_start + len(answer_translated)] == results[data_[i]['utterances'][u]['segments'][k]['text']]:\n",
    "                            data_[i]['utterances'][u]['segments'][k]['aligned'] = True\n",
    "                        else:\n",
    "                            data_[i]['utterances'][u]['segments'][k]['aligned'] = False\n",
    "            rs.append(data_[i])\n",
    "        except Exception as e:\n",
    "            print(e)\n",
    "            pass\n",
    "    \n",
    "    with open(f'{os.path.splitext(file)[0]}.json', 'w') as fopen:\n",
    "        json.dump(rs, fopen)"
   ]
  },
  {
   "cell_type": "code",
   "execution_count": null,
   "id": "7537a12e",
   "metadata": {},
   "outputs": [],
   "source": []
  }
 ],
 "metadata": {
  "kernelspec": {
   "display_name": "Python 3 (ipykernel)",
   "language": "python",
   "name": "python3"
  },
  "language_info": {
   "codemirror_mode": {
    "name": "ipython",
    "version": 3
   },
   "file_extension": ".py",
   "mimetype": "text/x-python",
   "name": "python",
   "nbconvert_exporter": "python",
   "pygments_lexer": "ipython3",
   "version": "3.8.10"
  }
 },
 "nbformat": 4,
 "nbformat_minor": 5
}
