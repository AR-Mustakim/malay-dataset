{
 "cells": [
  {
   "cell_type": "code",
   "execution_count": 1,
   "id": "9aa1ba60",
   "metadata": {},
   "outputs": [],
   "source": [
    "# !pip3 install malaya -U --no-deps\n",
    "# !pip3 install unidecode dateparser ftfy herpetologist networkx==2.5.1 sklearn sentencepiece\n",
    "# !wget https://raw.githubusercontent.com/google-research-datasets/Taskmaster/master/TM-2-2020/data/food-ordering.json"
   ]
  },
  {
   "cell_type": "code",
   "execution_count": 2,
   "id": "d53427aa",
   "metadata": {},
   "outputs": [
    {
     "name": "stderr",
     "output_type": "stream",
     "text": [
      "2021-10-03 21:24:42.709840: I tensorflow/stream_executor/platform/default/dso_loader.cc:53] Successfully opened dynamic library libcudart.so.11.0\n",
      "/home/ubuntu/.local/lib/python3.8/site-packages/malaya_boilerplate/frozen_graph.py:24: UserWarning: Cannot import beam_search_ops from Tensorflow Addons, `deep_model` for stemmer will not available to use, make sure Tensorflow Addons version >= 0.12.0\n",
      "  warnings.warn(\n"
     ]
    }
   ],
   "source": [
    "import malaya\n",
    "import json\n",
    "from tqdm import tqdm\n",
    "import copy\n",
    "import utils"
   ]
  },
  {
   "cell_type": "code",
   "execution_count": 3,
   "id": "6383ad93",
   "metadata": {},
   "outputs": [
    {
     "name": "stderr",
     "output_type": "stream",
     "text": [
      "2021-10-03 21:24:47.017016: I tensorflow/core/platform/cpu_feature_guard.cc:142] This TensorFlow binary is optimized with oneAPI Deep Neural Network Library (oneDNN) to use the following CPU instructions in performance-critical operations:  AVX2 AVX512F FMA\n",
      "To enable them in other operations, rebuild TensorFlow with the appropriate compiler flags.\n",
      "2021-10-03 21:24:47.021271: I tensorflow/stream_executor/platform/default/dso_loader.cc:53] Successfully opened dynamic library libcuda.so.1\n",
      "2021-10-03 21:24:47.073935: I tensorflow/stream_executor/cuda/cuda_gpu_executor.cc:937] successful NUMA node read from SysFS had negative value (-1), but there must be at least one NUMA node, so returning NUMA node zero\n",
      "2021-10-03 21:24:47.075524: I tensorflow/core/common_runtime/gpu/gpu_device.cc:1733] Found device 0 with properties: \n",
      "pciBusID: 0000:01:00.0 name: GeForce RTX 3080 computeCapability: 8.6\n",
      "coreClock: 1.74GHz coreCount: 68 deviceMemorySize: 9.78GiB deviceMemoryBandwidth: 707.88GiB/s\n",
      "2021-10-03 21:24:47.075575: I tensorflow/stream_executor/platform/default/dso_loader.cc:53] Successfully opened dynamic library libcudart.so.11.0\n",
      "2021-10-03 21:24:47.080778: I tensorflow/stream_executor/platform/default/dso_loader.cc:53] Successfully opened dynamic library libcublas.so.11\n",
      "2021-10-03 21:24:47.080868: I tensorflow/stream_executor/platform/default/dso_loader.cc:53] Successfully opened dynamic library libcublasLt.so.11\n",
      "2021-10-03 21:24:47.082383: I tensorflow/stream_executor/platform/default/dso_loader.cc:53] Successfully opened dynamic library libcufft.so.10\n",
      "2021-10-03 21:24:47.082678: I tensorflow/stream_executor/platform/default/dso_loader.cc:53] Successfully opened dynamic library libcurand.so.10\n",
      "2021-10-03 21:24:47.085945: I tensorflow/stream_executor/platform/default/dso_loader.cc:53] Successfully opened dynamic library libcusolver.so.11\n",
      "2021-10-03 21:24:47.086627: I tensorflow/stream_executor/platform/default/dso_loader.cc:53] Successfully opened dynamic library libcusparse.so.11\n",
      "2021-10-03 21:24:47.086763: I tensorflow/stream_executor/platform/default/dso_loader.cc:53] Successfully opened dynamic library libcudnn.so.8\n",
      "2021-10-03 21:24:47.086850: I tensorflow/stream_executor/cuda/cuda_gpu_executor.cc:937] successful NUMA node read from SysFS had negative value (-1), but there must be at least one NUMA node, so returning NUMA node zero\n",
      "2021-10-03 21:24:47.087649: I tensorflow/stream_executor/cuda/cuda_gpu_executor.cc:937] successful NUMA node read from SysFS had negative value (-1), but there must be at least one NUMA node, so returning NUMA node zero\n",
      "2021-10-03 21:24:47.088234: I tensorflow/core/common_runtime/gpu/gpu_device.cc:1871] Adding visible gpu devices: 0\n",
      "2021-10-03 21:24:47.088256: I tensorflow/stream_executor/platform/default/dso_loader.cc:53] Successfully opened dynamic library libcudart.so.11.0\n",
      "2021-10-03 21:24:47.349524: I tensorflow/core/common_runtime/gpu/gpu_device.cc:1258] Device interconnect StreamExecutor with strength 1 edge matrix:\n",
      "2021-10-03 21:24:47.349544: I tensorflow/core/common_runtime/gpu/gpu_device.cc:1264]      0 \n",
      "2021-10-03 21:24:47.349556: I tensorflow/core/common_runtime/gpu/gpu_device.cc:1277] 0:   N \n",
      "2021-10-03 21:24:47.349676: I tensorflow/stream_executor/cuda/cuda_gpu_executor.cc:937] successful NUMA node read from SysFS had negative value (-1), but there must be at least one NUMA node, so returning NUMA node zero\n",
      "2021-10-03 21:24:47.350051: I tensorflow/stream_executor/cuda/cuda_gpu_executor.cc:937] successful NUMA node read from SysFS had negative value (-1), but there must be at least one NUMA node, so returning NUMA node zero\n",
      "2021-10-03 21:24:47.350391: I tensorflow/stream_executor/cuda/cuda_gpu_executor.cc:937] successful NUMA node read from SysFS had negative value (-1), but there must be at least one NUMA node, so returning NUMA node zero\n",
      "2021-10-03 21:24:47.350723: I tensorflow/core/common_runtime/gpu/gpu_device.cc:1418] Created TensorFlow device (/device:GPU:0 with 8077 MB memory) -> physical GPU (device: 0, name: GeForce RTX 3080, pci bus id: 0000:01:00.0, compute capability: 8.6)\n",
      "2021-10-03 21:24:48.916323: I tensorflow/stream_executor/cuda/cuda_gpu_executor.cc:937] successful NUMA node read from SysFS had negative value (-1), but there must be at least one NUMA node, so returning NUMA node zero\n",
      "2021-10-03 21:24:48.916703: I tensorflow/core/common_runtime/gpu/gpu_device.cc:1733] Found device 0 with properties: \n",
      "pciBusID: 0000:01:00.0 name: GeForce RTX 3080 computeCapability: 8.6\n",
      "coreClock: 1.74GHz coreCount: 68 deviceMemorySize: 9.78GiB deviceMemoryBandwidth: 707.88GiB/s\n",
      "2021-10-03 21:24:48.916784: I tensorflow/stream_executor/cuda/cuda_gpu_executor.cc:937] successful NUMA node read from SysFS had negative value (-1), but there must be at least one NUMA node, so returning NUMA node zero\n",
      "2021-10-03 21:24:48.917147: I tensorflow/stream_executor/cuda/cuda_gpu_executor.cc:937] successful NUMA node read from SysFS had negative value (-1), but there must be at least one NUMA node, so returning NUMA node zero\n",
      "2021-10-03 21:24:48.917463: I tensorflow/core/common_runtime/gpu/gpu_device.cc:1871] Adding visible gpu devices: 0\n",
      "2021-10-03 21:24:48.917481: I tensorflow/core/common_runtime/gpu/gpu_device.cc:1258] Device interconnect StreamExecutor with strength 1 edge matrix:\n",
      "2021-10-03 21:24:48.917484: I tensorflow/core/common_runtime/gpu/gpu_device.cc:1264]      0 \n",
      "2021-10-03 21:24:48.917486: I tensorflow/core/common_runtime/gpu/gpu_device.cc:1277] 0:   N \n",
      "2021-10-03 21:24:48.917535: I tensorflow/stream_executor/cuda/cuda_gpu_executor.cc:937] successful NUMA node read from SysFS had negative value (-1), but there must be at least one NUMA node, so returning NUMA node zero\n",
      "2021-10-03 21:24:48.917901: I tensorflow/stream_executor/cuda/cuda_gpu_executor.cc:937] successful NUMA node read from SysFS had negative value (-1), but there must be at least one NUMA node, so returning NUMA node zero\n",
      "2021-10-03 21:24:48.918230: I tensorflow/core/common_runtime/gpu/gpu_device.cc:1418] Created TensorFlow device (/job:localhost/replica:0/task:0/device:GPU:0 with 8077 MB memory) -> physical GPU (device: 0, name: GeForce RTX 3080, pci bus id: 0000:01:00.0, compute capability: 8.6)\n"
     ]
    }
   ],
   "source": [
    "transformer = malaya.translation.en_ms.transformer()"
   ]
  },
  {
   "cell_type": "code",
   "execution_count": 4,
   "id": "9a76875f",
   "metadata": {},
   "outputs": [
    {
     "data": {
      "text/plain": [
       "1050"
      ]
     },
     "execution_count": 4,
     "metadata": {},
     "output_type": "execute_result"
    }
   ],
   "source": [
    "with open('food-ordering.json') as fopen:\n",
    "    data = json.load(fopen)\n",
    "len(data)"
   ]
  },
  {
   "cell_type": "code",
   "execution_count": 5,
   "id": "a1896631",
   "metadata": {},
   "outputs": [
    {
     "name": "stderr",
     "output_type": "stream",
     "text": [
      "100%|██████████████████████████████████████████████████████████████████████████████████████████████████████████████████████████████████████████████| 1050/1050 [00:00<00:00, 360335.40it/s]\n"
     ]
    },
    {
     "data": {
      "text/plain": [
       "12382"
      ]
     },
     "execution_count": 5,
     "metadata": {},
     "output_type": "execute_result"
    }
   ],
   "source": [
    "texts = []\n",
    "for row in tqdm(data):\n",
    "    for u in row['utterances']:\n",
    "        texts.append(u['text'])\n",
    "        if 'segments' in u:\n",
    "            for s in u['segments']:\n",
    "                texts.append(s['text'])\n",
    "texts = list(set(texts))\n",
    "len(texts)"
   ]
  },
  {
   "cell_type": "code",
   "execution_count": 6,
   "id": "aea0bd2b",
   "metadata": {},
   "outputs": [
    {
     "name": "stderr",
     "output_type": "stream",
     "text": [
      "  0%|                                                                                                                                                             | 0/1239 [00:00<?, ?it/s]2021-10-03 21:24:49.093972: I tensorflow/core/platform/profile_utils/cpu_utils.cc:114] CPU Frequency: 2496000000 Hz\n",
      "2021-10-03 21:24:52.828227: I tensorflow/stream_executor/platform/default/dso_loader.cc:53] Successfully opened dynamic library libcublas.so.11\n",
      "2021-10-03 21:24:53.142626: I tensorflow/stream_executor/platform/default/dso_loader.cc:53] Successfully opened dynamic library libcublasLt.so.11\n",
      "2021-10-03 21:24:53.142659: I tensorflow/stream_executor/cuda/cuda_blas.cc:1838] TensorFloat-32 will be used for the matrix multiplication. This will only be logged once.\n",
      "100%|██████████████████████████████████████████████████████████████████████████████████████████████████████████████████████████████████████████████████| 1239/1239 [03:54<00:00,  5.28it/s]\n"
     ]
    }
   ],
   "source": [
    "results = {}\n",
    "batch_size = 10\n",
    "for i in tqdm(range(0, len(texts), batch_size)):\n",
    "    b = texts[i: i + batch_size]\n",
    "    b_ = transformer.greedy_decoder(b)\n",
    "    for k in range(len(b)):\n",
    "        results[b[k]] = b_[k]"
   ]
  },
  {
   "cell_type": "code",
   "execution_count": 7,
   "id": "191fc849",
   "metadata": {},
   "outputs": [
    {
     "data": {
      "text/plain": [
       "12382"
      ]
     },
     "execution_count": 7,
     "metadata": {},
     "output_type": "execute_result"
    }
   ],
   "source": [
    "len(results)"
   ]
  },
  {
   "cell_type": "code",
   "execution_count": 8,
   "id": "141db0cc",
   "metadata": {},
   "outputs": [],
   "source": [
    "import subprocess"
   ]
  },
  {
   "cell_type": "code",
   "execution_count": 9,
   "id": "b833073d",
   "metadata": {},
   "outputs": [],
   "source": [
    "with open('left', 'w') as fopen:\n",
    "    fopen.write('\\n'.join(list(results.keys())))\n",
    "    \n",
    "with open('right', 'w') as fopen:\n",
    "    fopen.write('\\n'.join(list(results.values())))"
   ]
  },
  {
   "cell_type": "code",
   "execution_count": 10,
   "id": "9d357caa",
   "metadata": {},
   "outputs": [
    {
     "data": {
      "text/plain": [
       "CompletedProcess(args=['python3', 'align.py', '-s', 'left', '-t', 'right', '--priors', 'align.priors', '--model', '3', '-f', 'out.fwd', '-r', 'out.rev', '--overwrite'], returncode=0)"
      ]
     },
     "execution_count": 10,
     "metadata": {},
     "output_type": "execute_result"
    }
   ],
   "source": [
    "cmd = 'python3 align.py -s left -t right --priors align.priors --model 3 -f out.fwd -r out.rev --overwrite'\n",
    "subprocess.run(cmd.split())"
   ]
  },
  {
   "cell_type": "code",
   "execution_count": 11,
   "id": "5ad8d27e",
   "metadata": {},
   "outputs": [
    {
     "name": "stdout",
     "output_type": "stream",
     "text": [
      "0-0 1-1 2-2 2-3\r\n",
      "0-0 3-1 4-2 4-3 5-4\r\n",
      "0-0 1-1 2-2 4-3 3-4 4-5 5-6 7-7 8-8\r\n",
      "0-0 1-1 3-2 5-3 6-4 7-5 8-6 8-7 9-8\r\n",
      "3-0 2-1 1-2\r\n",
      "0-0 1-1 2-2 3-3 5-4 4-5 6-6 8-7 10-9\r\n",
      "0-0 1-1\r\n",
      "0-0\r\n",
      "0-0 1-1\r\n",
      "0-0 1-1 3-2 5-3 6-4 8-5 7-6 9-7 10-8 11-9 12-10\r\n"
     ]
    }
   ],
   "source": [
    "!head -n 10 out.fwd"
   ]
  },
  {
   "cell_type": "code",
   "execution_count": 12,
   "id": "e56b1b62",
   "metadata": {},
   "outputs": [],
   "source": [
    "with open('out.fwd') as fopen:\n",
    "    alignment = fopen.read().split('\\n')[:-1]\n",
    "len(alignment)\n",
    "\n",
    "results_alignment = {}\n",
    "for no, k in enumerate(results.keys()):\n",
    "    results_alignment[k + results[k]] = alignment[no]"
   ]
  },
  {
   "cell_type": "code",
   "execution_count": 13,
   "id": "267fac6d",
   "metadata": {},
   "outputs": [],
   "source": [
    "with open('out.rev') as fopen:\n",
    "    alignment = fopen.read().split('\\n')[:-1]\n",
    "len(alignment)\n",
    "\n",
    "results_alignment_rev = {}\n",
    "for no, k in enumerate(results.keys()):\n",
    "    results_alignment_rev[k + results[k]] = alignment[no]"
   ]
  },
  {
   "cell_type": "code",
   "execution_count": 15,
   "id": "41c79cd4",
   "metadata": {},
   "outputs": [],
   "source": [
    "data_ = copy.deepcopy(data)"
   ]
  },
  {
   "cell_type": "code",
   "execution_count": 16,
   "id": "6f19c189",
   "metadata": {
    "scrolled": false
   },
   "outputs": [
    {
     "name": "stderr",
     "output_type": "stream",
     "text": [
      " 51%|██████████████████████████████████████████████████████████████████████████▏                                                                      | 537/1050 [00:00<00:00, 1345.00it/s]"
     ]
    },
    {
     "name": "stdout",
     "output_type": "stream",
     "text": [
      "string index out of range\n"
     ]
    },
    {
     "name": "stderr",
     "output_type": "stream",
     "text": [
      " 91%|███████████████████████████████████████████████████████████████████████████████████████████████████████████████████████████████████▌             | 953/1050 [00:00<00:00, 1355.17it/s]"
     ]
    },
    {
     "name": "stdout",
     "output_type": "stream",
     "text": [
      "string index out of range\n"
     ]
    },
    {
     "name": "stderr",
     "output_type": "stream",
     "text": [
      "\r",
      "100%|████████████████████████████████████████████████████████████████████████████████████████████████████████████████████████████████████████████████| 1050/1050 [00:00<00:00, 1334.89it/s]"
     ]
    },
    {
     "name": "stdout",
     "output_type": "stream",
     "text": [
      "string index out of range\n"
     ]
    },
    {
     "name": "stderr",
     "output_type": "stream",
     "text": [
      "\n"
     ]
    }
   ],
   "source": [
    "answers_from_alignment = True\n",
    "\n",
    "rs = []\n",
    "for i in tqdm(range(len(data_))):\n",
    "    try:\n",
    "        for u in range(len(data_[i]['utterances'])):\n",
    "            data_[i]['utterances'][u]['text_ms'] = results[data_[i]['utterances'][u]['text']]\n",
    "            if 'segments' in data_[i]['utterances'][u]:\n",
    "                for k in range(len(data_[i]['utterances'][u]['segments'])):\n",
    "                    answer = {'text': data_[i]['utterances'][u]['segments'][k]['text'], \n",
    "                              'answer_start': data_[i]['utterances'][u]['segments'][k]['start_index']}\n",
    "                    answer_translated, answer_translated_start = utils.extract_answer_translated(\n",
    "                        answer,\n",
    "                        results[data_[i]['utterances'][u]['segments'][k]['text']],\n",
    "                        data_[i]['utterances'][u]['text'],\n",
    "                        results[data_[i]['utterances'][u]['text']],\n",
    "                        results_alignment[data_[i]['utterances'][u]['text'] + results[data_[i]['utterances'][u]['text']]],\n",
    "                        answers_from_alignment,\n",
    "                    )\n",
    "                    data_[i]['utterances'][u]['segments'][k]['text_ms'] = answer_translated\n",
    "                    data_[i]['utterances'][u]['segments'][k]['start_index_ms'] = answer_translated_start\n",
    "                    data_[i]['utterances'][u]['segments'][k]['end_index_ms'] = answer_translated_start + len(answer_translated)\n",
    "                    r = results[data_[i]['utterances'][u]['text']]\n",
    "                    if r[answer_translated_start: answer_translated_start + len(answer_translated)] == results[data_[i]['utterances'][u]['segments'][k]['text']]:\n",
    "                        data_[i]['utterances'][u]['segments'][k]['aligned'] = True\n",
    "                    else:\n",
    "                        data_[i]['utterances'][u]['segments'][k]['aligned'] = False\n",
    "        rs.append(data_[i])\n",
    "    except Exception as e:\n",
    "        print(e)\n",
    "        pass"
   ]
  },
  {
   "cell_type": "code",
   "execution_count": 17,
   "id": "5740a7c9",
   "metadata": {
    "scrolled": false
   },
   "outputs": [
    {
     "data": {
      "text/plain": [
       "(1047, 1050)"
      ]
     },
     "execution_count": 17,
     "metadata": {},
     "output_type": "execute_result"
    }
   ],
   "source": [
    "len(rs), len(data_)"
   ]
  },
  {
   "cell_type": "code",
   "execution_count": 19,
   "id": "4a18c71a",
   "metadata": {},
   "outputs": [],
   "source": [
    "with open('food-ordering-ms.json', 'w') as fopen:\n",
    "    json.dump(rs, fopen)"
   ]
  },
  {
   "cell_type": "code",
   "execution_count": null,
   "id": "36bdbba6",
   "metadata": {},
   "outputs": [],
   "source": []
  }
 ],
 "metadata": {
  "kernelspec": {
   "display_name": "Python 3 (ipykernel)",
   "language": "python",
   "name": "python3"
  },
  "language_info": {
   "codemirror_mode": {
    "name": "ipython",
    "version": 3
   },
   "file_extension": ".py",
   "mimetype": "text/x-python",
   "name": "python",
   "nbconvert_exporter": "python",
   "pygments_lexer": "ipython3",
   "version": "3.8.10"
  }
 },
 "nbformat": 4,
 "nbformat_minor": 5
}
