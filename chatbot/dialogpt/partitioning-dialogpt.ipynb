{
 "cells": [
  {
   "cell_type": "code",
   "execution_count": 1,
   "metadata": {},
   "outputs": [],
   "source": [
    "import os\n",
    "\n",
    "os.environ['CUDA_VISIBLE_DEVICES'] = ''\n",
    "\n",
    "import ujson as json\n",
    "import pickle\n",
    "import re\n",
    "from tqdm import tqdm"
   ]
  },
  {
   "cell_type": "code",
   "execution_count": 2,
   "metadata": {},
   "outputs": [],
   "source": [
    "class Pointer:\n",
    "    def __init__(self, filename):\n",
    "        self.filename = filename\n",
    "        self.index = 0\n",
    "\n",
    "    def _save(self):\n",
    "        with open(self.filename, 'wb') as fopen:\n",
    "            pickle.dump(self.index, fopen)\n",
    "\n",
    "    def increment(self):\n",
    "        self.index += 1\n",
    "        self._save()\n",
    "\n",
    "    def load(self):\n",
    "        if not os.path.exists(self.filename):\n",
    "            return\n",
    "        with open(self.filename, 'rb') as fopen:\n",
    "            self.index = pickle.load(fopen)"
   ]
  },
  {
   "cell_type": "code",
   "execution_count": 18,
   "metadata": {},
   "outputs": [],
   "source": [
    "filename = 'dialogpt.tsv'\n",
    "pointer = Pointer(f'{filename}.pickle')\n",
    "pointer.load()\n",
    "index = 0\n",
    "limit = 500000"
   ]
  },
  {
   "cell_type": "code",
   "execution_count": 19,
   "metadata": {},
   "outputs": [],
   "source": [
    "results = []\n",
    "with open(filename) as fopen:\n",
    "    for line in fopen:\n",
    "        if index >= pointer.index:\n",
    "            l = line\n",
    "            splitted = l.split('\\t')\n",
    "            if len(splitted) == 2:\n",
    "                left = splitted[0].split()\n",
    "                right = splitted[1].split()\n",
    "                r = {'score': left[0], 'left': ' '.join(left[1:]),\n",
    "                    'right_score': right[0], 'right': ' '.join(right[1:])}\n",
    "                results.append(r)\n",
    "                pointer.increment()\n",
    "        index += 1\n",
    "        if len(results) == limit:\n",
    "            break"
   ]
  },
  {
   "cell_type": "code",
   "execution_count": 20,
   "metadata": {
    "scrolled": true
   },
   "outputs": [
    {
     "data": {
      "text/plain": [
       "500000"
      ]
     },
     "execution_count": 20,
     "metadata": {},
     "output_type": "execute_result"
    }
   ],
   "source": [
    "len(results)"
   ]
  },
  {
   "cell_type": "code",
   "execution_count": 21,
   "metadata": {},
   "outputs": [
    {
     "data": {
      "text/plain": [
       "[{'score': '0.0',\n",
       "  'left': \"On the bright side , despite kidnapping and cruelly abandoning him , it doesn't sound like he was tortured ...\",\n",
       "  'right_score': '1.0',\n",
       "  'right': \"We didn't torture somebody ! USA\"},\n",
       " {'score': '1.0',\n",
       "  'left': 'will comments dissapear if ranked low enough ? I can just see the pages with 5000 comments now ..',\n",
       "  'right_score': '1.0',\n",
       "  'right': \"not yet , but we'll play around with it\"},\n",
       " {'score': '1.0',\n",
       "  'left': 'choose flat in the upper right ?',\n",
       "  'right_score': '1.0',\n",
       "  'right': 'Of course , that makes replies made by users in the nested view look completely out of context .'},\n",
       " {'score': '0.0',\n",
       "  'left': 'You know whats procrastination ? Sitting in front of your machine all day long doing nothing but reading all the hot articles on reddit .',\n",
       "  'right_score': '1.0',\n",
       "  'right': 'Amen to that !'},\n",
       " {'score': '1.0',\n",
       "  'left': 'An article on Micro Economics by Joel Spolsky',\n",
       "  'right_score': '1.0',\n",
       "  'right': '... from 2002 !'},\n",
       " {'score': '0.0',\n",
       "  'left': 'Macros are like sperm . They are different when they are your own . And people keep talking about the EJB mess like its 1998 . Get over it .',\n",
       "  'right_score': '1.0',\n",
       "  'right': 'EJB is still a mess , hence the effort to clean it up in EJB 3.0 . Might be too late , but good luck to them .'},\n",
       " {'score': '1.0',\n",
       "  'left': 'Assholism in 38 Easy Steps .',\n",
       "  'right_score': '1.0',\n",
       "  'right': 'amen to that .'},\n",
       " {'score': '0.0',\n",
       "  'left': \"Understandably , you can't retire on 95K , but it is odd that the guy is asking for donations and selling a DVD . I suggest that you RTFA .\",\n",
       "  'right_score': '1.0',\n",
       "  'right': 'Ah . Thank you for alerting me to the inadequate affordance provided by the itty bitty text linking to the subsequent parts of the story .'},\n",
       " {'score': '1.0',\n",
       "  'left': 'another nice way to procrastinate ! !',\n",
       "  'right_score': '1.0',\n",
       "  'right': \"it's strangely mesmerizing to watch the patterns , then set fire to the oil\"},\n",
       " {'score': '0.0',\n",
       "  'left': 'There are still some Graham pages left to be posted on reddit ?',\n",
       "  'right_score': '0.0',\n",
       "  'right': \"Paul seems to be using Reddit to host his comment system now , so presumably there won't be for long .\"}]"
      ]
     },
     "execution_count": 21,
     "metadata": {},
     "output_type": "execute_result"
    }
   ],
   "source": [
    "results[:10]"
   ]
  },
  {
   "cell_type": "code",
   "execution_count": 22,
   "metadata": {},
   "outputs": [],
   "source": [
    "partition_size = 4\n",
    "start = 0\n",
    "limit = len(results) // partition_size\n",
    "for i in range(partition_size):\n",
    "    b = results[i * limit: limit + (i * limit)]\n",
    "    with open(f'{filename}-{i + start}', 'w') as fopen:\n",
    "        json.dump(b, fopen)"
   ]
  }
 ],
 "metadata": {
  "kernelspec": {
   "display_name": "Python 3",
   "language": "python",
   "name": "python3"
  },
  "language_info": {
   "codemirror_mode": {
    "name": "ipython",
    "version": 3
   },
   "file_extension": ".py",
   "mimetype": "text/x-python",
   "name": "python",
   "nbconvert_exporter": "python",
   "pygments_lexer": "ipython3",
   "version": "3.6.9"
  }
 },
 "nbformat": 4,
 "nbformat_minor": 2
}
