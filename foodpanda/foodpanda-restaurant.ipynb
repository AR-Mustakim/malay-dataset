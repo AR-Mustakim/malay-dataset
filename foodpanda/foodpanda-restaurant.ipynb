{
 "cells": [
  {
   "cell_type": "code",
   "execution_count": 1,
   "metadata": {},
   "outputs": [],
   "source": [
    "from bs4 import BeautifulSoup\n",
    "from fake_useragent import UserAgent\n",
    "import requests\n",
    "\n",
    "ua = UserAgent()"
   ]
  },
  {
   "cell_type": "code",
   "execution_count": 2,
   "metadata": {},
   "outputs": [],
   "source": [
    "headers = {'User-Agent': ua.chrome}\n",
    "headers = {\"User-Agent\": \"Mozilla/5.0 (Macintosh; Intel Mac OS X 10.14; rv:66.0) Gecko/20100101 Firefox/66.0\", \n",
    "           \"Accept\": \"text/html,application/xhtml+xml,application/xml;q=0.9,*/*;q=0.8\", \n",
    "           \"Accept-Language\": \"en-US,en;q=0.5\", \n",
    "           \"Accept-Encoding\": \"gzip, deflate\", \"DNT\": \"1\", \"Connection\": \"close\", \"Upgrade-Insecure-Requests\": \"1\"}\n",
    "cookies = {'JSESSIONID': 'fbadab78eef79d2d'}"
   ]
  },
  {
   "cell_type": "code",
   "execution_count": 3,
   "metadata": {},
   "outputs": [
    {
     "data": {
      "text/plain": [
       "{'Kuala Lumpur': '/city/kuala-lumpur',\n",
       " 'Penang': '/city/bayan-baru',\n",
       " 'Petaling Jaya': '/city/petaling-jaya',\n",
       " 'Subang': '/city/puchong',\n",
       " 'Shah Alam': '/city/shah-alam',\n",
       " 'Cyberjaya': '/city/cyberjaya',\n",
       " 'Johor Bahru': '/city/johor-bahru',\n",
       " 'Melaka': '/city/melaka',\n",
       " 'Kuching': '/city/kuching',\n",
       " 'Miri': '/city/miri',\n",
       " 'Kuantan': '/city/kuantan',\n",
       " 'Bangi': '/city/bangi',\n",
       " 'Ipoh': '/city/ipoh',\n",
       " 'Terengganu': '/city/terengganu',\n",
       " 'Kajang': '/city/kajang',\n",
       " 'Kelantan': '/city/kelantan',\n",
       " 'Putrajaya': '/city/putrajaya',\n",
       " 'Kota-Kinabalu': '/city/kota-kinabalu',\n",
       " 'Klang': '/city/klang',\n",
       " 'Negeri Sembilan': '/city/negeri-sembilan',\n",
       " 'Sungai Petani': '/city/sungai-petani',\n",
       " 'Alor Setar': '/city/alor-setar',\n",
       " 'Kulim': '/city/kulim',\n",
       " 'Rawang': '/city/rawang',\n",
       " 'Taiping': '/city/taiping',\n",
       " 'Sitiawan': '/city/sitiawan',\n",
       " 'Kluang': '/city/kluang',\n",
       " 'Kulai': '/city/kulai',\n",
       " 'Sibu': '/city/sibu',\n",
       " 'Sepang': '/city/sepang',\n",
       " 'Kangar': '/city/kangar',\n",
       " 'Temerloh': '/city/temerloh',\n",
       " 'Bintulu': '/city/bintulu',\n",
       " 'Petra Jaya': '/city/petra-jaya',\n",
       " 'Sandakan': '/city/sandakan',\n",
       " 'Pontian': '/city/pontian',\n",
       " 'Segamat': '/city/segamat',\n",
       " 'Nibong Tebal': '/city/nibong-tebal',\n",
       " 'Kampar': '/city/kampar',\n",
       " 'Ulu Tiram': '/city/ulu-tiram'}"
      ]
     },
     "execution_count": 3,
     "metadata": {},
     "output_type": "execute_result"
    }
   ],
   "source": [
    "import json\n",
    "\n",
    "with open('foodpanda-city.json') as fopen:\n",
    "    cities = json.load(fopen)\n",
    "    \n",
    "cities"
   ]
  },
  {
   "cell_type": "code",
   "execution_count": 4,
   "metadata": {},
   "outputs": [],
   "source": [
    "response = requests.get('https://www.foodpanda.my' + cities['Cyberjaya'], \n",
    "                        headers = headers, cookies = cookies, timeout = 60)"
   ]
  },
  {
   "cell_type": "code",
   "execution_count": 6,
   "metadata": {},
   "outputs": [],
   "source": [
    "soup = BeautifulSoup(response.content, 'html.parser')"
   ]
  },
  {
   "cell_type": "code",
   "execution_count": 7,
   "metadata": {},
   "outputs": [
    {
     "data": {
      "text/plain": [
       "<a class=\"hreview-aggregate url\" data-flood-closed-message=\"\" href=\"/restaurant/n7kt/sabir-restaurant\"> <figure class=\"vendor-tile item\"> <picture>\n",
       "<div class=\"vendor-picture b-lazy\" data-src=\"https://images.deliveryhero.io/image/fd-my/LH/n7kt-listing.jpg?width=400&amp;height=292|https://images.deliveryhero.io/image/fd-my/LH/n7kt-listing.jpg?width=800&amp;height=584\" data-vendor-id=\"8656\"></div>\n",
       "</picture>\n",
       "<figcaption class=\"vendor-info\">\n",
       "<span class=\"headline\">\n",
       "<span class=\"name fn\">Sabir Restaurant</span>\n",
       "<div class=\"ratings-component\">\n",
       "<span class=\"stars\">\n",
       "<img alt=\"\" src=\"https://assets.foodora.com/02c2d36/img/icons/ic-star-sm.svg?02c2d36\">\n",
       "</img></span>\n",
       "<span class=\"rating\"><strong>4</strong>/5</span>\n",
       "<span class=\"count\" data-count=\"(166)\">\n",
       "            166\n",
       "        </span>\n",
       "</div>\n",
       "</span>\n",
       "<ul class=\"categories summary\">\n",
       "<li>\n",
       "<span class=\"budget-symbol--filled\">$</span>\n",
       "<span class=\"budget-symbol--filled\">$</span>\n",
       "<span>$</span>\n",
       "</li>\n",
       "<li class=\"vendor-characteristic\">\n",
       "<span>BBQ</span>\n",
       "<span>Rice</span>\n",
       "<span>Local Champions</span>\n",
       "<span>Middle Eastern</span>\n",
       "</li>\n",
       "</ul>\n",
       "<ul class=\"extra-info mov-df-extra-info\">\n",
       "<li class=\"delivery-fee\">\n",
       "<strong>Free</strong> delivery\n",
       "                                            </li>\n",
       "</ul>\n",
       "</figcaption>\n",
       "</figure>\n",
       "</a>"
      ]
     },
     "execution_count": 7,
     "metadata": {},
     "output_type": "execute_result"
    }
   ],
   "source": [
    "restaurants = soup.find_all(\"a\", class_=\"hreview-aggregate\")\n",
    "restaurants[0]"
   ]
  },
  {
   "cell_type": "code",
   "execution_count": 8,
   "metadata": {},
   "outputs": [
    {
     "name": "stdout",
     "output_type": "stream",
     "text": [
      "Kuala Lumpur\n",
      "Penang\n",
      "Petaling Jaya\n",
      "Subang\n",
      "Shah Alam\n",
      "Cyberjaya\n",
      "Johor Bahru\n",
      "Melaka\n",
      "Kuching\n",
      "Miri\n",
      "Kuantan\n",
      "Bangi\n",
      "Ipoh\n",
      "Terengganu\n",
      "Kajang\n",
      "Kelantan\n",
      "Putrajaya\n",
      "Kota-Kinabalu\n",
      "Klang\n",
      "Negeri Sembilan\n",
      "Sungai Petani\n",
      "Alor Setar\n",
      "Kulim\n",
      "Rawang\n",
      "Taiping\n",
      "Sitiawan\n",
      "Kluang\n",
      "Kulai\n",
      "Sibu\n",
      "Sepang\n",
      "Kangar\n",
      "Temerloh\n",
      "Bintulu\n",
      "Petra Jaya\n",
      "Sandakan\n",
      "Pontian\n",
      "Segamat\n",
      "Nibong Tebal\n",
      "Kampar\n",
      "Ulu Tiram\n"
     ]
    }
   ],
   "source": [
    "city_description = {}\n",
    "\n",
    "for city, link in cities.items():\n",
    "    print(city)\n",
    "    response = requests.get('https://www.foodpanda.my' + link, \n",
    "                        headers = headers, cookies = cookies, timeout = 60)\n",
    "    \n",
    "    soup = BeautifulSoup(response.content, 'html.parser')\n",
    "    restaurants = soup.find_all(\"a\", class_=\"hreview-aggregate\")\n",
    "    \n",
    "    descriptions = {}\n",
    "    for restaurant in restaurants:\n",
    "        name = restaurant.find_all(class_ = 'name fn')[0].contents[0]\n",
    "        try:\n",
    "            star = restaurant.find_all(class_ = 'rating')[0].contents[0].contents[0]\n",
    "        except:\n",
    "            star = 0\n",
    "        delivery = restaurant.find_all(class_ = 'delivery-fee')[0].contents[1].contents[0]\n",
    "\n",
    "        characters = []\n",
    "        for c in restaurant.find_all(class_ = 'vendor-characteristic')[0].contents:\n",
    "            try:\n",
    "                characters.append(c.contents[0])\n",
    "            except:\n",
    "                pass\n",
    "        \n",
    "        descriptions[name] = {'star': star, 'delivery': delivery, 'characters': characters,\n",
    "                             'link': restaurant.get('href')}\n",
    "    \n",
    "    city_description[city] = descriptions"
   ]
  },
  {
   "cell_type": "code",
   "execution_count": 10,
   "metadata": {},
   "outputs": [
    {
     "name": "stdout",
     "output_type": "stream",
     "text": [
      "Kuala Lumpur\n",
      "Penang\n",
      "Petaling Jaya\n",
      "Subang\n",
      "Shah Alam\n",
      "Cyberjaya\n",
      "Johor Bahru\n",
      "Melaka\n",
      "Kuching\n",
      "Miri\n",
      "Kuantan\n",
      "poping <span class=\"__cf_email__\" data-cfemail=\"d98d99adb0b4bc\">[email protected]</span>\n",
      "Bangi\n",
      "Ipoh\n",
      "Terengganu\n",
      "Kajang\n",
      "Kelantan\n",
      "Putrajaya\n",
      "Kota-Kinabalu\n",
      "Klang\n",
      "poping <span class=\"__cf_email__\" data-cfemail=\"80c6d2c9c5cec4d3d4c5d2c0\">[email protected]</span>\n",
      "Negeri Sembilan\n",
      "Sungai Petani\n",
      "Alor Setar\n",
      "poping <span class=\"__cf_email__\" data-cfemail=\"23704b464f4f4c5657636e4248424d\">[email protected]</span>\n",
      "poping <span class=\"__cf_email__\" data-cfemail=\"603705131405120e202b0f10091409010d\">[email protected]</span>\n",
      "Kulim\n",
      "Rawang\n",
      "Taiping\n",
      "Sitiawan\n",
      "Kluang\n",
      "Kulai\n",
      "Sibu\n",
      "Sepang\n",
      "Kangar\n",
      "Temerloh\n",
      "Bintulu\n",
      "Petra Jaya\n",
      "Sandakan\n",
      "Pontian\n",
      "Segamat\n",
      "Nibong Tebal\n",
      "Kampar\n",
      "Ulu Tiram\n"
     ]
    }
   ],
   "source": [
    "import bs4\n",
    "\n",
    "for city, values in city_description.items():\n",
    "    print(city)\n",
    "    keys = list(values.keys())\n",
    "    for k in keys:\n",
    "        if type(k) != bs4.element.NavigableString:\n",
    "            print('poping', k)\n",
    "            values.pop(k)"
   ]
  },
  {
   "cell_type": "code",
   "execution_count": 11,
   "metadata": {},
   "outputs": [],
   "source": [
    "import json\n",
    "\n",
    "with open('foodpanda-restaurant.json', 'w') as fopen:\n",
    "    json.dump(city_description, fopen)"
   ]
  },
  {
   "cell_type": "code",
   "execution_count": null,
   "metadata": {},
   "outputs": [],
   "source": []
  }
 ],
 "metadata": {
  "kernelspec": {
   "display_name": "Python 3",
   "language": "python",
   "name": "python3"
  },
  "language_info": {
   "codemirror_mode": {
    "name": "ipython",
    "version": 3
   },
   "file_extension": ".py",
   "mimetype": "text/x-python",
   "name": "python",
   "nbconvert_exporter": "python",
   "pygments_lexer": "ipython3",
   "version": "3.6.8"
  }
 },
 "nbformat": 4,
 "nbformat_minor": 2
}
